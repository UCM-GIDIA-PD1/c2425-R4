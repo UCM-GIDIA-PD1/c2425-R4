{
 "cells": [
  {
   "cell_type": "markdown",
   "id": "9d250758-a3fb-4373-8919-a23f1efce7eb",
   "metadata": {},
   "source": [
    "# RANKING V3"
   ]
  },
  {
   "cell_type": "markdown",
   "id": "69a1a046-3aa6-4d84-b750-e6e8583ca04f",
   "metadata": {},
   "source": [
    "## Leer Datos"
   ]
  },
  {
   "cell_type": "code",
   "execution_count": 58,
   "id": "a2c636ad-059d-476b-9ce7-4561fe1d3518",
   "metadata": {},
   "outputs": [],
   "source": [
    "import pandas as pd\n",
    "import numpy as np\n",
    "from datetime import datetime, timedelta\n",
    "\n",
    "# Cargar datos\n",
    "data = pd.read_csv(\"df_peleas.csv\")  \n",
    "df = pd.DataFrame(data)"
   ]
  },
  {
   "cell_type": "code",
   "execution_count": 80,
   "id": "54bdf207-7e01-4944-a1e4-fed7ba2a1b24",
   "metadata": {},
   "outputs": [
    {
     "data": {
      "text/plain": [
       "Index(['Unnamed: 0', 'index', 'Peleador_A', 'Peleador_B', 'DATE', 'CATEGORY',\n",
       "       'WINNER', 'METHOD', 'TIME', 'ROUND', 'KD_A', 'KD_B', 'SIG_STR_A',\n",
       "       'SIG_STR_B', 'TD_PORC_A', 'TD_PORC_B', 'SUB_ATT_A', 'SUB_ATT_B',\n",
       "       'REV_A', 'REV_B', 'CTRL_A', 'CTRL_B', 'TOTAL_STR_A_x', 'TOTAL_STR_A_y',\n",
       "       'TOTAL_STR_B_x', 'TOTAL_STR_B_y', 'TD_A_x', 'TD_A_y', 'TD_B_x',\n",
       "       'TD_B_y', 'STR_HEAD_A_x', 'STR_HEAD_A_y', 'STR_HEAD_B_x',\n",
       "       'STR_HEAD_B_y', 'STR_BODY_A_x', 'STR_BODY_A_y', 'STR_BODY_B_x',\n",
       "       'STR_BODY_B_y', 'STR_LEG_A_x', 'STR_LEG_A_y', 'STR_LEG_B_x',\n",
       "       'STR_LEG_B_y', 'STR_DISTANCE_A_x', 'STR_DISTANCE_A_y',\n",
       "       'STR_DISTANCE_B_x', 'STR_DISTANCE_B_y', 'STR_CLINCH_A_x',\n",
       "       'STR_CLINCH_A_y', 'STR_CLINCH_B_x', 'STR_CLINCH_B_y', 'STR_GROUND_A_x',\n",
       "       'STR_GROUND_A_y', 'STR_GROUND_B_x', 'STR_GROUND_B_y', 'TITLE_FIGHT',\n",
       "       'WOMEN'],\n",
       "      dtype='object')"
      ]
     },
     "execution_count": 80,
     "metadata": {},
     "output_type": "execute_result"
    }
   ],
   "source": [
    "df.columns"
   ]
  },
  {
   "cell_type": "markdown",
   "id": "d91648c7-d6a8-4fdf-93ce-5f63f5ea1de7",
   "metadata": {},
   "source": [
    "## Convertir Fechas y Ordenar"
   ]
  },
  {
   "cell_type": "code",
   "execution_count": 62,
   "id": "0bfb2c17-95a6-4da7-9313-a8650259cadc",
   "metadata": {},
   "outputs": [],
   "source": [
    "# Convertir la columna DATE a formato datetime y ordenar de más antigua a más reciente\n",
    "df[\"DATE\"] = pd.to_datetime(df[\"DATE\"], errors='coerce')  \n",
    "df = df.sort_values(by=\"DATE\", ascending=True)"
   ]
  },
  {
   "cell_type": "markdown",
   "id": "f0bfe816-2fdd-4585-94a0-d9ef4640eff2",
   "metadata": {},
   "source": [
    "## Calcular penalizaciones por antigüedad de la pelea"
   ]
  },
  {
   "cell_type": "code",
   "execution_count": 64,
   "id": "60b54ffd-d647-4e30-a218-e55a3acde89a",
   "metadata": {},
   "outputs": [],
   "source": [
    "# Función para calcular la importancia del tiempo con caída gradual\n",
    "def calcular_factor_tiempo(fecha_pelea):\n",
    "    LAMBDA = 0.2  # Penalización más leve para peleas antiguas\n",
    "    años_transcurridos = (datetime.today() - fecha_pelea).days / 365\n",
    "    return np.exp(-LAMBDA * (años_transcurridos ** 1.1))"
   ]
  },
  {
   "cell_type": "markdown",
   "id": "4e0206d9-90ba-41b1-a5e4-d58f697131b4",
   "metadata": {},
   "source": [
    "## Calcular el factor tiempo de pelea"
   ]
  },
  {
   "cell_type": "code",
   "execution_count": 66,
   "id": "2ff9f3f8-968d-40c5-ba13-dd4b8cb57f65",
   "metadata": {},
   "outputs": [],
   "source": [
    "# Función para calcular el tiempo de pelea\n",
    "def calcular_tiempo(pelea):\n",
    "    tiempo = pelea[\"TIME\"]\n",
    "    round_p = (pelea[\"ROUND\"] - 1) * 5 * 60\n",
    "    return round_p + tiempo"
   ]
  },
  {
   "cell_type": "markdown",
   "id": "67db4c7c-bfea-4932-b262-3b3586213d95",
   "metadata": {},
   "source": [
    "## Calcular factor método"
   ]
  },
  {
   "cell_type": "code",
   "execution_count": 68,
   "id": "64b9c684-a096-48bb-b4a6-916b185f0f9a",
   "metadata": {},
   "outputs": [],
   "source": [
    "# Función para obtener factor de método\n",
    "def obtener_factor_metodo(metodo):\n",
    "    factores = {\n",
    "        'KO/TKO': 2.5,\n",
    "        'Submission': 2.4,\n",
    "        'Decision - Unanimous': 1.5,\n",
    "        'Decision - Majority': 1,\n",
    "        'Decision - Split': 0.85,\n",
    "        \"TKO - Doctor's Stoppage\": 1.0\n",
    "    }\n",
    "    return factores.get(metodo, 1)"
   ]
  },
  {
   "cell_type": "markdown",
   "id": "7290d53c-ca80-4f14-8366-40e344d0374b",
   "metadata": {},
   "source": [
    "## Calcular factor Oponente"
   ]
  },
  {
   "cell_type": "code",
   "execution_count": 70,
   "id": "4feb2550-0f2a-4fd5-8134-a9018a195ad4",
   "metadata": {},
   "outputs": [],
   "source": [
    "# Función para calcular el factor de oponente en un rango de 1 a 5\n",
    "def calcular_factor_oponente(puntos_ganador, puntos_perdedor, ganador=True):\n",
    "    if puntos_ganador == 0:\n",
    "        return 1  # Evita división por cero\n",
    "    \n",
    "    ratio = (puntos_perdedor + 100) / (puntos_ganador + 100)\n",
    "    ratio = max(0.5, min(ratio, 2.0))\n",
    "\n",
    "    min_ratio = 0.5\n",
    "    max_ratio = 2.0\n",
    "\n",
    "    factor_oponente = 1 + 9 * ((np.sqrt(ratio) - np.sqrt(min_ratio)) / (np.sqrt(max_ratio) - np.sqrt(min_ratio)))\n",
    "\n",
    "    return max(1, min(5, factor_oponente))"
   ]
  },
  {
   "cell_type": "markdown",
   "id": "dd0007b1-42b8-4927-a7e8-d968cbca75a0",
   "metadata": {},
   "source": [
    "## Calcular Ranking"
   ]
  },
  {
   "cell_type": "code",
   "execution_count": 72,
   "id": "74eff391-e264-4bb5-82f1-cb4e696811ad",
   "metadata": {},
   "outputs": [],
   "source": [
    "# Diccionario para rastrear la información de cada peleador\n",
    "peleadores_historial = {}\n",
    "\n",
    "# DataFrame para almacenar la información histórica de cada pelea\n",
    "df_historico = []\n",
    "\n",
    "# Proceso de cálculo de puntos y almacenamiento de información histórica\n",
    "for i, pelea in df.iterrows():\n",
    "    ganador = pelea[\"WINNER\"]\n",
    "    peleador_a = pelea[\"Peleador_A\"]\n",
    "    peleador_b = pelea[\"Peleador_B\"]\n",
    "    fecha_pelea = pelea[\"DATE\"]\n",
    "    \n",
    "    # Inicializar peleadores si no existen\n",
    "    for peleador in [peleador_a, peleador_b]:\n",
    "        if peleador not in peleadores_historial:\n",
    "            peleadores_historial[peleador] = {\"Puntos\": 0, \"Peleas\": 0, \"Racha\": 0, \"Ultima_Pelea\": None}\n",
    "\n",
    "    # Extraer valores actuales antes de la pelea\n",
    "    puntos_a = peleadores_historial[peleador_a][\"Puntos\"]\n",
    "    puntos_b = peleadores_historial[peleador_b][\"Puntos\"]\n",
    "    racha_a = peleadores_historial[peleador_a][\"Racha\"]\n",
    "    racha_b = peleadores_historial[peleador_b][\"Racha\"]\n",
    "\n",
    "    # Guardar información previa en el histórico\n",
    "    df_historico.append([\n",
    "        fecha_pelea, peleador_a, puntos_a, racha_a, peleadores_historial[peleador_a][\"Peleas\"], pelea[\"CATEGORY\"], peleador_b, \"Ganó\" if ganador == 0 else \"Perdió\"\n",
    "    ])\n",
    "    df_historico.append([\n",
    "        fecha_pelea, peleador_b, puntos_b, racha_b, peleadores_historial[peleador_b][\"Peleas\"], pelea[\"CATEGORY\"], peleador_a, \"Ganó\" if ganador == 1 else \"Perdió\"\n",
    "    ])\n",
    "\n",
    "    # Calcular modificadores\n",
    "    factorTiempo = calcular_factor_tiempo(fecha_pelea)\n",
    "    factorM = obtener_factor_metodo(pelea[\"METHOD\"])\n",
    "    factor_oAW = calcular_factor_oponente(puntos_a, puntos_b, ganador=True)\n",
    "    factor_oAL = calcular_factor_oponente(puntos_a, puntos_b, ganador=False)\n",
    "    factor_oBW = calcular_factor_oponente(puntos_b, puntos_a, ganador=True)\n",
    "    factor_oBL = calcular_factor_oponente(puntos_b, puntos_a, ganador=False)\n",
    "\n",
    "    factorTitleWin = 3 if pelea[\"TITLE_FIGHT\"] else 1\n",
    "    factorTitleLoss = 0.3 if pelea[\"TITLE_FIGHT\"] else 1\n",
    "\n",
    "    # Modificación por racha\n",
    "    racha_A = 1 + 0.15 * peleadores_historial[peleador_a][\"Racha\"]\n",
    "    racha_B = 1 + 0.15 * peleadores_historial[peleador_b][\"Racha\"]\n",
    "\n",
    "    tiempo_total = calcular_tiempo(pelea)\n",
    "    t_pelea = 1500 if pelea[\"TITLE_FIGHT\"] else 900\n",
    "\n",
    "    factorTime = max(1, min(2, 2 - 0.5 * (tiempo_total / t_pelea)))\n",
    "    penalizacionA = (10 * factorTitleLoss * factorTime * factorM * factor_oAL * 3 / max(1, racha_B))\n",
    "    penalizacionB = (10 * factorTitleLoss * factorTime * factorM * factor_oBL * 3 / max(1, racha_A))\n",
    "\n",
    "    # Aplicar cambios en puntos\n",
    "    if ganador == 0:  # Gana A\n",
    "        peleadores_historial[peleador_a][\"Racha\"] += 1\n",
    "        peleadores_historial[peleador_b][\"Racha\"] = 0\n",
    "        peleadores_historial[peleador_a][\"Puntos\"] += (10 * factorTitleWin * factorTime * factorM * factor_oAW * factorTiempo * racha_A)\n",
    "        peleadores_historial[peleador_b][\"Puntos\"] -= penalizacionB * factorTiempo\n",
    "    elif ganador == 1:  # Gana B\n",
    "        peleadores_historial[peleador_b][\"Racha\"] += 1\n",
    "        peleadores_historial[peleador_a][\"Racha\"] = 0\n",
    "        peleadores_historial[peleador_a][\"Puntos\"] -= penalizacionA * factorTiempo\n",
    "        peleadores_historial[peleador_b][\"Puntos\"] += (10 * factorTitleWin * factorTime * factorM * factor_oBW  * factorTiempo * racha_B)\n",
    "\n",
    "    peleadores_historial[peleador_a][\"Puntos\"] = max(0, peleadores_historial[peleador_a][\"Puntos\"])\n",
    "    peleadores_historial[peleador_b][\"Puntos\"] = max(0, peleadores_historial[peleador_b][\"Puntos\"])\n",
    "\n",
    "    # Actualizar número de peleas\n",
    "    peleadores_historial[peleador_a][\"Peleas\"] += 1\n",
    "    peleadores_historial[peleador_b][\"Peleas\"] += 1\n",
    "    peleadores_historial[peleador_a][\"Ultima_Pelea\"] = fecha_pelea\n",
    "    peleadores_historial[peleador_b][\"Ultima_Pelea\"] = fecha_pelea\n",
    "\n",
    "# Convertir el historial a DataFrame\n",
    "df_historico = pd.DataFrame(df_historico, columns=[\"Fecha\", \"Peleador\", \"Puntos\", \"Racha\", \"Peleas\", \"Categoria\", \"Oponente\", \"Resultado\"])\n"
   ]
  },
  {
   "cell_type": "markdown",
   "id": "3399a2a2-098e-4c0e-8e9f-e3629288f3d1",
   "metadata": {},
   "source": [
    "## Eliminar peleadores que no han peleado en más de 3 años"
   ]
  },
  {
   "cell_type": "code",
   "execution_count": null,
   "id": "e6f61772-b9e7-40b0-9a6c-bf17f0ead571",
   "metadata": {},
   "outputs": [],
   "source": [
    "# Filtrar peleadores inactivos\n",
    "#df_historico[\"Fecha\"] = pd.to_datetime(df_historico[\"Fecha\"])\n",
    "#fecha_limite = datetime.today() - timedelta(days=3*365)\n",
    "#df_historico = df_historico[df_historico[\"Fecha\"] >= fecha_limite]\n",
    "# Convertir el diccionario a un DataFrame"
   ]
  },
  {
   "cell_type": "markdown",
   "id": "d76cc571-8da6-4b88-9895-70afdbaf2193",
   "metadata": {},
   "source": [
    "## Mostrar Top 15 LibraxLibra"
   ]
  },
  {
   "cell_type": "code",
   "execution_count": 74,
   "id": "d37124ee-fe4f-4991-afb8-dff173a32846",
   "metadata": {},
   "outputs": [
    {
     "name": "stdout",
     "output_type": "stream",
     "text": [
      "                            Puntos  Peleas  Racha Ultima_Pelea\n",
      "Islam Makhachev        3237.050763      17     15   2025-02-01\n",
      "Jon Jones              2797.502461      24     20   2024-11-23\n",
      "Dricus Du Plessis      2066.763808       9      9   2025-02-15\n",
      "Ilia Topuria           1745.672928       8      8   2024-11-02\n",
      "Alex Pereira           1615.092182      10      5   2024-10-12\n",
      "Merab Dvalishvili      1613.713513      14     12   2025-02-01\n",
      "Sean O'Malley          1304.104663      13      0   2024-09-28\n",
      "Belal Muhammad         1295.996266      19     11   2024-08-03\n",
      "Tom Aspinall           1256.570217       9      3   2024-08-03\n",
      "Valentina Shevchenko   1248.311273      17      2   2024-09-28\n",
      "Charles Oliveira       1167.724423      34      1   2024-11-23\n",
      "Aljamain Sterling      1112.991924      21      0   2024-12-14\n",
      "Alexandre Pantoja      1105.691571      16      7   2024-12-14\n",
      "Zhang Weili            1097.892123      12      5   2025-02-15\n",
      "Alexander Volkanovski  1081.994250      16      0   2024-02-17\n"
     ]
    }
   ],
   "source": [
    "df_peleadores = pd.DataFrame.from_dict(peleadores_historial, orient=\"index\")\n",
    "\n",
    "# Ordenar por puntos y mostrar los 15 mejores\n",
    "df_top15 = df_peleadores.sort_values(by=\"Puntos\", ascending=False).head(15)\n",
    "\n",
    "print(df_top15)"
   ]
  },
  {
   "cell_type": "markdown",
   "id": "021b1a3d-cf2e-4eea-a062-a7aea4fd9c57",
   "metadata": {},
   "source": [
    "## Mostrar Historial Peleador"
   ]
  },
  {
   "cell_type": "code",
   "execution_count": 33,
   "id": "857449f6-2f8a-4eb9-a4e7-c82f9c11d5ce",
   "metadata": {},
   "outputs": [
    {
     "name": "stdout",
     "output_type": "stream",
     "text": [
      "           Fecha      Peleador       Puntos  Racha  Peleas      Categoria  \\\n",
      "11255 2020-10-10  Ilia Topuria     0.000000      0       0  FEATHERWEIGHT   \n",
      "11418 2020-12-05  Ilia Topuria     8.183038      1       1  FEATHERWEIGHT   \n",
      "12013 2021-07-10  Ilia Topuria   112.135368      2       2  FEATHERWEIGHT   \n",
      "12689 2022-03-19  Ilia Topuria   217.301901      3       3    LIGHTWEIGHT   \n",
      "13483 2022-12-10  Ilia Topuria   251.239738      4       4  FEATHERWEIGHT   \n",
      "14017 2023-06-24  Ilia Topuria   359.842077      5       5  FEATHERWEIGHT   \n",
      "14675 2024-02-17  Ilia Topuria   407.239455      6       6  FEATHERWEIGHT   \n",
      "15422 2024-11-02  Ilia Topuria  1472.444461      7       7  FEATHERWEIGHT   \n",
      "\n",
      "                    Oponente Resultado  \n",
      "11255          Youssef Zalal      Ganó  \n",
      "11418          Damon Jackson      Ganó  \n",
      "12013              Ryan Hall      Ganó  \n",
      "12689            Jai Herbert      Ganó  \n",
      "13483         Bryce Mitchell      Ganó  \n",
      "14017            Josh Emmett      Ganó  \n",
      "14675  Alexander Volkanovski      Ganó  \n",
      "15422           Max Holloway      Ganó  \n",
      "{'Puntos': 1745.6729278605335, 'Peleas': 8, 'Racha': 8, 'Ultima_Pelea': Timestamp('2024-11-02 00:00:00')}\n"
     ]
    }
   ],
   "source": [
    "# Mostrar el resultado\n",
    "print(df_historico[df_historico[\"Peleador\"]==\"Ilia Topuria\"])\n",
    "print(peleadores_historial[\"Ilia Topuria\"])"
   ]
  },
  {
   "cell_type": "code",
   "execution_count": null,
   "id": "45b23a2a-2be1-44bd-a23e-4c4ff5f3542c",
   "metadata": {},
   "outputs": [],
   "source": []
  }
 ],
 "metadata": {
  "kernelspec": {
   "display_name": "Python [conda env:base] *",
   "language": "python",
   "name": "conda-base-py"
  },
  "language_info": {
   "codemirror_mode": {
    "name": "ipython",
    "version": 3
   },
   "file_extension": ".py",
   "mimetype": "text/x-python",
   "name": "python",
   "nbconvert_exporter": "python",
   "pygments_lexer": "ipython3",
   "version": "3.12.7"
  }
 },
 "nbformat": 4,
 "nbformat_minor": 5
}
