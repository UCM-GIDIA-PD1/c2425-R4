{
 "cells": [
  {
   "cell_type": "markdown",
   "id": "9d250758-a3fb-4373-8919-a23f1efce7eb",
   "metadata": {},
   "source": [
    "# RANKING V3"
   ]
  },
  {
   "cell_type": "markdown",
   "id": "69a1a046-3aa6-4d84-b750-e6e8583ca04f",
   "metadata": {},
   "source": [
    "## Leer Datos"
   ]
  },
  {
   "cell_type": "code",
   "execution_count": 4,
   "id": "a2c636ad-059d-476b-9ce7-4561fe1d3518",
   "metadata": {},
   "outputs": [],
   "source": [
    "import pandas as pd\n",
    "import numpy as np\n",
    "from datetime import datetime, timedelta\n",
    "\n",
    "# Cargar datos\n",
    "data = pd.read_csv(\"df_peleas.csv\")  \n",
    "df = pd.DataFrame(data)"
   ]
  },
  {
   "cell_type": "code",
   "execution_count": 51,
   "id": "54bdf207-7e01-4944-a1e4-fed7ba2a1b24",
   "metadata": {},
   "outputs": [
    {
     "data": {
      "text/plain": [
       "Index(['Unnamed: 0', 'index', 'Peleador_A', 'Peleador_B', 'DATE', 'CATEGORY',\n",
       "       'WINNER', 'METHOD', 'TIME', 'ROUND', 'KD_A', 'KD_B', 'SIG_STR_A',\n",
       "       'SIG_STR_B', 'TD_PORC_A', 'TD_PORC_B', 'SUB_ATT_A', 'SUB_ATT_B',\n",
       "       'REV_A', 'REV_B', 'CTRL_A', 'CTRL_B', 'TOTAL_STR_A_x', 'TOTAL_STR_A_y',\n",
       "       'TOTAL_STR_B_x', 'TOTAL_STR_B_y', 'TD_A_x', 'TD_A_y', 'TD_B_x',\n",
       "       'TD_B_y', 'STR_HEAD_A_x', 'STR_HEAD_A_y', 'STR_HEAD_B_x',\n",
       "       'STR_HEAD_B_y', 'STR_BODY_A_x', 'STR_BODY_A_y', 'STR_BODY_B_x',\n",
       "       'STR_BODY_B_y', 'STR_LEG_A_x', 'STR_LEG_A_y', 'STR_LEG_B_x',\n",
       "       'STR_LEG_B_y', 'STR_DISTANCE_A_x', 'STR_DISTANCE_A_y',\n",
       "       'STR_DISTANCE_B_x', 'STR_DISTANCE_B_y', 'STR_CLINCH_A_x',\n",
       "       'STR_CLINCH_A_y', 'STR_CLINCH_B_x', 'STR_CLINCH_B_y', 'STR_GROUND_A_x',\n",
       "       'STR_GROUND_A_y', 'STR_GROUND_B_x', 'STR_GROUND_B_y', 'TITLE_FIGHT',\n",
       "       'WOMEN'],\n",
       "      dtype='object')"
      ]
     },
     "execution_count": 51,
     "metadata": {},
     "output_type": "execute_result"
    }
   ],
   "source": [
    "df.columns"
   ]
  },
  {
   "cell_type": "markdown",
   "id": "d91648c7-d6a8-4fdf-93ce-5f63f5ea1de7",
   "metadata": {},
   "source": [
    "## Convertir Fechas y Ordenar"
   ]
  },
  {
   "cell_type": "code",
   "execution_count": 6,
   "id": "0bfb2c17-95a6-4da7-9313-a8650259cadc",
   "metadata": {},
   "outputs": [],
   "source": [
    "# Convertir la columna DATE a formato datetime y ordenar de más antigua a más reciente\n",
    "df[\"DATE\"] = pd.to_datetime(df[\"DATE\"], errors='coerce')  \n",
    "df = df.sort_values(by=\"DATE\", ascending=True)"
   ]
  },
  {
   "cell_type": "markdown",
   "id": "f0bfe816-2fdd-4585-94a0-d9ef4640eff2",
   "metadata": {},
   "source": [
    "## Calcular penalizaciones por antigüedad de la pelea"
   ]
  },
  {
   "cell_type": "code",
   "execution_count": 8,
   "id": "60b54ffd-d647-4e30-a218-e55a3acde89a",
   "metadata": {},
   "outputs": [],
   "source": [
    "# Función para calcular la importancia del tiempo con caída gradual\n",
    "def calcular_factor_tiempo(fecha_pelea):\n",
    "    LAMBDA = 0.2  # Penalización más leve para peleas antiguas\n",
    "    años_transcurridos = (datetime.today() - fecha_pelea).days / 365\n",
    "    return np.exp(-LAMBDA * (años_transcurridos ** 1.1))"
   ]
  },
  {
   "cell_type": "markdown",
   "id": "4e0206d9-90ba-41b1-a5e4-d58f697131b4",
   "metadata": {},
   "source": [
    "## Calcular el factor tiempo de pelea"
   ]
  },
  {
   "cell_type": "code",
   "execution_count": 10,
   "id": "2ff9f3f8-968d-40c5-ba13-dd4b8cb57f65",
   "metadata": {},
   "outputs": [],
   "source": [
    "# Función para calcular el tiempo de pelea\n",
    "def calcular_tiempo(pelea):\n",
    "    tiempo = pelea[\"TIME\"]\n",
    "    round_p = (pelea[\"ROUND\"] - 1) * 5 * 60\n",
    "    return round_p + tiempo"
   ]
  },
  {
   "cell_type": "markdown",
   "id": "67db4c7c-bfea-4932-b262-3b3586213d95",
   "metadata": {},
   "source": [
    "## Calcular factor método"
   ]
  },
  {
   "cell_type": "code",
   "execution_count": 12,
   "id": "64b9c684-a096-48bb-b4a6-916b185f0f9a",
   "metadata": {},
   "outputs": [],
   "source": [
    "# Función para obtener factor de método\n",
    "def obtener_factor_metodo(metodo):\n",
    "    factores = {\n",
    "        'KO/TKO': 2.5,\n",
    "        'Submission': 2.4,\n",
    "        'Decision - Unanimous': 1.5,\n",
    "        'Decision - Majority': 1,\n",
    "        'Decision - Split': 0.85,\n",
    "        \"TKO - Doctor's Stoppage\": 1.0\n",
    "    }\n",
    "    return factores.get(metodo, 1)"
   ]
  },
  {
   "cell_type": "markdown",
   "id": "7290d53c-ca80-4f14-8366-40e344d0374b",
   "metadata": {},
   "source": [
    "## Calcular factor Oponente"
   ]
  },
  {
   "cell_type": "code",
   "execution_count": 14,
   "id": "4feb2550-0f2a-4fd5-8134-a9018a195ad4",
   "metadata": {},
   "outputs": [],
   "source": [
    "# Función para calcular el factor de oponente en un rango de 1 a 5\n",
    "def calcular_factor_oponente(puntos_ganador, puntos_perdedor, ganador=True):\n",
    "    if puntos_ganador == 0:\n",
    "        return 1  # Evita división por cero\n",
    "    \n",
    "    ratio = (puntos_perdedor + 100) / (puntos_ganador + 100)\n",
    "    ratio = max(0.5, min(ratio, 2.0))\n",
    "\n",
    "    min_ratio = 0.5\n",
    "    max_ratio = 2.0\n",
    "\n",
    "    factor_oponente = 1 + 9 * ((np.sqrt(ratio) - np.sqrt(min_ratio)) / (np.sqrt(max_ratio) - np.sqrt(min_ratio)))\n",
    "\n",
    "    return max(1, min(5, factor_oponente))"
   ]
  },
  {
   "cell_type": "markdown",
   "id": "dd0007b1-42b8-4927-a7e8-d968cbca75a0",
   "metadata": {},
   "source": [
    "## Calcular Ranking"
   ]
  },
  {
   "cell_type": "code",
   "execution_count": 66,
   "id": "74eff391-e264-4bb5-82f1-cb4e696811ad",
   "metadata": {},
   "outputs": [
    {
     "name": "stdout",
     "output_type": "stream",
     "text": [
      "           Peleador      Fecha      KD_A  SIG_STR_A  TD_PORC_A  SUB_ATT_A  \\\n",
      "11255  Ilia Topuria 2020-10-10  0.000000   0.000000   0.000000   0.000000   \n",
      "11418  Ilia Topuria 2020-12-05  0.000000   0.390000   0.550000   5.000000   \n",
      "12013  Ilia Topuria 2021-07-10  0.500000   0.440000   0.275000   2.500000   \n",
      "12689  Ilia Topuria 2022-03-19  0.333333   0.480000   0.183333   1.666667   \n",
      "13483  Ilia Topuria 2022-12-10  0.500000   0.480000   0.200000   1.250000   \n",
      "14017  Ilia Topuria 2023-06-24  0.600000   0.486000   0.160000   1.200000   \n",
      "14675  Ilia Topuria 2024-02-17  0.666667   0.478333   0.300000   1.000000   \n",
      "15422  Ilia Topuria 2024-11-02  0.714286   0.474286   0.257143   0.857143   \n",
      "\n",
      "       REV_A      CTRL_A      KD_R  SIG_STR_R  ...  STR_LEG_M_R  \\\n",
      "11255    0.0    0.000000  0.000000   0.000000  ...     0.000000   \n",
      "11418    0.0  482.000000  0.000000   0.320000  ...     1.000000   \n",
      "12013    0.0  242.500000  0.000000   0.310000  ...     0.750000   \n",
      "12689    0.0  188.333333  0.000000   0.400000  ...     0.766667   \n",
      "13483    0.0  181.500000  0.250000   0.385000  ...     0.825000   \n",
      "14017    0.0  160.800000  0.200000   0.394000  ...     0.860000   \n",
      "14675    0.0  169.833333  0.166667   0.375000  ...     0.866667   \n",
      "15422    0.0  146.000000  0.142857   0.382857  ...     0.868908   \n",
      "\n",
      "       STR_DISTANCE_T_R  STR_DISTANCE_M_R  STR_CLINCH_T_R  STR_CLINCH_M_R  \\\n",
      "11255          0.000000          0.000000        0.000000        0.000000   \n",
      "11418          0.300000          0.300000        1.000000        1.000000   \n",
      "12013          0.300000          0.300000        0.750000        0.750000   \n",
      "12689          0.387500          0.387500        0.500000        0.500000   \n",
      "13483          0.371133          0.371133        0.625000        0.625000   \n",
      "14017          0.382983          0.382983        0.700000        0.700000   \n",
      "14675          0.366693          0.366693        0.583333        0.583333   \n",
      "15422          0.375933          0.375933        0.585714        0.585714   \n",
      "\n",
      "       STR_GROUND_T_R  STR_GROUND_M_R  Peleas      Puntos  Racha  \n",
      "11255        0.000000        0.000000       0    0.000000      0  \n",
      "11418        0.000000        0.000000       1    5.443939      1  \n",
      "12013        0.000000        0.000000       2   58.781332      2  \n",
      "12689        0.333333        0.333333       3  130.025669      3  \n",
      "13483        0.416667        0.416667       4  148.882839      4  \n",
      "14017        0.433333        0.433333       5  257.747139      5  \n",
      "14675        0.361111        0.361111       6  318.881988      6  \n",
      "15422        0.309524        0.309524       7  900.120107      7  \n",
      "\n",
      "[8 rows x 49 columns]\n"
     ]
    }
   ],
   "source": [
    "import pandas as pd\n",
    "\n",
    "# Cargar los datos\n",
    "df_peleas = pd.read_csv(\"df_peleas.csv\")\n",
    "df_peleas[\"DATE\"] = pd.to_datetime(df_peleas[\"DATE\"], errors='coerce')\n",
    "\n",
    "df_peleas = df_peleas.sort_values(by=[\"DATE\"])\n",
    "\n",
    "# Diccionario de historial\n",
    "peleadores_historial = {}\n",
    "historial_datos = []\n",
    "df_historico_peleas = []\n",
    "\n",
    "# Columnas a procesar\n",
    "stats_columns = [\"KD\", \"SIG_STR\", \"TD_PORC\", \"SUB_ATT\", \"REV\", \"CTRL\"]\n",
    "stats_columns_2= [\"TD_T\", \"TD_M\",\n",
    "\"TOTAL_STR_T\", \"TOTAL_STR_M\",\n",
    "\"STR_HEAD_T\", \"STR_HEAD_M\",\n",
    "\"STR_BODY_T\", \"STR_BODY_M\",\n",
    "\"STR_LEG_T\", \"STR_LEG_M\",\n",
    "\"STR_DISTANCE_T\", \"STR_DISTANCE_M\",\n",
    "\"STR_CLINCH_T\", \"STR_CLINCH_M\",\n",
    "\"STR_GROUND_T\", \"STR_GROUND_M\"]\n",
    "\n",
    "\n",
    "def obtener_historial(peleador, fecha):\n",
    "    \"\"\"\n",
    "    Devuelve el historial del peleador antes de la pelea.\n",
    "    Si el peleador no tiene historial, devuelve valores iniciales en 0.\n",
    "    \"\"\"\n",
    "    if peleador in peleadores_historial:\n",
    "        return {\"Peleador\": peleador, \"Fecha\": fecha, **peleadores_historial[peleador].copy()}\n",
    "    else:\n",
    "        return {\n",
    "            \"Peleador\": peleador,\n",
    "            \"Fecha\": fecha,\n",
    "            **{stat+\"_A\": 0 for stat in stats_columns},\n",
    "            **{stat+\"_R\": 0 for stat in stats_columns},\n",
    "            **{stat+\"_A\": 0 for stat in stats_columns_2},\n",
    "            **{stat+\"_R\": 0 for stat in stats_columns_2},\n",
    "            \"Peleas\": 0,\n",
    "            \"Puntos\": 0,\n",
    "            \"Racha\": 0\n",
    "        }\n",
    "\n",
    "def actualizar_estadisticas(peleador, stats_nuevas):\n",
    "    \"\"\"\n",
    "    Actualiza las estadísticas de un peleador manteniendo la media acumulativa.\n",
    "    \"\"\"\n",
    "    if peleador not in peleadores_historial:\n",
    "        peleadores_historial[peleador] = stats_nuevas.copy()\n",
    "        peleadores_historial[peleador][\"Peleas\"] = 1\n",
    "        peleadores_historial[peleador][\"Puntos\"] = 0\n",
    "        peleadores_historial[peleador][\"Racha\"] = 0\n",
    "    else:\n",
    "        peleas_previas = peleadores_historial[peleador][\"Peleas\"]\n",
    "        for stat in stats_nuevas:\n",
    "            peleadores_historial[peleador][stat] = (\n",
    "                (peleadores_historial[peleador][stat] * peleas_previas) + stats_nuevas[stat]\n",
    "            ) / (peleas_previas + 1)\n",
    "        peleadores_historial[peleador][\"Peleas\"] += 1\n",
    "\n",
    "# Iterar sobre cada pelea\n",
    "for _, row in df_peleas.iterrows():\n",
    "    peleador_a, peleador_b = row[\"Peleador_A\"], row[\"Peleador_B\"]\n",
    "    fecha_pelea = row[\"DATE\"]\n",
    "    ganador = row[\"WINNER\"]\n",
    "\n",
    "    historial_a = obtener_historial(peleador_a, fecha_pelea)\n",
    "    historial_b = obtener_historial(peleador_b, fecha_pelea)\n",
    "    historial_datos.append(historial_a)\n",
    "    historial_datos.append(historial_b)\n",
    "\n",
    "    pelea_data = {\"Fecha\": fecha_pelea, \"Peleador_A\": peleador_a, \"Peleador_B\": peleador_b}\n",
    "    for stat in stats_columns + stats_columns_2:\n",
    "        pelea_data[stat+\"_A\"] = historial_a.get(stat+\"_A\", 0)\n",
    "        pelea_data[stat+\"_R_A\"] = historial_a.get(stat+\"_R\", 0)\n",
    "        pelea_data[stat+\"_B\"] = historial_b.get(stat+\"_A\", 0)\n",
    "        pelea_data[stat+\"_R_B\"] = historial_b.get(stat+\"_R\", 0)\n",
    "    pelea_data[\"Puntos_A\"] = historial_a[\"Puntos\"]\n",
    "    pelea_data[\"Puntos_B\"] = historial_b[\"Puntos\"]\n",
    "    pelea_data[\"Racha_A\"] = historial_a[\"Racha\"]\n",
    "    pelea_data[\"Racha_B\"] = historial_b[\"Racha\"]\n",
    "    df_historico_peleas.append(pelea_data)\n",
    "    \n",
    "    stats_a = {stat+\"_A\": row[stat+\"_A\"] for stat in stats_columns}\n",
    "    stats_a.update({stat+\"_R\": row[stat+\"_B\"] for stat in stats_columns})\n",
    "    \n",
    "    stats_b = {stat+\"_A\": row[stat+\"_B\"] for stat in stats_columns}\n",
    "    stats_b.update({stat+\"_R\": row[stat+\"_A\"] for stat in stats_columns})\n",
    "\n",
    "    for stat in stats_columns_2:\n",
    "        base_stat = stat[:-2]  # Elimina _T o _M\n",
    "        stats_a[stat+\"_A\"] = row.get(base_stat+\"_A_x\", 0)\n",
    "        stats_a[stat+\"_R\"] = row.get(base_stat+\"_B_x\", 0)\n",
    "        stats_b[stat+\"_A\"] = row.get(base_stat+\"_B_x\", 0)\n",
    "        stats_b[stat+\"_R\"] = row.get(base_stat+\"_A_x\", 0)\n",
    "        \n",
    "        stats_a[stat+\"_A\"] = row.get(base_stat+\"_A_x\", 0) / max(row.get(base_stat+\"_A_y\", 1), 1)\n",
    "        stats_a[stat+\"_R\"] = row.get(base_stat+\"_B_x\", 0) / max(row.get(base_stat+\"_B_y\", 1), 1)\n",
    "        stats_b[stat+\"_A\"] = row.get(base_stat+\"_B_x\", 0) / max(row.get(base_stat+\"_B_y\", 1), 1)\n",
    "        stats_b[stat+\"_R\"] = row.get(base_stat+\"_A_x\", 0) / max(row.get(base_stat+\"_A_y\", 1), 1)\n",
    "            \n",
    "    actualizar_estadisticas(peleador_a, stats_a)\n",
    "    actualizar_estadisticas(peleador_b, stats_b)\n",
    "    \n",
    "    factorTiempo = calcular_factor_tiempo(fecha_pelea)\n",
    "    factorM = obtener_factor_metodo(row[\"METHOD\"])\n",
    "    factor_oAW = calcular_factor_oponente(peleadores_historial[peleador_a][\"Puntos\"], peleadores_historial[peleador_b][\"Puntos\"], ganador=True)\n",
    "    factor_oAL = calcular_factor_oponente(peleadores_historial[peleador_a][\"Puntos\"], peleadores_historial[peleador_b][\"Puntos\"], ganador=False)\n",
    "    factor_oBW = calcular_factor_oponente(peleadores_historial[peleador_b][\"Puntos\"], peleadores_historial[peleador_a][\"Puntos\"], ganador=True)\n",
    "    factor_oBL = calcular_factor_oponente(peleadores_historial[peleador_b][\"Puntos\"], peleadores_historial[peleador_a][\"Puntos\"], ganador=False)\n",
    "    \n",
    "    factorTitleWin = 3 if row[\"TITLE_FIGHT\"] else 1\n",
    "    factorTitleLoss = 0.3 if row[\"TITLE_FIGHT\"] else 1\n",
    "    \n",
    "    racha_A = 1 + 0.15 * peleadores_historial[peleador_a][\"Racha\"]\n",
    "    racha_B = 1 + 0.15 * peleadores_historial[peleador_b][\"Racha\"]\n",
    "\n",
    "    \n",
    "    if ganador == 0:\n",
    "        peleadores_historial[peleador_a][\"Racha\"] += 1\n",
    "        peleadores_historial[peleador_b][\"Racha\"] = 0\n",
    "        peleadores_historial[peleador_a][\"Puntos\"] += (10 * factorTitleWin * factorM * factor_oAW * factorTiempo * racha_A)\n",
    "        peleadores_historial[peleador_b][\"Puntos\"] -= (10 * factorTitleLoss * factorM * factor_oBL * factorTiempo)\n",
    "    elif ganador == 1:\n",
    "        peleadores_historial[peleador_b][\"Racha\"] += 1\n",
    "        peleadores_historial[peleador_a][\"Racha\"] = 0\n",
    "        peleadores_historial[peleador_b][\"Puntos\"] += (10 * factorTitleWin * factorM * factor_oBW * factorTiempo * racha_B)\n",
    "        peleadores_historial[peleador_a][\"Puntos\"] -= (10 * factorTitleLoss * factorM * factor_oAL * factorTiempo)\n",
    "    \n",
    "    peleadores_historial[peleador_a][\"Puntos\"] = max(0, peleadores_historial[peleador_a][\"Puntos\"])\n",
    "    peleadores_historial[peleador_b][\"Puntos\"] = max(0, peleadores_historial[peleador_b][\"Puntos\"])\n",
    "   \n",
    "# Convertir el diccionario a un DataFrame\n",
    "\n",
    "df_historico_peleas = pd.DataFrame(df_historico_peleas)\n",
    "df_historico_peleas.to_csv(\"historial_peleas.csv\", index=False)\n",
    "df_historico = pd.DataFrame(historial_datos)\n",
    "print(df_historico[df_historico[\"Peleador\"]==\"Ilia Topuria\"])\n",
    "\n",
    "\n"
   ]
  },
  {
   "cell_type": "markdown",
   "id": "3399a2a2-098e-4c0e-8e9f-e3629288f3d1",
   "metadata": {},
   "source": [
    "## Eliminar peleadores que no han peleado en más de 3 años"
   ]
  },
  {
   "cell_type": "code",
   "execution_count": null,
   "id": "e6f61772-b9e7-40b0-9a6c-bf17f0ead571",
   "metadata": {},
   "outputs": [],
   "source": [
    "# Filtrar peleadores inactivos\n",
    "#df_historico[\"Fecha\"] = pd.to_datetime(df_historico[\"Fecha\"])\n",
    "#fecha_limite = datetime.today() - timedelta(days=3*365)\n",
    "#df_historico = df_historico[df_historico[\"Fecha\"] >= fecha_limite]\n",
    "# Convertir el diccionario a un DataFrame"
   ]
  },
  {
   "cell_type": "markdown",
   "id": "d76cc571-8da6-4b88-9895-70afdbaf2193",
   "metadata": {},
   "source": [
    "## Mostrar Top 15 LibraxLibra"
   ]
  },
  {
   "cell_type": "code",
   "execution_count": 64,
   "id": "d37124ee-fe4f-4991-afb8-dff173a32846",
   "metadata": {},
   "outputs": [
    {
     "name": "stdout",
     "output_type": "stream",
     "text": [
      "                           KD_A  SIG_STR_A  TD_PORC_A  SUB_ATT_A     REV_A  \\\n",
      "Islam Makhachev        0.235294   0.568824   0.511765   0.764706  0.176471   \n",
      "Jon Jones              0.250000   0.592083   0.548750   0.458333  0.000000   \n",
      "Dricus Du Plessis      0.444444   0.506667   0.497778   0.666667  0.111111   \n",
      "Ilia Topuria           0.750000   0.480000   0.350000   0.750000  0.000000   \n",
      "Merab Dvalishvili      0.071429   0.429286   0.427143   0.285714  0.000000   \n",
      "Alex Pereira           0.700000   0.651000   0.100000   0.200000  0.000000   \n",
      "Belal Muhammad         0.000000   0.425263   0.291579   0.157895  0.000000   \n",
      "Valentina Shevchenko   0.058824   0.575294   0.722353   0.411765  0.058824   \n",
      "Alexander Volkanovski  0.375000   0.571250   0.259375   0.187500  0.187500   \n",
      "Tom Aspinall           0.555556   0.698889   0.333333   0.222222  0.000000   \n",
      "Sean O'Malley          0.461538   0.604615   0.038462   0.230769  0.076923   \n",
      "Zhang Weili            0.250000   0.585000   0.332500   0.500000  0.166667   \n",
      "Charles Oliveira       0.235294   0.531176   0.379412   1.352941  0.205882   \n",
      "Kamaru Usman           0.555556   0.537222   0.383333   0.111111  0.000000   \n",
      "Aljamain Sterling      0.000000   0.519048   0.351905   0.619048  0.190476   \n",
      "\n",
      "                           CTRL_A      KD_R  SIG_STR_R  TD_PORC_R  SUB_ATT_R  \\\n",
      "Islam Makhachev        290.529412  0.117647   0.401176   0.034118   0.235294   \n",
      "Jon Jones              211.250000  0.000000   0.358750   0.010000   0.041667   \n",
      "Dricus Du Plessis      111.222222  0.000000   0.435556   0.277778   0.111111   \n",
      "Ilia Topuria           133.375000  0.125000   0.382500   0.013750   0.125000   \n",
      "Merab Dvalishvili      367.285714  0.071429   0.428571   0.071429   0.071429   \n",
      "Alex Pereira            13.900000  0.100000   0.446000   0.148000   0.200000   \n",
      "Belal Muhammad         218.684211  0.315789   0.442632   0.089474   0.052632   \n",
      "Valentina Shevchenko   347.705882  0.058824   0.374706   0.192941   0.529412   \n",
      "Alexander Volkanovski  209.000000  0.187500   0.435625   0.203125   0.187500   \n",
      "Tom Aspinall            34.000000  0.000000   0.305556   0.000000   0.000000   \n",
      "Sean O'Malley            9.076923  0.000000   0.411538   0.148462   0.000000   \n",
      "Zhang Weili            284.500000  0.166667   0.436667   0.192500   0.250000   \n",
      "Charles Oliveira       136.558824  0.147059   0.469706   0.233824   0.294118   \n",
      "Kamaru Usman           446.833333  0.055556   0.475556   0.029444   0.388889   \n",
      "Aljamain Sterling      262.571429  0.238095   0.377619   0.247143   0.047619   \n",
      "\n",
      "                       ...  STR_CLINCH_T_R  STR_CLINCH_M_A  STR_CLINCH_M_R  \\\n",
      "Islam Makhachev        ...        0.520687        0.535971        0.520687   \n",
      "Jon Jones              ...        0.453187        0.637566        0.453187   \n",
      "Dricus Du Plessis      ...        0.594444        0.503339        0.594444   \n",
      "Ilia Topuria           ...        0.512500        0.531250        0.512500   \n",
      "Merab Dvalishvili      ...        0.530777        0.654613        0.530777   \n",
      "Alex Pereira           ...        0.478846        0.687049        0.478846   \n",
      "Belal Muhammad         ...        0.550961        0.364680        0.550961   \n",
      "Valentina Shevchenko   ...        0.598028        0.652912        0.598028   \n",
      "Alexander Volkanovski  ...        0.687727        0.719511        0.687727   \n",
      "Tom Aspinall           ...        0.055556        0.294444        0.055556   \n",
      "Sean O'Malley          ...        0.374273        0.444139        0.374273   \n",
      "Zhang Weili            ...        0.693056        0.696462        0.693056   \n",
      "Charles Oliveira       ...        0.371744        0.547293        0.371744   \n",
      "Kamaru Usman           ...        0.610185        0.682295        0.610185   \n",
      "Aljamain Sterling      ...        0.507302        0.662857        0.507302   \n",
      "\n",
      "                       STR_GROUND_T_A  STR_GROUND_T_R  STR_GROUND_M_A  \\\n",
      "Islam Makhachev              0.666025        0.338235        0.666025   \n",
      "Jon Jones                    0.587135        0.166667        0.587135   \n",
      "Dricus Du Plessis            0.631618        0.317284        0.631618   \n",
      "Ilia Topuria                 0.774142        0.270833        0.774142   \n",
      "Merab Dvalishvili            0.516856        0.437925        0.516856   \n",
      "Alex Pereira                 0.497619        0.448889        0.497619   \n",
      "Belal Muhammad               0.415664        0.268031        0.415664   \n",
      "Valentina Shevchenko         0.833825        0.343896        0.833825   \n",
      "Alexander Volkanovski        0.489988        0.291667        0.489988   \n",
      "Tom Aspinall                 0.645455        0.000000        0.645455   \n",
      "Sean O'Malley                0.470085        0.270989        0.470085   \n",
      "Zhang Weili                  0.674976        0.275867        0.674976   \n",
      "Charles Oliveira             0.585569        0.460404        0.585569   \n",
      "Kamaru Usman                 0.771260        0.407843        0.771260   \n",
      "Aljamain Sterling            0.548306        0.321225        0.548306   \n",
      "\n",
      "                       STR_GROUND_M_R  Peleas       Puntos  Racha  \n",
      "Islam Makhachev              0.338235      17  2010.455001     15  \n",
      "Jon Jones                    0.166667      24  1565.885643     20  \n",
      "Dricus Du Plessis            0.317284       9  1366.360408      9  \n",
      "Ilia Topuria                 0.270833       8  1185.176833      8  \n",
      "Merab Dvalishvili            0.437925      14  1112.874704     12  \n",
      "Alex Pereira                 0.448889      10  1037.968008      5  \n",
      "Belal Muhammad               0.268031      19   956.069409     11  \n",
      "Valentina Shevchenko         0.343896      17   826.325969      2  \n",
      "Alexander Volkanovski        0.291667      16   773.108778      0  \n",
      "Tom Aspinall                 0.000000       9   750.514720      3  \n",
      "Sean O'Malley                0.270989      13   747.495613      0  \n",
      "Zhang Weili                  0.275867      12   743.720924      5  \n",
      "Charles Oliveira             0.460404      34   722.720758      1  \n",
      "Kamaru Usman                 0.407843      18   721.431006      0  \n",
      "Aljamain Sterling            0.321225      21   708.926383      0  \n",
      "\n",
      "[15 rows x 47 columns]\n"
     ]
    }
   ],
   "source": [
    "df_peleadores = pd.DataFrame.from_dict(peleadores_historial, orient=\"index\")\n",
    "\n",
    "# Ordenar por puntos y mostrar los 15 mejores\n",
    "df_top15 = df_peleadores.sort_values(by=\"Puntos\", ascending=False).head(15)\n",
    "\n",
    "print(df_top15)"
   ]
  },
  {
   "cell_type": "markdown",
   "id": "021b1a3d-cf2e-4eea-a062-a7aea4fd9c57",
   "metadata": {},
   "source": [
    "## Mostrar Historial Peleador"
   ]
  },
  {
   "cell_type": "code",
   "execution_count": 43,
   "id": "857449f6-2f8a-4eb9-a4e7-c82f9c11d5ce",
   "metadata": {},
   "outputs": [
    {
     "data": {
      "text/plain": [
       "{'Puntos': 14.979079981230205,\n",
       " 'Peleas': 3,\n",
       " 'Racha': 1,\n",
       " 'Ultima_Pelea': Timestamp('2025-02-15 00:00:00')}"
      ]
     },
     "execution_count": 43,
     "metadata": {},
     "output_type": "execute_result"
    }
   ],
   "source": [
    "# Mostrar el resultado\n",
    "peleadores_historial[\"Wang Cong\"]"
   ]
  },
  {
   "cell_type": "code",
   "execution_count": null,
   "id": "45b23a2a-2be1-44bd-a23e-4c4ff5f3542c",
   "metadata": {},
   "outputs": [],
   "source": []
  }
 ],
 "metadata": {
  "kernelspec": {
   "display_name": "base",
   "language": "python",
   "name": "python3"
  },
  "language_info": {
   "codemirror_mode": {
    "name": "ipython",
    "version": 3
   },
   "file_extension": ".py",
   "mimetype": "text/x-python",
   "name": "python",
   "nbconvert_exporter": "python",
   "pygments_lexer": "ipython3",
   "version": "3.12.7"
  }
 },
 "nbformat": 4,
 "nbformat_minor": 5
}
