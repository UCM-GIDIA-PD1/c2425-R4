{
 "cells": [
  {
   "cell_type": "markdown",
   "id": "9d250758-a3fb-4373-8919-a23f1efce7eb",
   "metadata": {},
   "source": [
    "# RANKING V3"
   ]
  },
  {
   "cell_type": "markdown",
   "id": "69a1a046-3aa6-4d84-b750-e6e8583ca04f",
   "metadata": {},
   "source": [
    "## Leer Datos"
   ]
  },
  {
   "cell_type": "code",
   "execution_count": 49,
   "id": "a2c636ad-059d-476b-9ce7-4561fe1d3518",
   "metadata": {},
   "outputs": [],
   "source": [
    "import pandas as pd\n",
    "import numpy as np\n",
    "from datetime import datetime, timedelta\n",
    "\n",
    "# Cargar datos\n",
    "data = pd.read_csv(\"df_peleas.csv\")  \n",
    "df = pd.DataFrame(data)"
   ]
  },
  {
   "cell_type": "code",
   "execution_count": 51,
   "id": "54bdf207-7e01-4944-a1e4-fed7ba2a1b24",
   "metadata": {},
   "outputs": [
    {
     "data": {
      "text/plain": [
       "Index(['Unnamed: 0', 'index', 'Peleador_A', 'Peleador_B', 'DATE', 'CATEGORY',\n",
       "       'WINNER', 'METHOD', 'TIME', 'ROUND', 'KD_A', 'KD_B', 'SIG_STR_A',\n",
       "       'SIG_STR_B', 'TD_PORC_A', 'TD_PORC_B', 'SUB_ATT_A', 'SUB_ATT_B',\n",
       "       'REV_A', 'REV_B', 'CTRL_A', 'CTRL_B', 'TOTAL_STR_A_x', 'TOTAL_STR_A_y',\n",
       "       'TOTAL_STR_B_x', 'TOTAL_STR_B_y', 'TD_A_x', 'TD_A_y', 'TD_B_x',\n",
       "       'TD_B_y', 'STR_HEAD_A_x', 'STR_HEAD_A_y', 'STR_HEAD_B_x',\n",
       "       'STR_HEAD_B_y', 'STR_BODY_A_x', 'STR_BODY_A_y', 'STR_BODY_B_x',\n",
       "       'STR_BODY_B_y', 'STR_LEG_A_x', 'STR_LEG_A_y', 'STR_LEG_B_x',\n",
       "       'STR_LEG_B_y', 'STR_DISTANCE_A_x', 'STR_DISTANCE_A_y',\n",
       "       'STR_DISTANCE_B_x', 'STR_DISTANCE_B_y', 'STR_CLINCH_A_x',\n",
       "       'STR_CLINCH_A_y', 'STR_CLINCH_B_x', 'STR_CLINCH_B_y', 'STR_GROUND_A_x',\n",
       "       'STR_GROUND_A_y', 'STR_GROUND_B_x', 'STR_GROUND_B_y', 'TITLE_FIGHT',\n",
       "       'WOMEN'],\n",
       "      dtype='object')"
      ]
     },
     "execution_count": 51,
     "metadata": {},
     "output_type": "execute_result"
    }
   ],
   "source": [
    "df.columns"
   ]
  },
  {
   "cell_type": "markdown",
   "id": "d91648c7-d6a8-4fdf-93ce-5f63f5ea1de7",
   "metadata": {},
   "source": [
    "## Convertir Fechas y Ordenar"
   ]
  },
  {
   "cell_type": "code",
   "execution_count": 53,
   "id": "0bfb2c17-95a6-4da7-9313-a8650259cadc",
   "metadata": {},
   "outputs": [],
   "source": [
    "# Convertir la columna DATE a formato datetime y ordenar de más antigua a más reciente\n",
    "df[\"DATE\"] = pd.to_datetime(df[\"DATE\"], errors='coerce')  \n",
    "df = df.sort_values(by=\"DATE\", ascending=True)"
   ]
  },
  {
   "cell_type": "markdown",
   "id": "f0bfe816-2fdd-4585-94a0-d9ef4640eff2",
   "metadata": {},
   "source": [
    "## Calcular penalizaciones por antigüedad de la pelea"
   ]
  },
  {
   "cell_type": "code",
   "execution_count": 55,
   "id": "60b54ffd-d647-4e30-a218-e55a3acde89a",
   "metadata": {},
   "outputs": [],
   "source": [
    "# Función para calcular la importancia del tiempo con caída gradual\n",
    "def calcular_factor_tiempo(fecha_pelea):\n",
    "    LAMBDA = 0.2  # Penalización más leve para peleas antiguas\n",
    "    años_transcurridos = (datetime.today() - fecha_pelea).days / 365\n",
    "    return np.exp(-LAMBDA * (años_transcurridos ** 1.1))"
   ]
  },
  {
   "cell_type": "markdown",
   "id": "4e0206d9-90ba-41b1-a5e4-d58f697131b4",
   "metadata": {},
   "source": [
    "## Calcular el factor tiempo de pelea"
   ]
  },
  {
   "cell_type": "code",
   "execution_count": 57,
   "id": "2ff9f3f8-968d-40c5-ba13-dd4b8cb57f65",
   "metadata": {},
   "outputs": [],
   "source": [
    "# Función para calcular el tiempo de pelea\n",
    "def calcular_tiempo(pelea):\n",
    "    tiempo = pelea[\"TIME\"]\n",
    "    round_p = (pelea[\"ROUND\"] - 1) * 5 * 60\n",
    "    return round_p + tiempo"
   ]
  },
  {
   "cell_type": "markdown",
   "id": "67db4c7c-bfea-4932-b262-3b3586213d95",
   "metadata": {},
   "source": [
    "## Calcular factor método"
   ]
  },
  {
   "cell_type": "code",
   "execution_count": 59,
   "id": "64b9c684-a096-48bb-b4a6-916b185f0f9a",
   "metadata": {},
   "outputs": [],
   "source": [
    "# Función para obtener factor de método\n",
    "def obtener_factor_metodo(metodo):\n",
    "    factores = {\n",
    "        'KO/TKO': 2.5,\n",
    "        'Submission': 2.4,\n",
    "        'Decision - Unanimous': 1.5,\n",
    "        'Decision - Majority': 1,\n",
    "        'Decision - Split': 0.85,\n",
    "        \"TKO - Doctor's Stoppage\": 1.0\n",
    "    }\n",
    "    return factores.get(metodo, 1)"
   ]
  },
  {
   "cell_type": "markdown",
   "id": "7290d53c-ca80-4f14-8366-40e344d0374b",
   "metadata": {},
   "source": [
    "## Calcular factor Oponente"
   ]
  },
  {
   "cell_type": "code",
   "execution_count": 61,
   "id": "4feb2550-0f2a-4fd5-8134-a9018a195ad4",
   "metadata": {},
   "outputs": [],
   "source": [
    "# Función para calcular el factor de oponente en un rango de 1 a 5\n",
    "def calcular_factor_oponente(puntos_ganador, puntos_perdedor, ganador=True):\n",
    "    if puntos_ganador == 0:\n",
    "        return 1  # Evita división por cero\n",
    "    \n",
    "    ratio = (puntos_perdedor + 100) / (puntos_ganador + 100)\n",
    "    ratio = max(0.5, min(ratio, 2.0))\n",
    "\n",
    "    min_ratio = 0.5\n",
    "    max_ratio = 2.0\n",
    "\n",
    "    factor_oponente = 1 + 9 * ((np.sqrt(ratio) - np.sqrt(min_ratio)) / (np.sqrt(max_ratio) - np.sqrt(min_ratio)))\n",
    "\n",
    "    return max(1, min(5, factor_oponente))"
   ]
  },
  {
   "cell_type": "markdown",
   "id": "dd0007b1-42b8-4927-a7e8-d968cbca75a0",
   "metadata": {},
   "source": [
    "## Calcular Ranking"
   ]
  },
  {
   "cell_type": "code",
   "execution_count": 75,
   "id": "74eff391-e264-4bb5-82f1-cb4e696811ad",
   "metadata": {},
   "outputs": [
    {
     "data": {
      "text/plain": [
       "{'KD_A': 0.75,\n",
       " 'SIG_STR_A': 0.48,\n",
       " 'TD_PORC_A': 0.35,\n",
       " 'SUB_ATT_A': 0.75,\n",
       " 'REV_A': 0.0,\n",
       " 'CTRL_A': 133.375,\n",
       " 'KD_R': 0.125,\n",
       " 'SIG_STR_R': 0.3825,\n",
       " 'TD_PORC_R': 0.013749999999999998,\n",
       " 'SUB_ATT_R': 0.125,\n",
       " 'REV_R': 0.375,\n",
       " 'CTRL_R': 35.0,\n",
       " 'Peleas': 8,\n",
       " 'Puntos': 1186.5179343335567,\n",
       " 'Racha': 8,\n",
       " 'Ultima_Pelea': Timestamp('2024-11-02 00:00:00')}"
      ]
     },
     "execution_count": 75,
     "metadata": {},
     "output_type": "execute_result"
    }
   ],
   "source": [
    "import pandas as pd\n",
    "\n",
    "# Cargar los datos\n",
    "df_peleas = pd.read_csv(\"df_peleas.csv\")\n",
    "df_peleas[\"DATE\"] = pd.to_datetime(df_peleas[\"DATE\"], errors='coerce')\n",
    "\n",
    "df_peleas = df_peleas.sort_values(by=[\"DATE\"])\n",
    "\n",
    "# Diccionario de historial\n",
    "peleadores_historial = {}\n",
    "df_historico = []\n",
    "\n",
    "# Columnas a procesar\n",
    "stats_columns = [\"KD\", \"SIG_STR\", \"TD_PORC\", \"SUB_ATT\", \"REV\", \"CTRL\", \"TOTAL_STR_T\", \"TOTAL_STR_M\"]\n",
    "stats_columns_2= [\"TD_T\", \"TD_M\",\n",
    "\"STR_HEAD_T\", \"STR_HEAD_M\",\n",
    "\"STR_BODY_T\", \"STR_BODY_M\",\n",
    "\"STR_LEG_T\", \"STR_LEG_M\",\n",
    "\"STR_DISTANCE_T\", \"STR_DISTANCE_M\",\n",
    "\"STR_CLINCH_T\", \"STR_CLINCH_M\",\n",
    "\"STR_GROUND_T\", \"STR_GROUND_M\"]\n",
    "\n",
    "def actualizar_estadisticas(peleador, stats_nuevas):\n",
    "    \"\"\"\n",
    "    Actualiza las estadísticas de un peleador manteniendo la media acumulativa.\n",
    "    \"\"\"\n",
    "    if peleador not in peleadores_historial:\n",
    "        peleadores_historial[peleador] = {stat+\"_A\": stats_nuevas[stat+\"_A\"] for stat in stats_columns}\n",
    "        peleadores_historial[peleador].update({stat+\"_R\": stats_nuevas[stat+\"_R\"] for stat in stats_columns})\n",
    "        peleadores_historial[peleador][\"Peleas\"] = 1\n",
    "        peleadores_historial[peleador][\"Puntos\"] = 0\n",
    "        peleadores_historial[peleador][\"Racha\"] = 0\n",
    "    else:\n",
    "        peleas_previas = peleadores_historial[peleador][\"Peleas\"]\n",
    "        for stat in stats_columns:\n",
    "            peleadores_historial[peleador][stat+\"_A\"] = (\n",
    "                (peleadores_historial[peleador][stat+\"_A\"] * peleas_previas) + stats_nuevas[stat+\"_A\"]\n",
    "            ) / (peleas_previas + 1)\n",
    "            \n",
    "            peleadores_historial[peleador][stat+\"_R\"] = (\n",
    "                (peleadores_historial[peleador][stat+\"_R\"] * peleas_previas) + stats_nuevas[stat+\"_R\"]\n",
    "            ) / (peleas_previas + 1)\n",
    "        \n",
    "        peleadores_historial[peleador][\"Peleas\"] += 1\n",
    "\n",
    "# Iterar sobre cada pelea\n",
    "for _, row in df_peleas.iterrows():\n",
    "    peleador_a, peleador_b = row[\"Peleador_A\"], row[\"Peleador_B\"]\n",
    "    fecha_pelea = row[\"DATE\"]\n",
    "    ganador = row[\"WINNER\"]\n",
    "    \n",
    "    stats_a = {stat+\"_A\": row[stat+\"_A\"] for stat in stats_columns}\n",
    "    stats_a.update({stat+\"_R\": row[stat+\"_B\"] for stat in stats_columns})\n",
    "    \n",
    "    stats_b = {stat+\"_A\": row[stat+\"_B\"] for stat in stats_columns}\n",
    "    stats_b.update({stat+\"_R\": row[stat+\"_A\"] for stat in stats_columns})\n",
    "    \n",
    "    actualizar_estadisticas(peleador_a, stats_a)\n",
    "    actualizar_estadisticas(peleador_b, stats_b)\n",
    "    \n",
    "    factorTiempo = calcular_factor_tiempo(fecha_pelea)\n",
    "    factorM = obtener_factor_metodo(row[\"METHOD\"])\n",
    "    factor_oAW = calcular_factor_oponente(peleadores_historial[peleador_a][\"Puntos\"], peleadores_historial[peleador_b][\"Puntos\"], ganador=True)\n",
    "    factor_oAL = calcular_factor_oponente(peleadores_historial[peleador_a][\"Puntos\"], peleadores_historial[peleador_b][\"Puntos\"], ganador=False)\n",
    "    factor_oBW = calcular_factor_oponente(peleadores_historial[peleador_b][\"Puntos\"], peleadores_historial[peleador_a][\"Puntos\"], ganador=True)\n",
    "    factor_oBL = calcular_factor_oponente(peleadores_historial[peleador_b][\"Puntos\"], peleadores_historial[peleador_a][\"Puntos\"], ganador=False)\n",
    "    \n",
    "    factorTitleWin = 3 if row[\"TITLE_FIGHT\"] else 1\n",
    "    factorTitleLoss = 0.3 if row[\"TITLE_FIGHT\"] else 1\n",
    "    \n",
    "    racha_A = 1 + 0.15 * peleadores_historial[peleador_a][\"Racha\"]\n",
    "    racha_B = 1 + 0.15 * peleadores_historial[peleador_b][\"Racha\"]\n",
    "    \n",
    "    if ganador == 0:\n",
    "        peleadores_historial[peleador_a][\"Racha\"] += 1\n",
    "        peleadores_historial[peleador_b][\"Racha\"] = 0\n",
    "        peleadores_historial[peleador_a][\"Puntos\"] += (10 * factorTitleWin * factorM * factor_oAW * factorTiempo * racha_A)\n",
    "        peleadores_historial[peleador_b][\"Puntos\"] -= (10 * factorTitleLoss * factorM * factor_oBL * factorTiempo)\n",
    "    elif ganador == 1:\n",
    "        peleadores_historial[peleador_b][\"Racha\"] += 1\n",
    "        peleadores_historial[peleador_a][\"Racha\"] = 0\n",
    "        peleadores_historial[peleador_b][\"Puntos\"] += (10 * factorTitleWin * factorM * factor_oBW * factorTiempo * racha_B)\n",
    "        peleadores_historial[peleador_a][\"Puntos\"] -= (10 * factorTitleLoss * factorM * factor_oAL * factorTiempo)\n",
    "    \n",
    "    peleadores_historial[peleador_a][\"Puntos\"] = max(0, peleadores_historial[peleador_a][\"Puntos\"])\n",
    "    peleadores_historial[peleador_b][\"Puntos\"] = max(0, peleadores_historial[peleador_b][\"Puntos\"])\n",
    "    peleadores_historial[peleador_a][\"Ultima_Pelea\"] = fecha_pelea\n",
    "    peleadores_historial[peleador_b][\"Ultima_Pelea\"] = fecha_pelea\n",
    "# Convertir el diccionario a un DataFrame\n",
    "\n"
   ]
  },
  {
   "cell_type": "markdown",
   "id": "3399a2a2-098e-4c0e-8e9f-e3629288f3d1",
   "metadata": {},
   "source": [
    "## Eliminar peleadores que no han peleado en más de 3 años"
   ]
  },
  {
   "cell_type": "code",
   "execution_count": null,
   "id": "e6f61772-b9e7-40b0-9a6c-bf17f0ead571",
   "metadata": {},
   "outputs": [],
   "source": [
    "# Filtrar peleadores inactivos\n",
    "#df_historico[\"Fecha\"] = pd.to_datetime(df_historico[\"Fecha\"])\n",
    "#fecha_limite = datetime.today() - timedelta(days=3*365)\n",
    "#df_historico = df_historico[df_historico[\"Fecha\"] >= fecha_limite]\n",
    "# Convertir el diccionario a un DataFrame"
   ]
  },
  {
   "cell_type": "markdown",
   "id": "d76cc571-8da6-4b88-9895-70afdbaf2193",
   "metadata": {},
   "source": [
    "## Mostrar Top 15 LibraxLibra"
   ]
  },
  {
   "cell_type": "code",
   "execution_count": 77,
   "id": "d37124ee-fe4f-4991-afb8-dff173a32846",
   "metadata": {},
   "outputs": [
    {
     "name": "stdout",
     "output_type": "stream",
     "text": [
      "                           KD_A  SIG_STR_A  TD_PORC_A  SUB_ATT_A     REV_A  \\\n",
      "Islam Makhachev        0.235294   0.568824   0.511765   0.764706  0.176471   \n",
      "Jon Jones              0.250000   0.592083   0.548750   0.458333  0.000000   \n",
      "Dricus Du Plessis      0.444444   0.506667   0.497778   0.666667  0.111111   \n",
      "Ilia Topuria           0.750000   0.480000   0.350000   0.750000  0.000000   \n",
      "Merab Dvalishvili      0.071429   0.429286   0.427143   0.285714  0.000000   \n",
      "Alex Pereira           0.700000   0.651000   0.100000   0.200000  0.000000   \n",
      "Belal Muhammad         0.000000   0.425263   0.291579   0.157895  0.000000   \n",
      "Valentina Shevchenko   0.058824   0.575294   0.722353   0.411765  0.058824   \n",
      "Alexander Volkanovski  0.375000   0.571250   0.259375   0.187500  0.187500   \n",
      "Tom Aspinall           0.555556   0.698889   0.333333   0.222222  0.000000   \n",
      "Sean O'Malley          0.461538   0.604615   0.038462   0.230769  0.076923   \n",
      "Zhang Weili            0.250000   0.585000   0.332500   0.500000  0.166667   \n",
      "Charles Oliveira       0.235294   0.531176   0.379412   1.352941  0.205882   \n",
      "Kamaru Usman           0.555556   0.537222   0.383333   0.111111  0.000000   \n",
      "Aljamain Sterling      0.000000   0.519048   0.351905   0.619048  0.190476   \n",
      "\n",
      "                           CTRL_A      KD_R  SIG_STR_R  TD_PORC_R  SUB_ATT_R  \\\n",
      "Islam Makhachev        290.529412  0.117647   0.401176   0.034118   0.235294   \n",
      "Jon Jones              211.250000  0.000000   0.358750   0.010000   0.041667   \n",
      "Dricus Du Plessis      111.222222  0.000000   0.435556   0.277778   0.111111   \n",
      "Ilia Topuria           133.375000  0.125000   0.382500   0.013750   0.125000   \n",
      "Merab Dvalishvili      367.285714  0.071429   0.428571   0.071429   0.071429   \n",
      "Alex Pereira            13.900000  0.100000   0.446000   0.148000   0.200000   \n",
      "Belal Muhammad         218.684211  0.315789   0.442632   0.089474   0.052632   \n",
      "Valentina Shevchenko   347.705882  0.058824   0.374706   0.192941   0.529412   \n",
      "Alexander Volkanovski  209.000000  0.187500   0.435625   0.203125   0.187500   \n",
      "Tom Aspinall            34.000000  0.000000   0.305556   0.000000   0.000000   \n",
      "Sean O'Malley            9.076923  0.000000   0.411538   0.148462   0.000000   \n",
      "Zhang Weili            284.500000  0.166667   0.436667   0.192500   0.250000   \n",
      "Charles Oliveira       136.558824  0.147059   0.469706   0.233824   0.294118   \n",
      "Kamaru Usman           446.833333  0.055556   0.475556   0.029444   0.388889   \n",
      "Aljamain Sterling      262.571429  0.238095   0.377619   0.247143   0.047619   \n",
      "\n",
      "                          REV_R      CTRL_R  Peleas       Puntos  Racha  \\\n",
      "Islam Makhachev        0.235294   54.058824      17  2012.817438     15   \n",
      "Jon Jones              0.000000   16.250000      24  1567.774404     20   \n",
      "Dricus Du Plessis      0.333333   37.555556       9  1367.947477      9   \n",
      "Ilia Topuria           0.375000   35.000000       8  1186.517934      8   \n",
      "Merab Dvalishvili      0.142857   55.071429      14  1114.149914     12   \n",
      "Alex Pereira           0.000000  151.900000      10  1039.198868      5   \n",
      "Belal Muhammad         0.210526   55.526316      19   957.176296     11   \n",
      "Valentina Shevchenko   0.176471  152.588235      17   827.333406      2   \n",
      "Alexander Volkanovski  0.125000   51.750000      16   774.057280      0   \n",
      "Tom Aspinall           0.000000    0.111111       9   751.331962      3   \n",
      "Sean O'Malley          0.000000  111.769231      13   748.397323      0   \n",
      "Zhang Weili            0.250000   99.000000      12   744.539553      5   \n",
      "Charles Oliveira       0.264706  140.588235      34   723.656668      1   \n",
      "Kamaru Usman           0.055556   50.500000      18   722.307238      0   \n",
      "Aljamain Sterling      0.095238  148.809524      21   709.799015      0   \n",
      "\n",
      "                      Ultima_Pelea  \n",
      "Islam Makhachev         2025-02-01  \n",
      "Jon Jones               2024-11-23  \n",
      "Dricus Du Plessis       2025-02-15  \n",
      "Ilia Topuria            2024-11-02  \n",
      "Merab Dvalishvili       2025-02-01  \n",
      "Alex Pereira            2024-10-12  \n",
      "Belal Muhammad          2024-08-03  \n",
      "Valentina Shevchenko    2024-09-28  \n",
      "Alexander Volkanovski   2024-02-17  \n",
      "Tom Aspinall            2024-08-03  \n",
      "Sean O'Malley           2024-09-28  \n",
      "Zhang Weili             2025-02-15  \n",
      "Charles Oliveira        2024-11-23  \n",
      "Kamaru Usman            2023-10-21  \n",
      "Aljamain Sterling       2024-12-14  \n"
     ]
    }
   ],
   "source": [
    "df_peleadores = pd.DataFrame.from_dict(peleadores_historial, orient=\"index\")\n",
    "\n",
    "# Ordenar por puntos y mostrar los 15 mejores\n",
    "df_top15 = df_peleadores.sort_values(by=\"Puntos\", ascending=False).head(15)\n",
    "\n",
    "print(df_top15)"
   ]
  },
  {
   "cell_type": "markdown",
   "id": "021b1a3d-cf2e-4eea-a062-a7aea4fd9c57",
   "metadata": {},
   "source": [
    "## Mostrar Historial Peleador"
   ]
  },
  {
   "cell_type": "code",
   "execution_count": 43,
   "id": "857449f6-2f8a-4eb9-a4e7-c82f9c11d5ce",
   "metadata": {},
   "outputs": [
    {
     "data": {
      "text/plain": [
       "{'Puntos': 14.979079981230205,\n",
       " 'Peleas': 3,\n",
       " 'Racha': 1,\n",
       " 'Ultima_Pelea': Timestamp('2025-02-15 00:00:00')}"
      ]
     },
     "execution_count": 43,
     "metadata": {},
     "output_type": "execute_result"
    }
   ],
   "source": [
    "# Mostrar el resultado\n",
    "peleadores_historial[\"Wang Cong\"]"
   ]
  },
  {
   "cell_type": "code",
   "execution_count": null,
   "id": "45b23a2a-2be1-44bd-a23e-4c4ff5f3542c",
   "metadata": {},
   "outputs": [],
   "source": []
  }
 ],
 "metadata": {
  "kernelspec": {
   "display_name": "Python [conda env:base] *",
   "language": "python",
   "name": "conda-base-py"
  },
  "language_info": {
   "codemirror_mode": {
    "name": "ipython",
    "version": 3
   },
   "file_extension": ".py",
   "mimetype": "text/x-python",
   "name": "python",
   "nbconvert_exporter": "python",
   "pygments_lexer": "ipython3",
   "version": "3.12.7"
  }
 },
 "nbformat": 4,
 "nbformat_minor": 5
}
