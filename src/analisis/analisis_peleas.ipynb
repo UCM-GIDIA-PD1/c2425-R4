{
 "cells": [
  {
   "cell_type": "code",
   "execution_count": null,
   "metadata": {},
   "outputs": [],
   "source": [
    "import pandas as pd\n",
    "import matplotlib.pyplot as plt\n",
    "import seaborn as sns\n",
    "from IPython.display import display\n",
    "import pyarrow"
   ]
  },
  {
   "cell_type": "code",
   "execution_count": null,
   "metadata": {},
   "outputs": [],
   "source": [
    "import os\n",
    "\n",
    "ruta = os.path.abspath(r\"C2425-R4\\data\\processed\\peleadores.parquet\")\n",
    "ruta = os.path.join(os.getcwd(), \"..\", \"..\", \"data\", \"processed\", \"peleadores.parquet\")\n",
    "df = pd.read_parquet(ruta)\n",
    "df.head()"
   ]
  },
  {
   "cell_type": "code",
   "execution_count": null,
   "metadata": {},
   "outputs": [],
   "source": [
    "df[df[\"Peleador_A\"] == \"Ilia Topuria\"]"
   ]
  },
  {
   "cell_type": "code",
   "execution_count": null,
   "metadata": {},
   "outputs": [],
   "source": [
    "print(\"Columnas del DataFrame:\")\n",
    "print(df.columns)"
   ]
  },
  {
   "cell_type": "code",
   "execution_count": null,
   "metadata": {},
   "outputs": [],
   "source": [
    "print(\"\\nTipos de datos:\")\n",
    "print(df.dtypes.to_string())"
   ]
  },
  {
   "cell_type": "code",
   "execution_count": null,
   "metadata": {},
   "outputs": [],
   "source": [
    "\"\"\"Realizamos un análisis descriptivo de las variables numéricas para comprender mejor sus distribuciones \n",
    "y las frecuencias con las que ocurren ciertos eventos en las peleas. Por ejemplo, observamos que el número \n",
    "de knockdowns (KD) suele ser 0 en la mayoría de los combates, mientras que el número total de golpes conectados\n",
    "(TOTAL_STR_A_x) suele superar los 55.\n",
    "\n",
    "Este análisis también nos permite verificar si la extracción y transformación de los datos se ha realizado \n",
    "correctamente. De hecho, detectamos que algunos porcentajes estaban guardándose en una escala de 0 a 100 en\n",
    "lugar de 0 a 1, lo que pudimos corregir gracias a esta exploración descriptiva.\"\"\"\n",
    "\n",
    "print(\"\\nResumen estadístico de columnas numéricas:\")\n",
    "pd.set_option('display.max_columns', None)\n",
    "print(df.describe(include='all'))"
   ]
  },
  {
   "cell_type": "code",
   "execution_count": null,
   "metadata": {},
   "outputs": [],
   "source": [
    "numerical_columns = df.select_dtypes(include=['int64', 'float64']).columns\n",
    "print(numerical_columns)\n",
    "\n"
   ]
  },
  {
   "cell_type": "code",
   "execution_count": null,
   "metadata": {},
   "outputs": [],
   "source": [
    "plt.figure(figsize=(10, 5 * len(numerical_columns)))\n",
    "for i, col in enumerate(numerical_columns):\n",
    "    plt.subplot(len(numerical_columns), 1, i + 1)\n",
    "    sns.boxplot(x=df[col])\n",
    "    plt.title(f\"Distribución de {col}\")\n",
    "\n",
    "plt.tight_layout()\n",
    "plt.show()\n",
    "\"\"\"Al mostrar los Box-Plot nos damos cuenta de que en muchos casos\n",
    "existe una cola a la derecha ya que, por ejemplo en los intentos de derribo,\n",
    "lo normal es que ocurran muy pocos concentrandose ahí la mayoría de los valores\n",
    "sin embargo en algunos combates ocurren mucho creando esa cola. Esto vemos que pasa con\n",
    "bastantes variables. Para mejorar eso deberíamos estudiar realizar ciertas transformaciones.\n",
    "\n",
    "También vemos gráficos en los cuales la distancia intercuartílica es mínima ya que, por ejemplo los knockdowns\n",
    "o intentos de sumisión suelen no ocurrir ni una vez en los combates, esto se puede ver en el dataframe explicando\n",
    "cada variable donde vemos que variables como los knockdowns (KD_A y KD_B) el 75% es 0 y tiene una media de 0.24,\n",
    "haciendo que se queden esos gráficos tan raros con la caja prácticamente siendo una línea. En cuanto a estas variables\n",
    "habrá que estudiar si aportan algo al crear el modelo al ser tan generales.\"\"\""
   ]
  },
  {
   "cell_type": "code",
   "execution_count": null,
   "metadata": {},
   "outputs": [],
   "source": [
    "df.hist(figsize=(14, 10))\n",
    "plt.suptitle(\"Histogramas de las variables\", fontsize=16)\n",
    "plt.xticks(fontsize=12)\n",
    "plt.yticks(fontsize=12)\n",
    "plt.show()\n",
    "\n",
    "\"\"\"Como vemos en los histogramas las variables no siguen distribuciones normales\n",
    "y predomina, como ya habíamos visto con los boxplots las colas hacía la derecha. Intentaremos\n",
    "utilizar todos los datos ya que no parecen errores de la página y en caso de que sea un problema para el \n",
    "modelo eliminaremos algunos valores atípicos.\"\"\""
   ]
  }
 ],
 "metadata": {
  "kernelspec": {
   "display_name": "base",
   "language": "python",
   "name": "python3"
  },
  "language_info": {
   "codemirror_mode": {
    "name": "ipython",
    "version": 3
   },
   "file_extension": ".py",
   "mimetype": "text/x-python",
   "name": "python",
   "nbconvert_exporter": "python",
   "pygments_lexer": "ipython3",
   "version": "3.12.7"
  }
 },
 "nbformat": 4,
 "nbformat_minor": 2
}
