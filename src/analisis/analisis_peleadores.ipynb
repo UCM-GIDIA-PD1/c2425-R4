{
 "cells": [
  {
   "cell_type": "code",
   "execution_count": null,
   "id": "4e0b3424-5476-44f0-9b76-8d0cfe536c14",
   "metadata": {},
   "outputs": [],
   "source": [
    "import pandas as pd\n",
    "import matplotlib.pyplot as plt\n",
    "import seaborn as sns\n",
    "from scipy.stats import zscore\n",
    "from IPython.display import display\n",
    "import os"
   ]
  },
  {
   "cell_type": "code",
   "execution_count": null,
   "id": "73332c15-e9ef-4f90-916f-81146f2e57f4",
   "metadata": {},
   "outputs": [],
   "source": [
    "\n",
    "ruta = os.path.abspath(r\"C2425-R4\\data\\processed\\peleadores.parquet\")\n",
    "ruta = os.path.join(os.getcwd(), \"..\", \"..\", \"data\", \"processed\", \"peleadores.parquet\")\n",
    "df = pd.read_parquet(ruta)\n",
    "df.head()"
   ]
  },
  {
   "cell_type": "code",
   "execution_count": null,
   "id": "f810ce5b-96c4-414c-9692-8a93ee7dcbd4",
   "metadata": {},
   "outputs": [],
   "source": [
    "print(\"\\nTipos de datos:\")\n",
    "print(df.dtypes.to_string())"
   ]
  },
  {
   "cell_type": "code",
   "execution_count": null,
   "id": "11922887-73d3-4ac6-b3eb-fab168195e5e",
   "metadata": {},
   "outputs": [],
   "source": [
    "\"\"\"SUB (Sumisiones): Tiene una distribución altamente sesgada a la derecha, con la mayoría de los valores concentrados \n",
    "en los niveles más bajos y algunos valores extremadamente altos, \n",
    "lo que indica que la mayoría de los peleadores consiguen pocas sumisiones en sus carreras.\"\"\"\n",
    "\n",
    "print(\"\\nResumen estadístico de columnas numéricas:\")\n",
    "pd.set_option('display.max_columns', None)\n",
    "print(df.describe(include='all'))"
   ]
  },
  {
   "cell_type": "code",
   "execution_count": null,
   "id": "35cf1d89-6a6f-4b54-9bcc-b72bb463da31",
   "metadata": {},
   "outputs": [],
   "source": [
    "numerical_columns = df.select_dtypes(include=['int64', 'float64']).columns\n",
    "print(numerical_columns)"
   ]
  },
  {
   "cell_type": "code",
   "execution_count": null,
   "id": "395ea6f9-8737-41a7-8659-19ed3726c184",
   "metadata": {},
   "outputs": [],
   "source": [
    "plt.figure(figsize=(10, 5 * len(numerical_columns)))\n",
    "for i, col in enumerate(numerical_columns):\n",
    "    plt.subplot(len(numerical_columns), 1, i + 1)\n",
    "    sns.boxplot(x=df[col])\n",
    "    plt.title(f\"Distribución de {col}\")\n",
    "\n",
    "plt.tight_layout()\n",
    "plt.show()\n",
    "\"\"\"Distribución sesgada a la derecha: La mayoría de los valores están concentrados \n",
    "en la parte baja de la escala, mientras que hay una gran cantidad de valores atípicos (outliers) hacia \n",
    "la derecha. Esto indica que la mayoría de los peleadores conectan pocos golpes significativos, \n",
    "pero hay algunos casos excepcionales donde se conectan muchos. Para mejorar eso deberíamos estudiar realizar ciertas transformaciones.\"\"\"\n"
   ]
  },
  {
   "cell_type": "code",
   "execution_count": null,
   "id": "c3c4d32e-ee59-4034-8cf2-e2a2f223fd09",
   "metadata": {},
   "outputs": [],
   "source": [
    "# Identificación de valores atípicos usando IQR\n",
    "outliers = {}\n",
    "for col in numerical_columns:\n",
    "    Q1 = df[col].quantile(0.25)\n",
    "    Q3 = df[col].quantile(0.75)\n",
    "    IQR = Q3 - Q1\n",
    "    outliers[col] = df[(df[col] < Q1 - 1.5 * IQR) | (df[col] > Q3 + 1.5 * IQR)][col]\n",
    "\n",
    "# Mostrar las columnas con sus respectivos outliers\n",
    "for col, outlier_values in outliers.items():\n",
    "    print(f\"{col} tiene {len(outlier_values)} outliers\")\n",
    "    print(outlier_values.head(5))  # Muestra solo los primeros 5 valores atípicos para cada columna\n",
    "\n"
   ]
  },
  {
   "cell_type": "code",
   "execution_count": null,
   "id": "6559443b-1e1a-4bc7-8ad7-7aa17c4f35b0",
   "metadata": {},
   "outputs": [],
   "source": [
    "df.hist(figsize=(14, 10))\n",
    "plt.suptitle(\"Histogramas de las variables\", fontsize=16)\n",
    "plt.xticks(fontsize=12)\n",
    "plt.yticks(fontsize=12)\n",
    "plt.show()\n",
    "\n",
    "\"\"\"Como vemos en los histogramas las variables no siguen distribuciones normales\n",
    "y predomina, como ya habíamos visto con los boxplots las colas hacía la derecha. Intentaremos\n",
    "utilizar todos los datos ya que no parecen errores de la página y en caso de que sea un problema para el \n",
    "modelo eliminaremos algunos valores atípicos.\"\"\""
   ]
  },
  {
   "cell_type": "code",
   "execution_count": null,
   "id": "9f7670ba-ad12-49e0-9be4-1a9438ca1683",
   "metadata": {},
   "outputs": [],
   "source": [
    "# Calcular el Z-score para todas las columnas numéricas\n",
    "z_scores = df[numerical_columns].apply(zscore)\n",
    "\n",
    "# Identificar valores con Z-score mayor a 3 o menor a -3\n",
    "outliers_z = (z_scores.abs() > 3)\n",
    "\n",
    "# Mostrar cuántos outliers hay en cada columna\n",
    "outliers_count = outliers_z.sum()\n",
    "print(\"\\nNúmero de outliers detectados con Z-score:\")\n",
    "print(outliers_count[outliers_count > 0])"
   ]
  },
  {
   "cell_type": "code",
   "execution_count": null,
   "id": "fb2017fd-28ea-40f2-a68d-99eedda5f48c",
   "metadata": {},
   "outputs": [],
   "source": []
  }
 ],
 "metadata": {
  "kernelspec": {
   "display_name": ".venv",
   "language": "python",
   "name": "python3"
  },
  "language_info": {
   "codemirror_mode": {
    "name": "ipython",
    "version": 3
   },
   "file_extension": ".py",
   "mimetype": "text/x-python",
   "name": "python",
   "nbconvert_exporter": "python",
   "pygments_lexer": "ipython3",
   "version": "undefined.undefined.undefined"
  }
 },
 "nbformat": 4,
 "nbformat_minor": 5
}
