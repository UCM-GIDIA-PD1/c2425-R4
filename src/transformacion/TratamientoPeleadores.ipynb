{
 "cells": [
  {
   "cell_type": "code",
   "execution_count": 2,
   "metadata": {},
   "outputs": [],
   "source": [
    "import pandas as pd\n",
    "df=pd.read_csv('C:\\\\Users\\\\Mario\\\\Documents\\\\pd1\\\\fighters_inicial.csv')"
   ]
  },
  {
   "cell_type": "code",
   "execution_count": 4,
   "metadata": {},
   "outputs": [],
   "source": [
    "#CAMBIO NOMBRES\n",
    "\n",
    "df.columns = df.columns.str.lower().str.replace(r'\\s+', '_', regex=True)\n",
    "df.columns = df.columns.str.rstrip(\"._\")\n",
    "\n",
    "df.rename(columns={\"nombre\": \"name\"}, inplace=True)\n",
    "df.rename(columns={\"striking_accuracy_(%)\": \"striking_accuracy(%)\"}, inplace=True)\n",
    "df.rename(columns={\"golpes_significativos_conectados\": \"sig_str_landed\"}, inplace=True)\n",
    "df.rename(columns={\"golpes_significativos_intentados\": \"sig_str_attempted\"}, inplace=True)\n",
    "df.rename(columns={\"golpes_significativos_conectados_por_minuto\": \"sig_str_landed_per_min\"}, inplace=True)\n",
    "df.rename(columns={\"golpes_significativos_recibidos_por_minuto\": \"sig_str_absorbed_per_min\"}, inplace=True)\n",
    "df.rename(columns={\"promedio_de_knockdown_por_15m\": \"knockdown_per_15min(avg)\"}, inplace=True)\n",
    "df.rename(columns={\"promedio_de_sumisiÃ³n_por_15m\": \"submission_per_15min(avg)\"}, inplace=True)\n",
    "df.rename(columns={\"defensa_de_golpes_sig\": \"sig_str_defense(%)\"}, inplace=True)\n",
    "df.rename(columns={\"defensa_de_derribo\": \"takedown_defense(%)\"}, inplace=True)\n",
    "df.rename(columns={\"promedio_de_tiempo_de_pelea\": \"time_fight(avg)\"}, inplace=True)\n",
    "df.rename(columns={\"golpes_de_pie\": \"sig_str_standing\"}, inplace=True)\n",
    "df.rename(columns={\"porcentaje_de_pie\": \"sig_str_standing(%)\"}, inplace=True)\n",
    "df.rename(columns={\"golpes_clinch\": \"sig_str_clinch\"}, inplace=True)\n",
    "df.rename(columns={\"porcentaje_clinch\": \"sig_str_clinch(%)\"}, inplace=True)\n",
    "df.rename(columns={\"golpes_suelo\": \"sig_str_ground\"}, inplace=True)\n",
    "df.rename(columns={\"porcentajes_suelo\": \"sig_str_ground(%)\"}, inplace=True)\n",
    "df.rename(columns={\"golpes_cabeza\": \"sig_str_to_head\"}, inplace=True)\n",
    "df.rename(columns={\"porcentaje_cabeza\": \"sig_str_to_head(%)\"}, inplace=True)\n",
    "df.rename(columns={\"golpes_cuerpo\": \"sig_str_to_body\"}, inplace=True)\n",
    "df.rename(columns={\"porcentaje_cuerpo\": \"sig_str_to_body(%)\"}, inplace=True)\n",
    "df.rename(columns={\"golpes_pierna\": \"sig_str_to_legs\"}, inplace=True)\n",
    "df.rename(columns={\"porcentaje_pierna\": \"sig_str_to_legs(%)\"}, inplace=True)\n",
    "df.rename(columns={\"ko/tko\": \"wins_by_ko/tko\"}, inplace=True)\n",
    "df.rename(columns={\"porcentaje_ko/tko\": \"wins_by_ko/tko(%)\"}, inplace=True)\n",
    "df.rename(columns={\"dec\": \"wins_by_decision\"}, inplace=True)\n",
    "df.rename(columns={\"porcentaje_dec\": \"wins_by_decision(%)\"}, inplace=True)\n",
    "df.rename(columns={\"sub\": \"wins_by_submission\"}, inplace=True)\n",
    "df.rename(columns={\"porcentaje_sub\": \"wins_by_submission(%)\"}, inplace=True)\n",
    "df.rename(columns={\"efectividad_de_derribo\": \"takedown_accuracy(%)\"}, inplace=True)\n",
    "df.rename(columns={\"derribos_conseguidos\": \"takedowns_landed\"}, inplace=True)\n",
    "df.rename(columns={\"derribos_intentados\": \"takedowns_attempted\"}, inplace=True)\n"
   ]
  },
  {
   "cell_type": "code",
   "execution_count": 5,
   "metadata": {},
   "outputs": [],
   "source": [
    "#ELIMINO '%'\n",
    "\n",
    "columnas=[]\n",
    "for col in df.columns:\n",
    "    if '%' in col:\n",
    "        columnas.append(col)\n",
    "for col in columnas:\n",
    "    df[col]=df[col].str.replace('%','').astype(float)/100"
   ]
  },
  {
   "cell_type": "code",
   "execution_count": 6,
   "metadata": {},
   "outputs": [],
   "source": [
    "#PASO MINUTOS A SEGUNDOS\n",
    "\n",
    "def convertir_a_segundos(tiempo):\n",
    "    if isinstance(tiempo, str) and \":\" in tiempo:\n",
    "        minutos, segundos = map(int, tiempo.split(\":\"))\n",
    "        return minutos * 60 + segundos\n",
    "    else :\n",
    "        return tiempo\n",
    "\n",
    "df['time_fight(avg)']=df['time_fight(avg)'].apply(convertir_a_segundos)"
   ]
  },
  {
   "cell_type": "code",
   "execution_count": 7,
   "metadata": {},
   "outputs": [],
   "source": [
    "#Tratamiento nan\n",
    "\n",
    "filas_vacias=df[df.drop(columns='name').isna().all(axis=1)].index\n",
    "df=df.drop(index=filas_vacias)\n",
    "df['takedowns_landed']=df['takedowns_landed'].fillna(df['takedowns_attempted']*df['efectividad_de_derribo_(%)'])\n"
   ]
  },
  {
   "cell_type": "code",
   "execution_count": null,
   "metadata": {},
   "outputs": [],
   "source": [
    "#Guardo df\n",
    "\n",
    "df.to_csv(\"C:\\\\Users\\\\Mario\\\\Documents\\\\pd1\\\\fighters_final.csv\", index=False)"
   ]
  }
 ],
 "metadata": {
  "kernelspec": {
   "display_name": "Python 3",
   "language": "python",
   "name": "python3"
  },
  "language_info": {
   "codemirror_mode": {
    "name": "ipython",
    "version": 3
   },
   "file_extension": ".py",
   "mimetype": "text/x-python",
   "name": "python",
   "nbconvert_exporter": "python",
   "pygments_lexer": "ipython3",
   "version": "3.13.1"
  }
 },
 "nbformat": 4,
 "nbformat_minor": 2
}
