{
 "cells": [
  {
   "cell_type": "code",
   "execution_count": null,
   "metadata": {},
   "outputs": [],
   "source": [
    "import pandas as pd \n",
    "import numpy as np\n",
    "\n",
    "df = pd.read_csv(\"primeras_peleas_ufc.csv\")\n",
    "\n",
    "df.head()"
   ]
  },
  {
   "cell_type": "code",
   "execution_count": null,
   "metadata": {},
   "outputs": [],
   "source": [
    "\n",
    "columnas_con_na = []\n",
    "\n",
    "for columnas in df.columns:\n",
    "    if (df[columnas] == \"---\").any():\n",
    "        columnas_con_na.append(columnas)\n",
    "\n",
    "\n",
    "indices_con_na_sig_str_a = df.index[df['SIG_STR_A'] == '---'].tolist()\n",
    "\n",
    "print(indices_con_na_sig_str_a)\n",
    "\n",
    "for columna in columnas_con_na:\n",
    "    df[columna] = df[columna].replace('---', np.nan)\n",
    "    \n",
    "print(columnas_con_na)\n"
   ]
  },
  {
   "cell_type": "code",
   "execution_count": null,
   "metadata": {},
   "outputs": [],
   "source": [
    "#Quito el of de las columnas x of y, me quedo solo con x.\n",
    "columnas_con_of = ['TOTAL_STR_A', 'TOTAL_STR_B', \n",
    "                     'TD_A', 'TD_B', 'STR_HEAD_A', 'STR_HEAD_B', 'STR_BODY_A', 'STR_BODY_B', \n",
    "                     'STR_LEG_A', 'STR_LEG_B', 'STR_DISTANCE_A', 'STR_DISTANCE_B',\t'STR_CLINCH_A',\t'STR_CLINCH_B',\t'STR_GROUND_A'\t,'STR_GROUND_B']\n",
    "\n",
    "\n",
    "for col in columnas_con_of:\n",
    "    df[col] = df[col].astype(str)\n",
    "    df[[f'{col}_x', f'{col}_y']] = df[col].str.extract(r'(\\d+)\\s*of\\s*(\\d+)', expand=True)\n",
    "    df[[f'{col}_x', f'{col}_y']] = df[[f'{col}_x', f'{col}_y']].apply(pd.to_numeric, errors='coerce')\n",
    "\n",
    "\n",
    "df = df.drop(columns=columnas_con_of, errors=\"ignore\") \n",
    "\n",
    "df.head()\n",
    "\n"
   ]
  },
  {
   "cell_type": "code",
   "execution_count": null,
   "metadata": {},
   "outputs": [],
   "source": [
    "\n",
    "\n",
    "df['SIG_STR_A'] = df['SIG_STR_A'].fillna(df.apply(lambda row: (row['TOTAL_STR_A_x'] / row['TOTAL_STR_A_y'])*100 if row['TOTAL_STR_A_y'] != 0 else 0, axis=1))\n",
    "\n",
    "df['SIG_STR_B'] = df['SIG_STR_B'].fillna(df.apply(lambda row: (row['TOTAL_STR_B_x'] / row['TOTAL_STR_B_y'])*100 if row['TOTAL_STR_B_y'] != 0 else 0, axis=1))\n",
    "\n",
    "df['TD_PORC_A'] = df['TD_PORC_A'].fillna(df.apply(lambda row: (row['TD_A_x'] / row['TD_A_y'])*100 if row['TD_A_y'] != 0 else 0, axis=1))\n",
    "\n",
    "df['TD_PORC_B'] = df['TD_PORC_B'].fillna(df.apply(lambda row: (row['TD_B_x'] / row['TD_B_y'])*100 if row['TD_B_y'] != 0 else 0, axis=1))\n",
    "\n",
    "print(df.loc[indices_con_na_sig_str_a, ['SIG_STR_A','TOTAL_STR_A_x', 'TOTAL_STR_A_y']])"
   ]
  },
  {
   "cell_type": "code",
   "execution_count": null,
   "metadata": {},
   "outputs": [],
   "source": [
    "def convertir_porcentaje(valor):\n",
    "    if isinstance(valor, str) and \"%\" in valor:\n",
    "        return float(valor.strip(\"%\")) / 100\n",
    "    return valor\n",
    "\n",
    "# Columnas que contienen porcentajes\n",
    "columnas_porcentaje = [\"SIG_STR_A\", \"SIG_STR_B\", \"TD_PORC_A\", \"TD_PORC_B\"]\n",
    "\n",
    "# Aplicar la conversión\n",
    "for col in columnas_porcentaje:\n",
    "    df[col] = df[col].apply(convertir_porcentaje)\n",
    "\n",
    "# Verificar los cambios\n",
    "print(df[columnas_porcentaje].head())"
   ]
  },
  {
   "cell_type": "code",
   "execution_count": null,
   "metadata": {},
   "outputs": [],
   "source": [
    "# Convertir las columnas de tiempo (CTRL_A, CTRL_B) en segundos\n",
    "def convertir_a_segundos(tiempo):\n",
    "    if isinstance(tiempo, str) and \":\" in tiempo:\n",
    "        minutos, segundos = map(int, tiempo.split(\":\"))\n",
    "        return minutos * 60 + segundos\n",
    "    return 0  # Si el valor no es un string con formato válido, poner 0\n",
    "\n",
    "df[\"CTRL_A\"] = df[\"CTRL_A\"].apply(convertir_a_segundos)\n",
    "df[\"CTRL_B\"] = df[\"CTRL_B\"].apply(convertir_a_segundos)"
   ]
  },
  {
   "cell_type": "code",
   "execution_count": null,
   "metadata": {},
   "outputs": [],
   "source": [
    "#Limpieza columna TIME y paso a segundos los minutos\n",
    "\n",
    "df[\"TIME\"] = df[\"TIME\"].str.replace('TIME: ', '',regex=False)\n",
    "\n",
    "df[\"TIME\"] = df[\"TIME\"].apply(convertir_a_segundos)\n",
    "df[\"TIME\"]"
   ]
  },
  {
   "cell_type": "code",
   "execution_count": null,
   "metadata": {},
   "outputs": [],
   "source": [
    "df"
   ]
  },
  {
   "cell_type": "code",
   "execution_count": null,
   "metadata": {},
   "outputs": [],
   "source": [
    "df[\"ROUND\"] = df[\"ROUND\"].str.replace('ROUND: ','',regex=False)\n",
    "\n",
    "df[\"ROUND\"]"
   ]
  },
  {
   "cell_type": "code",
   "execution_count": null,
   "metadata": {},
   "outputs": [],
   "source": [
    "df[\"METHOD\"].unique()"
   ]
  },
  {
   "cell_type": "code",
   "execution_count": null,
   "metadata": {},
   "outputs": [],
   "source": [
    "\n",
    "\n",
    "df = pd.get_dummies(df, columns=['METHOD'], drop_first=True)\n",
    "\n",
    "print(df)\n"
   ]
  },
  {
   "cell_type": "code",
   "execution_count": null,
   "metadata": {},
   "outputs": [],
   "source": [
    "import pandas as pd\n",
    "from sklearn.model_selection import train_test_split\n",
    "from sklearn.ensemble import RandomForestClassifier\n",
    "from sklearn.metrics import accuracy_score\n",
    "\n",
    "df = df.drop(columns=['Peleador_A', 'Peleador_B', 'DATE','KD_A','KD_B'])\n",
    "\n",
    "\n",
    "# 1. Definir la variable objetivo y las predictoras\n",
    "X = df.drop('WINNER', axis=1)  # Variables predictoras\n",
    "y = df['WINNER']               # Variable objetivo\n",
    "\n",
    "# 2. Dividir en conjunto de entrenamiento y prueba\n",
    "X_train, X_test, y_train, y_test = train_test_split(X, y, test_size=0.2, random_state=42)\n",
    "\n",
    "# 3. Crear el modelo de clasificación (Random Forest en este caso)\n",
    "modelo = RandomForestClassifier(random_state=42)\n",
    "\n",
    "# 4. Entrenar el modelo\n",
    "modelo.fit(X_train, y_train)\n",
    "\n",
    "# 5. Hacer predicciones\n",
    "y_pred = modelo.predict(X_test)\n",
    "\n",
    "# 6. Evaluar el rendimiento (Accuracy)\n",
    "accuracy = accuracy_score(y_test, y_pred)\n",
    "print(f'Accuracy del modelo: {accuracy:.4f}')\n",
    "\n",
    "importancias = modelo.feature_importances_\n",
    "\n",
    "importancia_df = pd.DataFrame({\n",
    "    'Característica': X.columns,\n",
    "    'Importancia': importancias\n",
    "})\n",
    "\n",
    "# Ordenar de mayor a menor importancia\n",
    "importancia_df = importancia_df.sort_values(by='Importancia', ascending=False)\n",
    "\n",
    "print(importancia_df)\n"
   ]
  },
  {
   "cell_type": "code",
   "execution_count": null,
   "metadata": {},
   "outputs": [],
   "source": [
    "df.to_csv(\"df_limpio.csv\")"
   ]
  }
 ],
 "metadata": {
  "kernelspec": {
   "display_name": "Python 3",
   "language": "python",
   "name": "python3"
  },
  "language_info": {
   "codemirror_mode": {
    "name": "ipython",
    "version": 3
   },
   "file_extension": ".py",
   "mimetype": "text/x-python",
   "name": "python",
   "nbconvert_exporter": "python",
   "pygments_lexer": "ipython3",
   "version": "3.12.7"
  }
 },
 "nbformat": 4,
 "nbformat_minor": 2
}
