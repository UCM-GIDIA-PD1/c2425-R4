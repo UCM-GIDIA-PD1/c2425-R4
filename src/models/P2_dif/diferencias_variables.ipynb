{
 "cells": [
  {
   "cell_type": "markdown",
   "metadata": {},
   "source": [
    "## Nuevas variables **Diferencias**\n",
    "\n",
    "Con el objetivo de mejorar los resultados obtenidos en los modelos de P2, se ha decidido crear nuevas variables a partir de las variables de las medias ponderadas. Las variables que se han creado son la diferencia entre las estadísticas de cada peleador, por ejemplo: de tener KD_A y KD_B, pasamos a tener KD_DIFF.  \n",
    "\n",
    "En este proceso, observamos que un experto en el área no necesariamente se enfocaría en las estadísticas de cada peleador de manera individual. En lugar de eso, podría ser más útil analizar la diferencia entre las estadísticas de los dos peleadores. Es decir, en lugar de considerar los datos de cada peleador por separado, se podría prestar más atención a cómo varían esas estadísticas de un peleador a otro.  \n",
    "\n",
    "Por esta razón, calculamos la diferencia en las estadísticas entre los peleadores y luego probamos varios modelos de predicción para ver si este enfoque ofrecía mejores resultados que trabajar solo con las estadísticas individuales de cada luchador.\n",
    "\n",
    "* [Carga de los datos](#Carga-de-los-datos)  \n",
    "* [Crear nuevas variables](#Crear-nuevas-variables)  \n",
    "* [Partición de los datos](#particion-de-los-datos)\n",
    "* [Guardar datos](#guardar-datos)"
   ]
  },
  {
   "cell_type": "code",
   "execution_count": 1,
   "metadata": {},
   "outputs": [],
   "source": [
    "import pandas as pd\n",
    "import os"
   ]
  },
  {
   "cell_type": "markdown",
   "metadata": {},
   "source": [
    "### Carga de los datos"
   ]
  },
  {
   "cell_type": "code",
   "execution_count": 2,
   "metadata": {},
   "outputs": [],
   "source": [
    "ruta = os.path.join(os.getcwd(), \"..\", \"..\", \"..\",\"data\", \"processed\", \"peleas_ponderadas.parquet\")\n",
    "df = pd.read_parquet(ruta)"
   ]
  },
  {
   "cell_type": "markdown",
   "metadata": {},
   "source": [
    "### Filtrado del *dataframe*\n",
    "Eliminamos datos anteriores al 2010 debido a que siempre ganaba el Peleador A y los datos generaban muchos fallos al entrenar el modelo generando grandes desbalances"
   ]
  },
  {
   "cell_type": "code",
   "execution_count": 3,
   "metadata": {},
   "outputs": [],
   "source": [
    "df = df[df[\"DATE\"].dt.year >= 2010]"
   ]
  },
  {
   "cell_type": "markdown",
   "metadata": {},
   "source": [
    "### Crear nuevas variables\n",
    "\n",
    "Se separan las colunmas de cada peleador y se calcula la diferencia. También se elimina del *dataframe* las columnas que no sean diferencia."
   ]
  },
  {
   "cell_type": "code",
   "execution_count": 4,
   "metadata": {},
   "outputs": [
    {
     "data": {
      "text/html": [
       "<div>\n",
       "<style scoped>\n",
       "    .dataframe tbody tr th:only-of-type {\n",
       "        vertical-align: middle;\n",
       "    }\n",
       "\n",
       "    .dataframe tbody tr th {\n",
       "        vertical-align: top;\n",
       "    }\n",
       "\n",
       "    .dataframe thead th {\n",
       "        text-align: right;\n",
       "    }\n",
       "</style>\n",
       "<table border=\"1\" class=\"dataframe\">\n",
       "  <thead>\n",
       "    <tr style=\"text-align: right;\">\n",
       "      <th></th>\n",
       "      <th>DATE</th>\n",
       "      <th>Peleador_A</th>\n",
       "      <th>Peleador_B</th>\n",
       "      <th>WINNER</th>\n",
       "      <th>KD_DIFF</th>\n",
       "      <th>SIG_STR_DIFF</th>\n",
       "      <th>TD_DIFF</th>\n",
       "      <th>SUB_ATT_DIFF</th>\n",
       "      <th>REV_DIFF</th>\n",
       "      <th>CTRL_DIFF</th>\n",
       "      <th>...</th>\n",
       "      <th>Record_DIFF</th>\n",
       "      <th>Peleas_DIFF</th>\n",
       "      <th>Puntos_DIFF</th>\n",
       "      <th>Racha_DIFF</th>\n",
       "      <th>Victorias_KO_DIFF</th>\n",
       "      <th>Victorias_Sub_DIFF</th>\n",
       "      <th>Victorias_Decision_DIFF</th>\n",
       "      <th>Derrotas_KO_DIFF</th>\n",
       "      <th>Derrotas_Sub_DIFF</th>\n",
       "      <th>Derrotas_Decision_DIFF</th>\n",
       "    </tr>\n",
       "  </thead>\n",
       "  <tbody>\n",
       "    <tr>\n",
       "      <th>283</th>\n",
       "      <td>2010-01-02</td>\n",
       "      <td>Rashad Evans</td>\n",
       "      <td>Thiago Silva</td>\n",
       "      <td>False</td>\n",
       "      <td>0.04</td>\n",
       "      <td>-0.2808</td>\n",
       "      <td>0.193548</td>\n",
       "      <td>-0.40</td>\n",
       "      <td>0.00</td>\n",
       "      <td>-18.84</td>\n",
       "      <td>...</td>\n",
       "      <td>16.0</td>\n",
       "      <td>4</td>\n",
       "      <td>-8.784941</td>\n",
       "      <td>-1</td>\n",
       "      <td>-0.76</td>\n",
       "      <td>0.00</td>\n",
       "      <td>4.00</td>\n",
       "      <td>-0.24</td>\n",
       "      <td>0.0</td>\n",
       "      <td>1.0</td>\n",
       "    </tr>\n",
       "    <tr>\n",
       "      <th>284</th>\n",
       "      <td>2010-01-02</td>\n",
       "      <td>Sam Stout</td>\n",
       "      <td>Joe Lauzon</td>\n",
       "      <td>False</td>\n",
       "      <td>0.36</td>\n",
       "      <td>-0.2228</td>\n",
       "      <td>-0.371306</td>\n",
       "      <td>-2.72</td>\n",
       "      <td>0.00</td>\n",
       "      <td>-101.68</td>\n",
       "      <td>...</td>\n",
       "      <td>-3.0</td>\n",
       "      <td>1</td>\n",
       "      <td>-9.062451</td>\n",
       "      <td>-1</td>\n",
       "      <td>-1.60</td>\n",
       "      <td>-2.36</td>\n",
       "      <td>2.36</td>\n",
       "      <td>-1.00</td>\n",
       "      <td>1.0</td>\n",
       "      <td>2.6</td>\n",
       "    </tr>\n",
       "    <tr>\n",
       "      <th>285</th>\n",
       "      <td>2010-01-11</td>\n",
       "      <td>Rafael Dos Anjos</td>\n",
       "      <td>Kyle Bradley</td>\n",
       "      <td>False</td>\n",
       "      <td>0.00</td>\n",
       "      <td>0.0416</td>\n",
       "      <td>0.086912</td>\n",
       "      <td>1.52</td>\n",
       "      <td>0.24</td>\n",
       "      <td>213.96</td>\n",
       "      <td>...</td>\n",
       "      <td>0.0</td>\n",
       "      <td>0</td>\n",
       "      <td>-9.999992</td>\n",
       "      <td>0</td>\n",
       "      <td>-0.36</td>\n",
       "      <td>0.00</td>\n",
       "      <td>0.36</td>\n",
       "      <td>-0.60</td>\n",
       "      <td>0.0</td>\n",
       "      <td>0.6</td>\n",
       "    </tr>\n",
       "    <tr>\n",
       "      <th>286</th>\n",
       "      <td>2010-01-11</td>\n",
       "      <td>Amir Sadollah</td>\n",
       "      <td>Brad Blackburn</td>\n",
       "      <td>False</td>\n",
       "      <td>-1.84</td>\n",
       "      <td>-0.0176</td>\n",
       "      <td>0.000000</td>\n",
       "      <td>0.44</td>\n",
       "      <td>0.00</td>\n",
       "      <td>23.04</td>\n",
       "      <td>...</td>\n",
       "      <td>-4.0</td>\n",
       "      <td>0</td>\n",
       "      <td>-0.381411</td>\n",
       "      <td>-2</td>\n",
       "      <td>-1.00</td>\n",
       "      <td>1.00</td>\n",
       "      <td>-0.60</td>\n",
       "      <td>0.60</td>\n",
       "      <td>0.0</td>\n",
       "      <td>0.0</td>\n",
       "    </tr>\n",
       "    <tr>\n",
       "      <th>287</th>\n",
       "      <td>2010-01-11</td>\n",
       "      <td>Gray Maynard</td>\n",
       "      <td>Nate Diaz</td>\n",
       "      <td>False</td>\n",
       "      <td>0.00</td>\n",
       "      <td>0.0492</td>\n",
       "      <td>0.328320</td>\n",
       "      <td>-0.52</td>\n",
       "      <td>-0.48</td>\n",
       "      <td>249.72</td>\n",
       "      <td>...</td>\n",
       "      <td>-1.0</td>\n",
       "      <td>-1</td>\n",
       "      <td>-3.628998</td>\n",
       "      <td>5</td>\n",
       "      <td>1.00</td>\n",
       "      <td>-4.36</td>\n",
       "      <td>2.96</td>\n",
       "      <td>0.00</td>\n",
       "      <td>0.0</td>\n",
       "      <td>-1.6</td>\n",
       "    </tr>\n",
       "  </tbody>\n",
       "</table>\n",
       "<p>5 rows × 31 columns</p>\n",
       "</div>"
      ],
      "text/plain": [
       "          DATE        Peleador_A      Peleador_B  WINNER  KD_DIFF  \\\n",
       "283 2010-01-02      Rashad Evans    Thiago Silva   False     0.04   \n",
       "284 2010-01-02         Sam Stout      Joe Lauzon   False     0.36   \n",
       "285 2010-01-11  Rafael Dos Anjos    Kyle Bradley   False     0.00   \n",
       "286 2010-01-11     Amir Sadollah  Brad Blackburn   False    -1.84   \n",
       "287 2010-01-11      Gray Maynard       Nate Diaz   False     0.00   \n",
       "\n",
       "     SIG_STR_DIFF   TD_DIFF  SUB_ATT_DIFF  REV_DIFF  CTRL_DIFF  ...  \\\n",
       "283       -0.2808  0.193548         -0.40      0.00     -18.84  ...   \n",
       "284       -0.2228 -0.371306         -2.72      0.00    -101.68  ...   \n",
       "285        0.0416  0.086912          1.52      0.24     213.96  ...   \n",
       "286       -0.0176  0.000000          0.44      0.00      23.04  ...   \n",
       "287        0.0492  0.328320         -0.52     -0.48     249.72  ...   \n",
       "\n",
       "     Record_DIFF  Peleas_DIFF  Puntos_DIFF  Racha_DIFF  Victorias_KO_DIFF  \\\n",
       "283         16.0            4    -8.784941          -1              -0.76   \n",
       "284         -3.0            1    -9.062451          -1              -1.60   \n",
       "285          0.0            0    -9.999992           0              -0.36   \n",
       "286         -4.0            0    -0.381411          -2              -1.00   \n",
       "287         -1.0           -1    -3.628998           5               1.00   \n",
       "\n",
       "     Victorias_Sub_DIFF  Victorias_Decision_DIFF  Derrotas_KO_DIFF  \\\n",
       "283                0.00                     4.00             -0.24   \n",
       "284               -2.36                     2.36             -1.00   \n",
       "285                0.00                     0.36             -0.60   \n",
       "286                1.00                    -0.60              0.60   \n",
       "287               -4.36                     2.96              0.00   \n",
       "\n",
       "     Derrotas_Sub_DIFF  Derrotas_Decision_DIFF  \n",
       "283                0.0                     1.0  \n",
       "284                1.0                     2.6  \n",
       "285                0.0                     0.6  \n",
       "286                0.0                     0.0  \n",
       "287                0.0                    -1.6  \n",
       "\n",
       "[5 rows x 31 columns]"
      ]
     },
     "execution_count": 4,
     "metadata": {},
     "output_type": "execute_result"
    }
   ],
   "source": [
    "# Lista de columnas que tienen contraparte en A y B\n",
    "columnas_a = ['KD_A', 'SIG_STR_A', 'TD_PORC_A', 'SUB_ATT_A', 'REV_A', 'CTRL_A', \n",
    "              'TOTAL_STR_A_x', 'TOTAL_STR_A_y', 'TD_A_x', 'TD_A_y', \n",
    "              'STR_HEAD_A_x', 'STR_HEAD_A_y', 'STR_BODY_A_x', 'STR_BODY_A_y', \n",
    "              'STR_LEG_A_x', 'STR_LEG_A_y', 'STR_DISTANCE_A_x', 'STR_DISTANCE_A_y', \n",
    "              'STR_CLINCH_A_x', 'STR_CLINCH_A_y', 'STR_GROUND_A_x', 'STR_GROUND_A_y', \n",
    "              'STRIKER_A', 'GRAPPLER_A', 'Record_A', 'Peleas_A', 'Puntos_A', \n",
    "              'Racha_A', 'Victorias_KO_A', 'Victorias_Sub_A', 'Victorias_Decision_A', \n",
    "              'Derrotas_KO_A', 'Derrotas_Sub_A', 'Derrotas_Decision_A']\n",
    "\n",
    "columnas_b = ['KD_B', 'SIG_STR_B', 'TD_PORC_B', 'SUB_ATT_B', 'REV_B', 'CTRL_B', \n",
    "              'TOTAL_STR_B_x', 'TOTAL_STR_B_y', 'TD_B_x', 'TD_B_y', \n",
    "              'STR_HEAD_B_x', 'STR_HEAD_B_y', 'STR_BODY_B_x', 'STR_BODY_B_y', \n",
    "              'STR_LEG_B_x', 'STR_LEG_B_y', 'STR_DISTANCE_B_x', 'STR_DISTANCE_B_y', \n",
    "              'STR_CLINCH_B_x', 'STR_CLINCH_B_y', 'STR_GROUND_B_x', 'STR_GROUND_B_y', \n",
    "              'STRIKER_B', 'GRAPPLER_B', 'Record_B', 'Peleas_B', 'Puntos_B', \n",
    "              'Racha_B', 'Victorias_KO_B', 'Victorias_Sub_B', 'Victorias_Decision_B', \n",
    "              'Derrotas_KO_B', 'Derrotas_Sub_B', 'Derrotas_Decision_B']\n",
    "\n",
    "# Calcular las diferencias\n",
    "for col_a, col_b in zip(columnas_a, columnas_b):\n",
    "    if col_a in df.columns and col_b in df.columns:\n",
    "        df[f'{col_a[:-2]}_DIFF'] = df[col_a] - df[col_b]\n",
    "\n",
    "# Eliminar las columnas originales\n",
    "df.drop(columns=columnas_a + columnas_b, inplace=True)\n",
    "\n",
    "# Mostrar el DataFrame resultante\n",
    "df.head()"
   ]
  },
  {
   "cell_type": "code",
   "execution_count": 20,
   "metadata": {},
   "outputs": [],
   "source": [
    "ruta_dif =  os.path.join(\"..\",\"..\",\"..\", \"data\", \"P2_dif\",\"completo_dif.parquet\")\n",
    "df.to_parquet(ruta_dif, index=False)"
   ]
  },
  {
   "cell_type": "markdown",
   "metadata": {},
   "source": [
    "### Particion de los datos\n",
    "Se dividen los datos en train y test, respetando el orden temporal"
   ]
  },
  {
   "cell_type": "code",
   "execution_count": 6,
   "metadata": {},
   "outputs": [
    {
     "name": "stdout",
     "output_type": "stream",
     "text": [
      "Última fecha en train: 2023-02-04 00:00:00\n",
      "Última fecha en test: 2025-02-15 00:00:00\n",
      "Train: 2372, Test: 594\n"
     ]
    }
   ],
   "source": [
    "# Ordenar por fecha (si no está ordenado ya)\n",
    "df = df.sort_values(by=\"DATE\")\n",
    "\n",
    "# Definir los tamaños de cada subconjunto\n",
    "train_size = 0.8  # 80%\n",
    "test_size = 0.2    # 20%\n",
    "\n",
    "# Calcular índice de corte\n",
    "n = len(df)\n",
    "train_end = int(n * train_size)\n",
    "\n",
    "# Dividir el DataFrame\n",
    "df_train = df.iloc[:train_end]\n",
    "df_test = df.iloc[train_end:]\n",
    "\n",
    "# Obtener las fechas de corte\n",
    "train_end_date = df_train[\"DATE\"].max()\n",
    "test_end_date = df_test[\"DATE\"].max()\n",
    "\n",
    "print(f\"Última fecha en train: {train_end_date}\")\n",
    "print(f\"Última fecha en test: {test_end_date}\")\n",
    "\n",
    "# Mostrar tamaños\n",
    "print(f\"Train: {len(df_train)}, Test: {len(df_test)}\")\n"
   ]
  },
  {
   "cell_type": "markdown",
   "metadata": {},
   "source": [
    "Se verifica la distribución de las clases tras la división. Como se observa están muy poco desbalanceadas"
   ]
  },
  {
   "cell_type": "code",
   "execution_count": 7,
   "metadata": {},
   "outputs": [
    {
     "name": "stdout",
     "output_type": "stream",
     "text": [
      "Entrenamiento: 2372 muestras (80%) | Distribución: {False: 0.56, True: 0.44}\n",
      "Prueba: 594 muestras (20%) | Distribución: {False: 0.55, True: 0.45}\n"
     ]
    }
   ],
   "source": [
    "# Verificar tamaños y balance\n",
    "def check_distribution(data, name):\n",
    "    total = len(data)\n",
    "    class_dist = data[\"WINNER\"].value_counts(normalize=True).round(2)\n",
    "    print(f\"{name}: {total} muestras ({total/len(df):.0%}) | Distribución: {class_dist.to_dict()}\")\n",
    "\n",
    "check_distribution(df_train, \"Entrenamiento\")\n",
    "check_distribution(df_test, \"Prueba\")"
   ]
  },
  {
   "cell_type": "markdown",
   "metadata": {},
   "source": [
    "### Guardar datos\n",
    "Se guardan los *dataframes* en archivos *parquet*"
   ]
  },
  {
   "cell_type": "code",
   "execution_count": 8,
   "metadata": {},
   "outputs": [],
   "source": [
    "base_dir = os.path.join(os.getcwd(), \"..\", \"..\", \"..\",\"data\")\n",
    "ruta_partition = os.path.join(base_dir, \"P2_dif\")\n",
    "\n",
    "os.makedirs(ruta_partition, exist_ok=True)\n",
    "\n",
    "df_train.to_parquet(os.path.join(ruta_partition, \"train.parquet\"), index = False)\n",
    "df_test.to_parquet(os.path.join(ruta_partition, \"test.parquet\"), index = False)"
   ]
  }
 ],
 "metadata": {
  "kernelspec": {
   "display_name": ".venv",
   "language": "python",
   "name": "python3"
  },
  "language_info": {
   "codemirror_mode": {
    "name": "ipython",
    "version": 3
   },
   "file_extension": ".py",
   "mimetype": "text/x-python",
   "name": "python",
   "nbconvert_exporter": "python",
   "pygments_lexer": "ipython3",
   "version": "3.13.1"
  }
 },
 "nbformat": 4,
 "nbformat_minor": 2
}
