{
 "cells": [
  {
   "cell_type": "markdown",
   "metadata": {},
   "source": [
    "# XGBoost con variables de las diferencias de medias ponderadas\n",
    "\n",
    "* [Carga de los datos](#carga-de-los-datos)\n",
    "* [Transformaciones](#transformaciones)\n",
    "* [Selección de variables](#seleccion-de-variables)\n",
    "* [Ajuste de hiperparámetros](#ajuste-de-hiperparametros)\n",
    "* [Conclusiones](#conclusiones)"
   ]
  },
  {
   "cell_type": "code",
   "execution_count": 43,
   "metadata": {},
   "outputs": [],
   "source": [
    "import pandas as pd\n",
    "import numpy as np\n",
    "from sklearn.model_selection import  GridSearchCV, RandomizedSearchCV, TimeSeriesSplit,cross_val_score\n",
    "from sklearn.metrics import classification_report, confusion_matrix, accuracy_score,log_loss, make_scorer, f1_score, roc_auc_score, precision_score, recall_score, balanced_accuracy_score\n",
    "import os\n",
    "from sklearn.utils.class_weight import compute_class_weight\n",
    "from xgboost import XGBClassifier\n",
    "import seaborn as sns\n",
    "import matplotlib.pyplot as plt\n",
    "from sklearn.inspection import permutation_importance\n",
    "import mlflow\n",
    "import optuna\n",
    "from optuna.samplers import TPESampler\n",
    "import random"
   ]
  },
  {
   "cell_type": "code",
   "execution_count": 44,
   "metadata": {},
   "outputs": [],
   "source": [
    "np.random.seed(42)\n",
    "random.seed(42)"
   ]
  },
  {
   "cell_type": "markdown",
   "metadata": {},
   "source": [
    "### Descripción general del notebook\n",
    "\n",
    "En este notebook se llevará a cabo el modelado y entrenamiento de un modelo XGBoost con el propósito de predecir el ganador de una pelea. Para ello, se utilizarán las diferencias en las estadísticas medias de cada peleador como variables predictoras.\n",
    "\n",
    "El objetivo principal es explorar alternativas que permitan mejorar el desempeño del modelo en comparación con la versión basada en medias ponderadas.\n",
    "\n",
    "Dado que el proceso de transformación de datos, selección de variables y ajuste de hiperparámetros será similar al realizado en el otro notebook, estos aspectos no serán abordados en detalle en esta ocasión."
   ]
  },
  {
   "cell_type": "code",
   "execution_count": 30,
   "metadata": {},
   "outputs": [
    {
     "name": "stdout",
     "output_type": "stream",
     "text": [
      "MLflow tracking URI: file:///c:\\Users\\mattu\\OneDrive\\Documentos\\GitHub\\c2425-R4\\mlruns\n"
     ]
    }
   ],
   "source": [
    "ruta_mlflow = os.path.abspath(os.path.join(\"..\", \"..\", \"..\", \"mlruns\"))\n",
    "\n",
    " # Configurar MLflow para guardar los modelos en esa ruta\n",
    "mlflow.set_tracking_uri(f\"file:///{ruta_mlflow}\")\n",
    "\n",
    "print(\"MLflow tracking URI:\", mlflow.get_tracking_uri())  "
   ]
  },
  {
   "cell_type": "code",
   "execution_count": 31,
   "metadata": {},
   "outputs": [
    {
     "name": "stderr",
     "output_type": "stream",
     "text": [
      "2025/03/26 11:07:03 INFO mlflow.tracking.fluent: Experiment with name 'Prueba con df ponderado P2 usanod P2_dif XGBoost, datos finales' does not exist. Creating a new experiment.\n"
     ]
    },
    {
     "data": {
      "text/plain": [
       "<Experiment: artifact_location='file:///c:\\\\Users\\\\mattu\\\\OneDrive\\\\Documentos\\\\GitHub\\\\c2425-R4\\\\mlruns/327375263980051994', creation_time=1742983623731, experiment_id='327375263980051994', last_update_time=1742983623731, lifecycle_stage='active', name='Prueba con df ponderado P2 usanod P2_dif XGBoost, datos finales', tags={}>"
      ]
     },
     "execution_count": 31,
     "metadata": {},
     "output_type": "execute_result"
    }
   ],
   "source": [
    "mlflow.set_experiment(\"Prueba con df ponderado P2 usanod P2_dif XGBoost, datos finales\")"
   ]
  },
  {
   "cell_type": "markdown",
   "metadata": {},
   "source": [
    "Para guardar los resultados de diferentes experimentos creamos un directorio mlruns donde se guardarán los modelos realizados con una breve descripción y sus resultados."
   ]
  },
  {
   "cell_type": "markdown",
   "metadata": {},
   "source": [
    "### Carga de los datos"
   ]
  },
  {
   "cell_type": "markdown",
   "metadata": {},
   "source": [
    "Cargamos el conjunto de train y test los cuales han sido seleccionados respetando el orden cronológico debido a que es una serie temporal. Separamos los conjuntos en X e y. En X guardamos todas las variables que puedan ser introducidas al modelo, excluyendo los nombres, la fecha y la variable respuesta. En y guardamos la variable respuesta."
   ]
  },
  {
   "cell_type": "code",
   "execution_count": 3,
   "metadata": {},
   "outputs": [
    {
     "data": {
      "text/html": [
       "<div>\n",
       "<style scoped>\n",
       "    .dataframe tbody tr th:only-of-type {\n",
       "        vertical-align: middle;\n",
       "    }\n",
       "\n",
       "    .dataframe tbody tr th {\n",
       "        vertical-align: top;\n",
       "    }\n",
       "\n",
       "    .dataframe thead th {\n",
       "        text-align: right;\n",
       "    }\n",
       "</style>\n",
       "<table border=\"1\" class=\"dataframe\">\n",
       "  <thead>\n",
       "    <tr style=\"text-align: right;\">\n",
       "      <th></th>\n",
       "      <th>DATE</th>\n",
       "      <th>Peleador_A</th>\n",
       "      <th>Peleador_B</th>\n",
       "      <th>WINNER</th>\n",
       "      <th>KD_DIFF</th>\n",
       "      <th>SIG_STR_DIFF</th>\n",
       "      <th>TD_DIFF</th>\n",
       "      <th>SUB_ATT_DIFF</th>\n",
       "      <th>REV_DIFF</th>\n",
       "      <th>CTRL_DIFF</th>\n",
       "      <th>...</th>\n",
       "      <th>Record_DIFF</th>\n",
       "      <th>Peleas_DIFF</th>\n",
       "      <th>Puntos_DIFF</th>\n",
       "      <th>Racha_DIFF</th>\n",
       "      <th>Victorias_KO_DIFF</th>\n",
       "      <th>Victorias_Sub_DIFF</th>\n",
       "      <th>Victorias_Decision_DIFF</th>\n",
       "      <th>Derrotas_KO_DIFF</th>\n",
       "      <th>Derrotas_Sub_DIFF</th>\n",
       "      <th>Derrotas_Decision_DIFF</th>\n",
       "    </tr>\n",
       "  </thead>\n",
       "  <tbody>\n",
       "    <tr>\n",
       "      <th>0</th>\n",
       "      <td>2010-01-02</td>\n",
       "      <td>Rashad Evans</td>\n",
       "      <td>Thiago Silva</td>\n",
       "      <td>False</td>\n",
       "      <td>0.04</td>\n",
       "      <td>-0.2808</td>\n",
       "      <td>0.193548</td>\n",
       "      <td>-0.40</td>\n",
       "      <td>0.00</td>\n",
       "      <td>-18.84</td>\n",
       "      <td>...</td>\n",
       "      <td>16.0</td>\n",
       "      <td>4</td>\n",
       "      <td>-8.396724</td>\n",
       "      <td>-1</td>\n",
       "      <td>-0.76</td>\n",
       "      <td>0.00</td>\n",
       "      <td>4.00</td>\n",
       "      <td>-0.24</td>\n",
       "      <td>0.0</td>\n",
       "      <td>1.0</td>\n",
       "    </tr>\n",
       "    <tr>\n",
       "      <th>1</th>\n",
       "      <td>2010-01-02</td>\n",
       "      <td>Sam Stout</td>\n",
       "      <td>Joe Lauzon</td>\n",
       "      <td>False</td>\n",
       "      <td>0.36</td>\n",
       "      <td>-0.2228</td>\n",
       "      <td>-0.371306</td>\n",
       "      <td>-2.72</td>\n",
       "      <td>0.00</td>\n",
       "      <td>-101.68</td>\n",
       "      <td>...</td>\n",
       "      <td>-3.0</td>\n",
       "      <td>1</td>\n",
       "      <td>-8.453158</td>\n",
       "      <td>-1</td>\n",
       "      <td>-1.60</td>\n",
       "      <td>-2.36</td>\n",
       "      <td>2.36</td>\n",
       "      <td>-1.00</td>\n",
       "      <td>1.0</td>\n",
       "      <td>2.6</td>\n",
       "    </tr>\n",
       "    <tr>\n",
       "      <th>2</th>\n",
       "      <td>2010-01-11</td>\n",
       "      <td>Rafael Dos Anjos</td>\n",
       "      <td>Kyle Bradley</td>\n",
       "      <td>False</td>\n",
       "      <td>0.00</td>\n",
       "      <td>0.0416</td>\n",
       "      <td>0.086912</td>\n",
       "      <td>1.52</td>\n",
       "      <td>0.24</td>\n",
       "      <td>213.96</td>\n",
       "      <td>...</td>\n",
       "      <td>0.0</td>\n",
       "      <td>0</td>\n",
       "      <td>-9.999989</td>\n",
       "      <td>0</td>\n",
       "      <td>-0.36</td>\n",
       "      <td>0.00</td>\n",
       "      <td>0.36</td>\n",
       "      <td>-0.60</td>\n",
       "      <td>0.0</td>\n",
       "      <td>0.6</td>\n",
       "    </tr>\n",
       "    <tr>\n",
       "      <th>3</th>\n",
       "      <td>2010-01-11</td>\n",
       "      <td>Amir Sadollah</td>\n",
       "      <td>Brad Blackburn</td>\n",
       "      <td>False</td>\n",
       "      <td>-1.84</td>\n",
       "      <td>-0.0176</td>\n",
       "      <td>0.000000</td>\n",
       "      <td>0.44</td>\n",
       "      <td>0.00</td>\n",
       "      <td>23.04</td>\n",
       "      <td>...</td>\n",
       "      <td>-4.0</td>\n",
       "      <td>0</td>\n",
       "      <td>-1.547747</td>\n",
       "      <td>-2</td>\n",
       "      <td>-1.00</td>\n",
       "      <td>1.00</td>\n",
       "      <td>-0.60</td>\n",
       "      <td>0.60</td>\n",
       "      <td>0.0</td>\n",
       "      <td>0.0</td>\n",
       "    </tr>\n",
       "    <tr>\n",
       "      <th>4</th>\n",
       "      <td>2010-01-11</td>\n",
       "      <td>Gray Maynard</td>\n",
       "      <td>Nate Diaz</td>\n",
       "      <td>False</td>\n",
       "      <td>0.00</td>\n",
       "      <td>0.0492</td>\n",
       "      <td>0.328320</td>\n",
       "      <td>-0.52</td>\n",
       "      <td>-0.48</td>\n",
       "      <td>249.72</td>\n",
       "      <td>...</td>\n",
       "      <td>-1.0</td>\n",
       "      <td>-1</td>\n",
       "      <td>-2.953928</td>\n",
       "      <td>5</td>\n",
       "      <td>1.00</td>\n",
       "      <td>-4.36</td>\n",
       "      <td>2.96</td>\n",
       "      <td>0.00</td>\n",
       "      <td>0.0</td>\n",
       "      <td>-1.6</td>\n",
       "    </tr>\n",
       "  </tbody>\n",
       "</table>\n",
       "<p>5 rows × 31 columns</p>\n",
       "</div>"
      ],
      "text/plain": [
       "        DATE        Peleador_A      Peleador_B  WINNER  KD_DIFF  SIG_STR_DIFF  \\\n",
       "0 2010-01-02      Rashad Evans    Thiago Silva   False     0.04       -0.2808   \n",
       "1 2010-01-02         Sam Stout      Joe Lauzon   False     0.36       -0.2228   \n",
       "2 2010-01-11  Rafael Dos Anjos    Kyle Bradley   False     0.00        0.0416   \n",
       "3 2010-01-11     Amir Sadollah  Brad Blackburn   False    -1.84       -0.0176   \n",
       "4 2010-01-11      Gray Maynard       Nate Diaz   False     0.00        0.0492   \n",
       "\n",
       "    TD_DIFF  SUB_ATT_DIFF  REV_DIFF  CTRL_DIFF  ...  Record_DIFF  Peleas_DIFF  \\\n",
       "0  0.193548         -0.40      0.00     -18.84  ...         16.0            4   \n",
       "1 -0.371306         -2.72      0.00    -101.68  ...         -3.0            1   \n",
       "2  0.086912          1.52      0.24     213.96  ...          0.0            0   \n",
       "3  0.000000          0.44      0.00      23.04  ...         -4.0            0   \n",
       "4  0.328320         -0.52     -0.48     249.72  ...         -1.0           -1   \n",
       "\n",
       "   Puntos_DIFF  Racha_DIFF  Victorias_KO_DIFF  Victorias_Sub_DIFF  \\\n",
       "0    -8.396724          -1              -0.76                0.00   \n",
       "1    -8.453158          -1              -1.60               -2.36   \n",
       "2    -9.999989           0              -0.36                0.00   \n",
       "3    -1.547747          -2              -1.00                1.00   \n",
       "4    -2.953928           5               1.00               -4.36   \n",
       "\n",
       "   Victorias_Decision_DIFF  Derrotas_KO_DIFF  Derrotas_Sub_DIFF  \\\n",
       "0                     4.00             -0.24                0.0   \n",
       "1                     2.36             -1.00                1.0   \n",
       "2                     0.36             -0.60                0.0   \n",
       "3                    -0.60              0.60                0.0   \n",
       "4                     2.96              0.00                0.0   \n",
       "\n",
       "   Derrotas_Decision_DIFF  \n",
       "0                     1.0  \n",
       "1                     2.6  \n",
       "2                     0.6  \n",
       "3                     0.0  \n",
       "4                    -1.6  \n",
       "\n",
       "[5 rows x 31 columns]"
      ]
     },
     "execution_count": 3,
     "metadata": {},
     "output_type": "execute_result"
    }
   ],
   "source": [
    "#Leo los df divididos en orden cronológico de forma que los resultados sean lo más reales posibles\n",
    "ruta_train =  os.path.join(\"..\",\"..\",\"..\", \"data\", \"P2_dif\",\"train.parquet\")\n",
    "df_train = pd.read_parquet(ruta_train)\n",
    "df_train.head()"
   ]
  },
  {
   "cell_type": "code",
   "execution_count": 4,
   "metadata": {},
   "outputs": [
    {
     "data": {
      "text/html": [
       "<div>\n",
       "<style scoped>\n",
       "    .dataframe tbody tr th:only-of-type {\n",
       "        vertical-align: middle;\n",
       "    }\n",
       "\n",
       "    .dataframe tbody tr th {\n",
       "        vertical-align: top;\n",
       "    }\n",
       "\n",
       "    .dataframe thead th {\n",
       "        text-align: right;\n",
       "    }\n",
       "</style>\n",
       "<table border=\"1\" class=\"dataframe\">\n",
       "  <thead>\n",
       "    <tr style=\"text-align: right;\">\n",
       "      <th></th>\n",
       "      <th>DATE</th>\n",
       "      <th>Peleador_A</th>\n",
       "      <th>Peleador_B</th>\n",
       "      <th>WINNER</th>\n",
       "      <th>KD_DIFF</th>\n",
       "      <th>SIG_STR_DIFF</th>\n",
       "      <th>TD_DIFF</th>\n",
       "      <th>SUB_ATT_DIFF</th>\n",
       "      <th>REV_DIFF</th>\n",
       "      <th>CTRL_DIFF</th>\n",
       "      <th>...</th>\n",
       "      <th>Record_DIFF</th>\n",
       "      <th>Peleas_DIFF</th>\n",
       "      <th>Puntos_DIFF</th>\n",
       "      <th>Racha_DIFF</th>\n",
       "      <th>Victorias_KO_DIFF</th>\n",
       "      <th>Victorias_Sub_DIFF</th>\n",
       "      <th>Victorias_Decision_DIFF</th>\n",
       "      <th>Derrotas_KO_DIFF</th>\n",
       "      <th>Derrotas_Sub_DIFF</th>\n",
       "      <th>Derrotas_Decision_DIFF</th>\n",
       "    </tr>\n",
       "  </thead>\n",
       "  <tbody>\n",
       "    <tr>\n",
       "      <th>0</th>\n",
       "      <td>2022-11-19</td>\n",
       "      <td>Kennedy Nzechukwu</td>\n",
       "      <td>Ion Cutelaba</td>\n",
       "      <td>False</td>\n",
       "      <td>-0.4</td>\n",
       "      <td>-0.1032</td>\n",
       "      <td>-0.110729</td>\n",
       "      <td>0.36</td>\n",
       "      <td>0.00</td>\n",
       "      <td>-39.60</td>\n",
       "      <td>...</td>\n",
       "      <td>-1.0</td>\n",
       "      <td>-6</td>\n",
       "      <td>86.483419</td>\n",
       "      <td>1</td>\n",
       "      <td>-0.64</td>\n",
       "      <td>0.00</td>\n",
       "      <td>-1.0</td>\n",
       "      <td>-1.00</td>\n",
       "      <td>-1.96</td>\n",
       "      <td>-1.40</td>\n",
       "    </tr>\n",
       "    <tr>\n",
       "      <th>1</th>\n",
       "      <td>2022-11-19</td>\n",
       "      <td>Vince Morales</td>\n",
       "      <td>Miles Johns</td>\n",
       "      <td>True</td>\n",
       "      <td>-0.4</td>\n",
       "      <td>-0.0820</td>\n",
       "      <td>0.153846</td>\n",
       "      <td>0.00</td>\n",
       "      <td>0.36</td>\n",
       "      <td>-52.16</td>\n",
       "      <td>...</td>\n",
       "      <td>0.0</td>\n",
       "      <td>2</td>\n",
       "      <td>14.457185</td>\n",
       "      <td>0</td>\n",
       "      <td>-1.00</td>\n",
       "      <td>0.00</td>\n",
       "      <td>1.0</td>\n",
       "      <td>0.00</td>\n",
       "      <td>-0.36</td>\n",
       "      <td>2.36</td>\n",
       "    </tr>\n",
       "    <tr>\n",
       "      <th>2</th>\n",
       "      <td>2022-11-19</td>\n",
       "      <td>Andre Fialho</td>\n",
       "      <td>Muslim Salikhov</td>\n",
       "      <td>True</td>\n",
       "      <td>0.4</td>\n",
       "      <td>0.0696</td>\n",
       "      <td>-0.192661</td>\n",
       "      <td>0.00</td>\n",
       "      <td>0.00</td>\n",
       "      <td>-54.80</td>\n",
       "      <td>...</td>\n",
       "      <td>-4.0</td>\n",
       "      <td>-3</td>\n",
       "      <td>-62.740928</td>\n",
       "      <td>0</td>\n",
       "      <td>-0.40</td>\n",
       "      <td>0.00</td>\n",
       "      <td>-2.6</td>\n",
       "      <td>0.00</td>\n",
       "      <td>-1.00</td>\n",
       "      <td>1.00</td>\n",
       "    </tr>\n",
       "    <tr>\n",
       "      <th>3</th>\n",
       "      <td>2022-11-19</td>\n",
       "      <td>Jennifer Maia</td>\n",
       "      <td>Maryna Moroz</td>\n",
       "      <td>False</td>\n",
       "      <td>0.0</td>\n",
       "      <td>-0.1640</td>\n",
       "      <td>-0.069020</td>\n",
       "      <td>-1.08</td>\n",
       "      <td>0.00</td>\n",
       "      <td>-340.04</td>\n",
       "      <td>...</td>\n",
       "      <td>2.0</td>\n",
       "      <td>0</td>\n",
       "      <td>-22.321428</td>\n",
       "      <td>-3</td>\n",
       "      <td>0.00</td>\n",
       "      <td>-0.36</td>\n",
       "      <td>-0.6</td>\n",
       "      <td>0.00</td>\n",
       "      <td>0.00</td>\n",
       "      <td>0.96</td>\n",
       "    </tr>\n",
       "    <tr>\n",
       "      <th>4</th>\n",
       "      <td>2022-12-03</td>\n",
       "      <td>Eryk Anders</td>\n",
       "      <td>Kyle Daukaus</td>\n",
       "      <td>False</td>\n",
       "      <td>0.0</td>\n",
       "      <td>-0.1396</td>\n",
       "      <td>-0.158176</td>\n",
       "      <td>-1.68</td>\n",
       "      <td>0.40</td>\n",
       "      <td>189.72</td>\n",
       "      <td>...</td>\n",
       "      <td>-1.0</td>\n",
       "      <td>8</td>\n",
       "      <td>-58.874428</td>\n",
       "      <td>0</td>\n",
       "      <td>3.00</td>\n",
       "      <td>-0.60</td>\n",
       "      <td>2.0</td>\n",
       "      <td>0.64</td>\n",
       "      <td>0.60</td>\n",
       "      <td>2.36</td>\n",
       "    </tr>\n",
       "  </tbody>\n",
       "</table>\n",
       "<p>5 rows × 31 columns</p>\n",
       "</div>"
      ],
      "text/plain": [
       "        DATE         Peleador_A       Peleador_B  WINNER  KD_DIFF  \\\n",
       "0 2022-11-19  Kennedy Nzechukwu     Ion Cutelaba   False     -0.4   \n",
       "1 2022-11-19      Vince Morales      Miles Johns    True     -0.4   \n",
       "2 2022-11-19       Andre Fialho  Muslim Salikhov    True      0.4   \n",
       "3 2022-11-19      Jennifer Maia     Maryna Moroz   False      0.0   \n",
       "4 2022-12-03        Eryk Anders     Kyle Daukaus   False      0.0   \n",
       "\n",
       "   SIG_STR_DIFF   TD_DIFF  SUB_ATT_DIFF  REV_DIFF  CTRL_DIFF  ...  \\\n",
       "0       -0.1032 -0.110729          0.36      0.00     -39.60  ...   \n",
       "1       -0.0820  0.153846          0.00      0.36     -52.16  ...   \n",
       "2        0.0696 -0.192661          0.00      0.00     -54.80  ...   \n",
       "3       -0.1640 -0.069020         -1.08      0.00    -340.04  ...   \n",
       "4       -0.1396 -0.158176         -1.68      0.40     189.72  ...   \n",
       "\n",
       "   Record_DIFF  Peleas_DIFF  Puntos_DIFF  Racha_DIFF  Victorias_KO_DIFF  \\\n",
       "0         -1.0           -6    86.483419           1              -0.64   \n",
       "1          0.0            2    14.457185           0              -1.00   \n",
       "2         -4.0           -3   -62.740928           0              -0.40   \n",
       "3          2.0            0   -22.321428          -3               0.00   \n",
       "4         -1.0            8   -58.874428           0               3.00   \n",
       "\n",
       "   Victorias_Sub_DIFF  Victorias_Decision_DIFF  Derrotas_KO_DIFF  \\\n",
       "0                0.00                     -1.0             -1.00   \n",
       "1                0.00                      1.0              0.00   \n",
       "2                0.00                     -2.6              0.00   \n",
       "3               -0.36                     -0.6              0.00   \n",
       "4               -0.60                      2.0              0.64   \n",
       "\n",
       "   Derrotas_Sub_DIFF  Derrotas_Decision_DIFF  \n",
       "0              -1.96                   -1.40  \n",
       "1              -0.36                    2.36  \n",
       "2              -1.00                    1.00  \n",
       "3               0.00                    0.96  \n",
       "4               0.60                    2.36  \n",
       "\n",
       "[5 rows x 31 columns]"
      ]
     },
     "execution_count": 4,
     "metadata": {},
     "output_type": "execute_result"
    }
   ],
   "source": [
    "ruta_test = os.path.join(\"..\",\"..\",\"..\",\"data\", \"P2_dif\",\"test.parquet\")\n",
    "df_test = pd.read_parquet(ruta_test)\n",
    "df_test.head()"
   ]
  },
  {
   "cell_type": "code",
   "execution_count": 5,
   "metadata": {},
   "outputs": [
    {
     "data": {
      "text/plain": [
       "WINNER\n",
       "False    0.56343\n",
       "True     0.43657\n",
       "Name: proportion, dtype: float64"
      ]
     },
     "execution_count": 5,
     "metadata": {},
     "output_type": "execute_result"
    }
   ],
   "source": [
    "X_train = df_train.drop(columns=[\"DATE\",\"Peleador_A\",\"Peleador_B\",\"WINNER\"])\n",
    "y_train = df_train[\"WINNER\"]\n",
    "y_train.value_counts(normalize=True)"
   ]
  },
  {
   "cell_type": "code",
   "execution_count": 6,
   "metadata": {},
   "outputs": [
    {
     "data": {
      "text/plain": [
       "WINNER\n",
       "False    0.546166\n",
       "True     0.453834\n",
       "Name: proportion, dtype: float64"
      ]
     },
     "execution_count": 6,
     "metadata": {},
     "output_type": "execute_result"
    }
   ],
   "source": [
    "X_test = df_test.drop(columns=[\"DATE\",\"Peleador_A\",\"Peleador_B\",\"WINNER\"])\n",
    "y_test = df_test[\"WINNER\"]\n",
    "y_test.value_counts(normalize=True)"
   ]
  },
  {
   "cell_type": "markdown",
   "metadata": {},
   "source": [
    "### Transformaciones"
   ]
  },
  {
   "cell_type": "markdown",
   "metadata": {},
   "source": [
    "Para el modelo XGBoost no es necesario realizar transformaciones previas de las variables, como la normalización o estandarización. Como no tenemos variables categóricas, tampoco será necesario ningún tipo de codificación."
   ]
  },
  {
   "cell_type": "markdown",
   "metadata": {},
   "source": [
    "### Seleccion de variables"
   ]
  },
  {
   "cell_type": "markdown",
   "metadata": {},
   "source": [
    "El modelo XGBoostClassifier no requiere una selección explícita de variables antes del entrenamiento. Cada nodo selecciona automáticamente la variable que proporciona la mayor ganancia de información o reducción de impureza. "
   ]
  },
  {
   "cell_type": "markdown",
   "metadata": {},
   "source": [
    "### Ajuste de hiperparametros"
   ]
  },
  {
   "cell_type": "markdown",
   "metadata": {},
   "source": [
    "Para buscar una configuración óptima de hiperparámetros he utilizado dos estrategias, GridSearchCV y RandomizedSearchCV. "
   ]
  },
  {
   "cell_type": "markdown",
   "metadata": {},
   "source": [
    "### GridSearch"
   ]
  },
  {
   "cell_type": "code",
   "execution_count": 38,
   "metadata": {},
   "outputs": [],
   "source": [
    "def train_xgboost_grid(X_train, y_train, X_val, y_val):\n",
    "    # Calcular pesos de clase para manejar desbalance de datos\n",
    "    class_weights = compute_class_weight('balanced', classes=np.unique(y_train), y=y_train)\n",
    "    scale_pos_weight = class_weights[1] / class_weights[0] if len(class_weights) > 1 else 1\n",
    "    tscv = TimeSeriesSplit(n_splits=5)\n",
    "    # Definir modelo base\n",
    "    xgb = XGBClassifier(random_state=42)\n",
    "\n",
    "\n",
    "    param_grid = {\n",
    "    'n_estimators': [100, 250],\n",
    "    'learning_rate': [0.01, 0.05],  \n",
    "    'subsample': [0.7, 1.0],  \n",
    "    'colsample_bytree': [0.5, 0.7, 1.0],  # Añadir 0.5 para más regularización\n",
    "    'gamma': [0, 0.1],  \n",
    "    'min_child_weight': [10,35,50],  # Añadir 3 como punto intermedio \n",
    "    'reg_alpha': [0.1, 1.0], \n",
    "    'reg_lambda': [0.1, 1.0], \n",
    "    'scale_pos_weight': [1, scale_pos_weight]  \n",
    "}\n",
    "\n",
    "\n",
    "    # Definir la métrica de optimización como el F1-score macro\n",
    "    f1_scorer = make_scorer(f1_score, average='macro')\n",
    "\n",
    "    # Búsqueda con validación cruzada\n",
    "    grid_search = GridSearchCV(\n",
    "        estimator=xgb,\n",
    "        param_grid=param_grid,\n",
    "        scoring=f1_scorer,\n",
    "        cv=tscv,\n",
    "        n_jobs=-1,\n",
    "        verbose=2\n",
    "    )\n",
    "\n",
    "    # Entrenar el modelo\n",
    "    grid_search.fit(X_train, y_train)\n",
    "\n",
    "    # Imprimir mejores parámetros\n",
    "    print(\"Mejores parámetros:\", grid_search.best_params_)\n",
    "\n",
    "    # Evaluar el mejor modelo en el conjunto de validación\n",
    "    y_pred = grid_search.best_estimator_.predict(X_val)\n",
    "    print(\"Reporte de clasificación:\")\n",
    "    print(classification_report(y_val, y_pred))\n",
    "\n",
    "    return grid_search.best_estimator_,grid_search.best_params_"
   ]
  },
  {
   "cell_type": "markdown",
   "metadata": {},
   "source": [
    "#### Entrenamiento usando ajuste de hiperparámetros"
   ]
  },
  {
   "cell_type": "code",
   "execution_count": 39,
   "metadata": {},
   "outputs": [
    {
     "name": "stdout",
     "output_type": "stream",
     "text": [
      "-- Entrenamiento usando ajuste de hiperparámetros con GridSearchCV --\n",
      "Fitting 5 folds for each of 1152 candidates, totalling 5760 fits\n",
      "Mejores parámetros: {'colsample_bytree': 1.0, 'gamma': 0.1, 'learning_rate': 0.01, 'min_child_weight': 10, 'n_estimators': 100, 'reg_alpha': 1.0, 'reg_lambda': 0.1, 'scale_pos_weight': np.float64(1.2905829596412555), 'subsample': 0.7}\n",
      "Reporte de clasificación:\n",
      "              precision    recall  f1-score   support\n",
      "\n",
      "       False       0.63      0.62      0.63       349\n",
      "        True       0.56      0.57      0.56       290\n",
      "\n",
      "    accuracy                           0.60       639\n",
      "   macro avg       0.60      0.60      0.60       639\n",
      "weighted avg       0.60      0.60      0.60       639\n",
      "\n"
     ]
    }
   ],
   "source": [
    "print(\"-- Entrenamiento usando ajuste de hiperparámetros con GridSearchCV --\")\n",
    "best_grid,best_params = train_xgboost_grid(X_train,y_train,X_test,y_test)\n"
   ]
  },
  {
   "cell_type": "markdown",
   "metadata": {},
   "source": [
    "#### Predicción con el conjunto de test"
   ]
  },
  {
   "cell_type": "code",
   "execution_count": 40,
   "metadata": {},
   "outputs": [
    {
     "name": "stdout",
     "output_type": "stream",
     "text": [
      "-- Métricas del modelo con hiperparámetros ajustados --\n",
      "Accuracy: 0.5978090766823161\n",
      "F1-Score: 0.5622\n",
      "AUC-ROC: 0.6145\n",
      "Precisión: 0.5556\n",
      "Sensibilidad: 0.5690\n",
      "Log-loss: 0.6751273207081139\n"
     ]
    }
   ],
   "source": [
    "print(\"-- Métricas del modelo con hiperparámetros ajustados --\")\n",
    "y_val_pred = best_grid.predict(X_test)\n",
    "y_val_prob = best_grid.predict_proba(X_test)[:,1]\n",
    "print(\"Accuracy:\", accuracy_score(y_test, y_val_pred))\n",
    "f1_val = f1_score(y_test, y_val_pred)\n",
    "roc_auc_val = roc_auc_score(y_test, y_val_prob)\n",
    "precision_val = precision_score(y_test, y_val_pred)\n",
    "recall_val = recall_score(y_test, y_val_pred)\n",
    "log_loss_val = log_loss(y_test,y_val_prob)\n",
    "print(f\"F1-Score: {f1_val:.4f}\")\n",
    "print(f\"AUC-ROC: {roc_auc_val:.4f}\")\n",
    "print(f\"Precisión: {precision_val:.4f}\")\n",
    "print(f\"Sensibilidad: {recall_val:.4f}\")\n",
    "print(f\"Log-loss: {log_loss_val}\")"
   ]
  },
  {
   "cell_type": "markdown",
   "metadata": {},
   "source": [
    "Los resultados obtenidos con el modelo XGBoost, tras el ajuste de hiperparámetros, no son óptimos. Las métricas indican que el modelo no logra una mejora significativa en comparación con una predicción aleatoria y, además, su rendimiento es inferior al del modelo basado en medias ponderadas."
   ]
  },
  {
   "cell_type": "code",
   "execution_count": 41,
   "metadata": {},
   "outputs": [
    {
     "name": "stdout",
     "output_type": "stream",
     "text": [
      "Modelo guardado en MLflow\n"
     ]
    }
   ],
   "source": [
    "if mlflow.active_run():\n",
    "    mlflow.end_run()\n",
    "\n",
    "# Iniciar un nuevo experimento\n",
    "with mlflow.start_run(run_name=\"GridSearchCV\"):\n",
    "\n",
    "    # Guardar modelo en MLflow\n",
    "    mlflow.log_param(\"mejores_parametros\", best_params)\n",
    "    mlflow.log_metric(\"accuracy\", accuracy_score(y_test, y_val_pred))\n",
    "    mlflow.log_metric(\"f1_macro\", f1_score(y_test, y_val_pred))\n",
    "\n",
    "    print(\"Modelo guardado en MLflow\")"
   ]
  },
  {
   "cell_type": "markdown",
   "metadata": {},
   "source": [
    "Esta celda la utilizamos para guardar el modelo y poder saber cual fue el que mejor nos funcionó cuando los comparemos."
   ]
  },
  {
   "cell_type": "markdown",
   "metadata": {},
   "source": [
    "#### Matriz de confusión"
   ]
  },
  {
   "cell_type": "code",
   "execution_count": 14,
   "metadata": {},
   "outputs": [
    {
     "data": {
      "image/png": "[encoded data removed]",
      "text/plain": [
       "<Figure size 640x480 with 2 Axes>"
      ]
     },
     "metadata": {},
     "output_type": "display_data"
    }
   ],
   "source": [
    "# Calcular la matriz de confusión\n",
    "cm = confusion_matrix(y_test, y_val_pred)\n",
    "\n",
    "# Visualizar la matriz de confusión\n",
    "sns.heatmap(cm, annot=True, fmt='d', cmap='Blues', xticklabels=['Clase 0', 'Clase 1'], yticklabels=['Clase 0', 'Clase 1'])\n",
    "plt.xlabel('Predicción')\n",
    "plt.ylabel('Real')\n",
    "plt.title('Matriz de Confusión')\n",
    "plt.show()"
   ]
  },
  {
   "cell_type": "markdown",
   "metadata": {},
   "source": [
    "Si nos fijamos en la matriz de confusión, hay un gran número de falsos positivos y falsos negativos. Por lo que  el modelo no llega a clasificar de forma adecuada cada observación."
   ]
  },
  {
   "cell_type": "markdown",
   "metadata": {},
   "source": [
    "#### Importancia de cada variable"
   ]
  },
  {
   "cell_type": "markdown",
   "metadata": {},
   "source": [
    "Se observa que la variable con mayor peso en la predicción es Racha_DIFF, lo que sugiere que la diferencia en las rachas de victorias entre ambos peleadores es un factor determinante al momento de predecir el ganador de la pelea. \n",
    "\n",
    "Por otro lado, variables como STR_GROUND_A_DIFF (diferencia en golpes significativos en el suelo) y Puntos_DIFF (diferencia en los puntos obtenidos) presentan una importancia similar y considerable."
   ]
  },
  {
   "cell_type": "code",
   "execution_count": 15,
   "metadata": {},
   "outputs": [
    {
     "name": "stdout",
     "output_type": "stream",
     "text": [
      "                    Feature  Importance\n",
      "20               Racha_DIFF    0.068097\n",
      "19              Puntos_DIFF    0.049397\n",
      "26   Derrotas_Decision_DIFF    0.043937\n",
      "14        STR_GROUND_A_DIFF    0.043822\n",
      "24         Derrotas_KO_DIFF    0.041641\n",
      "18              Peleas_DIFF    0.040595\n",
      "9           STR_HEAD_A_DIFF    0.039352\n",
      "4                  REV_DIFF    0.037963\n",
      "5                 CTRL_DIFF    0.036412\n",
      "2                   TD_DIFF    0.035998\n",
      "7          TOTAL_STR_A_DIFF    0.035964\n",
      "15             STRIKER_DIFF    0.035457\n",
      "16            GRAPPLER_DIFF    0.035342\n",
      "3              SUB_ATT_DIFF    0.035179\n",
      "13        STR_CLINCH_A_DIFF    0.034963\n",
      "11           STR_LEG_A_DIFF    0.034853\n",
      "8                 TD_A_DIFF    0.033779\n",
      "25        Derrotas_Sub_DIFF    0.033431\n",
      "10          STR_BODY_A_DIFF    0.032885\n",
      "12      STR_DISTANCE_A_DIFF    0.032566\n",
      "21        Victorias_KO_DIFF    0.032154\n",
      "6              TD_PORC_DIFF    0.032033\n",
      "0                   KD_DIFF    0.031667\n",
      "1              SIG_STR_DIFF    0.031413\n",
      "23  Victorias_Decision_DIFF    0.030565\n",
      "22       Victorias_Sub_DIFF    0.030278\n",
      "17              Record_DIFF    0.030258\n"
     ]
    }
   ],
   "source": [
    "feature_importance = pd.DataFrame({\n",
    "    'Feature': X_train.columns,\n",
    "    'Importance': best_grid.feature_importances_\n",
    "}).sort_values(by='Importance', ascending=False)\n",
    "print(feature_importance)"
   ]
  },
  {
   "cell_type": "code",
   "execution_count": 16,
   "metadata": {},
   "outputs": [
    {
     "data": {
      "image/png": "[encoded data removed]",
      "text/plain": [
       "<Figure size 1000x1000 with 1 Axes>"
      ]
     },
     "metadata": {},
     "output_type": "display_data"
    }
   ],
   "source": [
    "plt.figure(figsize=(10, 10))\n",
    "plt.barh(feature_importance[\"Feature\"], feature_importance[\"Importance\"], color=\"royalblue\")\n",
    "plt.xlabel(\"Permutation Importance\")\n",
    "plt.title(\"Feature Importance (Top 10)\")\n",
    "plt.yticks(fontsize=5)\n",
    "plt.grid(axis=\"x\", linestyle=\"--\", alpha=0.7)\n",
    "plt.show()"
   ]
  },
  {
   "cell_type": "markdown",
   "metadata": {},
   "source": [
    "#### Random Search"
   ]
  },
  {
   "cell_type": "code",
   "execution_count": 34,
   "metadata": {},
   "outputs": [],
   "source": [
    "def train_xgboost_random(X_train, y_train, X_val, y_val):\n",
    "    # Calcular pesos de clase para manejar desbalance de datos\n",
    "    class_weights = compute_class_weight('balanced', classes=np.unique(y_train), y=y_train)\n",
    "    scale_pos_weight = class_weights[1] / class_weights[0] if len(class_weights) > 1 else 1\n",
    "    tscv = TimeSeriesSplit(n_splits=5)\n",
    "    # Definir modelo base\n",
    "    xgb = XGBClassifier(random_state=42)\n",
    "\n",
    "    # Distribución de hiperparámetros para búsqueda aleatoria\n",
    "    \"\"\"\n",
    "    param_dist = {\n",
    "        'n_estimators': np.arange(50, 400, 50),\n",
    "        'max_depth': np.arange(3, 60, 3),\n",
    "        'learning_rate': np.linspace(0.01, 0.2, 10),\n",
    "        'subsample': np.linspace(0.5, 1.0, 6),\n",
    "        'colsample_bytree': np.linspace(0.5, 1.0, 6),\n",
    "        'gamma': np.linspace(0, 0.5, 6),\n",
    "        'min_child_weight': np.arange(1, 70, 2),\n",
    "        'scale_pos_weight': [1, scale_pos_weight]\n",
    "    }\"\n",
    "    \"\"\"\n",
    "    \n",
    "    param_dist = {\n",
    "        'n_estimators': np.arange(50, 400, 50),\n",
    "        'max_depth': np.arange(3, 40, 2),\n",
    "        'learning_rate': np.linspace(0.005, 0.2, 15),\n",
    "        'subsample': np.linspace(0.5, 1.0, 6),\n",
    "        'colsample_bytree': np.linspace(0.5, 1.0, 6),\n",
    "        'gamma': np.linspace(0, 0.5, 6),\n",
    "        'min_child_weight': np.arange(1, 70, 2),\n",
    "        'scale_pos_weight': [1, scale_pos_weight],\n",
    "        'reg_alpha': [0, 0.1, 0.5, 1], #Parámetro regularización\n",
    "        'tree_method': ['auto', 'exact', 'approx', 'hist'], #Método construcción árbol\n",
    "        'grow_policy': ['depthwise', 'lossguide'] #Política crecimiento árbol\n",
    "    }\n",
    "\n",
    "    # Definir la métrica de optimización como el F1-score macro\n",
    "    f1_scorer = make_scorer(f1_score, average='macro')\n",
    "    # Búsqueda con validación cruzada\n",
    "    random_search = RandomizedSearchCV(\n",
    "        estimator=xgb,\n",
    "        param_distributions=param_dist,\n",
    "        scoring=f1_scorer,\n",
    "        n_iter=50,\n",
    "        cv=tscv,\n",
    "        n_jobs=-1,\n",
    "        verbose=2,\n",
    "        random_state=42\n",
    "    )\n",
    "\n",
    "    # Entrenar el modelo\n",
    "    random_search.fit(X_train, y_train)\n",
    "\n",
    "    # Imprimir mejores parámetros\n",
    "    print(\"Mejores parámetros:\", random_search.best_params_)\n",
    "\n",
    "    # Evaluar el mejor modelo en el conjunto de validación\n",
    "    y_pred = random_search.best_estimator_.predict(X_val)\n",
    "    print(\"Reporte de clasificación:\")\n",
    "    print(classification_report(y_val, y_pred))\n",
    "\n",
    "\n",
    "    return random_search"
   ]
  },
  {
   "cell_type": "markdown",
   "metadata": {},
   "source": [
    "#### Entrenamiento usando ajuste de hiperparámetros"
   ]
  },
  {
   "cell_type": "code",
   "execution_count": 35,
   "metadata": {},
   "outputs": [
    {
     "name": "stdout",
     "output_type": "stream",
     "text": [
      "-- Entrenamiento usando ajuste de hiperparámetros con RandomizedSeachCV --\n",
      "Fitting 5 folds for each of 50 candidates, totalling 250 fits\n"
     ]
    },
    {
     "name": "stdout",
     "output_type": "stream",
     "text": [
      "Mejores parámetros: {'tree_method': 'exact', 'subsample': np.float64(0.6), 'scale_pos_weight': np.float64(1.2905829596412555), 'reg_alpha': 0.5, 'n_estimators': np.int64(250), 'min_child_weight': np.int64(9), 'max_depth': np.int64(13), 'learning_rate': np.float64(0.005), 'grow_policy': 'depthwise', 'gamma': np.float64(0.30000000000000004), 'colsample_bytree': np.float64(1.0)}\n",
      "Reporte de clasificación:\n",
      "              precision    recall  f1-score   support\n",
      "\n",
      "       False       0.62      0.64      0.63       349\n",
      "        True       0.55      0.53      0.54       290\n",
      "\n",
      "    accuracy                           0.59       639\n",
      "   macro avg       0.59      0.59      0.59       639\n",
      "weighted avg       0.59      0.59      0.59       639\n",
      "\n"
     ]
    }
   ],
   "source": [
    "print(\"-- Entrenamiento usando ajuste de hiperparámetros con RandomizedSeachCV --\")\n",
    "resultados_random = train_xgboost_random(X_train,y_train,X_test,y_test)\n",
    "best_random = resultados_random.best_estimator_\n",
    "results_cv = resultados_random.cv_results_"
   ]
  },
  {
   "cell_type": "markdown",
   "metadata": {},
   "source": [
    "#### Predicción con el conjunto de test"
   ]
  },
  {
   "cell_type": "code",
   "execution_count": 36,
   "metadata": {},
   "outputs": [
    {
     "name": "stdout",
     "output_type": "stream",
     "text": [
      "-- Métricas del modelo con hiperparámetros ajustados --\n",
      "Accuracy: 0.593114241001565\n",
      "F1-Score: 0.5423\n",
      "AUC-ROC: 0.6084\n",
      "Precisión: 0.5540\n",
      "Sensibilidad: 0.5310\n",
      "Log-loss: 0.6753232395007853\n",
      "[[225 124]\n",
      " [136 154]]\n"
     ]
    }
   ],
   "source": [
    "print(\"-- Métricas del modelo con hiperparámetros ajustados --\")\n",
    "y_val_pred = best_random.predict(X_test)\n",
    "y_val_prob = best_random.predict_proba(X_test)[:,1]\n",
    "print(\"Accuracy:\", accuracy_score(y_test, y_val_pred))\n",
    "f1_val = f1_score(y_test, y_val_pred)\n",
    "roc_auc_val = roc_auc_score(y_test, y_val_prob)\n",
    "precision_val = precision_score(y_test, y_val_pred)\n",
    "recall_val = recall_score(y_test, y_val_pred)\n",
    "log_loss_val = log_loss(y_test,y_val_prob)\n",
    "print(f\"F1-Score: {f1_val:.4f}\")\n",
    "print(f\"AUC-ROC: {roc_auc_val:.4f}\")\n",
    "print(f\"Precisión: {precision_val:.4f}\")\n",
    "print(f\"Sensibilidad: {recall_val:.4f}\")\n",
    "print(f\"Log-loss: {log_loss_val}\")\n",
    "print(confusion_matrix(y_test, y_val_pred))"
   ]
  },
  {
   "cell_type": "code",
   "execution_count": 37,
   "metadata": {},
   "outputs": [
    {
     "name": "stdout",
     "output_type": "stream",
     "text": [
      "Modelo guardado en MLflow\n"
     ]
    }
   ],
   "source": [
    "if mlflow.active_run():\n",
    "    mlflow.end_run()\n",
    "\n",
    "# Iniciar un nuevo experimento\n",
    "with mlflow.start_run(run_name=\"RandomizedSearchCV\"):\n",
    "\n",
    "    # Guardar modelo en MLflow\n",
    "    mlflow.log_param(\"mejores_parametros\", best_params)\n",
    "    mlflow.log_metric(\"accuracy\", accuracy_score(y_test, y_val_pred))\n",
    "    mlflow.log_metric(\"f1_macro\", f1_score(y_test, y_val_pred))\n",
    "\n",
    "    print(\"Modelo guardado en MLflow\")"
   ]
  },
  {
   "cell_type": "markdown",
   "metadata": {},
   "source": [
    "El modelo obtenido mediante Random Search ha mostrado un rendimiento inferior al modelo ajustado con Grid Search. En particular, el accuracy obtenido es menor que el de una estrategia trivial que siempre predice la clase mayoritaria, la cual alcanzaría un 54.61% de accuracy."
   ]
  },
  {
   "cell_type": "markdown",
   "metadata": {},
   "source": [
    "#### Matriz de confusión"
   ]
  },
  {
   "cell_type": "code",
   "execution_count": 20,
   "metadata": {},
   "outputs": [
    {
     "data": {
      "image/png": "[encoded data removed]",
      "text/plain": [
       "<Figure size 640x480 with 2 Axes>"
      ]
     },
     "metadata": {},
     "output_type": "display_data"
    }
   ],
   "source": [
    "# Calcular la matriz de confusión\n",
    "cm = confusion_matrix(y_test, y_val_pred)\n",
    "\n",
    "# Visualizar la matriz de confusión\n",
    "sns.heatmap(cm, annot=True, fmt='d', cmap='Blues', xticklabels=['Clase 0', 'Clase 1'], yticklabels=['Clase 0', 'Clase 1'])\n",
    "plt.xlabel('Predicción')\n",
    "plt.ylabel('Real')\n",
    "plt.title('Matriz de Confusión')\n",
    "plt.show()"
   ]
  },
  {
   "cell_type": "markdown",
   "metadata": {},
   "source": [
    "Ocurre algo similar al modelo con GridSearh, donde hay un gran número de falsos positivos y negativos."
   ]
  },
  {
   "cell_type": "markdown",
   "metadata": {},
   "source": [
    "#### Importancia de cada variable"
   ]
  },
  {
   "cell_type": "code",
   "execution_count": 21,
   "metadata": {},
   "outputs": [
    {
     "name": "stdout",
     "output_type": "stream",
     "text": [
      "                    Feature  Importance\n",
      "20               Racha_DIFF    0.063990\n",
      "19              Puntos_DIFF    0.045405\n",
      "24         Derrotas_KO_DIFF    0.039783\n",
      "4                  REV_DIFF    0.039591\n",
      "18              Peleas_DIFF    0.039157\n",
      "9           STR_HEAD_A_DIFF    0.038980\n",
      "26   Derrotas_Decision_DIFF    0.038872\n",
      "14        STR_GROUND_A_DIFF    0.038680\n",
      "5                 CTRL_DIFF    0.037453\n",
      "3              SUB_ATT_DIFF    0.036817\n",
      "7          TOTAL_STR_A_DIFF    0.036722\n",
      "2                   TD_DIFF    0.036331\n",
      "25        Derrotas_Sub_DIFF    0.035709\n",
      "8                 TD_A_DIFF    0.035542\n",
      "15             STRIKER_DIFF    0.035401\n",
      "10          STR_BODY_A_DIFF    0.035358\n",
      "16            GRAPPLER_DIFF    0.034869\n",
      "12      STR_DISTANCE_A_DIFF    0.034826\n",
      "13        STR_CLINCH_A_DIFF    0.034806\n",
      "11           STR_LEG_A_DIFF    0.034433\n",
      "21        Victorias_KO_DIFF    0.034414\n",
      "1              SIG_STR_DIFF    0.034163\n",
      "0                   KD_DIFF    0.033996\n",
      "6              TD_PORC_DIFF    0.032400\n",
      "17              Record_DIFF    0.031203\n",
      "23  Victorias_Decision_DIFF    0.031000\n",
      "22       Victorias_Sub_DIFF    0.030098\n"
     ]
    }
   ],
   "source": [
    "feature_importance = pd.DataFrame({\n",
    "    'Feature': X_train.columns,\n",
    "    'Importance': best_random.feature_importances_\n",
    "}).sort_values(by='Importance', ascending=False)\n",
    "print(feature_importance)"
   ]
  },
  {
   "cell_type": "code",
   "execution_count": 22,
   "metadata": {},
   "outputs": [
    {
     "data": {
      "image/png": "[encoded data removed]",
      "text/plain": [
       "<Figure size 1000x1000 with 1 Axes>"
      ]
     },
     "metadata": {},
     "output_type": "display_data"
    }
   ],
   "source": [
    "plt.figure(figsize=(10, 10))\n",
    "plt.barh(feature_importance[\"Feature\"], feature_importance[\"Importance\"], color=\"royalblue\")\n",
    "plt.xlabel(\"Permutation Importance\")\n",
    "plt.title(\"Feature Importance (Top 10)\")\n",
    "plt.yticks(fontsize=5)\n",
    "plt.grid(axis=\"x\", linestyle=\"--\", alpha=0.7)\n",
    "plt.show()"
   ]
  },
  {
   "cell_type": "markdown",
   "metadata": {},
   "source": [
    "#### Optuna"
   ]
  },
  {
   "cell_type": "code",
   "execution_count": null,
   "metadata": {},
   "outputs": [],
   "source": [
    "\n",
    "def objective(trial, X_train, y_train):\n",
    "    # Calcular pesos de clase para manejar desbalance de datos\n",
    "    class_weights = compute_class_weight('balanced', classes=np.unique(y_train), y=y_train)\n",
    "    scale_pos_weight = class_weights[1] / class_weights[0] if len(class_weights) > 1 else 1\n",
    "\n",
    "    params = {\n",
    "    'n_estimators': trial.suggest_int('n_estimators', 100, 500, step=50),\n",
    "    'max_depth': trial.suggest_int('max_depth', 3, 49, step=2),  # Ajustado de 40 a 39\n",
    "    'learning_rate': trial.suggest_float('learning_rate', 0.001, 0.2, log=True),\n",
    "    'subsample': trial.suggest_float('subsample', 0.6, 1.0),\n",
    "    'colsample_bytree': trial.suggest_float('colsample_bytree', 0.5, 1.0),\n",
    "    'gamma': trial.suggest_float('gamma', 0, 1.0),\n",
    "    'min_child_weight': trial.suggest_int('min_child_weight', 1, 69, step=2),  \n",
    "    'scale_pos_weight': trial.suggest_categorical('scale_pos_weight', [1, scale_pos_weight]),\n",
    "    'reg_alpha': trial.suggest_categorical('reg_alpha', [0, 0.1, 0.5, 1]),\n",
    "    'tree_method': trial.suggest_categorical('tree_method', ['auto', 'exact', 'approx', 'hist']),\n",
    "    'grow_policy': trial.suggest_categorical('grow_policy', ['depthwise', 'lossguide']),\n",
    "    'random_state': 42\n",
    "}\n",
    "\n",
    "    # Validación cruzada con series temporales\n",
    "    tscv = TimeSeriesSplit(n_splits=5)\n",
    "    model = XGBClassifier(**params)\n",
    "    optuna.logging.set_verbosity(optuna.logging.INFO)\n",
    "    scores = cross_val_score(model, X_train, y_train, cv=tscv, scoring='f1_macro', n_jobs=-1)\n",
    "    return np.mean(scores)  # Retornamos el F1-score promedio\n"
   ]
  },
  {
   "cell_type": "code",
   "execution_count": 26,
   "metadata": {},
   "outputs": [
    {
     "name": "stderr",
     "output_type": "stream",
     "text": [
      "[I 2025-03-26 10:57:22,006] A new study created in memory with name: no-name-b60db260-8f5f-47c3-a019-6f99ce426b8b\n"
     ]
    },
    {
     "name": "stdout",
     "output_type": "stream",
     "text": [
      "-- Entrenamiento usando ajuste de hiperparámetros con Optuna --\n"
     ]
    },
    {
     "name": "stderr",
     "output_type": "stream",
     "text": [
      "[I 2025-03-26 10:57:23,750] Trial 0 finished with value: 0.4618154057034907 and parameters: {'n_estimators': 250, 'max_depth': 37, 'learning_rate': 0.0010006061777325433, 'subsample': 0.7209330290527359, 'colsample_bytree': 0.5733779454085566, 'gamma': 0.0923385947687978, 'min_child_weight': 13, 'scale_pos_weight': np.float64(1.2905829596412555), 'reg_alpha': 0.5, 'tree_method': 'auto', 'grow_policy': 'depthwise'}. Best is trial 0 with value: 0.4618154057034907.\n",
      "[I 2025-03-26 10:57:24,785] Trial 1 finished with value: 0.48636628979319535 and parameters: {'n_estimators': 150, 'max_depth': 41, 'learning_rate': 0.16904367643810508, 'subsample': 0.7253696712636971, 'colsample_bytree': 0.846161307834657, 'gamma': 0.8763891522960383, 'min_child_weight': 63, 'scale_pos_weight': 1, 'reg_alpha': 0.1, 'tree_method': 'auto', 'grow_policy': 'lossguide'}. Best is trial 1 with value: 0.48636628979319535.\n",
      "[I 2025-03-26 10:57:25,710] Trial 2 finished with value: 0.5051463861197153 and parameters: {'n_estimators': 100, 'max_depth': 39, 'learning_rate': 0.1885380570089449, 'subsample': 0.8992662617519358, 'colsample_bytree': 0.6402219960322026, 'gamma': 0.7892793284514885, 'min_child_weight': 7, 'scale_pos_weight': np.float64(1.2905829596412555), 'reg_alpha': 0, 'tree_method': 'auto', 'grow_policy': 'lossguide'}. Best is trial 2 with value: 0.5051463861197153.\n",
      "[I 2025-03-26 10:57:25,841] Trial 3 finished with value: 0.5336228166825967 and parameters: {'n_estimators': 150, 'max_depth': 31, 'learning_rate': 0.04075350593847603, 'subsample': 0.6409337715311303, 'colsample_bytree': 0.7070279939097841, 'gamma': 0.6944001577277451, 'min_child_weight': 29, 'scale_pos_weight': np.float64(1.2905829596412555), 'reg_alpha': 0.5, 'tree_method': 'auto', 'grow_policy': 'depthwise'}. Best is trial 3 with value: 0.5336228166825967.\n",
      "[I 2025-03-26 10:57:27,352] Trial 4 finished with value: 0.48090524440567695 and parameters: {'n_estimators': 500, 'max_depth': 19, 'learning_rate': 0.053412286568915876, 'subsample': 0.8903991941401805, 'colsample_bytree': 0.9416530456029049, 'gamma': 0.6236722070556089, 'min_child_weight': 53, 'scale_pos_weight': 1, 'reg_alpha': 0.5, 'tree_method': 'approx', 'grow_policy': 'depthwise'}. Best is trial 3 with value: 0.5336228166825967.\n",
      "[I 2025-03-26 10:57:27,711] Trial 5 finished with value: 0.4736796705599285 and parameters: {'n_estimators': 200, 'max_depth': 45, 'learning_rate': 0.02089554518207291, 'subsample': 0.6011481308124635, 'colsample_bytree': 0.8085724568103619, 'gamma': 0.32664490177209615, 'min_child_weight': 37, 'scale_pos_weight': 1, 'reg_alpha': 1, 'tree_method': 'exact', 'grow_policy': 'depthwise'}. Best is trial 3 with value: 0.5336228166825967.\n",
      "[I 2025-03-26 10:57:28,842] Trial 6 finished with value: 0.5192250105949048 and parameters: {'n_estimators': 100, 'max_depth': 39, 'learning_rate': 0.054286485033576456, 'subsample': 0.9692098142185933, 'colsample_bytree': 0.8557623793142359, 'gamma': 0.1242709619721647, 'min_child_weight': 1, 'scale_pos_weight': np.float64(1.2905829596412555), 'reg_alpha': 0.1, 'tree_method': 'auto', 'grow_policy': 'depthwise'}. Best is trial 3 with value: 0.5336228166825967.\n",
      "[I 2025-03-26 10:57:29,034] Trial 7 finished with value: 0.3581489377629863 and parameters: {'n_estimators': 100, 'max_depth': 41, 'learning_rate': 0.003436218663444774, 'subsample': 0.9228420782475116, 'colsample_bytree': 0.6939303220320858, 'gamma': 0.8635418545594287, 'min_child_weight': 53, 'scale_pos_weight': 1, 'reg_alpha': 0.1, 'tree_method': 'exact', 'grow_policy': 'lossguide'}. Best is trial 3 with value: 0.5336228166825967.\n",
      "[I 2025-03-26 10:57:29,217] Trial 8 finished with value: 0.3908672876117474 and parameters: {'n_estimators': 350, 'max_depth': 11, 'learning_rate': 0.0038072299386415717, 'subsample': 0.8975303416300371, 'colsample_bytree': 0.5977147405546595, 'gamma': 0.5813589272732578, 'min_child_weight': 67, 'scale_pos_weight': 1, 'reg_alpha': 0.5, 'tree_method': 'hist', 'grow_policy': 'depthwise'}. Best is trial 3 with value: 0.5336228166825967.\n",
      "[I 2025-03-26 10:57:31,287] Trial 9 finished with value: 0.5337027146893368 and parameters: {'n_estimators': 500, 'max_depth': 29, 'learning_rate': 0.007494044036970185, 'subsample': 0.8203792876471587, 'colsample_bytree': 0.8726672154532511, 'gamma': 0.6692328934531846, 'min_child_weight': 19, 'scale_pos_weight': np.float64(1.2905829596412555), 'reg_alpha': 0.5, 'tree_method': 'exact', 'grow_policy': 'lossguide'}. Best is trial 9 with value: 0.5337027146893368.\n",
      "[I 2025-03-26 10:57:31,927] A new study created in memory with name: no-name-391ce70d-1280-447f-828f-f3d169e856ab\n",
      "[I 2025-03-26 10:57:32,077] Trial 0 finished with value: 0.5012223568696854 and parameters: {'n_estimators': 250, 'max_depth': 3, 'learning_rate': 0.01839881485129108, 'subsample': 0.7741289570473108, 'colsample_bytree': 0.7101839010437445, 'gamma': 0.3303348210038741, 'min_child_weight': 15, 'scale_pos_weight': 1, 'reg_alpha': 0.1, 'tree_method': 'hist', 'grow_policy': 'lossguide'}. Best is trial 0 with value: 0.5012223568696854.\n"
     ]
    },
    {
     "name": "stdout",
     "output_type": "stream",
     "text": [
      "Mejores parámetros: {'n_estimators': 500, 'max_depth': 29, 'learning_rate': 0.007494044036970185, 'subsample': 0.8203792876471587, 'colsample_bytree': 0.8726672154532511, 'gamma': 0.6692328934531846, 'min_child_weight': 19, 'scale_pos_weight': np.float64(1.2905829596412555), 'reg_alpha': 0.5, 'tree_method': 'exact', 'grow_policy': 'lossguide'}\n",
      "aCC ACT: 0.5899843505477308\n",
      "MEJOR ACCURACY 0.5899843505477308 - 1\n"
     ]
    },
    {
     "name": "stderr",
     "output_type": "stream",
     "text": [
      "[I 2025-03-26 10:57:32,165] Trial 1 finished with value: 0.3581489377629863 and parameters: {'n_estimators': 100, 'max_depth': 27, 'learning_rate': 0.001413273464979454, 'subsample': 0.7712489310389558, 'colsample_bytree': 0.5482654578303063, 'gamma': 0.12715997170127746, 'min_child_weight': 41, 'scale_pos_weight': 1, 'reg_alpha': 0.5, 'tree_method': 'auto', 'grow_policy': 'depthwise'}. Best is trial 0 with value: 0.5012223568696854.\n",
      "[I 2025-03-26 10:57:32,704] Trial 2 finished with value: 0.520082306718159 and parameters: {'n_estimators': 150, 'max_depth': 35, 'learning_rate': 0.16575283592282394, 'subsample': 0.8000033444680867, 'colsample_bytree': 0.9447600319730725, 'gamma': 0.34161365267110966, 'min_child_weight': 39, 'scale_pos_weight': np.float64(1.2905829596412555), 'reg_alpha': 0.5, 'tree_method': 'approx', 'grow_policy': 'lossguide'}. Best is trial 2 with value: 0.520082306718159.\n",
      "[I 2025-03-26 10:57:32,888] Trial 3 finished with value: 0.5105002479030175 and parameters: {'n_estimators': 100, 'max_depth': 49, 'learning_rate': 0.17113325636219512, 'subsample': 0.9201033404530348, 'colsample_bytree': 0.8009085607027338, 'gamma': 0.7649598604516815, 'min_child_weight': 11, 'scale_pos_weight': np.float64(1.2905829596412555), 'reg_alpha': 0.5, 'tree_method': 'auto', 'grow_policy': 'depthwise'}. Best is trial 2 with value: 0.520082306718159.\n",
      "[I 2025-03-26 10:57:33,018] Trial 4 finished with value: 0.49526398864902255 and parameters: {'n_estimators': 250, 'max_depth': 3, 'learning_rate': 0.06836796976397834, 'subsample': 0.7077555190385205, 'colsample_bytree': 0.7913424442645173, 'gamma': 0.025550941849692754, 'min_child_weight': 47, 'scale_pos_weight': np.float64(1.2905829596412555), 'reg_alpha': 1, 'tree_method': 'hist', 'grow_policy': 'depthwise'}. Best is trial 2 with value: 0.520082306718159.\n",
      "[I 2025-03-26 10:57:33,502] Trial 5 finished with value: 0.5092796887282184 and parameters: {'n_estimators': 250, 'max_depth': 33, 'learning_rate': 0.033272725289029394, 'subsample': 0.6681908533935083, 'colsample_bytree': 0.9408261178742743, 'gamma': 0.7780081598084683, 'min_child_weight': 9, 'scale_pos_weight': 1, 'reg_alpha': 1, 'tree_method': 'hist', 'grow_policy': 'lossguide'}. Best is trial 2 with value: 0.520082306718159.\n",
      "[I 2025-03-26 10:57:33,716] Trial 6 finished with value: 0.4792897765230658 and parameters: {'n_estimators': 350, 'max_depth': 41, 'learning_rate': 0.027216833210237244, 'subsample': 0.6706848646337704, 'colsample_bytree': 0.7956286763267729, 'gamma': 0.48926616699485914, 'min_child_weight': 39, 'scale_pos_weight': 1, 'reg_alpha': 0.5, 'tree_method': 'auto', 'grow_policy': 'depthwise'}. Best is trial 2 with value: 0.520082306718159.\n",
      "[I 2025-03-26 10:57:34,044] Trial 7 finished with value: 0.500780114105016 and parameters: {'n_estimators': 200, 'max_depth': 25, 'learning_rate': 0.01838267325491225, 'subsample': 0.9380452462298806, 'colsample_bytree': 0.9942548503920822, 'gamma': 0.04886808622935135, 'min_child_weight': 17, 'scale_pos_weight': 1, 'reg_alpha': 0, 'tree_method': 'auto', 'grow_policy': 'depthwise'}. Best is trial 2 with value: 0.520082306718159.\n",
      "[I 2025-03-26 10:57:34,184] Trial 8 finished with value: 0.4410051031232234 and parameters: {'n_estimators': 250, 'max_depth': 31, 'learning_rate': 0.001318760899758766, 'subsample': 0.626265466482551, 'colsample_bytree': 0.5217505930298578, 'gamma': 0.3951507584675038, 'min_child_weight': 47, 'scale_pos_weight': np.float64(1.2905829596412555), 'reg_alpha': 0.1, 'tree_method': 'auto', 'grow_policy': 'lossguide'}. Best is trial 2 with value: 0.520082306718159.\n",
      "[I 2025-03-26 10:57:34,761] Trial 9 finished with value: 0.4890123002694094 and parameters: {'n_estimators': 300, 'max_depth': 5, 'learning_rate': 0.0023896442360330987, 'subsample': 0.7800908718469493, 'colsample_bytree': 0.8539855853094604, 'gamma': 0.7775879083055336, 'min_child_weight': 55, 'scale_pos_weight': np.float64(1.2905829596412555), 'reg_alpha': 1, 'tree_method': 'exact', 'grow_policy': 'lossguide'}. Best is trial 2 with value: 0.520082306718159.\n",
      "[I 2025-03-26 10:57:35,116] A new study created in memory with name: no-name-4b4e91c5-52de-4e6b-b5c7-0b02b8c91db5\n"
     ]
    },
    {
     "name": "stdout",
     "output_type": "stream",
     "text": [
      "Mejores parámetros: {'n_estimators': 150, 'max_depth': 35, 'learning_rate': 0.16575283592282394, 'subsample': 0.8000033444680867, 'colsample_bytree': 0.9447600319730725, 'gamma': 0.34161365267110966, 'min_child_weight': 39, 'scale_pos_weight': np.float64(1.2905829596412555), 'reg_alpha': 0.5, 'tree_method': 'approx', 'grow_policy': 'lossguide'}\n",
      "aCC ACT: 0.5477308294209703\n",
      "MEJOR ACCURACY 0.5899843505477308 - 1\n"
     ]
    },
    {
     "name": "stderr",
     "output_type": "stream",
     "text": [
      "[I 2025-03-26 10:57:36,791] Trial 0 finished with value: 0.47084331527784806 and parameters: {'n_estimators': 300, 'max_depth': 35, 'learning_rate': 0.004670684478411477, 'subsample': 0.8043310420790653, 'colsample_bytree': 0.9464734771738273, 'gamma': 0.8962930889334381, 'min_child_weight': 9, 'scale_pos_weight': 1, 'reg_alpha': 1, 'tree_method': 'exact', 'grow_policy': 'depthwise'}. Best is trial 0 with value: 0.47084331527784806.\n",
      "[I 2025-03-26 10:57:36,920] Trial 1 finished with value: 0.4802969264418122 and parameters: {'n_estimators': 250, 'max_depth': 15, 'learning_rate': 0.03934876817332707, 'subsample': 0.7761814870682958, 'colsample_bytree': 0.5784338692374816, 'gamma': 0.5446490180318447, 'min_child_weight': 55, 'scale_pos_weight': 1, 'reg_alpha': 0.5, 'tree_method': 'auto', 'grow_policy': 'depthwise'}. Best is trial 1 with value: 0.4802969264418122.\n",
      "[I 2025-03-26 10:57:37,468] Trial 2 finished with value: 0.459989191104469 and parameters: {'n_estimators': 250, 'max_depth': 13, 'learning_rate': 0.008618159379234836, 'subsample': 0.7875760994796677, 'colsample_bytree': 0.6346177891255307, 'gamma': 0.2917927742254326, 'min_child_weight': 33, 'scale_pos_weight': 1, 'reg_alpha': 0.5, 'tree_method': 'exact', 'grow_policy': 'lossguide'}. Best is trial 1 with value: 0.4802969264418122.\n",
      "[I 2025-03-26 10:57:38,847] Trial 3 finished with value: 0.5197207601294892 and parameters: {'n_estimators': 400, 'max_depth': 35, 'learning_rate': 0.038532288605261665, 'subsample': 0.7494400496595713, 'colsample_bytree': 0.8340674023676338, 'gamma': 0.3398486639568179, 'min_child_weight': 41, 'scale_pos_weight': np.float64(1.2905829596412555), 'reg_alpha': 0.5, 'tree_method': 'approx', 'grow_policy': 'depthwise'}. Best is trial 3 with value: 0.5197207601294892.\n",
      "[I 2025-03-26 10:57:38,975] Trial 4 finished with value: 0.3581489377629863 and parameters: {'n_estimators': 100, 'max_depth': 11, 'learning_rate': 0.002235819343996255, 'subsample': 0.6400417378325779, 'colsample_bytree': 0.5646469323044271, 'gamma': 0.5532777318076535, 'min_child_weight': 13, 'scale_pos_weight': 1, 'reg_alpha': 1, 'tree_method': 'hist', 'grow_policy': 'depthwise'}. Best is trial 3 with value: 0.5197207601294892.\n",
      "[I 2025-03-26 10:57:39,250] Trial 5 finished with value: 0.5134963467078535 and parameters: {'n_estimators': 500, 'max_depth': 33, 'learning_rate': 0.00695088754576168, 'subsample': 0.8211378292601782, 'colsample_bytree': 0.5981902883500685, 'gamma': 0.19207229639360313, 'min_child_weight': 51, 'scale_pos_weight': np.float64(1.2905829596412555), 'reg_alpha': 0, 'tree_method': 'auto', 'grow_policy': 'depthwise'}. Best is trial 3 with value: 0.5197207601294892.\n",
      "[I 2025-03-26 10:57:39,378] Trial 6 finished with value: 0.4920890729153385 and parameters: {'n_estimators': 100, 'max_depth': 45, 'learning_rate': 0.029721149209164088, 'subsample': 0.6573329269885285, 'colsample_bytree': 0.7070634598581036, 'gamma': 0.04910892439787362, 'min_child_weight': 15, 'scale_pos_weight': 1, 'reg_alpha': 1, 'tree_method': 'auto', 'grow_policy': 'depthwise'}. Best is trial 3 with value: 0.5197207601294892.\n",
      "[I 2025-03-26 10:57:40,875] Trial 7 finished with value: 0.49437394062599715 and parameters: {'n_estimators': 450, 'max_depth': 11, 'learning_rate': 0.0039724809348506895, 'subsample': 0.8767910047491371, 'colsample_bytree': 0.9477851640709918, 'gamma': 0.34068848446015954, 'min_child_weight': 5, 'scale_pos_weight': 1, 'reg_alpha': 1, 'tree_method': 'auto', 'grow_policy': 'lossguide'}. Best is trial 3 with value: 0.5197207601294892.\n",
      "[I 2025-03-26 10:57:42,793] Trial 8 finished with value: 0.5189035046542705 and parameters: {'n_estimators': 450, 'max_depth': 9, 'learning_rate': 0.10597258842522944, 'subsample': 0.9195857276883216, 'colsample_bytree': 0.9858121485389904, 'gamma': 0.3677029833034604, 'min_child_weight': 15, 'scale_pos_weight': np.float64(1.2905829596412555), 'reg_alpha': 0, 'tree_method': 'exact', 'grow_policy': 'lossguide'}. Best is trial 3 with value: 0.5197207601294892.\n",
      "[I 2025-03-26 10:57:43,163] Trial 9 finished with value: 0.4543205494695773 and parameters: {'n_estimators': 200, 'max_depth': 15, 'learning_rate': 0.009802081028007482, 'subsample': 0.8157786001058667, 'colsample_bytree': 0.5477834075033068, 'gamma': 0.8369121387136151, 'min_child_weight': 37, 'scale_pos_weight': 1, 'reg_alpha': 0, 'tree_method': 'exact', 'grow_policy': 'depthwise'}. Best is trial 3 with value: 0.5197207601294892.\n",
      "[I 2025-03-26 10:57:43,860] A new study created in memory with name: no-name-8c32d068-cb44-4f19-b1bb-cd085e76463f\n"
     ]
    },
    {
     "name": "stdout",
     "output_type": "stream",
     "text": [
      "Mejores parámetros: {'n_estimators': 400, 'max_depth': 35, 'learning_rate': 0.038532288605261665, 'subsample': 0.7494400496595713, 'colsample_bytree': 0.8340674023676338, 'gamma': 0.3398486639568179, 'min_child_weight': 41, 'scale_pos_weight': np.float64(1.2905829596412555), 'reg_alpha': 0.5, 'tree_method': 'approx', 'grow_policy': 'depthwise'}\n",
      "aCC ACT: 0.5696400625978091\n",
      "MEJOR ACCURACY 0.5899843505477308 - 1\n"
     ]
    },
    {
     "name": "stderr",
     "output_type": "stream",
     "text": [
      "[I 2025-03-26 10:57:44,136] Trial 0 finished with value: 0.4878453571193358 and parameters: {'n_estimators': 500, 'max_depth': 29, 'learning_rate': 0.17305170740456174, 'subsample': 0.8859263974697458, 'colsample_bytree': 0.8488644122986354, 'gamma': 0.21608949558037638, 'min_child_weight': 69, 'scale_pos_weight': np.float64(1.2905829596412555), 'reg_alpha': 1, 'tree_method': 'auto', 'grow_policy': 'depthwise'}. Best is trial 0 with value: 0.4878453571193358.\n",
      "[I 2025-03-26 10:57:44,631] Trial 1 finished with value: 0.5092778419308643 and parameters: {'n_estimators': 500, 'max_depth': 23, 'learning_rate': 0.15262484929049822, 'subsample': 0.9145223943740244, 'colsample_bytree': 0.9331446492908493, 'gamma': 0.17316542149594816, 'min_child_weight': 5, 'scale_pos_weight': 1, 'reg_alpha': 1, 'tree_method': 'hist', 'grow_policy': 'lossguide'}. Best is trial 1 with value: 0.5092778419308643.\n",
      "[I 2025-03-26 10:57:45,475] Trial 2 finished with value: 0.544831798999907 and parameters: {'n_estimators': 250, 'max_depth': 33, 'learning_rate': 0.008189904016155885, 'subsample': 0.8495664454192893, 'colsample_bytree': 0.883702483545062, 'gamma': 0.17897391004113083, 'min_child_weight': 27, 'scale_pos_weight': np.float64(1.2905829596412555), 'reg_alpha': 1, 'tree_method': 'exact', 'grow_policy': 'lossguide'}. Best is trial 2 with value: 0.544831798999907.\n",
      "[I 2025-03-26 10:57:46,105] Trial 3 finished with value: 0.544851835782032 and parameters: {'n_estimators': 250, 'max_depth': 41, 'learning_rate': 0.0090994423647208, 'subsample': 0.9618670354973468, 'colsample_bytree': 0.702412608655453, 'gamma': 0.33117450309112273, 'min_child_weight': 41, 'scale_pos_weight': np.float64(1.2905829596412555), 'reg_alpha': 0.5, 'tree_method': 'exact', 'grow_policy': 'lossguide'}. Best is trial 3 with value: 0.544851835782032.\n",
      "[I 2025-03-26 10:57:46,213] Trial 4 finished with value: 0.5243198259252888 and parameters: {'n_estimators': 150, 'max_depth': 31, 'learning_rate': 0.006867052323033529, 'subsample': 0.9071032137322983, 'colsample_bytree': 0.5242670682097763, 'gamma': 0.10981811811784403, 'min_child_weight': 47, 'scale_pos_weight': np.float64(1.2905829596412555), 'reg_alpha': 0, 'tree_method': 'auto', 'grow_policy': 'depthwise'}. Best is trial 3 with value: 0.544851835782032.\n",
      "[I 2025-03-26 10:57:46,643] Trial 5 finished with value: 0.5375050761292918 and parameters: {'n_estimators': 150, 'max_depth': 25, 'learning_rate': 0.008013112960195806, 'subsample': 0.8475719706576375, 'colsample_bytree': 0.7183831459697566, 'gamma': 0.2609221572944955, 'min_child_weight': 29, 'scale_pos_weight': np.float64(1.2905829596412555), 'reg_alpha': 0, 'tree_method': 'exact', 'grow_policy': 'depthwise'}. Best is trial 3 with value: 0.544851835782032.\n",
      "[I 2025-03-26 10:57:48,120] Trial 6 finished with value: 0.4851009065206715 and parameters: {'n_estimators': 400, 'max_depth': 41, 'learning_rate': 0.008714901710184773, 'subsample': 0.9775190023532182, 'colsample_bytree': 0.5868898968776379, 'gamma': 0.9425858497269802, 'min_child_weight': 33, 'scale_pos_weight': 1, 'reg_alpha': 0, 'tree_method': 'approx', 'grow_policy': 'depthwise'}. Best is trial 3 with value: 0.544851835782032.\n",
      "[I 2025-03-26 10:57:48,281] Trial 7 finished with value: 0.5247045969164146 and parameters: {'n_estimators': 200, 'max_depth': 47, 'learning_rate': 0.04739907067528081, 'subsample': 0.6025295749061931, 'colsample_bytree': 0.5496638824470872, 'gamma': 0.6316922451249796, 'min_child_weight': 21, 'scale_pos_weight': np.float64(1.2905829596412555), 'reg_alpha': 0.1, 'tree_method': 'hist', 'grow_policy': 'lossguide'}. Best is trial 3 with value: 0.544851835782032.\n",
      "[I 2025-03-26 10:57:49,735] Trial 8 finished with value: 0.3761510571021932 and parameters: {'n_estimators': 400, 'max_depth': 43, 'learning_rate': 0.0016005491225969171, 'subsample': 0.9317671798884023, 'colsample_bytree': 0.8933661572175422, 'gamma': 0.6882212732041261, 'min_child_weight': 23, 'scale_pos_weight': 1, 'reg_alpha': 1, 'tree_method': 'exact', 'grow_policy': 'lossguide'}. Best is trial 3 with value: 0.544851835782032.\n",
      "[I 2025-03-26 10:57:50,199] Trial 9 finished with value: 0.5164503170786627 and parameters: {'n_estimators': 450, 'max_depth': 45, 'learning_rate': 0.029201684130472815, 'subsample': 0.9823218375935662, 'colsample_bytree': 0.5759428006163486, 'gamma': 0.221580929980553, 'min_child_weight': 23, 'scale_pos_weight': np.float64(1.2905829596412555), 'reg_alpha': 1, 'tree_method': 'auto', 'grow_policy': 'depthwise'}. Best is trial 3 with value: 0.544851835782032.\n",
      "[I 2025-03-26 10:57:50,394] A new study created in memory with name: no-name-4713f3de-ab75-45ec-ae0e-8a071096210a\n"
     ]
    },
    {
     "name": "stdout",
     "output_type": "stream",
     "text": [
      "Mejores parámetros: {'n_estimators': 250, 'max_depth': 41, 'learning_rate': 0.0090994423647208, 'subsample': 0.9618670354973468, 'colsample_bytree': 0.702412608655453, 'gamma': 0.33117450309112273, 'min_child_weight': 41, 'scale_pos_weight': np.float64(1.2905829596412555), 'reg_alpha': 0.5, 'tree_method': 'exact', 'grow_policy': 'lossguide'}\n",
      "aCC ACT: 0.5852895148669797\n",
      "MEJOR ACCURACY 0.5899843505477308 - 1\n"
     ]
    },
    {
     "name": "stderr",
     "output_type": "stream",
     "text": [
      "[I 2025-03-26 10:57:50,725] Trial 0 finished with value: 0.3581489377629863 and parameters: {'n_estimators': 150, 'max_depth': 43, 'learning_rate': 0.00298997100709855, 'subsample': 0.9674443631751686, 'colsample_bytree': 0.7442055943974146, 'gamma': 0.6117438629026457, 'min_child_weight': 53, 'scale_pos_weight': 1, 'reg_alpha': 0.5, 'tree_method': 'exact', 'grow_policy': 'lossguide'}. Best is trial 0 with value: 0.3581489377629863.\n",
      "[I 2025-03-26 10:57:51,915] Trial 1 finished with value: 0.5321632765671388 and parameters: {'n_estimators': 350, 'max_depth': 31, 'learning_rate': 0.004089382770461855, 'subsample': 0.7138743522565455, 'colsample_bytree': 0.6267941028868937, 'gamma': 0.3275639476887341, 'min_child_weight': 11, 'scale_pos_weight': np.float64(1.2905829596412555), 'reg_alpha': 0, 'tree_method': 'exact', 'grow_policy': 'lossguide'}. Best is trial 1 with value: 0.5321632765671388.\n",
      "[I 2025-03-26 10:57:56,646] Trial 2 finished with value: 0.5092812857882462 and parameters: {'n_estimators': 350, 'max_depth': 49, 'learning_rate': 0.003946311300757064, 'subsample': 0.9209987541051481, 'colsample_bytree': 0.9352415435007415, 'gamma': 0.9227496139456699, 'min_child_weight': 1, 'scale_pos_weight': np.float64(1.2905829596412555), 'reg_alpha': 0.1, 'tree_method': 'auto', 'grow_policy': 'lossguide'}. Best is trial 1 with value: 0.5321632765671388.\n",
      "[I 2025-03-26 10:57:57,682] Trial 3 finished with value: 0.4708320918701741 and parameters: {'n_estimators': 350, 'max_depth': 41, 'learning_rate': 0.020071122104529257, 'subsample': 0.8541424822327572, 'colsample_bytree': 0.9059511955902053, 'gamma': 0.9266826152438743, 'min_child_weight': 63, 'scale_pos_weight': 1, 'reg_alpha': 1, 'tree_method': 'approx', 'grow_policy': 'depthwise'}. Best is trial 1 with value: 0.5321632765671388.\n",
      "[I 2025-03-26 10:57:58,531] Trial 4 finished with value: 0.4866174799736477 and parameters: {'n_estimators': 350, 'max_depth': 25, 'learning_rate': 0.022011539212896395, 'subsample': 0.9757197407859406, 'colsample_bytree': 0.9717700410079397, 'gamma': 0.11169242718357142, 'min_child_weight': 59, 'scale_pos_weight': 1, 'reg_alpha': 0.5, 'tree_method': 'exact', 'grow_policy': 'depthwise'}. Best is trial 1 with value: 0.5321632765671388.\n",
      "[I 2025-03-26 10:57:59,076] Trial 5 finished with value: 0.4557666389072937 and parameters: {'n_estimators': 300, 'max_depth': 41, 'learning_rate': 0.0011140923021265253, 'subsample': 0.8290474595231196, 'colsample_bytree': 0.7056918078896883, 'gamma': 0.9851367976958045, 'min_child_weight': 57, 'scale_pos_weight': np.float64(1.2905829596412555), 'reg_alpha': 0.1, 'tree_method': 'exact', 'grow_policy': 'depthwise'}. Best is trial 1 with value: 0.5321632765671388.\n",
      "[I 2025-03-26 10:58:00,040] Trial 6 finished with value: 0.5266905170689347 and parameters: {'n_estimators': 300, 'max_depth': 33, 'learning_rate': 0.11344455267150287, 'subsample': 0.9860630188057362, 'colsample_bytree': 0.8849663384456574, 'gamma': 0.759099118289326, 'min_child_weight': 49, 'scale_pos_weight': np.float64(1.2905829596412555), 'reg_alpha': 0, 'tree_method': 'approx', 'grow_policy': 'lossguide'}. Best is trial 1 with value: 0.5321632765671388.\n",
      "[I 2025-03-26 10:58:00,773] Trial 7 finished with value: 0.38860505321985683 and parameters: {'n_estimators': 200, 'max_depth': 5, 'learning_rate': 0.0036065920084941356, 'subsample': 0.6340281847000863, 'colsample_bytree': 0.9038887176736761, 'gamma': 0.17025007563808214, 'min_child_weight': 13, 'scale_pos_weight': 1, 'reg_alpha': 1, 'tree_method': 'approx', 'grow_policy': 'depthwise'}. Best is trial 1 with value: 0.5321632765671388.\n",
      "[I 2025-03-26 10:58:01,006] Trial 8 finished with value: 0.5086233744140601 and parameters: {'n_estimators': 350, 'max_depth': 25, 'learning_rate': 0.03168798646196896, 'subsample': 0.6967436216389716, 'colsample_bytree': 0.5155650317092031, 'gamma': 0.5442323527461858, 'min_child_weight': 25, 'scale_pos_weight': 1, 'reg_alpha': 1, 'tree_method': 'auto', 'grow_policy': 'lossguide'}. Best is trial 1 with value: 0.5321632765671388.\n",
      "[I 2025-03-26 10:58:02,763] Trial 9 finished with value: 0.49125106734580476 and parameters: {'n_estimators': 500, 'max_depth': 13, 'learning_rate': 0.009536835063997601, 'subsample': 0.7695398411220891, 'colsample_bytree': 0.6593232188411657, 'gamma': 0.36533301893440306, 'min_child_weight': 33, 'scale_pos_weight': 1, 'reg_alpha': 1, 'tree_method': 'approx', 'grow_policy': 'lossguide'}. Best is trial 1 with value: 0.5321632765671388.\n",
      "[I 2025-03-26 10:58:03,115] A new study created in memory with name: no-name-f875a233-80ee-43f2-ac97-c51fae5d6367\n"
     ]
    },
    {
     "name": "stdout",
     "output_type": "stream",
     "text": [
      "Mejores parámetros: {'n_estimators': 350, 'max_depth': 31, 'learning_rate': 0.004089382770461855, 'subsample': 0.7138743522565455, 'colsample_bytree': 0.6267941028868937, 'gamma': 0.3275639476887341, 'min_child_weight': 11, 'scale_pos_weight': np.float64(1.2905829596412555), 'reg_alpha': 0, 'tree_method': 'exact', 'grow_policy': 'lossguide'}\n",
      "aCC ACT: 0.5774647887323944\n",
      "MEJOR ACCURACY 0.5899843505477308 - 1\n"
     ]
    },
    {
     "name": "stderr",
     "output_type": "stream",
     "text": [
      "[I 2025-03-26 10:58:04,579] Trial 0 finished with value: 0.48657672364498783 and parameters: {'n_estimators': 500, 'max_depth': 17, 'learning_rate': 0.0775662588976146, 'subsample': 0.6166786502900999, 'colsample_bytree': 0.553828339967984, 'gamma': 0.5950520642062402, 'min_child_weight': 37, 'scale_pos_weight': 1, 'reg_alpha': 0.5, 'tree_method': 'approx', 'grow_policy': 'lossguide'}. Best is trial 0 with value: 0.48657672364498783.\n",
      "[I 2025-03-26 10:58:04,876] Trial 1 finished with value: 0.5195087223147542 and parameters: {'n_estimators': 450, 'max_depth': 5, 'learning_rate': 0.04504077320402558, 'subsample': 0.9208682249697902, 'colsample_bytree': 0.8682033219057195, 'gamma': 0.7091317507811673, 'min_child_weight': 37, 'scale_pos_weight': np.float64(1.2905829596412555), 'reg_alpha': 1, 'tree_method': 'hist', 'grow_policy': 'depthwise'}. Best is trial 1 with value: 0.5195087223147542.\n",
      "[I 2025-03-26 10:58:05,707] Trial 2 finished with value: 0.5231772395161965 and parameters: {'n_estimators': 200, 'max_depth': 21, 'learning_rate': 0.05220878089783604, 'subsample': 0.8896282269646754, 'colsample_bytree': 0.7030538980291947, 'gamma': 0.9893798482800024, 'min_child_weight': 31, 'scale_pos_weight': np.float64(1.2905829596412555), 'reg_alpha': 0.5, 'tree_method': 'approx', 'grow_policy': 'depthwise'}. Best is trial 2 with value: 0.5231772395161965.\n",
      "[I 2025-03-26 10:58:06,909] Trial 3 finished with value: 0.5162369804227706 and parameters: {'n_estimators': 200, 'max_depth': 43, 'learning_rate': 0.026012898779231984, 'subsample': 0.9541056318949487, 'colsample_bytree': 0.988276510203839, 'gamma': 0.8369085929071826, 'min_child_weight': 13, 'scale_pos_weight': 1, 'reg_alpha': 0.5, 'tree_method': 'exact', 'grow_policy': 'depthwise'}. Best is trial 2 with value: 0.5231772395161965.\n",
      "[I 2025-03-26 10:58:07,382] Trial 4 finished with value: 0.4462010303901791 and parameters: {'n_estimators': 150, 'max_depth': 35, 'learning_rate': 0.0023778941555372846, 'subsample': 0.8592900964266041, 'colsample_bytree': 0.6258070715852391, 'gamma': 0.04137550130090173, 'min_child_weight': 67, 'scale_pos_weight': np.float64(1.2905829596412555), 'reg_alpha': 0.5, 'tree_method': 'approx', 'grow_policy': 'depthwise'}. Best is trial 2 with value: 0.5231772395161965.\n",
      "[I 2025-03-26 10:58:07,615] Trial 5 finished with value: 0.5306976267635969 and parameters: {'n_estimators': 200, 'max_depth': 43, 'learning_rate': 0.01927739916447072, 'subsample': 0.8186831305105943, 'colsample_bytree': 0.6839123294670562, 'gamma': 0.8281566850989471, 'min_child_weight': 19, 'scale_pos_weight': np.float64(1.2905829596412555), 'reg_alpha': 1, 'tree_method': 'hist', 'grow_policy': 'depthwise'}. Best is trial 5 with value: 0.5306976267635969.\n",
      "[I 2025-03-26 10:58:07,877] Trial 6 finished with value: 0.3581489377629863 and parameters: {'n_estimators': 400, 'max_depth': 25, 'learning_rate': 0.0012540901826622278, 'subsample': 0.9267469985782973, 'colsample_bytree': 0.5068118720959196, 'gamma': 0.550041185715105, 'min_child_weight': 39, 'scale_pos_weight': 1, 'reg_alpha': 0, 'tree_method': 'auto', 'grow_policy': 'depthwise'}. Best is trial 5 with value: 0.5306976267635969.\n",
      "[I 2025-03-26 10:58:08,059] Trial 7 finished with value: 0.4858026774570174 and parameters: {'n_estimators': 100, 'max_depth': 39, 'learning_rate': 0.008358613805605257, 'subsample': 0.6983259405227011, 'colsample_bytree': 0.7618860939280006, 'gamma': 0.254985693893215, 'min_child_weight': 59, 'scale_pos_weight': np.float64(1.2905829596412555), 'reg_alpha': 1, 'tree_method': 'exact', 'grow_policy': 'lossguide'}. Best is trial 5 with value: 0.5306976267635969.\n",
      "[I 2025-03-26 10:58:08,987] Trial 8 finished with value: 0.5318411020790131 and parameters: {'n_estimators': 200, 'max_depth': 9, 'learning_rate': 0.0069627027961741, 'subsample': 0.6800374020456881, 'colsample_bytree': 0.8832407068378352, 'gamma': 0.9341811650828181, 'min_child_weight': 1, 'scale_pos_weight': np.float64(1.2905829596412555), 'reg_alpha': 0.1, 'tree_method': 'hist', 'grow_policy': 'depthwise'}. Best is trial 8 with value: 0.5318411020790131.\n",
      "[I 2025-03-26 10:58:09,054] Trial 9 finished with value: 0.3581489377629863 and parameters: {'n_estimators': 100, 'max_depth': 43, 'learning_rate': 0.0022750128734954455, 'subsample': 0.7078192360065838, 'colsample_bytree': 0.7741023253554689, 'gamma': 0.2522774400445402, 'min_child_weight': 59, 'scale_pos_weight': 1, 'reg_alpha': 0.1, 'tree_method': 'auto', 'grow_policy': 'depthwise'}. Best is trial 8 with value: 0.5318411020790131.\n",
      "[I 2025-03-26 10:58:09,411] A new study created in memory with name: no-name-51d3b822-09ce-4489-987e-b67420a69d96\n"
     ]
    },
    {
     "name": "stdout",
     "output_type": "stream",
     "text": [
      "Mejores parámetros: {'n_estimators': 200, 'max_depth': 9, 'learning_rate': 0.0069627027961741, 'subsample': 0.6800374020456881, 'colsample_bytree': 0.8832407068378352, 'gamma': 0.9341811650828181, 'min_child_weight': 1, 'scale_pos_weight': np.float64(1.2905829596412555), 'reg_alpha': 0.1, 'tree_method': 'hist', 'grow_policy': 'depthwise'}\n",
      "aCC ACT: 0.5868544600938967\n",
      "MEJOR ACCURACY 0.5899843505477308 - 1\n"
     ]
    },
    {
     "name": "stderr",
     "output_type": "stream",
     "text": [
      "[I 2025-03-26 10:58:09,869] Trial 0 finished with value: 0.5288763801746181 and parameters: {'n_estimators': 100, 'max_depth': 39, 'learning_rate': 0.010204524951330765, 'subsample': 0.8893860711323764, 'colsample_bytree': 0.9889947559983013, 'gamma': 0.5384958704104337, 'min_child_weight': 35, 'scale_pos_weight': np.float64(1.2905829596412555), 'reg_alpha': 0.5, 'tree_method': 'approx', 'grow_policy': 'lossguide'}. Best is trial 0 with value: 0.5288763801746181.\n",
      "[I 2025-03-26 10:58:10,040] Trial 1 finished with value: 0.5089553832693612 and parameters: {'n_estimators': 100, 'max_depth': 31, 'learning_rate': 0.15355942605193532, 'subsample': 0.6921211516083859, 'colsample_bytree': 0.7742449596180152, 'gamma': 0.9091283748867313, 'min_child_weight': 9, 'scale_pos_weight': np.float64(1.2905829596412555), 'reg_alpha': 0, 'tree_method': 'hist', 'grow_policy': 'depthwise'}. Best is trial 0 with value: 0.5288763801746181.\n",
      "[I 2025-03-26 10:58:10,858] Trial 2 finished with value: 0.4909963424235822 and parameters: {'n_estimators': 350, 'max_depth': 15, 'learning_rate': 0.011015524255702226, 'subsample': 0.7411913463777579, 'colsample_bytree': 0.8286997313898792, 'gamma': 0.3703510829880352, 'min_child_weight': 33, 'scale_pos_weight': 1, 'reg_alpha': 0, 'tree_method': 'exact', 'grow_policy': 'lossguide'}. Best is trial 0 with value: 0.5288763801746181.\n",
      "[I 2025-03-26 10:58:11,320] Trial 3 finished with value: 0.5072995298236351 and parameters: {'n_estimators': 400, 'max_depth': 27, 'learning_rate': 0.039983987991346816, 'subsample': 0.9821873292011704, 'colsample_bytree': 0.8414569271877088, 'gamma': 0.05312869067295756, 'min_child_weight': 21, 'scale_pos_weight': 1, 'reg_alpha': 0, 'tree_method': 'auto', 'grow_policy': 'depthwise'}. Best is trial 0 with value: 0.5288763801746181.\n",
      "[I 2025-03-26 10:58:11,897] Trial 4 finished with value: 0.5187125703627957 and parameters: {'n_estimators': 150, 'max_depth': 19, 'learning_rate': 0.005578460314062168, 'subsample': 0.7201675617272159, 'colsample_bytree': 0.5827507002328938, 'gamma': 0.414901772573252, 'min_child_weight': 31, 'scale_pos_weight': np.float64(1.2905829596412555), 'reg_alpha': 1, 'tree_method': 'approx', 'grow_policy': 'depthwise'}. Best is trial 0 with value: 0.5288763801746181.\n",
      "[I 2025-03-26 10:58:13,049] Trial 5 finished with value: 0.5131384321174204 and parameters: {'n_estimators': 300, 'max_depth': 41, 'learning_rate': 0.0447090961982576, 'subsample': 0.6588590287766772, 'colsample_bytree': 0.8293741294770727, 'gamma': 0.06925207000983546, 'min_child_weight': 25, 'scale_pos_weight': 1, 'reg_alpha': 0.5, 'tree_method': 'approx', 'grow_policy': 'lossguide'}. Best is trial 0 with value: 0.5288763801746181.\n",
      "[I 2025-03-26 10:58:14,608] Trial 6 finished with value: 0.4145244045352993 and parameters: {'n_estimators': 450, 'max_depth': 47, 'learning_rate': 0.001971841741850145, 'subsample': 0.6921722697640877, 'colsample_bytree': 0.8295791985352805, 'gamma': 0.13247398881674854, 'min_child_weight': 15, 'scale_pos_weight': 1, 'reg_alpha': 0.1, 'tree_method': 'exact', 'grow_policy': 'lossguide'}. Best is trial 0 with value: 0.5288763801746181.\n",
      "[I 2025-03-26 10:58:14,830] Trial 7 finished with value: 0.4884117258561548 and parameters: {'n_estimators': 150, 'max_depth': 23, 'learning_rate': 0.04518296552584609, 'subsample': 0.9381380635055894, 'colsample_bytree': 0.5841376526836222, 'gamma': 0.664968962904761, 'min_child_weight': 57, 'scale_pos_weight': 1, 'reg_alpha': 0.5, 'tree_method': 'exact', 'grow_policy': 'lossguide'}. Best is trial 0 with value: 0.5288763801746181.\n",
      "[I 2025-03-26 10:58:15,990] Trial 8 finished with value: 0.35906710804008035 and parameters: {'n_estimators': 400, 'max_depth': 23, 'learning_rate': 0.0020400962702904197, 'subsample': 0.7325428843849623, 'colsample_bytree': 0.7951729271531676, 'gamma': 0.9406613933963881, 'min_child_weight': 69, 'scale_pos_weight': 1, 'reg_alpha': 0.1, 'tree_method': 'approx', 'grow_policy': 'lossguide'}. Best is trial 0 with value: 0.5288763801746181.\n",
      "[I 2025-03-26 10:58:16,618] Trial 9 finished with value: 0.43100472540805274 and parameters: {'n_estimators': 150, 'max_depth': 45, 'learning_rate': 0.0011750102784788754, 'subsample': 0.869024411808845, 'colsample_bytree': 0.5356698436286036, 'gamma': 0.36078049378522115, 'min_child_weight': 29, 'scale_pos_weight': np.float64(1.2905829596412555), 'reg_alpha': 0.5, 'tree_method': 'approx', 'grow_policy': 'depthwise'}. Best is trial 0 with value: 0.5288763801746181.\n",
      "[I 2025-03-26 10:58:16,966] A new study created in memory with name: no-name-8def1b97-5881-4b00-b4ba-9636219a4066\n"
     ]
    },
    {
     "name": "stdout",
     "output_type": "stream",
     "text": [
      "Mejores parámetros: {'n_estimators': 100, 'max_depth': 39, 'learning_rate': 0.010204524951330765, 'subsample': 0.8893860711323764, 'colsample_bytree': 0.9889947559983013, 'gamma': 0.5384958704104337, 'min_child_weight': 35, 'scale_pos_weight': np.float64(1.2905829596412555), 'reg_alpha': 0.5, 'tree_method': 'approx', 'grow_policy': 'lossguide'}\n",
      "aCC ACT: 0.5899843505477308\n",
      "MEJOR ACCURACY 0.5899843505477308 - 1\n"
     ]
    },
    {
     "name": "stderr",
     "output_type": "stream",
     "text": [
      "[I 2025-03-26 10:58:17,295] Trial 0 finished with value: 0.5099821756227729 and parameters: {'n_estimators': 450, 'max_depth': 49, 'learning_rate': 0.10000983461717242, 'subsample': 0.8123422766222396, 'colsample_bytree': 0.6163641639886454, 'gamma': 0.011398804277429897, 'min_child_weight': 31, 'scale_pos_weight': np.float64(1.2905829596412555), 'reg_alpha': 1, 'tree_method': 'auto', 'grow_policy': 'depthwise'}. Best is trial 0 with value: 0.5099821756227729.\n",
      "[I 2025-03-26 10:58:17,810] Trial 1 finished with value: 0.507303681925908 and parameters: {'n_estimators': 150, 'max_depth': 5, 'learning_rate': 0.18264786896754368, 'subsample': 0.6511422851700127, 'colsample_bytree': 0.6610653966020896, 'gamma': 0.07094284475019874, 'min_child_weight': 15, 'scale_pos_weight': np.float64(1.2905829596412555), 'reg_alpha': 0.1, 'tree_method': 'approx', 'grow_policy': 'depthwise'}. Best is trial 0 with value: 0.5099821756227729.\n",
      "[I 2025-03-26 10:58:18,199] Trial 2 finished with value: 0.520911508121539 and parameters: {'n_estimators': 450, 'max_depth': 33, 'learning_rate': 0.0014389909330430003, 'subsample': 0.8414577905476445, 'colsample_bytree': 0.8977872792144883, 'gamma': 0.0320081564257968, 'min_child_weight': 31, 'scale_pos_weight': np.float64(1.2905829596412555), 'reg_alpha': 0, 'tree_method': 'auto', 'grow_policy': 'lossguide'}. Best is trial 2 with value: 0.520911508121539.\n",
      "[I 2025-03-26 10:58:19,661] Trial 3 finished with value: 0.5382347395090827 and parameters: {'n_estimators': 500, 'max_depth': 47, 'learning_rate': 0.0072825678673791635, 'subsample': 0.8383000983496103, 'colsample_bytree': 0.8309913561372338, 'gamma': 0.5105804552532703, 'min_child_weight': 33, 'scale_pos_weight': np.float64(1.2905829596412555), 'reg_alpha': 1, 'tree_method': 'exact', 'grow_policy': 'depthwise'}. Best is trial 3 with value: 0.5382347395090827.\n",
      "[I 2025-03-26 10:58:20,124] Trial 4 finished with value: 0.5032356306530237 and parameters: {'n_estimators': 400, 'max_depth': 27, 'learning_rate': 0.08128244899641533, 'subsample': 0.8882712045919288, 'colsample_bytree': 0.9331308414408237, 'gamma': 0.20340977215199052, 'min_child_weight': 21, 'scale_pos_weight': np.float64(1.2905829596412555), 'reg_alpha': 1, 'tree_method': 'auto', 'grow_policy': 'lossguide'}. Best is trial 3 with value: 0.5382347395090827.\n",
      "[I 2025-03-26 10:58:20,223] Trial 5 finished with value: 0.45285143079029366 and parameters: {'n_estimators': 200, 'max_depth': 9, 'learning_rate': 0.028978083513665653, 'subsample': 0.6033233497730282, 'colsample_bytree': 0.8942916322489447, 'gamma': 0.5020773926354885, 'min_child_weight': 69, 'scale_pos_weight': 1, 'reg_alpha': 0, 'tree_method': 'auto', 'grow_policy': 'depthwise'}. Best is trial 3 with value: 0.5382347395090827.\n",
      "[I 2025-03-26 10:58:22,133] Trial 6 finished with value: 0.5386392630296172 and parameters: {'n_estimators': 500, 'max_depth': 45, 'learning_rate': 0.0031608899689920676, 'subsample': 0.8421510005250468, 'colsample_bytree': 0.7359765602679645, 'gamma': 0.3591089147932802, 'min_child_weight': 37, 'scale_pos_weight': np.float64(1.2905829596412555), 'reg_alpha': 0.1, 'tree_method': 'approx', 'grow_policy': 'lossguide'}. Best is trial 6 with value: 0.5386392630296172.\n",
      "[I 2025-03-26 10:58:22,304] Trial 7 finished with value: 0.3950788927844973 and parameters: {'n_estimators': 300, 'max_depth': 19, 'learning_rate': 0.00357884960250391, 'subsample': 0.6192927108654519, 'colsample_bytree': 0.587583389604575, 'gamma': 0.5567754326663494, 'min_child_weight': 37, 'scale_pos_weight': 1, 'reg_alpha': 0, 'tree_method': 'auto', 'grow_policy': 'lossguide'}. Best is trial 6 with value: 0.5386392630296172.\n",
      "[I 2025-03-26 10:58:22,371] Trial 8 finished with value: 0.41271790177873724 and parameters: {'n_estimators': 100, 'max_depth': 15, 'learning_rate': 0.017211330684674054, 'subsample': 0.7692237214711917, 'colsample_bytree': 0.7659131622736873, 'gamma': 0.7400773597639123, 'min_child_weight': 65, 'scale_pos_weight': 1, 'reg_alpha': 0.1, 'tree_method': 'hist', 'grow_policy': 'lossguide'}. Best is trial 6 with value: 0.5386392630296172.\n",
      "[I 2025-03-26 10:58:23,655] Trial 9 finished with value: 0.5259375512680483 and parameters: {'n_estimators': 450, 'max_depth': 31, 'learning_rate': 0.0059908478922874675, 'subsample': 0.6678926419853287, 'colsample_bytree': 0.8298650756254449, 'gamma': 0.7154490697792484, 'min_child_weight': 5, 'scale_pos_weight': np.float64(1.2905829596412555), 'reg_alpha': 1, 'tree_method': 'auto', 'grow_policy': 'lossguide'}. Best is trial 6 with value: 0.5386392630296172.\n",
      "[I 2025-03-26 10:58:25,046] A new study created in memory with name: no-name-b3b7fd89-c7bb-421e-95a1-a6caa6eed43c\n",
      "[I 2025-03-26 10:58:25,146] Trial 0 finished with value: 0.4145849743436899 and parameters: {'n_estimators': 100, 'max_depth': 27, 'learning_rate': 0.013828950387180145, 'subsample': 0.6535318115837107, 'colsample_bytree': 0.5710555427272692, 'gamma': 0.21855867562607822, 'min_child_weight': 29, 'scale_pos_weight': 1, 'reg_alpha': 1, 'tree_method': 'hist', 'grow_policy': 'depthwise'}. Best is trial 0 with value: 0.4145849743436899.\n"
     ]
    },
    {
     "name": "stdout",
     "output_type": "stream",
     "text": [
      "Mejores parámetros: {'n_estimators': 500, 'max_depth': 45, 'learning_rate': 0.0031608899689920676, 'subsample': 0.8421510005250468, 'colsample_bytree': 0.7359765602679645, 'gamma': 0.3591089147932802, 'min_child_weight': 37, 'scale_pos_weight': np.float64(1.2905829596412555), 'reg_alpha': 0.1, 'tree_method': 'approx', 'grow_policy': 'lossguide'}\n",
      "aCC ACT: 0.5837245696400626\n",
      "MEJOR ACCURACY 0.5899843505477308 - 1\n"
     ]
    },
    {
     "name": "stderr",
     "output_type": "stream",
     "text": [
      "[I 2025-03-26 10:58:25,360] Trial 1 finished with value: 0.4863022782331486 and parameters: {'n_estimators': 400, 'max_depth': 21, 'learning_rate': 0.039620890078514985, 'subsample': 0.9299481858002192, 'colsample_bytree': 0.732834237683633, 'gamma': 0.9405244095266561, 'min_child_weight': 57, 'scale_pos_weight': 1, 'reg_alpha': 0.1, 'tree_method': 'auto', 'grow_policy': 'depthwise'}. Best is trial 1 with value: 0.4863022782331486.\n",
      "[I 2025-03-26 10:58:25,510] Trial 2 finished with value: 0.5050579744003889 and parameters: {'n_estimators': 250, 'max_depth': 25, 'learning_rate': 0.02540186801628888, 'subsample': 0.7985126870684748, 'colsample_bytree': 0.7389870067691735, 'gamma': 0.43555546476634577, 'min_child_weight': 61, 'scale_pos_weight': np.float64(1.2905829596412555), 'reg_alpha': 0.1, 'tree_method': 'auto', 'grow_policy': 'lossguide'}. Best is trial 2 with value: 0.5050579744003889.\n",
      "[I 2025-03-26 10:58:25,703] Trial 3 finished with value: 0.41582554876454403 and parameters: {'n_estimators': 150, 'max_depth': 9, 'learning_rate': 0.0064874271702412434, 'subsample': 0.7937993820611209, 'colsample_bytree': 0.8488681925618888, 'gamma': 0.801156431695686, 'min_child_weight': 19, 'scale_pos_weight': 1, 'reg_alpha': 1, 'tree_method': 'auto', 'grow_policy': 'lossguide'}. Best is trial 2 with value: 0.5050579744003889.\n",
      "[I 2025-03-26 10:58:26,515] Trial 4 finished with value: 0.48883382090850064 and parameters: {'n_estimators': 250, 'max_depth': 31, 'learning_rate': 0.013724083646646262, 'subsample': 0.7720187256844746, 'colsample_bytree': 0.8673829085180849, 'gamma': 0.5562164868036489, 'min_child_weight': 21, 'scale_pos_weight': 1, 'reg_alpha': 0.1, 'tree_method': 'exact', 'grow_policy': 'lossguide'}. Best is trial 2 with value: 0.5050579744003889.\n",
      "[I 2025-03-26 10:58:26,874] Trial 5 finished with value: 0.3581489377629863 and parameters: {'n_estimators': 100, 'max_depth': 27, 'learning_rate': 0.0015568111672880334, 'subsample': 0.9165272938977503, 'colsample_bytree': 0.8790180124613857, 'gamma': 0.2622732208029519, 'min_child_weight': 7, 'scale_pos_weight': 1, 'reg_alpha': 0.5, 'tree_method': 'hist', 'grow_policy': 'lossguide'}. Best is trial 2 with value: 0.5050579744003889.\n",
      "[I 2025-03-26 10:58:38,119] Trial 6 finished with value: 0.4518862147477047 and parameters: {'n_estimators': 300, 'max_depth': 45, 'learning_rate': 0.0037567110042299842, 'subsample': 0.8085949212735761, 'colsample_bytree': 0.7528728416950021, 'gamma': 0.813071480728264, 'min_child_weight': 5, 'scale_pos_weight': 1, 'reg_alpha': 0.5, 'tree_method': 'approx', 'grow_policy': 'lossguide'}. Best is trial 2 with value: 0.5050579744003889.\n",
      "[I 2025-03-26 10:58:38,984] Trial 7 finished with value: 0.5215724091796851 and parameters: {'n_estimators': 400, 'max_depth': 37, 'learning_rate': 0.11402210870375447, 'subsample': 0.8866596349573894, 'colsample_bytree': 0.8410763850857014, 'gamma': 0.8431168420521119, 'min_child_weight': 45, 'scale_pos_weight': np.float64(1.2905829596412555), 'reg_alpha': 0.1, 'tree_method': 'exact', 'grow_policy': 'depthwise'}. Best is trial 7 with value: 0.5215724091796851.\n",
      "[I 2025-03-26 10:58:39,574] Trial 8 finished with value: 0.49517894136438906 and parameters: {'n_estimators': 350, 'max_depth': 15, 'learning_rate': 0.09605266094950582, 'subsample': 0.6713918223570946, 'colsample_bytree': 0.7898553907969732, 'gamma': 0.46363438246863564, 'min_child_weight': 47, 'scale_pos_weight': np.float64(1.2905829596412555), 'reg_alpha': 0.1, 'tree_method': 'exact', 'grow_policy': 'lossguide'}. Best is trial 7 with value: 0.5215724091796851.\n",
      "[I 2025-03-26 10:58:39,774] Trial 9 finished with value: 0.3658808828870058 and parameters: {'n_estimators': 400, 'max_depth': 21, 'learning_rate': 0.0020629499731130096, 'subsample': 0.7665831008638329, 'colsample_bytree': 0.8692314170781956, 'gamma': 0.5843076357569016, 'min_child_weight': 61, 'scale_pos_weight': 1, 'reg_alpha': 0.5, 'tree_method': 'auto', 'grow_policy': 'lossguide'}. Best is trial 7 with value: 0.5215724091796851.\n",
      "[I 2025-03-26 10:58:40,053] A new study created in memory with name: no-name-dec45305-f711-44fe-8e4e-0bb966c5a1e4\n"
     ]
    },
    {
     "name": "stdout",
     "output_type": "stream",
     "text": [
      "Mejores parámetros: {'n_estimators': 400, 'max_depth': 37, 'learning_rate': 0.11402210870375447, 'subsample': 0.8866596349573894, 'colsample_bytree': 0.8410763850857014, 'gamma': 0.8431168420521119, 'min_child_weight': 45, 'scale_pos_weight': np.float64(1.2905829596412555), 'reg_alpha': 0.1, 'tree_method': 'exact', 'grow_policy': 'depthwise'}\n",
      "aCC ACT: 0.564945226917058\n",
      "MEJOR ACCURACY 0.5899843505477308 - 1\n"
     ]
    },
    {
     "name": "stderr",
     "output_type": "stream",
     "text": [
      "[I 2025-03-26 10:58:40,652] Trial 0 finished with value: 0.519372167334334 and parameters: {'n_estimators': 400, 'max_depth': 3, 'learning_rate': 0.0287106877063144, 'subsample': 0.8995215530154448, 'colsample_bytree': 0.7492535061512953, 'gamma': 0.22479664553084766, 'min_child_weight': 13, 'scale_pos_weight': 1, 'reg_alpha': 0.5, 'tree_method': 'exact', 'grow_policy': 'lossguide'}. Best is trial 0 with value: 0.519372167334334.\n",
      "[I 2025-03-26 10:58:40,938] Trial 1 finished with value: 0.39013371438547345 and parameters: {'n_estimators': 400, 'max_depth': 29, 'learning_rate': 0.0021239170144570336, 'subsample': 0.7493363040205877, 'colsample_bytree': 0.8370668075331726, 'gamma': 0.4418331744229961, 'min_child_weight': 31, 'scale_pos_weight': 1, 'reg_alpha': 0.5, 'tree_method': 'auto', 'grow_policy': 'lossguide'}. Best is trial 0 with value: 0.519372167334334.\n",
      "[I 2025-03-26 10:58:41,228] Trial 2 finished with value: 0.4673171508713603 and parameters: {'n_estimators': 100, 'max_depth': 33, 'learning_rate': 0.018197518517383854, 'subsample': 0.9277147982680275, 'colsample_bytree': 0.5994737698394061, 'gamma': 0.8568503024577332, 'min_child_weight': 25, 'scale_pos_weight': 1, 'reg_alpha': 0, 'tree_method': 'exact', 'grow_policy': 'lossguide'}. Best is trial 0 with value: 0.519372167334334.\n",
      "[I 2025-03-26 10:58:41,471] Trial 3 finished with value: 0.5296736450769248 and parameters: {'n_estimators': 300, 'max_depth': 41, 'learning_rate': 0.003788082448408252, 'subsample': 0.8389486592923537, 'colsample_bytree': 0.9514158801658137, 'gamma': 0.5345579488018151, 'min_child_weight': 41, 'scale_pos_weight': np.float64(1.2905829596412555), 'reg_alpha': 1, 'tree_method': 'hist', 'grow_policy': 'depthwise'}. Best is trial 3 with value: 0.5296736450769248.\n",
      "[I 2025-03-26 10:58:41,745] Trial 4 finished with value: 0.5175273872473003 and parameters: {'n_estimators': 450, 'max_depth': 39, 'learning_rate': 0.1048399279960635, 'subsample': 0.7670036575357068, 'colsample_bytree': 0.8027887821968784, 'gamma': 0.5134666274082884, 'min_child_weight': 41, 'scale_pos_weight': np.float64(1.2905829596412555), 'reg_alpha': 1, 'tree_method': 'auto', 'grow_policy': 'depthwise'}. Best is trial 3 with value: 0.5296736450769248.\n",
      "[I 2025-03-26 10:58:42,260] Trial 5 finished with value: 0.5036814015600306 and parameters: {'n_estimators': 300, 'max_depth': 49, 'learning_rate': 0.010333175186741199, 'subsample': 0.7273091221915805, 'colsample_bytree': 0.7598984929376901, 'gamma': 0.5781364298824675, 'min_child_weight': 59, 'scale_pos_weight': np.float64(1.2905829596412555), 'reg_alpha': 0, 'tree_method': 'exact', 'grow_policy': 'depthwise'}. Best is trial 3 with value: 0.5296736450769248.\n",
      "[I 2025-03-26 10:58:42,630] Trial 6 finished with value: 0.3581489377629863 and parameters: {'n_estimators': 100, 'max_depth': 19, 'learning_rate': 0.001772792813865608, 'subsample': 0.6715611234284361, 'colsample_bytree': 0.9429135480838529, 'gamma': 0.3653649712141158, 'min_child_weight': 15, 'scale_pos_weight': 1, 'reg_alpha': 0, 'tree_method': 'exact', 'grow_policy': 'depthwise'}. Best is trial 3 with value: 0.5296736450769248.\n",
      "[I 2025-03-26 10:58:43,355] Trial 7 finished with value: 0.4964489178605332 and parameters: {'n_estimators': 250, 'max_depth': 47, 'learning_rate': 0.1346709491989801, 'subsample': 0.8266999698299999, 'colsample_bytree': 0.7667354424945013, 'gamma': 0.014860024633228108, 'min_child_weight': 69, 'scale_pos_weight': np.float64(1.2905829596412555), 'reg_alpha': 0.1, 'tree_method': 'approx', 'grow_policy': 'depthwise'}. Best is trial 3 with value: 0.5296736450769248.\n",
      "[I 2025-03-26 10:58:43,878] Trial 8 finished with value: 0.36676989257272596 and parameters: {'n_estimators': 300, 'max_depth': 41, 'learning_rate': 0.0016119007576136197, 'subsample': 0.9200275002776581, 'colsample_bytree': 0.7825631769789023, 'gamma': 0.5893477116806074, 'min_child_weight': 13, 'scale_pos_weight': 1, 'reg_alpha': 1, 'tree_method': 'hist', 'grow_policy': 'lossguide'}. Best is trial 3 with value: 0.5296736450769248.\n",
      "[I 2025-03-26 10:58:44,298] Trial 9 finished with value: 0.5164425859266817 and parameters: {'n_estimators': 450, 'max_depth': 31, 'learning_rate': 0.06269658828968964, 'subsample': 0.8462947504134277, 'colsample_bytree': 0.5105825955860774, 'gamma': 0.750464610487491, 'min_child_weight': 13, 'scale_pos_weight': np.float64(1.2905829596412555), 'reg_alpha': 0.1, 'tree_method': 'auto', 'grow_policy': 'lossguide'}. Best is trial 3 with value: 0.5296736450769248.\n",
      "[I 2025-03-26 10:58:44,476] A new study created in memory with name: no-name-ac3b79c7-e151-4bbb-bc43-2043c83d88c4\n",
      "[I 2025-03-26 10:58:44,599] Trial 0 finished with value: 0.5462821042946344 and parameters: {'n_estimators': 150, 'max_depth': 3, 'learning_rate': 0.011638036743766822, 'subsample': 0.8899735716768591, 'colsample_bytree': 0.7101018022938637, 'gamma': 0.4854270981677824, 'min_child_weight': 1, 'scale_pos_weight': np.float64(1.2905829596412555), 'reg_alpha': 1, 'tree_method': 'auto', 'grow_policy': 'lossguide'}. Best is trial 0 with value: 0.5462821042946344.\n"
     ]
    },
    {
     "name": "stdout",
     "output_type": "stream",
     "text": [
      "Mejores parámetros: {'n_estimators': 300, 'max_depth': 41, 'learning_rate': 0.003788082448408252, 'subsample': 0.8389486592923537, 'colsample_bytree': 0.9514158801658137, 'gamma': 0.5345579488018151, 'min_child_weight': 41, 'scale_pos_weight': np.float64(1.2905829596412555), 'reg_alpha': 1, 'tree_method': 'hist', 'grow_policy': 'depthwise'}\n",
      "aCC ACT: 0.5821596244131455\n",
      "MEJOR ACCURACY 0.5899843505477308 - 1\n"
     ]
    },
    {
     "name": "stderr",
     "output_type": "stream",
     "text": [
      "[I 2025-03-26 10:58:44,969] Trial 1 finished with value: 0.5140878267239104 and parameters: {'n_estimators': 150, 'max_depth': 39, 'learning_rate': 0.07636179756093606, 'subsample': 0.737849796383687, 'colsample_bytree': 0.6593993984312168, 'gamma': 0.11166123199466038, 'min_child_weight': 5, 'scale_pos_weight': 1, 'reg_alpha': 1, 'tree_method': 'hist', 'grow_policy': 'depthwise'}. Best is trial 0 with value: 0.5462821042946344.\n",
      "[I 2025-03-26 10:58:45,577] Trial 2 finished with value: 0.47244662199408954 and parameters: {'n_estimators': 200, 'max_depth': 41, 'learning_rate': 0.0014013428033520952, 'subsample': 0.7458462571984165, 'colsample_bytree': 0.5350114013122512, 'gamma': 0.31936770705091, 'min_child_weight': 5, 'scale_pos_weight': np.float64(1.2905829596412555), 'reg_alpha': 0, 'tree_method': 'hist', 'grow_policy': 'depthwise'}. Best is trial 0 with value: 0.5462821042946344.\n",
      "[I 2025-03-26 10:58:47,252] Trial 3 finished with value: 0.5104100475240836 and parameters: {'n_estimators': 400, 'max_depth': 17, 'learning_rate': 0.041058211616257535, 'subsample': 0.8938670883618007, 'colsample_bytree': 0.9664523135936729, 'gamma': 0.4003284329218084, 'min_child_weight': 25, 'scale_pos_weight': 1, 'reg_alpha': 1, 'tree_method': 'approx', 'grow_policy': 'depthwise'}. Best is trial 0 with value: 0.5462821042946344.\n",
      "[I 2025-03-26 10:58:47,422] Trial 4 finished with value: 0.3581489377629863 and parameters: {'n_estimators': 300, 'max_depth': 5, 'learning_rate': 0.0011079232006081076, 'subsample': 0.9038597870208694, 'colsample_bytree': 0.7263795822459989, 'gamma': 0.6228340076529896, 'min_child_weight': 51, 'scale_pos_weight': 1, 'reg_alpha': 0.5, 'tree_method': 'auto', 'grow_policy': 'depthwise'}. Best is trial 0 with value: 0.5462821042946344.\n",
      "[I 2025-03-26 10:58:49,531] Trial 5 finished with value: 0.5175677051754913 and parameters: {'n_estimators': 250, 'max_depth': 17, 'learning_rate': 0.02030727146401539, 'subsample': 0.8634769405732354, 'colsample_bytree': 0.7877792705276172, 'gamma': 0.31818719398704765, 'min_child_weight': 15, 'scale_pos_weight': 1, 'reg_alpha': 0, 'tree_method': 'approx', 'grow_policy': 'lossguide'}. Best is trial 0 with value: 0.5462821042946344.\n",
      "[I 2025-03-26 10:58:50,431] Trial 6 finished with value: 0.49744157415933304 and parameters: {'n_estimators': 350, 'max_depth': 41, 'learning_rate': 0.016906194491071298, 'subsample': 0.9644486659202908, 'colsample_bytree': 0.7077518346124201, 'gamma': 0.2860446694951897, 'min_child_weight': 37, 'scale_pos_weight': 1, 'reg_alpha': 0.5, 'tree_method': 'exact', 'grow_policy': 'lossguide'}. Best is trial 0 with value: 0.5462821042946344.\n",
      "[I 2025-03-26 10:58:50,570] Trial 7 finished with value: 0.49811408522664663 and parameters: {'n_estimators': 250, 'max_depth': 45, 'learning_rate': 0.005269690880659576, 'subsample': 0.9723063689837077, 'colsample_bytree': 0.6191730506199857, 'gamma': 0.42039077484565157, 'min_child_weight': 67, 'scale_pos_weight': np.float64(1.2905829596412555), 'reg_alpha': 0.5, 'tree_method': 'hist', 'grow_policy': 'lossguide'}. Best is trial 0 with value: 0.5462821042946344.\n",
      "[I 2025-03-26 10:58:50,770] Trial 8 finished with value: 0.5019205734874527 and parameters: {'n_estimators': 250, 'max_depth': 5, 'learning_rate': 0.018819291538913555, 'subsample': 0.8945237887128286, 'colsample_bytree': 0.8240232365862985, 'gamma': 0.05293284911473728, 'min_child_weight': 17, 'scale_pos_weight': 1, 'reg_alpha': 0.1, 'tree_method': 'auto', 'grow_policy': 'depthwise'}. Best is trial 0 with value: 0.5462821042946344.\n",
      "[I 2025-03-26 10:58:50,952] Trial 9 finished with value: 0.5332741612733984 and parameters: {'n_estimators': 100, 'max_depth': 31, 'learning_rate': 0.0052381130364092966, 'subsample': 0.8726236171992916, 'colsample_bytree': 0.9739750148760769, 'gamma': 0.3605798783967624, 'min_child_weight': 17, 'scale_pos_weight': np.float64(1.2905829596412555), 'reg_alpha': 0.1, 'tree_method': 'hist', 'grow_policy': 'lossguide'}. Best is trial 0 with value: 0.5462821042946344.\n",
      "[I 2025-03-26 10:58:51,020] A new study created in memory with name: no-name-f7b9940d-28b1-44b7-a44c-0484f69dd3e8\n",
      "[I 2025-03-26 10:58:51,129] Trial 0 finished with value: 0.47653442455201966 and parameters: {'n_estimators': 150, 'max_depth': 37, 'learning_rate': 0.004035485101147011, 'subsample': 0.8134957573521191, 'colsample_bytree': 0.5072874812427098, 'gamma': 0.918747008099885, 'min_child_weight': 63, 'scale_pos_weight': np.float64(1.2905829596412555), 'reg_alpha': 1, 'tree_method': 'auto', 'grow_policy': 'lossguide'}. Best is trial 0 with value: 0.47653442455201966.\n"
     ]
    },
    {
     "name": "stdout",
     "output_type": "stream",
     "text": [
      "Mejores parámetros: {'n_estimators': 150, 'max_depth': 3, 'learning_rate': 0.011638036743766822, 'subsample': 0.8899735716768591, 'colsample_bytree': 0.7101018022938637, 'gamma': 0.4854270981677824, 'min_child_weight': 1, 'scale_pos_weight': np.float64(1.2905829596412555), 'reg_alpha': 1, 'tree_method': 'auto', 'grow_policy': 'lossguide'}\n",
      "aCC ACT: 0.5758998435054773\n",
      "MEJOR ACCURACY 0.5899843505477308 - 1\n"
     ]
    },
    {
     "name": "stderr",
     "output_type": "stream",
     "text": [
      "[I 2025-03-26 10:58:51,350] Trial 1 finished with value: 0.4284382914612997 and parameters: {'n_estimators': 150, 'max_depth': 39, 'learning_rate': 0.0011165648946363195, 'subsample': 0.6540840713476467, 'colsample_bytree': 0.558136508700845, 'gamma': 0.30989758449002924, 'min_child_weight': 47, 'scale_pos_weight': np.float64(1.2905829596412555), 'reg_alpha': 0.1, 'tree_method': 'exact', 'grow_policy': 'lossguide'}. Best is trial 0 with value: 0.47653442455201966.\n",
      "[I 2025-03-26 10:58:51,583] Trial 2 finished with value: 0.5348950774842605 and parameters: {'n_estimators': 250, 'max_depth': 23, 'learning_rate': 0.00835344065797477, 'subsample': 0.9980552641354234, 'colsample_bytree': 0.5887820879689447, 'gamma': 0.9625969030278503, 'min_child_weight': 29, 'scale_pos_weight': np.float64(1.2905829596412555), 'reg_alpha': 0.1, 'tree_method': 'auto', 'grow_policy': 'depthwise'}. Best is trial 2 with value: 0.5348950774842605.\n",
      "[I 2025-03-26 10:58:51,974] Trial 3 finished with value: 0.3581489377629863 and parameters: {'n_estimators': 300, 'max_depth': 21, 'learning_rate': 0.0012910789183108726, 'subsample': 0.8289618062118438, 'colsample_bytree': 0.9017583253386882, 'gamma': 0.11360171953981701, 'min_child_weight': 19, 'scale_pos_weight': 1, 'reg_alpha': 0.5, 'tree_method': 'hist', 'grow_policy': 'lossguide'}. Best is trial 2 with value: 0.5348950774842605.\n",
      "[I 2025-03-26 10:58:52,180] Trial 4 finished with value: 0.4208559054256337 and parameters: {'n_estimators': 100, 'max_depth': 31, 'learning_rate': 0.001179450037219886, 'subsample': 0.8661029730123156, 'colsample_bytree': 0.8186927475704847, 'gamma': 0.862465162297615, 'min_child_weight': 65, 'scale_pos_weight': np.float64(1.2905829596412555), 'reg_alpha': 0, 'tree_method': 'exact', 'grow_policy': 'depthwise'}. Best is trial 2 with value: 0.5348950774842605.\n",
      "[I 2025-03-26 10:58:52,256] Trial 5 finished with value: 0.4795935761735276 and parameters: {'n_estimators': 100, 'max_depth': 45, 'learning_rate': 0.13080870917289794, 'subsample': 0.6023637423473936, 'colsample_bytree': 0.8214630742179228, 'gamma': 0.38521698024307416, 'min_child_weight': 41, 'scale_pos_weight': 1, 'reg_alpha': 1, 'tree_method': 'hist', 'grow_policy': 'depthwise'}. Best is trial 2 with value: 0.5348950774842605.\n",
      "[I 2025-03-26 10:58:52,694] Trial 6 finished with value: 0.5297127462532696 and parameters: {'n_estimators': 250, 'max_depth': 33, 'learning_rate': 0.01504200682685254, 'subsample': 0.7335329942058413, 'colsample_bytree': 0.8892367169296723, 'gamma': 0.1354351345676108, 'min_child_weight': 13, 'scale_pos_weight': np.float64(1.2905829596412555), 'reg_alpha': 0.5, 'tree_method': 'hist', 'grow_policy': 'lossguide'}. Best is trial 2 with value: 0.5348950774842605.\n",
      "[I 2025-03-26 10:58:52,916] Trial 7 finished with value: 0.3581489377629863 and parameters: {'n_estimators': 250, 'max_depth': 11, 'learning_rate': 0.0010433161375418476, 'subsample': 0.6041753608378885, 'colsample_bytree': 0.7987294023195617, 'gamma': 0.08463852035212138, 'min_child_weight': 23, 'scale_pos_weight': 1, 'reg_alpha': 0, 'tree_method': 'hist', 'grow_policy': 'lossguide'}. Best is trial 2 with value: 0.5348950774842605.\n",
      "[I 2025-03-26 10:58:53,066] Trial 8 finished with value: 0.5354587700669109 and parameters: {'n_estimators': 150, 'max_depth': 37, 'learning_rate': 0.02992196827637318, 'subsample': 0.7192924116926547, 'colsample_bytree': 0.68791394765973, 'gamma': 0.9886278651751473, 'min_child_weight': 25, 'scale_pos_weight': np.float64(1.2905829596412555), 'reg_alpha': 1, 'tree_method': 'auto', 'grow_policy': 'lossguide'}. Best is trial 8 with value: 0.5354587700669109.\n",
      "[I 2025-03-26 10:58:53,183] Trial 9 finished with value: 0.5127348134308372 and parameters: {'n_estimators': 100, 'max_depth': 21, 'learning_rate': 0.0055062645903554315, 'subsample': 0.9885301175710313, 'colsample_bytree': 0.9845911898057207, 'gamma': 0.7434179682255139, 'min_child_weight': 37, 'scale_pos_weight': np.float64(1.2905829596412555), 'reg_alpha': 0, 'tree_method': 'hist', 'grow_policy': 'lossguide'}. Best is trial 8 with value: 0.5354587700669109.\n",
      "[I 2025-03-26 10:58:53,306] A new study created in memory with name: no-name-e2e7a2cd-037b-42a1-b77b-56604e351e5b\n"
     ]
    },
    {
     "name": "stdout",
     "output_type": "stream",
     "text": [
      "Mejores parámetros: {'n_estimators': 150, 'max_depth': 37, 'learning_rate': 0.02992196827637318, 'subsample': 0.7192924116926547, 'colsample_bytree': 0.68791394765973, 'gamma': 0.9886278651751473, 'min_child_weight': 25, 'scale_pos_weight': np.float64(1.2905829596412555), 'reg_alpha': 1, 'tree_method': 'auto', 'grow_policy': 'lossguide'}\n",
      "aCC ACT: 0.5868544600938967\n",
      "MEJOR ACCURACY 0.5899843505477308 - 1\n"
     ]
    },
    {
     "name": "stderr",
     "output_type": "stream",
     "text": [
      "[I 2025-03-26 10:58:53,598] Trial 0 finished with value: 0.5046566522127679 and parameters: {'n_estimators': 400, 'max_depth': 13, 'learning_rate': 0.07882965546640572, 'subsample': 0.9862996792171999, 'colsample_bytree': 0.9863005569524467, 'gamma': 0.4534492474173122, 'min_child_weight': 43, 'scale_pos_weight': 1, 'reg_alpha': 0, 'tree_method': 'auto', 'grow_policy': 'depthwise'}. Best is trial 0 with value: 0.5046566522127679.\n",
      "[I 2025-03-26 10:58:54,584] Trial 1 finished with value: 0.527795672331606 and parameters: {'n_estimators': 250, 'max_depth': 47, 'learning_rate': 0.0031724307883199826, 'subsample': 0.7277565465521458, 'colsample_bytree': 0.9588861930002937, 'gamma': 0.03190366643989473, 'min_child_weight': 5, 'scale_pos_weight': np.float64(1.2905829596412555), 'reg_alpha': 0.5, 'tree_method': 'hist', 'grow_policy': 'lossguide'}. Best is trial 1 with value: 0.527795672331606.\n",
      "[I 2025-03-26 10:58:54,962] Trial 2 finished with value: 0.5389778035882454 and parameters: {'n_estimators': 400, 'max_depth': 17, 'learning_rate': 0.004338872863446674, 'subsample': 0.8781781810213898, 'colsample_bytree': 0.9592758740729743, 'gamma': 0.2444757021979903, 'min_child_weight': 33, 'scale_pos_weight': np.float64(1.2905829596412555), 'reg_alpha': 0.1, 'tree_method': 'auto', 'grow_policy': 'lossguide'}. Best is trial 2 with value: 0.5389778035882454.\n",
      "[I 2025-03-26 10:58:56,655] Trial 3 finished with value: 0.5327823245423534 and parameters: {'n_estimators': 400, 'max_depth': 13, 'learning_rate': 0.020371454122687944, 'subsample': 0.8226528205737611, 'colsample_bytree': 0.5363686054421739, 'gamma': 0.8397085104160709, 'min_child_weight': 29, 'scale_pos_weight': np.float64(1.2905829596412555), 'reg_alpha': 0.5, 'tree_method': 'approx', 'grow_policy': 'lossguide'}. Best is trial 2 with value: 0.5389778035882454.\n",
      "[I 2025-03-26 10:58:57,556] Trial 4 finished with value: 0.5062954153488703 and parameters: {'n_estimators': 150, 'max_depth': 13, 'learning_rate': 0.02344398975651974, 'subsample': 0.825569043631486, 'colsample_bytree': 0.9794673659916486, 'gamma': 0.4532393332235999, 'min_child_weight': 9, 'scale_pos_weight': 1, 'reg_alpha': 1, 'tree_method': 'exact', 'grow_policy': 'lossguide'}. Best is trial 2 with value: 0.5389778035882454.\n",
      "[I 2025-03-26 10:58:58,017] Trial 5 finished with value: 0.3581489377629863 and parameters: {'n_estimators': 150, 'max_depth': 5, 'learning_rate': 0.004167371949865056, 'subsample': 0.8600522072052533, 'colsample_bytree': 0.7733886226723303, 'gamma': 0.696724843853251, 'min_child_weight': 67, 'scale_pos_weight': 1, 'reg_alpha': 0, 'tree_method': 'approx', 'grow_policy': 'lossguide'}. Best is trial 2 with value: 0.5389778035882454.\n",
      "[I 2025-03-26 10:58:58,606] Trial 6 finished with value: 0.36304904963133017 and parameters: {'n_estimators': 200, 'max_depth': 3, 'learning_rate': 0.00384928578284243, 'subsample': 0.8675418825685106, 'colsample_bytree': 0.8799595403103707, 'gamma': 0.22601441426661684, 'min_child_weight': 43, 'scale_pos_weight': 1, 'reg_alpha': 0.5, 'tree_method': 'approx', 'grow_policy': 'depthwise'}. Best is trial 2 with value: 0.5389778035882454.\n",
      "[I 2025-03-26 10:58:58,967] Trial 7 finished with value: 0.5330632351511804 and parameters: {'n_estimators': 100, 'max_depth': 29, 'learning_rate': 0.04304105539079653, 'subsample': 0.9803484130504582, 'colsample_bytree': 0.8740256660630937, 'gamma': 0.37224601242411803, 'min_child_weight': 53, 'scale_pos_weight': np.float64(1.2905829596412555), 'reg_alpha': 0, 'tree_method': 'approx', 'grow_policy': 'depthwise'}. Best is trial 2 with value: 0.5389778035882454.\n",
      "[I 2025-03-26 10:58:59,554] Trial 8 finished with value: 0.5274477338821388 and parameters: {'n_estimators': 350, 'max_depth': 11, 'learning_rate': 0.014652508978741322, 'subsample': 0.7126075347473707, 'colsample_bytree': 0.6850384388246464, 'gamma': 0.5045289129748705, 'min_child_weight': 9, 'scale_pos_weight': np.float64(1.2905829596412555), 'reg_alpha': 1, 'tree_method': 'hist', 'grow_policy': 'lossguide'}. Best is trial 2 with value: 0.5389778035882454.\n",
      "[I 2025-03-26 10:58:59,754] Trial 9 finished with value: 0.5026146352103196 and parameters: {'n_estimators': 350, 'max_depth': 3, 'learning_rate': 0.1939878799080322, 'subsample': 0.6529591345528285, 'colsample_bytree': 0.8463181288706587, 'gamma': 0.33428825238062276, 'min_child_weight': 13, 'scale_pos_weight': np.float64(1.2905829596412555), 'reg_alpha': 0.5, 'tree_method': 'hist', 'grow_policy': 'lossguide'}. Best is trial 2 with value: 0.5389778035882454.\n",
      "[I 2025-03-26 10:59:00,076] A new study created in memory with name: no-name-6c5db182-087d-417a-9826-90d3b57c6ba7\n"
     ]
    },
    {
     "name": "stdout",
     "output_type": "stream",
     "text": [
      "Mejores parámetros: {'n_estimators': 400, 'max_depth': 17, 'learning_rate': 0.004338872863446674, 'subsample': 0.8781781810213898, 'colsample_bytree': 0.9592758740729743, 'gamma': 0.2444757021979903, 'min_child_weight': 33, 'scale_pos_weight': np.float64(1.2905829596412555), 'reg_alpha': 0.1, 'tree_method': 'auto', 'grow_policy': 'lossguide'}\n",
      "aCC ACT: 0.594679186228482\n",
      "MEJOR ACCURACY 0.594679186228482 - 13\n"
     ]
    },
    {
     "name": "stderr",
     "output_type": "stream",
     "text": [
      "[I 2025-03-26 10:59:00,284] Trial 0 finished with value: 0.5166948209670548 and parameters: {'n_estimators': 300, 'max_depth': 39, 'learning_rate': 0.1006653977605827, 'subsample': 0.6032187794119271, 'colsample_bytree': 0.6548679627526021, 'gamma': 0.9576037393658909, 'min_child_weight': 35, 'scale_pos_weight': np.float64(1.2905829596412555), 'reg_alpha': 0.1, 'tree_method': 'hist', 'grow_policy': 'lossguide'}. Best is trial 0 with value: 0.5166948209670548.\n",
      "[I 2025-03-26 10:59:00,704] Trial 1 finished with value: 0.38252603835620097 and parameters: {'n_estimators': 400, 'max_depth': 43, 'learning_rate': 0.001792128407592232, 'subsample': 0.7200367921575135, 'colsample_bytree': 0.7374528829752343, 'gamma': 0.6729367191665858, 'min_child_weight': 19, 'scale_pos_weight': 1, 'reg_alpha': 0.5, 'tree_method': 'auto', 'grow_policy': 'lossguide'}. Best is trial 0 with value: 0.5166948209670548.\n",
      "[I 2025-03-26 10:59:00,987] Trial 2 finished with value: 0.4680392502229799 and parameters: {'n_estimators': 300, 'max_depth': 11, 'learning_rate': 0.006443221472303416, 'subsample': 0.8859246665701039, 'colsample_bytree': 0.6787176816258829, 'gamma': 0.05161855399507598, 'min_child_weight': 23, 'scale_pos_weight': 1, 'reg_alpha': 0.5, 'tree_method': 'hist', 'grow_policy': 'depthwise'}. Best is trial 0 with value: 0.5166948209670548.\n",
      "[I 2025-03-26 10:59:01,218] Trial 3 finished with value: 0.5163404161658877 and parameters: {'n_estimators': 300, 'max_depth': 23, 'learning_rate': 0.04898736146639005, 'subsample': 0.8483774165289197, 'colsample_bytree': 0.810535113344407, 'gamma': 0.1501726341960331, 'min_child_weight': 37, 'scale_pos_weight': np.float64(1.2905829596412555), 'reg_alpha': 0.5, 'tree_method': 'hist', 'grow_policy': 'depthwise'}. Best is trial 0 with value: 0.5166948209670548.\n",
      "[I 2025-03-26 10:59:01,965] Trial 4 finished with value: 0.45707807563561637 and parameters: {'n_estimators': 250, 'max_depth': 25, 'learning_rate': 0.0015529045300290158, 'subsample': 0.8281091632204975, 'colsample_bytree': 0.6142587813323844, 'gamma': 0.03572971978146555, 'min_child_weight': 67, 'scale_pos_weight': np.float64(1.2905829596412555), 'reg_alpha': 0.5, 'tree_method': 'approx', 'grow_policy': 'lossguide'}. Best is trial 0 with value: 0.5166948209670548.\n",
      "[I 2025-03-26 10:59:02,386] Trial 5 finished with value: 0.5300122153245164 and parameters: {'n_estimators': 400, 'max_depth': 33, 'learning_rate': 0.0016806607157262483, 'subsample': 0.8606344240291128, 'colsample_bytree': 0.9843080041756764, 'gamma': 0.23695196706301513, 'min_child_weight': 27, 'scale_pos_weight': np.float64(1.2905829596412555), 'reg_alpha': 0, 'tree_method': 'hist', 'grow_policy': 'lossguide'}. Best is trial 5 with value: 0.5300122153245164.\n",
      "[I 2025-03-26 10:59:09,212] Trial 6 finished with value: 0.5208501240975061 and parameters: {'n_estimators': 400, 'max_depth': 33, 'learning_rate': 0.004128539143095075, 'subsample': 0.7557085123142412, 'colsample_bytree': 0.9526204394968232, 'gamma': 0.730842166642431, 'min_child_weight': 5, 'scale_pos_weight': np.float64(1.2905829596412555), 'reg_alpha': 0, 'tree_method': 'approx', 'grow_policy': 'depthwise'}. Best is trial 5 with value: 0.5300122153245164.\n",
      "[I 2025-03-26 10:59:09,330] Trial 7 finished with value: 0.5039254839133082 and parameters: {'n_estimators': 200, 'max_depth': 47, 'learning_rate': 0.012345432108976576, 'subsample': 0.6609706469237474, 'colsample_bytree': 0.7760735175866136, 'gamma': 0.620669205199192, 'min_child_weight': 59, 'scale_pos_weight': np.float64(1.2905829596412555), 'reg_alpha': 0.1, 'tree_method': 'auto', 'grow_policy': 'depthwise'}. Best is trial 5 with value: 0.5300122153245164.\n",
      "[I 2025-03-26 10:59:09,823] Trial 8 finished with value: 0.5215037796981143 and parameters: {'n_estimators': 150, 'max_depth': 11, 'learning_rate': 0.18185587254810798, 'subsample': 0.7811694802114616, 'colsample_bytree': 0.9793424846218916, 'gamma': 0.8961065597258336, 'min_child_weight': 31, 'scale_pos_weight': np.float64(1.2905829596412555), 'reg_alpha': 0, 'tree_method': 'exact', 'grow_policy': 'lossguide'}. Best is trial 5 with value: 0.5300122153245164.\n",
      "[I 2025-03-26 10:59:10,963] Trial 9 finished with value: 0.5014910900913595 and parameters: {'n_estimators': 350, 'max_depth': 39, 'learning_rate': 0.016154686254895433, 'subsample': 0.8557100550204043, 'colsample_bytree': 0.7701834460451753, 'gamma': 0.2655824352378039, 'min_child_weight': 21, 'scale_pos_weight': 1, 'reg_alpha': 0.5, 'tree_method': 'exact', 'grow_policy': 'lossguide'}. Best is trial 5 with value: 0.5300122153245164.\n",
      "[I 2025-03-26 10:59:11,323] A new study created in memory with name: no-name-d747bd2d-7812-4fb3-9463-17d949181ec9\n"
     ]
    },
    {
     "name": "stdout",
     "output_type": "stream",
     "text": [
      "Mejores parámetros: {'n_estimators': 400, 'max_depth': 33, 'learning_rate': 0.0016806607157262483, 'subsample': 0.8606344240291128, 'colsample_bytree': 0.9843080041756764, 'gamma': 0.23695196706301513, 'min_child_weight': 27, 'scale_pos_weight': np.float64(1.2905829596412555), 'reg_alpha': 0, 'tree_method': 'hist', 'grow_policy': 'lossguide'}\n",
      "aCC ACT: 0.593114241001565\n",
      "MEJOR ACCURACY 0.594679186228482 - 13\n"
     ]
    },
    {
     "name": "stderr",
     "output_type": "stream",
     "text": [
      "[I 2025-03-26 10:59:11,730] Trial 0 finished with value: 0.3651627192344825 and parameters: {'n_estimators': 450, 'max_depth': 11, 'learning_rate': 0.0013338020690522791, 'subsample': 0.7446153784352891, 'colsample_bytree': 0.637700464303206, 'gamma': 0.5300002248954253, 'min_child_weight': 21, 'scale_pos_weight': 1, 'reg_alpha': 0.1, 'tree_method': 'auto', 'grow_policy': 'depthwise'}. Best is trial 0 with value: 0.3651627192344825.\n",
      "[I 2025-03-26 10:59:11,827] Trial 1 finished with value: 0.4925027173141824 and parameters: {'n_estimators': 150, 'max_depth': 49, 'learning_rate': 0.007207655472981398, 'subsample': 0.9042041095715798, 'colsample_bytree': 0.7367372213415806, 'gamma': 0.5097153058176547, 'min_child_weight': 67, 'scale_pos_weight': np.float64(1.2905829596412555), 'reg_alpha': 0.1, 'tree_method': 'auto', 'grow_policy': 'depthwise'}. Best is trial 1 with value: 0.4925027173141824.\n",
      "[I 2025-03-26 10:59:22,217] Trial 2 finished with value: 0.3581489377629863 and parameters: {'n_estimators': 250, 'max_depth': 21, 'learning_rate': 0.0015251554048887972, 'subsample': 0.6227324805648334, 'colsample_bytree': 0.5391654543165445, 'gamma': 0.6956778106391276, 'min_child_weight': 3, 'scale_pos_weight': 1, 'reg_alpha': 1, 'tree_method': 'approx', 'grow_policy': 'lossguide'}. Best is trial 1 with value: 0.4925027173141824.\n",
      "[I 2025-03-26 10:59:22,387] Trial 3 finished with value: 0.45053946013648466 and parameters: {'n_estimators': 250, 'max_depth': 15, 'learning_rate': 0.0011350233398980236, 'subsample': 0.7485330263071299, 'colsample_bytree': 0.5488654398279316, 'gamma': 0.7275225485779123, 'min_child_weight': 33, 'scale_pos_weight': np.float64(1.2905829596412555), 'reg_alpha': 0.5, 'tree_method': 'auto', 'grow_policy': 'depthwise'}. Best is trial 1 with value: 0.4925027173141824.\n",
      "[I 2025-03-26 10:59:22,554] Trial 4 finished with value: 0.5105157096239403 and parameters: {'n_estimators': 150, 'max_depth': 29, 'learning_rate': 0.13145819397244426, 'subsample': 0.9502663768325408, 'colsample_bytree': 0.5637960774760198, 'gamma': 0.30365373978719956, 'min_child_weight': 21, 'scale_pos_weight': np.float64(1.2905829596412555), 'reg_alpha': 1, 'tree_method': 'hist', 'grow_policy': 'lossguide'}. Best is trial 4 with value: 0.5105157096239403.\n",
      "[I 2025-03-26 10:59:22,807] Trial 5 finished with value: 0.5145310136641307 and parameters: {'n_estimators': 450, 'max_depth': 11, 'learning_rate': 0.009314152576483391, 'subsample': 0.9729109374163638, 'colsample_bytree': 0.681645399015254, 'gamma': 0.015004156349900266, 'min_child_weight': 63, 'scale_pos_weight': np.float64(1.2905829596412555), 'reg_alpha': 0.1, 'tree_method': 'hist', 'grow_policy': 'lossguide'}. Best is trial 5 with value: 0.5145310136641307.\n",
      "[I 2025-03-26 10:59:23,987] Trial 6 finished with value: 0.5053290835932726 and parameters: {'n_estimators': 350, 'max_depth': 39, 'learning_rate': 0.14621452802951457, 'subsample': 0.6495950257676446, 'colsample_bytree': 0.6049978690212274, 'gamma': 0.3653677020716356, 'min_child_weight': 29, 'scale_pos_weight': np.float64(1.2905829596412555), 'reg_alpha': 0.1, 'tree_method': 'approx', 'grow_policy': 'lossguide'}. Best is trial 5 with value: 0.5145310136641307.\n",
      "[I 2025-03-26 10:59:25,081] Trial 7 finished with value: 0.5419279777439928 and parameters: {'n_estimators': 300, 'max_depth': 35, 'learning_rate': 0.00740464015562866, 'subsample': 0.8865734221146688, 'colsample_bytree': 0.682509893699728, 'gamma': 0.551521872294001, 'min_child_weight': 41, 'scale_pos_weight': np.float64(1.2905829596412555), 'reg_alpha': 1, 'tree_method': 'approx', 'grow_policy': 'lossguide'}. Best is trial 7 with value: 0.5419279777439928.\n",
      "[I 2025-03-26 10:59:25,335] Trial 8 finished with value: 0.5239093167389717 and parameters: {'n_estimators': 400, 'max_depth': 7, 'learning_rate': 0.17037547060765423, 'subsample': 0.9455236911689909, 'colsample_bytree': 0.5496452786962182, 'gamma': 0.3426550027332561, 'min_child_weight': 3, 'scale_pos_weight': np.float64(1.2905829596412555), 'reg_alpha': 0, 'tree_method': 'auto', 'grow_policy': 'depthwise'}. Best is trial 7 with value: 0.5419279777439928.\n",
      "[I 2025-03-26 10:59:25,516] Trial 9 finished with value: 0.5339199853422383 and parameters: {'n_estimators': 100, 'max_depth': 13, 'learning_rate': 0.16757295814252648, 'subsample': 0.9287386022019493, 'colsample_bytree': 0.71755806536176, 'gamma': 0.8278123360964413, 'min_child_weight': 3, 'scale_pos_weight': np.float64(1.2905829596412555), 'reg_alpha': 0.5, 'tree_method': 'hist', 'grow_policy': 'depthwise'}. Best is trial 7 with value: 0.5419279777439928.\n",
      "[I 2025-03-26 10:59:26,260] A new study created in memory with name: no-name-08be6de5-f7a8-4930-af42-bb3bfb956023\n",
      "[I 2025-03-26 10:59:26,383] Trial 0 finished with value: 0.46577072993135255 and parameters: {'n_estimators': 200, 'max_depth': 27, 'learning_rate': 0.018500376647241294, 'subsample': 0.6182407800531226, 'colsample_bytree': 0.6803644176738863, 'gamma': 0.22308094169128878, 'min_child_weight': 49, 'scale_pos_weight': 1, 'reg_alpha': 0, 'tree_method': 'hist', 'grow_policy': 'depthwise'}. Best is trial 0 with value: 0.46577072993135255.\n"
     ]
    },
    {
     "name": "stdout",
     "output_type": "stream",
     "text": [
      "Mejores parámetros: {'n_estimators': 300, 'max_depth': 35, 'learning_rate': 0.00740464015562866, 'subsample': 0.8865734221146688, 'colsample_bytree': 0.682509893699728, 'gamma': 0.551521872294001, 'min_child_weight': 41, 'scale_pos_weight': np.float64(1.2905829596412555), 'reg_alpha': 1, 'tree_method': 'approx', 'grow_policy': 'lossguide'}\n",
      "aCC ACT: 0.5821596244131455\n",
      "MEJOR ACCURACY 0.594679186228482 - 13\n"
     ]
    },
    {
     "name": "stderr",
     "output_type": "stream",
     "text": [
      "[I 2025-03-26 10:59:27,390] Trial 1 finished with value: 0.5196450076892206 and parameters: {'n_estimators': 300, 'max_depth': 7, 'learning_rate': 0.129307981212731, 'subsample': 0.8265785314876782, 'colsample_bytree': 0.7360096578709636, 'gamma': 0.3145664246472115, 'min_child_weight': 3, 'scale_pos_weight': 1, 'reg_alpha': 0.1, 'tree_method': 'exact', 'grow_policy': 'lossguide'}. Best is trial 1 with value: 0.5196450076892206.\n",
      "[I 2025-03-26 10:59:27,489] Trial 2 finished with value: 0.5087824417576704 and parameters: {'n_estimators': 200, 'max_depth': 3, 'learning_rate': 0.05953490393266979, 'subsample': 0.9264569305155398, 'colsample_bytree': 0.569820801874148, 'gamma': 0.5780067455748411, 'min_child_weight': 23, 'scale_pos_weight': 1, 'reg_alpha': 0.1, 'tree_method': 'hist', 'grow_policy': 'depthwise'}. Best is trial 1 with value: 0.5196450076892206.\n",
      "[I 2025-03-26 10:59:28,718] Trial 3 finished with value: 0.4864414675230053 and parameters: {'n_estimators': 400, 'max_depth': 49, 'learning_rate': 0.07310116653260713, 'subsample': 0.7722620718646745, 'colsample_bytree': 0.9788642999057253, 'gamma': 0.04775810110489587, 'min_child_weight': 51, 'scale_pos_weight': 1, 'reg_alpha': 1, 'tree_method': 'approx', 'grow_policy': 'depthwise'}. Best is trial 1 with value: 0.5196450076892206.\n",
      "[I 2025-03-26 10:59:28,836] Trial 4 finished with value: 0.4792022342801097 and parameters: {'n_estimators': 100, 'max_depth': 21, 'learning_rate': 0.021943503522111496, 'subsample': 0.8962882083846724, 'colsample_bytree': 0.9351804208878444, 'gamma': 0.9665261604026779, 'min_child_weight': 31, 'scale_pos_weight': 1, 'reg_alpha': 0.1, 'tree_method': 'hist', 'grow_policy': 'lossguide'}. Best is trial 1 with value: 0.5196450076892206.\n",
      "[I 2025-03-26 10:59:28,944] Trial 5 finished with value: 0.46826093095004423 and parameters: {'n_estimators': 150, 'max_depth': 49, 'learning_rate': 0.031505617534387916, 'subsample': 0.9746711239577295, 'colsample_bytree': 0.9544136526372045, 'gamma': 0.43700781123413013, 'min_child_weight': 65, 'scale_pos_weight': 1, 'reg_alpha': 1, 'tree_method': 'auto', 'grow_policy': 'lossguide'}. Best is trial 1 with value: 0.5196450076892206.\n",
      "[I 2025-03-26 10:59:29,125] Trial 6 finished with value: 0.4839184322002733 and parameters: {'n_estimators': 100, 'max_depth': 45, 'learning_rate': 0.13826472275743432, 'subsample': 0.7360935811349579, 'colsample_bytree': 0.7112905254283461, 'gamma': 0.6701963631462055, 'min_child_weight': 43, 'scale_pos_weight': 1, 'reg_alpha': 0.5, 'tree_method': 'exact', 'grow_policy': 'lossguide'}. Best is trial 1 with value: 0.5196450076892206.\n",
      "[I 2025-03-26 10:59:29,703] Trial 7 finished with value: 0.4904898405497454 and parameters: {'n_estimators': 350, 'max_depth': 11, 'learning_rate': 0.06017812354089608, 'subsample': 0.7378416883886781, 'colsample_bytree': 0.9252051168777378, 'gamma': 0.34129814514380674, 'min_child_weight': 69, 'scale_pos_weight': np.float64(1.2905829596412555), 'reg_alpha': 1, 'tree_method': 'exact', 'grow_policy': 'depthwise'}. Best is trial 1 with value: 0.5196450076892206.\n",
      "[I 2025-03-26 10:59:30,363] Trial 8 finished with value: 0.48610195641771375 and parameters: {'n_estimators': 500, 'max_depth': 7, 'learning_rate': 0.09670567741881493, 'subsample': 0.8953888321894297, 'colsample_bytree': 0.5572557630438253, 'gamma': 0.5426875409203884, 'min_child_weight': 67, 'scale_pos_weight': np.float64(1.2905829596412555), 'reg_alpha': 0, 'tree_method': 'exact', 'grow_policy': 'lossguide'}. Best is trial 1 with value: 0.5196450076892206.\n",
      "[I 2025-03-26 10:59:30,555] Trial 9 finished with value: 0.4878017701280859 and parameters: {'n_estimators': 350, 'max_depth': 37, 'learning_rate': 0.1874149941706793, 'subsample': 0.6767154407743752, 'colsample_bytree': 0.8364920010096493, 'gamma': 0.4153338145563784, 'min_child_weight': 45, 'scale_pos_weight': np.float64(1.2905829596412555), 'reg_alpha': 0, 'tree_method': 'hist', 'grow_policy': 'depthwise'}. Best is trial 1 with value: 0.5196450076892206.\n",
      "[I 2025-03-26 10:59:30,844] A new study created in memory with name: no-name-beffaca7-45a2-4bef-a8e2-f393d661dc5c\n",
      "[I 2025-03-26 10:59:30,978] Trial 0 finished with value: 0.3581489377629863 and parameters: {'n_estimators': 200, 'max_depth': 27, 'learning_rate': 0.0027586402948322902, 'subsample': 0.6271601432765165, 'colsample_bytree': 0.8934927299999567, 'gamma': 0.6563335217758555, 'min_child_weight': 45, 'scale_pos_weight': 1, 'reg_alpha': 0.1, 'tree_method': 'auto', 'grow_policy': 'depthwise'}. Best is trial 0 with value: 0.3581489377629863.\n"
     ]
    },
    {
     "name": "stdout",
     "output_type": "stream",
     "text": [
      "Mejores parámetros: {'n_estimators': 300, 'max_depth': 7, 'learning_rate': 0.129307981212731, 'subsample': 0.8265785314876782, 'colsample_bytree': 0.7360096578709636, 'gamma': 0.3145664246472115, 'min_child_weight': 3, 'scale_pos_weight': 1, 'reg_alpha': 0.1, 'tree_method': 'exact', 'grow_policy': 'lossguide'}\n",
      "aCC ACT: 0.5508607198748043\n",
      "MEJOR ACCURACY 0.594679186228482 - 13\n"
     ]
    },
    {
     "name": "stderr",
     "output_type": "stream",
     "text": [
      "[I 2025-03-26 10:59:31,347] Trial 1 finished with value: 0.5146753273632794 and parameters: {'n_estimators': 200, 'max_depth': 17, 'learning_rate': 0.01959064947030921, 'subsample': 0.7584189744188106, 'colsample_bytree': 0.8943503548394498, 'gamma': 0.41848438534587695, 'min_child_weight': 11, 'scale_pos_weight': 1, 'reg_alpha': 1, 'tree_method': 'auto', 'grow_policy': 'depthwise'}. Best is trial 1 with value: 0.5146753273632794.\n",
      "[I 2025-03-26 10:59:31,528] Trial 2 finished with value: 0.49507096102634074 and parameters: {'n_estimators': 300, 'max_depth': 45, 'learning_rate': 0.06831828588241651, 'subsample': 0.6271914913054505, 'colsample_bytree': 0.9803938782333891, 'gamma': 0.6592053923760217, 'min_child_weight': 51, 'scale_pos_weight': np.float64(1.2905829596412555), 'reg_alpha': 0.5, 'tree_method': 'hist', 'grow_policy': 'depthwise'}. Best is trial 1 with value: 0.5146753273632794.\n",
      "[I 2025-03-26 10:59:32,084] Trial 3 finished with value: 0.5123632680722906 and parameters: {'n_estimators': 500, 'max_depth': 5, 'learning_rate': 0.021525340936365146, 'subsample': 0.8323099300346912, 'colsample_bytree': 0.9771689327784621, 'gamma': 0.19744377751367526, 'min_child_weight': 5, 'scale_pos_weight': 1, 'reg_alpha': 1, 'tree_method': 'hist', 'grow_policy': 'lossguide'}. Best is trial 1 with value: 0.5146753273632794.\n",
      "[I 2025-03-26 10:59:32,317] Trial 4 finished with value: 0.49749999240358384 and parameters: {'n_estimators': 450, 'max_depth': 35, 'learning_rate': 0.06404734372701813, 'subsample': 0.7413125007122479, 'colsample_bytree': 0.6100960345218687, 'gamma': 0.24537239045975, 'min_child_weight': 51, 'scale_pos_weight': np.float64(1.2905829596412555), 'reg_alpha': 0.1, 'tree_method': 'hist', 'grow_policy': 'depthwise'}. Best is trial 1 with value: 0.5146753273632794.\n",
      "[I 2025-03-26 10:59:32,689] Trial 5 finished with value: 0.5255772614514438 and parameters: {'n_estimators': 100, 'max_depth': 43, 'learning_rate': 0.04373541144837839, 'subsample': 0.8928448174138536, 'colsample_bytree': 0.9118099935100077, 'gamma': 0.7449792112168063, 'min_child_weight': 29, 'scale_pos_weight': np.float64(1.2905829596412555), 'reg_alpha': 0, 'tree_method': 'exact', 'grow_policy': 'lossguide'}. Best is trial 5 with value: 0.5255772614514438.\n",
      "[I 2025-03-26 10:59:33,016] Trial 6 finished with value: 0.5252921587571202 and parameters: {'n_estimators': 500, 'max_depth': 9, 'learning_rate': 0.03320779904696031, 'subsample': 0.665492923396067, 'colsample_bytree': 0.654469382203724, 'gamma': 0.9666301542725805, 'min_child_weight': 33, 'scale_pos_weight': np.float64(1.2905829596412555), 'reg_alpha': 0.5, 'tree_method': 'hist', 'grow_policy': 'lossguide'}. Best is trial 5 with value: 0.5255772614514438.\n",
      "[I 2025-03-26 10:59:33,332] Trial 7 finished with value: 0.500343032123063 and parameters: {'n_estimators': 400, 'max_depth': 13, 'learning_rate': 0.15616298035665174, 'subsample': 0.8341742834158904, 'colsample_bytree': 0.7915332343376766, 'gamma': 0.15720954243394458, 'min_child_weight': 29, 'scale_pos_weight': np.float64(1.2905829596412555), 'reg_alpha': 0, 'tree_method': 'auto', 'grow_policy': 'lossguide'}. Best is trial 5 with value: 0.5255772614514438.\n",
      "[I 2025-03-26 10:59:34,038] Trial 8 finished with value: 0.5308622164528326 and parameters: {'n_estimators': 350, 'max_depth': 37, 'learning_rate': 0.012723547483823972, 'subsample': 0.7350458670629506, 'colsample_bytree': 0.6948531446608657, 'gamma': 0.8587971938450034, 'min_child_weight': 35, 'scale_pos_weight': np.float64(1.2905829596412555), 'reg_alpha': 0, 'tree_method': 'exact', 'grow_policy': 'lossguide'}. Best is trial 8 with value: 0.5308622164528326.\n",
      "[I 2025-03-26 10:59:34,136] Trial 9 finished with value: 0.35794990343073474 and parameters: {'n_estimators': 100, 'max_depth': 11, 'learning_rate': 0.0056108362484034455, 'subsample': 0.8006435949020475, 'colsample_bytree': 0.939159376905457, 'gamma': 0.261008943361129, 'min_child_weight': 37, 'scale_pos_weight': 1, 'reg_alpha': 0.1, 'tree_method': 'auto', 'grow_policy': 'depthwise'}. Best is trial 8 with value: 0.5308622164528326.\n",
      "[I 2025-03-26 10:59:34,415] A new study created in memory with name: no-name-0cee6e65-e51e-4de8-8a2c-59c506c4caa3\n"
     ]
    },
    {
     "name": "stdout",
     "output_type": "stream",
     "text": [
      "Mejores parámetros: {'n_estimators': 350, 'max_depth': 37, 'learning_rate': 0.012723547483823972, 'subsample': 0.7350458670629506, 'colsample_bytree': 0.6948531446608657, 'gamma': 0.8587971938450034, 'min_child_weight': 35, 'scale_pos_weight': np.float64(1.2905829596412555), 'reg_alpha': 0, 'tree_method': 'exact', 'grow_policy': 'lossguide'}\n",
      "aCC ACT: 0.5774647887323944\n",
      "MEJOR ACCURACY 0.594679186228482 - 13\n"
     ]
    },
    {
     "name": "stderr",
     "output_type": "stream",
     "text": [
      "[I 2025-03-26 10:59:34,647] Trial 0 finished with value: 0.48332427247533716 and parameters: {'n_estimators': 350, 'max_depth': 27, 'learning_rate': 0.1051207229045272, 'subsample': 0.6727360901486138, 'colsample_bytree': 0.9261165343372986, 'gamma': 0.7501362861060107, 'min_child_weight': 47, 'scale_pos_weight': 1, 'reg_alpha': 0.5, 'tree_method': 'hist', 'grow_policy': 'depthwise'}. Best is trial 0 with value: 0.48332427247533716.\n",
      "[I 2025-03-26 10:59:35,361] Trial 1 finished with value: 0.5061521963505641 and parameters: {'n_estimators': 350, 'max_depth': 35, 'learning_rate': 0.006469424380310367, 'subsample': 0.9159842191301226, 'colsample_bytree': 0.9070239690585242, 'gamma': 0.19742128450213303, 'min_child_weight': 67, 'scale_pos_weight': np.float64(1.2905829596412555), 'reg_alpha': 0.1, 'tree_method': 'exact', 'grow_policy': 'depthwise'}. Best is trial 1 with value: 0.5061521963505641.\n",
      "[I 2025-03-26 10:59:39,242] Trial 2 finished with value: 0.48797697449531474 and parameters: {'n_estimators': 300, 'max_depth': 29, 'learning_rate': 0.0010675237322819344, 'subsample': 0.878095191321786, 'colsample_bytree': 0.7673296051852485, 'gamma': 0.07913471728341592, 'min_child_weight': 1, 'scale_pos_weight': np.float64(1.2905829596412555), 'reg_alpha': 1, 'tree_method': 'hist', 'grow_policy': 'lossguide'}. Best is trial 1 with value: 0.5061521963505641.\n",
      "[I 2025-03-26 10:59:40,426] Trial 3 finished with value: 0.5030351905107426 and parameters: {'n_estimators': 400, 'max_depth': 27, 'learning_rate': 0.004161380978819052, 'subsample': 0.8659125883175633, 'colsample_bytree': 0.8885622263981636, 'gamma': 0.4756657052864103, 'min_child_weight': 69, 'scale_pos_weight': np.float64(1.2905829596412555), 'reg_alpha': 0.5, 'tree_method': 'approx', 'grow_policy': 'depthwise'}. Best is trial 1 with value: 0.5061521963505641.\n",
      "[I 2025-03-26 10:59:40,901] Trial 4 finished with value: 0.3581489377629863 and parameters: {'n_estimators': 250, 'max_depth': 17, 'learning_rate': 0.002190753381289453, 'subsample': 0.9183542816940751, 'colsample_bytree': 0.7616210567125618, 'gamma': 0.8941743127354745, 'min_child_weight': 55, 'scale_pos_weight': 1, 'reg_alpha': 0, 'tree_method': 'exact', 'grow_policy': 'depthwise'}. Best is trial 1 with value: 0.5061521963505641.\n",
      "[I 2025-03-26 10:59:41,092] Trial 5 finished with value: 0.5231706996833052 and parameters: {'n_estimators': 250, 'max_depth': 43, 'learning_rate': 0.06069803546856616, 'subsample': 0.9214136945438729, 'colsample_bytree': 0.5957413940997965, 'gamma': 0.6587275783685782, 'min_child_weight': 37, 'scale_pos_weight': np.float64(1.2905829596412555), 'reg_alpha': 0.5, 'tree_method': 'hist', 'grow_policy': 'depthwise'}. Best is trial 5 with value: 0.5231706996833052.\n",
      "[I 2025-03-26 10:59:42,438] Trial 6 finished with value: 0.4808398544171782 and parameters: {'n_estimators': 450, 'max_depth': 3, 'learning_rate': 0.00472752063298962, 'subsample': 0.9955532288557122, 'colsample_bytree': 0.7426270156808588, 'gamma': 0.5840203754759804, 'min_child_weight': 1, 'scale_pos_weight': 1, 'reg_alpha': 0.1, 'tree_method': 'approx', 'grow_policy': 'depthwise'}. Best is trial 5 with value: 0.5231706996833052.\n",
      "[I 2025-03-26 10:59:42,536] Trial 7 finished with value: 0.5214928698027724 and parameters: {'n_estimators': 200, 'max_depth': 3, 'learning_rate': 0.07544181589417358, 'subsample': 0.863752279602424, 'colsample_bytree': 0.6214284682101474, 'gamma': 0.6645275729546175, 'min_child_weight': 53, 'scale_pos_weight': np.float64(1.2905829596412555), 'reg_alpha': 1, 'tree_method': 'auto', 'grow_policy': 'lossguide'}. Best is trial 5 with value: 0.5231706996833052.\n",
      "[I 2025-03-26 10:59:45,310] Trial 8 finished with value: 0.5275981678502929 and parameters: {'n_estimators': 500, 'max_depth': 43, 'learning_rate': 0.00604585559575491, 'subsample': 0.9252869353550648, 'colsample_bytree': 0.6899908339033354, 'gamma': 0.007713667317334472, 'min_child_weight': 7, 'scale_pos_weight': np.float64(1.2905829596412555), 'reg_alpha': 1, 'tree_method': 'exact', 'grow_policy': 'depthwise'}. Best is trial 8 with value: 0.5275981678502929.\n",
      "[I 2025-03-26 10:59:45,521] Trial 9 finished with value: 0.5035513689959596 and parameters: {'n_estimators': 450, 'max_depth': 19, 'learning_rate': 0.015406874105000598, 'subsample': 0.7525480803699736, 'colsample_bytree': 0.9353326714141337, 'gamma': 0.2828861645349776, 'min_child_weight': 69, 'scale_pos_weight': np.float64(1.2905829596412555), 'reg_alpha': 0, 'tree_method': 'auto', 'grow_policy': 'depthwise'}. Best is trial 8 with value: 0.5275981678502929.\n",
      "[I 2025-03-26 10:59:46,259] A new study created in memory with name: no-name-ba6da596-69e7-490e-a1fe-9451c67cfa77\n"
     ]
    },
    {
     "name": "stdout",
     "output_type": "stream",
     "text": [
      "Mejores parámetros: {'n_estimators': 500, 'max_depth': 43, 'learning_rate': 0.00604585559575491, 'subsample': 0.9252869353550648, 'colsample_bytree': 0.6899908339033354, 'gamma': 0.007713667317334472, 'min_child_weight': 7, 'scale_pos_weight': np.float64(1.2905829596412555), 'reg_alpha': 1, 'tree_method': 'exact', 'grow_policy': 'depthwise'}\n",
      "aCC ACT: 0.5758998435054773\n",
      "MEJOR ACCURACY 0.594679186228482 - 13\n"
     ]
    },
    {
     "name": "stderr",
     "output_type": "stream",
     "text": [
      "[I 2025-03-26 10:59:46,579] Trial 0 finished with value: 0.46877322890292483 and parameters: {'n_estimators': 100, 'max_depth': 39, 'learning_rate': 0.0037000848495103195, 'subsample': 0.6552526749905278, 'colsample_bytree': 0.6657232816354657, 'gamma': 0.08299956500689287, 'min_child_weight': 47, 'scale_pos_weight': np.float64(1.2905829596412555), 'reg_alpha': 0, 'tree_method': 'approx', 'grow_policy': 'depthwise'}. Best is trial 0 with value: 0.46877322890292483.\n",
      "[I 2025-03-26 10:59:47,459] Trial 1 finished with value: 0.5124528897416274 and parameters: {'n_estimators': 400, 'max_depth': 19, 'learning_rate': 0.15036357546309015, 'subsample': 0.9109431672426828, 'colsample_bytree': 0.8040171515337272, 'gamma': 0.615232036586069, 'min_child_weight': 45, 'scale_pos_weight': np.float64(1.2905829596412555), 'reg_alpha': 0.1, 'tree_method': 'exact', 'grow_policy': 'depthwise'}. Best is trial 1 with value: 0.5124528897416274.\n",
      "[I 2025-03-26 10:59:47,691] Trial 2 finished with value: 0.48473399941852746 and parameters: {'n_estimators': 450, 'max_depth': 37, 'learning_rate': 0.0012636596091096983, 'subsample': 0.6306146246142514, 'colsample_bytree': 0.5051719475551228, 'gamma': 0.9943048222579424, 'min_child_weight': 41, 'scale_pos_weight': np.float64(1.2905829596412555), 'reg_alpha': 0.5, 'tree_method': 'hist', 'grow_policy': 'lossguide'}. Best is trial 1 with value: 0.5124528897416274.\n",
      "[I 2025-03-26 10:59:47,841] Trial 3 finished with value: 0.3581489377629863 and parameters: {'n_estimators': 300, 'max_depth': 23, 'learning_rate': 0.001180240912309901, 'subsample': 0.9436417961232049, 'colsample_bytree': 0.5912643970115259, 'gamma': 0.7283094463286277, 'min_child_weight': 67, 'scale_pos_weight': 1, 'reg_alpha': 0, 'tree_method': 'auto', 'grow_policy': 'depthwise'}. Best is trial 1 with value: 0.5124528897416274.\n",
      "[I 2025-03-26 10:59:49,389] Trial 4 finished with value: 0.5089079601122168 and parameters: {'n_estimators': 450, 'max_depth': 9, 'learning_rate': 0.1529947025760186, 'subsample': 0.7600668004710491, 'colsample_bytree': 0.8263396894009718, 'gamma': 0.7107326736231333, 'min_child_weight': 29, 'scale_pos_weight': 1, 'reg_alpha': 1, 'tree_method': 'approx', 'grow_policy': 'lossguide'}. Best is trial 1 with value: 0.5124528897416274.\n",
      "[I 2025-03-26 10:59:49,645] Trial 5 finished with value: 0.4922538898778255 and parameters: {'n_estimators': 150, 'max_depth': 15, 'learning_rate': 0.0075469767961057425, 'subsample': 0.9340749380727846, 'colsample_bytree': 0.5410378839307475, 'gamma': 0.8208348722360737, 'min_child_weight': 57, 'scale_pos_weight': np.float64(1.2905829596412555), 'reg_alpha': 0, 'tree_method': 'exact', 'grow_policy': 'depthwise'}. Best is trial 1 with value: 0.5124528897416274.\n",
      "[I 2025-03-26 10:59:51,005] Trial 6 finished with value: 0.3581489377629863 and parameters: {'n_estimators': 450, 'max_depth': 9, 'learning_rate': 0.0010825989041228, 'subsample': 0.9429097887404382, 'colsample_bytree': 0.8559727212872, 'gamma': 0.8565401868284167, 'min_child_weight': 61, 'scale_pos_weight': 1, 'reg_alpha': 0.5, 'tree_method': 'approx', 'grow_policy': 'depthwise'}. Best is trial 1 with value: 0.5124528897416274.\n",
      "[I 2025-03-26 10:59:51,092] Trial 7 finished with value: 0.43252531054552446 and parameters: {'n_estimators': 100, 'max_depth': 9, 'learning_rate': 0.0016950605629373985, 'subsample': 0.6648722965042951, 'colsample_bytree': 0.575440696698057, 'gamma': 0.31239040116674577, 'min_child_weight': 39, 'scale_pos_weight': np.float64(1.2905829596412555), 'reg_alpha': 0, 'tree_method': 'hist', 'grow_policy': 'depthwise'}. Best is trial 1 with value: 0.5124528897416274.\n",
      "[I 2025-03-26 10:59:52,065] Trial 8 finished with value: 0.5251473128637653 and parameters: {'n_estimators': 350, 'max_depth': 21, 'learning_rate': 0.0030004332986498343, 'subsample': 0.7519564787950488, 'colsample_bytree': 0.5918082072362678, 'gamma': 0.48636239703774564, 'min_child_weight': 5, 'scale_pos_weight': np.float64(1.2905829596412555), 'reg_alpha': 1, 'tree_method': 'auto', 'grow_policy': 'depthwise'}. Best is trial 8 with value: 0.5251473128637653.\n",
      "[I 2025-03-26 10:59:52,684] Trial 9 finished with value: 0.49245744430649696 and parameters: {'n_estimators': 200, 'max_depth': 43, 'learning_rate': 0.0036465713041214714, 'subsample': 0.6201309668500951, 'colsample_bytree': 0.7603809404711799, 'gamma': 0.4776234508328031, 'min_child_weight': 63, 'scale_pos_weight': np.float64(1.2905829596412555), 'reg_alpha': 1, 'tree_method': 'approx', 'grow_policy': 'lossguide'}. Best is trial 8 with value: 0.5251473128637653.\n",
      "[I 2025-03-26 10:59:53,170] A new study created in memory with name: no-name-7221fe2d-b73f-42f8-b484-ed14f459742d\n"
     ]
    },
    {
     "name": "stdout",
     "output_type": "stream",
     "text": [
      "Mejores parámetros: {'n_estimators': 350, 'max_depth': 21, 'learning_rate': 0.0030004332986498343, 'subsample': 0.7519564787950488, 'colsample_bytree': 0.5918082072362678, 'gamma': 0.48636239703774564, 'min_child_weight': 5, 'scale_pos_weight': np.float64(1.2905829596412555), 'reg_alpha': 1, 'tree_method': 'auto', 'grow_policy': 'depthwise'}\n",
      "aCC ACT: 0.568075117370892\n",
      "MEJOR ACCURACY 0.594679186228482 - 13\n"
     ]
    },
    {
     "name": "stderr",
     "output_type": "stream",
     "text": [
      "[I 2025-03-26 10:59:53,406] Trial 0 finished with value: 0.5160103738687039 and parameters: {'n_estimators': 350, 'max_depth': 45, 'learning_rate': 0.11257422105117798, 'subsample': 0.9263349909230736, 'colsample_bytree': 0.5179447928084266, 'gamma': 0.6917575817588839, 'min_child_weight': 27, 'scale_pos_weight': np.float64(1.2905829596412555), 'reg_alpha': 1, 'tree_method': 'auto', 'grow_policy': 'depthwise'}. Best is trial 0 with value: 0.5160103738687039.\n",
      "[I 2025-03-26 10:59:54,153] Trial 1 finished with value: 0.514506745529521 and parameters: {'n_estimators': 200, 'max_depth': 43, 'learning_rate': 0.15327454244349992, 'subsample': 0.8246747432044632, 'colsample_bytree': 0.5893902599249883, 'gamma': 0.7702519331384002, 'min_child_weight': 35, 'scale_pos_weight': np.float64(1.2905829596412555), 'reg_alpha': 0.5, 'tree_method': 'approx', 'grow_policy': 'lossguide'}. Best is trial 0 with value: 0.5160103738687039.\n",
      "[I 2025-03-26 10:59:55,312] Trial 2 finished with value: 0.4978830519262553 and parameters: {'n_estimators': 200, 'max_depth': 17, 'learning_rate': 0.027695458739564287, 'subsample': 0.822979924228913, 'colsample_bytree': 0.659289779789901, 'gamma': 0.3948432208584274, 'min_child_weight': 19, 'scale_pos_weight': 1, 'reg_alpha': 0.1, 'tree_method': 'approx', 'grow_policy': 'lossguide'}. Best is trial 0 with value: 0.5160103738687039.\n",
      "[I 2025-03-26 10:59:55,848] Trial 3 finished with value: 0.47596100570984134 and parameters: {'n_estimators': 350, 'max_depth': 23, 'learning_rate': 0.0151962398910008, 'subsample': 0.8005031374864389, 'colsample_bytree': 0.5185419054593996, 'gamma': 0.708116095181514, 'min_child_weight': 43, 'scale_pos_weight': 1, 'reg_alpha': 0.5, 'tree_method': 'exact', 'grow_policy': 'lossguide'}. Best is trial 0 with value: 0.5160103738687039.\n",
      "[I 2025-03-26 10:59:57,812] Trial 4 finished with value: 0.5337090031446439 and parameters: {'n_estimators': 300, 'max_depth': 33, 'learning_rate': 0.004143284884909205, 'subsample': 0.8431068317673148, 'colsample_bytree': 0.52407868500731, 'gamma': 0.6955006394243272, 'min_child_weight': 21, 'scale_pos_weight': np.float64(1.2905829596412555), 'reg_alpha': 0.1, 'tree_method': 'approx', 'grow_policy': 'lossguide'}. Best is trial 4 with value: 0.5337090031446439.\n",
      "[I 2025-03-26 10:59:59,161] Trial 5 finished with value: 0.5318197046231005 and parameters: {'n_estimators': 300, 'max_depth': 47, 'learning_rate': 0.02174987301600897, 'subsample': 0.9093025549225616, 'colsample_bytree': 0.7113384471724779, 'gamma': 0.8254647512641256, 'min_child_weight': 27, 'scale_pos_weight': np.float64(1.2905829596412555), 'reg_alpha': 0.1, 'tree_method': 'approx', 'grow_policy': 'depthwise'}. Best is trial 4 with value: 0.5337090031446439.\n",
      "[I 2025-03-26 10:59:59,373] Trial 6 finished with value: 0.48703478319608673 and parameters: {'n_estimators': 500, 'max_depth': 9, 'learning_rate': 0.07185606011415233, 'subsample': 0.7419981801569976, 'colsample_bytree': 0.5423191524003114, 'gamma': 0.73116877570882, 'min_child_weight': 69, 'scale_pos_weight': np.float64(1.2905829596412555), 'reg_alpha': 0.5, 'tree_method': 'hist', 'grow_policy': 'lossguide'}. Best is trial 4 with value: 0.5337090031446439.\n",
      "[I 2025-03-26 11:00:00,033] Trial 7 finished with value: 0.5210584379930537 and parameters: {'n_estimators': 250, 'max_depth': 47, 'learning_rate': 0.0670280808693267, 'subsample': 0.7031258661852355, 'colsample_bytree': 0.8182434709898425, 'gamma': 0.845140523349244, 'min_child_weight': 1, 'scale_pos_weight': np.float64(1.2905829596412555), 'reg_alpha': 0.5, 'tree_method': 'hist', 'grow_policy': 'depthwise'}. Best is trial 4 with value: 0.5337090031446439.\n",
      "[I 2025-03-26 11:00:01,949] Trial 8 finished with value: 0.5195348818840466 and parameters: {'n_estimators': 250, 'max_depth': 35, 'learning_rate': 0.04950418700162424, 'subsample': 0.9882418780793806, 'colsample_bytree': 0.8406813594106821, 'gamma': 0.49045199887010105, 'min_child_weight': 9, 'scale_pos_weight': 1, 'reg_alpha': 0.5, 'tree_method': 'approx', 'grow_policy': 'depthwise'}. Best is trial 4 with value: 0.5337090031446439.\n",
      "[I 2025-03-26 11:00:02,076] Trial 9 finished with value: 0.5162334798524284 and parameters: {'n_estimators': 200, 'max_depth': 47, 'learning_rate': 0.01542943764771809, 'subsample': 0.7669702108562816, 'colsample_bytree': 0.8194315345176606, 'gamma': 0.6895273610025899, 'min_child_weight': 53, 'scale_pos_weight': np.float64(1.2905829596412555), 'reg_alpha': 1, 'tree_method': 'hist', 'grow_policy': 'lossguide'}. Best is trial 4 with value: 0.5337090031446439.\n",
      "[I 2025-03-26 11:00:04,246] A new study created in memory with name: no-name-214d2aa0-e548-4b72-8f1f-a9519b4dbcbb\n"
     ]
    },
    {
     "name": "stdout",
     "output_type": "stream",
     "text": [
      "Mejores parámetros: {'n_estimators': 300, 'max_depth': 33, 'learning_rate': 0.004143284884909205, 'subsample': 0.8431068317673148, 'colsample_bytree': 0.52407868500731, 'gamma': 0.6955006394243272, 'min_child_weight': 21, 'scale_pos_weight': np.float64(1.2905829596412555), 'reg_alpha': 0.1, 'tree_method': 'approx', 'grow_policy': 'lossguide'}\n",
      "aCC ACT: 0.593114241001565\n",
      "MEJOR ACCURACY 0.594679186228482 - 13\n"
     ]
    },
    {
     "name": "stderr",
     "output_type": "stream",
     "text": [
      "[I 2025-03-26 11:00:04,638] Trial 0 finished with value: 0.5016071056902714 and parameters: {'n_estimators': 100, 'max_depth': 15, 'learning_rate': 0.04560003646142163, 'subsample': 0.6086464999663799, 'colsample_bytree': 0.6029613826337195, 'gamma': 0.0507732566953768, 'min_child_weight': 21, 'scale_pos_weight': 1, 'reg_alpha': 0.5, 'tree_method': 'approx', 'grow_policy': 'depthwise'}. Best is trial 0 with value: 0.5016071056902714.\n",
      "[I 2025-03-26 11:00:05,396] Trial 1 finished with value: 0.48492863578212286 and parameters: {'n_estimators': 250, 'max_depth': 21, 'learning_rate': 0.04379895434381183, 'subsample': 0.7082679090692535, 'colsample_bytree': 0.9270514359956721, 'gamma': 0.9131639696118056, 'min_child_weight': 53, 'scale_pos_weight': 1, 'reg_alpha': 1, 'tree_method': 'approx', 'grow_policy': 'depthwise'}. Best is trial 0 with value: 0.5016071056902714.\n",
      "[I 2025-03-26 11:00:06,436] Trial 2 finished with value: 0.5012935149608756 and parameters: {'n_estimators': 350, 'max_depth': 33, 'learning_rate': 0.007763833583029792, 'subsample': 0.7641416714291275, 'colsample_bytree': 0.9050787747463186, 'gamma': 0.6003692653821349, 'min_child_weight': 63, 'scale_pos_weight': np.float64(1.2905829596412555), 'reg_alpha': 0.5, 'tree_method': 'approx', 'grow_policy': 'depthwise'}. Best is trial 0 with value: 0.5016071056902714.\n",
      "[I 2025-03-26 11:00:08,554] Trial 3 finished with value: 0.489848725896415 and parameters: {'n_estimators': 350, 'max_depth': 45, 'learning_rate': 0.00567731812547907, 'subsample': 0.9218438608078592, 'colsample_bytree': 0.8987264197339908, 'gamma': 0.6656936477741948, 'min_child_weight': 17, 'scale_pos_weight': 1, 'reg_alpha': 0.5, 'tree_method': 'approx', 'grow_policy': 'depthwise'}. Best is trial 0 with value: 0.5016071056902714.\n",
      "[I 2025-03-26 11:00:09,809] Trial 4 finished with value: 0.5087372094805975 and parameters: {'n_estimators': 350, 'max_depth': 41, 'learning_rate': 0.11607638999401454, 'subsample': 0.6779053930115027, 'colsample_bytree': 0.9286711802019123, 'gamma': 0.17672956273072515, 'min_child_weight': 27, 'scale_pos_weight': np.float64(1.2905829596412555), 'reg_alpha': 1, 'tree_method': 'approx', 'grow_policy': 'lossguide'}. Best is trial 4 with value: 0.5087372094805975.\n",
      "[I 2025-03-26 11:00:10,126] Trial 5 finished with value: 0.4259790511020308 and parameters: {'n_estimators': 100, 'max_depth': 39, 'learning_rate': 0.0012044063336122644, 'subsample': 0.8036318650557844, 'colsample_bytree': 0.7193958367123033, 'gamma': 0.6905217829138505, 'min_child_weight': 55, 'scale_pos_weight': np.float64(1.2905829596412555), 'reg_alpha': 0.1, 'tree_method': 'approx', 'grow_policy': 'depthwise'}. Best is trial 4 with value: 0.5087372094805975.\n",
      "[I 2025-03-26 11:00:10,566] Trial 6 finished with value: 0.3581489377629863 and parameters: {'n_estimators': 500, 'max_depth': 37, 'learning_rate': 0.0010111912793967569, 'subsample': 0.8691716999906776, 'colsample_bytree': 0.7893730203089999, 'gamma': 0.4790055255964919, 'min_child_weight': 31, 'scale_pos_weight': 1, 'reg_alpha': 0, 'tree_method': 'auto', 'grow_policy': 'lossguide'}. Best is trial 4 with value: 0.5087372094805975.\n",
      "[I 2025-03-26 11:00:10,865] Trial 7 finished with value: 0.3925582069414489 and parameters: {'n_estimators': 500, 'max_depth': 31, 'learning_rate': 0.0020919038755333103, 'subsample': 0.655011630166632, 'colsample_bytree': 0.6829339956876801, 'gamma': 0.11546953773860269, 'min_child_weight': 35, 'scale_pos_weight': 1, 'reg_alpha': 0.5, 'tree_method': 'auto', 'grow_policy': 'depthwise'}. Best is trial 4 with value: 0.5087372094805975.\n",
      "[I 2025-03-26 11:00:11,306] Trial 8 finished with value: 0.5274316286543907 and parameters: {'n_estimators': 100, 'max_depth': 39, 'learning_rate': 0.013855267540212752, 'subsample': 0.7097002483532678, 'colsample_bytree': 0.9049166524337446, 'gamma': 0.3376761198544125, 'min_child_weight': 13, 'scale_pos_weight': np.float64(1.2905829596412555), 'reg_alpha': 0.5, 'tree_method': 'exact', 'grow_policy': 'lossguide'}. Best is trial 8 with value: 0.5274316286543907.\n",
      "[I 2025-03-26 11:00:11,944] Trial 9 finished with value: 0.4949808095452843 and parameters: {'n_estimators': 450, 'max_depth': 33, 'learning_rate': 0.002920118398548931, 'subsample': 0.9883291211633034, 'colsample_bytree': 0.5177680191431657, 'gamma': 0.42323422628588137, 'min_child_weight': 67, 'scale_pos_weight': np.float64(1.2905829596412555), 'reg_alpha': 0, 'tree_method': 'exact', 'grow_policy': 'depthwise'}. Best is trial 8 with value: 0.5274316286543907.\n",
      "[I 2025-03-26 11:00:12,075] A new study created in memory with name: no-name-5034afd3-c99e-45a3-97b3-c330867fdb41\n",
      "[I 2025-03-26 11:00:12,266] Trial 0 finished with value: 0.45089951098460357 and parameters: {'n_estimators': 150, 'max_depth': 25, 'learning_rate': 0.009282621311288618, 'subsample': 0.9436727994085377, 'colsample_bytree': 0.5855807768058366, 'gamma': 0.3388639606037004, 'min_child_weight': 19, 'scale_pos_weight': 1, 'reg_alpha': 1, 'tree_method': 'hist', 'grow_policy': 'depthwise'}. Best is trial 0 with value: 0.45089951098460357.\n"
     ]
    },
    {
     "name": "stdout",
     "output_type": "stream",
     "text": [
      "Mejores parámetros: {'n_estimators': 100, 'max_depth': 39, 'learning_rate': 0.013855267540212752, 'subsample': 0.7097002483532678, 'colsample_bytree': 0.9049166524337446, 'gamma': 0.3376761198544125, 'min_child_weight': 13, 'scale_pos_weight': np.float64(1.2905829596412555), 'reg_alpha': 0.5, 'tree_method': 'exact', 'grow_policy': 'lossguide'}\n",
      "aCC ACT: 0.6025039123630673\n",
      "MEJOR ACCURACY 0.6025039123630673 - 21\n"
     ]
    },
    {
     "name": "stderr",
     "output_type": "stream",
     "text": [
      "[I 2025-03-26 11:00:12,889] Trial 1 finished with value: 0.4835379367098452 and parameters: {'n_estimators': 200, 'max_depth': 39, 'learning_rate': 0.03833637187105349, 'subsample': 0.7548733921524089, 'colsample_bytree': 0.807602912546528, 'gamma': 0.42755523984434063, 'min_child_weight': 41, 'scale_pos_weight': 1, 'reg_alpha': 0.1, 'tree_method': 'approx', 'grow_policy': 'depthwise'}. Best is trial 1 with value: 0.4835379367098452.\n",
      "[I 2025-03-26 11:00:14,099] Trial 2 finished with value: 0.5267110144075621 and parameters: {'n_estimators': 300, 'max_depth': 27, 'learning_rate': 0.005202706504477802, 'subsample': 0.6182646170395162, 'colsample_bytree': 0.7188403300410497, 'gamma': 0.09588460991804115, 'min_child_weight': 3, 'scale_pos_weight': np.float64(1.2905829596412555), 'reg_alpha': 0.5, 'tree_method': 'hist', 'grow_policy': 'depthwise'}. Best is trial 2 with value: 0.5267110144075621.\n",
      "[I 2025-03-26 11:00:14,624] Trial 3 finished with value: 0.5227401551602081 and parameters: {'n_estimators': 150, 'max_depth': 27, 'learning_rate': 0.005262482140760139, 'subsample': 0.964614798954151, 'colsample_bytree': 0.543127839884621, 'gamma': 0.3140740298466136, 'min_child_weight': 15, 'scale_pos_weight': np.float64(1.2905829596412555), 'reg_alpha': 0.5, 'tree_method': 'exact', 'grow_policy': 'depthwise'}. Best is trial 2 with value: 0.5267110144075621.\n",
      "[I 2025-03-26 11:00:15,953] Trial 4 finished with value: 0.5217684214654981 and parameters: {'n_estimators': 350, 'max_depth': 13, 'learning_rate': 0.0023079754956449147, 'subsample': 0.801425128606317, 'colsample_bytree': 0.7858975732141171, 'gamma': 0.469952413305153, 'min_child_weight': 35, 'scale_pos_weight': np.float64(1.2905829596412555), 'reg_alpha': 0.1, 'tree_method': 'approx', 'grow_policy': 'depthwise'}. Best is trial 2 with value: 0.5267110144075621.\n",
      "[I 2025-03-26 11:00:16,177] Trial 5 finished with value: 0.4690152834641609 and parameters: {'n_estimators': 150, 'max_depth': 41, 'learning_rate': 0.07219009858854057, 'subsample': 0.6231811486289245, 'colsample_bytree': 0.8951530175094249, 'gamma': 0.4500416786778608, 'min_child_weight': 59, 'scale_pos_weight': 1, 'reg_alpha': 0, 'tree_method': 'exact', 'grow_policy': 'lossguide'}. Best is trial 2 with value: 0.5267110144075621.\n",
      "[I 2025-03-26 11:00:16,471] Trial 6 finished with value: 0.5358831859143571 and parameters: {'n_estimators': 400, 'max_depth': 45, 'learning_rate': 0.004116016411834996, 'subsample': 0.8655277391995577, 'colsample_bytree': 0.7174935234754871, 'gamma': 0.5146685042108027, 'min_child_weight': 39, 'scale_pos_weight': np.float64(1.2905829596412555), 'reg_alpha': 0.1, 'tree_method': 'auto', 'grow_policy': 'depthwise'}. Best is trial 6 with value: 0.5358831859143571.\n",
      "[I 2025-03-26 11:00:16,747] Trial 7 finished with value: 0.35794990343073474 and parameters: {'n_estimators': 500, 'max_depth': 31, 'learning_rate': 0.0012171666197789502, 'subsample': 0.6462305522646554, 'colsample_bytree': 0.8782221165127463, 'gamma': 0.4517788243490799, 'min_child_weight': 43, 'scale_pos_weight': 1, 'reg_alpha': 0, 'tree_method': 'auto', 'grow_policy': 'depthwise'}. Best is trial 6 with value: 0.5358831859143571.\n",
      "[I 2025-03-26 11:00:16,928] Trial 8 finished with value: 0.49043862836031843 and parameters: {'n_estimators': 300, 'max_depth': 5, 'learning_rate': 0.017467159369448385, 'subsample': 0.8780555439617397, 'colsample_bytree': 0.5259820520710541, 'gamma': 0.9385572843803064, 'min_child_weight': 31, 'scale_pos_weight': 1, 'reg_alpha': 0, 'tree_method': 'auto', 'grow_policy': 'lossguide'}. Best is trial 6 with value: 0.5358831859143571.\n",
      "[I 2025-03-26 11:00:17,911] Trial 9 finished with value: 0.5027171218066725 and parameters: {'n_estimators': 300, 'max_depth': 43, 'learning_rate': 0.00868161058734547, 'subsample': 0.7044892780244137, 'colsample_bytree': 0.9990635140593332, 'gamma': 0.798551227141708, 'min_child_weight': 5, 'scale_pos_weight': 1, 'reg_alpha': 0, 'tree_method': 'auto', 'grow_policy': 'lossguide'}. Best is trial 6 with value: 0.5358831859143571.\n",
      "[I 2025-03-26 11:00:18,151] A new study created in memory with name: no-name-c8b6497c-dbd6-49f8-9899-36d6f13ed8f3\n"
     ]
    },
    {
     "name": "stdout",
     "output_type": "stream",
     "text": [
      "Mejores parámetros: {'n_estimators': 400, 'max_depth': 45, 'learning_rate': 0.004116016411834996, 'subsample': 0.8655277391995577, 'colsample_bytree': 0.7174935234754871, 'gamma': 0.5146685042108027, 'min_child_weight': 39, 'scale_pos_weight': np.float64(1.2905829596412555), 'reg_alpha': 0.1, 'tree_method': 'auto', 'grow_policy': 'depthwise'}\n",
      "aCC ACT: 0.5884194053208138\n",
      "MEJOR ACCURACY 0.6025039123630673 - 21\n"
     ]
    },
    {
     "name": "stderr",
     "output_type": "stream",
     "text": [
      "[I 2025-03-26 11:00:20,837] Trial 0 finished with value: 0.5167365922631136 and parameters: {'n_estimators': 300, 'max_depth': 47, 'learning_rate': 0.05772259761433054, 'subsample': 0.7129583375868451, 'colsample_bytree': 0.6105226816308262, 'gamma': 0.6862220852374669, 'min_child_weight': 11, 'scale_pos_weight': np.float64(1.2905829596412555), 'reg_alpha': 1, 'tree_method': 'approx', 'grow_policy': 'lossguide'}. Best is trial 0 with value: 0.5167365922631136.\n",
      "[I 2025-03-26 11:00:21,436] Trial 1 finished with value: 0.5036937118814376 and parameters: {'n_estimators': 200, 'max_depth': 41, 'learning_rate': 0.02759725923362189, 'subsample': 0.6441910855654694, 'colsample_bytree': 0.500264405584638, 'gamma': 0.9421662328554996, 'min_child_weight': 9, 'scale_pos_weight': 1, 'reg_alpha': 0, 'tree_method': 'exact', 'grow_policy': 'depthwise'}. Best is trial 0 with value: 0.5167365922631136.\n",
      "[I 2025-03-26 11:00:23,461] Trial 2 finished with value: 0.5251944662227089 and parameters: {'n_estimators': 150, 'max_depth': 29, 'learning_rate': 0.022600785218013775, 'subsample': 0.9094452676302938, 'colsample_bytree': 0.8279227290034517, 'gamma': 0.557706759478423, 'min_child_weight': 13, 'scale_pos_weight': np.float64(1.2905829596412555), 'reg_alpha': 0.5, 'tree_method': 'approx', 'grow_policy': 'lossguide'}. Best is trial 2 with value: 0.5251944662227089.\n",
      "[I 2025-03-26 11:00:27,066] Trial 3 finished with value: 0.5323999577537875 and parameters: {'n_estimators': 450, 'max_depth': 9, 'learning_rate': 0.003404992738376015, 'subsample': 0.967178322281572, 'colsample_bytree': 0.5645317638030853, 'gamma': 0.9164077220658395, 'min_child_weight': 17, 'scale_pos_weight': np.float64(1.2905829596412555), 'reg_alpha': 0.5, 'tree_method': 'approx', 'grow_policy': 'lossguide'}. Best is trial 3 with value: 0.5323999577537875.\n",
      "[I 2025-03-26 11:00:27,404] Trial 4 finished with value: 0.5301232051080135 and parameters: {'n_estimators': 100, 'max_depth': 5, 'learning_rate': 0.006236721350173526, 'subsample': 0.9621900900870971, 'colsample_bytree': 0.8993001036753532, 'gamma': 0.3842269427484306, 'min_child_weight': 7, 'scale_pos_weight': np.float64(1.2905829596412555), 'reg_alpha': 1, 'tree_method': 'exact', 'grow_policy': 'depthwise'}. Best is trial 3 with value: 0.5323999577537875.\n",
      "[I 2025-03-26 11:00:27,491] Trial 5 finished with value: 0.5194262721949554 and parameters: {'n_estimators': 100, 'max_depth': 5, 'learning_rate': 0.009194726655149461, 'subsample': 0.9513063420837085, 'colsample_bytree': 0.7165088466542491, 'gamma': 0.6434602101697052, 'min_child_weight': 39, 'scale_pos_weight': np.float64(1.2905829596412555), 'reg_alpha': 1, 'tree_method': 'hist', 'grow_policy': 'depthwise'}. Best is trial 3 with value: 0.5323999577537875.\n",
      "[I 2025-03-26 11:00:27,726] Trial 6 finished with value: 0.5130999634796003 and parameters: {'n_estimators': 350, 'max_depth': 7, 'learning_rate': 0.15720211292966615, 'subsample': 0.9580403819560209, 'colsample_bytree': 0.7791735880320252, 'gamma': 0.28201638204882773, 'min_child_weight': 45, 'scale_pos_weight': np.float64(1.2905829596412555), 'reg_alpha': 1, 'tree_method': 'auto', 'grow_policy': 'depthwise'}. Best is trial 3 with value: 0.5323999577537875.\n",
      "[I 2025-03-26 11:00:28,501] Trial 7 finished with value: 0.469123885546067 and parameters: {'n_estimators': 300, 'max_depth': 7, 'learning_rate': 0.001131873576787379, 'subsample': 0.676015460554642, 'colsample_bytree': 0.9811713222870171, 'gamma': 0.7609561458372598, 'min_child_weight': 37, 'scale_pos_weight': np.float64(1.2905829596412555), 'reg_alpha': 0.1, 'tree_method': 'exact', 'grow_policy': 'depthwise'}. Best is trial 3 with value: 0.5323999577537875.\n",
      "[I 2025-03-26 11:00:28,731] Trial 8 finished with value: 0.4907505825646458 and parameters: {'n_estimators': 450, 'max_depth': 47, 'learning_rate': 0.0015348516114870358, 'subsample': 0.6466071286712777, 'colsample_bytree': 0.556900618115466, 'gamma': 0.2879329511114639, 'min_child_weight': 39, 'scale_pos_weight': np.float64(1.2905829596412555), 'reg_alpha': 0, 'tree_method': 'hist', 'grow_policy': 'depthwise'}. Best is trial 3 with value: 0.5323999577537875.\n",
      "[I 2025-03-26 11:00:28,863] Trial 9 finished with value: 0.5061976840977032 and parameters: {'n_estimators': 200, 'max_depth': 21, 'learning_rate': 0.017103917986643524, 'subsample': 0.6823730696518288, 'colsample_bytree': 0.8788574736008932, 'gamma': 0.6172414937569317, 'min_child_weight': 55, 'scale_pos_weight': np.float64(1.2905829596412555), 'reg_alpha': 0.5, 'tree_method': 'hist', 'grow_policy': 'depthwise'}. Best is trial 3 with value: 0.5323999577537875.\n",
      "[I 2025-03-26 11:00:32,951] A new study created in memory with name: no-name-fec47fb5-6fb9-4c6e-be63-7ea441af003d\n"
     ]
    },
    {
     "name": "stdout",
     "output_type": "stream",
     "text": [
      "Mejores parámetros: {'n_estimators': 450, 'max_depth': 9, 'learning_rate': 0.003404992738376015, 'subsample': 0.967178322281572, 'colsample_bytree': 0.5645317638030853, 'gamma': 0.9164077220658395, 'min_child_weight': 17, 'scale_pos_weight': np.float64(1.2905829596412555), 'reg_alpha': 0.5, 'tree_method': 'approx', 'grow_policy': 'lossguide'}\n",
      "aCC ACT: 0.5852895148669797\n",
      "MEJOR ACCURACY 0.6025039123630673 - 21\n"
     ]
    },
    {
     "name": "stderr",
     "output_type": "stream",
     "text": [
      "[I 2025-03-26 11:00:33,169] Trial 0 finished with value: 0.48878828546243086 and parameters: {'n_estimators': 500, 'max_depth': 35, 'learning_rate': 0.19985942426788925, 'subsample': 0.6880269199131407, 'colsample_bytree': 0.680528176982029, 'gamma': 0.739840990209437, 'min_child_weight': 69, 'scale_pos_weight': 1, 'reg_alpha': 1, 'tree_method': 'auto', 'grow_policy': 'depthwise'}. Best is trial 0 with value: 0.48878828546243086.\n",
      "[I 2025-03-26 11:00:33,422] Trial 1 finished with value: 0.44676725405175316 and parameters: {'n_estimators': 500, 'max_depth': 43, 'learning_rate': 0.005059925802794065, 'subsample': 0.8524679109820782, 'colsample_bytree': 0.8401194302230776, 'gamma': 0.9704275603953206, 'min_child_weight': 63, 'scale_pos_weight': 1, 'reg_alpha': 1, 'tree_method': 'auto', 'grow_policy': 'depthwise'}. Best is trial 0 with value: 0.48878828546243086.\n",
      "[I 2025-03-26 11:00:34,478] Trial 2 finished with value: 0.5414109716333173 and parameters: {'n_estimators': 450, 'max_depth': 13, 'learning_rate': 0.00842396660974823, 'subsample': 0.8497500248639542, 'colsample_bytree': 0.571518352941951, 'gamma': 0.12279848359327927, 'min_child_weight': 29, 'scale_pos_weight': np.float64(1.2905829596412555), 'reg_alpha': 0.5, 'tree_method': 'exact', 'grow_policy': 'lossguide'}. Best is trial 2 with value: 0.5414109716333173.\n",
      "[I 2025-03-26 11:01:07,221] Trial 3 finished with value: 0.5023196565721865 and parameters: {'n_estimators': 450, 'max_depth': 29, 'learning_rate': 0.006413793061383492, 'subsample': 0.8173999024375419, 'colsample_bytree': 0.9397945458560604, 'gamma': 0.11409656487218656, 'min_child_weight': 3, 'scale_pos_weight': 1, 'reg_alpha': 1, 'tree_method': 'approx', 'grow_policy': 'lossguide'}. Best is trial 2 with value: 0.5414109716333173.\n",
      "[I 2025-03-26 11:01:07,611] Trial 4 finished with value: 0.5122417379314391 and parameters: {'n_estimators': 450, 'max_depth': 11, 'learning_rate': 0.06390812248860496, 'subsample': 0.9880511554302863, 'colsample_bytree': 0.6814058844928605, 'gamma': 0.08788606476009508, 'min_child_weight': 25, 'scale_pos_weight': 1, 'reg_alpha': 0.5, 'tree_method': 'hist', 'grow_policy': 'lossguide'}. Best is trial 2 with value: 0.5414109716333173.\n",
      "[I 2025-03-26 11:01:08,301] Trial 5 finished with value: 0.5332944911876696 and parameters: {'n_estimators': 200, 'max_depth': 31, 'learning_rate': 0.01804263219162987, 'subsample': 0.6839159242203131, 'colsample_bytree': 0.5680613768400407, 'gamma': 0.7691626139537227, 'min_child_weight': 33, 'scale_pos_weight': np.float64(1.2905829596412555), 'reg_alpha': 0, 'tree_method': 'approx', 'grow_policy': 'depthwise'}. Best is trial 2 with value: 0.5414109716333173.\n",
      "[I 2025-03-26 11:01:08,389] Trial 6 finished with value: 0.49866528012125977 and parameters: {'n_estimators': 100, 'max_depth': 23, 'learning_rate': 0.01199520883504389, 'subsample': 0.6232583487575837, 'colsample_bytree': 0.9083018512731449, 'gamma': 0.28934125419905854, 'min_child_weight': 45, 'scale_pos_weight': np.float64(1.2905829596412555), 'reg_alpha': 0.5, 'tree_method': 'hist', 'grow_policy': 'lossguide'}. Best is trial 2 with value: 0.5414109716333173.\n",
      "[I 2025-03-26 11:01:08,664] Trial 7 finished with value: 0.47948677940755813 and parameters: {'n_estimators': 450, 'max_depth': 11, 'learning_rate': 0.01860753269464434, 'subsample': 0.8193626422129078, 'colsample_bytree': 0.9601640396989093, 'gamma': 0.8332868975383778, 'min_child_weight': 47, 'scale_pos_weight': 1, 'reg_alpha': 0, 'tree_method': 'auto', 'grow_policy': 'lossguide'}. Best is trial 2 with value: 0.5414109716333173.\n",
      "[I 2025-03-26 11:01:08,730] Trial 8 finished with value: 0.5034986734018717 and parameters: {'n_estimators': 100, 'max_depth': 27, 'learning_rate': 0.022640214361282586, 'subsample': 0.6247073260618939, 'colsample_bytree': 0.5124611592068335, 'gamma': 0.5925895412131886, 'min_child_weight': 51, 'scale_pos_weight': np.float64(1.2905829596412555), 'reg_alpha': 0.1, 'tree_method': 'hist', 'grow_policy': 'depthwise'}. Best is trial 2 with value: 0.5414109716333173.\n",
      "[I 2025-03-26 11:01:09,866] Trial 9 finished with value: 0.47579357760139696 and parameters: {'n_estimators': 400, 'max_depth': 35, 'learning_rate': 0.10811269605508815, 'subsample': 0.8323500260792501, 'colsample_bytree': 0.8493872445741478, 'gamma': 0.2512847168134523, 'min_child_weight': 57, 'scale_pos_weight': 1, 'reg_alpha': 1, 'tree_method': 'approx', 'grow_policy': 'depthwise'}. Best is trial 2 with value: 0.5414109716333173.\n"
     ]
    },
    {
     "name": "stdout",
     "output_type": "stream",
     "text": [
      "Mejores parámetros: {'n_estimators': 450, 'max_depth': 13, 'learning_rate': 0.00842396660974823, 'subsample': 0.8497500248639542, 'colsample_bytree': 0.571518352941951, 'gamma': 0.12279848359327927, 'min_child_weight': 29, 'scale_pos_weight': np.float64(1.2905829596412555), 'reg_alpha': 0.5, 'tree_method': 'exact', 'grow_policy': 'lossguide'}\n",
      "aCC ACT: 0.5821596244131455\n",
      "MEJOR ACCURACY 0.6025039123630673 - 21\n"
     ]
    }
   ],
   "source": [
    "print(\"-- Entrenamiento usando ajuste de hiperparámetros con Optuna --\")\n",
    "best_acc = 0\n",
    "best_seed = None\n",
    "for i in range(1,25):\n",
    "    sampler = TPESampler(seed=i)\n",
    "    study = optuna.create_study(direction='maximize',sampler=sampler)\n",
    "    study.optimize(lambda trial: objective(trial, X_train, y_train), n_trials=10)\n",
    "\n",
    "    best_params = study.best_params\n",
    "    best_model = XGBClassifier(**best_params)\n",
    "    best_model.fit(X_train, y_train)\n",
    "    y_val_pred = best_model.predict(X_test)\n",
    "    y_val_prob = best_model.predict_proba(X_test)[:,1]\n",
    "    acc = accuracy_score(y_test,y_val_pred)\n",
    "    print(\"Mejores parámetros:\", best_params)\n",
    "    print(f\"aCC ACT: {acc}\")\n",
    "    if best_acc < acc:\n",
    "        best_acc = acc\n",
    "        best_seed = i\n",
    "    print(f\"MEJOR ACCURACY {best_acc} - {best_seed}\")"
   ]
  },
  {
   "cell_type": "code",
   "execution_count": 29,
   "metadata": {},
   "outputs": [
    {
     "name": "stderr",
     "output_type": "stream",
     "text": [
      "[I 2025-03-26 11:06:24,767] A new study created in memory with name: no-name-e30d8652-4a50-42fd-8301-83c8860486de\n",
      "[I 2025-03-26 11:06:26,629] Trial 0 finished with value: 0.5016071056902714 and parameters: {'n_estimators': 100, 'max_depth': 15, 'learning_rate': 0.04560003646142163, 'subsample': 0.6086464999663799, 'colsample_bytree': 0.6029613826337195, 'gamma': 0.0507732566953768, 'min_child_weight': 21, 'scale_pos_weight': 1, 'reg_alpha': 0.5, 'tree_method': 'approx', 'grow_policy': 'depthwise'}. Best is trial 0 with value: 0.5016071056902714.\n",
      "[I 2025-03-26 11:06:28,281] Trial 1 finished with value: 0.48492863578212286 and parameters: {'n_estimators': 250, 'max_depth': 21, 'learning_rate': 0.04379895434381183, 'subsample': 0.7082679090692535, 'colsample_bytree': 0.9270514359956721, 'gamma': 0.9131639696118056, 'min_child_weight': 53, 'scale_pos_weight': 1, 'reg_alpha': 1, 'tree_method': 'approx', 'grow_policy': 'depthwise'}. Best is trial 0 with value: 0.5016071056902714.\n",
      "[I 2025-03-26 11:06:29,525] Trial 2 finished with value: 0.5012935149608756 and parameters: {'n_estimators': 350, 'max_depth': 33, 'learning_rate': 0.007763833583029792, 'subsample': 0.7641416714291275, 'colsample_bytree': 0.9050787747463186, 'gamma': 0.6003692653821349, 'min_child_weight': 63, 'scale_pos_weight': np.float64(1.2905829596412555), 'reg_alpha': 0.5, 'tree_method': 'approx', 'grow_policy': 'depthwise'}. Best is trial 0 with value: 0.5016071056902714.\n",
      "[I 2025-03-26 11:06:31,588] Trial 3 finished with value: 0.489848725896415 and parameters: {'n_estimators': 350, 'max_depth': 45, 'learning_rate': 0.00567731812547907, 'subsample': 0.9218438608078592, 'colsample_bytree': 0.8987264197339908, 'gamma': 0.6656936477741948, 'min_child_weight': 17, 'scale_pos_weight': 1, 'reg_alpha': 0.5, 'tree_method': 'approx', 'grow_policy': 'depthwise'}. Best is trial 0 with value: 0.5016071056902714.\n",
      "[I 2025-03-26 11:06:32,895] Trial 4 finished with value: 0.5087372094805975 and parameters: {'n_estimators': 350, 'max_depth': 41, 'learning_rate': 0.11607638999401454, 'subsample': 0.6779053930115027, 'colsample_bytree': 0.9286711802019123, 'gamma': 0.17672956273072515, 'min_child_weight': 27, 'scale_pos_weight': np.float64(1.2905829596412555), 'reg_alpha': 1, 'tree_method': 'approx', 'grow_policy': 'lossguide'}. Best is trial 4 with value: 0.5087372094805975.\n",
      "[I 2025-03-26 11:06:33,211] Trial 5 finished with value: 0.4259790511020308 and parameters: {'n_estimators': 100, 'max_depth': 39, 'learning_rate': 0.0012044063336122644, 'subsample': 0.8036318650557844, 'colsample_bytree': 0.7193958367123033, 'gamma': 0.6905217829138505, 'min_child_weight': 55, 'scale_pos_weight': np.float64(1.2905829596412555), 'reg_alpha': 0.1, 'tree_method': 'approx', 'grow_policy': 'depthwise'}. Best is trial 4 with value: 0.5087372094805975.\n",
      "[I 2025-03-26 11:06:33,619] Trial 6 finished with value: 0.3581489377629863 and parameters: {'n_estimators': 500, 'max_depth': 37, 'learning_rate': 0.0010111912793967569, 'subsample': 0.8691716999906776, 'colsample_bytree': 0.7893730203089999, 'gamma': 0.4790055255964919, 'min_child_weight': 31, 'scale_pos_weight': 1, 'reg_alpha': 0, 'tree_method': 'auto', 'grow_policy': 'lossguide'}. Best is trial 4 with value: 0.5087372094805975.\n",
      "[I 2025-03-26 11:06:33,914] Trial 7 finished with value: 0.3925582069414489 and parameters: {'n_estimators': 500, 'max_depth': 31, 'learning_rate': 0.0020919038755333103, 'subsample': 0.655011630166632, 'colsample_bytree': 0.6829339956876801, 'gamma': 0.11546953773860269, 'min_child_weight': 35, 'scale_pos_weight': 1, 'reg_alpha': 0.5, 'tree_method': 'auto', 'grow_policy': 'depthwise'}. Best is trial 4 with value: 0.5087372094805975.\n",
      "[I 2025-03-26 11:06:34,376] Trial 8 finished with value: 0.5274316286543907 and parameters: {'n_estimators': 100, 'max_depth': 39, 'learning_rate': 0.013855267540212752, 'subsample': 0.7097002483532678, 'colsample_bytree': 0.9049166524337446, 'gamma': 0.3376761198544125, 'min_child_weight': 13, 'scale_pos_weight': np.float64(1.2905829596412555), 'reg_alpha': 0.5, 'tree_method': 'exact', 'grow_policy': 'lossguide'}. Best is trial 8 with value: 0.5274316286543907.\n",
      "[I 2025-03-26 11:06:35,040] Trial 9 finished with value: 0.4949808095452843 and parameters: {'n_estimators': 450, 'max_depth': 33, 'learning_rate': 0.002920118398548931, 'subsample': 0.9883291211633034, 'colsample_bytree': 0.5177680191431657, 'gamma': 0.42323422628588137, 'min_child_weight': 67, 'scale_pos_weight': np.float64(1.2905829596412555), 'reg_alpha': 0, 'tree_method': 'exact', 'grow_policy': 'depthwise'}. Best is trial 8 with value: 0.5274316286543907.\n"
     ]
    },
    {
     "data": {
      "text/html": [
       "<style>#sk-container-id-1 {\n",
       "  /* Definition of color scheme common for light and dark mode */\n",
       "  --sklearn-color-text: #000;\n",
       "  --sklearn-color-text-muted: #666;\n",
       "  --sklearn-color-line: gray;\n",
       "  /* Definition of color scheme for unfitted estimators */\n",
       "  --sklearn-color-unfitted-level-0: #fff5e6;\n",
       "  --sklearn-color-unfitted-level-1: #f6e4d2;\n",
       "  --sklearn-color-unfitted-level-2: #ffe0b3;\n",
       "  --sklearn-color-unfitted-level-3: chocolate;\n",
       "  /* Definition of color scheme for fitted estimators */\n",
       "  --sklearn-color-fitted-level-0: #f0f8ff;\n",
       "  --sklearn-color-fitted-level-1: #d4ebff;\n",
       "  --sklearn-color-fitted-level-2: #b3dbfd;\n",
       "  --sklearn-color-fitted-level-3: cornflowerblue;\n",
       "\n",
       "  /* Specific color for light theme */\n",
       "  --sklearn-color-text-on-default-background: var(--sg-text-color, var(--theme-code-foreground, var(--jp-content-font-color1, black)));\n",
       "  --sklearn-color-background: var(--sg-background-color, var(--theme-background, var(--jp-layout-color0, white)));\n",
       "  --sklearn-color-border-box: var(--sg-text-color, var(--theme-code-foreground, var(--jp-content-font-color1, black)));\n",
       "  --sklearn-color-icon: #696969;\n",
       "\n",
       "  @media (prefers-color-scheme: dark) {\n",
       "    /* Redefinition of color scheme for dark theme */\n",
       "    --sklearn-color-text-on-default-background: var(--sg-text-color, var(--theme-code-foreground, var(--jp-content-font-color1, white)));\n",
       "    --sklearn-color-background: var(--sg-background-color, var(--theme-background, var(--jp-layout-color0, #111)));\n",
       "    --sklearn-color-border-box: var(--sg-text-color, var(--theme-code-foreground, var(--jp-content-font-color1, white)));\n",
       "    --sklearn-color-icon: #878787;\n",
       "  }\n",
       "}\n",
       "\n",
       "#sk-container-id-1 {\n",
       "  color: var(--sklearn-color-text);\n",
       "}\n",
       "\n",
       "#sk-container-id-1 pre {\n",
       "  padding: 0;\n",
       "}\n",
       "\n",
       "#sk-container-id-1 input.sk-hidden--visually {\n",
       "  border: 0;\n",
       "  clip: rect(1px 1px 1px 1px);\n",
       "  clip: rect(1px, 1px, 1px, 1px);\n",
       "  height: 1px;\n",
       "  margin: -1px;\n",
       "  overflow: hidden;\n",
       "  padding: 0;\n",
       "  position: absolute;\n",
       "  width: 1px;\n",
       "}\n",
       "\n",
       "#sk-container-id-1 div.sk-dashed-wrapped {\n",
       "  border: 1px dashed var(--sklearn-color-line);\n",
       "  margin: 0 0.4em 0.5em 0.4em;\n",
       "  box-sizing: border-box;\n",
       "  padding-bottom: 0.4em;\n",
       "  background-color: var(--sklearn-color-background);\n",
       "}\n",
       "\n",
       "#sk-container-id-1 div.sk-container {\n",
       "  /* jupyter's `normalize.less` sets `[hidden] { display: none; }`\n",
       "     but bootstrap.min.css set `[hidden] { display: none !important; }`\n",
       "     so we also need the `!important` here to be able to override the\n",
       "     default hidden behavior on the sphinx rendered scikit-learn.org.\n",
       "     See: https://github.com/scikit-learn/scikit-learn/issues/21755 */\n",
       "  display: inline-block !important;\n",
       "  position: relative;\n",
       "}\n",
       "\n",
       "#sk-container-id-1 div.sk-text-repr-fallback {\n",
       "  display: none;\n",
       "}\n",
       "\n",
       "div.sk-parallel-item,\n",
       "div.sk-serial,\n",
       "div.sk-item {\n",
       "  /* draw centered vertical line to link estimators */\n",
       "  background-image: linear-gradient(var(--sklearn-color-text-on-default-background), var(--sklearn-color-text-on-default-background));\n",
       "  background-size: 2px 100%;\n",
       "  background-repeat: no-repeat;\n",
       "  background-position: center center;\n",
       "}\n",
       "\n",
       "/* Parallel-specific style estimator block */\n",
       "\n",
       "#sk-container-id-1 div.sk-parallel-item::after {\n",
       "  content: \"\";\n",
       "  width: 100%;\n",
       "  border-bottom: 2px solid var(--sklearn-color-text-on-default-background);\n",
       "  flex-grow: 1;\n",
       "}\n",
       "\n",
       "#sk-container-id-1 div.sk-parallel {\n",
       "  display: flex;\n",
       "  align-items: stretch;\n",
       "  justify-content: center;\n",
       "  background-color: var(--sklearn-color-background);\n",
       "  position: relative;\n",
       "}\n",
       "\n",
       "#sk-container-id-1 div.sk-parallel-item {\n",
       "  display: flex;\n",
       "  flex-direction: column;\n",
       "}\n",
       "\n",
       "#sk-container-id-1 div.sk-parallel-item:first-child::after {\n",
       "  align-self: flex-end;\n",
       "  width: 50%;\n",
       "}\n",
       "\n",
       "#sk-container-id-1 div.sk-parallel-item:last-child::after {\n",
       "  align-self: flex-start;\n",
       "  width: 50%;\n",
       "}\n",
       "\n",
       "#sk-container-id-1 div.sk-parallel-item:only-child::after {\n",
       "  width: 0;\n",
       "}\n",
       "\n",
       "/* Serial-specific style estimator block */\n",
       "\n",
       "#sk-container-id-1 div.sk-serial {\n",
       "  display: flex;\n",
       "  flex-direction: column;\n",
       "  align-items: center;\n",
       "  background-color: var(--sklearn-color-background);\n",
       "  padding-right: 1em;\n",
       "  padding-left: 1em;\n",
       "}\n",
       "\n",
       "\n",
       "/* Toggleable style: style used for estimator/Pipeline/ColumnTransformer box that is\n",
       "clickable and can be expanded/collapsed.\n",
       "- Pipeline and ColumnTransformer use this feature and define the default style\n",
       "- Estimators will overwrite some part of the style using the `sk-estimator` class\n",
       "*/\n",
       "\n",
       "/* Pipeline and ColumnTransformer style (default) */\n",
       "\n",
       "#sk-container-id-1 div.sk-toggleable {\n",
       "  /* Default theme specific background. It is overwritten whether we have a\n",
       "  specific estimator or a Pipeline/ColumnTransformer */\n",
       "  background-color: var(--sklearn-color-background);\n",
       "}\n",
       "\n",
       "/* Toggleable label */\n",
       "#sk-container-id-1 label.sk-toggleable__label {\n",
       "  cursor: pointer;\n",
       "  display: flex;\n",
       "  width: 100%;\n",
       "  margin-bottom: 0;\n",
       "  padding: 0.5em;\n",
       "  box-sizing: border-box;\n",
       "  text-align: center;\n",
       "  align-items: start;\n",
       "  justify-content: space-between;\n",
       "  gap: 0.5em;\n",
       "}\n",
       "\n",
       "#sk-container-id-1 label.sk-toggleable__label .caption {\n",
       "  font-size: 0.6rem;\n",
       "  font-weight: lighter;\n",
       "  color: var(--sklearn-color-text-muted);\n",
       "}\n",
       "\n",
       "#sk-container-id-1 label.sk-toggleable__label-arrow:before {\n",
       "  /* Arrow on the left of the label */\n",
       "  content: \"▸\";\n",
       "  float: left;\n",
       "  margin-right: 0.25em;\n",
       "  color: var(--sklearn-color-icon);\n",
       "}\n",
       "\n",
       "#sk-container-id-1 label.sk-toggleable__label-arrow:hover:before {\n",
       "  color: var(--sklearn-color-text);\n",
       "}\n",
       "\n",
       "/* Toggleable content - dropdown */\n",
       "\n",
       "#sk-container-id-1 div.sk-toggleable__content {\n",
       "  max-height: 0;\n",
       "  max-width: 0;\n",
       "  overflow: hidden;\n",
       "  text-align: left;\n",
       "  /* unfitted */\n",
       "  background-color: var(--sklearn-color-unfitted-level-0);\n",
       "}\n",
       "\n",
       "#sk-container-id-1 div.sk-toggleable__content.fitted {\n",
       "  /* fitted */\n",
       "  background-color: var(--sklearn-color-fitted-level-0);\n",
       "}\n",
       "\n",
       "#sk-container-id-1 div.sk-toggleable__content pre {\n",
       "  margin: 0.2em;\n",
       "  border-radius: 0.25em;\n",
       "  color: var(--sklearn-color-text);\n",
       "  /* unfitted */\n",
       "  background-color: var(--sklearn-color-unfitted-level-0);\n",
       "}\n",
       "\n",
       "#sk-container-id-1 div.sk-toggleable__content.fitted pre {\n",
       "  /* unfitted */\n",
       "  background-color: var(--sklearn-color-fitted-level-0);\n",
       "}\n",
       "\n",
       "#sk-container-id-1 input.sk-toggleable__control:checked~div.sk-toggleable__content {\n",
       "  /* Expand drop-down */\n",
       "  max-height: 200px;\n",
       "  max-width: 100%;\n",
       "  overflow: auto;\n",
       "}\n",
       "\n",
       "#sk-container-id-1 input.sk-toggleable__control:checked~label.sk-toggleable__label-arrow:before {\n",
       "  content: \"▾\";\n",
       "}\n",
       "\n",
       "/* Pipeline/ColumnTransformer-specific style */\n",
       "\n",
       "#sk-container-id-1 div.sk-label input.sk-toggleable__control:checked~label.sk-toggleable__label {\n",
       "  color: var(--sklearn-color-text);\n",
       "  background-color: var(--sklearn-color-unfitted-level-2);\n",
       "}\n",
       "\n",
       "#sk-container-id-1 div.sk-label.fitted input.sk-toggleable__control:checked~label.sk-toggleable__label {\n",
       "  background-color: var(--sklearn-color-fitted-level-2);\n",
       "}\n",
       "\n",
       "/* Estimator-specific style */\n",
       "\n",
       "/* Colorize estimator box */\n",
       "#sk-container-id-1 div.sk-estimator input.sk-toggleable__control:checked~label.sk-toggleable__label {\n",
       "  /* unfitted */\n",
       "  background-color: var(--sklearn-color-unfitted-level-2);\n",
       "}\n",
       "\n",
       "#sk-container-id-1 div.sk-estimator.fitted input.sk-toggleable__control:checked~label.sk-toggleable__label {\n",
       "  /* fitted */\n",
       "  background-color: var(--sklearn-color-fitted-level-2);\n",
       "}\n",
       "\n",
       "#sk-container-id-1 div.sk-label label.sk-toggleable__label,\n",
       "#sk-container-id-1 div.sk-label label {\n",
       "  /* The background is the default theme color */\n",
       "  color: var(--sklearn-color-text-on-default-background);\n",
       "}\n",
       "\n",
       "/* On hover, darken the color of the background */\n",
       "#sk-container-id-1 div.sk-label:hover label.sk-toggleable__label {\n",
       "  color: var(--sklearn-color-text);\n",
       "  background-color: var(--sklearn-color-unfitted-level-2);\n",
       "}\n",
       "\n",
       "/* Label box, darken color on hover, fitted */\n",
       "#sk-container-id-1 div.sk-label.fitted:hover label.sk-toggleable__label.fitted {\n",
       "  color: var(--sklearn-color-text);\n",
       "  background-color: var(--sklearn-color-fitted-level-2);\n",
       "}\n",
       "\n",
       "/* Estimator label */\n",
       "\n",
       "#sk-container-id-1 div.sk-label label {\n",
       "  font-family: monospace;\n",
       "  font-weight: bold;\n",
       "  display: inline-block;\n",
       "  line-height: 1.2em;\n",
       "}\n",
       "\n",
       "#sk-container-id-1 div.sk-label-container {\n",
       "  text-align: center;\n",
       "}\n",
       "\n",
       "/* Estimator-specific */\n",
       "#sk-container-id-1 div.sk-estimator {\n",
       "  font-family: monospace;\n",
       "  border: 1px dotted var(--sklearn-color-border-box);\n",
       "  border-radius: 0.25em;\n",
       "  box-sizing: border-box;\n",
       "  margin-bottom: 0.5em;\n",
       "  /* unfitted */\n",
       "  background-color: var(--sklearn-color-unfitted-level-0);\n",
       "}\n",
       "\n",
       "#sk-container-id-1 div.sk-estimator.fitted {\n",
       "  /* fitted */\n",
       "  background-color: var(--sklearn-color-fitted-level-0);\n",
       "}\n",
       "\n",
       "/* on hover */\n",
       "#sk-container-id-1 div.sk-estimator:hover {\n",
       "  /* unfitted */\n",
       "  background-color: var(--sklearn-color-unfitted-level-2);\n",
       "}\n",
       "\n",
       "#sk-container-id-1 div.sk-estimator.fitted:hover {\n",
       "  /* fitted */\n",
       "  background-color: var(--sklearn-color-fitted-level-2);\n",
       "}\n",
       "\n",
       "/* Specification for estimator info (e.g. \"i\" and \"?\") */\n",
       "\n",
       "/* Common style for \"i\" and \"?\" */\n",
       "\n",
       ".sk-estimator-doc-link,\n",
       "a:link.sk-estimator-doc-link,\n",
       "a:visited.sk-estimator-doc-link {\n",
       "  float: right;\n",
       "  font-size: smaller;\n",
       "  line-height: 1em;\n",
       "  font-family: monospace;\n",
       "  background-color: var(--sklearn-color-background);\n",
       "  border-radius: 1em;\n",
       "  height: 1em;\n",
       "  width: 1em;\n",
       "  text-decoration: none !important;\n",
       "  margin-left: 0.5em;\n",
       "  text-align: center;\n",
       "  /* unfitted */\n",
       "  border: var(--sklearn-color-unfitted-level-1) 1pt solid;\n",
       "  color: var(--sklearn-color-unfitted-level-1);\n",
       "}\n",
       "\n",
       ".sk-estimator-doc-link.fitted,\n",
       "a:link.sk-estimator-doc-link.fitted,\n",
       "a:visited.sk-estimator-doc-link.fitted {\n",
       "  /* fitted */\n",
       "  border: var(--sklearn-color-fitted-level-1) 1pt solid;\n",
       "  color: var(--sklearn-color-fitted-level-1);\n",
       "}\n",
       "\n",
       "/* On hover */\n",
       "div.sk-estimator:hover .sk-estimator-doc-link:hover,\n",
       ".sk-estimator-doc-link:hover,\n",
       "div.sk-label-container:hover .sk-estimator-doc-link:hover,\n",
       ".sk-estimator-doc-link:hover {\n",
       "  /* unfitted */\n",
       "  background-color: var(--sklearn-color-unfitted-level-3);\n",
       "  color: var(--sklearn-color-background);\n",
       "  text-decoration: none;\n",
       "}\n",
       "\n",
       "div.sk-estimator.fitted:hover .sk-estimator-doc-link.fitted:hover,\n",
       ".sk-estimator-doc-link.fitted:hover,\n",
       "div.sk-label-container:hover .sk-estimator-doc-link.fitted:hover,\n",
       ".sk-estimator-doc-link.fitted:hover {\n",
       "  /* fitted */\n",
       "  background-color: var(--sklearn-color-fitted-level-3);\n",
       "  color: var(--sklearn-color-background);\n",
       "  text-decoration: none;\n",
       "}\n",
       "\n",
       "/* Span, style for the box shown on hovering the info icon */\n",
       ".sk-estimator-doc-link span {\n",
       "  display: none;\n",
       "  z-index: 9999;\n",
       "  position: relative;\n",
       "  font-weight: normal;\n",
       "  right: .2ex;\n",
       "  padding: .5ex;\n",
       "  margin: .5ex;\n",
       "  width: min-content;\n",
       "  min-width: 20ex;\n",
       "  max-width: 50ex;\n",
       "  color: var(--sklearn-color-text);\n",
       "  box-shadow: 2pt 2pt 4pt #999;\n",
       "  /* unfitted */\n",
       "  background: var(--sklearn-color-unfitted-level-0);\n",
       "  border: .5pt solid var(--sklearn-color-unfitted-level-3);\n",
       "}\n",
       "\n",
       ".sk-estimator-doc-link.fitted span {\n",
       "  /* fitted */\n",
       "  background: var(--sklearn-color-fitted-level-0);\n",
       "  border: var(--sklearn-color-fitted-level-3);\n",
       "}\n",
       "\n",
       ".sk-estimator-doc-link:hover span {\n",
       "  display: block;\n",
       "}\n",
       "\n",
       "/* \"?\"-specific style due to the `<a>` HTML tag */\n",
       "\n",
       "#sk-container-id-1 a.estimator_doc_link {\n",
       "  float: right;\n",
       "  font-size: 1rem;\n",
       "  line-height: 1em;\n",
       "  font-family: monospace;\n",
       "  background-color: var(--sklearn-color-background);\n",
       "  border-radius: 1rem;\n",
       "  height: 1rem;\n",
       "  width: 1rem;\n",
       "  text-decoration: none;\n",
       "  /* unfitted */\n",
       "  color: var(--sklearn-color-unfitted-level-1);\n",
       "  border: var(--sklearn-color-unfitted-level-1) 1pt solid;\n",
       "}\n",
       "\n",
       "#sk-container-id-1 a.estimator_doc_link.fitted {\n",
       "  /* fitted */\n",
       "  border: var(--sklearn-color-fitted-level-1) 1pt solid;\n",
       "  color: var(--sklearn-color-fitted-level-1);\n",
       "}\n",
       "\n",
       "/* On hover */\n",
       "#sk-container-id-1 a.estimator_doc_link:hover {\n",
       "  /* unfitted */\n",
       "  background-color: var(--sklearn-color-unfitted-level-3);\n",
       "  color: var(--sklearn-color-background);\n",
       "  text-decoration: none;\n",
       "}\n",
       "\n",
       "#sk-container-id-1 a.estimator_doc_link.fitted:hover {\n",
       "  /* fitted */\n",
       "  background-color: var(--sklearn-color-fitted-level-3);\n",
       "}\n",
       "</style><div id=\"sk-container-id-1\" class=\"sk-top-container\"><div class=\"sk-text-repr-fallback\"><pre>XGBClassifier(base_score=None, booster=None, callbacks=None,\n",
       "              colsample_bylevel=None, colsample_bynode=None,\n",
       "              colsample_bytree=0.9049166524337446, device=None,\n",
       "              early_stopping_rounds=None, enable_categorical=False,\n",
       "              eval_metric=None, feature_types=None, gamma=0.3376761198544125,\n",
       "              grow_policy=&#x27;lossguide&#x27;, importance_type=None,\n",
       "              interaction_constraints=None, learning_rate=0.013855267540212752,\n",
       "              max_bin=None, max_cat_threshold=None, max_cat_to_onehot=None,\n",
       "              max_delta_step=None, max_depth=39, max_leaves=None,\n",
       "              min_child_weight=13, missing=nan, monotone_constraints=None,\n",
       "              multi_strategy=None, n_estimators=100, n_jobs=None,\n",
       "              num_parallel_tree=None, random_state=None, ...)</pre><b>In a Jupyter environment, please rerun this cell to show the HTML representation or trust the notebook. <br />On GitHub, the HTML representation is unable to render, please try loading this page with nbviewer.org.</b></div><div class=\"sk-container\" hidden><div class=\"sk-item\"><div class=\"sk-estimator fitted sk-toggleable\"><input class=\"sk-toggleable__control sk-hidden--visually\" id=\"sk-estimator-id-1\" type=\"checkbox\" checked><label for=\"sk-estimator-id-1\" class=\"sk-toggleable__label fitted sk-toggleable__label-arrow\"><div><div>XGBClassifier</div></div><div><span class=\"sk-estimator-doc-link fitted\">i<span>Fitted</span></span></div></label><div class=\"sk-toggleable__content fitted\"><pre>XGBClassifier(base_score=None, booster=None, callbacks=None,\n",
       "              colsample_bylevel=None, colsample_bynode=None,\n",
       "              colsample_bytree=0.9049166524337446, device=None,\n",
       "              early_stopping_rounds=None, enable_categorical=False,\n",
       "              eval_metric=None, feature_types=None, gamma=0.3376761198544125,\n",
       "              grow_policy=&#x27;lossguide&#x27;, importance_type=None,\n",
       "              interaction_constraints=None, learning_rate=0.013855267540212752,\n",
       "              max_bin=None, max_cat_threshold=None, max_cat_to_onehot=None,\n",
       "              max_delta_step=None, max_depth=39, max_leaves=None,\n",
       "              min_child_weight=13, missing=nan, monotone_constraints=None,\n",
       "              multi_strategy=None, n_estimators=100, n_jobs=None,\n",
       "              num_parallel_tree=None, random_state=None, ...)</pre></div> </div></div></div></div>"
      ],
      "text/plain": [
       "XGBClassifier(base_score=None, booster=None, callbacks=None,\n",
       "              colsample_bylevel=None, colsample_bynode=None,\n",
       "              colsample_bytree=0.9049166524337446, device=None,\n",
       "              early_stopping_rounds=None, enable_categorical=False,\n",
       "              eval_metric=None, feature_types=None, gamma=0.3376761198544125,\n",
       "              grow_policy='lossguide', importance_type=None,\n",
       "              interaction_constraints=None, learning_rate=0.013855267540212752,\n",
       "              max_bin=None, max_cat_threshold=None, max_cat_to_onehot=None,\n",
       "              max_delta_step=None, max_depth=39, max_leaves=None,\n",
       "              min_child_weight=13, missing=nan, monotone_constraints=None,\n",
       "              multi_strategy=None, n_estimators=100, n_jobs=None,\n",
       "              num_parallel_tree=None, random_state=None, ...)"
      ]
     },
     "execution_count": 29,
     "metadata": {},
     "output_type": "execute_result"
    }
   ],
   "source": [
    "sampler = TPESampler(seed=21)\n",
    "study = optuna.create_study(direction='maximize',sampler=sampler)\n",
    "study.optimize(lambda trial: objective(trial, X_train, y_train), n_trials=10)\n",
    "\n",
    "best_params = study.best_params\n",
    "best_model = XGBClassifier(**best_params)\n",
    "best_model.fit(X_train, y_train)"
   ]
  },
  {
   "cell_type": "code",
   "execution_count": 32,
   "metadata": {},
   "outputs": [
    {
     "name": "stdout",
     "output_type": "stream",
     "text": [
      "-- Métricas del modelo con hiperparámetros ajustados --\n",
      "Accuracy: 0.6025039123630673\n",
      "F1-Score: 0.5606\n",
      "AUC-ROC: 0.6118\n",
      "Precisión: 0.5625\n",
      "Sensibilidad: 0.5586\n",
      "Log-loss: 0.6740\n"
     ]
    }
   ],
   "source": [
    "y_val_pred = best_model.predict(X_test)\n",
    "y_val_prob = best_model.predict_proba(X_test)[:,1]\n",
    "\n",
    "print(\"-- Métricas del modelo con hiperparámetros ajustados --\")\n",
    "print(\"Accuracy:\", accuracy_score(y_test, y_val_pred))\n",
    "print(f\"F1-Score: {f1_score(y_test, y_val_pred):.4f}\")\n",
    "print(f\"AUC-ROC: {roc_auc_score(y_test, y_val_prob):.4f}\")\n",
    "print(f\"Precisión: {precision_score(y_test, y_val_pred):.4f}\")\n",
    "print(f\"Sensibilidad: {recall_score(y_test, y_val_pred):.4f}\")\n",
    "print(f\"Log-loss: {log_loss(y_test, y_val_prob):.4f}\")"
   ]
  },
  {
   "cell_type": "code",
   "execution_count": 33,
   "metadata": {},
   "outputs": [
    {
     "name": "stderr",
     "output_type": "stream",
     "text": [
      "c:\\Users\\mattu\\OneDrive\\Documentos\\GitHub\\c2425-R4\\.venv\\Lib\\site-packages\\xgboost\\core.py:158: UserWarning: [11:07:18] WARNING: C:\\buildkite-agent\\builds\\buildkite-windows-cpu-autoscaling-group-i-08cbc0333d8d4aae1-1\\xgboost\\xgboost-ci-windows\\src\\c_api\\c_api.cc:1374: Saving model in the UBJSON format as default.  You can use file extension: `json`, `ubj` or `deprecated` to choose between formats.\n",
      "  warnings.warn(smsg, UserWarning)\n",
      "2025/03/26 11:07:21 WARNING mlflow.utils.environment: Failed to resolve installed pip version. ``pip`` will be added to conda.yaml environment spec without a version specifier.\n",
      "2025/03/26 11:07:21 WARNING mlflow.models.model: Model logged without a signature and input example. Please set `input_example` parameter when logging the model to auto infer the model signature.\n"
     ]
    },
    {
     "name": "stdout",
     "output_type": "stream",
     "text": [
      "Modelo guardado en MLflow\n"
     ]
    }
   ],
   "source": [
    "if mlflow.active_run():\n",
    "    mlflow.end_run()\n",
    "\n",
    "# Iniciar un nuevo experimento\n",
    "with mlflow.start_run(run_name=\"uso de Optuna para ajustar hiperparámetros n_trials=10, sampler seed=21\"):\n",
    "\n",
    "    # Guardar modelo en MLflow\n",
    "    mlflow.xgboost.log_model(best_model, \"modelo_xgboost\")\n",
    "    mlflow.log_param(\"mejores_parametros\", best_params)\n",
    "    mlflow.log_metric(\"accuracy\", accuracy_score(y_test, y_val_pred))\n",
    "    mlflow.log_metric(\"f1_macro\", f1_score(y_test, y_val_pred))\n",
    "\n",
    "    print(\"Modelo guardado en MLflow\")"
   ]
  },
  {
   "cell_type": "code",
   "execution_count": 70,
   "metadata": {},
   "outputs": [
    {
     "data": {
      "image/png": "[encoded data removed]",
      "text/plain": [
       "<Figure size 640x480 with 2 Axes>"
      ]
     },
     "metadata": {},
     "output_type": "display_data"
    }
   ],
   "source": [
    "# Calcular la matriz de confusión\n",
    "cm = confusion_matrix(y_test, y_val_pred)\n",
    "\n",
    "# Visualizar la matriz de confusión\n",
    "sns.heatmap(cm, annot=True, fmt='d', cmap='Blues', xticklabels=['Clase 0', 'Clase 1'], yticklabels=['Clase 0', 'Clase 1'])\n",
    "plt.xlabel('Predicción')\n",
    "plt.ylabel('Real')\n",
    "plt.title('Matriz de Confusión')\n",
    "plt.show()"
   ]
  },
  {
   "cell_type": "code",
   "execution_count": 71,
   "metadata": {},
   "outputs": [
    {
     "name": "stdout",
     "output_type": "stream",
     "text": [
      "                    Feature  Importance\n",
      "20               Racha_DIFF    0.064529\n",
      "19              Puntos_DIFF    0.046249\n",
      "16            GRAPPLER_DIFF    0.044933\n",
      "26   Derrotas_Decision_DIFF    0.044815\n",
      "6              TD_PORC_DIFF    0.044134\n",
      "9           STR_HEAD_A_DIFF    0.043639\n",
      "24         Derrotas_KO_DIFF    0.041263\n",
      "18              Peleas_DIFF    0.041236\n",
      "2                   TD_DIFF    0.039759\n",
      "14        STR_GROUND_A_DIFF    0.038292\n",
      "10          STR_BODY_A_DIFF    0.037763\n",
      "23  Victorias_Decision_DIFF    0.034853\n",
      "25        Derrotas_Sub_DIFF    0.033828\n",
      "11           STR_LEG_A_DIFF    0.033803\n",
      "7          TOTAL_STR_A_DIFF    0.033390\n",
      "5                 CTRL_DIFF    0.033142\n",
      "13        STR_CLINCH_A_DIFF    0.032594\n",
      "8                 TD_A_DIFF    0.032587\n",
      "22       Victorias_Sub_DIFF    0.032437\n",
      "21        Victorias_KO_DIFF    0.032336\n",
      "1              SIG_STR_DIFF    0.032185\n",
      "17              Record_DIFF    0.031114\n",
      "3              SUB_ATT_DIFF    0.031101\n",
      "12      STR_DISTANCE_A_DIFF    0.030802\n",
      "4                  REV_DIFF    0.030726\n",
      "15             STRIKER_DIFF    0.030370\n",
      "0                   KD_DIFF    0.028121\n"
     ]
    }
   ],
   "source": [
    "feature_importance = pd.DataFrame({\n",
    "    'Feature': X_train.columns,\n",
    "    'Importance': best_model.feature_importances_\n",
    "}).sort_values(by='Importance', ascending=False)\n",
    "print(feature_importance)"
   ]
  },
  {
   "cell_type": "code",
   "execution_count": 72,
   "metadata": {},
   "outputs": [
    {
     "data": {
      "image/png": "[encoded data removed]",
      "text/plain": [
       "<Figure size 1000x1000 with 1 Axes>"
      ]
     },
     "metadata": {},
     "output_type": "display_data"
    }
   ],
   "source": [
    "plt.figure(figsize=(10, 10))\n",
    "plt.barh(feature_importance[\"Feature\"], feature_importance[\"Importance\"], color=\"royalblue\")\n",
    "plt.xlabel(\"Permutation Importance\")\n",
    "plt.title(\"Feature Importance (Top 10)\")\n",
    "plt.yticks(fontsize=5)\n",
    "plt.grid(axis=\"x\", linestyle=\"--\", alpha=0.7)\n",
    "plt.show()"
   ]
  },
  {
   "cell_type": "markdown",
   "metadata": {},
   "source": [
    "#### Conclusiones\n",
    "Tras evaluar los resultados del modelo utilizando dos enfoques de ajuste de hiperparámetros, se concluye que Grid Search logra un rendimiento ligeramente superior a la simple predicción de la clase mayoritaria. Sin embargo, su accuracy sigue siendo inferior al del modelo XGBoost basado en medias ponderadas, lo que indica que la estrategia de diferencias de estadísticas no ha mejorado la capacidad predictiva del modelo."
   ]
  }
 ],
 "metadata": {
  "kernelspec": {
   "display_name": ".venv",
   "language": "python",
   "name": "python3"
  },
  "language_info": {
   "codemirror_mode": {
    "name": "ipython",
    "version": 3
   },
   "file_extension": ".py",
   "mimetype": "text/x-python",
   "name": "python",
   "nbconvert_exporter": "python",
   "pygments_lexer": "ipython3",
   "version": "3.13.1"
  }
 },
 "nbformat": 4,
 "nbformat_minor": 2
}
