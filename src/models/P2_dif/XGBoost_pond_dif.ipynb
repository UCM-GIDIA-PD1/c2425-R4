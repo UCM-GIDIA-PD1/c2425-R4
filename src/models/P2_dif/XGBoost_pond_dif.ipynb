{
 "cells": [
  {
   "cell_type": "markdown",
   "metadata": {},
   "source": [
    "# XGBoost con variables de las diferencias de medias ponderadas\n",
    "\n",
    "* [Carga de los datos](#carga-de-los-datos)\n",
    "* [Transformaciones](#transformaciones)\n",
    "* [Selección de variables](#seleccion-de-variables)\n",
    "* [Ajuste de hiperparámetros](#ajuste-de-hiperparametros)\n",
    "* [Conclusiones](#conclusiones)"
   ]
  },
  {
   "cell_type": "code",
   "execution_count": 2,
   "metadata": {},
   "outputs": [
    {
     "name": "stderr",
     "output_type": "stream",
     "text": [
      "c:\\Users\\andre\\OneDrive - Universidad Complutense de Madrid (UCM)\\Escritorio\\UNIVERSIDAD\\2º\\2º Cuatrimestre\\PD1\\c2425-R4\\.venv\\Lib\\site-packages\\tqdm\\auto.py:21: TqdmWarning: IProgress not found. Please update jupyter and ipywidgets. See https://ipywidgets.readthedocs.io/en/stable/user_install.html\n",
      "  from .autonotebook import tqdm as notebook_tqdm\n"
     ]
    }
   ],
   "source": [
    "import pandas as pd\n",
    "import numpy as np\n",
    "from sklearn.model_selection import  GridSearchCV, RandomizedSearchCV, TimeSeriesSplit,cross_val_score\n",
    "from sklearn.metrics import classification_report, confusion_matrix, accuracy_score,log_loss, make_scorer, f1_score, roc_auc_score, precision_score, recall_score, balanced_accuracy_score\n",
    "import os\n",
    "from sklearn.utils.class_weight import compute_class_weight\n",
    "from xgboost import XGBClassifier\n",
    "import seaborn as sns\n",
    "import matplotlib.pyplot as plt\n",
    "from sklearn.inspection import permutation_importance\n",
    "import mlflow\n",
    "import optuna\n",
    "from optuna.samplers import TPESampler\n",
    "import random"
   ]
  },
  {
   "cell_type": "code",
   "execution_count": 3,
   "metadata": {},
   "outputs": [],
   "source": [
    "np.random.seed(42)\n",
    "random.seed(42)"
   ]
  },
  {
   "cell_type": "markdown",
   "metadata": {},
   "source": [
    "### Descripción general del notebook\n",
    "\n",
    "En este notebook se llevará a cabo el modelado y entrenamiento de un modelo XGBoost con el propósito de predecir el ganador de una pelea. Para ello, se utilizarán las diferencias en las estadísticas medias de cada peleador como variables predictoras.\n",
    "\n",
    "El objetivo principal es explorar alternativas que permitan mejorar el desempeño del modelo en comparación con la versión basada en medias ponderadas.\n",
    "\n",
    "Dado que el proceso de transformación de datos, selección de variables y ajuste de hiperparámetros será similar al realizado en el otro notebook, estos aspectos no serán abordados en detalle en esta ocasión."
   ]
  },
  {
   "cell_type": "code",
   "execution_count": 4,
   "metadata": {},
   "outputs": [
    {
     "name": "stdout",
     "output_type": "stream",
     "text": [
      "MLflow tracking URI: file:///c:\\Users\\andre\\OneDrive - Universidad Complutense de Madrid (UCM)\\Escritorio\\UNIVERSIDAD\\2º\\2º Cuatrimestre\\PD1\\c2425-R4\\mlruns\n"
     ]
    }
   ],
   "source": [
    "ruta_mlflow = os.path.abspath(os.path.join(\"..\", \"..\", \"..\", \"mlruns\"))\n",
    "\n",
    " # Configurar MLflow para guardar los modelos en esa ruta\n",
    "mlflow.set_tracking_uri(f\"file:///{ruta_mlflow}\")\n",
    "\n",
    "print(\"MLflow tracking URI:\", mlflow.get_tracking_uri())  "
   ]
  },
  {
   "cell_type": "code",
<<<<<<< Updated upstream
   "execution_count": 5,
=======
   "execution_count": 45,
>>>>>>> Stashed changes
   "metadata": {},
   "outputs": [
    {
     "data": {
      "text/plain": [
       "<Experiment: artifact_location='file:///c:\\\\Users\\\\mattu\\\\OneDrive\\\\Documentos\\\\GitHub\\\\c2425-R4\\\\mlruns/327375263980051994', creation_time=1742983623731, experiment_id='327375263980051994', last_update_time=1742986278423, lifecycle_stage='active', name='Prueba con df ponderado P2 usando P2_dif XGBoost, datos finales', tags={}>"
      ]
     },
<<<<<<< Updated upstream
     "execution_count": 5,
=======
     "execution_count": 45,
>>>>>>> Stashed changes
     "metadata": {},
     "output_type": "execute_result"
    }
   ],
   "source": [
    "mlflow.set_experiment(\"Prueba con df ponderado P2 usando P2_dif XGBoost, datos finales\")"
   ]
  },
  {
   "cell_type": "markdown",
   "metadata": {},
   "source": [
    "Para guardar los resultados de diferentes experimentos creamos un directorio mlruns donde se guardarán los modelos realizados con una breve descripción y sus resultados."
   ]
  },
  {
   "cell_type": "markdown",
   "metadata": {},
   "source": [
    "### Carga de los datos"
   ]
  },
  {
   "cell_type": "markdown",
   "metadata": {},
   "source": [
    "Cargamos el conjunto de train y test los cuales han sido seleccionados respetando el orden cronológico debido a que es una serie temporal. Separamos los conjuntos en X e y. En X guardamos todas las variables que puedan ser introducidas al modelo, excluyendo los nombres, la fecha y la variable respuesta. En y guardamos la variable respuesta."
   ]
  },
  {
   "cell_type": "code",
   "execution_count": 6,
   "metadata": {},
   "outputs": [
    {
     "data": {
      "text/html": [
       "<div>\n",
       "<style scoped>\n",
       "    .dataframe tbody tr th:only-of-type {\n",
       "        vertical-align: middle;\n",
       "    }\n",
       "\n",
       "    .dataframe tbody tr th {\n",
       "        vertical-align: top;\n",
       "    }\n",
       "\n",
       "    .dataframe thead th {\n",
       "        text-align: right;\n",
       "    }\n",
       "</style>\n",
       "<table border=\"1\" class=\"dataframe\">\n",
       "  <thead>\n",
       "    <tr style=\"text-align: right;\">\n",
       "      <th></th>\n",
       "      <th>DATE</th>\n",
       "      <th>Peleador_A</th>\n",
       "      <th>Peleador_B</th>\n",
       "      <th>WINNER</th>\n",
       "      <th>KD_DIFF</th>\n",
       "      <th>SIG_STR_DIFF</th>\n",
       "      <th>TD_DIFF</th>\n",
       "      <th>SUB_ATT_DIFF</th>\n",
       "      <th>REV_DIFF</th>\n",
       "      <th>CTRL_DIFF</th>\n",
       "      <th>...</th>\n",
       "      <th>Record_DIFF</th>\n",
       "      <th>Peleas_DIFF</th>\n",
       "      <th>Puntos_DIFF</th>\n",
       "      <th>Racha_DIFF</th>\n",
       "      <th>Victorias_KO_DIFF</th>\n",
       "      <th>Victorias_Sub_DIFF</th>\n",
       "      <th>Victorias_Decision_DIFF</th>\n",
       "      <th>Derrotas_KO_DIFF</th>\n",
       "      <th>Derrotas_Sub_DIFF</th>\n",
       "      <th>Derrotas_Decision_DIFF</th>\n",
       "    </tr>\n",
       "  </thead>\n",
       "  <tbody>\n",
       "    <tr>\n",
       "      <th>0</th>\n",
       "      <td>2010-01-02</td>\n",
       "      <td>Rashad Evans</td>\n",
       "      <td>Thiago Silva</td>\n",
       "      <td>False</td>\n",
       "      <td>0.04</td>\n",
       "      <td>-0.2808</td>\n",
       "      <td>0.193548</td>\n",
       "      <td>-0.40</td>\n",
       "      <td>0.00</td>\n",
       "      <td>-18.84</td>\n",
       "      <td>...</td>\n",
       "      <td>16.0</td>\n",
       "      <td>4</td>\n",
       "      <td>-8.396724</td>\n",
       "      <td>-1</td>\n",
       "      <td>-0.76</td>\n",
       "      <td>0.00</td>\n",
       "      <td>4.00</td>\n",
       "      <td>-0.24</td>\n",
       "      <td>0.0</td>\n",
       "      <td>1.0</td>\n",
       "    </tr>\n",
       "    <tr>\n",
       "      <th>1</th>\n",
       "      <td>2010-01-02</td>\n",
       "      <td>Sam Stout</td>\n",
       "      <td>Joe Lauzon</td>\n",
       "      <td>False</td>\n",
       "      <td>0.36</td>\n",
       "      <td>-0.2228</td>\n",
       "      <td>-0.371306</td>\n",
       "      <td>-2.72</td>\n",
       "      <td>0.00</td>\n",
       "      <td>-101.68</td>\n",
       "      <td>...</td>\n",
       "      <td>-3.0</td>\n",
       "      <td>1</td>\n",
       "      <td>-8.453158</td>\n",
       "      <td>-1</td>\n",
       "      <td>-1.60</td>\n",
       "      <td>-2.36</td>\n",
       "      <td>2.36</td>\n",
       "      <td>-1.00</td>\n",
       "      <td>1.0</td>\n",
       "      <td>2.6</td>\n",
       "    </tr>\n",
       "    <tr>\n",
       "      <th>2</th>\n",
       "      <td>2010-01-11</td>\n",
       "      <td>Rafael Dos Anjos</td>\n",
       "      <td>Kyle Bradley</td>\n",
       "      <td>False</td>\n",
       "      <td>0.00</td>\n",
       "      <td>0.0416</td>\n",
       "      <td>0.086912</td>\n",
       "      <td>1.52</td>\n",
       "      <td>0.24</td>\n",
       "      <td>213.96</td>\n",
       "      <td>...</td>\n",
       "      <td>0.0</td>\n",
       "      <td>0</td>\n",
       "      <td>-9.999989</td>\n",
       "      <td>0</td>\n",
       "      <td>-0.36</td>\n",
       "      <td>0.00</td>\n",
       "      <td>0.36</td>\n",
       "      <td>-0.60</td>\n",
       "      <td>0.0</td>\n",
       "      <td>0.6</td>\n",
       "    </tr>\n",
       "    <tr>\n",
       "      <th>3</th>\n",
       "      <td>2010-01-11</td>\n",
       "      <td>Amir Sadollah</td>\n",
       "      <td>Brad Blackburn</td>\n",
       "      <td>False</td>\n",
       "      <td>-1.84</td>\n",
       "      <td>-0.0176</td>\n",
       "      <td>0.000000</td>\n",
       "      <td>0.44</td>\n",
       "      <td>0.00</td>\n",
       "      <td>23.04</td>\n",
       "      <td>...</td>\n",
       "      <td>-4.0</td>\n",
       "      <td>0</td>\n",
       "      <td>-1.547747</td>\n",
       "      <td>-2</td>\n",
       "      <td>-1.00</td>\n",
       "      <td>1.00</td>\n",
       "      <td>-0.60</td>\n",
       "      <td>0.60</td>\n",
       "      <td>0.0</td>\n",
       "      <td>0.0</td>\n",
       "    </tr>\n",
       "    <tr>\n",
       "      <th>4</th>\n",
       "      <td>2010-01-11</td>\n",
       "      <td>Gray Maynard</td>\n",
       "      <td>Nate Diaz</td>\n",
       "      <td>False</td>\n",
       "      <td>0.00</td>\n",
       "      <td>0.0492</td>\n",
       "      <td>0.328320</td>\n",
       "      <td>-0.52</td>\n",
       "      <td>-0.48</td>\n",
       "      <td>249.72</td>\n",
       "      <td>...</td>\n",
       "      <td>-1.0</td>\n",
       "      <td>-1</td>\n",
       "      <td>-2.953928</td>\n",
       "      <td>5</td>\n",
       "      <td>1.00</td>\n",
       "      <td>-4.36</td>\n",
       "      <td>2.96</td>\n",
       "      <td>0.00</td>\n",
       "      <td>0.0</td>\n",
       "      <td>-1.6</td>\n",
       "    </tr>\n",
       "  </tbody>\n",
       "</table>\n",
       "<p>5 rows × 31 columns</p>\n",
       "</div>"
      ],
      "text/plain": [
       "        DATE        Peleador_A      Peleador_B  WINNER  KD_DIFF  SIG_STR_DIFF  \\\n",
       "0 2010-01-02      Rashad Evans    Thiago Silva   False     0.04       -0.2808   \n",
       "1 2010-01-02         Sam Stout      Joe Lauzon   False     0.36       -0.2228   \n",
       "2 2010-01-11  Rafael Dos Anjos    Kyle Bradley   False     0.00        0.0416   \n",
       "3 2010-01-11     Amir Sadollah  Brad Blackburn   False    -1.84       -0.0176   \n",
       "4 2010-01-11      Gray Maynard       Nate Diaz   False     0.00        0.0492   \n",
       "\n",
       "    TD_DIFF  SUB_ATT_DIFF  REV_DIFF  CTRL_DIFF  ...  Record_DIFF  Peleas_DIFF  \\\n",
       "0  0.193548         -0.40      0.00     -18.84  ...         16.0            4   \n",
       "1 -0.371306         -2.72      0.00    -101.68  ...         -3.0            1   \n",
       "2  0.086912          1.52      0.24     213.96  ...          0.0            0   \n",
       "3  0.000000          0.44      0.00      23.04  ...         -4.0            0   \n",
       "4  0.328320         -0.52     -0.48     249.72  ...         -1.0           -1   \n",
       "\n",
       "   Puntos_DIFF  Racha_DIFF  Victorias_KO_DIFF  Victorias_Sub_DIFF  \\\n",
       "0    -8.396724          -1              -0.76                0.00   \n",
       "1    -8.453158          -1              -1.60               -2.36   \n",
       "2    -9.999989           0              -0.36                0.00   \n",
       "3    -1.547747          -2              -1.00                1.00   \n",
       "4    -2.953928           5               1.00               -4.36   \n",
       "\n",
       "   Victorias_Decision_DIFF  Derrotas_KO_DIFF  Derrotas_Sub_DIFF  \\\n",
       "0                     4.00             -0.24                0.0   \n",
       "1                     2.36             -1.00                1.0   \n",
       "2                     0.36             -0.60                0.0   \n",
       "3                    -0.60              0.60                0.0   \n",
       "4                     2.96              0.00                0.0   \n",
       "\n",
       "   Derrotas_Decision_DIFF  \n",
       "0                     1.0  \n",
       "1                     2.6  \n",
       "2                     0.6  \n",
       "3                     0.0  \n",
       "4                    -1.6  \n",
       "\n",
       "[5 rows x 31 columns]"
      ]
     },
     "execution_count": 6,
     "metadata": {},
     "output_type": "execute_result"
    }
   ],
   "source": [
    "#Leo los df divididos en orden cronológico de forma que los resultados sean lo más reales posibles\n",
    "ruta_train =  os.path.join(\"..\",\"..\",\"..\", \"data\", \"P2_dif\",\"train.parquet\")\n",
    "df_train = pd.read_parquet(ruta_train)\n",
    "df_train.head()"
   ]
  },
  {
   "cell_type": "code",
   "execution_count": 7,
   "metadata": {},
   "outputs": [
    {
     "data": {
      "text/html": [
       "<div>\n",
       "<style scoped>\n",
       "    .dataframe tbody tr th:only-of-type {\n",
       "        vertical-align: middle;\n",
       "    }\n",
       "\n",
       "    .dataframe tbody tr th {\n",
       "        vertical-align: top;\n",
       "    }\n",
       "\n",
       "    .dataframe thead th {\n",
       "        text-align: right;\n",
       "    }\n",
       "</style>\n",
       "<table border=\"1\" class=\"dataframe\">\n",
       "  <thead>\n",
       "    <tr style=\"text-align: right;\">\n",
       "      <th></th>\n",
       "      <th>DATE</th>\n",
       "      <th>Peleador_A</th>\n",
       "      <th>Peleador_B</th>\n",
       "      <th>WINNER</th>\n",
       "      <th>KD_DIFF</th>\n",
       "      <th>SIG_STR_DIFF</th>\n",
       "      <th>TD_DIFF</th>\n",
       "      <th>SUB_ATT_DIFF</th>\n",
       "      <th>REV_DIFF</th>\n",
       "      <th>CTRL_DIFF</th>\n",
       "      <th>...</th>\n",
       "      <th>Record_DIFF</th>\n",
       "      <th>Peleas_DIFF</th>\n",
       "      <th>Puntos_DIFF</th>\n",
       "      <th>Racha_DIFF</th>\n",
       "      <th>Victorias_KO_DIFF</th>\n",
       "      <th>Victorias_Sub_DIFF</th>\n",
       "      <th>Victorias_Decision_DIFF</th>\n",
       "      <th>Derrotas_KO_DIFF</th>\n",
       "      <th>Derrotas_Sub_DIFF</th>\n",
       "      <th>Derrotas_Decision_DIFF</th>\n",
       "    </tr>\n",
       "  </thead>\n",
       "  <tbody>\n",
       "    <tr>\n",
       "      <th>0</th>\n",
       "      <td>2022-11-19</td>\n",
       "      <td>Kennedy Nzechukwu</td>\n",
       "      <td>Ion Cutelaba</td>\n",
       "      <td>False</td>\n",
       "      <td>-0.4</td>\n",
       "      <td>-0.1032</td>\n",
       "      <td>-0.110729</td>\n",
       "      <td>0.36</td>\n",
       "      <td>0.00</td>\n",
       "      <td>-39.60</td>\n",
       "      <td>...</td>\n",
       "      <td>-1.0</td>\n",
       "      <td>-6</td>\n",
       "      <td>86.483419</td>\n",
       "      <td>1</td>\n",
       "      <td>-0.64</td>\n",
       "      <td>0.00</td>\n",
       "      <td>-1.0</td>\n",
       "      <td>-1.00</td>\n",
       "      <td>-1.96</td>\n",
       "      <td>-1.40</td>\n",
       "    </tr>\n",
       "    <tr>\n",
       "      <th>1</th>\n",
       "      <td>2022-11-19</td>\n",
       "      <td>Vince Morales</td>\n",
       "      <td>Miles Johns</td>\n",
       "      <td>True</td>\n",
       "      <td>-0.4</td>\n",
       "      <td>-0.0820</td>\n",
       "      <td>0.153846</td>\n",
       "      <td>0.00</td>\n",
       "      <td>0.36</td>\n",
       "      <td>-52.16</td>\n",
       "      <td>...</td>\n",
       "      <td>0.0</td>\n",
       "      <td>2</td>\n",
       "      <td>14.457185</td>\n",
       "      <td>0</td>\n",
       "      <td>-1.00</td>\n",
       "      <td>0.00</td>\n",
       "      <td>1.0</td>\n",
       "      <td>0.00</td>\n",
       "      <td>-0.36</td>\n",
       "      <td>2.36</td>\n",
       "    </tr>\n",
       "    <tr>\n",
       "      <th>2</th>\n",
       "      <td>2022-11-19</td>\n",
       "      <td>Andre Fialho</td>\n",
       "      <td>Muslim Salikhov</td>\n",
       "      <td>True</td>\n",
       "      <td>0.4</td>\n",
       "      <td>0.0696</td>\n",
       "      <td>-0.192661</td>\n",
       "      <td>0.00</td>\n",
       "      <td>0.00</td>\n",
       "      <td>-54.80</td>\n",
       "      <td>...</td>\n",
       "      <td>-4.0</td>\n",
       "      <td>-3</td>\n",
       "      <td>-62.740928</td>\n",
       "      <td>0</td>\n",
       "      <td>-0.40</td>\n",
       "      <td>0.00</td>\n",
       "      <td>-2.6</td>\n",
       "      <td>0.00</td>\n",
       "      <td>-1.00</td>\n",
       "      <td>1.00</td>\n",
       "    </tr>\n",
       "    <tr>\n",
       "      <th>3</th>\n",
       "      <td>2022-11-19</td>\n",
       "      <td>Jennifer Maia</td>\n",
       "      <td>Maryna Moroz</td>\n",
       "      <td>False</td>\n",
       "      <td>0.0</td>\n",
       "      <td>-0.1640</td>\n",
       "      <td>-0.069020</td>\n",
       "      <td>-1.08</td>\n",
       "      <td>0.00</td>\n",
       "      <td>-340.04</td>\n",
       "      <td>...</td>\n",
       "      <td>2.0</td>\n",
       "      <td>0</td>\n",
       "      <td>-22.321428</td>\n",
       "      <td>-3</td>\n",
       "      <td>0.00</td>\n",
       "      <td>-0.36</td>\n",
       "      <td>-0.6</td>\n",
       "      <td>0.00</td>\n",
       "      <td>0.00</td>\n",
       "      <td>0.96</td>\n",
       "    </tr>\n",
       "    <tr>\n",
       "      <th>4</th>\n",
       "      <td>2022-12-03</td>\n",
       "      <td>Eryk Anders</td>\n",
       "      <td>Kyle Daukaus</td>\n",
       "      <td>False</td>\n",
       "      <td>0.0</td>\n",
       "      <td>-0.1396</td>\n",
       "      <td>-0.158176</td>\n",
       "      <td>-1.68</td>\n",
       "      <td>0.40</td>\n",
       "      <td>189.72</td>\n",
       "      <td>...</td>\n",
       "      <td>-1.0</td>\n",
       "      <td>8</td>\n",
       "      <td>-58.874428</td>\n",
       "      <td>0</td>\n",
       "      <td>3.00</td>\n",
       "      <td>-0.60</td>\n",
       "      <td>2.0</td>\n",
       "      <td>0.64</td>\n",
       "      <td>0.60</td>\n",
       "      <td>2.36</td>\n",
       "    </tr>\n",
       "  </tbody>\n",
       "</table>\n",
       "<p>5 rows × 31 columns</p>\n",
       "</div>"
      ],
      "text/plain": [
       "        DATE         Peleador_A       Peleador_B  WINNER  KD_DIFF  \\\n",
       "0 2022-11-19  Kennedy Nzechukwu     Ion Cutelaba   False     -0.4   \n",
       "1 2022-11-19      Vince Morales      Miles Johns    True     -0.4   \n",
       "2 2022-11-19       Andre Fialho  Muslim Salikhov    True      0.4   \n",
       "3 2022-11-19      Jennifer Maia     Maryna Moroz   False      0.0   \n",
       "4 2022-12-03        Eryk Anders     Kyle Daukaus   False      0.0   \n",
       "\n",
       "   SIG_STR_DIFF   TD_DIFF  SUB_ATT_DIFF  REV_DIFF  CTRL_DIFF  ...  \\\n",
       "0       -0.1032 -0.110729          0.36      0.00     -39.60  ...   \n",
       "1       -0.0820  0.153846          0.00      0.36     -52.16  ...   \n",
       "2        0.0696 -0.192661          0.00      0.00     -54.80  ...   \n",
       "3       -0.1640 -0.069020         -1.08      0.00    -340.04  ...   \n",
       "4       -0.1396 -0.158176         -1.68      0.40     189.72  ...   \n",
       "\n",
       "   Record_DIFF  Peleas_DIFF  Puntos_DIFF  Racha_DIFF  Victorias_KO_DIFF  \\\n",
       "0         -1.0           -6    86.483419           1              -0.64   \n",
       "1          0.0            2    14.457185           0              -1.00   \n",
       "2         -4.0           -3   -62.740928           0              -0.40   \n",
       "3          2.0            0   -22.321428          -3               0.00   \n",
       "4         -1.0            8   -58.874428           0               3.00   \n",
       "\n",
       "   Victorias_Sub_DIFF  Victorias_Decision_DIFF  Derrotas_KO_DIFF  \\\n",
       "0                0.00                     -1.0             -1.00   \n",
       "1                0.00                      1.0              0.00   \n",
       "2                0.00                     -2.6              0.00   \n",
       "3               -0.36                     -0.6              0.00   \n",
       "4               -0.60                      2.0              0.64   \n",
       "\n",
       "   Derrotas_Sub_DIFF  Derrotas_Decision_DIFF  \n",
       "0              -1.96                   -1.40  \n",
       "1              -0.36                    2.36  \n",
       "2              -1.00                    1.00  \n",
       "3               0.00                    0.96  \n",
       "4               0.60                    2.36  \n",
       "\n",
       "[5 rows x 31 columns]"
      ]
     },
     "execution_count": 7,
     "metadata": {},
     "output_type": "execute_result"
    }
   ],
   "source": [
    "ruta_test = os.path.join(\"..\",\"..\",\"..\",\"data\", \"P2_dif\",\"test.parquet\")\n",
    "df_test = pd.read_parquet(ruta_test)\n",
    "df_test.head()"
   ]
  },
  {
   "cell_type": "code",
   "execution_count": 8,
   "metadata": {},
   "outputs": [
    {
     "data": {
      "text/plain": [
       "WINNER\n",
       "False    0.56343\n",
       "True     0.43657\n",
       "Name: proportion, dtype: float64"
      ]
     },
     "execution_count": 8,
     "metadata": {},
     "output_type": "execute_result"
    }
   ],
   "source": [
    "X_train = df_train.drop(columns=[\"DATE\",\"Peleador_A\",\"Peleador_B\",\"WINNER\"])\n",
    "y_train = df_train[\"WINNER\"]\n",
    "y_train.value_counts(normalize=True)"
   ]
  },
  {
   "cell_type": "code",
   "execution_count": 9,
   "metadata": {},
   "outputs": [
    {
     "data": {
      "text/plain": [
       "WINNER\n",
       "False    0.546166\n",
       "True     0.453834\n",
       "Name: proportion, dtype: float64"
      ]
     },
     "execution_count": 9,
     "metadata": {},
     "output_type": "execute_result"
    }
   ],
   "source": [
    "X_test = df_test.drop(columns=[\"DATE\",\"Peleador_A\",\"Peleador_B\",\"WINNER\"])\n",
    "y_test = df_test[\"WINNER\"]\n",
    "y_test.value_counts(normalize=True)"
   ]
  },
  {
   "cell_type": "markdown",
   "metadata": {},
   "source": [
    "### Transformaciones"
   ]
  },
  {
   "cell_type": "markdown",
   "metadata": {},
   "source": [
    "Para el modelo XGBoost no es necesario realizar transformaciones previas de las variables, como la normalización o estandarización. Como no tenemos variables categóricas, tampoco será necesario ningún tipo de codificación."
   ]
  },
  {
   "cell_type": "markdown",
   "metadata": {},
   "source": [
    "### Seleccion de variables"
   ]
  },
  {
   "cell_type": "markdown",
   "metadata": {},
   "source": [
    "El modelo XGBoostClassifier no requiere una selección explícita de variables antes del entrenamiento. Cada nodo selecciona automáticamente la variable que proporciona la mayor ganancia de información o reducción de impureza. "
   ]
  },
  {
   "cell_type": "markdown",
   "metadata": {},
   "source": [
    "### Ajuste de hiperparametros"
   ]
  },
  {
   "cell_type": "markdown",
   "metadata": {},
   "source": [
    "Para buscar una configuración óptima de hiperparámetros he utilizado dos estrategias, GridSearchCV y RandomizedSearchCV. "
   ]
  },
  {
   "cell_type": "markdown",
   "metadata": {},
   "source": [
    "#### MODELO BASELINE\n",
    "\n",
    "Creo un modelo simple que debería mejorar tras ajustar los hiperparámetros."
   ]
  },
  {
   "cell_type": "code",
   "execution_count": 32,
   "metadata": {},
   "outputs": [
    {
     "data": {
      "text/html": [
       "<style>#sk-container-id-2 {\n",
       "  /* Definition of color scheme common for light and dark mode */\n",
       "  --sklearn-color-text: #000;\n",
       "  --sklearn-color-text-muted: #666;\n",
       "  --sklearn-color-line: gray;\n",
       "  /* Definition of color scheme for unfitted estimators */\n",
       "  --sklearn-color-unfitted-level-0: #fff5e6;\n",
       "  --sklearn-color-unfitted-level-1: #f6e4d2;\n",
       "  --sklearn-color-unfitted-level-2: #ffe0b3;\n",
       "  --sklearn-color-unfitted-level-3: chocolate;\n",
       "  /* Definition of color scheme for fitted estimators */\n",
       "  --sklearn-color-fitted-level-0: #f0f8ff;\n",
       "  --sklearn-color-fitted-level-1: #d4ebff;\n",
       "  --sklearn-color-fitted-level-2: #b3dbfd;\n",
       "  --sklearn-color-fitted-level-3: cornflowerblue;\n",
       "\n",
       "  /* Specific color for light theme */\n",
       "  --sklearn-color-text-on-default-background: var(--sg-text-color, var(--theme-code-foreground, var(--jp-content-font-color1, black)));\n",
       "  --sklearn-color-background: var(--sg-background-color, var(--theme-background, var(--jp-layout-color0, white)));\n",
       "  --sklearn-color-border-box: var(--sg-text-color, var(--theme-code-foreground, var(--jp-content-font-color1, black)));\n",
       "  --sklearn-color-icon: #696969;\n",
       "\n",
       "  @media (prefers-color-scheme: dark) {\n",
       "    /* Redefinition of color scheme for dark theme */\n",
       "    --sklearn-color-text-on-default-background: var(--sg-text-color, var(--theme-code-foreground, var(--jp-content-font-color1, white)));\n",
       "    --sklearn-color-background: var(--sg-background-color, var(--theme-background, var(--jp-layout-color0, #111)));\n",
       "    --sklearn-color-border-box: var(--sg-text-color, var(--theme-code-foreground, var(--jp-content-font-color1, white)));\n",
       "    --sklearn-color-icon: #878787;\n",
       "  }\n",
       "}\n",
       "\n",
       "#sk-container-id-2 {\n",
       "  color: var(--sklearn-color-text);\n",
       "}\n",
       "\n",
       "#sk-container-id-2 pre {\n",
       "  padding: 0;\n",
       "}\n",
       "\n",
       "#sk-container-id-2 input.sk-hidden--visually {\n",
       "  border: 0;\n",
       "  clip: rect(1px 1px 1px 1px);\n",
       "  clip: rect(1px, 1px, 1px, 1px);\n",
       "  height: 1px;\n",
       "  margin: -1px;\n",
       "  overflow: hidden;\n",
       "  padding: 0;\n",
       "  position: absolute;\n",
       "  width: 1px;\n",
       "}\n",
       "\n",
       "#sk-container-id-2 div.sk-dashed-wrapped {\n",
       "  border: 1px dashed var(--sklearn-color-line);\n",
       "  margin: 0 0.4em 0.5em 0.4em;\n",
       "  box-sizing: border-box;\n",
       "  padding-bottom: 0.4em;\n",
       "  background-color: var(--sklearn-color-background);\n",
       "}\n",
       "\n",
       "#sk-container-id-2 div.sk-container {\n",
       "  /* jupyter's `normalize.less` sets `[hidden] { display: none; }`\n",
       "     but bootstrap.min.css set `[hidden] { display: none !important; }`\n",
       "     so we also need the `!important` here to be able to override the\n",
       "     default hidden behavior on the sphinx rendered scikit-learn.org.\n",
       "     See: https://github.com/scikit-learn/scikit-learn/issues/21755 */\n",
       "  display: inline-block !important;\n",
       "  position: relative;\n",
       "}\n",
       "\n",
       "#sk-container-id-2 div.sk-text-repr-fallback {\n",
       "  display: none;\n",
       "}\n",
       "\n",
       "div.sk-parallel-item,\n",
       "div.sk-serial,\n",
       "div.sk-item {\n",
       "  /* draw centered vertical line to link estimators */\n",
       "  background-image: linear-gradient(var(--sklearn-color-text-on-default-background), var(--sklearn-color-text-on-default-background));\n",
       "  background-size: 2px 100%;\n",
       "  background-repeat: no-repeat;\n",
       "  background-position: center center;\n",
       "}\n",
       "\n",
       "/* Parallel-specific style estimator block */\n",
       "\n",
       "#sk-container-id-2 div.sk-parallel-item::after {\n",
       "  content: \"\";\n",
       "  width: 100%;\n",
       "  border-bottom: 2px solid var(--sklearn-color-text-on-default-background);\n",
       "  flex-grow: 1;\n",
       "}\n",
       "\n",
       "#sk-container-id-2 div.sk-parallel {\n",
       "  display: flex;\n",
       "  align-items: stretch;\n",
       "  justify-content: center;\n",
       "  background-color: var(--sklearn-color-background);\n",
       "  position: relative;\n",
       "}\n",
       "\n",
       "#sk-container-id-2 div.sk-parallel-item {\n",
       "  display: flex;\n",
       "  flex-direction: column;\n",
       "}\n",
       "\n",
       "#sk-container-id-2 div.sk-parallel-item:first-child::after {\n",
       "  align-self: flex-end;\n",
       "  width: 50%;\n",
       "}\n",
       "\n",
       "#sk-container-id-2 div.sk-parallel-item:last-child::after {\n",
       "  align-self: flex-start;\n",
       "  width: 50%;\n",
       "}\n",
       "\n",
       "#sk-container-id-2 div.sk-parallel-item:only-child::after {\n",
       "  width: 0;\n",
       "}\n",
       "\n",
       "/* Serial-specific style estimator block */\n",
       "\n",
       "#sk-container-id-2 div.sk-serial {\n",
       "  display: flex;\n",
       "  flex-direction: column;\n",
       "  align-items: center;\n",
       "  background-color: var(--sklearn-color-background);\n",
       "  padding-right: 1em;\n",
       "  padding-left: 1em;\n",
       "}\n",
       "\n",
       "\n",
       "/* Toggleable style: style used for estimator/Pipeline/ColumnTransformer box that is\n",
       "clickable and can be expanded/collapsed.\n",
       "- Pipeline and ColumnTransformer use this feature and define the default style\n",
       "- Estimators will overwrite some part of the style using the `sk-estimator` class\n",
       "*/\n",
       "\n",
       "/* Pipeline and ColumnTransformer style (default) */\n",
       "\n",
       "#sk-container-id-2 div.sk-toggleable {\n",
       "  /* Default theme specific background. It is overwritten whether we have a\n",
       "  specific estimator or a Pipeline/ColumnTransformer */\n",
       "  background-color: var(--sklearn-color-background);\n",
       "}\n",
       "\n",
       "/* Toggleable label */\n",
       "#sk-container-id-2 label.sk-toggleable__label {\n",
       "  cursor: pointer;\n",
       "  display: flex;\n",
       "  width: 100%;\n",
       "  margin-bottom: 0;\n",
       "  padding: 0.5em;\n",
       "  box-sizing: border-box;\n",
       "  text-align: center;\n",
       "  align-items: start;\n",
       "  justify-content: space-between;\n",
       "  gap: 0.5em;\n",
       "}\n",
       "\n",
       "#sk-container-id-2 label.sk-toggleable__label .caption {\n",
       "  font-size: 0.6rem;\n",
       "  font-weight: lighter;\n",
       "  color: var(--sklearn-color-text-muted);\n",
       "}\n",
       "\n",
       "#sk-container-id-2 label.sk-toggleable__label-arrow:before {\n",
       "  /* Arrow on the left of the label */\n",
       "  content: \"▸\";\n",
       "  float: left;\n",
       "  margin-right: 0.25em;\n",
       "  color: var(--sklearn-color-icon);\n",
       "}\n",
       "\n",
       "#sk-container-id-2 label.sk-toggleable__label-arrow:hover:before {\n",
       "  color: var(--sklearn-color-text);\n",
       "}\n",
       "\n",
       "/* Toggleable content - dropdown */\n",
       "\n",
       "#sk-container-id-2 div.sk-toggleable__content {\n",
       "  max-height: 0;\n",
       "  max-width: 0;\n",
       "  overflow: hidden;\n",
       "  text-align: left;\n",
       "  /* unfitted */\n",
       "  background-color: var(--sklearn-color-unfitted-level-0);\n",
       "}\n",
       "\n",
       "#sk-container-id-2 div.sk-toggleable__content.fitted {\n",
       "  /* fitted */\n",
       "  background-color: var(--sklearn-color-fitted-level-0);\n",
       "}\n",
       "\n",
       "#sk-container-id-2 div.sk-toggleable__content pre {\n",
       "  margin: 0.2em;\n",
       "  border-radius: 0.25em;\n",
       "  color: var(--sklearn-color-text);\n",
       "  /* unfitted */\n",
       "  background-color: var(--sklearn-color-unfitted-level-0);\n",
       "}\n",
       "\n",
       "#sk-container-id-2 div.sk-toggleable__content.fitted pre {\n",
       "  /* unfitted */\n",
       "  background-color: var(--sklearn-color-fitted-level-0);\n",
       "}\n",
       "\n",
       "#sk-container-id-2 input.sk-toggleable__control:checked~div.sk-toggleable__content {\n",
       "  /* Expand drop-down */\n",
       "  max-height: 200px;\n",
       "  max-width: 100%;\n",
       "  overflow: auto;\n",
       "}\n",
       "\n",
       "#sk-container-id-2 input.sk-toggleable__control:checked~label.sk-toggleable__label-arrow:before {\n",
       "  content: \"▾\";\n",
       "}\n",
       "\n",
       "/* Pipeline/ColumnTransformer-specific style */\n",
       "\n",
       "#sk-container-id-2 div.sk-label input.sk-toggleable__control:checked~label.sk-toggleable__label {\n",
       "  color: var(--sklearn-color-text);\n",
       "  background-color: var(--sklearn-color-unfitted-level-2);\n",
       "}\n",
       "\n",
       "#sk-container-id-2 div.sk-label.fitted input.sk-toggleable__control:checked~label.sk-toggleable__label {\n",
       "  background-color: var(--sklearn-color-fitted-level-2);\n",
       "}\n",
       "\n",
       "/* Estimator-specific style */\n",
       "\n",
       "/* Colorize estimator box */\n",
       "#sk-container-id-2 div.sk-estimator input.sk-toggleable__control:checked~label.sk-toggleable__label {\n",
       "  /* unfitted */\n",
       "  background-color: var(--sklearn-color-unfitted-level-2);\n",
       "}\n",
       "\n",
       "#sk-container-id-2 div.sk-estimator.fitted input.sk-toggleable__control:checked~label.sk-toggleable__label {\n",
       "  /* fitted */\n",
       "  background-color: var(--sklearn-color-fitted-level-2);\n",
       "}\n",
       "\n",
       "#sk-container-id-2 div.sk-label label.sk-toggleable__label,\n",
       "#sk-container-id-2 div.sk-label label {\n",
       "  /* The background is the default theme color */\n",
       "  color: var(--sklearn-color-text-on-default-background);\n",
       "}\n",
       "\n",
       "/* On hover, darken the color of the background */\n",
       "#sk-container-id-2 div.sk-label:hover label.sk-toggleable__label {\n",
       "  color: var(--sklearn-color-text);\n",
       "  background-color: var(--sklearn-color-unfitted-level-2);\n",
       "}\n",
       "\n",
       "/* Label box, darken color on hover, fitted */\n",
       "#sk-container-id-2 div.sk-label.fitted:hover label.sk-toggleable__label.fitted {\n",
       "  color: var(--sklearn-color-text);\n",
       "  background-color: var(--sklearn-color-fitted-level-2);\n",
       "}\n",
       "\n",
       "/* Estimator label */\n",
       "\n",
       "#sk-container-id-2 div.sk-label label {\n",
       "  font-family: monospace;\n",
       "  font-weight: bold;\n",
       "  display: inline-block;\n",
       "  line-height: 1.2em;\n",
       "}\n",
       "\n",
       "#sk-container-id-2 div.sk-label-container {\n",
       "  text-align: center;\n",
       "}\n",
       "\n",
       "/* Estimator-specific */\n",
       "#sk-container-id-2 div.sk-estimator {\n",
       "  font-family: monospace;\n",
       "  border: 1px dotted var(--sklearn-color-border-box);\n",
       "  border-radius: 0.25em;\n",
       "  box-sizing: border-box;\n",
       "  margin-bottom: 0.5em;\n",
       "  /* unfitted */\n",
       "  background-color: var(--sklearn-color-unfitted-level-0);\n",
       "}\n",
       "\n",
       "#sk-container-id-2 div.sk-estimator.fitted {\n",
       "  /* fitted */\n",
       "  background-color: var(--sklearn-color-fitted-level-0);\n",
       "}\n",
       "\n",
       "/* on hover */\n",
       "#sk-container-id-2 div.sk-estimator:hover {\n",
       "  /* unfitted */\n",
       "  background-color: var(--sklearn-color-unfitted-level-2);\n",
       "}\n",
       "\n",
       "#sk-container-id-2 div.sk-estimator.fitted:hover {\n",
       "  /* fitted */\n",
       "  background-color: var(--sklearn-color-fitted-level-2);\n",
       "}\n",
       "\n",
       "/* Specification for estimator info (e.g. \"i\" and \"?\") */\n",
       "\n",
       "/* Common style for \"i\" and \"?\" */\n",
       "\n",
       ".sk-estimator-doc-link,\n",
       "a:link.sk-estimator-doc-link,\n",
       "a:visited.sk-estimator-doc-link {\n",
       "  float: right;\n",
       "  font-size: smaller;\n",
       "  line-height: 1em;\n",
       "  font-family: monospace;\n",
       "  background-color: var(--sklearn-color-background);\n",
       "  border-radius: 1em;\n",
       "  height: 1em;\n",
       "  width: 1em;\n",
       "  text-decoration: none !important;\n",
       "  margin-left: 0.5em;\n",
       "  text-align: center;\n",
       "  /* unfitted */\n",
       "  border: var(--sklearn-color-unfitted-level-1) 1pt solid;\n",
       "  color: var(--sklearn-color-unfitted-level-1);\n",
       "}\n",
       "\n",
       ".sk-estimator-doc-link.fitted,\n",
       "a:link.sk-estimator-doc-link.fitted,\n",
       "a:visited.sk-estimator-doc-link.fitted {\n",
       "  /* fitted */\n",
       "  border: var(--sklearn-color-fitted-level-1) 1pt solid;\n",
       "  color: var(--sklearn-color-fitted-level-1);\n",
       "}\n",
       "\n",
       "/* On hover */\n",
       "div.sk-estimator:hover .sk-estimator-doc-link:hover,\n",
       ".sk-estimator-doc-link:hover,\n",
       "div.sk-label-container:hover .sk-estimator-doc-link:hover,\n",
       ".sk-estimator-doc-link:hover {\n",
       "  /* unfitted */\n",
       "  background-color: var(--sklearn-color-unfitted-level-3);\n",
       "  color: var(--sklearn-color-background);\n",
       "  text-decoration: none;\n",
       "}\n",
       "\n",
       "div.sk-estimator.fitted:hover .sk-estimator-doc-link.fitted:hover,\n",
       ".sk-estimator-doc-link.fitted:hover,\n",
       "div.sk-label-container:hover .sk-estimator-doc-link.fitted:hover,\n",
       ".sk-estimator-doc-link.fitted:hover {\n",
       "  /* fitted */\n",
       "  background-color: var(--sklearn-color-fitted-level-3);\n",
       "  color: var(--sklearn-color-background);\n",
       "  text-decoration: none;\n",
       "}\n",
       "\n",
       "/* Span, style for the box shown on hovering the info icon */\n",
       ".sk-estimator-doc-link span {\n",
       "  display: none;\n",
       "  z-index: 9999;\n",
       "  position: relative;\n",
       "  font-weight: normal;\n",
       "  right: .2ex;\n",
       "  padding: .5ex;\n",
       "  margin: .5ex;\n",
       "  width: min-content;\n",
       "  min-width: 20ex;\n",
       "  max-width: 50ex;\n",
       "  color: var(--sklearn-color-text);\n",
       "  box-shadow: 2pt 2pt 4pt #999;\n",
       "  /* unfitted */\n",
       "  background: var(--sklearn-color-unfitted-level-0);\n",
       "  border: .5pt solid var(--sklearn-color-unfitted-level-3);\n",
       "}\n",
       "\n",
       ".sk-estimator-doc-link.fitted span {\n",
       "  /* fitted */\n",
       "  background: var(--sklearn-color-fitted-level-0);\n",
       "  border: var(--sklearn-color-fitted-level-3);\n",
       "}\n",
       "\n",
       ".sk-estimator-doc-link:hover span {\n",
       "  display: block;\n",
       "}\n",
       "\n",
       "/* \"?\"-specific style due to the `<a>` HTML tag */\n",
       "\n",
       "#sk-container-id-2 a.estimator_doc_link {\n",
       "  float: right;\n",
       "  font-size: 1rem;\n",
       "  line-height: 1em;\n",
       "  font-family: monospace;\n",
       "  background-color: var(--sklearn-color-background);\n",
       "  border-radius: 1rem;\n",
       "  height: 1rem;\n",
       "  width: 1rem;\n",
       "  text-decoration: none;\n",
       "  /* unfitted */\n",
       "  color: var(--sklearn-color-unfitted-level-1);\n",
       "  border: var(--sklearn-color-unfitted-level-1) 1pt solid;\n",
       "}\n",
       "\n",
       "#sk-container-id-2 a.estimator_doc_link.fitted {\n",
       "  /* fitted */\n",
       "  border: var(--sklearn-color-fitted-level-1) 1pt solid;\n",
       "  color: var(--sklearn-color-fitted-level-1);\n",
       "}\n",
       "\n",
       "/* On hover */\n",
       "#sk-container-id-2 a.estimator_doc_link:hover {\n",
       "  /* unfitted */\n",
       "  background-color: var(--sklearn-color-unfitted-level-3);\n",
       "  color: var(--sklearn-color-background);\n",
       "  text-decoration: none;\n",
       "}\n",
       "\n",
       "#sk-container-id-2 a.estimator_doc_link.fitted:hover {\n",
       "  /* fitted */\n",
       "  background-color: var(--sklearn-color-fitted-level-3);\n",
       "}\n",
       "</style><div id=\"sk-container-id-2\" class=\"sk-top-container\"><div class=\"sk-text-repr-fallback\"><pre>XGBClassifier(base_score=None, booster=None, callbacks=None,\n",
       "              colsample_bylevel=None, colsample_bynode=None,\n",
       "              colsample_bytree=None, device=None, early_stopping_rounds=None,\n",
       "              enable_categorical=False, eval_metric=None, feature_types=None,\n",
       "              gamma=None, grow_policy=None, importance_type=None,\n",
       "              interaction_constraints=None, learning_rate=None, max_bin=None,\n",
       "              max_cat_threshold=None, max_cat_to_onehot=None,\n",
       "              max_delta_step=None, max_depth=None, max_leaves=None,\n",
       "              min_child_weight=None, missing=nan, monotone_constraints=None,\n",
       "              multi_strategy=None, n_estimators=None, n_jobs=None,\n",
       "              num_parallel_tree=None, random_state=42, ...)</pre><b>In a Jupyter environment, please rerun this cell to show the HTML representation or trust the notebook. <br />On GitHub, the HTML representation is unable to render, please try loading this page with nbviewer.org.</b></div><div class=\"sk-container\" hidden><div class=\"sk-item\"><div class=\"sk-estimator fitted sk-toggleable\"><input class=\"sk-toggleable__control sk-hidden--visually\" id=\"sk-estimator-id-2\" type=\"checkbox\" checked><label for=\"sk-estimator-id-2\" class=\"sk-toggleable__label fitted sk-toggleable__label-arrow\"><div><div>XGBClassifier</div></div><div><span class=\"sk-estimator-doc-link fitted\">i<span>Fitted</span></span></div></label><div class=\"sk-toggleable__content fitted\"><pre>XGBClassifier(base_score=None, booster=None, callbacks=None,\n",
       "              colsample_bylevel=None, colsample_bynode=None,\n",
       "              colsample_bytree=None, device=None, early_stopping_rounds=None,\n",
       "              enable_categorical=False, eval_metric=None, feature_types=None,\n",
       "              gamma=None, grow_policy=None, importance_type=None,\n",
       "              interaction_constraints=None, learning_rate=None, max_bin=None,\n",
       "              max_cat_threshold=None, max_cat_to_onehot=None,\n",
       "              max_delta_step=None, max_depth=None, max_leaves=None,\n",
       "              min_child_weight=None, missing=nan, monotone_constraints=None,\n",
       "              multi_strategy=None, n_estimators=None, n_jobs=None,\n",
       "              num_parallel_tree=None, random_state=42, ...)</pre></div> </div></div></div></div>"
      ],
      "text/plain": [
       "XGBClassifier(base_score=None, booster=None, callbacks=None,\n",
       "              colsample_bylevel=None, colsample_bynode=None,\n",
       "              colsample_bytree=None, device=None, early_stopping_rounds=None,\n",
       "              enable_categorical=False, eval_metric=None, feature_types=None,\n",
       "              gamma=None, grow_policy=None, importance_type=None,\n",
       "              interaction_constraints=None, learning_rate=None, max_bin=None,\n",
       "              max_cat_threshold=None, max_cat_to_onehot=None,\n",
       "              max_delta_step=None, max_depth=None, max_leaves=None,\n",
       "              min_child_weight=None, missing=nan, monotone_constraints=None,\n",
       "              multi_strategy=None, n_estimators=None, n_jobs=None,\n",
       "              num_parallel_tree=None, random_state=42, ...)"
      ]
     },
     "execution_count": 32,
     "metadata": {},
     "output_type": "execute_result"
    }
   ],
   "source": [
    "base = XGBClassifier(random_state=42)\n",
    "base.fit(X_train,y_train)"
   ]
  },
  {
   "cell_type": "code",
   "execution_count": 33,
   "metadata": {},
   "outputs": [
    {
     "name": "stdout",
     "output_type": "stream",
     "text": [
      "-- Métricas del modelo con hiperparámetros ajustados --\n",
      "Accuracy: 0.5852895148669797\n",
      "F1-Score: 0.5047\n",
      "AUC-ROC: 0.5702\n",
      "Precisión: 0.5510\n",
      "Sensibilidad: 0.4655\n",
      "Log-loss: 0.8943855793762059\n"
     ]
    }
   ],
   "source": [
    "print(\"-- Métricas del modelo con hiperparámetros ajustados --\")\n",
    "y_val_pred = base.predict(X_test)\n",
    "y_val_prob = base.predict_proba(X_test)[:,1]\n",
    "print(\"Accuracy:\", accuracy_score(y_test, y_val_pred))\n",
    "f1_val = f1_score(y_test, y_val_pred)\n",
    "roc_auc_val = roc_auc_score(y_test, y_val_prob)\n",
    "precision_val = precision_score(y_test, y_val_pred)\n",
    "recall_val = recall_score(y_test, y_val_pred)\n",
    "log_loss_val = log_loss(y_test,y_val_prob)\n",
    "print(f\"F1-Score: {f1_val:.4f}\")\n",
    "print(f\"AUC-ROC: {roc_auc_val:.4f}\")\n",
    "print(f\"Precisión: {precision_val:.4f}\")\n",
    "print(f\"Sensibilidad: {recall_val:.4f}\")\n",
    "print(f\"Log-loss: {log_loss_val}\")"
   ]
  },
  {
   "cell_type": "markdown",
   "metadata": {},
   "source": [
    "El accuracy obtenido es mayor que si predijésemos siempre la clase mayoritaria."
   ]
  },
  {
   "cell_type": "code",
   "execution_count": 34,
   "metadata": {},
   "outputs": [
    {
     "data": {
      "image/png": "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",
      "text/plain": [
       "<Figure size 640x480 with 2 Axes>"
      ]
     },
     "metadata": {},
     "output_type": "display_data"
    }
   ],
   "source": [
    "# Calcular la matriz de confusión\n",
    "cm = confusion_matrix(y_test, y_val_pred)\n",
    "\n",
    "# Visualizar la matriz de confusión\n",
    "sns.heatmap(cm, annot=True, fmt='d', cmap='Blues', xticklabels=['Clase 0', 'Clase 1'], yticklabels=['Clase 0', 'Clase 1'])\n",
    "plt.xlabel('Predicción')\n",
    "plt.ylabel('Real')\n",
    "plt.title('Matriz de Confusión')\n",
    "plt.show()"
   ]
  },
  {
   "cell_type": "markdown",
   "metadata": {},
   "source": [
    "En la matriz de confusión podemos ver que el modelo no obtiene malos resultados cuando gana el favorito. Sin embargo, los resultados no son tan buenos si nos fijamos en la otra clase. Este puede estar producido por el pequeño desbalance de las clases. Trataremos de solucionarlo ajustando los hiperparámetros."
   ]
  },
  {
   "cell_type": "markdown",
   "metadata": {},
   "source": [
    "### GridSearch"
   ]
  },
  {
   "cell_type": "code",
   "execution_count": 10,
   "metadata": {},
   "outputs": [],
   "source": [
    "def train_xgboost_grid(X_train, y_train, X_val, y_val):\n",
    "    # Calcular pesos de clase para manejar desbalance de datos\n",
    "    class_weights = compute_class_weight('balanced', classes=np.unique(y_train), y=y_train)\n",
    "    scale_pos_weight = class_weights[1] / class_weights[0] if len(class_weights) > 1 else 1\n",
    "    tscv = TimeSeriesSplit(n_splits=5)\n",
    "    # Definir modelo base\n",
    "    xgb = XGBClassifier(random_state=42)\n",
    "\n",
    "\n",
    "    param_grid = {\n",
    "    'n_estimators': [100, 250],\n",
    "    'learning_rate': [0.01, 0.05],  \n",
    "    'subsample': [0.7, 1.0],  \n",
    "    'colsample_bytree': [0.5, 0.7, 1.0],  # Añadir 0.5 para más regularización\n",
    "    'gamma': [0, 0.1],  \n",
    "    'min_child_weight': [10,35,50],  # Añadir 3 como punto intermedio \n",
    "    'reg_alpha': [0.1, 1.0], \n",
    "    'reg_lambda': [0.1, 1.0], \n",
    "    'scale_pos_weight': [1, scale_pos_weight]  \n",
    "}\n",
    "\n",
    "\n",
    "    # Definir la métrica de optimización como el F1-score macro\n",
    "    f1_scorer = make_scorer(f1_score, average='macro')\n",
    "\n",
    "    # Búsqueda con validación cruzada\n",
    "    grid_search = GridSearchCV(\n",
    "        estimator=xgb,\n",
    "        param_grid=param_grid,\n",
    "        scoring=f1_scorer,\n",
    "        cv=tscv,\n",
    "        n_jobs=-1,\n",
    "        verbose=2\n",
    "    )\n",
    "\n",
    "    # Entrenar el modelo\n",
    "    grid_search.fit(X_train, y_train)\n",
    "\n",
    "    # Imprimir mejores parámetros\n",
    "    print(\"Mejores parámetros:\", grid_search.best_params_)\n",
    "\n",
    "    # Evaluar el mejor modelo en el conjunto de validación\n",
    "    y_pred = grid_search.best_estimator_.predict(X_val)\n",
    "    print(\"Reporte de clasificación:\")\n",
    "    print(classification_report(y_val, y_pred))\n",
    "\n",
    "    return grid_search.best_estimator_,grid_search.best_params_"
   ]
  },
  {
   "cell_type": "markdown",
   "metadata": {},
   "source": [
    "#### Entrenamiento usando ajuste de hiperparámetros"
   ]
  },
  {
   "cell_type": "code",
   "execution_count": 11,
   "metadata": {},
   "outputs": [
    {
     "name": "stdout",
     "output_type": "stream",
     "text": [
      "-- Entrenamiento usando ajuste de hiperparámetros con GridSearchCV --\n",
      "Fitting 5 folds for each of 1152 candidates, totalling 5760 fits\n",
      "Mejores parámetros: {'colsample_bytree': 1.0, 'gamma': 0.1, 'learning_rate': 0.01, 'min_child_weight': 10, 'n_estimators': 100, 'reg_alpha': 1.0, 'reg_lambda': 0.1, 'scale_pos_weight': np.float64(1.2905829596412555), 'subsample': 0.7}\n",
      "Reporte de clasificación:\n",
      "              precision    recall  f1-score   support\n",
      "\n",
      "       False       0.63      0.62      0.63       349\n",
      "        True       0.56      0.57      0.56       290\n",
      "\n",
      "    accuracy                           0.60       639\n",
      "   macro avg       0.60      0.60      0.60       639\n",
      "weighted avg       0.60      0.60      0.60       639\n",
      "\n"
     ]
    }
   ],
   "source": [
    "print(\"-- Entrenamiento usando ajuste de hiperparámetros con GridSearchCV --\")\n",
    "best_grid,best_params = train_xgboost_grid(X_train,y_train,X_test,y_test)\n"
   ]
  },
  {
   "cell_type": "markdown",
   "metadata": {},
   "source": [
    "#### Predicción con el conjunto de test"
   ]
  },
  {
   "cell_type": "code",
   "execution_count": 12,
   "metadata": {},
   "outputs": [
    {
     "name": "stdout",
     "output_type": "stream",
     "text": [
      "-- Métricas del modelo con hiperparámetros ajustados --\n",
      "Accuracy: 0.5978090766823161\n",
      "F1-Score: 0.5622\n",
      "AUC-ROC: 0.6145\n",
      "Precisión: 0.5556\n",
      "Sensibilidad: 0.5690\n",
      "Log-loss: 0.6751273207081139\n"
     ]
    }
   ],
   "source": [
    "print(\"-- Métricas del modelo con hiperparámetros ajustados --\")\n",
    "y_val_pred = best_grid.predict(X_test)\n",
    "y_val_prob = best_grid.predict_proba(X_test)[:,1]\n",
    "print(\"Accuracy:\", accuracy_score(y_test, y_val_pred))\n",
    "f1_val = f1_score(y_test, y_val_pred)\n",
    "roc_auc_val = roc_auc_score(y_test, y_val_prob)\n",
    "precision_val = precision_score(y_test, y_val_pred)\n",
    "recall_val = recall_score(y_test, y_val_pred)\n",
    "log_loss_val = log_loss(y_test,y_val_prob)\n",
    "print(f\"F1-Score: {f1_val:.4f}\")\n",
    "print(f\"AUC-ROC: {roc_auc_val:.4f}\")\n",
    "print(f\"Precisión: {precision_val:.4f}\")\n",
    "print(f\"Sensibilidad: {recall_val:.4f}\")\n",
    "print(f\"Log-loss: {log_loss_val}\")"
   ]
  },
  {
   "cell_type": "markdown",
   "metadata": {},
   "source": [
    "Los resultados obtenidos son mejores que los obtenidos con el modelo base. Esto indica que el ajuste de hiperparámetros es efectivo. El accuracy es cercano al 60%, lo que casi un 6% que predecir siempre la clase mayoritaria."
   ]
  },
  {
   "cell_type": "code",
   "execution_count": 13,
   "metadata": {},
   "outputs": [
    {
     "name": "stdout",
     "output_type": "stream",
     "text": [
      "Modelo guardado en MLflow\n"
     ]
    }
   ],
   "source": [
    "if mlflow.active_run():\n",
    "    mlflow.end_run()\n",
    "\n",
    "# Iniciar un nuevo experimento\n",
    "with mlflow.start_run(run_name=\"GridSearchCV\"):\n",
    "\n",
    "    # Guardar modelo en MLflow\n",
    "    mlflow.log_param(\"mejores_parametros\", best_params)\n",
    "    mlflow.log_metric(\"accuracy\", accuracy_score(y_test, y_val_pred))\n",
    "    mlflow.log_metric(\"f1_macro\", f1_score(y_test, y_val_pred))\n",
    "\n",
    "    print(\"Modelo guardado en MLflow\")"
   ]
  },
  {
   "cell_type": "markdown",
   "metadata": {},
   "source": [
    "Esta celda la utilizamos para guardar el modelo y poder saber cual fue el que mejor nos funcionó cuando los comparemos."
   ]
  },
  {
   "cell_type": "markdown",
   "metadata": {},
   "source": [
    "#### Matriz de confusión"
   ]
  },
  {
   "cell_type": "code",
   "execution_count": 14,
   "metadata": {},
   "outputs": [
    {
     "data": {
      "image/png": "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",
      "text/plain": [
       "<Figure size 640x480 with 2 Axes>"
      ]
     },
     "metadata": {},
     "output_type": "display_data"
    }
   ],
   "source": [
    "# Calcular la matriz de confusión\n",
    "cm = confusion_matrix(y_test, y_val_pred)\n",
    "\n",
    "# Visualizar la matriz de confusión\n",
    "sns.heatmap(cm, annot=True, fmt='d', cmap='Blues', xticklabels=['Clase 0', 'Clase 1'], yticklabels=['Clase 0', 'Clase 1'])\n",
    "plt.xlabel('Predicción')\n",
    "plt.ylabel('Real')\n",
    "plt.title('Matriz de Confusión')\n",
    "plt.show()"
   ]
  },
  {
   "cell_type": "markdown",
   "metadata": {},
   "source": [
    "Si nos fijamos en la matriz de confusión, hay un gran número de falsos positivos y falsos negativos. Aunque si que predice ambas clases mejor que el modelo baseline."
   ]
  },
  {
   "cell_type": "markdown",
   "metadata": {},
   "source": [
    "#### Importancia de cada variable"
   ]
  },
  {
   "cell_type": "markdown",
   "metadata": {},
   "source": [
    "Se observa que la variable con mayor peso en la predicción es Racha_DIFF, lo que sugiere que la diferencia en las rachas de victorias entre ambos peleadores es un factor determinante al momento de predecir el ganador de la pelea. \n",
    "\n",
    "Por otro lado, variables como Puntos_DIFF (diferencia entre los puntos de cada peleador) y Derrotas_Decision_DIFF presentan una importancia similar y considerable."
   ]
  },
  {
   "cell_type": "code",
   "execution_count": 15,
   "metadata": {},
   "outputs": [
    {
     "name": "stdout",
     "output_type": "stream",
     "text": [
      "                    Feature  Importance\n",
      "20               Racha_DIFF    0.068097\n",
      "19              Puntos_DIFF    0.049397\n",
      "26   Derrotas_Decision_DIFF    0.043937\n",
      "14        STR_GROUND_A_DIFF    0.043822\n",
      "24         Derrotas_KO_DIFF    0.041641\n",
      "18              Peleas_DIFF    0.040595\n",
      "9           STR_HEAD_A_DIFF    0.039352\n",
      "4                  REV_DIFF    0.037963\n",
      "5                 CTRL_DIFF    0.036412\n",
      "2                   TD_DIFF    0.035998\n",
      "7          TOTAL_STR_A_DIFF    0.035964\n",
      "15             STRIKER_DIFF    0.035457\n",
      "16            GRAPPLER_DIFF    0.035342\n",
      "3              SUB_ATT_DIFF    0.035179\n",
      "13        STR_CLINCH_A_DIFF    0.034963\n",
      "11           STR_LEG_A_DIFF    0.034853\n",
      "8                 TD_A_DIFF    0.033779\n",
      "25        Derrotas_Sub_DIFF    0.033431\n",
      "10          STR_BODY_A_DIFF    0.032885\n",
      "12      STR_DISTANCE_A_DIFF    0.032566\n",
      "21        Victorias_KO_DIFF    0.032154\n",
      "6              TD_PORC_DIFF    0.032033\n",
      "0                   KD_DIFF    0.031667\n",
      "1              SIG_STR_DIFF    0.031413\n",
      "23  Victorias_Decision_DIFF    0.030565\n",
      "22       Victorias_Sub_DIFF    0.030278\n",
      "17              Record_DIFF    0.030258\n"
     ]
    }
   ],
   "source": [
    "feature_importance = pd.DataFrame({\n",
    "    'Feature': X_train.columns,\n",
    "    'Importance': best_grid.feature_importances_\n",
    "}).sort_values(by='Importance', ascending=False)\n",
    "print(feature_importance)"
   ]
  },
  {
   "cell_type": "code",
   "execution_count": 16,
   "metadata": {},
   "outputs": [
    {
     "data": {
      "image/png": "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",
      "text/plain": [
       "<Figure size 1000x1000 with 1 Axes>"
      ]
     },
     "metadata": {},
     "output_type": "display_data"
    }
   ],
   "source": [
    "plt.figure(figsize=(10, 10))\n",
    "plt.barh(feature_importance[\"Feature\"], feature_importance[\"Importance\"], color=\"royalblue\")\n",
    "plt.xlabel(\"Permutation Importance\")\n",
    "plt.title(\"Feature Importance (Top 10)\")\n",
    "plt.yticks(fontsize=5)\n",
    "plt.grid(axis=\"x\", linestyle=\"--\", alpha=0.7)\n",
    "plt.show()"
   ]
  },
  {
   "cell_type": "markdown",
   "metadata": {},
   "source": [
    "#### Random Search"
   ]
  },
  {
   "cell_type": "code",
   "execution_count": 17,
   "metadata": {},
   "outputs": [],
   "source": [
    "def train_xgboost_random(X_train, y_train, X_val, y_val):\n",
    "    # Calcular pesos de clase para manejar desbalance de datos\n",
    "    class_weights = compute_class_weight('balanced', classes=np.unique(y_train), y=y_train)\n",
    "    scale_pos_weight = class_weights[1] / class_weights[0] if len(class_weights) > 1 else 1\n",
    "    tscv = TimeSeriesSplit(n_splits=5)\n",
    "    # Definir modelo base\n",
    "    xgb = XGBClassifier(random_state=42)\n",
    "\n",
    "    # Distribución de hiperparámetros para búsqueda aleatoria\n",
    "    \"\"\"\n",
    "    param_dist = {\n",
    "        'n_estimators': np.arange(50, 400, 50),\n",
    "        'max_depth': np.arange(3, 60, 3),\n",
    "        'learning_rate': np.linspace(0.01, 0.2, 10),\n",
    "        'subsample': np.linspace(0.5, 1.0, 6),\n",
    "        'colsample_bytree': np.linspace(0.5, 1.0, 6),\n",
    "        'gamma': np.linspace(0, 0.5, 6),\n",
    "        'min_child_weight': np.arange(1, 70, 2),\n",
    "        'scale_pos_weight': [1, scale_pos_weight]\n",
    "    }\"\n",
    "    \"\"\"\n",
    "    \n",
    "    param_dist = {\n",
    "        'n_estimators': np.arange(50, 400, 50),\n",
    "        'max_depth': np.arange(3, 40, 2),\n",
    "        'learning_rate': np.linspace(0.005, 0.2, 15),\n",
    "        'subsample': np.linspace(0.5, 1.0, 6),\n",
    "        'colsample_bytree': np.linspace(0.5, 1.0, 6),\n",
    "        'gamma': np.linspace(0, 0.5, 6),\n",
    "        'min_child_weight': np.arange(1, 70, 2),\n",
    "        'scale_pos_weight': [1, scale_pos_weight],\n",
    "        'reg_alpha': [0, 0.1, 0.5, 1], #Parámetro regularización\n",
    "        'tree_method': ['auto', 'exact', 'approx', 'hist'], #Método construcción árbol\n",
    "        'grow_policy': ['depthwise', 'lossguide'] #Política crecimiento árbol\n",
    "    }\n",
    "\n",
    "    # Definir la métrica de optimización como el F1-score macro\n",
    "    f1_scorer = make_scorer(f1_score, average='macro')\n",
    "    # Búsqueda con validación cruzada\n",
    "    random_search = RandomizedSearchCV(\n",
    "        estimator=xgb,\n",
    "        param_distributions=param_dist,\n",
    "        scoring=f1_scorer,\n",
    "        n_iter=50,\n",
    "        cv=tscv,\n",
    "        n_jobs=-1,\n",
    "        verbose=2,\n",
    "        random_state=42\n",
    "    )\n",
    "\n",
    "    # Entrenar el modelo\n",
    "    random_search.fit(X_train, y_train)\n",
    "\n",
    "    # Imprimir mejores parámetros\n",
    "    print(\"Mejores parámetros:\", random_search.best_params_)\n",
    "\n",
    "    # Evaluar el mejor modelo en el conjunto de validación\n",
    "    y_pred = random_search.best_estimator_.predict(X_val)\n",
    "    print(\"Reporte de clasificación:\")\n",
    "    print(classification_report(y_val, y_pred))\n",
    "\n",
    "\n",
    "    return random_search"
   ]
  },
  {
   "cell_type": "markdown",
   "metadata": {},
   "source": [
    "#### Entrenamiento usando ajuste de hiperparámetros"
   ]
  },
  {
   "cell_type": "code",
   "execution_count": 18,
   "metadata": {},
   "outputs": [
    {
     "name": "stdout",
     "output_type": "stream",
     "text": [
      "-- Entrenamiento usando ajuste de hiperparámetros con RandomizedSeachCV --\n",
      "Fitting 5 folds for each of 50 candidates, totalling 250 fits\n",
      "Mejores parámetros: {'tree_method': 'exact', 'subsample': np.float64(0.6), 'scale_pos_weight': np.float64(1.2905829596412555), 'reg_alpha': 0.5, 'n_estimators': np.int64(250), 'min_child_weight': np.int64(9), 'max_depth': np.int64(13), 'learning_rate': np.float64(0.005), 'grow_policy': 'depthwise', 'gamma': np.float64(0.30000000000000004), 'colsample_bytree': np.float64(1.0)}\n",
      "Reporte de clasificación:\n",
      "              precision    recall  f1-score   support\n",
      "\n",
      "       False       0.62      0.64      0.63       349\n",
      "        True       0.55      0.53      0.54       290\n",
      "\n",
      "    accuracy                           0.59       639\n",
      "   macro avg       0.59      0.59      0.59       639\n",
      "weighted avg       0.59      0.59      0.59       639\n",
      "\n"
     ]
    }
   ],
   "source": [
    "print(\"-- Entrenamiento usando ajuste de hiperparámetros con RandomizedSeachCV --\")\n",
    "resultados_random = train_xgboost_random(X_train,y_train,X_test,y_test)\n",
    "best_random = resultados_random.best_estimator_\n",
    "results_cv = resultados_random.cv_results_"
   ]
  },
  {
   "cell_type": "markdown",
   "metadata": {},
   "source": [
    "#### Predicción con el conjunto de test"
   ]
  },
  {
   "cell_type": "code",
   "execution_count": 19,
   "metadata": {},
   "outputs": [
    {
     "name": "stdout",
     "output_type": "stream",
     "text": [
      "-- Métricas del modelo con hiperparámetros ajustados --\n",
      "Accuracy: 0.593114241001565\n",
      "F1-Score: 0.5423\n",
      "AUC-ROC: 0.6084\n",
      "Precisión: 0.5540\n",
      "Sensibilidad: 0.5310\n",
      "Log-loss: 0.6753232395007853\n",
      "[[225 124]\n",
      " [136 154]]\n"
     ]
    }
   ],
   "source": [
    "print(\"-- Métricas del modelo con hiperparámetros ajustados --\")\n",
    "y_val_pred = best_random.predict(X_test)\n",
    "y_val_prob = best_random.predict_proba(X_test)[:,1]\n",
    "print(\"Accuracy:\", accuracy_score(y_test, y_val_pred))\n",
    "f1_val = f1_score(y_test, y_val_pred)\n",
    "roc_auc_val = roc_auc_score(y_test, y_val_prob)\n",
    "precision_val = precision_score(y_test, y_val_pred)\n",
    "recall_val = recall_score(y_test, y_val_pred)\n",
    "log_loss_val = log_loss(y_test,y_val_prob)\n",
    "print(f\"F1-Score: {f1_val:.4f}\")\n",
    "print(f\"AUC-ROC: {roc_auc_val:.4f}\")\n",
    "print(f\"Precisión: {precision_val:.4f}\")\n",
    "print(f\"Sensibilidad: {recall_val:.4f}\")\n",
    "print(f\"Log-loss: {log_loss_val}\")\n",
    "print(confusion_matrix(y_test, y_val_pred))"
   ]
  },
  {
   "cell_type": "code",
   "execution_count": 20,
   "metadata": {},
   "outputs": [
    {
     "name": "stdout",
     "output_type": "stream",
     "text": [
      "Modelo guardado en MLflow\n"
     ]
    }
   ],
   "source": [
    "if mlflow.active_run():\n",
    "    mlflow.end_run()\n",
    "\n",
    "# Iniciar un nuevo experimento\n",
    "with mlflow.start_run(run_name=\"RandomizedSearchCV\"):\n",
    "\n",
    "    # Guardar modelo en MLflow\n",
    "    mlflow.log_param(\"mejores_parametros\", best_params)\n",
    "    mlflow.log_metric(\"accuracy\", accuracy_score(y_test, y_val_pred))\n",
    "    mlflow.log_metric(\"f1_macro\", f1_score(y_test, y_val_pred))\n",
    "\n",
    "    print(\"Modelo guardado en MLflow\")"
   ]
  },
  {
   "cell_type": "markdown",
   "metadata": {},
   "source": [
    "El modelo obtenido mediante Random Search ha mostrado un rendimiento inferior al modelo ajustado con Grid Search. No obstante, aún sigue siendo mayor que el accuracy del modelo baseline."
   ]
  },
  {
   "cell_type": "markdown",
   "metadata": {},
   "source": [
    "#### Matriz de confusión"
   ]
  },
  {
   "cell_type": "code",
   "execution_count": 21,
   "metadata": {},
   "outputs": [
    {
     "data": {
      "image/png": "iVBORw0KGgoAAAANSUhEUgAAAhsAAAHHCAYAAAAWM5p0AAAAOnRFWHRTb2Z0d2FyZQBNYXRwbG90bGliIHZlcnNpb24zLjEwLjEsIGh0dHBzOi8vbWF0cGxvdGxpYi5vcmcvc2/+5QAAAAlwSFlzAAAPYQAAD2EBqD+naQAAQCVJREFUeJzt3Qd8FOX28PEzgRBqQpEqXZAqcCkqiBRFOkgRARFBkSZFiuCNoKh/ERVpIk1UUAQVpIiIKEUpUkQQEKRIlw5SIi2U7Ps5z313zaZAgB0mm/l972dudmdmZ55ZE+bMeZrl8Xg8AgAAYJMQuw4MAACgCDYAAICtCDYAAICtCDYAAICtCDYAAICtCDYAAICtCDYAAICtCDYAAICtCDYAuNKsWbPk3XfflatXrzpdFCDFI9gAbsGrr74qlmXZeg49vp4nJRk6dKgULlxYUqVKJeXKlQv48du3by8FCxZMdPvKlSulTZs2UrJkSVMGAPYi2EBQmDx5srnp6rJixYp423XU/Xz58pntDRs2vKlzvPnmmzJnzhxxA32anzRpktSoUUOyZs0qYWFh5ub89NNPy6+//mrruX/44Qfp37+/PPDAA6YM+r3fTn///be0atVK3nvvPalfv/5tPTfgVgQbCCpp06aVadOmxVu/dOlSOXDggLlp3qybCTYGDhwoFy5ckGCi5dWA7JlnnjFB2ksvvSTjxo2Tp556SlatWiX33nuv+S7tsmTJEgkJCZGPPvrInNOOG/7EiRNl+/btCW777bff5I033pCOHTsG/LwAEpY6kfVAsqQ3phkzZpin0tSp//311QCkQoUKcuLEidtSjnPnzkmGDBlMGWKXIxj069dPFixYICNGjJBevXr5bRs0aJBZb6djx45JunTpJE2aNLadIzQ0NNFttWrVsu28ABJGZgNBpXXr1iYNvnDhQt+6S5cuyVdffSVPPPFEgp/RRoBVqlSRbNmymZucBiW6f2xa/aIBxCeffOKrrtF6/9jtMv744w9zjixZskjVqlX9tnnpZ7yfj7tcr91FdHS09O7dW7Jnzy6ZMmWSxo0bJ5phOHjwoMlM5MyZ02RzSpUqJR9//PF1vz893oQJE+SRRx6JF2gobb/wwgsvSN68ef0yAfXq1ZPw8HDJmDGjPPzww7J69eoEq7l+/vln6dOnj7kGDcaaNm0qx48f9/uetepEv2vv96Kf3bt3r+91XHG/u3/++ceUXat99Npz5Mhhrmf9+vXXbLOh5+zbt6+pbtPPFStWzPxuxJ34Ws/XvXt3k+UqXbq07/vVAA3AzQmuRzK4nt5AKleuLJ9//rm5AarvvvtOzpw546uHj2vUqFHmxq0NAjUw+eKLL6RFixYyb948adCggdlnypQp8uyzz5oqhE6dOpl1d911l99x9DNFixY11S1xb1BenTt3jvfkrDepqVOnmpvitej5P/vsMxPQaHCk1Q3e8sV29OhRuf/++303Rb2x63fQoUMHiYqKSjCI8NL9rly5Im3btpWk2LJlizz44IMm0NB2Fpox0GBF23po1dV9993nt3+PHj1MMKYZEg0gRo4cacr45Zdf+r7nDz74QH755Rf58MMPzTq91hvRpUsXEyzqcbWBpwaf2o5n69atUr58+QQ/o/+99Hfgxx9/NN+TNkr9/vvvTZZHA7e42Rw9nvZWee6550zgp79XzZs3l/3795ugFcAN8gBBYNKkSXp396xdu9bz/vvvezJlyuQ5f/682daiRQtPzZo1zesCBQp4GjRo4PdZ735ely5d8pQuXdrz0EMP+a3PkCGDp127dvHOPWjQIHPu1q1bJ7otMX/++acnIiLC88gjj3iuXLmS6H4bNmwwx3nuuef81j/xxBNmvZ7Hq0OHDp7cuXN7Tpw44bdvq1atzLniXm9svXv3Nsf77bffPEnRpEkTT5o0aTy7du3yrTt06JD5/qtVqxbvv0+tWrU8MTExfudLlSqV5/Tp0751+h3rdx3bnj17zOf1OHHFvX69xm7dul2z3HoO/V3wmjNnjjnOG2+84bffY4895rEsy7Nz506/8+k1x163ceNGs3706NHXPC+AhFGNgqDz+OOPm0aOmpnQlLr+TKwKRWnVidepU6dMFkSf1mOn3ZP6RH0jNG2v1Qj6pK+ZmGt1sZw/f7752bNnT7/1cbMUei+cOXOmNGrUyLzWNirepU6dOubarnVdmvlQ+rSelB4r2nOkSZMmppuqV+7cuc33rU//3uN5aVYodrWSfs96nH379kmgZM6cWdasWSOHDh1K8mf0+9XvP+73q9Uq+j1qxic2zU7FzmyVKVPGZHd2794dgCsA3IdqFAQdrTbQm4E2Cj1//ry5mT322GOJ7q/BiPY+2LBhg2kX4XWj42MUKlTohvbX3g67du0yYzpcL/WuN2PtoRG36kbbFcSm7R9Onz5tqiJ0SawBZmL0hqk0SLsePZd+v3HLoEqUKCExMTHy119/mfYMXvnz5/fbTwMtb5AXKO+88460a9fOtL3Q9jfaaFh7tcQOiBL6fvPkyRMvyNLr8G6PLe51eK8lkNcBuAnBBoKSPlnrzfzIkSOm7YY+7SZk+fLlpq6+WrVqMnbsWPNUru0OtJFiQl1oryV2huR6tJ2IZjO0DUYgB63SG7x68sknzQ03IfoUnpjixYubn7///rstg2kllr1JrI3L9QK/hEb31MyWZkxmz55tMi86QNjbb79t2lh42/E4dR0AEkawgaCk1RPaGFN7RXgbHyZEqxx0bA5tDBh7DA4NNuIK1EigGuBojw6tAtFGqUlRoEABE0hoJiR2JiHuWBHenip6E76ZLpx6M9YbqQZB12skqudKnz59guNVbNu2zWRiNLsQCN4MiGZtYkus+kWDRm28qYtmcrRh6ODBgxMNNvT7XbRokcnoxM5u6HV4twOwD202EJS0C6YORKVdIrX9QmL0xqpBROwnZO0lkdDgXdpVM+7N7kYdPnzYPHlr11h94k4q700ybm8a7c0R93q0V4QGUZs3b453nNjdTBOiwYFmhDQjMHr06HjbNeAZNmyY6SKr56pdu7Z8/fXX5juL3RtGs0J6jd5qmVulx7njjjtk2bJlfus1GxWb/nfUdimxaS8frSKJXUUWl1a16Gfff/99v/XaC0V/PwKVEQGQMDIbCFqJVSPEpl1Hhw8fLnXr1jVVL/oUPGbMGClSpIhs2rTJb1+t/9enX91fb17aRiNu187r0QaIesPXbqLaxTZu9UZiVRxapaFjiOjNVW+m2h108eLFsnPnznj7vvXWW6YLp5ZNAwft/nny5EnTMFTLr6+vRYMJzaBoWbXqQUcT1cyCduvUAdP0aV+7EStt66JjmmhgoVkEHcBMu77qjV3bTgSSdv3Va9OfFStWNIHHjh07/PbRzISOAaJtdMqWLWuCTr3mtWvXmutKjAakNWvWlAEDBpjAST+rAZcGUpqBittWBkCAJdJLBUi2XV+vJaGurx999JGnaNGinrCwME/x4sXNsRLqsrpt2zbTnTNdunRmm7cbrHff48ePxztf3ONUr17dvE9oid19MyEXLlzw9OzZ05MtWzbTNbRRo0aev/76K8HPHj161HT/zJcvnyc0NNSTK1cuz8MPP+z54IMPPEmh3XA//PBDz4MPPmi6kuox9Lt7+umn43WLXb9+vadOnTqejBkzetKnT2+6Ga9cuTJJ/31+/PFHs15/Xqvrq9Iuu9qtV8ujXWsff/xxz7Fjx/yuPzo62tOvXz9P2bJlzT56HH09duzYa3Z9Vf/884/pipsnTx5zvfo7MXToUL+uukrPl1DXWj1eQl2jAVyfpf8X6AAGAADAizYbAADAVgQbAADAVgQbAADAVgQbAADAVgQbAADAVgQbAADAVgQbAADAVilyBNF0/+nudBGAZOnUWv/hugGIpE0dPPelC78F598wmQ0AAGCrFJnZAAAgWbHc/WxPsAEAgN0sS9yMYAMAALtZ7s5suPvqAQCA7chsAABgN4tqFAAAYCfL3RUJ7r56AABgOzIbAADYzaIaBQAA2Mlyd0WCu68eAADYjswGAAB2s6hGAQAAdrLcXZHg7qsHACCFGjJkiFSqVEkyZcokOXLkkCZNmsj27dt920+ePCk9evSQYsWKSbp06SR//vzSs2dPOXPmjN9x9u/fLw0aNJD06dOb4/Tr10+uXLlyQ2Uh2AAA4HZUo1gBWG7A0qVLpVu3brJ69WpZuHChXL58WWrXri3nzp0z2w8dOmSWd999VzZv3iyTJ0+WBQsWSIcOHXzHuHr1qgk0Ll26JCtXrpRPPvnE7PfKK6/c2OV7PB6PpDDp/tPd6SIAydKpte87XQQg2Ul7GxoUpKv6ckCOc2HF/930Z48fP24yExqEVKtWLcF9ZsyYIU8++aQJSFKnTi3fffedNGzY0AQlOXPmNPuMHz9eXnzxRXO8NGnSJOncZDYAAAiSzEZ0dLRERUX5LbouKbzVI1mzZr3mPuHh4SbQUKtWrZJ77rnHF2ioOnXqmPNu2bIlyZdPsAEAQBC1w4iIiPBbdN31xMTESK9eveSBBx6Q0qVLJ7jPiRMn5P/+7/+kU6dOvnVHjhzxCzSU971uSyp6owAAECS9USIjI6VPnz5+68LCwq77OW27oe0yVqxYkeB2zVRo24ySJUvKq6++KoFGsAEAQJAEG2FhYUkKLmLr3r27zJs3T5YtWyZ58+aNt/2ff/6RunXrml4rs2fPltDQUN+2XLlyyS+//OK3/9GjR33bkopqFAAAUiCPx2MCDQ0glixZIoUKFUowo6E9VLSh59y5cyVt2rR+2ytXriy///67HDt2zLdOe7Zouw7NgiQVmQ0AAOwWcvtHENWqk2nTpsnXX39tshbeNhbazkPH1fAGGufPn5fPPvvM1+BUZc+eXVKlSmW2a1DRtm1beeedd8wxBg4caI59IxkWgg0AAFLgCKLjxo0zP2vUqOG3ftKkSdK+fXtZv369rFmzxqwrUqSI3z579uyRggULmoBDq2C6du1qshwZMmSQdu3ayeuvv35DZSHYAAAgBfJcZxgtDUKSMtRWgQIFZP78+bdUFoINAADsZjERGwAAsJPl7v4Y7r56AABgOzIbAADYzaIaBQAA2Mlyd0UCwQYAAHaz3J3ZcHeoBQAAbEdmAwAAu1nufrYn2AAAwG4W1SgAAAC2IbMBAIDdLHc/2xNsAABgN4tqFAAAANuQ2QAAwG6Wu5/tCTYAALCb5e5gw91XDwAAbEdmAwAAu1nubiBKsAEAgN0sd1ckEGwAAGA3y92ZDXeHWgAAwHZkNgAAsJvl7md7gg0AAOxmUY0CAABgGzIbAADYzHJ5ZoNgAwAAm1kuDzaoRgEAALYiswEAgN0scTWCDQAAbGZRjQIAAGAfMhsAANjMcnlmg2ADAACbWQQbAADATpbLgw3abAAAAFuR2QAAwG6WuBrBBgAANrOoRgEAALAPmQ0AAGxmuTyzQbABAIDNLJcHG1SjAAAAW5HZAADAZpbLMxsEGwAA2M0SV6MaBQAA2IrMBgAANrOoRkkeoqOjzc+wsDCniwIAQEBZLg82HK1GWbhwodSvX1+yZMki6dOnN4u+1nWLFi1ysmgAAAQ02LACsAQrx4KNTz75xAQVERERMmLECJk3b55Z9HXmzJnNtilTpjhVPAAAEOzVKIMHD5aRI0dKt27d4m1r3769VK1aVV5//XVp27atI+UDACBgLHE1xzIb+/fvl1q1aiW6/eGHH5YDBw7c1jIBAGAHi2oUZ5QqVUo++uijRLd//PHHUrJkydtaJgAAkIKqUYYNGyYNGzaUBQsWmAxHzpw5zfqjR4/K4sWLZffu3fLtt986VTwAAALGCuKsRFAHGzVq1JDNmzfLuHHjZPXq1XLkyBGzPleuXFKvXj3p0qWLFCxY0KniAQAQMBbBhnM0mHj77bedLAIAAHDLoF4AAKRUFpkNAABgK0tcjYnYAACArchsAABgM8vl1SjJJrNx6dIl2b59u1y5csXpogAAEFAWg3o56/z589KhQwczCZsO9KUji6oePXrIW2+95XTxAAC4ZRbBhrMiIyNl48aN8tNPP0natGl963Wgry+//NLRsgEAgBTQZmPOnDkmqLj//vv9ojbNcuzatcvRsgEAEBCWuJrjwcbx48clR44c8dafO3cuqFNGAAB4WS6/nzlejVKxYkW/OVC8/0E+/PBDqVy5soMlAwAAKSLYePPNN+Wll16Srl27mp4oo0aNktq1a8ukSZNk8ODBThcPcbzwTG1Z8Vk/ObbiXdm3eIhMH95Rihb4NzOVJTy9DH+xhWyc/bKcXDVcdsx/XYb1f0zCM/7bHkdd+O39eEuLOhUcuCIgMNb9ulZ6PNdFatWoKmVLFZMlixf5tl2+fFlGDBsqzZs0kvsqljP7DIjsL8eOHU20d97jzR41x9m2dettvAqkpAaiQ4YMkUqVKkmmTJlMDUKTJk1Mr8/YLl68KN26dZNs2bJJxowZpXnz5mZC1Ni040aDBg1MRw49Tr9+/W6456jjwUbVqlVlw4YNpuD33HOP/PDDD+ZiVq1aJRUqcPNJbh4sX0TGf7lMqj/1rjTs+r6kTp1K5o3rLunTpjHbc2ePMEvkiNlSocWb0nHQZ/JIlZIyflCbeMfq+MoUKVgr0rfM/XGjA1cEBMaFC+elWLFiEjlwULxt+g/6tq1/SKcuXeXLGbNk+Kj3Ze+ePfJ8964JHmvEsHckewLVywhelgPBxtKlS00goZOdLly40AS9+jCvzRS8evfuLd98843MmDHD7H/o0CFp1qyZb/vVq1dNoKEB8MqVK+WTTz6RyZMnyyuvvHJj1+/xeDySwqT7T3eni+Aad2TJKH8teUtqdRghP69PuEFvs1r/kY8HPyXZqvSVq1djzDrNZDze+wP55qdNt7nE7nZq7ftOF8EVNCMx4r0x8tDDtRLdZ/Pvm6RNqxayYOGPkjtPHt/6FcuXyrvvvCXDRoyWZo82kC+/miPFS5S4TSV3p7S3ofViwefnBeQ4e0c1vOU2khpUVKtWTc6cOSPZs2eXadOmyWOPPWb22bZtm5QoUcI88GvHje+++04aNmxogpCcOXOafcaPHy8vvviiOV6aNP970Ez2mY3169fL77//7nv/9ddfm1SPVq1oJIXkzVs9curM+cT3yZRWos5d9AUaXiMjHzeByvIpL8hTj95ve1mB5OTs2bPmSTVTeLhv3d8nTshrg16WwUPekbTp/KseEdysZDDOhgYXKmvWrObnunXrTLZDh5rwKl68uOTPn98EG0p/aq2DN9BQderUkaioKNmyZUuSz+14sNG5c2fZsWOHeb17925p2bKlqRfSlE7//v2dLh6uQX/xh77wmKz8bZf8setwgvtky5xBIjvWk49nrvRb/9rYefJk/49NVcycxRtkVGRLea519dtUcsBZ0dHRMnL4u1KvfgNTT640yfzygP9Ki8dbSanS9zhdRASaFZhFf3f0Rh970XXXExMTI7169ZIHHnhASpcubdYdOXLEZCYyZ87st68GFrrNu0/sQMO73bstaIINDTTKlStnXmuAUb16dZPS0TqhmTNnXvfzCX3xnpirt6Hk0MxEqSK55an/Tkpwe6YMaWX2e11l6+7D8saEf3scqbcmLpBVG3fLxu0HZNjkRTL8k0XS+6nEU85ASqFPkv36PG+CiwGvvOZbP23qFFOX3qFjZ0fLh+RtyJAhEhER4bfouuvRthubN2+WL774QpzgeLChf3AacalFixZJ/fr1zet8+fLJiRMnbuqLv3J0ne3ldrsRL7aQ+g+Wljod35ODx07H254xfZjMHfOc/HP+orTsM1GuXPGvQolr7e97JW+uLJIm1PGhXwB7A42+veTwoUMy4cOPfVkNtXbNatm0cYNU+s89Ur5MSWlUr7ZZ/0TL5jIw8kUHS43kVI0SGRlpqkNiL7ruWrp37y7z5s2TH3/8UfLmzetbnytXLtNc4fRp/3/DtTeKbvPuE7d3ive9d5+gGWfjjTfekClTpphGK9rqVe3Zsyde6iYhCX3xqXPSi8XuQKPxQ2Wlbuf3ZN+hvxPMaGgPlUuXr8pjvSZI9KXrd5EqUyyvnDxzTi5dZiI+pOxAY/++fTLho8mSOXMWv+0vRg6U6bO+li9nzjHL++M+MOvfeXeE9Hi+t0OlRnILNsLCwiQ8PNxv0XWJPcxroDF79mxZsmSJFCpUyG+79vgMDQ2VxYsX+9Zp11jt6uod50p/arvKY8eO+fbRni163pIlSyb5+h1/jBw5cqS0adPGDFs+YMAAKVKkiFn/1VdfSZUqVa77ef2S437RVkgq28rrdlp10rJeRWnR+wM5e+6i5MyWyaw/c/aiXIy+/L9AY2w3SZc2jTw94BMJz5DWLOr4qbMSE+OR+tVKS45smeSXTXvl4qXL8vD9xaV/h9oy8tN/f+GBYHP+3DnfRJLq4IEDZowMzbbekT27vNC7p2zd+oeMHjNBYq5elRPHj5v9dHtomjR+PVKUtl1TefPll5w38ASJ5MlyYABRrTrRZgna8ULH2vC2sdDfuXTp0pmfOhFqnz59TKNRDSB0ElQNMLQnitKushpUtG3bVt555x1zjIEDB5pjJxbkBFXXV+2XnipVKhN13Si6vtpHu6wmRMfM+OybNfJghaLyw4fPJ7hPsfqvyP7DJ+WRKiXk9R6N5a582U2kvuuv4zJxxnL5eNZKE4nDPnR9tc/aX9bIs08/FW9940ebSpdu3aV+7YcT/NyHkz6VSvfeF2/9wYMHzGfo+poyur4WeeG7gBxn57v1krxvYr1XdNDM9u3b++61ffv2lc8//9y0gdSeJmPHjvWrItm3b58ZeFMnTM2QIYO0a9fOzMqeOnXq4A82bgXBBpAwgg3AmWCjaL8FATnOn0PrSjByvBpFRycbMWKETJ8+3aQg446tcfLkScfKBgBAIFjunofN+Qair732mgwfPtyMr6GNO7XuSIdKDQkJkVdffdXp4gEAgGAPNqZOnSoTJ040dUZa/9O6dWsz46uOu67juQMAEOysZDCCqKuDDW3ZqkOhKu1z7h1OVcdijz31PAAAwcqyArMEK8eDDR1g5PDh/w11fdddd5lZX9XatWtvqFsNAABInhwPNpo2beobUET797788stStGhReeqpp+SZZ55xungAANyykBArIEuwcrw3ivbV9dJGot7Z5jTgaNSokaNlAwAgEKzgjRNSRrARl45c5h0mFQAABD9Hgo25c+cmed/GjRvbWhYAAOxmuTy14Uiw0aRJkyT/x9FBvwAACGaWu2MNZ4IN75TyAAC4geXyaMPx3igAACBlcyzYWLJkiZm2NioqKt42HdirVKlSsmzZMkfKBgBAIFmMIOqMkSNHSseOHSU8PDzetoiICOncubOZoA0AgGBnMYKoMzZu3Ch16yY+VW7t2rVl3bp1t7VMAAAgBY2zcfToUQkNDU10u07Kdvz48dtaJgAA7GAFc1oimDMbd955p2zevDnR7Zs2bZLcuXPf1jIBAGAHi2oUZ9SvX9/Mg3Lx4sV42y5cuCCDBg0yM78CAIDg5lg1ysCBA2XWrFly9913S/fu3aVYsWJm/bZt22TMmDFmMK8BAwY4VTwAAALGCua0RDAHGzlz5pSVK1dK165dJTIyUjwej+8/SJ06dUzAofsAABDsLHfHGs5OxFagQAGZP3++nDp1Snbu3GkCDp3tNUuWLE4WCwAApLRZXzW4qFSpktPFAADAFpbLUxvJItgAACAls9wdaxBsAABgN8vl0QYTsQEAAFuR2QAAwGaWuxMbBBsAANjNcnm0QTUKAACwFZkNAABsZrk7sUGwAQCA3SyXRxtUowAAAFuR2QAAwGaWuxMbBBsAANjNcnm0QTUKAACwFZkNAABsZrk8s0GwAQCAzSx3xxoEGwAA2M1yebRBmw0AAGArMhsAANjMcndig2ADAAC7WS6PNqhGAQAAtiKzAQCAzSx3JzYINgAAsFuIy6MNqlEAAICtyGwAAGAzy92JDYINAADsZrk82iDYAADAZiHujjVoswEAAOxFZgMAAJtZVKMAAAA7We6ONahGAQAA9iKzAQCAzSxxd2qDYAMAAJuFuDvWoBoFAADYi8wGAAA2s1zeQpRgAwAAm1nujjWoRgEAAPYiswEAgM1CXJ7aINgAAMBmlrtjDYINAADsZrk82qDNBgAAsBWZDQAAbGa5O7FBsAEAgN1CXB5tUI0CAEAKtWzZMmnUqJHkyZPHtBuZM2eO3/azZ89K9+7dJW/evJIuXTopWbKkjB8/3m+fixcvSrdu3SRbtmySMWNGad68uRw9evSGykGwAQCAzawALTfq3LlzUrZsWRkzZkyC2/v06SMLFiyQzz77TLZu3Sq9evUywcfcuXN9+/Tu3Vu++eYbmTFjhixdulQOHTokzZo1u6FyUI0CAEAK7Y1Sr149syRm5cqV0q5dO6lRo4Z536lTJ5kwYYL88ssv0rhxYzlz5ox89NFHMm3aNHnooYfMPpMmTZISJUrI6tWr5f77709SOchsAAAQJKKjoyUqKspv0XU3q0qVKiaLcfDgQfF4PPLjjz/Kjh07pHbt2mb7unXr5PLly1KrVi3fZ4oXLy758+eXVatWJfk8BBsAANyGKeZDArAMGTJEIiIi/BZdd7NGjx5t2mlom400adJI3bp1TZVLtWrVzPYjR46Y9ZkzZ/b7XM6cOc22pKIaBQCAIKlGiYyMNO0sYgsLC7ulYEOrQzS7UaBAAdOgVBuDaoPS2NmMW0WwAQBAkAgLC7ul4CK2CxcuyEsvvSSzZ8+WBg0amHVlypSRDRs2yLvvvmuCjVy5csmlS5fk9OnTftkN7Y2i25KKahQAAGxmWYFZAknbYugSEuIfCqRKlUpiYmLM6woVKkhoaKgsXrzYt3379u2yf/9+qVy5cpLPRWYDAIAU2hvl7NmzsnPnTt/7PXv2mMxF1qxZTSPP6tWrS79+/cwYG1qNol1bP/30Uxk+fLjZX9uEdOjQwVTd6GfCw8OlR48eJtBIak8URbABAIDNQhwaQPTXX3+VmjVr+t5723tod9fJkyfLF198YdqBtGnTRk6ePGkCjsGDB0uXLl18nxkxYoTJfuhgXtrzpU6dOjJ27NgbKofl0b4uKUy6/3R3ughAsnRq7ftOFwFIdtLehsfu9p9vCshxJrcuI8GIzAYAADazXD43CsEGAAA2s8Tdkhxs3Mg46LNmzbrZ8gAAALcGG9oiFQAA3LgQqlGSRideAQAAN85yd6zBoF4AACCZNhD96quvZPr06WYUMR3KNLb169cHomwAAKQIlstTGzeV2Xjvvffk6aefNrO+/fbbb3LvvfdKtmzZZPfu3VKvXr3AlxIAgCBmJcPhypN9sKEjh33wwQdmtjiderZ///6ycOFC6dmzp5w5cybwpQQAAO4KNrTqpEqVKua1jqf+zz//mNdt27aVzz//PLAlBAAgBfRGCQnA4qpgQ6eV1THUlU7ksnr1at8ELylw9HMAAG6JRTXKjXvooYdk7ty55rW23ejdu7c88sgj0rJlS2natGmgywgAQNA3ELUCsLiqN4q21/DOdd+tWzfTOHTlypXSuHFj6dy5c6DLCAAAgliKnPV1798XnS4CkCxtO/K/9lUA/lW3VHbbz9Fj9taAHGd00xLiqkG9li9fLk8++aRUrlxZDh48aNZNmTJFVqxYEcjyAQAQ9CyXV6PcVLAxc+ZMqVOnjumJouNsREdHm/Xa7fXNN98MdBkBAEAQu6lg44033pDx48fLxIkTJTQ01Lf+gQceYPRQAADiCLECs7iqgej27dulWrVqCc4Me/r06UCUCwCAFCMkiAMFR8fZ2LlzZ7z12l6jcOHCgSgXAABwc7DRsWNHef7552XNmjWmwcqhQ4dk6tSp0rdvX+natWvgSwkAQBCzXN5A9KaqUf773/+acTYefvhhOX/+vKlSCQsLk379+smzzz4b+FICABDEQoI3TnAus6HR1YABA8yQ5Zs3bzbDlR8/fty02ShUqFDgSwkAANwRbGgX18jISKlYsaLpeTJ//nwpWbKkbNmyRYoVKyajRo0yQ5cDAIB/WS6fG+WGqlFeeeUVmTBhgtSqVcsMT96iRQszN4pmNoYNG2bep0qVyr7SAgAQhEKCOVK43cHGjBkz5NNPPzVzoGj1SZkyZeTKlSuycePGoG64AgBAshyu243Xf+DAAalQoYJ5Xbp0adMoVKtNCDQAAEBAMhtXr16VNGnS/Pvh1KklY8aMN3IIAABcx3L5M/kNBRs6QWz79u1NRkNdvHhRunTpIhkyZPDbb9asWYEtJQAAQSzE5dHGDQUb7dq183uvs74CAAAELNiYNGnSjewOAACEapSbGkEUAAAkXYjLgw2398YBAAA2I7MBAIDNQlxej0KwAQCAzSx3xxpUowAAAHuR2QAAwGYhLs9sEGwAAGAzS9wdbRBsAABgsxB3xxq02QAAAPYiswEAgM1CXJ7ZINgAAMBmlsv7vlKNAgAAbEVmAwAAm4W4O7FBsAEAgN0slwcbVKMAAABbkdkAAMBmIS5PbRBsAABgsxB3xxpUowAAAHuR2QAAwGaWyzMbBBsAANgshInYAACAnSx3xxq02QAAAPYiswEAgM1CXJ7ZINgAAMBmIS6vR6EaBQAA2IrMBgAANrPcndgg2AAAwG4hLo82qEYBAAC2IrMBAIDNLHcnNgg2AACwW4i4m9uvHwAA2IzMBgAANrNcXo9CZgMAAJtZAVpu1LJly6RRo0aSJ08eE/DMmTMn3j5bt26Vxo0bS0REhGTIkEEqVaok+/fv922/ePGidOvWTbJlyyYZM2aU5s2by9GjR2+oHAQbAADchq6vIQFYbtS5c+ekbNmyMmbMmAS379q1S6pWrSrFixeXn376STZt2iQvv/yypE2b1rdP79695ZtvvpEZM2bI0qVL5dChQ9KsWbMbKofl8Xg8ksLs/fui00UAkqVtR/5xughAslO3VHbbz/HZugMBOc6TFfLe9Gc1szF79mxp0qSJb12rVq0kNDRUpkyZkuBnzpw5I9mzZ5dp06bJY489ZtZt27ZNSpQoIatWrZL7778/SecmswEAQJBUo0RHR0tUVJTfoutuRkxMjHz77bdy9913S506dSRHjhxy3333+VW1rFu3Ti5fviy1atXyrdMsSP78+U2wkVQEGwAA2MyyArMMGTLEtK2Ivei6m3Hs2DE5e/asvPXWW1K3bl354YcfpGnTpqaKRKtL1JEjRyRNmjSSOXNmv8/mzJnTbEsqeqMAABAkIiMjpU+fPn7rwsLCbjqzoR599FHTLkOVK1dOVq5cKePHj5fq1atLoBBsAAAQJF1fw8LCbjq4iOuOO+6Q1KlTS8mSJf3Wa3uMFStWmNe5cuWSS5cuyenTp/2yG9obRbclFdUoAADYLCRASyBp9Yh2c92+fbvf+h07dkiBAgXM6woVKpgGpIsXL/Zt1/21a2zlypWTfC4yGwAApFBnz56VnTt3+t7v2bNHNmzYIFmzZjWNPPv16yctW7aUatWqSc2aNWXBggWmm6t2g1XaJqRDhw6m6kY/Ex4eLj169DCBRlJ7oiiCDQAAUugIor/++qsJIry87T3atWsnkydPNg1CtX2GNjLt2bOnFCtWTGbOnGnG3vAaMWKEhISEmMG8tOeL9lwZO3bsDZWDcTYAF2GcDcCZcTZmbDgUkOO0KJdHghFtNgAAgK2oRgEAwGaWyydiI9gAAMBmIeJuBBsAANjMcnlmw+3BFgAAsBmZDQAAbGaJuxFsAABgM8vl0QbVKAAAwFZkNgAAsFmIyytSkm1mY+vWrVK4cGGniwEAQECqUawALMEq2QYbOqXtvn37nC4GAAAI1moU72QwiTl+/PhtKwsAAHayXF6N4liwMWrUKClXrpyZrjaxaXEBAEgJLHfHGs4FG0WKFJHevXvLk08+meD2DRs2SIUKFW57uQAAQApps1GxYkVZt27dNYd29Xg8t7VMAADY1RslJABLsHIsszFs2DCJjo5OdHvZsmUlJibmtpYJAAA7WMEbJwR3sJErVy6nTg0AwG1luTzYSLZdXwEAQMrACKIAANjMCuL2FoFAsAEAgM1C3B1rUI0CAABcEmzo8OTbt2+XK1euOF0UAAACXo1iBeB/wcrxYOP8+fPSoUMHSZ8+vZQqVUr2799v1vfo0UPeeustp4sHAMAts5iIzVmRkZGyceNG+emnnyRt2rS+9bVq1ZIvv/zS0bIBAIAU0EB0zpw5Jqi4//77zaihXprl2LVrl6NlAwAgEKwgrgJJEcGGzu6aI0eOeOvPnTvnF3wAABCsQlx+O3O8GkXnSPn22299770BxocffiiVK1d2sGQAACBFZDbefPNNqVevnvzxxx+mJ4pOPa+vV65cKUuXLnW6eEjA77+tkxnTJsuf27fKyRPHZdCQEVKl+kO+7VM+HCc/LVogx48dkdDQUClSrKQ83bm7FC9Vxu84a35eJlMnTZA9O/+UNGFp5J5yFeXVt0c6cEXArdu5ZYMs+Xqa/LVru0Sd+ls6vPimlLmvmm/71NGD5Zcfv/P7TPFy90rXV4bHO9aVy5dk+Iud5ODendJv2CTJW6jobbkG2MeiGsVZVatWNdPJa8+Te+65R3744QcpX768rFq1yrxH8nPx4gUpXKSY1GnYRF6P7BNv+535C0i3vpGSO09eiY6+KLO//Ewie3WVSdO/kcxZspp9lv+4SEa+9Zo83aWHlKtwr1y9elX27t7pwNUAgXEp+oLcWbCI3PdQA/n4nQEJ7lPiP/fJE91f8r1PHRqa4H5ffzpWwrPeYYINpAyWu2MN54MNddddd8nEiROdLgaSqFLlqmZJzEO16/u979TzBVnwzWzZs+tP+U/F++TqlSsyfuTb0rF7b6nbqJlvvwKF7rK13ICdSpavbJZrSR2aRsKzZLvmPn+sXyXbN6yVZ/q/IVvXrw5wKeEUS9zN8WBj/fr1JtXuzWJ8/fXXMmnSJClZsqS8+uqrkiZNGqeLiFtw+fJlmf/1TMmQMZMULnK3Wffnjq1y4vgxsawQea7d43Lq5N9SuGgx6dittxS8i3QxUq6dm3+TAe0bSvqMmaToPRWkwRMdJUOmCN/2qNMn5Yux78iz/x0ioWH/DgUABDvHG4h27txZduzYYV7v3r1bWrZsaQb4mjFjhvTv3/+6n4+OjpaoqCi/RdfBWat/XiqPPny/NKpRSWZ/MUWGjBwvEZmzmG1HDh4wPz/7aLy0bt9JXh86WjJmCpd+3Z+VqKgzDpccsIdWobTpOVC6vTZKGrXtatp4jP+/FyTm6lWz3ePxyLTRg+WBOo9K/iLFnS4uAizEsgKyBCvHgw0NNMqVK2dea4BRvXp1mTZtmkyePFlmzpx53c8PGTJEIiIi/JZxI4fehpLjWsqVryRjP5kuIyZ8KhXvf0AGv9xPTp/822yL8XjMz9btnpUHa9aSosVLSt8Br5ueSMuX/OBwyQF7lK9aS+65t6rkKXCXaTja6aW3Zf/OrfLnlt/M9mXzv5KLF87LI83aOl1U2MAK0BKsHK9G0Wg+JibGvF60aJE0bNjQvM6XL5+cOHEiSSOQ9unj30jx8Nn/3czgnLTp0sudefObpUTpMvL0441kwbw50uqpDpI12x1mn/yFCvv21+qyXHnulGNHjjhYauD2uSPXnZIhPLOcOHxAipWpKH/+vl727tgifVv+27NLDev3rFSo9og82XOgY2UFgj7Y0HE23njjDTM8uXZ1HTdunFm/Z88eyZkz53U/HxYWZpbYTl6+aFt5cXM8MTFy+dIl81ozGaFp0siB/XuldNnyZt2VK5fl6OFDkjNXbodLCtwep08ck/P/nJHwLP8Lvpt1eF7qt+7o2x516oSMe72PtOv7mhQsWtLBkiIgLHE1x4ONkSNHSps2bcyw5QMGDJAiRYqY9V999ZVUqVLF6eIhARfOn5dDB/43YZ46cvig7NqxTTKFR0h4RIRM++RDqVy1hslgRJ05LXNnfiEnThyTBx96xOyfIUNGadCkhRmPI3uOXJIjVx75atpks+3Bh2o7dl3ArYi+cF6OHznoe//3scNyYM+fpjFohozhsmD6JCl7f3XJlCWbnDhyUOZ+OtZkN0r8516zf9bsufyOF5Yunfmp+2S+I/4oywgulsujDceDjTJlysjvv/8eb/3QoUMlVapUjpQJ17Zj2xbp3/1Z3/sJ771rfj5Sv7H07DdQDuzbI/83f64JNDJFZJa7i5eSYWMnScHC/wsklXZ71f++77w+QC5FR0uxUvfI26MnSqbwcEeuCbhV+3dtk/df6el7P2fSaPPz3pr1pEWnF+TQvl1mUK8L589KRJY7pFi5SiaTod1hgZTO8mijiRRm799UowAJ2XbkH6eLACQ7dUtlt/0cv+wOTE+7ewv/21U6mDie2dCRI0eMGCHTp0+X/fv3y6X/X6/vdfLkScfKBgBAIFjibo53fX3ttddk+PDhZnyNM2fOmJ4lzZo1k5CQEDOoFwAACG6OBxtTp041Q5X37dtXUqdOLa1btzYzvr7yyiuyejVD9QIAUgDL3QNtOB5sHDlyxDdUecaMGU12Q+l4G7GnngcAIJh7o1gB+F+wcjzYyJs3rxw+fNg3IZvO+qrWrl0bb/wMAACCkWUFZglWjgcbTZs2lcWLF5vXPXr0kJdfflmKFi0qTz31lDzzzDNOFw8AAKS0rq+rVq0yiwYcjRo1uqlj0PUVSBhdXwFnur6u3xsVkOOULxicYxE53vU1rsqVK5sFAIAUwxJXcyTYmDt3bpL3bdy4sa1lAQAAKTDYaNKkSZL20ynHddAvAACCmeXy1IYjwYZ3SnkAANzAcnes4XxvFAAAkLI5FmwsWbJESpYsKVFR8Vvo6sBepUqVkmXLljlSNgAAAsly9wCizgUbI0eOlI4dO0p4AlOKR0RESOfOnc0EbQAABD3L3dGGY8HGxo0bpW7duolur127tqxbt+62lgkAAKSgcTaOHj0qoaGhiW7XSdmOHz9+W8sEAIAdrGBOSwRzZuPOO++UzZs3J7p906ZNkjt37ttaJgAA7GAxN4oz6tevb+ZBuXgx/tDiFy5ckEGDBpmZXwEACHaWu5tsODc3ilajlC9fXlKlSiXdu3eXYsWKmfXbtm2TMWPGmMG81q9fLzlz5rzhYzM3CpAw5kYBnJkbZfOBswE5Tum8GSUYOdZmQ4OIlStXSteuXSUyMlK8MY+OGlqnTh0TcNxMoAEAQLJjias5OhFbgQIFZP78+XLq1CnZuXOnCTh0ttcsWbI4WSwAAALKcnm0kSxmfdXgolKlSk4XAwAApNRgAwCAlMxyd2KDYAMAALtZ4m5MxAYAQAq1bNkyadSokeTJk8d0wJgzZ06i+3bp0sXso9OJxHby5Elp06aNmV4kc+bM0qFDBzl79sZ61xBsAACQQgfaOHfunJQtW9b08LyW2bNny+rVq01QEpcGGlu2bJGFCxfKvHnzTADTqVOnGyoH1SgAAKTQ3ij16tUzy7UcPHhQevToId9//700aNDAb9vWrVtlwYIFsnbtWqlYsaJZN3r0aDMw57vvvptgcJIQMhsAAASJ6OhoiYqK8lt03c2KiYmRtm3bSr9+/aRUqVLxtq9atcpUnXgDDVWrVi0JCQmRNWvWJPk8BBsAAATJ3ChDhgyRiIgIv0XX3ay3337bTHzas2fPBLcfOXJEcuTI4bdO98+aNavZllRUowAAYDMrQMfREbf79Onjty4sLOymjrVu3ToZNWqUmRpEG4baicwGAABB0kA0LCzM9AqJvdxssLF8+XI5duyY5M+f32QrdNm3b5/07dtXChYsaPbJlSuX2Se2K1eumB4qui2pyGwAAOBCbdu2Ne0vYtO5yXT9008/bd5XrlxZTp8+bbIgFSpUMOuWLFli2nrcd999ST4XwQYAACm0N8rZs2fN3GNee/bskQ0bNpg2F5rRyJYtm9/+oaGhJmPhnYm9RIkSUrduXenYsaOMHz9eLl++bGZqb9WqVZJ7oiiCDQAAUuhw5b/++qvUrFnT997b3qNdu3YyefLkJB1j6tSpJsB4+OGHTS+U5s2by3vvvXdD5bA83rndU5C9f190ughAsrTtyD9OFwFIduqWym77OXYeuxCQ4xTJkU6CEZkNAABsZom7EWwAAGA3S1yNrq8AAMBWZDYAAEihvVGSC4INAABSaG+U5IJqFAAAYCsyGwAA2MwSdyPYAADAbpa4GsEGAAA2s1webdBmAwAA2IrMBgAANrPcndgg2AAAwG6WuBvVKAAAwFZkNgAAsJnl8tQGwQYAALazxM2oRgEAALYiswEAgM0sdyc2CDYAALCbJe5GNQoAALAVmQ0AAGxmuTy1QbABAIDNLJdXpBBsAABgN0tcjTYbAADAVmQ2AACwmSXuRrABAIDNLJdHG1SjAAAAW5HZAADAZpbLK1IINgAAsJslrkY1CgAAsBWZDQAAbGaJuxFsAABgM8vl0QbVKAAAwFZkNgAAsJnl8ooUgg0AAGxmuTvWoBoFAADYi2ADAADYimoUAABsZrm8GoVgAwAAm1kubyBKNQoAALAVmQ0AAGxmuTuxQbABAIDdLHE3qlEAAICtyGwAAGA3S1yNYAMAAJtZLo82qEYBAAC2IrMBAIDNLHcnNgg2AACwmyXuRrABAIDdLHE12mwAAABbkdkAAMBmlstTGwQbAADYzHJ3rEE1CgAAsJfl8Xg8Np8DLhUdHS1DhgyRyMhICQsLc7o4QLLB3wbchmADtomKipKIiAg5c+aMhIeHO10cINngbwNuQzUKAACwFcEGAACwFcEGAACwFcEGbKMN3wYNGkQDOCAO/jbgNjQQBQAAtiKzAQAAbEWwAQAAbEWwAQAAbEWwgSSxLEvmzJnjdDGAZIW/CyBpCDYgR44ckR49ekjhwoVN6/h8+fJJo0aNZPHixZKc/PTTT1K+fHlTxiJFisjkyZOdLhJSsGD4uzh8+LA88cQTcvfdd0tISIj06tXL6SIBCSLYcLm9e/dKhQoVZMmSJTJ06FD5/fffZcGCBVKzZk3p1q2bJBd79uyRBg0amHJt2LDB/KP67LPPyvfff+900ZACBcvfhc6xkj17dhk4cKCULVvW6eIAidOur3CvevXqee68807P2bNn4207deqU77X+qsyePdv3vn///p6iRYt60qVL5ylUqJBn4MCBnkuXLvm2b9iwwVOjRg1PxowZPZkyZfKUL1/es3btWt/25cuXe6pWrepJmzatJ2/evJ4ePXokWIbY5ytVqpTfupYtW3rq1KlzS9cPBPPfRWzVq1f3PP/887dw1YB9yGy42MmTJ83Tmj6pZciQId72zJkzJ/rZTJkymWqMP/74Q0aNGiUTJ06UESNG+La3adNG8ubNK2vXrpV169bJf//7XwkNDTXbdu3aJXXr1pXmzZvLpk2b5Msvv5QVK1ZI9+7dEz3fqlWrpFatWn7r6tSpY9YDbv27AIKGjYEMkrk1a9aYJ7NZs2Zdd9+4T3BxDR061FOhQgXfe31qmzx5coL7dujQwdOpUye/dfpEFxIS4rlw4UKCn9GnxTfffNNv3bfffmvKdf78+euWH0iJfxexkdlAcpba6WAHzrmVwWP1qeu9994zT2Nnz56VK1eu+E2V3adPH9OmYsqUKSYj0aJFC7nrrrvMto0bN5ont6lTp/qVJSYmxrTNKFGixC1eGXDz+LsAAo9qFBcrWrSo6bq3bdu2G/qcVl1oOrh+/foyb948+e2332TAgAFy6dIl3z6vvvqqbNmyxTTq1EZ2JUuWlNmzZ5tt+o9w586dTUNP76L/0P7555++f3jjypUrlxw9etRvnb7Xf8jTpUt3U9cPBPvfBRAsyGy4WNasWU27hzFjxkjPnj3j1U+fPn06wfrplStXSoECBcw/pF779u2Lt592x9Old+/e0rp1a5k0aZI0bdrUdF/VOm3tvppUlStXlvnz5/utW7hwoVkPuPXvAggWZDZcTv9BvXr1qtx7770yc+ZM8xS1detWkwpO7EauT3779++XL774wqSLdV/v05m6cOGCadSm42LoP7Y///yzaRDnTQO/+OKL5h9m3Uef3vScX3/99TUbwnXp0kV2794t/fv3N0+cY8eOlenTp5t/sAG3/l0obxZEMyPHjx83rzVoAZIVpxuNwHmHDh3ydOvWzVOgQAFPmjRpTJe/xo0be3788cdEG8L169fPky1bNtOFT7ugjhgxwhMREWG2RUdHe1q1auXJly+fOV6ePHk83bt392vk9ssvv3geeeQR8/kMGTJ4ypQp4xk8ePA1y6nlKVeunDlm4cKFPZMmTbLl+wCC6e9CyxB30TIDyQlTzAMAAFtRjQIAAGxFsAEAAGxFsAEAAGxFsAEAAGxFsAEAAGxFsAEAAGxFsAHglly8eFEGDx4sO3fudLooAJIpgg0ghWjfvr00adLE975GjRrSq1cvW44dmw7prYEGw2wDSAxzowA20xv1J598Yl6HhoZK/vz55amnnpKXXnpJUqe2709w1qxZ5nyBMGrUqARnQ9UZSvfu3SvffvttQM4DIGUi2ABug7p165oJt6Kjo82Ect26dTOBQGRkpN9+OkNomjRpAjahWKBEREQkuF5nOdUFAK6FahTgNggLC5NcuXKZWUG7du0qtWrVkrlz5/qqJ7TNQ548eaRYsWJm/7/++ksef/xxM7uoBg2PPvqoySB46SRhffr0MduzZctmJqiLm3mIW42igY5O9pUvXz5THq32+Oijj3zbderzhg0bSnh4uGTKlEkefPBBM6FYQtUoeiytPsmRI4ekTZtWqlataiYV89LJxnSa9sWLF0vFihUlffr0UqVKFdm+fbtN3zCA5IxgA3BAunTpTBZD6Q1Zb8ILFy6UefPmyeXLl80U53rDX758uZkdNGPGjCY74v3MsGHDZPLkyfLxxx/LihUr5OTJk34zjCZEq24+//xzMxupzmA6YcIEc1x18OBBqVatmglClixZIuvWrZNnnnlGrly5kuCxNLjR2VC1emj9+vUmcNEyazli0+nWtay//vqrqTLSYwJwIadnggNSunbt2nkeffRR8zomJsazcOFCT1hYmOeFF14w23LmzGlmBPWaMmWKp1ixYmZfL92eLl06z/fff2/e586d2/POO+/4tl++fNmTN29e33lU9erVPc8//7x5vX37djMbqJ47IZGRkZ5ChQp5Ll26dN1rOHv2rCc0NNQzdepU33b9nM5i6i2Tzoyq51u0aJFvn2+//dasiz3LKQB3ILMB3AaasdAsglY51KtXT1q2bCmvvvqq2XbPPff4tdPYuHGj6d2hmQ39jC5alaJdTLVa48yZM3L48GG57777fJ/RrIFWVyRmw4YNkipVKqlevXqi27XaJCkNSrUMmn154IEHfOv0c/fee6/JmMRWpkwZ3+vcuXObn8eOHbvuOQCkLDQQBW6DmjVryrhx40xQoW0zYvdCyZAhg9++Z8+elQoVKpieHnFlz579pqttbmX7zYodvGgbDhUTE2PLuQAkX2Q2gNtAAwpt16DdXq/X3bV8+fLy559/msaX+pnYi/YK0UWzBGvWrPF9RttWaDuLxGj2RG/yS5cuTXC7ZiC0fYhmLK7nrrvuMkGTtiXx0s9pA9GSJUte9/MA3IdgA0hmtCvpHXfcYXqgaACwZ88e07tDe38cOHDA7PP888/LW2+9JXPmzJFt27bJc889J6dPn070mAULFpR27dqZBpr6Ge8xp0+fbrZ3795doqKipFWrVqYxpwY7U6ZMSbD3iAZO2qOmX79+smDBAvnjjz+kY8eOcv78eenQoYON3wyAYEWwASQz2k102bJlJgvSrFkzKVGihLmJa5sN7Zaq+vbtK23btjUBROXKlU37jqZNm17zuFqN89hjj5nApHjx4iZAOHfunNmm3We1F4pW4Wi7Dq3GmThxYqJtODTQad68uSmDZmK0jcn3338vWbJkseEbARDsLG0l6nQhAABAykVmAwAA2IpgAwAA2IpgAwAA2IpgAwAA2IpgAwAA2IpgAwAA2IpgAwAA2IpgAwAA2IpgAwAA2IpgAwAA2IpgAwAA2IpgAwAAiJ3+H/nH65AJkEh0AAAAAElFTkSuQmCC",
      "text/plain": [
       "<Figure size 640x480 with 2 Axes>"
      ]
     },
     "metadata": {},
     "output_type": "display_data"
    }
   ],
   "source": [
    "# Calcular la matriz de confusión\n",
    "cm = confusion_matrix(y_test, y_val_pred)\n",
    "\n",
    "# Visualizar la matriz de confusión\n",
    "sns.heatmap(cm, annot=True, fmt='d', cmap='Blues', xticklabels=['Clase 0', 'Clase 1'], yticklabels=['Clase 0', 'Clase 1'])\n",
    "plt.xlabel('Predicción')\n",
    "plt.ylabel('Real')\n",
    "plt.title('Matriz de Confusión')\n",
    "plt.show()"
   ]
  },
  {
   "cell_type": "markdown",
   "metadata": {},
   "source": [
    "Ocurre algo similar al modelo con GridSearh, donde hay un gran número de falsos positivos y negativos. Aunque tiende a predecir algo más la clase 0."
   ]
  },
  {
   "cell_type": "markdown",
   "metadata": {},
   "source": [
    "#### Importancia de cada variable"
   ]
  },
  {
   "cell_type": "code",
   "execution_count": 22,
   "metadata": {},
   "outputs": [
    {
     "name": "stdout",
     "output_type": "stream",
     "text": [
      "                    Feature  Importance\n",
      "20               Racha_DIFF    0.063990\n",
      "19              Puntos_DIFF    0.045405\n",
      "24         Derrotas_KO_DIFF    0.039783\n",
      "4                  REV_DIFF    0.039591\n",
      "18              Peleas_DIFF    0.039157\n",
      "9           STR_HEAD_A_DIFF    0.038980\n",
      "26   Derrotas_Decision_DIFF    0.038872\n",
      "14        STR_GROUND_A_DIFF    0.038680\n",
      "5                 CTRL_DIFF    0.037453\n",
      "3              SUB_ATT_DIFF    0.036817\n",
      "7          TOTAL_STR_A_DIFF    0.036722\n",
      "2                   TD_DIFF    0.036331\n",
      "25        Derrotas_Sub_DIFF    0.035709\n",
      "8                 TD_A_DIFF    0.035542\n",
      "15             STRIKER_DIFF    0.035401\n",
      "10          STR_BODY_A_DIFF    0.035358\n",
      "16            GRAPPLER_DIFF    0.034869\n",
      "12      STR_DISTANCE_A_DIFF    0.034826\n",
      "13        STR_CLINCH_A_DIFF    0.034806\n",
      "11           STR_LEG_A_DIFF    0.034433\n",
      "21        Victorias_KO_DIFF    0.034414\n",
      "1              SIG_STR_DIFF    0.034163\n",
      "0                   KD_DIFF    0.033996\n",
      "6              TD_PORC_DIFF    0.032400\n",
      "17              Record_DIFF    0.031203\n",
      "23  Victorias_Decision_DIFF    0.031000\n",
      "22       Victorias_Sub_DIFF    0.030098\n"
     ]
    }
   ],
   "source": [
    "feature_importance = pd.DataFrame({\n",
    "    'Feature': X_train.columns,\n",
    "    'Importance': best_random.feature_importances_\n",
    "}).sort_values(by='Importance', ascending=False)\n",
    "print(feature_importance)"
   ]
  },
  {
   "cell_type": "code",
   "execution_count": 23,
   "metadata": {},
   "outputs": [
    {
     "data": {
      "image/png": "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",
      "text/plain": [
       "<Figure size 1000x1000 with 1 Axes>"
      ]
     },
     "metadata": {},
     "output_type": "display_data"
    }
   ],
   "source": [
    "plt.figure(figsize=(10, 10))\n",
    "plt.barh(feature_importance[\"Feature\"], feature_importance[\"Importance\"], color=\"royalblue\")\n",
    "plt.xlabel(\"Permutation Importance\")\n",
    "plt.title(\"Feature Importance (Top 10)\")\n",
    "plt.yticks(fontsize=5)\n",
    "plt.grid(axis=\"x\", linestyle=\"--\", alpha=0.7)\n",
    "plt.show()"
   ]
  },
  {
   "cell_type": "markdown",
   "metadata": {},
   "source": [
    "La importancia de las variables es muy similar a la de GridSearch."
   ]
  },
  {
   "cell_type": "markdown",
   "metadata": {},
   "source": [
    "#### Optuna\n",
    "Por último, emplearemos como método de selección de variables Optuna, debido a los buenos resultados entregados en el ajuste de otros modelos."
   ]
  },
  {
   "cell_type": "code",
   "execution_count": 24,
   "metadata": {},
   "outputs": [],
   "source": [
    "\n",
    "def objective(trial, X_train, y_train):\n",
    "    # Calcular pesos de clase para manejar desbalance de datos\n",
    "    class_weights = compute_class_weight('balanced', classes=np.unique(y_train), y=y_train)\n",
    "    scale_pos_weight = class_weights[1] / class_weights[0] if len(class_weights) > 1 else 1\n",
    "\n",
    "    params = {\n",
    "    'n_estimators': trial.suggest_int('n_estimators', 100, 500, step=50),\n",
    "    'max_depth': trial.suggest_int('max_depth', 3, 49, step=2),  # Ajustado de 40 a 39\n",
    "    'learning_rate': trial.suggest_float('learning_rate', 0.001, 0.2, log=True),\n",
    "    'subsample': trial.suggest_float('subsample', 0.6, 1.0),\n",
    "    'colsample_bytree': trial.suggest_float('colsample_bytree', 0.5, 1.0),\n",
    "    'gamma': trial.suggest_float('gamma', 0, 1.0),\n",
    "    'min_child_weight': trial.suggest_int('min_child_weight', 1, 69, step=2),  \n",
    "    'scale_pos_weight': trial.suggest_categorical('scale_pos_weight', [1, scale_pos_weight]),\n",
    "    'reg_alpha': trial.suggest_categorical('reg_alpha', [0, 0.1, 0.5, 1]),\n",
    "    'tree_method': trial.suggest_categorical('tree_method', ['auto', 'exact', 'approx', 'hist']),\n",
    "    'grow_policy': trial.suggest_categorical('grow_policy', ['depthwise', 'lossguide']),\n",
    "    'random_state': 42\n",
    "}\n",
    "\n",
    "    # Validación cruzada con series temporales\n",
    "    tscv = TimeSeriesSplit(n_splits=5)\n",
    "    model = XGBClassifier(**params)\n",
    "    optuna.logging.set_verbosity(optuna.logging.INFO)\n",
    "    scores = cross_val_score(model, X_train, y_train, cv=tscv, scoring='f1_macro', n_jobs=-1)\n",
    "    return np.mean(scores)  # Retornamos el F1-score promedio\n"
   ]
  },
  {
   "cell_type": "code",
   "execution_count": 35,
   "metadata": {},
   "outputs": [
    {
     "name": "stderr",
     "output_type": "stream",
     "text": [
      "[I 2025-03-26 11:48:25,881] A new study created in memory with name: no-name-8b44730f-d140-4065-8122-8f55a831dacb\n"
     ]
    },
    {
     "name": "stdout",
     "output_type": "stream",
     "text": [
      "-- Entrenamiento usando ajuste de hiperparámetros con Optuna --\n"
     ]
    },
    {
     "name": "stderr",
     "output_type": "stream",
     "text": [
      "[I 2025-03-26 11:48:28,355] Trial 0 finished with value: 0.5031379685463732 and parameters: {'n_estimators': 450, 'max_depth': 29, 'learning_rate': 0.004381438968200613, 'subsample': 0.6743644928360717, 'colsample_bytree': 0.7055500639625566, 'gamma': 0.11737554713471554, 'min_child_weight': 47, 'scale_pos_weight': np.float64(1.2905829596412555), 'reg_alpha': 1, 'tree_method': 'auto', 'grow_policy': 'depthwise'}. Best is trial 0 with value: 0.5031379685463732.\n",
      "[I 2025-03-26 11:48:30,373] Trial 1 finished with value: 0.5237897175444816 and parameters: {'n_estimators': 450, 'max_depth': 25, 'learning_rate': 0.015434312190948048, 'subsample': 0.7532192512677476, 'colsample_bytree': 0.9987704479387904, 'gamma': 0.5142444882517789, 'min_child_weight': 39, 'scale_pos_weight': np.float64(1.2905829596412555), 'reg_alpha': 1, 'tree_method': 'auto', 'grow_policy': 'lossguide'}. Best is trial 1 with value: 0.5237897175444816.\n",
      "[I 2025-03-26 11:48:32,395] Trial 2 finished with value: 0.3581489377629863 and parameters: {'n_estimators': 450, 'max_depth': 41, 'learning_rate': 0.0015048811071020469, 'subsample': 0.8579448281443212, 'colsample_bytree': 0.6546287928182736, 'gamma': 0.524253715876378, 'min_child_weight': 67, 'scale_pos_weight': 1, 'reg_alpha': 0.5, 'tree_method': 'auto', 'grow_policy': 'lossguide'}. Best is trial 1 with value: 0.5237897175444816.\n",
      "[I 2025-03-26 11:48:39,392] Trial 3 finished with value: 0.5023415442702704 and parameters: {'n_estimators': 350, 'max_depth': 37, 'learning_rate': 0.00902468216064441, 'subsample': 0.7586166516794642, 'colsample_bytree': 0.9125694819290864, 'gamma': 0.7125517536588033, 'min_child_weight': 7, 'scale_pos_weight': 1, 'reg_alpha': 0.1, 'tree_method': 'approx', 'grow_policy': 'depthwise'}. Best is trial 1 with value: 0.5237897175444816.\n",
      "[I 2025-03-26 11:48:40,060] Trial 4 finished with value: 0.3687976373708375 and parameters: {'n_estimators': 150, 'max_depth': 39, 'learning_rate': 0.005911352781507716, 'subsample': 0.7889591819150001, 'colsample_bytree': 0.6075321855366841, 'gamma': 0.9120939993482243, 'min_child_weight': 53, 'scale_pos_weight': 1, 'reg_alpha': 0.5, 'tree_method': 'approx', 'grow_policy': 'depthwise'}. Best is trial 1 with value: 0.5237897175444816.\n",
      "[I 2025-03-26 11:48:40,532] Trial 5 finished with value: 0.5193006291383098 and parameters: {'n_estimators': 300, 'max_depth': 7, 'learning_rate': 0.1436584831740625, 'subsample': 0.6337448905142188, 'colsample_bytree': 0.7346968349954608, 'gamma': 0.8056126484520902, 'min_child_weight': 5, 'scale_pos_weight': np.float64(1.2905829596412555), 'reg_alpha': 1, 'tree_method': 'auto', 'grow_policy': 'depthwise'}. Best is trial 1 with value: 0.5237897175444816.\n",
      "[I 2025-03-26 11:48:40,883] Trial 6 finished with value: 0.46434859536766915 and parameters: {'n_estimators': 350, 'max_depth': 13, 'learning_rate': 0.00773329684900797, 'subsample': 0.6026390656805307, 'colsample_bytree': 0.6790873187970745, 'gamma': 0.19671433235614422, 'min_child_weight': 29, 'scale_pos_weight': 1, 'reg_alpha': 1, 'tree_method': 'hist', 'grow_policy': 'lossguide'}. Best is trial 1 with value: 0.5237897175444816.\n",
      "[I 2025-03-26 11:48:41,088] Trial 7 finished with value: 0.5363146635802296 and parameters: {'n_estimators': 150, 'max_depth': 19, 'learning_rate': 0.016671747899618294, 'subsample': 0.7294414554095385, 'colsample_bytree': 0.9032086838867834, 'gamma': 0.9603192596307932, 'min_child_weight': 37, 'scale_pos_weight': np.float64(1.2905829596412555), 'reg_alpha': 0, 'tree_method': 'auto', 'grow_policy': 'lossguide'}. Best is trial 7 with value: 0.5363146635802296.\n",
      "[I 2025-03-26 11:48:42,685] Trial 8 finished with value: 0.5121145006990995 and parameters: {'n_estimators': 400, 'max_depth': 47, 'learning_rate': 0.022632264535337305, 'subsample': 0.9951761068268222, 'colsample_bytree': 0.5990372489343694, 'gamma': 0.04296878218210631, 'min_child_weight': 27, 'scale_pos_weight': 1, 'reg_alpha': 0, 'tree_method': 'exact', 'grow_policy': 'depthwise'}. Best is trial 7 with value: 0.5363146635802296.\n",
      "[I 2025-03-26 11:48:43,271] Trial 9 finished with value: 0.472739881839919 and parameters: {'n_estimators': 150, 'max_depth': 19, 'learning_rate': 0.0018559843376636622, 'subsample': 0.8250346814157908, 'colsample_bytree': 0.705465682947044, 'gamma': 0.28584169213022836, 'min_child_weight': 27, 'scale_pos_weight': np.float64(1.2905829596412555), 'reg_alpha': 1, 'tree_method': 'exact', 'grow_policy': 'lossguide'}. Best is trial 7 with value: 0.5363146635802296.\n",
      "[I 2025-03-26 11:48:43,537] A new study created in memory with name: no-name-c92efee1-1672-406e-86ec-aa3095e548c7\n"
     ]
    },
    {
     "name": "stdout",
     "output_type": "stream",
     "text": [
      "Mejores parámetros: {'n_estimators': 150, 'max_depth': 19, 'learning_rate': 0.016671747899618294, 'subsample': 0.7294414554095385, 'colsample_bytree': 0.9032086838867834, 'gamma': 0.9603192596307932, 'min_child_weight': 37, 'scale_pos_weight': np.float64(1.2905829596412555), 'reg_alpha': 0, 'tree_method': 'auto', 'grow_policy': 'lossguide'}\n",
      "aCC ACT: 0.593114241001565\n",
      "MEJOR ACCURACY 0.593114241001565 - 25\n"
     ]
    },
    {
     "name": "stderr",
     "output_type": "stream",
     "text": [
      "[I 2025-03-26 11:48:44,177] Trial 0 finished with value: 0.5223706961631552 and parameters: {'n_estimators': 200, 'max_depth': 27, 'learning_rate': 0.05859707864142568, 'subsample': 0.9156882944683439, 'colsample_bytree': 0.9352810312379117, 'gamma': 0.1879213916220689, 'min_child_weight': 19, 'scale_pos_weight': np.float64(1.2905829596412555), 'reg_alpha': 0.5, 'tree_method': 'hist', 'grow_policy': 'depthwise'}. Best is trial 0 with value: 0.5223706961631552.\n",
      "[I 2025-03-26 11:48:44,495] Trial 1 finished with value: 0.4827109319993344 and parameters: {'n_estimators': 300, 'max_depth': 33, 'learning_rate': 0.01717118797706138, 'subsample': 0.9982955589601679, 'colsample_bytree': 0.5709912319407183, 'gamma': 0.9753416365737264, 'min_child_weight': 43, 'scale_pos_weight': 1, 'reg_alpha': 1, 'tree_method': 'auto', 'grow_policy': 'depthwise'}. Best is trial 0 with value: 0.5223706961631552.\n",
      "[I 2025-03-26 11:48:44,772] Trial 2 finished with value: 0.5069315379639006 and parameters: {'n_estimators': 350, 'max_depth': 21, 'learning_rate': 0.01947641651512744, 'subsample': 0.9417373681192669, 'colsample_bytree': 0.5483594485824157, 'gamma': 0.3543428731361091, 'min_child_weight': 69, 'scale_pos_weight': np.float64(1.2905829596412555), 'reg_alpha': 0.1, 'tree_method': 'hist', 'grow_policy': 'depthwise'}. Best is trial 0 with value: 0.5223706961631552.\n",
      "[I 2025-03-26 11:48:45,350] Trial 3 finished with value: 0.47055407859598547 and parameters: {'n_estimators': 300, 'max_depth': 5, 'learning_rate': 0.0159952272837212, 'subsample': 0.653543655105565, 'colsample_bytree': 0.5993122566204107, 'gamma': 0.10819530972483438, 'min_child_weight': 45, 'scale_pos_weight': 1, 'reg_alpha': 0.5, 'tree_method': 'exact', 'grow_policy': 'depthwise'}. Best is trial 0 with value: 0.5223706961631552.\n",
      "[I 2025-03-26 11:48:45,608] Trial 4 finished with value: 0.5235730366246719 and parameters: {'n_estimators': 200, 'max_depth': 17, 'learning_rate': 0.0297206966867299, 'subsample': 0.7947591191643946, 'colsample_bytree': 0.6357253534976886, 'gamma': 0.9459099790625861, 'min_child_weight': 29, 'scale_pos_weight': np.float64(1.2905829596412555), 'reg_alpha': 1, 'tree_method': 'hist', 'grow_policy': 'lossguide'}. Best is trial 4 with value: 0.5235730366246719.\n",
      "[I 2025-03-26 11:48:50,727] Trial 5 finished with value: 0.5148860691174859 and parameters: {'n_estimators': 400, 'max_depth': 45, 'learning_rate': 0.0039032806125212064, 'subsample': 0.6414837160591096, 'colsample_bytree': 0.9169284727282203, 'gamma': 0.5555320848822746, 'min_child_weight': 1, 'scale_pos_weight': np.float64(1.2905829596412555), 'reg_alpha': 0.1, 'tree_method': 'exact', 'grow_policy': 'lossguide'}. Best is trial 4 with value: 0.5235730366246719.\n",
      "[I 2025-03-26 11:48:51,102] Trial 6 finished with value: 0.4951768096758533 and parameters: {'n_estimators': 450, 'max_depth': 45, 'learning_rate': 0.09392230670164696, 'subsample': 0.7751101152727644, 'colsample_bytree': 0.7945938154611281, 'gamma': 0.7852506836769734, 'min_child_weight': 39, 'scale_pos_weight': 1, 'reg_alpha': 0.1, 'tree_method': 'auto', 'grow_policy': 'lossguide'}. Best is trial 4 with value: 0.5235730366246719.\n",
      "[I 2025-03-26 11:48:51,510] Trial 7 finished with value: 0.5307324458246621 and parameters: {'n_estimators': 100, 'max_depth': 29, 'learning_rate': 0.009751771874344645, 'subsample': 0.7060653867843039, 'colsample_bytree': 0.7463699768840119, 'gamma': 0.07040963791060295, 'min_child_weight': 7, 'scale_pos_weight': np.float64(1.2905829596412555), 'reg_alpha': 0.5, 'tree_method': 'auto', 'grow_policy': 'depthwise'}. Best is trial 7 with value: 0.5307324458246621.\n",
      "[I 2025-03-26 11:48:51,661] Trial 8 finished with value: 0.3581489377629863 and parameters: {'n_estimators': 200, 'max_depth': 49, 'learning_rate': 0.0026062463435386875, 'subsample': 0.6331164588584796, 'colsample_bytree': 0.929976563011154, 'gamma': 0.9351533102610801, 'min_child_weight': 63, 'scale_pos_weight': 1, 'reg_alpha': 0.5, 'tree_method': 'hist', 'grow_policy': 'lossguide'}. Best is trial 7 with value: 0.5307324458246621.\n",
      "[I 2025-03-26 11:48:52,121] Trial 9 finished with value: 0.49578419373713156 and parameters: {'n_estimators': 500, 'max_depth': 21, 'learning_rate': 0.008549212934612716, 'subsample': 0.9046600952397548, 'colsample_bytree': 0.925625533508221, 'gamma': 0.9855422811905773, 'min_child_weight': 45, 'scale_pos_weight': 1, 'reg_alpha': 0.1, 'tree_method': 'hist', 'grow_policy': 'depthwise'}. Best is trial 7 with value: 0.5307324458246621.\n",
      "[I 2025-03-26 11:48:52,347] A new study created in memory with name: no-name-81ddb9a7-88b1-4446-bd32-cd613a0cde99\n"
     ]
    },
    {
     "name": "stdout",
     "output_type": "stream",
     "text": [
      "Mejores parámetros: {'n_estimators': 100, 'max_depth': 29, 'learning_rate': 0.009751771874344645, 'subsample': 0.7060653867843039, 'colsample_bytree': 0.7463699768840119, 'gamma': 0.07040963791060295, 'min_child_weight': 7, 'scale_pos_weight': np.float64(1.2905829596412555), 'reg_alpha': 0.5, 'tree_method': 'auto', 'grow_policy': 'depthwise'}\n",
      "aCC ACT: 0.5790297339593115\n",
      "MEJOR ACCURACY 0.593114241001565 - 25\n"
     ]
    },
    {
     "name": "stderr",
     "output_type": "stream",
     "text": [
      "[I 2025-03-26 11:48:52,617] Trial 0 finished with value: 0.503220188772836 and parameters: {'n_estimators': 250, 'max_depth': 41, 'learning_rate': 0.04922335637772244, 'subsample': 0.9472012799518943, 'colsample_bytree': 0.6916903864363101, 'gamma': 0.9794566321445206, 'min_child_weight': 63, 'scale_pos_weight': np.float64(1.2905829596412555), 'reg_alpha': 0.1, 'tree_method': 'auto', 'grow_policy': 'depthwise'}. Best is trial 0 with value: 0.503220188772836.\n",
      "[I 2025-03-26 11:48:52,962] Trial 1 finished with value: 0.5141855885070324 and parameters: {'n_estimators': 150, 'max_depth': 5, 'learning_rate': 0.00503752964747992, 'subsample': 0.9133159207275496, 'colsample_bytree': 0.5814530909894733, 'gamma': 0.07064129588532642, 'min_child_weight': 49, 'scale_pos_weight': np.float64(1.2905829596412555), 'reg_alpha': 1, 'tree_method': 'exact', 'grow_policy': 'lossguide'}. Best is trial 1 with value: 0.5141855885070324.\n",
      "[I 2025-03-26 11:48:53,060] Trial 2 finished with value: 0.485465554012895 and parameters: {'n_estimators': 100, 'max_depth': 7, 'learning_rate': 0.16744280369408673, 'subsample': 0.8333289161732151, 'colsample_bytree': 0.5462109569388991, 'gamma': 0.013629501631003293, 'min_child_weight': 59, 'scale_pos_weight': 1, 'reg_alpha': 0.5, 'tree_method': 'hist', 'grow_policy': 'lossguide'}. Best is trial 1 with value: 0.5141855885070324.\n",
      "[I 2025-03-26 11:48:53,799] Trial 3 finished with value: 0.5309468886280514 and parameters: {'n_estimators': 200, 'max_depth': 49, 'learning_rate': 0.003048821685367851, 'subsample': 0.8333480325778564, 'colsample_bytree': 0.8244499755585533, 'gamma': 0.910971210191259, 'min_child_weight': 9, 'scale_pos_weight': np.float64(1.2905829596412555), 'reg_alpha': 0.5, 'tree_method': 'auto', 'grow_policy': 'depthwise'}. Best is trial 3 with value: 0.5309468886280514.\n",
      "[I 2025-03-26 11:48:54,735] Trial 4 finished with value: 0.3581489377629863 and parameters: {'n_estimators': 100, 'max_depth': 21, 'learning_rate': 0.003047684792277053, 'subsample': 0.6838071530789213, 'colsample_bytree': 0.6977619163660512, 'gamma': 0.9807030137443952, 'min_child_weight': 13, 'scale_pos_weight': 1, 'reg_alpha': 0.5, 'tree_method': 'approx', 'grow_policy': 'depthwise'}. Best is trial 3 with value: 0.5309468886280514.\n",
      "[I 2025-03-26 11:48:55,400] Trial 5 finished with value: 0.4798203709411514 and parameters: {'n_estimators': 150, 'max_depth': 41, 'learning_rate': 0.014969611671471109, 'subsample': 0.8838595888832841, 'colsample_bytree': 0.8638465633616996, 'gamma': 0.9427478037791531, 'min_child_weight': 27, 'scale_pos_weight': 1, 'reg_alpha': 0, 'tree_method': 'exact', 'grow_policy': 'depthwise'}. Best is trial 3 with value: 0.5309468886280514.\n",
      "[I 2025-03-26 11:48:55,760] Trial 6 finished with value: 0.5073771854838315 and parameters: {'n_estimators': 400, 'max_depth': 37, 'learning_rate': 0.15111059577818803, 'subsample': 0.7246705249059349, 'colsample_bytree': 0.5555300349254588, 'gamma': 0.727712419874893, 'min_child_weight': 21, 'scale_pos_weight': 1, 'reg_alpha': 1, 'tree_method': 'hist', 'grow_policy': 'depthwise'}. Best is trial 3 with value: 0.5309468886280514.\n",
      "[I 2025-03-26 11:48:55,901] Trial 7 finished with value: 0.3581489377629863 and parameters: {'n_estimators': 150, 'max_depth': 7, 'learning_rate': 0.0018100661132802191, 'subsample': 0.7791030546422351, 'colsample_bytree': 0.9674445691596617, 'gamma': 0.8407552116699529, 'min_child_weight': 61, 'scale_pos_weight': 1, 'reg_alpha': 0, 'tree_method': 'hist', 'grow_policy': 'depthwise'}. Best is trial 3 with value: 0.5309468886280514.\n",
      "[I 2025-03-26 11:48:56,166] Trial 8 finished with value: 0.46656166682860506 and parameters: {'n_estimators': 100, 'max_depth': 13, 'learning_rate': 0.034769128055497034, 'subsample': 0.687405100858122, 'colsample_bytree': 0.9068583463009541, 'gamma': 0.26771351540863897, 'min_child_weight': 49, 'scale_pos_weight': 1, 'reg_alpha': 1, 'tree_method': 'exact', 'grow_policy': 'lossguide'}. Best is trial 3 with value: 0.5309468886280514.\n",
      "[I 2025-03-26 11:48:58,123] Trial 9 finished with value: 0.393322234668259 and parameters: {'n_estimators': 450, 'max_depth': 5, 'learning_rate': 0.002327431530848937, 'subsample': 0.8173966049244087, 'colsample_bytree': 0.5609989253765406, 'gamma': 0.5291652347982542, 'min_child_weight': 37, 'scale_pos_weight': 1, 'reg_alpha': 1, 'tree_method': 'approx', 'grow_policy': 'depthwise'}. Best is trial 3 with value: 0.5309468886280514.\n",
      "[I 2025-03-26 11:48:58,590] A new study created in memory with name: no-name-d58d6c98-42b5-463c-86c1-481b2e9e0bf5\n"
     ]
    },
    {
     "name": "stdout",
     "output_type": "stream",
     "text": [
      "Mejores parámetros: {'n_estimators': 200, 'max_depth': 49, 'learning_rate': 0.003048821685367851, 'subsample': 0.8333480325778564, 'colsample_bytree': 0.8244499755585533, 'gamma': 0.910971210191259, 'min_child_weight': 9, 'scale_pos_weight': np.float64(1.2905829596412555), 'reg_alpha': 0.5, 'tree_method': 'auto', 'grow_policy': 'depthwise'}\n",
      "aCC ACT: 0.5915492957746479\n",
      "MEJOR ACCURACY 0.593114241001565 - 25\n"
     ]
    },
    {
     "name": "stderr",
     "output_type": "stream",
     "text": [
      "[I 2025-03-26 11:49:01,043] Trial 0 finished with value: 0.5277396198343655 and parameters: {'n_estimators': 400, 'max_depth': 29, 'learning_rate': 0.0019388893591225323, 'subsample': 0.7590369474800469, 'colsample_bytree': 0.8906541031367381, 'gamma': 0.5109929816531131, 'min_child_weight': 13, 'scale_pos_weight': np.float64(1.2905829596412555), 'reg_alpha': 0, 'tree_method': 'exact', 'grow_policy': 'lossguide'}. Best is trial 0 with value: 0.5277396198343655.\n",
      "[I 2025-03-26 11:49:02,265] Trial 1 finished with value: 0.45347693136388056 and parameters: {'n_estimators': 300, 'max_depth': 17, 'learning_rate': 0.009737574004804864, 'subsample': 0.932027762260437, 'colsample_bytree': 0.7811967857363913, 'gamma': 0.8308883102128614, 'min_child_weight': 69, 'scale_pos_weight': 1, 'reg_alpha': 1, 'tree_method': 'approx', 'grow_policy': 'lossguide'}. Best is trial 0 with value: 0.5277396198343655.\n",
      "[I 2025-03-26 11:49:02,644] Trial 2 finished with value: 0.5086512444965929 and parameters: {'n_estimators': 400, 'max_depth': 9, 'learning_rate': 0.001231509598433819, 'subsample': 0.8624092307961843, 'colsample_bytree': 0.6255913069628416, 'gamma': 0.9884183840316233, 'min_child_weight': 37, 'scale_pos_weight': np.float64(1.2905829596412555), 'reg_alpha': 0.1, 'tree_method': 'hist', 'grow_policy': 'lossguide'}. Best is trial 0 with value: 0.5277396198343655.\n",
      "[I 2025-03-26 11:49:02,952] Trial 3 finished with value: 0.5019681824938447 and parameters: {'n_estimators': 200, 'max_depth': 7, 'learning_rate': 0.0354980735166722, 'subsample': 0.8315933008531944, 'colsample_bytree': 0.9379246869140063, 'gamma': 0.9971276408965022, 'min_child_weight': 19, 'scale_pos_weight': 1, 'reg_alpha': 0.5, 'tree_method': 'auto', 'grow_policy': 'lossguide'}. Best is trial 0 with value: 0.5277396198343655.\n",
      "[I 2025-03-26 11:49:04,505] Trial 4 finished with value: 0.45347574153138154 and parameters: {'n_estimators': 200, 'max_depth': 39, 'learning_rate': 0.006916868216478204, 'subsample': 0.8123084025668073, 'colsample_bytree': 0.6770906589369861, 'gamma': 0.5146740613033451, 'min_child_weight': 19, 'scale_pos_weight': 1, 'reg_alpha': 0.5, 'tree_method': 'approx', 'grow_policy': 'depthwise'}. Best is trial 0 with value: 0.5277396198343655.\n",
      "[I 2025-03-26 11:49:05,090] Trial 5 finished with value: 0.49062479557864663 and parameters: {'n_estimators': 200, 'max_depth': 5, 'learning_rate': 0.07605523009271654, 'subsample': 0.7534528424806206, 'colsample_bytree': 0.9894202404876469, 'gamma': 0.38187252227519464, 'min_child_weight': 45, 'scale_pos_weight': 1, 'reg_alpha': 0.1, 'tree_method': 'exact', 'grow_policy': 'lossguide'}. Best is trial 0 with value: 0.5277396198343655.\n",
      "[I 2025-03-26 11:49:05,231] Trial 6 finished with value: 0.48478661434916936 and parameters: {'n_estimators': 150, 'max_depth': 13, 'learning_rate': 0.07287551245777653, 'subsample': 0.8077153872703096, 'colsample_bytree': 0.6843087601583355, 'gamma': 0.4623536696988586, 'min_child_weight': 43, 'scale_pos_weight': 1, 'reg_alpha': 1, 'tree_method': 'auto', 'grow_policy': 'depthwise'}. Best is trial 0 with value: 0.5277396198343655.\n",
      "[I 2025-03-26 11:49:05,550] Trial 7 finished with value: 0.47728829643066445 and parameters: {'n_estimators': 450, 'max_depth': 23, 'learning_rate': 0.15165337065361026, 'subsample': 0.8549493862624802, 'colsample_bytree': 0.7488101963054425, 'gamma': 0.18912247948386984, 'min_child_weight': 53, 'scale_pos_weight': 1, 'reg_alpha': 0.5, 'tree_method': 'auto', 'grow_policy': 'lossguide'}. Best is trial 0 with value: 0.5277396198343655.\n",
      "[I 2025-03-26 11:49:06,017] Trial 8 finished with value: 0.5126760821669163 and parameters: {'n_estimators': 150, 'max_depth': 49, 'learning_rate': 0.06853524961460042, 'subsample': 0.8336471359677777, 'colsample_bytree': 0.5212613189584433, 'gamma': 0.34268868801777563, 'min_child_weight': 25, 'scale_pos_weight': 1, 'reg_alpha': 0.1, 'tree_method': 'exact', 'grow_policy': 'depthwise'}. Best is trial 0 with value: 0.5277396198343655.\n",
      "[I 2025-03-26 11:49:07,871] Trial 9 finished with value: 0.4719781390091097 and parameters: {'n_estimators': 450, 'max_depth': 31, 'learning_rate': 0.11424607651141952, 'subsample': 0.7989206975756061, 'colsample_bytree': 0.8897037166357114, 'gamma': 0.12733874611496532, 'min_child_weight': 43, 'scale_pos_weight': 1, 'reg_alpha': 1, 'tree_method': 'approx', 'grow_policy': 'depthwise'}. Best is trial 0 with value: 0.5277396198343655.\n",
      "[I 2025-03-26 11:49:08,547] A new study created in memory with name: no-name-d59b8cb9-52a8-4276-9952-ccb905cc859a\n"
     ]
    },
    {
     "name": "stdout",
     "output_type": "stream",
     "text": [
      "Mejores parámetros: {'n_estimators': 400, 'max_depth': 29, 'learning_rate': 0.0019388893591225323, 'subsample': 0.7590369474800469, 'colsample_bytree': 0.8906541031367381, 'gamma': 0.5109929816531131, 'min_child_weight': 13, 'scale_pos_weight': np.float64(1.2905829596412555), 'reg_alpha': 0, 'tree_method': 'exact', 'grow_policy': 'lossguide'}\n",
      "aCC ACT: 0.5915492957746479\n",
      "MEJOR ACCURACY 0.593114241001565 - 25\n"
     ]
    },
    {
     "name": "stderr",
     "output_type": "stream",
     "text": [
      "[I 2025-03-26 11:49:09,708] Trial 0 finished with value: 0.35794990343073474 and parameters: {'n_estimators': 450, 'max_depth': 15, 'learning_rate': 0.0014742296662466, 'subsample': 0.905294881732114, 'colsample_bytree': 0.7263595287997057, 'gamma': 0.5422968740087745, 'min_child_weight': 51, 'scale_pos_weight': 1, 'reg_alpha': 0, 'tree_method': 'exact', 'grow_policy': 'lossguide'}. Best is trial 0 with value: 0.35794990343073474.\n",
      "[I 2025-03-26 11:49:09,986] Trial 1 finished with value: 0.48744175685920127 and parameters: {'n_estimators': 450, 'max_depth': 3, 'learning_rate': 0.13343032143726913, 'subsample': 0.9227860652582608, 'colsample_bytree': 0.9780062004771166, 'gamma': 0.48472898990939883, 'min_child_weight': 47, 'scale_pos_weight': 1, 'reg_alpha': 0, 'tree_method': 'hist', 'grow_policy': 'lossguide'}. Best is trial 1 with value: 0.48744175685920127.\n",
      "[I 2025-03-26 11:49:10,971] Trial 2 finished with value: 0.49743211793180037 and parameters: {'n_estimators': 250, 'max_depth': 17, 'learning_rate': 0.012566145102842288, 'subsample': 0.9678147491938207, 'colsample_bytree': 0.6537687193646438, 'gamma': 0.9849192985490676, 'min_child_weight': 7, 'scale_pos_weight': 1, 'reg_alpha': 0, 'tree_method': 'hist', 'grow_policy': 'lossguide'}. Best is trial 2 with value: 0.49743211793180037.\n",
      "[I 2025-03-26 11:49:12,499] Trial 3 finished with value: 0.48830860386321806 and parameters: {'n_estimators': 350, 'max_depth': 37, 'learning_rate': 0.16312136014572087, 'subsample': 0.6495437971893765, 'colsample_bytree': 0.6999580927827307, 'gamma': 0.5533676821642126, 'min_child_weight': 33, 'scale_pos_weight': 1, 'reg_alpha': 0, 'tree_method': 'approx', 'grow_policy': 'lossguide'}. Best is trial 2 with value: 0.49743211793180037.\n",
      "[I 2025-03-26 11:49:12,981] Trial 4 finished with value: 0.4918580144145997 and parameters: {'n_estimators': 250, 'max_depth': 15, 'learning_rate': 0.004163725098827409, 'subsample': 0.6012801488375327, 'colsample_bytree': 0.7366920222319823, 'gamma': 0.5402743577802145, 'min_child_weight': 57, 'scale_pos_weight': np.float64(1.2905829596412555), 'reg_alpha': 0.5, 'tree_method': 'exact', 'grow_policy': 'lossguide'}. Best is trial 2 with value: 0.49743211793180037.\n",
      "[I 2025-03-26 11:49:13,111] Trial 5 finished with value: 0.35794990343073474 and parameters: {'n_estimators': 150, 'max_depth': 33, 'learning_rate': 0.004378574610546351, 'subsample': 0.6327223493621367, 'colsample_bytree': 0.8254172696724822, 'gamma': 0.9991103968503162, 'min_child_weight': 51, 'scale_pos_weight': 1, 'reg_alpha': 0.1, 'tree_method': 'auto', 'grow_policy': 'lossguide'}. Best is trial 2 with value: 0.49743211793180037.\n",
      "[I 2025-03-26 11:49:13,252] Trial 6 finished with value: 0.5077207180619014 and parameters: {'n_estimators': 100, 'max_depth': 43, 'learning_rate': 0.1267472750014092, 'subsample': 0.8603415219565618, 'colsample_bytree': 0.827973363819149, 'gamma': 0.7041710575193314, 'min_child_weight': 33, 'scale_pos_weight': 1, 'reg_alpha': 0.1, 'tree_method': 'auto', 'grow_policy': 'lossguide'}. Best is trial 6 with value: 0.5077207180619014.\n",
      "[I 2025-03-26 11:49:13,423] Trial 7 finished with value: 0.4274186728731336 and parameters: {'n_estimators': 150, 'max_depth': 21, 'learning_rate': 0.0012334957114899553, 'subsample': 0.7860703978511396, 'colsample_bytree': 0.8164979876258809, 'gamma': 0.8501980958034892, 'min_child_weight': 41, 'scale_pos_weight': np.float64(1.2905829596412555), 'reg_alpha': 1, 'tree_method': 'hist', 'grow_policy': 'lossguide'}. Best is trial 6 with value: 0.5077207180619014.\n",
      "[I 2025-03-26 11:49:13,727] Trial 8 finished with value: 0.4813231438032345 and parameters: {'n_estimators': 500, 'max_depth': 37, 'learning_rate': 0.0013723518304960215, 'subsample': 0.6259526579572744, 'colsample_bytree': 0.6547161474463239, 'gamma': 0.03193046680152323, 'min_child_weight': 69, 'scale_pos_weight': np.float64(1.2905829596412555), 'reg_alpha': 1, 'tree_method': 'auto', 'grow_policy': 'lossguide'}. Best is trial 6 with value: 0.5077207180619014.\n",
      "[I 2025-03-26 11:49:15,285] Trial 9 finished with value: 0.37039876627370305 and parameters: {'n_estimators': 400, 'max_depth': 33, 'learning_rate': 0.002517553755455924, 'subsample': 0.6007709528233075, 'colsample_bytree': 0.6094457708128722, 'gamma': 0.1964405760112775, 'min_child_weight': 59, 'scale_pos_weight': 1, 'reg_alpha': 0, 'tree_method': 'approx', 'grow_policy': 'depthwise'}. Best is trial 6 with value: 0.5077207180619014.\n",
      "[I 2025-03-26 11:49:15,412] A new study created in memory with name: no-name-4bcd2a1c-3f23-44dd-a4ba-1ff854308c06\n"
     ]
    },
    {
     "name": "stdout",
     "output_type": "stream",
     "text": [
      "Mejores parámetros: {'n_estimators': 100, 'max_depth': 43, 'learning_rate': 0.1267472750014092, 'subsample': 0.8603415219565618, 'colsample_bytree': 0.827973363819149, 'gamma': 0.7041710575193314, 'min_child_weight': 33, 'scale_pos_weight': 1, 'reg_alpha': 0.1, 'tree_method': 'auto', 'grow_policy': 'lossguide'}\n",
      "aCC ACT: 0.593114241001565\n",
      "MEJOR ACCURACY 0.593114241001565 - 25\n"
     ]
    },
    {
     "name": "stderr",
     "output_type": "stream",
     "text": [
      "[I 2025-03-26 11:49:16,218] Trial 0 finished with value: 0.5006251390133714 and parameters: {'n_estimators': 350, 'max_depth': 21, 'learning_rate': 0.03355004590567713, 'subsample': 0.6654602904411013, 'colsample_bytree': 0.9813039068371594, 'gamma': 0.34666184037976566, 'min_child_weight': 69, 'scale_pos_weight': np.float64(1.2905829596412555), 'reg_alpha': 0.5, 'tree_method': 'exact', 'grow_policy': 'depthwise'}. Best is trial 0 with value: 0.5006251390133714.\n",
      "[I 2025-03-26 11:49:16,474] Trial 1 finished with value: 0.514140764147545 and parameters: {'n_estimators': 200, 'max_depth': 33, 'learning_rate': 0.049107511186261485, 'subsample': 0.8753377532268816, 'colsample_bytree': 0.5155653742088135, 'gamma': 0.902513843248535, 'min_child_weight': 21, 'scale_pos_weight': 1, 'reg_alpha': 0.5, 'tree_method': 'hist', 'grow_policy': 'lossguide'}. Best is trial 1 with value: 0.514140764147545.\n",
      "[I 2025-03-26 11:49:18,086] Trial 2 finished with value: 0.5234077426788758 and parameters: {'n_estimators': 200, 'max_depth': 19, 'learning_rate': 0.0036590246492821405, 'subsample': 0.8791800659928004, 'colsample_bytree': 0.6060404156957073, 'gamma': 0.26729316832645944, 'min_child_weight': 27, 'scale_pos_weight': np.float64(1.2905829596412555), 'reg_alpha': 0, 'tree_method': 'approx', 'grow_policy': 'lossguide'}. Best is trial 2 with value: 0.5234077426788758.\n",
      "[I 2025-03-26 11:49:18,805] Trial 3 finished with value: 0.39755227550482164 and parameters: {'n_estimators': 250, 'max_depth': 5, 'learning_rate': 0.004053287204631961, 'subsample': 0.7855468640474155, 'colsample_bytree': 0.8466775297485354, 'gamma': 0.31343675340085886, 'min_child_weight': 33, 'scale_pos_weight': 1, 'reg_alpha': 0.5, 'tree_method': 'exact', 'grow_policy': 'lossguide'}. Best is trial 2 with value: 0.5234077426788758.\n",
      "[I 2025-03-26 11:49:19,726] Trial 4 finished with value: 0.4301846528749344 and parameters: {'n_estimators': 200, 'max_depth': 5, 'learning_rate': 0.007800604407305776, 'subsample': 0.7428386990065614, 'colsample_bytree': 0.9931920714925799, 'gamma': 0.9395906372601995, 'min_child_weight': 41, 'scale_pos_weight': 1, 'reg_alpha': 0, 'tree_method': 'approx', 'grow_policy': 'depthwise'}. Best is trial 2 with value: 0.5234077426788758.\n",
      "[I 2025-03-26 11:49:20,001] Trial 5 finished with value: 0.5206858888591842 and parameters: {'n_estimators': 300, 'max_depth': 5, 'learning_rate': 0.0390076192772121, 'subsample': 0.6468350047298358, 'colsample_bytree': 0.5967562538331441, 'gamma': 0.9123814964043303, 'min_child_weight': 21, 'scale_pos_weight': np.float64(1.2905829596412555), 'reg_alpha': 0.1, 'tree_method': 'hist', 'grow_policy': 'lossguide'}. Best is trial 2 with value: 0.5234077426788758.\n",
      "[I 2025-03-26 11:49:21,852] Trial 6 finished with value: 0.5055429165880403 and parameters: {'n_estimators': 400, 'max_depth': 15, 'learning_rate': 0.15917871908426887, 'subsample': 0.9933569030023932, 'colsample_bytree': 0.6483888176664452, 'gamma': 0.6194864486997362, 'min_child_weight': 11, 'scale_pos_weight': np.float64(1.2905829596412555), 'reg_alpha': 1, 'tree_method': 'exact', 'grow_policy': 'depthwise'}. Best is trial 2 with value: 0.5234077426788758.\n",
      "[I 2025-03-26 11:49:22,157] Trial 7 finished with value: 0.49595209366927556 and parameters: {'n_estimators': 450, 'max_depth': 43, 'learning_rate': 0.062460258802597576, 'subsample': 0.6825934565963713, 'colsample_bytree': 0.925758544717903, 'gamma': 0.3683347239582552, 'min_child_weight': 63, 'scale_pos_weight': np.float64(1.2905829596412555), 'reg_alpha': 0, 'tree_method': 'hist', 'grow_policy': 'depthwise'}. Best is trial 2 with value: 0.5234077426788758.\n",
      "[I 2025-03-26 11:49:22,287] Trial 8 finished with value: 0.4996066556183907 and parameters: {'n_estimators': 100, 'max_depth': 47, 'learning_rate': 0.09008961716068346, 'subsample': 0.911677149700355, 'colsample_bytree': 0.7000960536413781, 'gamma': 0.2537116326210229, 'min_child_weight': 35, 'scale_pos_weight': 1, 'reg_alpha': 0, 'tree_method': 'auto', 'grow_policy': 'depthwise'}. Best is trial 2 with value: 0.5234077426788758.\n",
      "[I 2025-03-26 11:49:22,911] Trial 9 finished with value: 0.5353942021260707 and parameters: {'n_estimators': 200, 'max_depth': 43, 'learning_rate': 0.03568893031872841, 'subsample': 0.6788427252532804, 'colsample_bytree': 0.895005750304586, 'gamma': 0.19520152534907897, 'min_child_weight': 39, 'scale_pos_weight': np.float64(1.2905829596412555), 'reg_alpha': 0.1, 'tree_method': 'exact', 'grow_policy': 'depthwise'}. Best is trial 9 with value: 0.5353942021260707.\n",
      "[I 2025-03-26 11:49:23,112] A new study created in memory with name: no-name-853686e4-5597-4c2b-afc8-568fe2fdfbf3\n"
     ]
    },
    {
     "name": "stdout",
     "output_type": "stream",
     "text": [
      "Mejores parámetros: {'n_estimators': 200, 'max_depth': 43, 'learning_rate': 0.03568893031872841, 'subsample': 0.6788427252532804, 'colsample_bytree': 0.895005750304586, 'gamma': 0.19520152534907897, 'min_child_weight': 39, 'scale_pos_weight': np.float64(1.2905829596412555), 'reg_alpha': 0.1, 'tree_method': 'exact', 'grow_policy': 'depthwise'}\n",
      "aCC ACT: 0.5837245696400626\n",
      "MEJOR ACCURACY 0.593114241001565 - 25\n"
     ]
    },
    {
     "name": "stderr",
     "output_type": "stream",
     "text": [
      "[I 2025-03-26 11:49:23,317] Trial 0 finished with value: 0.5060201201309341 and parameters: {'n_estimators': 200, 'max_depth': 47, 'learning_rate': 0.05922610375148788, 'subsample': 0.9947480012369851, 'colsample_bytree': 0.6040827309523606, 'gamma': 0.13691704884382816, 'min_child_weight': 63, 'scale_pos_weight': np.float64(1.2905829596412555), 'reg_alpha': 1, 'tree_method': 'hist', 'grow_policy': 'lossguide'}. Best is trial 0 with value: 0.5060201201309341.\n",
      "[I 2025-03-26 11:49:25,889] Trial 1 finished with value: 0.5379811854632661 and parameters: {'n_estimators': 500, 'max_depth': 15, 'learning_rate': 0.004130198078066446, 'subsample': 0.7628876016537554, 'colsample_bytree': 0.9129952014764822, 'gamma': 0.5067006631921283, 'min_child_weight': 19, 'scale_pos_weight': np.float64(1.2905829596412555), 'reg_alpha': 0.5, 'tree_method': 'exact', 'grow_policy': 'depthwise'}. Best is trial 1 with value: 0.5379811854632661.\n",
      "[I 2025-03-26 11:49:26,040] Trial 2 finished with value: 0.3600991502101823 and parameters: {'n_estimators': 100, 'max_depth': 7, 'learning_rate': 0.005530619166638136, 'subsample': 0.9643613599444454, 'colsample_bytree': 0.9159950064957016, 'gamma': 0.7500802696904918, 'min_child_weight': 33, 'scale_pos_weight': 1, 'reg_alpha': 0.5, 'tree_method': 'hist', 'grow_policy': 'depthwise'}. Best is trial 1 with value: 0.5379811854632661.\n",
      "[I 2025-03-26 11:49:26,180] Trial 3 finished with value: 0.49709405582025534 and parameters: {'n_estimators': 150, 'max_depth': 39, 'learning_rate': 0.006657041489785123, 'subsample': 0.75482045457855, 'colsample_bytree': 0.8769617791083015, 'gamma': 0.8674365465527742, 'min_child_weight': 53, 'scale_pos_weight': np.float64(1.2905829596412555), 'reg_alpha': 0.5, 'tree_method': 'hist', 'grow_policy': 'depthwise'}. Best is trial 1 with value: 0.5379811854632661.\n",
      "[I 2025-03-26 11:49:26,382] Trial 4 finished with value: 0.4429917947842405 and parameters: {'n_estimators': 250, 'max_depth': 5, 'learning_rate': 0.0012160704549595885, 'subsample': 0.9121025977748433, 'colsample_bytree': 0.5901162778624024, 'gamma': 0.4029011030129518, 'min_child_weight': 57, 'scale_pos_weight': np.float64(1.2905829596412555), 'reg_alpha': 0.5, 'tree_method': 'auto', 'grow_policy': 'depthwise'}. Best is trial 1 with value: 0.5379811854632661.\n",
      "[I 2025-03-26 11:49:27,636] Trial 5 finished with value: 0.4860255994160375 and parameters: {'n_estimators': 300, 'max_depth': 39, 'learning_rate': 0.037151932752258365, 'subsample': 0.9617639860380549, 'colsample_bytree': 0.8857460575791674, 'gamma': 0.35509570210938735, 'min_child_weight': 69, 'scale_pos_weight': 1, 'reg_alpha': 0, 'tree_method': 'approx', 'grow_policy': 'lossguide'}. Best is trial 1 with value: 0.5379811854632661.\n",
      "[I 2025-03-26 11:49:30,583] Trial 6 finished with value: 0.5368416315575525 and parameters: {'n_estimators': 500, 'max_depth': 49, 'learning_rate': 0.011644911442140311, 'subsample': 0.787615506744223, 'colsample_bytree': 0.9930499504912287, 'gamma': 0.3101080806763581, 'min_child_weight': 35, 'scale_pos_weight': np.float64(1.2905829596412555), 'reg_alpha': 1, 'tree_method': 'approx', 'grow_policy': 'lossguide'}. Best is trial 1 with value: 0.5379811854632661.\n",
      "[I 2025-03-26 11:49:31,302] Trial 7 finished with value: 0.4811652617509912 and parameters: {'n_estimators': 450, 'max_depth': 3, 'learning_rate': 0.04272274364631881, 'subsample': 0.7940617153772671, 'colsample_bytree': 0.7736540869312312, 'gamma': 0.39377486836479103, 'min_child_weight': 59, 'scale_pos_weight': 1, 'reg_alpha': 0.5, 'tree_method': 'exact', 'grow_policy': 'depthwise'}. Best is trial 1 with value: 0.5379811854632661.\n",
      "[I 2025-03-26 11:49:31,796] Trial 8 finished with value: 0.505683222122965 and parameters: {'n_estimators': 250, 'max_depth': 27, 'learning_rate': 0.011837517186812373, 'subsample': 0.6263181394937577, 'colsample_bytree': 0.8593379436760838, 'gamma': 0.13749061181790634, 'min_child_weight': 67, 'scale_pos_weight': np.float64(1.2905829596412555), 'reg_alpha': 0.5, 'tree_method': 'exact', 'grow_policy': 'lossguide'}. Best is trial 1 with value: 0.5379811854632661.\n",
      "[I 2025-03-26 11:49:31,998] Trial 9 finished with value: 0.3581489377629863 and parameters: {'n_estimators': 100, 'max_depth': 25, 'learning_rate': 0.001197286806636993, 'subsample': 0.8078021787033121, 'colsample_bytree': 0.6594840508777075, 'gamma': 0.131325605226299, 'min_child_weight': 15, 'scale_pos_weight': 1, 'reg_alpha': 0.5, 'tree_method': 'auto', 'grow_policy': 'lossguide'}. Best is trial 1 with value: 0.5379811854632661.\n",
      "[I 2025-03-26 11:49:32,694] A new study created in memory with name: no-name-5da02698-3db5-4c16-9057-d540fba18c7f\n"
     ]
    },
    {
     "name": "stdout",
     "output_type": "stream",
     "text": [
      "Mejores parámetros: {'n_estimators': 500, 'max_depth': 15, 'learning_rate': 0.004130198078066446, 'subsample': 0.7628876016537554, 'colsample_bytree': 0.9129952014764822, 'gamma': 0.5067006631921283, 'min_child_weight': 19, 'scale_pos_weight': np.float64(1.2905829596412555), 'reg_alpha': 0.5, 'tree_method': 'exact', 'grow_policy': 'depthwise'}\n",
      "aCC ACT: 0.596244131455399\n",
      "MEJOR ACCURACY 0.596244131455399 - 31\n"
     ]
    },
    {
     "name": "stderr",
     "output_type": "stream",
     "text": [
      "[I 2025-03-26 11:49:47,293] Trial 0 finished with value: 0.5110585204304628 and parameters: {'n_estimators': 450, 'max_depth': 19, 'learning_rate': 0.018939476456062965, 'subsample': 0.982262619596707, 'colsample_bytree': 0.8683347990056118, 'gamma': 0.8162051391124808, 'min_child_weight': 7, 'scale_pos_weight': 1, 'reg_alpha': 1, 'tree_method': 'approx', 'grow_policy': 'lossguide'}. Best is trial 0 with value: 0.5110585204304628.\n",
      "[I 2025-03-26 11:49:48,250] Trial 1 finished with value: 0.4907548201625459 and parameters: {'n_estimators': 400, 'max_depth': 45, 'learning_rate': 0.0016360198720829764, 'subsample': 0.9610085560448863, 'colsample_bytree': 0.7304802029412066, 'gamma': 0.4520184695817405, 'min_child_weight': 69, 'scale_pos_weight': np.float64(1.2905829596412555), 'reg_alpha': 0.1, 'tree_method': 'exact', 'grow_policy': 'lossguide'}. Best is trial 0 with value: 0.5110585204304628.\n",
      "[I 2025-03-26 11:49:48,496] Trial 2 finished with value: 0.4686880273760744 and parameters: {'n_estimators': 400, 'max_depth': 17, 'learning_rate': 0.013701942578804742, 'subsample': 0.8096485450885731, 'colsample_bytree': 0.6492706226434615, 'gamma': 0.46310814016744195, 'min_child_weight': 69, 'scale_pos_weight': 1, 'reg_alpha': 0.1, 'tree_method': 'auto', 'grow_policy': 'lossguide'}. Best is trial 0 with value: 0.5110585204304628.\n",
      "[I 2025-03-26 11:49:59,490] Trial 3 finished with value: 0.5265076204111876 and parameters: {'n_estimators': 200, 'max_depth': 49, 'learning_rate': 0.022570405590272388, 'subsample': 0.6524367793250909, 'colsample_bytree': 0.7604888518186773, 'gamma': 0.3579784002842924, 'min_child_weight': 1, 'scale_pos_weight': np.float64(1.2905829596412555), 'reg_alpha': 1, 'tree_method': 'approx', 'grow_policy': 'depthwise'}. Best is trial 3 with value: 0.5265076204111876.\n",
      "[I 2025-03-26 11:50:01,807] Trial 4 finished with value: 0.5358809621216813 and parameters: {'n_estimators': 200, 'max_depth': 29, 'learning_rate': 0.00982134633583755, 'subsample': 0.9135046515347022, 'colsample_bytree': 0.8503865984712933, 'gamma': 0.7764094563444667, 'min_child_weight': 21, 'scale_pos_weight': np.float64(1.2905829596412555), 'reg_alpha': 0.5, 'tree_method': 'approx', 'grow_policy': 'lossguide'}. Best is trial 4 with value: 0.5358809621216813.\n",
      "[I 2025-03-26 11:50:03,467] Trial 5 finished with value: 0.5055180290901822 and parameters: {'n_estimators': 250, 'max_depth': 41, 'learning_rate': 0.10570600384819306, 'subsample': 0.8347556966935777, 'colsample_bytree': 0.8279236766601542, 'gamma': 0.29043623903612403, 'min_child_weight': 27, 'scale_pos_weight': np.float64(1.2905829596412555), 'reg_alpha': 1, 'tree_method': 'approx', 'grow_policy': 'lossguide'}. Best is trial 4 with value: 0.5358809621216813.\n",
      "[I 2025-03-26 11:50:03,733] Trial 6 finished with value: 0.44772298534037314 and parameters: {'n_estimators': 350, 'max_depth': 11, 'learning_rate': 0.007540538683353076, 'subsample': 0.7133866195619741, 'colsample_bytree': 0.8516562269989176, 'gamma': 0.25379794096199493, 'min_child_weight': 53, 'scale_pos_weight': 1, 'reg_alpha': 0, 'tree_method': 'auto', 'grow_policy': 'lossguide'}. Best is trial 4 with value: 0.5358809621216813.\n",
      "[I 2025-03-26 11:50:04,089] Trial 7 finished with value: 0.5107501882227894 and parameters: {'n_estimators': 100, 'max_depth': 29, 'learning_rate': 0.15515196963099923, 'subsample': 0.9467581280076348, 'colsample_bytree': 0.6029928768853845, 'gamma': 0.6112246153546843, 'min_child_weight': 29, 'scale_pos_weight': 1, 'reg_alpha': 1, 'tree_method': 'exact', 'grow_policy': 'depthwise'}. Best is trial 4 with value: 0.5358809621216813.\n",
      "[I 2025-03-26 11:50:04,384] Trial 8 finished with value: 0.38432309786180396 and parameters: {'n_estimators': 500, 'max_depth': 3, 'learning_rate': 0.002101873376375132, 'subsample': 0.685447571406828, 'colsample_bytree': 0.7336600181011986, 'gamma': 0.8081124452180937, 'min_child_weight': 43, 'scale_pos_weight': 1, 'reg_alpha': 0.5, 'tree_method': 'hist', 'grow_policy': 'depthwise'}. Best is trial 4 with value: 0.5358809621216813.\n",
      "[I 2025-03-26 11:50:04,761] Trial 9 finished with value: 0.42546983417624784 and parameters: {'n_estimators': 500, 'max_depth': 11, 'learning_rate': 0.003504948090837329, 'subsample': 0.6564194535107732, 'colsample_bytree': 0.5949180905463051, 'gamma': 0.7003667269615298, 'min_child_weight': 39, 'scale_pos_weight': 1, 'reg_alpha': 1, 'tree_method': 'hist', 'grow_policy': 'depthwise'}. Best is trial 4 with value: 0.5358809621216813.\n",
      "[I 2025-03-26 11:50:07,389] A new study created in memory with name: no-name-987a8126-36c7-4b5e-b3a2-213436b6ef8e\n"
     ]
    },
    {
     "name": "stdout",
     "output_type": "stream",
     "text": [
      "Mejores parámetros: {'n_estimators': 200, 'max_depth': 29, 'learning_rate': 0.00982134633583755, 'subsample': 0.9135046515347022, 'colsample_bytree': 0.8503865984712933, 'gamma': 0.7764094563444667, 'min_child_weight': 21, 'scale_pos_weight': np.float64(1.2905829596412555), 'reg_alpha': 0.5, 'tree_method': 'approx', 'grow_policy': 'lossguide'}\n",
      "aCC ACT: 0.5915492957746479\n",
      "MEJOR ACCURACY 0.596244131455399 - 31\n"
     ]
    },
    {
     "name": "stderr",
     "output_type": "stream",
     "text": [
      "[I 2025-03-26 11:50:23,431] Trial 0 finished with value: 0.485574135084544 and parameters: {'n_estimators': 200, 'max_depth': 23, 'learning_rate': 0.008822407510445503, 'subsample': 0.7041198763547599, 'colsample_bytree': 0.9351978441734747, 'gamma': 0.18503992716190498, 'min_child_weight': 1, 'scale_pos_weight': 1, 'reg_alpha': 0.1, 'tree_method': 'approx', 'grow_policy': 'depthwise'}. Best is trial 0 with value: 0.485574135084544.\n",
      "[I 2025-03-26 11:50:24,833] Trial 1 finished with value: 0.4534276811628379 and parameters: {'n_estimators': 300, 'max_depth': 37, 'learning_rate': 0.0037163983147088424, 'subsample': 0.8491119809616604, 'colsample_bytree': 0.5712244079327145, 'gamma': 0.20117628247191477, 'min_child_weight': 5, 'scale_pos_weight': 1, 'reg_alpha': 0.5, 'tree_method': 'auto', 'grow_policy': 'depthwise'}. Best is trial 0 with value: 0.485574135084544.\n",
      "[I 2025-03-26 11:50:25,589] Trial 2 finished with value: 0.5327423755492322 and parameters: {'n_estimators': 200, 'max_depth': 43, 'learning_rate': 0.006827568388414713, 'subsample': 0.7363255910090687, 'colsample_bytree': 0.8552008721082658, 'gamma': 0.03170775152874872, 'min_child_weight': 33, 'scale_pos_weight': np.float64(1.2905829596412555), 'reg_alpha': 1, 'tree_method': 'exact', 'grow_policy': 'lossguide'}. Best is trial 2 with value: 0.5327423755492322.\n",
      "[I 2025-03-26 11:50:25,844] Trial 3 finished with value: 0.4606019215803224 and parameters: {'n_estimators': 150, 'max_depth': 23, 'learning_rate': 0.001602320606656414, 'subsample': 0.8930521740250501, 'colsample_bytree': 0.6966496776956319, 'gamma': 0.34413639388838024, 'min_child_weight': 27, 'scale_pos_weight': np.float64(1.2905829596412555), 'reg_alpha': 0, 'tree_method': 'hist', 'grow_policy': 'lossguide'}. Best is trial 2 with value: 0.5327423755492322.\n",
      "[I 2025-03-26 11:50:26,624] Trial 4 finished with value: 0.4623012875312321 and parameters: {'n_estimators': 200, 'max_depth': 41, 'learning_rate': 0.00999684182162004, 'subsample': 0.8040777575798996, 'colsample_bytree': 0.8816643186541391, 'gamma': 0.1739191529496058, 'min_child_weight': 31, 'scale_pos_weight': 1, 'reg_alpha': 1, 'tree_method': 'exact', 'grow_policy': 'lossguide'}. Best is trial 2 with value: 0.5327423755492322.\n",
      "[I 2025-03-26 11:50:27,079] Trial 5 finished with value: 0.5119379358125925 and parameters: {'n_estimators': 500, 'max_depth': 45, 'learning_rate': 0.007035560765519064, 'subsample': 0.7367315364875686, 'colsample_bytree': 0.9253357681290739, 'gamma': 0.38869383728787166, 'min_child_weight': 47, 'scale_pos_weight': np.float64(1.2905829596412555), 'reg_alpha': 0.1, 'tree_method': 'auto', 'grow_policy': 'depthwise'}. Best is trial 2 with value: 0.5327423755492322.\n",
      "[I 2025-03-26 11:50:27,486] Trial 6 finished with value: 0.5132557363053208 and parameters: {'n_estimators': 450, 'max_depth': 43, 'learning_rate': 0.07951966563321519, 'subsample': 0.9020853868400192, 'colsample_bytree': 0.7585593114327901, 'gamma': 0.5526963757668745, 'min_child_weight': 39, 'scale_pos_weight': 1, 'reg_alpha': 0.5, 'tree_method': 'hist', 'grow_policy': 'depthwise'}. Best is trial 2 with value: 0.5327423755492322.\n",
      "[I 2025-03-26 11:50:30,146] Trial 7 finished with value: 0.4709683148283158 and parameters: {'n_estimators': 400, 'max_depth': 15, 'learning_rate': 0.0040614200579689105, 'subsample': 0.680521395556027, 'colsample_bytree': 0.9289836536237874, 'gamma': 0.5627972898830722, 'min_child_weight': 19, 'scale_pos_weight': 1, 'reg_alpha': 0.1, 'tree_method': 'approx', 'grow_policy': 'depthwise'}. Best is trial 2 with value: 0.5327423755492322.\n",
      "[I 2025-03-26 11:50:30,726] Trial 8 finished with value: 0.5001348163653954 and parameters: {'n_estimators': 450, 'max_depth': 9, 'learning_rate': 0.07038549483121595, 'subsample': 0.8284759770749012, 'colsample_bytree': 0.8843256819014238, 'gamma': 0.8069578608955702, 'min_child_weight': 25, 'scale_pos_weight': np.float64(1.2905829596412555), 'reg_alpha': 0.5, 'tree_method': 'auto', 'grow_policy': 'lossguide'}. Best is trial 2 with value: 0.5327423755492322.\n",
      "[I 2025-03-26 11:50:40,944] Trial 9 finished with value: 0.5338456143536177 and parameters: {'n_estimators': 250, 'max_depth': 19, 'learning_rate': 0.00843689830481298, 'subsample': 0.7342761896919447, 'colsample_bytree': 0.7136597228369255, 'gamma': 0.8561962554147226, 'min_child_weight': 3, 'scale_pos_weight': np.float64(1.2905829596412555), 'reg_alpha': 0, 'tree_method': 'approx', 'grow_policy': 'depthwise'}. Best is trial 9 with value: 0.5338456143536177.\n",
      "[I 2025-03-26 11:50:50,368] A new study created in memory with name: no-name-26f7a991-7635-420d-a07b-2d00fa016cd3\n"
     ]
    },
    {
     "name": "stdout",
     "output_type": "stream",
     "text": [
      "Mejores parámetros: {'n_estimators': 250, 'max_depth': 19, 'learning_rate': 0.00843689830481298, 'subsample': 0.7342761896919447, 'colsample_bytree': 0.7136597228369255, 'gamma': 0.8561962554147226, 'min_child_weight': 3, 'scale_pos_weight': np.float64(1.2905829596412555), 'reg_alpha': 0, 'tree_method': 'approx', 'grow_policy': 'depthwise'}\n",
      "aCC ACT: 0.5665101721439749\n",
      "MEJOR ACCURACY 0.596244131455399 - 31\n"
     ]
    },
    {
     "name": "stderr",
     "output_type": "stream",
     "text": [
      "[I 2025-03-26 11:50:50,987] Trial 0 finished with value: 0.3581489377629863 and parameters: {'n_estimators': 100, 'max_depth': 39, 'learning_rate': 0.0016342335486115994, 'subsample': 0.8531570745937909, 'colsample_bytree': 0.5069454241601093, 'gamma': 0.9361585360849233, 'min_child_weight': 29, 'scale_pos_weight': 1, 'reg_alpha': 1, 'tree_method': 'approx', 'grow_policy': 'depthwise'}. Best is trial 0 with value: 0.3581489377629863.\n",
      "[I 2025-03-26 11:50:52,128] Trial 1 finished with value: 0.4877984629202873 and parameters: {'n_estimators': 150, 'max_depth': 37, 'learning_rate': 0.012227028035582161, 'subsample': 0.8226353923489442, 'colsample_bytree': 0.6927877866298208, 'gamma': 0.9411466600567784, 'min_child_weight': 5, 'scale_pos_weight': 1, 'reg_alpha': 1, 'tree_method': 'exact', 'grow_policy': 'lossguide'}. Best is trial 1 with value: 0.4877984629202873.\n",
      "[I 2025-03-26 11:50:54,212] Trial 2 finished with value: 0.4911758589634145 and parameters: {'n_estimators': 450, 'max_depth': 25, 'learning_rate': 0.0064796242504826405, 'subsample': 0.6434369701796511, 'colsample_bytree': 0.9923882664991199, 'gamma': 0.15105827254382265, 'min_child_weight': 19, 'scale_pos_weight': 1, 'reg_alpha': 0.1, 'tree_method': 'exact', 'grow_policy': 'lossguide'}. Best is trial 2 with value: 0.4911758589634145.\n",
      "[I 2025-03-26 11:50:56,795] Trial 3 finished with value: 0.5060119568020748 and parameters: {'n_estimators': 450, 'max_depth': 11, 'learning_rate': 0.07195350968122934, 'subsample': 0.6301785952204156, 'colsample_bytree': 0.8180171932944834, 'gamma': 0.8308431922538282, 'min_child_weight': 21, 'scale_pos_weight': 1, 'reg_alpha': 0, 'tree_method': 'approx', 'grow_policy': 'lossguide'}. Best is trial 3 with value: 0.5060119568020748.\n",
      "[I 2025-03-26 11:50:57,100] Trial 4 finished with value: 0.5019898551718551 and parameters: {'n_estimators': 450, 'max_depth': 47, 'learning_rate': 0.02815015383006431, 'subsample': 0.7325536100741957, 'colsample_bytree': 0.7353599988256863, 'gamma': 0.8021292976383728, 'min_child_weight': 65, 'scale_pos_weight': np.float64(1.2905829596412555), 'reg_alpha': 1, 'tree_method': 'auto', 'grow_policy': 'depthwise'}. Best is trial 3 with value: 0.5060119568020748.\n",
      "[I 2025-03-26 11:50:57,429] Trial 5 finished with value: 0.4999955598470418 and parameters: {'n_estimators': 450, 'max_depth': 31, 'learning_rate': 0.022324532335288725, 'subsample': 0.7839929040140197, 'colsample_bytree': 0.6387157870460449, 'gamma': 0.8214820274483599, 'min_child_weight': 65, 'scale_pos_weight': np.float64(1.2905829596412555), 'reg_alpha': 1, 'tree_method': 'hist', 'grow_policy': 'depthwise'}. Best is trial 3 with value: 0.5060119568020748.\n",
      "[I 2025-03-26 11:51:06,790] Trial 6 finished with value: 0.51259111603506 and parameters: {'n_estimators': 500, 'max_depth': 17, 'learning_rate': 0.031678961143126655, 'subsample': 0.779532319207784, 'colsample_bytree': 0.8354879863826548, 'gamma': 0.5670528956780323, 'min_child_weight': 3, 'scale_pos_weight': 1, 'reg_alpha': 0, 'tree_method': 'approx', 'grow_policy': 'depthwise'}. Best is trial 6 with value: 0.51259111603506.\n",
      "[I 2025-03-26 11:51:08,608] Trial 7 finished with value: 0.3625014626992626 and parameters: {'n_estimators': 150, 'max_depth': 11, 'learning_rate': 0.0018670922490836759, 'subsample': 0.9668545564202635, 'colsample_bytree': 0.8660846964523243, 'gamma': 0.22283191963936144, 'min_child_weight': 1, 'scale_pos_weight': 1, 'reg_alpha': 1, 'tree_method': 'exact', 'grow_policy': 'depthwise'}. Best is trial 6 with value: 0.51259111603506.\n",
      "[I 2025-03-26 11:51:10,501] Trial 8 finished with value: 0.3898708143708674 and parameters: {'n_estimators': 450, 'max_depth': 49, 'learning_rate': 0.002620791541154055, 'subsample': 0.7735705475239751, 'colsample_bytree': 0.8132154880822986, 'gamma': 0.6635401715942377, 'min_child_weight': 57, 'scale_pos_weight': 1, 'reg_alpha': 0.1, 'tree_method': 'approx', 'grow_policy': 'lossguide'}. Best is trial 6 with value: 0.51259111603506.\n",
      "[I 2025-03-26 11:51:10,706] Trial 9 finished with value: 0.5000251654603728 and parameters: {'n_estimators': 150, 'max_depth': 27, 'learning_rate': 0.0026701605926280586, 'subsample': 0.8205285870722019, 'colsample_bytree': 0.6107211700629198, 'gamma': 0.9875478822787898, 'min_child_weight': 27, 'scale_pos_weight': np.float64(1.2905829596412555), 'reg_alpha': 0, 'tree_method': 'auto', 'grow_policy': 'depthwise'}. Best is trial 6 with value: 0.51259111603506.\n",
      "[I 2025-03-26 11:51:18,563] A new study created in memory with name: no-name-d62168aa-1767-461d-a9ec-48e19a6a9583\n"
     ]
    },
    {
     "name": "stdout",
     "output_type": "stream",
     "text": [
      "Mejores parámetros: {'n_estimators': 500, 'max_depth': 17, 'learning_rate': 0.031678961143126655, 'subsample': 0.779532319207784, 'colsample_bytree': 0.8354879863826548, 'gamma': 0.5670528956780323, 'min_child_weight': 3, 'scale_pos_weight': 1, 'reg_alpha': 0, 'tree_method': 'approx', 'grow_policy': 'depthwise'}\n",
      "aCC ACT: 0.5758998435054773\n",
      "MEJOR ACCURACY 0.596244131455399 - 31\n"
     ]
    },
    {
     "name": "stderr",
     "output_type": "stream",
     "text": [
      "[I 2025-03-26 11:51:20,051] Trial 0 finished with value: 0.49642609670656823 and parameters: {'n_estimators': 300, 'max_depth': 17, 'learning_rate': 0.0034092483127182763, 'subsample': 0.7109698207024504, 'colsample_bytree': 0.908617405951335, 'gamma': 0.11134663609249817, 'min_child_weight': 43, 'scale_pos_weight': np.float64(1.2905829596412555), 'reg_alpha': 1, 'tree_method': 'approx', 'grow_policy': 'depthwise'}. Best is trial 0 with value: 0.49642609670656823.\n",
      "[I 2025-03-26 11:51:21,473] Trial 1 finished with value: 0.5365577576182871 and parameters: {'n_estimators': 200, 'max_depth': 9, 'learning_rate': 0.01537619558229871, 'subsample': 0.7577033274293876, 'colsample_bytree': 0.5349400626861046, 'gamma': 0.3382257701939704, 'min_child_weight': 1, 'scale_pos_weight': np.float64(1.2905829596412555), 'reg_alpha': 0.5, 'tree_method': 'auto', 'grow_policy': 'depthwise'}. Best is trial 1 with value: 0.5365577576182871.\n",
      "[I 2025-03-26 11:51:26,609] Trial 2 finished with value: 0.5160323112684837 and parameters: {'n_estimators': 450, 'max_depth': 13, 'learning_rate': 0.03017452396726081, 'subsample': 0.7201802635882807, 'colsample_bytree': 0.6226802763715243, 'gamma': 0.5460236833379476, 'min_child_weight': 9, 'scale_pos_weight': np.float64(1.2905829596412555), 'reg_alpha': 0, 'tree_method': 'approx', 'grow_policy': 'depthwise'}. Best is trial 1 with value: 0.5365577576182871.\n",
      "[I 2025-03-26 11:51:26,750] Trial 3 finished with value: 0.4974739633716725 and parameters: {'n_estimators': 150, 'max_depth': 9, 'learning_rate': 0.05792240902205379, 'subsample': 0.8050011559448105, 'colsample_bytree': 0.7308019868457951, 'gamma': 0.752662627879419, 'min_child_weight': 67, 'scale_pos_weight': np.float64(1.2905829596412555), 'reg_alpha': 0.1, 'tree_method': 'auto', 'grow_policy': 'depthwise'}. Best is trial 1 with value: 0.5365577576182871.\n",
      "[I 2025-03-26 11:51:27,738] Trial 4 finished with value: 0.4861673365182552 and parameters: {'n_estimators': 300, 'max_depth': 23, 'learning_rate': 0.011318680934037276, 'subsample': 0.8817156239034295, 'colsample_bytree': 0.5203096503087274, 'gamma': 0.22154597283124156, 'min_child_weight': 25, 'scale_pos_weight': 1, 'reg_alpha': 0, 'tree_method': 'exact', 'grow_policy': 'depthwise'}. Best is trial 1 with value: 0.5365577576182871.\n",
      "[I 2025-03-26 11:51:27,856] Trial 5 finished with value: 0.49922942386204483 and parameters: {'n_estimators': 100, 'max_depth': 29, 'learning_rate': 0.11587039031049341, 'subsample': 0.7305382388816053, 'colsample_bytree': 0.6435790796043291, 'gamma': 0.37054003744224584, 'min_child_weight': 35, 'scale_pos_weight': 1, 'reg_alpha': 1, 'tree_method': 'hist', 'grow_policy': 'lossguide'}. Best is trial 1 with value: 0.5365577576182871.\n",
      "[I 2025-03-26 11:51:28,141] Trial 6 finished with value: 0.5058489284895046 and parameters: {'n_estimators': 500, 'max_depth': 3, 'learning_rate': 0.007792781470306416, 'subsample': 0.6045713877915841, 'colsample_bytree': 0.6601547593731334, 'gamma': 0.8666504395882774, 'min_child_weight': 67, 'scale_pos_weight': np.float64(1.2905829596412555), 'reg_alpha': 1, 'tree_method': 'auto', 'grow_policy': 'depthwise'}. Best is trial 1 with value: 0.5365577576182871.\n",
      "[I 2025-03-26 11:51:28,907] Trial 7 finished with value: 0.5101285908101655 and parameters: {'n_estimators': 350, 'max_depth': 15, 'learning_rate': 0.05248549591719043, 'subsample': 0.8450219495032614, 'colsample_bytree': 0.6827301753752026, 'gamma': 0.3500590896712408, 'min_child_weight': 11, 'scale_pos_weight': np.float64(1.2905829596412555), 'reg_alpha': 0.5, 'tree_method': 'hist', 'grow_policy': 'depthwise'}. Best is trial 1 with value: 0.5365577576182871.\n",
      "[I 2025-03-26 11:51:30,240] Trial 8 finished with value: 0.5166795826861055 and parameters: {'n_estimators': 500, 'max_depth': 47, 'learning_rate': 0.0016337226871723492, 'subsample': 0.806619666057099, 'colsample_bytree': 0.6928464694625619, 'gamma': 0.6753737224994106, 'min_child_weight': 47, 'scale_pos_weight': np.float64(1.2905829596412555), 'reg_alpha': 0.1, 'tree_method': 'exact', 'grow_policy': 'depthwise'}. Best is trial 1 with value: 0.5365577576182871.\n",
      "[I 2025-03-26 11:51:30,973] Trial 9 finished with value: 0.5141161353612933 and parameters: {'n_estimators': 250, 'max_depth': 29, 'learning_rate': 0.13314695005229624, 'subsample': 0.979897281606985, 'colsample_bytree': 0.6133616606767078, 'gamma': 0.9631973661128066, 'min_child_weight': 43, 'scale_pos_weight': np.float64(1.2905829596412555), 'reg_alpha': 0.1, 'tree_method': 'exact', 'grow_policy': 'lossguide'}. Best is trial 1 with value: 0.5365577576182871.\n",
      "[I 2025-03-26 11:51:31,554] A new study created in memory with name: no-name-866fbc19-53aa-4e6f-b387-1bf3d76e63d4\n"
     ]
    },
    {
     "name": "stdout",
     "output_type": "stream",
     "text": [
      "Mejores parámetros: {'n_estimators': 200, 'max_depth': 9, 'learning_rate': 0.01537619558229871, 'subsample': 0.7577033274293876, 'colsample_bytree': 0.5349400626861046, 'gamma': 0.3382257701939704, 'min_child_weight': 1, 'scale_pos_weight': np.float64(1.2905829596412555), 'reg_alpha': 0.5, 'tree_method': 'auto', 'grow_policy': 'depthwise'}\n",
      "aCC ACT: 0.5790297339593115\n",
      "MEJOR ACCURACY 0.596244131455399 - 31\n"
     ]
    },
    {
     "name": "stderr",
     "output_type": "stream",
     "text": [
      "[I 2025-03-26 11:51:33,394] Trial 0 finished with value: 0.4928797775603842 and parameters: {'n_estimators': 400, 'max_depth': 31, 'learning_rate': 0.1552373702113256, 'subsample': 0.6572693790884122, 'colsample_bytree': 0.9036795649350824, 'gamma': 0.36321459652102894, 'min_child_weight': 13, 'scale_pos_weight': np.float64(1.2905829596412555), 'reg_alpha': 0.1, 'tree_method': 'exact', 'grow_policy': 'lossguide'}. Best is trial 0 with value: 0.4928797775603842.\n",
      "[I 2025-03-26 11:51:34,212] Trial 1 finished with value: 0.3706349453775858 and parameters: {'n_estimators': 200, 'max_depth': 25, 'learning_rate': 0.0030489673146516533, 'subsample': 0.8683555520810513, 'colsample_bytree': 0.7258845999523402, 'gamma': 0.5926847956643407, 'min_child_weight': 23, 'scale_pos_weight': 1, 'reg_alpha': 0.5, 'tree_method': 'exact', 'grow_policy': 'depthwise'}. Best is trial 0 with value: 0.4928797775603842.\n",
      "[I 2025-03-26 11:51:34,769] Trial 2 finished with value: 0.5394994419559989 and parameters: {'n_estimators': 100, 'max_depth': 9, 'learning_rate': 0.012936655988325933, 'subsample': 0.7415049532106259, 'colsample_bytree': 0.8198846167310143, 'gamma': 0.4194130736975509, 'min_child_weight': 13, 'scale_pos_weight': np.float64(1.2905829596412555), 'reg_alpha': 1, 'tree_method': 'exact', 'grow_policy': 'lossguide'}. Best is trial 2 with value: 0.5394994419559989.\n",
      "[I 2025-03-26 11:51:35,452] Trial 3 finished with value: 0.5123621392238247 and parameters: {'n_estimators': 450, 'max_depth': 37, 'learning_rate': 0.03437584485411672, 'subsample': 0.7601114711424559, 'colsample_bytree': 0.5386519422199032, 'gamma': 0.23090420689632973, 'min_child_weight': 15, 'scale_pos_weight': np.float64(1.2905829596412555), 'reg_alpha': 0.1, 'tree_method': 'auto', 'grow_policy': 'lossguide'}. Best is trial 2 with value: 0.5394994419559989.\n",
      "[I 2025-03-26 11:51:36,208] Trial 4 finished with value: 0.5128494822886471 and parameters: {'n_estimators': 450, 'max_depth': 43, 'learning_rate': 0.043551701962784975, 'subsample': 0.7999970073860802, 'colsample_bytree': 0.9835900792738763, 'gamma': 0.33458639377540567, 'min_child_weight': 19, 'scale_pos_weight': np.float64(1.2905829596412555), 'reg_alpha': 0, 'tree_method': 'hist', 'grow_policy': 'lossguide'}. Best is trial 2 with value: 0.5394994419559989.\n",
      "[I 2025-03-26 11:51:37,638] Trial 5 finished with value: 0.530682281003508 and parameters: {'n_estimators': 400, 'max_depth': 43, 'learning_rate': 0.01344814225898231, 'subsample': 0.9750669194696566, 'colsample_bytree': 0.6837023766458175, 'gamma': 0.5350031440744614, 'min_child_weight': 41, 'scale_pos_weight': np.float64(1.2905829596412555), 'reg_alpha': 0.5, 'tree_method': 'exact', 'grow_policy': 'depthwise'}. Best is trial 2 with value: 0.5394994419559989.\n",
      "[I 2025-03-26 11:51:37,994] Trial 6 finished with value: 0.5312651888789098 and parameters: {'n_estimators': 300, 'max_depth': 15, 'learning_rate': 0.048665683440062814, 'subsample': 0.7220462960029862, 'colsample_bytree': 0.8988752828452435, 'gamma': 0.9161826642335206, 'min_child_weight': 31, 'scale_pos_weight': np.float64(1.2905829596412555), 'reg_alpha': 0.1, 'tree_method': 'auto', 'grow_policy': 'depthwise'}. Best is trial 2 with value: 0.5394994419559989.\n",
      "[I 2025-03-26 11:51:39,722] Trial 7 finished with value: 0.5004209262570946 and parameters: {'n_estimators': 400, 'max_depth': 41, 'learning_rate': 0.002625678373447694, 'subsample': 0.8402023221394708, 'colsample_bytree': 0.7002444803171134, 'gamma': 0.34928720571707195, 'min_child_weight': 57, 'scale_pos_weight': np.float64(1.2905829596412555), 'reg_alpha': 0.1, 'tree_method': 'approx', 'grow_policy': 'depthwise'}. Best is trial 2 with value: 0.5394994419559989.\n",
      "[I 2025-03-26 11:51:40,522] Trial 8 finished with value: 0.5078802484251606 and parameters: {'n_estimators': 450, 'max_depth': 19, 'learning_rate': 0.01572309882041907, 'subsample': 0.785721599100294, 'colsample_bytree': 0.8369999408464165, 'gamma': 0.6418809978157826, 'min_child_weight': 15, 'scale_pos_weight': 1, 'reg_alpha': 0.1, 'tree_method': 'hist', 'grow_policy': 'depthwise'}. Best is trial 2 with value: 0.5394994419559989.\n",
      "[I 2025-03-26 11:51:40,807] Trial 9 finished with value: 0.5355709363802065 and parameters: {'n_estimators': 350, 'max_depth': 21, 'learning_rate': 0.005504428588490399, 'subsample': 0.9682117684296885, 'colsample_bytree': 0.55092762367169, 'gamma': 0.46314128460458526, 'min_child_weight': 57, 'scale_pos_weight': np.float64(1.2905829596412555), 'reg_alpha': 1, 'tree_method': 'auto', 'grow_policy': 'depthwise'}. Best is trial 2 with value: 0.5394994419559989.\n",
      "[I 2025-03-26 11:51:40,966] A new study created in memory with name: no-name-0798690b-bd92-4cd8-9d4f-ecaf7d6b05ad\n"
     ]
    },
    {
     "name": "stdout",
     "output_type": "stream",
     "text": [
      "Mejores parámetros: {'n_estimators': 100, 'max_depth': 9, 'learning_rate': 0.012936655988325933, 'subsample': 0.7415049532106259, 'colsample_bytree': 0.8198846167310143, 'gamma': 0.4194130736975509, 'min_child_weight': 13, 'scale_pos_weight': np.float64(1.2905829596412555), 'reg_alpha': 1, 'tree_method': 'exact', 'grow_policy': 'lossguide'}\n",
      "aCC ACT: 0.594679186228482\n",
      "MEJOR ACCURACY 0.596244131455399 - 31\n"
     ]
    },
    {
     "name": "stderr",
     "output_type": "stream",
     "text": [
      "[I 2025-03-26 11:51:42,926] Trial 0 finished with value: 0.47892989697485416 and parameters: {'n_estimators': 500, 'max_depth': 25, 'learning_rate': 0.002777327821379812, 'subsample': 0.8327579507519968, 'colsample_bytree': 0.8100421050868136, 'gamma': 0.6842240174631741, 'min_child_weight': 7, 'scale_pos_weight': 1, 'reg_alpha': 0.1, 'tree_method': 'auto', 'grow_policy': 'lossguide'}. Best is trial 0 with value: 0.47892989697485416.\n",
      "[I 2025-03-26 11:51:43,251] Trial 1 finished with value: 0.4993179281295211 and parameters: {'n_estimators': 500, 'max_depth': 5, 'learning_rate': 0.002042708660879359, 'subsample': 0.6468114024465816, 'colsample_bytree': 0.6823623803502956, 'gamma': 0.803410838278303, 'min_child_weight': 67, 'scale_pos_weight': np.float64(1.2905829596412555), 'reg_alpha': 0.1, 'tree_method': 'hist', 'grow_policy': 'depthwise'}. Best is trial 1 with value: 0.4993179281295211.\n",
      "[I 2025-03-26 11:51:43,570] Trial 2 finished with value: 0.3581489377629863 and parameters: {'n_estimators': 450, 'max_depth': 21, 'learning_rate': 0.0010192779894238346, 'subsample': 0.7860933662705412, 'colsample_bytree': 0.6684254592138495, 'gamma': 0.5353994128499643, 'min_child_weight': 65, 'scale_pos_weight': 1, 'reg_alpha': 0.1, 'tree_method': 'hist', 'grow_policy': 'lossguide'}. Best is trial 1 with value: 0.4993179281295211.\n",
      "[I 2025-03-26 11:51:44,504] Trial 3 finished with value: 0.5054885136984174 and parameters: {'n_estimators': 350, 'max_depth': 17, 'learning_rate': 0.01240485340574777, 'subsample': 0.7772689152212391, 'colsample_bytree': 0.8650236033890357, 'gamma': 0.6296323179612743, 'min_child_weight': 61, 'scale_pos_weight': np.float64(1.2905829596412555), 'reg_alpha': 1, 'tree_method': 'exact', 'grow_policy': 'depthwise'}. Best is trial 3 with value: 0.5054885136984174.\n",
      "[I 2025-03-26 11:51:46,223] Trial 4 finished with value: 0.5211014048370624 and parameters: {'n_estimators': 500, 'max_depth': 5, 'learning_rate': 0.03815818093945698, 'subsample': 0.7884009914307086, 'colsample_bytree': 0.8906545608072615, 'gamma': 0.4852748607455015, 'min_child_weight': 23, 'scale_pos_weight': np.float64(1.2905829596412555), 'reg_alpha': 0, 'tree_method': 'exact', 'grow_policy': 'depthwise'}. Best is trial 4 with value: 0.5211014048370624.\n",
      "[I 2025-03-26 11:51:46,460] Trial 5 finished with value: 0.5319043859180588 and parameters: {'n_estimators': 250, 'max_depth': 31, 'learning_rate': 0.018518337641070408, 'subsample': 0.7628171345859358, 'colsample_bytree': 0.6787263522460026, 'gamma': 0.45622597215173044, 'min_child_weight': 43, 'scale_pos_weight': np.float64(1.2905829596412555), 'reg_alpha': 0.5, 'tree_method': 'auto', 'grow_policy': 'lossguide'}. Best is trial 5 with value: 0.5319043859180588.\n",
      "[I 2025-03-26 11:51:46,548] Trial 6 finished with value: 0.5086842122912103 and parameters: {'n_estimators': 100, 'max_depth': 3, 'learning_rate': 0.015489901088871777, 'subsample': 0.6313797229610832, 'colsample_bytree': 0.7329961892568838, 'gamma': 0.02481596347386128, 'min_child_weight': 57, 'scale_pos_weight': np.float64(1.2905829596412555), 'reg_alpha': 0, 'tree_method': 'hist', 'grow_policy': 'lossguide'}. Best is trial 5 with value: 0.5319043859180588.\n",
      "[I 2025-03-26 11:51:47,378] Trial 7 finished with value: 0.4345797723153343 and parameters: {'n_estimators': 200, 'max_depth': 3, 'learning_rate': 0.0012633509194322485, 'subsample': 0.6678706882167049, 'colsample_bytree': 0.6187300126159843, 'gamma': 0.9399086511561258, 'min_child_weight': 45, 'scale_pos_weight': np.float64(1.2905829596412555), 'reg_alpha': 0, 'tree_method': 'approx', 'grow_policy': 'lossguide'}. Best is trial 5 with value: 0.5319043859180588.\n",
      "[I 2025-03-26 11:51:49,550] Trial 8 finished with value: 0.45901959411449067 and parameters: {'n_estimators': 500, 'max_depth': 9, 'learning_rate': 0.0057041142969463015, 'subsample': 0.8889841878579062, 'colsample_bytree': 0.8100293949597671, 'gamma': 0.7715018808312512, 'min_child_weight': 51, 'scale_pos_weight': 1, 'reg_alpha': 1, 'tree_method': 'approx', 'grow_policy': 'depthwise'}. Best is trial 5 with value: 0.5319043859180588.\n",
      "[I 2025-03-26 11:51:50,145] Trial 9 finished with value: 0.5256273933870701 and parameters: {'n_estimators': 250, 'max_depth': 17, 'learning_rate': 0.029163213730948427, 'subsample': 0.7423496206055022, 'colsample_bytree': 0.6900523341537055, 'gamma': 0.42425884841600503, 'min_child_weight': 9, 'scale_pos_weight': 1, 'reg_alpha': 0.1, 'tree_method': 'hist', 'grow_policy': 'lossguide'}. Best is trial 5 with value: 0.5319043859180588.\n",
      "[I 2025-03-26 11:51:50,362] A new study created in memory with name: no-name-69587828-1e1f-47f9-a846-0185c4d3d262\n"
     ]
    },
    {
     "name": "stdout",
     "output_type": "stream",
     "text": [
      "Mejores parámetros: {'n_estimators': 250, 'max_depth': 31, 'learning_rate': 0.018518337641070408, 'subsample': 0.7628171345859358, 'colsample_bytree': 0.6787263522460026, 'gamma': 0.45622597215173044, 'min_child_weight': 43, 'scale_pos_weight': np.float64(1.2905829596412555), 'reg_alpha': 0.5, 'tree_method': 'auto', 'grow_policy': 'lossguide'}\n",
      "aCC ACT: 0.5915492957746479\n",
      "MEJOR ACCURACY 0.596244131455399 - 31\n"
     ]
    },
    {
     "name": "stderr",
     "output_type": "stream",
     "text": [
      "[I 2025-03-26 11:51:50,742] Trial 0 finished with value: 0.5098287744652634 and parameters: {'n_estimators': 250, 'max_depth': 43, 'learning_rate': 0.14880985170269842, 'subsample': 0.8811299574442917, 'colsample_bytree': 0.8168170485857034, 'gamma': 0.6059612819905981, 'min_child_weight': 15, 'scale_pos_weight': 1, 'reg_alpha': 1, 'tree_method': 'auto', 'grow_policy': 'depthwise'}. Best is trial 0 with value: 0.5098287744652634.\n",
      "[I 2025-03-26 11:51:51,027] Trial 1 finished with value: 0.48833387167726966 and parameters: {'n_estimators': 450, 'max_depth': 49, 'learning_rate': 0.09432257183571326, 'subsample': 0.7236705697792658, 'colsample_bytree': 0.7748605312395245, 'gamma': 0.6546783816352624, 'min_child_weight': 67, 'scale_pos_weight': 1, 'reg_alpha': 0, 'tree_method': 'auto', 'grow_policy': 'lossguide'}. Best is trial 0 with value: 0.5098287744652634.\n",
      "[I 2025-03-26 11:51:52,609] Trial 2 finished with value: 0.5362228384129075 and parameters: {'n_estimators': 100, 'max_depth': 11, 'learning_rate': 0.01045762465829118, 'subsample': 0.8393597480725306, 'colsample_bytree': 0.5635964913382427, 'gamma': 0.8118450463416451, 'min_child_weight': 15, 'scale_pos_weight': np.float64(1.2905829596412555), 'reg_alpha': 0, 'tree_method': 'approx', 'grow_policy': 'lossguide'}. Best is trial 2 with value: 0.5362228384129075.\n",
      "[I 2025-03-26 11:51:52,857] Trial 3 finished with value: 0.4971842374623205 and parameters: {'n_estimators': 350, 'max_depth': 17, 'learning_rate': 0.031030831597049276, 'subsample': 0.76690946490294, 'colsample_bytree': 0.6453680013529144, 'gamma': 0.6893272621555703, 'min_child_weight': 65, 'scale_pos_weight': np.float64(1.2905829596412555), 'reg_alpha': 1, 'tree_method': 'auto', 'grow_policy': 'lossguide'}. Best is trial 2 with value: 0.5362228384129075.\n",
      "[I 2025-03-26 11:51:55,277] Trial 4 finished with value: 0.5096405287610553 and parameters: {'n_estimators': 300, 'max_depth': 49, 'learning_rate': 0.06501688818361016, 'subsample': 0.846298403951387, 'colsample_bytree': 0.7083281430583731, 'gamma': 0.7456686051995558, 'min_child_weight': 3, 'scale_pos_weight': np.float64(1.2905829596412555), 'reg_alpha': 1, 'tree_method': 'exact', 'grow_policy': 'lossguide'}. Best is trial 2 with value: 0.5362228384129075.\n",
      "[I 2025-03-26 11:51:56,976] Trial 5 finished with value: 0.5369767169552073 and parameters: {'n_estimators': 400, 'max_depth': 27, 'learning_rate': 0.003747240256661278, 'subsample': 0.6589248358351791, 'colsample_bytree': 0.7038261563425487, 'gamma': 0.8928169286089427, 'min_child_weight': 17, 'scale_pos_weight': np.float64(1.2905829596412555), 'reg_alpha': 0.5, 'tree_method': 'exact', 'grow_policy': 'lossguide'}. Best is trial 5 with value: 0.5369767169552073.\n",
      "[I 2025-03-26 11:51:57,652] Trial 6 finished with value: 0.4334917692790919 and parameters: {'n_estimators': 150, 'max_depth': 47, 'learning_rate': 0.0015979458187957, 'subsample': 0.9249995079923732, 'colsample_bytree': 0.7636888509182902, 'gamma': 0.5119917969948556, 'min_child_weight': 69, 'scale_pos_weight': np.float64(1.2905829596412555), 'reg_alpha': 0.5, 'tree_method': 'approx', 'grow_policy': 'depthwise'}. Best is trial 5 with value: 0.5369767169552073.\n",
      "[I 2025-03-26 11:51:57,885] Trial 7 finished with value: 0.4810308897342644 and parameters: {'n_estimators': 300, 'max_depth': 37, 'learning_rate': 0.04122820271804852, 'subsample': 0.7207358932625157, 'colsample_bytree': 0.6516342570213338, 'gamma': 0.7118049541702336, 'min_child_weight': 47, 'scale_pos_weight': 1, 'reg_alpha': 0.1, 'tree_method': 'auto', 'grow_policy': 'lossguide'}. Best is trial 5 with value: 0.5369767169552073.\n",
      "[I 2025-03-26 11:51:58,419] Trial 8 finished with value: 0.457919690277671 and parameters: {'n_estimators': 350, 'max_depth': 13, 'learning_rate': 0.004501468526303325, 'subsample': 0.8332342997680535, 'colsample_bytree': 0.7126736895591536, 'gamma': 0.8510440788258281, 'min_child_weight': 19, 'scale_pos_weight': 1, 'reg_alpha': 1, 'tree_method': 'hist', 'grow_policy': 'depthwise'}. Best is trial 5 with value: 0.5369767169552073.\n",
      "[I 2025-03-26 11:51:59,586] Trial 9 finished with value: 0.4846972107196198 and parameters: {'n_estimators': 400, 'max_depth': 11, 'learning_rate': 0.02452849668638626, 'subsample': 0.6380201985927941, 'colsample_bytree': 0.9494738234056048, 'gamma': 0.006353076172511352, 'min_child_weight': 37, 'scale_pos_weight': 1, 'reg_alpha': 0, 'tree_method': 'exact', 'grow_policy': 'lossguide'}. Best is trial 5 with value: 0.5369767169552073.\n",
      "[I 2025-03-26 11:52:00,113] A new study created in memory with name: no-name-73043958-57d7-41f3-a947-2ad95159fffb\n"
     ]
    },
    {
     "name": "stdout",
     "output_type": "stream",
     "text": [
      "Mejores parámetros: {'n_estimators': 400, 'max_depth': 27, 'learning_rate': 0.003747240256661278, 'subsample': 0.6589248358351791, 'colsample_bytree': 0.7038261563425487, 'gamma': 0.8928169286089427, 'min_child_weight': 17, 'scale_pos_weight': np.float64(1.2905829596412555), 'reg_alpha': 0.5, 'tree_method': 'exact', 'grow_policy': 'lossguide'}\n",
      "aCC ACT: 0.5805946791862285\n",
      "MEJOR ACCURACY 0.596244131455399 - 31\n"
     ]
    },
    {
     "name": "stderr",
     "output_type": "stream",
     "text": [
      "[I 2025-03-26 11:52:01,603] Trial 0 finished with value: 0.5188810820522288 and parameters: {'n_estimators': 300, 'max_depth': 41, 'learning_rate': 0.07722703019545253, 'subsample': 0.6488199467320804, 'colsample_bytree': 0.801001003395719, 'gamma': 0.5255145833645837, 'min_child_weight': 33, 'scale_pos_weight': np.float64(1.2905829596412555), 'reg_alpha': 0.5, 'tree_method': 'approx', 'grow_policy': 'lossguide'}. Best is trial 0 with value: 0.5188810820522288.\n",
      "[I 2025-03-26 11:52:02,504] Trial 1 finished with value: 0.4895739485021265 and parameters: {'n_estimators': 450, 'max_depth': 5, 'learning_rate': 0.09266529179077343, 'subsample': 0.8880856070125955, 'colsample_bytree': 0.647986718428516, 'gamma': 0.4854064721794692, 'min_child_weight': 59, 'scale_pos_weight': 1, 'reg_alpha': 0.5, 'tree_method': 'exact', 'grow_policy': 'lossguide'}. Best is trial 0 with value: 0.5188810820522288.\n",
      "[I 2025-03-26 11:52:04,269] Trial 2 finished with value: 0.4403351934271373 and parameters: {'n_estimators': 100, 'max_depth': 43, 'learning_rate': 0.010025671098164985, 'subsample': 0.7909827852987557, 'colsample_bytree': 0.8576319906716594, 'gamma': 0.8401913503045872, 'min_child_weight': 7, 'scale_pos_weight': 1, 'reg_alpha': 0.5, 'tree_method': 'approx', 'grow_policy': 'depthwise'}. Best is trial 0 with value: 0.5188810820522288.\n",
      "[I 2025-03-26 11:52:05,497] Trial 3 finished with value: 0.5124922892401557 and parameters: {'n_estimators': 200, 'max_depth': 7, 'learning_rate': 0.1454415669061229, 'subsample': 0.8164720064971783, 'colsample_bytree': 0.9479123740811648, 'gamma': 0.8865771081727442, 'min_child_weight': 1, 'scale_pos_weight': 1, 'reg_alpha': 0.5, 'tree_method': 'approx', 'grow_policy': 'depthwise'}. Best is trial 0 with value: 0.5188810820522288.\n",
      "[I 2025-03-26 11:52:06,252] Trial 4 finished with value: 0.4563213057927931 and parameters: {'n_estimators': 200, 'max_depth': 35, 'learning_rate': 0.0016180429330077822, 'subsample': 0.9802547300403971, 'colsample_bytree': 0.9170562226957875, 'gamma': 0.7191312696016812, 'min_child_weight': 51, 'scale_pos_weight': np.float64(1.2905829596412555), 'reg_alpha': 1, 'tree_method': 'exact', 'grow_policy': 'depthwise'}. Best is trial 0 with value: 0.5188810820522288.\n",
      "[I 2025-03-26 11:52:09,679] Trial 5 finished with value: 0.5217964050086472 and parameters: {'n_estimators': 350, 'max_depth': 25, 'learning_rate': 0.030855457750371205, 'subsample': 0.9481587217982271, 'colsample_bytree': 0.7980127460011222, 'gamma': 0.3425843014914942, 'min_child_weight': 23, 'scale_pos_weight': np.float64(1.2905829596412555), 'reg_alpha': 0, 'tree_method': 'approx', 'grow_policy': 'lossguide'}. Best is trial 5 with value: 0.5217964050086472.\n",
      "[I 2025-03-26 11:52:09,861] Trial 6 finished with value: 0.515762428143766 and parameters: {'n_estimators': 100, 'max_depth': 21, 'learning_rate': 0.1463923563509311, 'subsample': 0.9046144455704022, 'colsample_bytree': 0.6969130521724503, 'gamma': 0.7860075569753656, 'min_child_weight': 23, 'scale_pos_weight': np.float64(1.2905829596412555), 'reg_alpha': 0, 'tree_method': 'auto', 'grow_policy': 'depthwise'}. Best is trial 5 with value: 0.5217964050086472.\n",
      "[I 2025-03-26 11:52:13,290] Trial 7 finished with value: 0.3581489377629863 and parameters: {'n_estimators': 150, 'max_depth': 23, 'learning_rate': 0.0017255599451415549, 'subsample': 0.8408145596535178, 'colsample_bytree': 0.6226624617438135, 'gamma': 0.9818711522730027, 'min_child_weight': 5, 'scale_pos_weight': 1, 'reg_alpha': 1, 'tree_method': 'approx', 'grow_policy': 'depthwise'}. Best is trial 5 with value: 0.5217964050086472.\n",
      "[I 2025-03-26 11:52:14,170] Trial 8 finished with value: 0.3877791524649819 and parameters: {'n_estimators': 200, 'max_depth': 47, 'learning_rate': 0.005115311516910582, 'subsample': 0.8989333914295223, 'colsample_bytree': 0.601515278795367, 'gamma': 0.24848229413241063, 'min_child_weight': 51, 'scale_pos_weight': 1, 'reg_alpha': 0.1, 'tree_method': 'approx', 'grow_policy': 'lossguide'}. Best is trial 5 with value: 0.5217964050086472.\n",
      "[I 2025-03-26 11:52:14,669] Trial 9 finished with value: 0.5108751710142905 and parameters: {'n_estimators': 400, 'max_depth': 25, 'learning_rate': 0.02078413706229836, 'subsample': 0.9205181346076412, 'colsample_bytree': 0.7355612635714206, 'gamma': 0.6807390521214804, 'min_child_weight': 31, 'scale_pos_weight': np.float64(1.2905829596412555), 'reg_alpha': 0.1, 'tree_method': 'hist', 'grow_policy': 'depthwise'}. Best is trial 5 with value: 0.5217964050086472.\n",
      "[I 2025-03-26 11:52:18,378] A new study created in memory with name: no-name-a522e38c-9bc1-4528-ba6d-334b0d756432\n"
     ]
    },
    {
     "name": "stdout",
     "output_type": "stream",
     "text": [
      "Mejores parámetros: {'n_estimators': 350, 'max_depth': 25, 'learning_rate': 0.030855457750371205, 'subsample': 0.9481587217982271, 'colsample_bytree': 0.7980127460011222, 'gamma': 0.3425843014914942, 'min_child_weight': 23, 'scale_pos_weight': np.float64(1.2905829596412555), 'reg_alpha': 0, 'tree_method': 'approx', 'grow_policy': 'lossguide'}\n",
      "aCC ACT: 0.5852895148669797\n",
      "MEJOR ACCURACY 0.596244131455399 - 31\n"
     ]
    },
    {
     "name": "stderr",
     "output_type": "stream",
     "text": [
      "[I 2025-03-26 11:52:19,567] Trial 0 finished with value: 0.523289380009744 and parameters: {'n_estimators': 250, 'max_depth': 5, 'learning_rate': 0.06522925310178668, 'subsample': 0.7149220739157384, 'colsample_bytree': 0.7251752934836355, 'gamma': 0.3039123053407655, 'min_child_weight': 37, 'scale_pos_weight': np.float64(1.2905829596412555), 'reg_alpha': 0.1, 'tree_method': 'approx', 'grow_policy': 'lossguide'}. Best is trial 0 with value: 0.523289380009744.\n",
      "[I 2025-03-26 11:52:20,299] Trial 1 finished with value: 0.5478649734349752 and parameters: {'n_estimators': 150, 'max_depth': 11, 'learning_rate': 0.01080191866425965, 'subsample': 0.8679179122454443, 'colsample_bytree': 0.9786995545429955, 'gamma': 0.8333332507241334, 'min_child_weight': 35, 'scale_pos_weight': np.float64(1.2905829596412555), 'reg_alpha': 0.1, 'tree_method': 'exact', 'grow_policy': 'depthwise'}. Best is trial 1 with value: 0.5478649734349752.\n",
      "[I 2025-03-26 11:52:21,078] Trial 2 finished with value: 0.3581489377629863 and parameters: {'n_estimators': 250, 'max_depth': 13, 'learning_rate': 0.0012143501078372536, 'subsample': 0.8274179028635856, 'colsample_bytree': 0.9613823995273201, 'gamma': 0.17905510581496975, 'min_child_weight': 49, 'scale_pos_weight': 1, 'reg_alpha': 1, 'tree_method': 'exact', 'grow_policy': 'lossguide'}. Best is trial 1 with value: 0.5478649734349752.\n",
      "[I 2025-03-26 11:52:21,351] Trial 3 finished with value: 0.5102286189269428 and parameters: {'n_estimators': 250, 'max_depth': 21, 'learning_rate': 0.0024731909468389407, 'subsample': 0.6529380564907868, 'colsample_bytree': 0.7549902910407338, 'gamma': 0.3407441486260292, 'min_child_weight': 31, 'scale_pos_weight': np.float64(1.2905829596412555), 'reg_alpha': 0, 'tree_method': 'hist', 'grow_policy': 'depthwise'}. Best is trial 1 with value: 0.5478649734349752.\n",
      "[I 2025-03-26 11:52:21,492] Trial 4 finished with value: 0.3581489377629863 and parameters: {'n_estimators': 100, 'max_depth': 45, 'learning_rate': 0.001066108395147563, 'subsample': 0.898297113378788, 'colsample_bytree': 0.5668610855886533, 'gamma': 0.14775294913593906, 'min_child_weight': 31, 'scale_pos_weight': 1, 'reg_alpha': 0.5, 'tree_method': 'hist', 'grow_policy': 'lossguide'}. Best is trial 1 with value: 0.5478649734349752.\n",
      "[I 2025-03-26 11:52:21,653] Trial 5 finished with value: 0.49738199401719924 and parameters: {'n_estimators': 200, 'max_depth': 11, 'learning_rate': 0.03420534103379333, 'subsample': 0.8078577989133243, 'colsample_bytree': 0.6448008728177542, 'gamma': 0.7107687558948075, 'min_child_weight': 67, 'scale_pos_weight': np.float64(1.2905829596412555), 'reg_alpha': 0.1, 'tree_method': 'auto', 'grow_policy': 'lossguide'}. Best is trial 1 with value: 0.5478649734349752.\n",
      "[I 2025-03-26 11:52:22,132] Trial 6 finished with value: 0.5088996059690277 and parameters: {'n_estimators': 500, 'max_depth': 39, 'learning_rate': 0.026818586730258543, 'subsample': 0.619723723335679, 'colsample_bytree': 0.7994962249130606, 'gamma': 0.25851495617716247, 'min_child_weight': 27, 'scale_pos_weight': 1, 'reg_alpha': 1, 'tree_method': 'hist', 'grow_policy': 'lossguide'}. Best is trial 1 with value: 0.5478649734349752.\n",
      "[I 2025-03-26 11:52:22,242] Trial 7 finished with value: 0.49981460666980954 and parameters: {'n_estimators': 100, 'max_depth': 5, 'learning_rate': 0.01546367095938269, 'subsample': 0.7090441194635628, 'colsample_bytree': 0.7675520511509792, 'gamma': 0.11667804413406246, 'min_child_weight': 57, 'scale_pos_weight': np.float64(1.2905829596412555), 'reg_alpha': 0.1, 'tree_method': 'auto', 'grow_policy': 'lossguide'}. Best is trial 1 with value: 0.5478649734349752.\n",
      "[I 2025-03-26 11:52:22,458] Trial 8 finished with value: 0.5072101404327044 and parameters: {'n_estimators': 250, 'max_depth': 25, 'learning_rate': 0.007968412411015726, 'subsample': 0.7258844903693806, 'colsample_bytree': 0.6678674173776716, 'gamma': 0.07249752386882291, 'min_child_weight': 49, 'scale_pos_weight': np.float64(1.2905829596412555), 'reg_alpha': 0, 'tree_method': 'auto', 'grow_policy': 'depthwise'}. Best is trial 1 with value: 0.5478649734349752.\n",
      "[I 2025-03-26 11:52:22,848] Trial 9 finished with value: 0.5337821926763482 and parameters: {'n_estimators': 150, 'max_depth': 27, 'learning_rate': 0.016154417166510567, 'subsample': 0.9571841141725412, 'colsample_bytree': 0.8890903671056376, 'gamma': 0.10051597803343737, 'min_child_weight': 17, 'scale_pos_weight': np.float64(1.2905829596412555), 'reg_alpha': 0.1, 'tree_method': 'hist', 'grow_policy': 'lossguide'}. Best is trial 1 with value: 0.5478649734349752.\n",
      "[I 2025-03-26 11:52:23,055] A new study created in memory with name: no-name-a72b0577-8cc2-4a05-8116-a54d12bdc3c3\n"
     ]
    },
    {
     "name": "stdout",
     "output_type": "stream",
     "text": [
      "Mejores parámetros: {'n_estimators': 150, 'max_depth': 11, 'learning_rate': 0.01080191866425965, 'subsample': 0.8679179122454443, 'colsample_bytree': 0.9786995545429955, 'gamma': 0.8333332507241334, 'min_child_weight': 35, 'scale_pos_weight': np.float64(1.2905829596412555), 'reg_alpha': 0.1, 'tree_method': 'exact', 'grow_policy': 'depthwise'}\n",
      "aCC ACT: 0.5915492957746479\n",
      "MEJOR ACCURACY 0.596244131455399 - 31\n"
     ]
    },
    {
     "name": "stderr",
     "output_type": "stream",
     "text": [
      "[I 2025-03-26 11:52:23,319] Trial 0 finished with value: 0.5286228009703191 and parameters: {'n_estimators': 200, 'max_depth': 5, 'learning_rate': 0.03608896876402899, 'subsample': 0.6173877942579008, 'colsample_bytree': 0.5582118515832657, 'gamma': 0.6038656889488131, 'min_child_weight': 13, 'scale_pos_weight': np.float64(1.2905829596412555), 'reg_alpha': 0, 'tree_method': 'hist', 'grow_policy': 'lossguide'}. Best is trial 0 with value: 0.5286228009703191.\n",
      "[I 2025-03-26 11:52:24,806] Trial 1 finished with value: 0.5323199746370877 and parameters: {'n_estimators': 250, 'max_depth': 31, 'learning_rate': 0.04744606811582685, 'subsample': 0.768703215026582, 'colsample_bytree': 0.6969541066238906, 'gamma': 0.23222257380049705, 'min_child_weight': 31, 'scale_pos_weight': np.float64(1.2905829596412555), 'reg_alpha': 0.1, 'tree_method': 'approx', 'grow_policy': 'lossguide'}. Best is trial 1 with value: 0.5323199746370877.\n",
      "[I 2025-03-26 11:52:25,626] Trial 2 finished with value: 0.5273432537733662 and parameters: {'n_estimators': 450, 'max_depth': 13, 'learning_rate': 0.006274627099022068, 'subsample': 0.8886002566626112, 'colsample_bytree': 0.6769591871639263, 'gamma': 0.46068430463156806, 'min_child_weight': 17, 'scale_pos_weight': np.float64(1.2905829596412555), 'reg_alpha': 0, 'tree_method': 'auto', 'grow_policy': 'depthwise'}. Best is trial 1 with value: 0.5323199746370877.\n",
      "[I 2025-03-26 11:52:25,955] Trial 3 finished with value: 0.4987556487853384 and parameters: {'n_estimators': 350, 'max_depth': 47, 'learning_rate': 0.036960785412301696, 'subsample': 0.9451930947633296, 'colsample_bytree': 0.9557532952835492, 'gamma': 0.8153404822787483, 'min_child_weight': 59, 'scale_pos_weight': np.float64(1.2905829596412555), 'reg_alpha': 0.5, 'tree_method': 'hist', 'grow_policy': 'depthwise'}. Best is trial 1 with value: 0.5323199746370877.\n",
      "[I 2025-03-26 11:52:26,199] Trial 4 finished with value: 0.5091901403889252 and parameters: {'n_estimators': 250, 'max_depth': 35, 'learning_rate': 0.04971343924291246, 'subsample': 0.8730346000771834, 'colsample_bytree': 0.5501044892451092, 'gamma': 0.18844613250139997, 'min_child_weight': 37, 'scale_pos_weight': 1, 'reg_alpha': 0.1, 'tree_method': 'auto', 'grow_policy': 'lossguide'}. Best is trial 1 with value: 0.5323199746370877.\n",
      "[I 2025-03-26 11:52:26,506] Trial 5 finished with value: 0.36017448992379597 and parameters: {'n_estimators': 300, 'max_depth': 45, 'learning_rate': 0.0019296656512069164, 'subsample': 0.6235481780768835, 'colsample_bytree': 0.6674972947727152, 'gamma': 0.6450704062935658, 'min_child_weight': 25, 'scale_pos_weight': 1, 'reg_alpha': 1, 'tree_method': 'auto', 'grow_policy': 'lossguide'}. Best is trial 1 with value: 0.5323199746370877.\n",
      "[I 2025-03-26 11:52:26,680] Trial 6 finished with value: 0.5012310671324292 and parameters: {'n_estimators': 250, 'max_depth': 7, 'learning_rate': 0.022349226931750565, 'subsample': 0.7129738463830813, 'colsample_bytree': 0.6114796622664729, 'gamma': 0.18711627367057293, 'min_child_weight': 69, 'scale_pos_weight': np.float64(1.2905829596412555), 'reg_alpha': 1, 'tree_method': 'auto', 'grow_policy': 'lossguide'}. Best is trial 1 with value: 0.5323199746370877.\n",
      "[I 2025-03-26 11:52:26,852] Trial 7 finished with value: 0.48015402585734474 and parameters: {'n_estimators': 100, 'max_depth': 9, 'learning_rate': 0.02410267021250007, 'subsample': 0.6058394002296851, 'colsample_bytree': 0.7800833038723931, 'gamma': 0.03216205874612199, 'min_child_weight': 17, 'scale_pos_weight': 1, 'reg_alpha': 1, 'tree_method': 'auto', 'grow_policy': 'lossguide'}. Best is trial 1 with value: 0.5323199746370877.\n",
      "[I 2025-03-26 11:52:27,365] Trial 8 finished with value: 0.5339311240125533 and parameters: {'n_estimators': 100, 'max_depth': 33, 'learning_rate': 0.11231140525921521, 'subsample': 0.6736863658993911, 'colsample_bytree': 0.5362338089926535, 'gamma': 0.8904856842469283, 'min_child_weight': 37, 'scale_pos_weight': np.float64(1.2905829596412555), 'reg_alpha': 1, 'tree_method': 'approx', 'grow_policy': 'depthwise'}. Best is trial 8 with value: 0.5339311240125533.\n",
      "[I 2025-03-26 11:52:28,008] Trial 9 finished with value: 0.47675781306166565 and parameters: {'n_estimators': 250, 'max_depth': 29, 'learning_rate': 0.17280118634325672, 'subsample': 0.7537623975680812, 'colsample_bytree': 0.8046970815634853, 'gamma': 0.09186463031061554, 'min_child_weight': 49, 'scale_pos_weight': np.float64(1.2905829596412555), 'reg_alpha': 0, 'tree_method': 'exact', 'grow_policy': 'lossguide'}. Best is trial 8 with value: 0.5339311240125533.\n",
      "[I 2025-03-26 11:52:28,292] A new study created in memory with name: no-name-589673fb-1ea1-4150-871b-f792a9746972\n"
     ]
    },
    {
     "name": "stdout",
     "output_type": "stream",
     "text": [
      "Mejores parámetros: {'n_estimators': 100, 'max_depth': 33, 'learning_rate': 0.11231140525921521, 'subsample': 0.6736863658993911, 'colsample_bytree': 0.5362338089926535, 'gamma': 0.8904856842469283, 'min_child_weight': 37, 'scale_pos_weight': np.float64(1.2905829596412555), 'reg_alpha': 1, 'tree_method': 'approx', 'grow_policy': 'depthwise'}\n",
      "aCC ACT: 0.5790297339593115\n",
      "MEJOR ACCURACY 0.596244131455399 - 31\n"
     ]
    },
    {
     "name": "stderr",
     "output_type": "stream",
     "text": [
      "[I 2025-03-26 11:52:29,246] Trial 0 finished with value: 0.5058832806058419 and parameters: {'n_estimators': 250, 'max_depth': 47, 'learning_rate': 0.0483437145318464, 'subsample': 0.8394633936788146, 'colsample_bytree': 0.5780093202212182, 'gamma': 0.15599452033620265, 'min_child_weight': 5, 'scale_pos_weight': 1, 'reg_alpha': 0.5, 'tree_method': 'hist', 'grow_policy': 'depthwise'}. Best is trial 0 with value: 0.5058832806058419.\n",
      "[I 2025-03-26 11:52:30,112] Trial 1 finished with value: 0.4683579349708844 and parameters: {'n_estimators': 200, 'max_depth': 31, 'learning_rate': 0.002094013887393744, 'subsample': 0.7168578594140873, 'colsample_bytree': 0.6831809216468459, 'gamma': 0.45606998421703593, 'min_child_weight': 55, 'scale_pos_weight': np.float64(1.2905829596412555), 'reg_alpha': 0.5, 'tree_method': 'approx', 'grow_policy': 'depthwise'}. Best is trial 0 with value: 0.5058832806058419.\n",
      "[I 2025-03-26 11:52:31,371] Trial 2 finished with value: 0.3766622934886953 and parameters: {'n_estimators': 400, 'max_depth': 23, 'learning_rate': 0.0019090338932926938, 'subsample': 0.798070764044508, 'colsample_bytree': 0.5171942605576092, 'gamma': 0.9093204020787821, 'min_child_weight': 19, 'scale_pos_weight': 1, 'reg_alpha': 1, 'tree_method': 'exact', 'grow_policy': 'depthwise'}. Best is trial 0 with value: 0.5058832806058419.\n",
      "[I 2025-03-26 11:52:31,542] Trial 3 finished with value: 0.5248407813491741 and parameters: {'n_estimators': 150, 'max_depth': 5, 'learning_rate': 0.005605248221933017, 'subsample': 0.7554709158757928, 'colsample_bytree': 0.6356745158869479, 'gamma': 0.8287375091519293, 'min_child_weight': 25, 'scale_pos_weight': np.float64(1.2905829596412555), 'reg_alpha': 1, 'tree_method': 'hist', 'grow_policy': 'lossguide'}. Best is trial 3 with value: 0.5248407813491741.\n",
      "[I 2025-03-26 11:52:31,993] Trial 4 finished with value: 0.5355496817602772 and parameters: {'n_estimators': 400, 'max_depth': 5, 'learning_rate': 0.006680983417211186, 'subsample': 0.6463476238100518, 'colsample_bytree': 0.9315517129377968, 'gamma': 0.6232981268275579, 'min_child_weight': 23, 'scale_pos_weight': np.float64(1.2905829596412555), 'reg_alpha': 1, 'tree_method': 'hist', 'grow_policy': 'lossguide'}. Best is trial 4 with value: 0.5355496817602772.\n",
      "[I 2025-03-26 11:52:33,295] Trial 5 finished with value: 0.5038446128514187 and parameters: {'n_estimators': 300, 'max_depth': 27, 'learning_rate': 0.009633513440110398, 'subsample': 0.610167650697638, 'colsample_bytree': 0.5539457134966522, 'gamma': 0.03142918568673425, 'min_child_weight': 45, 'scale_pos_weight': np.float64(1.2905829596412555), 'reg_alpha': 0, 'tree_method': 'approx', 'grow_policy': 'depthwise'}. Best is trial 4 with value: 0.5355496817602772.\n",
      "[I 2025-03-26 11:52:33,570] Trial 6 finished with value: 0.4830093665180085 and parameters: {'n_estimators': 350, 'max_depth': 43, 'learning_rate': 0.07067625933120901, 'subsample': 0.6746280235544143, 'colsample_bytree': 0.9462794992449889, 'gamma': 0.5393422419156507, 'min_child_weight': 57, 'scale_pos_weight': 1, 'reg_alpha': 1, 'tree_method': 'auto', 'grow_policy': 'depthwise'}. Best is trial 4 with value: 0.5355496817602772.\n",
      "[I 2025-03-26 11:52:33,752] Trial 7 finished with value: 0.3949636270747371 and parameters: {'n_estimators': 250, 'max_depth': 47, 'learning_rate': 0.005542422655708619, 'subsample': 0.8075162486973464, 'colsample_bytree': 0.8515094794475889, 'gamma': 0.363629602379294, 'min_child_weight': 69, 'scale_pos_weight': 1, 'reg_alpha': 0, 'tree_method': 'auto', 'grow_policy': 'depthwise'}. Best is trial 4 with value: 0.5355496817602772.\n",
      "[I 2025-03-26 11:52:33,985] Trial 8 finished with value: 0.5027787770899034 and parameters: {'n_estimators': 150, 'max_depth': 25, 'learning_rate': 0.18535796813856756, 'subsample': 0.6968221086046001, 'colsample_bytree': 0.8360677737029393, 'gamma': 0.7616196153287176, 'min_child_weight': 17, 'scale_pos_weight': 1, 'reg_alpha': 0.1, 'tree_method': 'auto', 'grow_policy': 'lossguide'}. Best is trial 4 with value: 0.5355496817602772.\n",
      "[I 2025-03-26 11:52:34,588] Trial 9 finished with value: 0.3581489377629863 and parameters: {'n_estimators': 100, 'max_depth': 27, 'learning_rate': 0.0033202713090436527, 'subsample': 0.8580691161637799, 'colsample_bytree': 0.5871832145024958, 'gamma': 0.690937738102466, 'min_child_weight': 27, 'scale_pos_weight': 1, 'reg_alpha': 0.5, 'tree_method': 'approx', 'grow_policy': 'depthwise'}. Best is trial 4 with value: 0.5355496817602772.\n",
      "[I 2025-03-26 11:52:34,961] A new study created in memory with name: no-name-f360fd3b-503c-4306-9eb5-ac3bb8a016b6\n"
     ]
    },
    {
     "name": "stdout",
     "output_type": "stream",
     "text": [
      "Mejores parámetros: {'n_estimators': 400, 'max_depth': 5, 'learning_rate': 0.006680983417211186, 'subsample': 0.6463476238100518, 'colsample_bytree': 0.9315517129377968, 'gamma': 0.6232981268275579, 'min_child_weight': 23, 'scale_pos_weight': np.float64(1.2905829596412555), 'reg_alpha': 1, 'tree_method': 'hist', 'grow_policy': 'lossguide'}\n",
      "aCC ACT: 0.5852895148669797\n",
      "MEJOR ACCURACY 0.596244131455399 - 31\n"
     ]
    },
    {
     "name": "stderr",
     "output_type": "stream",
     "text": [
      "[I 2025-03-26 11:52:35,338] Trial 0 finished with value: 0.3581489377629863 and parameters: {'n_estimators': 150, 'max_depth': 31, 'learning_rate': 0.0020273867775857284, 'subsample': 0.6962358479861395, 'colsample_bytree': 0.6635695279055699, 'gamma': 0.8591374909485977, 'min_child_weight': 47, 'scale_pos_weight': 1, 'reg_alpha': 0.5, 'tree_method': 'exact', 'grow_policy': 'depthwise'}. Best is trial 0 with value: 0.3581489377629863.\n",
      "[I 2025-03-26 11:52:37,283] Trial 1 finished with value: 0.516551056155395 and parameters: {'n_estimators': 450, 'max_depth': 43, 'learning_rate': 0.17193738415929738, 'subsample': 0.7541507657580553, 'colsample_bytree': 0.9772440625543326, 'gamma': 0.44575836083971887, 'min_child_weight': 47, 'scale_pos_weight': np.float64(1.2905829596412555), 'reg_alpha': 1, 'tree_method': 'approx', 'grow_policy': 'depthwise'}. Best is trial 1 with value: 0.516551056155395.\n",
      "[I 2025-03-26 11:52:37,402] Trial 2 finished with value: 0.5273861765133592 and parameters: {'n_estimators': 100, 'max_depth': 11, 'learning_rate': 0.15594596263448823, 'subsample': 0.7647811933545434, 'colsample_bytree': 0.9325085603035909, 'gamma': 0.6721772794761761, 'min_child_weight': 45, 'scale_pos_weight': np.float64(1.2905829596412555), 'reg_alpha': 0.5, 'tree_method': 'hist', 'grow_policy': 'lossguide'}. Best is trial 2 with value: 0.5273861765133592.\n",
      "[I 2025-03-26 11:52:39,780] Trial 3 finished with value: 0.5072205920161739 and parameters: {'n_estimators': 400, 'max_depth': 31, 'learning_rate': 0.017483786750824404, 'subsample': 0.6824327403653208, 'colsample_bytree': 0.599580738311351, 'gamma': 0.7957388648160442, 'min_child_weight': 21, 'scale_pos_weight': 1, 'reg_alpha': 0.1, 'tree_method': 'approx', 'grow_policy': 'depthwise'}. Best is trial 2 with value: 0.5273861765133592.\n",
      "[I 2025-03-26 11:52:40,095] Trial 4 finished with value: 0.5012570547675212 and parameters: {'n_estimators': 500, 'max_depth': 27, 'learning_rate': 0.11753737424861138, 'subsample': 0.6794319537745256, 'colsample_bytree': 0.7972245934092154, 'gamma': 0.9654085816772633, 'min_child_weight': 69, 'scale_pos_weight': np.float64(1.2905829596412555), 'reg_alpha': 0.5, 'tree_method': 'hist', 'grow_policy': 'depthwise'}. Best is trial 2 with value: 0.5273861765133592.\n",
      "[I 2025-03-26 11:52:40,973] Trial 5 finished with value: 0.535346953168151 and parameters: {'n_estimators': 250, 'max_depth': 45, 'learning_rate': 0.003862505771148904, 'subsample': 0.7773250778915937, 'colsample_bytree': 0.8084684879104476, 'gamma': 0.10335251087815445, 'min_child_weight': 35, 'scale_pos_weight': np.float64(1.2905829596412555), 'reg_alpha': 0.5, 'tree_method': 'exact', 'grow_policy': 'depthwise'}. Best is trial 5 with value: 0.535346953168151.\n",
      "[I 2025-03-26 11:52:41,227] Trial 6 finished with value: 0.5353116467970762 and parameters: {'n_estimators': 250, 'max_depth': 31, 'learning_rate': 0.009900366230378113, 'subsample': 0.8776588542987803, 'colsample_bytree': 0.7423432448018132, 'gamma': 0.12826034157607324, 'min_child_weight': 45, 'scale_pos_weight': np.float64(1.2905829596412555), 'reg_alpha': 1, 'tree_method': 'auto', 'grow_policy': 'lossguide'}. Best is trial 5 with value: 0.535346953168151.\n",
      "[I 2025-03-26 11:52:41,346] Trial 7 finished with value: 0.4757769333979206 and parameters: {'n_estimators': 100, 'max_depth': 31, 'learning_rate': 0.047483177601617105, 'subsample': 0.7168790177104033, 'colsample_bytree': 0.7613988081636218, 'gamma': 0.8148518862506177, 'min_child_weight': 41, 'scale_pos_weight': 1, 'reg_alpha': 0, 'tree_method': 'auto', 'grow_policy': 'depthwise'}. Best is trial 5 with value: 0.535346953168151.\n",
      "[I 2025-03-26 11:52:41,660] Trial 8 finished with value: 0.5083620275614559 and parameters: {'n_estimators': 450, 'max_depth': 3, 'learning_rate': 0.001011936670677588, 'subsample': 0.9697671005257467, 'colsample_bytree': 0.8369666255038108, 'gamma': 0.9948145801062084, 'min_child_weight': 33, 'scale_pos_weight': np.float64(1.2905829596412555), 'reg_alpha': 0.5, 'tree_method': 'hist', 'grow_policy': 'depthwise'}. Best is trial 5 with value: 0.535346953168151.\n",
      "[I 2025-03-26 11:52:42,083] Trial 9 finished with value: 0.5234728089291306 and parameters: {'n_estimators': 200, 'max_depth': 49, 'learning_rate': 0.1986466791874029, 'subsample': 0.7780852400528976, 'colsample_bytree': 0.5223728477209137, 'gamma': 0.44706112349741334, 'min_child_weight': 49, 'scale_pos_weight': np.float64(1.2905829596412555), 'reg_alpha': 0, 'tree_method': 'exact', 'grow_policy': 'depthwise'}. Best is trial 5 with value: 0.535346953168151.\n",
      "[I 2025-03-26 11:52:42,372] A new study created in memory with name: no-name-8784c061-fe77-4ab2-8fcc-404d7d7d6c42\n"
     ]
    },
    {
     "name": "stdout",
     "output_type": "stream",
     "text": [
      "Mejores parámetros: {'n_estimators': 250, 'max_depth': 45, 'learning_rate': 0.003862505771148904, 'subsample': 0.7773250778915937, 'colsample_bytree': 0.8084684879104476, 'gamma': 0.10335251087815445, 'min_child_weight': 35, 'scale_pos_weight': np.float64(1.2905829596412555), 'reg_alpha': 0.5, 'tree_method': 'exact', 'grow_policy': 'depthwise'}\n",
      "aCC ACT: 0.5837245696400626\n",
      "MEJOR ACCURACY 0.596244131455399 - 31\n"
     ]
    },
    {
     "name": "stderr",
     "output_type": "stream",
     "text": [
      "[I 2025-03-26 11:52:44,830] Trial 0 finished with value: 0.5245873459349675 and parameters: {'n_estimators': 450, 'max_depth': 7, 'learning_rate': 0.051693993553568005, 'subsample': 0.7442003345025143, 'colsample_bytree': 0.679655418904036, 'gamma': 0.6092383806181517, 'min_child_weight': 27, 'scale_pos_weight': np.float64(1.2905829596412555), 'reg_alpha': 0.1, 'tree_method': 'approx', 'grow_policy': 'depthwise'}. Best is trial 0 with value: 0.5245873459349675.\n",
      "[I 2025-03-26 11:52:44,981] Trial 1 finished with value: 0.3581489377629863 and parameters: {'n_estimators': 150, 'max_depth': 33, 'learning_rate': 0.0020901608053622693, 'subsample': 0.7834816281221451, 'colsample_bytree': 0.9369315925781592, 'gamma': 0.2584503058670736, 'min_child_weight': 47, 'scale_pos_weight': 1, 'reg_alpha': 0, 'tree_method': 'hist', 'grow_policy': 'depthwise'}. Best is trial 0 with value: 0.5245873459349675.\n",
      "[I 2025-03-26 11:52:45,214] Trial 2 finished with value: 0.4803970446131947 and parameters: {'n_estimators': 300, 'max_depth': 5, 'learning_rate': 0.04327653726022918, 'subsample': 0.6290031253590544, 'colsample_bytree': 0.9413057909649398, 'gamma': 0.7260578185665586, 'min_child_weight': 59, 'scale_pos_weight': 1, 'reg_alpha': 0, 'tree_method': 'hist', 'grow_policy': 'lossguide'}. Best is trial 0 with value: 0.5245873459349675.\n",
      "[I 2025-03-26 11:52:45,388] Trial 3 finished with value: 0.5172414899119051 and parameters: {'n_estimators': 150, 'max_depth': 9, 'learning_rate': 0.005373282804278843, 'subsample': 0.7229690235302489, 'colsample_bytree': 0.7110275933772003, 'gamma': 0.33099639080076626, 'min_child_weight': 39, 'scale_pos_weight': np.float64(1.2905829596412555), 'reg_alpha': 0.1, 'tree_method': 'auto', 'grow_policy': 'lossguide'}. Best is trial 0 with value: 0.5245873459349675.\n",
      "[I 2025-03-26 11:52:47,329] Trial 4 finished with value: 0.5044880051593259 and parameters: {'n_estimators': 400, 'max_depth': 33, 'learning_rate': 0.14453818119347772, 'subsample': 0.8948478370963924, 'colsample_bytree': 0.8724277550323812, 'gamma': 0.10888559529044084, 'min_child_weight': 35, 'scale_pos_weight': 1, 'reg_alpha': 0.5, 'tree_method': 'approx', 'grow_policy': 'depthwise'}. Best is trial 0 with value: 0.5245873459349675.\n",
      "[I 2025-03-26 11:52:47,651] Trial 5 finished with value: 0.5132621524030133 and parameters: {'n_estimators': 300, 'max_depth': 5, 'learning_rate': 0.023432509887213807, 'subsample': 0.857217660400124, 'colsample_bytree': 0.8705970162912933, 'gamma': 0.09891265041086883, 'min_child_weight': 25, 'scale_pos_weight': 1, 'reg_alpha': 0.5, 'tree_method': 'hist', 'grow_policy': 'lossguide'}. Best is trial 0 with value: 0.5245873459349675.\n",
      "[I 2025-03-26 11:52:48,081] Trial 6 finished with value: 0.47913716612368723 and parameters: {'n_estimators': 300, 'max_depth': 43, 'learning_rate': 0.0010019292549253835, 'subsample': 0.9116579995397851, 'colsample_bytree': 0.8961475889482187, 'gamma': 0.06413964755693335, 'min_child_weight': 31, 'scale_pos_weight': np.float64(1.2905829596412555), 'reg_alpha': 1, 'tree_method': 'hist', 'grow_policy': 'lossguide'}. Best is trial 0 with value: 0.5245873459349675.\n",
      "[I 2025-03-26 11:52:48,407] Trial 7 finished with value: 0.5075835441308963 and parameters: {'n_estimators': 400, 'max_depth': 15, 'learning_rate': 0.014211084855225745, 'subsample': 0.7619663956969698, 'colsample_bytree': 0.8641248286789562, 'gamma': 0.3632100552160633, 'min_child_weight': 61, 'scale_pos_weight': np.float64(1.2905829596412555), 'reg_alpha': 0, 'tree_method': 'auto', 'grow_policy': 'lossguide'}. Best is trial 0 with value: 0.5245873459349675.\n",
      "[I 2025-03-26 11:52:50,275] Trial 8 finished with value: 0.5230075559967795 and parameters: {'n_estimators': 400, 'max_depth': 45, 'learning_rate': 0.06535911277515755, 'subsample': 0.7938415841113327, 'colsample_bytree': 0.6560689775682662, 'gamma': 0.6953819551755215, 'min_child_weight': 41, 'scale_pos_weight': np.float64(1.2905829596412555), 'reg_alpha': 0, 'tree_method': 'approx', 'grow_policy': 'lossguide'}. Best is trial 0 with value: 0.5245873459349675.\n",
      "[I 2025-03-26 11:52:51,577] Trial 9 finished with value: 0.4998066381472566 and parameters: {'n_estimators': 300, 'max_depth': 21, 'learning_rate': 0.05582381282725587, 'subsample': 0.8850419550674853, 'colsample_bytree': 0.6013463678261662, 'gamma': 0.9827021710743481, 'min_child_weight': 55, 'scale_pos_weight': np.float64(1.2905829596412555), 'reg_alpha': 0, 'tree_method': 'approx', 'grow_policy': 'lossguide'}. Best is trial 0 with value: 0.5245873459349675.\n",
      "[I 2025-03-26 11:52:52,807] A new study created in memory with name: no-name-93984686-9b6f-455b-818d-8414c1f8801e\n"
     ]
    },
    {
     "name": "stdout",
     "output_type": "stream",
     "text": [
      "Mejores parámetros: {'n_estimators': 450, 'max_depth': 7, 'learning_rate': 0.051693993553568005, 'subsample': 0.7442003345025143, 'colsample_bytree': 0.679655418904036, 'gamma': 0.6092383806181517, 'min_child_weight': 27, 'scale_pos_weight': np.float64(1.2905829596412555), 'reg_alpha': 0.1, 'tree_method': 'approx', 'grow_policy': 'depthwise'}\n",
      "aCC ACT: 0.5618153364632238\n",
      "MEJOR ACCURACY 0.596244131455399 - 31\n"
     ]
    },
    {
     "name": "stderr",
     "output_type": "stream",
     "text": [
      "[I 2025-03-26 11:52:55,525] Trial 0 finished with value: 0.49020900643485027 and parameters: {'n_estimators': 500, 'max_depth': 29, 'learning_rate': 0.004442410469733332, 'subsample': 0.6309158264316691, 'colsample_bytree': 0.7222347479859015, 'gamma': 0.47280796975548534, 'min_child_weight': 3, 'scale_pos_weight': 1, 'reg_alpha': 1, 'tree_method': 'hist', 'grow_policy': 'depthwise'}. Best is trial 0 with value: 0.49020900643485027.\n",
      "[I 2025-03-26 11:52:56,663] Trial 1 finished with value: 0.3581489377629863 and parameters: {'n_estimators': 200, 'max_depth': 27, 'learning_rate': 0.0018145790587296752, 'subsample': 0.6907819157369144, 'colsample_bytree': 0.7392761523308473, 'gamma': 0.24275815678011303, 'min_child_weight': 27, 'scale_pos_weight': 1, 'reg_alpha': 0, 'tree_method': 'approx', 'grow_policy': 'lossguide'}. Best is trial 0 with value: 0.49020900643485027.\n",
      "[I 2025-03-26 11:52:57,719] Trial 2 finished with value: 0.5001308840373921 and parameters: {'n_estimators': 200, 'max_depth': 7, 'learning_rate': 0.046990923985852806, 'subsample': 0.7240295750064889, 'colsample_bytree': 0.9128769827486027, 'gamma': 0.4516665266465536, 'min_child_weight': 7, 'scale_pos_weight': 1, 'reg_alpha': 0.1, 'tree_method': 'exact', 'grow_policy': 'lossguide'}. Best is trial 2 with value: 0.5001308840373921.\n",
      "[I 2025-03-26 11:52:58,620] Trial 3 finished with value: 0.3581489377629863 and parameters: {'n_estimators': 400, 'max_depth': 21, 'learning_rate': 0.0014049548824971165, 'subsample': 0.7775496504333705, 'colsample_bytree': 0.6035458141373007, 'gamma': 0.3225899537209548, 'min_child_weight': 45, 'scale_pos_weight': 1, 'reg_alpha': 0.1, 'tree_method': 'exact', 'grow_policy': 'lossguide'}. Best is trial 2 with value: 0.5001308840373921.\n",
      "[I 2025-03-26 11:52:58,959] Trial 4 finished with value: 0.4789247458982482 and parameters: {'n_estimators': 500, 'max_depth': 37, 'learning_rate': 0.0012322707754355371, 'subsample': 0.6639849723873372, 'colsample_bytree': 0.5321160857199637, 'gamma': 0.44455046694943523, 'min_child_weight': 59, 'scale_pos_weight': np.float64(1.2905829596412555), 'reg_alpha': 0.1, 'tree_method': 'auto', 'grow_policy': 'depthwise'}. Best is trial 2 with value: 0.5001308840373921.\n",
      "[I 2025-03-26 11:53:04,333] Trial 5 finished with value: 0.5321623663603187 and parameters: {'n_estimators': 500, 'max_depth': 43, 'learning_rate': 0.009921484134185948, 'subsample': 0.889102082896015, 'colsample_bytree': 0.8343179927442459, 'gamma': 0.5237494966813177, 'min_child_weight': 21, 'scale_pos_weight': np.float64(1.2905829596412555), 'reg_alpha': 0.5, 'tree_method': 'approx', 'grow_policy': 'lossguide'}. Best is trial 5 with value: 0.5321623663603187.\n",
      "[I 2025-03-26 11:53:04,732] Trial 6 finished with value: 0.3581489377629863 and parameters: {'n_estimators': 100, 'max_depth': 19, 'learning_rate': 0.0026582099779227535, 'subsample': 0.6515541185720944, 'colsample_bytree': 0.6181550525250791, 'gamma': 0.4072148190592393, 'min_child_weight': 5, 'scale_pos_weight': 1, 'reg_alpha': 1, 'tree_method': 'hist', 'grow_policy': 'lossguide'}. Best is trial 5 with value: 0.5321623663603187.\n",
      "[I 2025-03-26 11:53:05,069] Trial 7 finished with value: 0.5317544060701873 and parameters: {'n_estimators': 400, 'max_depth': 33, 'learning_rate': 0.007402821744855762, 'subsample': 0.726955331626516, 'colsample_bytree': 0.5547476641156183, 'gamma': 0.30903249402955024, 'min_child_weight': 41, 'scale_pos_weight': np.float64(1.2905829596412555), 'reg_alpha': 0.1, 'tree_method': 'hist', 'grow_policy': 'depthwise'}. Best is trial 5 with value: 0.5321623663603187.\n",
      "[I 2025-03-26 11:53:05,220] Trial 8 finished with value: 0.4843637709195459 and parameters: {'n_estimators': 150, 'max_depth': 45, 'learning_rate': 0.0034489854522710825, 'subsample': 0.8432401321660908, 'colsample_bytree': 0.6951168249865808, 'gamma': 0.5829594400272434, 'min_child_weight': 51, 'scale_pos_weight': np.float64(1.2905829596412555), 'reg_alpha': 0.5, 'tree_method': 'auto', 'grow_policy': 'lossguide'}. Best is trial 5 with value: 0.5321623663603187.\n",
      "[I 2025-03-26 11:53:06,199] Trial 9 finished with value: 0.47944521037146115 and parameters: {'n_estimators': 400, 'max_depth': 29, 'learning_rate': 0.014967170412188278, 'subsample': 0.9888938815152161, 'colsample_bytree': 0.6580187119714668, 'gamma': 0.12543415040740347, 'min_child_weight': 57, 'scale_pos_weight': 1, 'reg_alpha': 0, 'tree_method': 'exact', 'grow_policy': 'lossguide'}. Best is trial 5 with value: 0.5321623663603187.\n",
      "[I 2025-03-26 11:53:12,424] A new study created in memory with name: no-name-330024a8-6180-4dcc-803f-1ceb3e2b47c8\n"
     ]
    },
    {
     "name": "stdout",
     "output_type": "stream",
     "text": [
      "Mejores parámetros: {'n_estimators': 500, 'max_depth': 43, 'learning_rate': 0.009921484134185948, 'subsample': 0.889102082896015, 'colsample_bytree': 0.8343179927442459, 'gamma': 0.5237494966813177, 'min_child_weight': 21, 'scale_pos_weight': np.float64(1.2905829596412555), 'reg_alpha': 0.5, 'tree_method': 'approx', 'grow_policy': 'lossguide'}\n",
      "aCC ACT: 0.5884194053208138\n",
      "MEJOR ACCURACY 0.596244131455399 - 31\n"
     ]
    },
    {
     "name": "stderr",
     "output_type": "stream",
     "text": [
      "[I 2025-03-26 11:53:16,983] Trial 0 finished with value: 0.5285086374643406 and parameters: {'n_estimators': 450, 'max_depth': 33, 'learning_rate': 0.003741585068677978, 'subsample': 0.9032303458599271, 'colsample_bytree': 0.6565384678158399, 'gamma': 0.9372373574883975, 'min_child_weight': 3, 'scale_pos_weight': np.float64(1.2905829596412555), 'reg_alpha': 0.1, 'tree_method': 'exact', 'grow_policy': 'depthwise'}. Best is trial 0 with value: 0.5285086374643406.\n",
      "[I 2025-03-26 11:53:17,494] Trial 1 finished with value: 0.3920677590442556 and parameters: {'n_estimators': 350, 'max_depth': 3, 'learning_rate': 0.00489888177619511, 'subsample': 0.6190612878416133, 'colsample_bytree': 0.6861055389030626, 'gamma': 0.2624151964281971, 'min_child_weight': 69, 'scale_pos_weight': 1, 'reg_alpha': 0.1, 'tree_method': 'exact', 'grow_policy': 'lossguide'}. Best is trial 0 with value: 0.5285086374643406.\n",
      "[I 2025-03-26 11:53:19,489] Trial 2 finished with value: 0.36361400964494156 and parameters: {'n_estimators': 400, 'max_depth': 49, 'learning_rate': 0.0011309358779025443, 'subsample': 0.9630862764703074, 'colsample_bytree': 0.5290256581081264, 'gamma': 0.7556654342819284, 'min_child_weight': 5, 'scale_pos_weight': 1, 'reg_alpha': 0.5, 'tree_method': 'auto', 'grow_policy': 'lossguide'}. Best is trial 0 with value: 0.5285086374643406.\n",
      "[I 2025-03-26 11:53:19,642] Trial 3 finished with value: 0.5285808101453292 and parameters: {'n_estimators': 100, 'max_depth': 9, 'learning_rate': 0.04044921791677307, 'subsample': 0.6590439618987519, 'colsample_bytree': 0.9353922681033298, 'gamma': 0.5139862168749165, 'min_child_weight': 29, 'scale_pos_weight': np.float64(1.2905829596412555), 'reg_alpha': 0, 'tree_method': 'auto', 'grow_policy': 'depthwise'}. Best is trial 3 with value: 0.5285808101453292.\n",
      "[I 2025-03-26 11:53:19,901] Trial 4 finished with value: 0.5047029915038971 and parameters: {'n_estimators': 350, 'max_depth': 17, 'learning_rate': 0.0316545221686141, 'subsample': 0.6363802405800931, 'colsample_bytree': 0.6836257883757105, 'gamma': 0.5721711866331071, 'min_child_weight': 57, 'scale_pos_weight': np.float64(1.2905829596412555), 'reg_alpha': 1, 'tree_method': 'hist', 'grow_policy': 'lossguide'}. Best is trial 3 with value: 0.5285808101453292.\n",
      "[I 2025-03-26 11:53:20,228] Trial 5 finished with value: 0.4792005803498599 and parameters: {'n_estimators': 400, 'max_depth': 37, 'learning_rate': 0.015367707901574426, 'subsample': 0.863627434528436, 'colsample_bytree': 0.655252707106807, 'gamma': 0.07877940377718029, 'min_child_weight': 51, 'scale_pos_weight': 1, 'reg_alpha': 1, 'tree_method': 'hist', 'grow_policy': 'depthwise'}. Best is trial 3 with value: 0.5285808101453292.\n",
      "[I 2025-03-26 11:53:20,327] Trial 6 finished with value: 0.5357686944637408 and parameters: {'n_estimators': 100, 'max_depth': 3, 'learning_rate': 0.03383309268585642, 'subsample': 0.7345288115787526, 'colsample_bytree': 0.9713521827024906, 'gamma': 0.5950940507642171, 'min_child_weight': 25, 'scale_pos_weight': np.float64(1.2905829596412555), 'reg_alpha': 1, 'tree_method': 'hist', 'grow_policy': 'lossguide'}. Best is trial 6 with value: 0.5357686944637408.\n",
      "[I 2025-03-26 11:53:20,582] Trial 7 finished with value: 0.3581489377629863 and parameters: {'n_estimators': 100, 'max_depth': 5, 'learning_rate': 0.006019758704947292, 'subsample': 0.7267975972040238, 'colsample_bytree': 0.7636361938895074, 'gamma': 0.30164696909022437, 'min_child_weight': 49, 'scale_pos_weight': 1, 'reg_alpha': 0, 'tree_method': 'exact', 'grow_policy': 'lossguide'}. Best is trial 6 with value: 0.5357686944637408.\n",
      "[I 2025-03-26 11:53:21,071] Trial 8 finished with value: 0.40052809469194095 and parameters: {'n_estimators': 300, 'max_depth': 35, 'learning_rate': 0.005360102098623976, 'subsample': 0.8104911980906049, 'colsample_bytree': 0.5399421080646456, 'gamma': 0.4745274210954963, 'min_child_weight': 69, 'scale_pos_weight': 1, 'reg_alpha': 0.1, 'tree_method': 'exact', 'grow_policy': 'depthwise'}. Best is trial 6 with value: 0.5357686944637408.\n",
      "[I 2025-03-26 11:53:21,531] Trial 9 finished with value: 0.3581489377629863 and parameters: {'n_estimators': 100, 'max_depth': 5, 'learning_rate': 0.0037288430040333716, 'subsample': 0.9713619603646378, 'colsample_bytree': 0.9608510405453108, 'gamma': 0.7894277170436999, 'min_child_weight': 53, 'scale_pos_weight': 1, 'reg_alpha': 1, 'tree_method': 'approx', 'grow_policy': 'lossguide'}. Best is trial 6 with value: 0.5357686944637408.\n",
      "[I 2025-03-26 11:53:21,605] A new study created in memory with name: no-name-fbdcf62a-1b74-4e83-af8e-52f890e54504\n"
     ]
    },
    {
     "name": "stdout",
     "output_type": "stream",
     "text": [
      "Mejores parámetros: {'n_estimators': 100, 'max_depth': 3, 'learning_rate': 0.03383309268585642, 'subsample': 0.7345288115787526, 'colsample_bytree': 0.9713521827024906, 'gamma': 0.5950940507642171, 'min_child_weight': 25, 'scale_pos_weight': np.float64(1.2905829596412555), 'reg_alpha': 1, 'tree_method': 'hist', 'grow_policy': 'lossguide'}\n",
      "aCC ACT: 0.596244131455399\n",
      "MEJOR ACCURACY 0.596244131455399 - 31\n"
     ]
    },
    {
     "name": "stderr",
     "output_type": "stream",
     "text": [
      "[I 2025-03-26 11:53:22,140] Trial 0 finished with value: 0.529174158981462 and parameters: {'n_estimators': 150, 'max_depth': 49, 'learning_rate': 0.04751604123709383, 'subsample': 0.7405871223570806, 'colsample_bytree': 0.8538025691295406, 'gamma': 0.7996046016600539, 'min_child_weight': 45, 'scale_pos_weight': np.float64(1.2905829596412555), 'reg_alpha': 0.1, 'tree_method': 'exact', 'grow_policy': 'depthwise'}. Best is trial 0 with value: 0.529174158981462.\n",
      "[I 2025-03-26 11:53:22,322] Trial 1 finished with value: 0.47389443840474366 and parameters: {'n_estimators': 200, 'max_depth': 47, 'learning_rate': 0.001961076072919566, 'subsample': 0.8989059399517485, 'colsample_bytree': 0.5026189778494513, 'gamma': 0.8567906078643652, 'min_child_weight': 49, 'scale_pos_weight': np.float64(1.2905829596412555), 'reg_alpha': 0.5, 'tree_method': 'hist', 'grow_policy': 'depthwise'}. Best is trial 0 with value: 0.529174158981462.\n",
      "[I 2025-03-26 11:53:25,691] Trial 2 finished with value: 0.5281165036455013 and parameters: {'n_estimators': 250, 'max_depth': 27, 'learning_rate': 0.01813003834339003, 'subsample': 0.7034681295934508, 'colsample_bytree': 0.5873181736265712, 'gamma': 0.3607102575013952, 'min_child_weight': 9, 'scale_pos_weight': np.float64(1.2905829596412555), 'reg_alpha': 0, 'tree_method': 'approx', 'grow_policy': 'depthwise'}. Best is trial 0 with value: 0.529174158981462.\n",
      "[I 2025-03-26 11:53:26,197] Trial 3 finished with value: 0.498311811217398 and parameters: {'n_estimators': 100, 'max_depth': 29, 'learning_rate': 0.0309907703417302, 'subsample': 0.8647735780458559, 'colsample_bytree': 0.5946214046480194, 'gamma': 0.9541089454065985, 'min_child_weight': 5, 'scale_pos_weight': 1, 'reg_alpha': 0.1, 'tree_method': 'auto', 'grow_policy': 'depthwise'}. Best is trial 0 with value: 0.529174158981462.\n",
      "[I 2025-03-26 11:53:26,991] Trial 4 finished with value: 0.5080810487850658 and parameters: {'n_estimators': 250, 'max_depth': 27, 'learning_rate': 0.025081818128941794, 'subsample': 0.8100979885408616, 'colsample_bytree': 0.988984076701695, 'gamma': 0.6020398762578777, 'min_child_weight': 59, 'scale_pos_weight': np.float64(1.2905829596412555), 'reg_alpha': 0.1, 'tree_method': 'exact', 'grow_policy': 'depthwise'}. Best is trial 0 with value: 0.529174158981462.\n",
      "[I 2025-03-26 11:53:28,181] Trial 5 finished with value: 0.4823882424512931 and parameters: {'n_estimators': 400, 'max_depth': 43, 'learning_rate': 0.012486364146871938, 'subsample': 0.9452548591057078, 'colsample_bytree': 0.8304571955330722, 'gamma': 0.5504994242346507, 'min_child_weight': 55, 'scale_pos_weight': 1, 'reg_alpha': 0, 'tree_method': 'exact', 'grow_policy': 'lossguide'}. Best is trial 0 with value: 0.529174158981462.\n",
      "[I 2025-03-26 11:53:28,648] Trial 6 finished with value: 0.4840038344256132 and parameters: {'n_estimators': 250, 'max_depth': 25, 'learning_rate': 0.18268462307933772, 'subsample': 0.6779985442012225, 'colsample_bytree': 0.6621309332585124, 'gamma': 0.9767598007316738, 'min_child_weight': 49, 'scale_pos_weight': 1, 'reg_alpha': 1, 'tree_method': 'exact', 'grow_policy': 'depthwise'}. Best is trial 0 with value: 0.529174158981462.\n",
      "[I 2025-03-26 11:53:29,712] Trial 7 finished with value: 0.4968849938590324 and parameters: {'n_estimators': 450, 'max_depth': 15, 'learning_rate': 0.07889200432779495, 'subsample': 0.8551861937856358, 'colsample_bytree': 0.7466075231705971, 'gamma': 0.49178987676301744, 'min_child_weight': 55, 'scale_pos_weight': 1, 'reg_alpha': 1, 'tree_method': 'exact', 'grow_policy': 'depthwise'}. Best is trial 0 with value: 0.529174158981462.\n",
      "[I 2025-03-26 11:53:30,150] Trial 8 finished with value: 0.43209902079055584 and parameters: {'n_estimators': 350, 'max_depth': 27, 'learning_rate': 0.0036190186646312713, 'subsample': 0.7173809300638192, 'colsample_bytree': 0.8396870610132627, 'gamma': 0.3518672490490148, 'min_child_weight': 23, 'scale_pos_weight': 1, 'reg_alpha': 0.5, 'tree_method': 'hist', 'grow_policy': 'depthwise'}. Best is trial 0 with value: 0.529174158981462.\n",
      "[I 2025-03-26 11:53:30,479] Trial 9 finished with value: 0.4815883827709692 and parameters: {'n_estimators': 100, 'max_depth': 43, 'learning_rate': 0.059666858444649314, 'subsample': 0.7012792559762933, 'colsample_bytree': 0.9724832418076371, 'gamma': 0.1733672650093694, 'min_child_weight': 47, 'scale_pos_weight': 1, 'reg_alpha': 0, 'tree_method': 'exact', 'grow_policy': 'lossguide'}. Best is trial 0 with value: 0.529174158981462.\n",
      "[I 2025-03-26 11:53:30,643] A new study created in memory with name: no-name-aa14ff5b-9de0-4338-a5c0-4ccf6ef3904e\n",
      "[I 2025-03-26 11:53:30,798] Trial 0 finished with value: 0.4774955108467707 and parameters: {'n_estimators': 100, 'max_depth': 45, 'learning_rate': 0.004523494753641187, 'subsample': 0.7195905509835832, 'colsample_bytree': 0.8960171303277147, 'gamma': 0.3244705974782288, 'min_child_weight': 61, 'scale_pos_weight': np.float64(1.2905829596412555), 'reg_alpha': 1, 'tree_method': 'auto', 'grow_policy': 'depthwise'}. Best is trial 0 with value: 0.4774955108467707.\n"
     ]
    },
    {
     "name": "stdout",
     "output_type": "stream",
     "text": [
      "Mejores parámetros: {'n_estimators': 150, 'max_depth': 49, 'learning_rate': 0.04751604123709383, 'subsample': 0.7405871223570806, 'colsample_bytree': 0.8538025691295406, 'gamma': 0.7996046016600539, 'min_child_weight': 45, 'scale_pos_weight': np.float64(1.2905829596412555), 'reg_alpha': 0.1, 'tree_method': 'exact', 'grow_policy': 'depthwise'}\n",
      "aCC ACT: 0.5790297339593115\n",
      "MEJOR ACCURACY 0.596244131455399 - 31\n"
     ]
    },
    {
     "name": "stderr",
     "output_type": "stream",
     "text": [
      "[I 2025-03-26 11:53:31,284] Trial 1 finished with value: 0.3581489377629863 and parameters: {'n_estimators': 250, 'max_depth': 9, 'learning_rate': 0.001217284095992753, 'subsample': 0.6327951323004444, 'colsample_bytree': 0.6067199755401707, 'gamma': 0.5452292637147477, 'min_child_weight': 45, 'scale_pos_weight': 1, 'reg_alpha': 1, 'tree_method': 'exact', 'grow_policy': 'lossguide'}. Best is trial 0 with value: 0.4774955108467707.\n",
      "[I 2025-03-26 11:53:31,937] Trial 2 finished with value: 0.43366524759049874 and parameters: {'n_estimators': 200, 'max_depth': 39, 'learning_rate': 0.004586025614385115, 'subsample': 0.8606717496010002, 'colsample_bytree': 0.9752944193015449, 'gamma': 0.9184743424662997, 'min_child_weight': 11, 'scale_pos_weight': 1, 'reg_alpha': 0.5, 'tree_method': 'hist', 'grow_policy': 'lossguide'}. Best is trial 0 with value: 0.4774955108467707.\n",
      "[I 2025-03-26 11:53:33,279] Trial 3 finished with value: 0.5135286504649711 and parameters: {'n_estimators': 300, 'max_depth': 37, 'learning_rate': 0.007599913509276315, 'subsample': 0.9967021401871801, 'colsample_bytree': 0.6963178659002095, 'gamma': 0.14266544519129043, 'min_child_weight': 63, 'scale_pos_weight': np.float64(1.2905829596412555), 'reg_alpha': 0.5, 'tree_method': 'approx', 'grow_policy': 'depthwise'}. Best is trial 3 with value: 0.5135286504649711.\n",
      "[I 2025-03-26 11:53:33,596] Trial 4 finished with value: 0.3581489377629863 and parameters: {'n_estimators': 250, 'max_depth': 19, 'learning_rate': 0.0010857729873981696, 'subsample': 0.9323921522423158, 'colsample_bytree': 0.8721837589371693, 'gamma': 0.35017046646380356, 'min_child_weight': 33, 'scale_pos_weight': 1, 'reg_alpha': 0.1, 'tree_method': 'hist', 'grow_policy': 'depthwise'}. Best is trial 3 with value: 0.5135286504649711.\n",
      "[I 2025-03-26 11:53:33,852] Trial 5 finished with value: 0.5164820025624467 and parameters: {'n_estimators': 200, 'max_depth': 15, 'learning_rate': 0.18787529527233507, 'subsample': 0.8858451468682556, 'colsample_bytree': 0.8036597183274174, 'gamma': 0.9300306381873827, 'min_child_weight': 27, 'scale_pos_weight': np.float64(1.2905829596412555), 'reg_alpha': 0, 'tree_method': 'auto', 'grow_policy': 'lossguide'}. Best is trial 5 with value: 0.5164820025624467.\n",
      "[I 2025-03-26 11:53:34,013] Trial 6 finished with value: 0.3581489377629863 and parameters: {'n_estimators': 200, 'max_depth': 5, 'learning_rate': 0.002669745150645886, 'subsample': 0.6505654111910766, 'colsample_bytree': 0.5779390713129451, 'gamma': 0.9350620373618704, 'min_child_weight': 39, 'scale_pos_weight': 1, 'reg_alpha': 1, 'tree_method': 'auto', 'grow_policy': 'lossguide'}. Best is trial 5 with value: 0.5164820025624467.\n",
      "[I 2025-03-26 11:53:34,235] Trial 7 finished with value: 0.5231043000134428 and parameters: {'n_estimators': 200, 'max_depth': 21, 'learning_rate': 0.005702792955210044, 'subsample': 0.9225729686539885, 'colsample_bytree': 0.6747378453811039, 'gamma': 0.46781611809916657, 'min_child_weight': 45, 'scale_pos_weight': np.float64(1.2905829596412555), 'reg_alpha': 1, 'tree_method': 'hist', 'grow_policy': 'lossguide'}. Best is trial 7 with value: 0.5231043000134428.\n",
      "[I 2025-03-26 11:53:34,959] Trial 8 finished with value: 0.523246549399131 and parameters: {'n_estimators': 250, 'max_depth': 35, 'learning_rate': 0.02492887600372793, 'subsample': 0.8202722238466479, 'colsample_bytree': 0.6862460131617969, 'gamma': 0.9633466469160666, 'min_child_weight': 45, 'scale_pos_weight': np.float64(1.2905829596412555), 'reg_alpha': 1, 'tree_method': 'exact', 'grow_policy': 'lossguide'}. Best is trial 8 with value: 0.523246549399131.\n",
      "[I 2025-03-26 11:53:37,082] Trial 9 finished with value: 0.45171427987497526 and parameters: {'n_estimators': 500, 'max_depth': 33, 'learning_rate': 0.002154933270271563, 'subsample': 0.9581492496990094, 'colsample_bytree': 0.7447416174874301, 'gamma': 0.6214500618686376, 'min_child_weight': 7, 'scale_pos_weight': 1, 'reg_alpha': 0.5, 'tree_method': 'hist', 'grow_policy': 'lossguide'}. Best is trial 8 with value: 0.523246549399131.\n",
      "[I 2025-03-26 11:53:37,333] A new study created in memory with name: no-name-dc376fa9-56b4-4358-b266-54a4fc1560ca\n"
     ]
    },
    {
     "name": "stdout",
     "output_type": "stream",
     "text": [
      "Mejores parámetros: {'n_estimators': 250, 'max_depth': 35, 'learning_rate': 0.02492887600372793, 'subsample': 0.8202722238466479, 'colsample_bytree': 0.6862460131617969, 'gamma': 0.9633466469160666, 'min_child_weight': 45, 'scale_pos_weight': np.float64(1.2905829596412555), 'reg_alpha': 1, 'tree_method': 'exact', 'grow_policy': 'lossguide'}\n",
      "aCC ACT: 0.5852895148669797\n",
      "MEJOR ACCURACY 0.596244131455399 - 31\n"
     ]
    },
    {
     "name": "stderr",
     "output_type": "stream",
     "text": [
      "[I 2025-03-26 11:53:37,607] Trial 0 finished with value: 0.5187125657041752 and parameters: {'n_estimators': 200, 'max_depth': 13, 'learning_rate': 0.13537078015715032, 'subsample': 0.9566413753111056, 'colsample_bytree': 0.8416383799874935, 'gamma': 0.5668846594996723, 'min_child_weight': 39, 'scale_pos_weight': np.float64(1.2905829596412555), 'reg_alpha': 0, 'tree_method': 'hist', 'grow_policy': 'lossguide'}. Best is trial 0 with value: 0.5187125657041752.\n",
      "[I 2025-03-26 11:53:38,989] Trial 1 finished with value: 0.5098096670474555 and parameters: {'n_estimators': 200, 'max_depth': 35, 'learning_rate': 0.042484373158990146, 'subsample': 0.9772115066462896, 'colsample_bytree': 0.8031915834207383, 'gamma': 0.35522728982654916, 'min_child_weight': 29, 'scale_pos_weight': 1, 'reg_alpha': 1, 'tree_method': 'approx', 'grow_policy': 'lossguide'}. Best is trial 0 with value: 0.5187125657041752.\n",
      "[I 2025-03-26 11:53:39,707] Trial 2 finished with value: 0.5176929816441367 and parameters: {'n_estimators': 350, 'max_depth': 21, 'learning_rate': 0.02192707610597336, 'subsample': 0.7509647634515386, 'colsample_bytree': 0.7401758945426197, 'gamma': 0.3614378357735736, 'min_child_weight': 11, 'scale_pos_weight': 1, 'reg_alpha': 0, 'tree_method': 'auto', 'grow_policy': 'lossguide'}. Best is trial 0 with value: 0.5187125657041752.\n",
      "[I 2025-03-26 11:53:39,994] Trial 3 finished with value: 0.49344337253665865 and parameters: {'n_estimators': 450, 'max_depth': 3, 'learning_rate': 0.03770929739499325, 'subsample': 0.6548286298626607, 'colsample_bytree': 0.9643244572060379, 'gamma': 0.6217624091915963, 'min_child_weight': 69, 'scale_pos_weight': np.float64(1.2905829596412555), 'reg_alpha': 0.1, 'tree_method': 'auto', 'grow_policy': 'lossguide'}. Best is trial 0 with value: 0.5187125657041752.\n",
      "[I 2025-03-26 11:53:41,665] Trial 4 finished with value: 0.5019553002696866 and parameters: {'n_estimators': 400, 'max_depth': 45, 'learning_rate': 0.0166041160641909, 'subsample': 0.6021187813987386, 'colsample_bytree': 0.9021585380707704, 'gamma': 0.5663543153025918, 'min_child_weight': 65, 'scale_pos_weight': np.float64(1.2905829596412555), 'reg_alpha': 0, 'tree_method': 'approx', 'grow_policy': 'depthwise'}. Best is trial 0 with value: 0.5187125657041752.\n",
      "[I 2025-03-26 11:53:42,986] Trial 5 finished with value: 0.4440695888763389 and parameters: {'n_estimators': 300, 'max_depth': 31, 'learning_rate': 0.0010607070997337503, 'subsample': 0.7524431401775846, 'colsample_bytree': 0.6797098904774341, 'gamma': 0.6970237465164051, 'min_child_weight': 57, 'scale_pos_weight': np.float64(1.2905829596412555), 'reg_alpha': 0, 'tree_method': 'approx', 'grow_policy': 'depthwise'}. Best is trial 0 with value: 0.5187125657041752.\n",
      "[I 2025-03-26 11:53:43,377] Trial 6 finished with value: 0.5207993328625063 and parameters: {'n_estimators': 450, 'max_depth': 5, 'learning_rate': 0.01986319903762109, 'subsample': 0.7367519664609066, 'colsample_bytree': 0.6585279039969554, 'gamma': 0.5215632124298467, 'min_child_weight': 29, 'scale_pos_weight': np.float64(1.2905829596412555), 'reg_alpha': 0, 'tree_method': 'auto', 'grow_policy': 'depthwise'}. Best is trial 6 with value: 0.5207993328625063.\n",
      "[I 2025-03-26 11:53:52,459] Trial 7 finished with value: 0.481175762793122 and parameters: {'n_estimators': 150, 'max_depth': 45, 'learning_rate': 0.010579227004789485, 'subsample': 0.6557601599997628, 'colsample_bytree': 0.8274418704914608, 'gamma': 0.3159516016496998, 'min_child_weight': 1, 'scale_pos_weight': 1, 'reg_alpha': 1, 'tree_method': 'approx', 'grow_policy': 'depthwise'}. Best is trial 6 with value: 0.5207993328625063.\n",
      "[I 2025-03-26 11:53:52,844] Trial 8 finished with value: 0.3581489377629863 and parameters: {'n_estimators': 200, 'max_depth': 49, 'learning_rate': 0.0014473747156864003, 'subsample': 0.8423516744647193, 'colsample_bytree': 0.5686391769419821, 'gamma': 0.06387840542833467, 'min_child_weight': 65, 'scale_pos_weight': 1, 'reg_alpha': 0, 'tree_method': 'exact', 'grow_policy': 'depthwise'}. Best is trial 6 with value: 0.5207993328625063.\n",
      "[I 2025-03-26 11:53:54,623] Trial 9 finished with value: 0.500232413251437 and parameters: {'n_estimators': 400, 'max_depth': 21, 'learning_rate': 0.038678573066354964, 'subsample': 0.7245217916190694, 'colsample_bytree': 0.9977761540971238, 'gamma': 0.028210346660352936, 'min_child_weight': 47, 'scale_pos_weight': np.float64(1.2905829596412555), 'reg_alpha': 0.5, 'tree_method': 'approx', 'grow_policy': 'lossguide'}. Best is trial 6 with value: 0.5207993328625063.\n",
      "[I 2025-03-26 11:53:54,917] A new study created in memory with name: no-name-36ddeec5-08d3-4aab-bbbe-aada2834ab1c\n"
     ]
    },
    {
     "name": "stdout",
     "output_type": "stream",
     "text": [
      "Mejores parámetros: {'n_estimators': 450, 'max_depth': 5, 'learning_rate': 0.01986319903762109, 'subsample': 0.7367519664609066, 'colsample_bytree': 0.6585279039969554, 'gamma': 0.5215632124298467, 'min_child_weight': 29, 'scale_pos_weight': np.float64(1.2905829596412555), 'reg_alpha': 0, 'tree_method': 'auto', 'grow_policy': 'depthwise'}\n",
      "aCC ACT: 0.5899843505477308\n",
      "MEJOR ACCURACY 0.596244131455399 - 31\n"
     ]
    },
    {
     "name": "stderr",
     "output_type": "stream",
     "text": [
      "[I 2025-03-26 11:53:55,304] Trial 0 finished with value: 0.4085425341576231 and parameters: {'n_estimators': 300, 'max_depth': 13, 'learning_rate': 0.0038712673224800542, 'subsample': 0.7585319638891108, 'colsample_bytree': 0.688657548845562, 'gamma': 0.9965742301546493, 'min_child_weight': 29, 'scale_pos_weight': 1, 'reg_alpha': 0.5, 'tree_method': 'auto', 'grow_policy': 'depthwise'}. Best is trial 0 with value: 0.4085425341576231.\n",
      "[I 2025-03-26 11:54:05,505] Trial 1 finished with value: 0.4960263907985545 and parameters: {'n_estimators': 250, 'max_depth': 27, 'learning_rate': 0.016068594101773782, 'subsample': 0.9712003711266209, 'colsample_bytree': 0.7856865345194632, 'gamma': 0.66833756877668, 'min_child_weight': 3, 'scale_pos_weight': 1, 'reg_alpha': 0.5, 'tree_method': 'approx', 'grow_policy': 'depthwise'}. Best is trial 1 with value: 0.4960263907985545.\n",
      "[I 2025-03-26 11:54:05,782] Trial 2 finished with value: 0.47644155665108706 and parameters: {'n_estimators': 350, 'max_depth': 13, 'learning_rate': 0.03716415938353583, 'subsample': 0.9512225210409384, 'colsample_bytree': 0.8983586316405342, 'gamma': 0.43200224779808094, 'min_child_weight': 65, 'scale_pos_weight': 1, 'reg_alpha': 0.1, 'tree_method': 'hist', 'grow_policy': 'lossguide'}. Best is trial 1 with value: 0.4960263907985545.\n",
      "[I 2025-03-26 11:54:06,515] Trial 3 finished with value: 0.3581489377629863 and parameters: {'n_estimators': 350, 'max_depth': 25, 'learning_rate': 0.0014757219525988357, 'subsample': 0.6555840285078451, 'colsample_bytree': 0.5561535918192256, 'gamma': 0.47778496541837956, 'min_child_weight': 37, 'scale_pos_weight': 1, 'reg_alpha': 0.1, 'tree_method': 'exact', 'grow_policy': 'lossguide'}. Best is trial 1 with value: 0.4960263907985545.\n",
      "[I 2025-03-26 11:54:06,945] Trial 4 finished with value: 0.48442456828168334 and parameters: {'n_estimators': 450, 'max_depth': 23, 'learning_rate': 0.001029241529296193, 'subsample': 0.6139461315125628, 'colsample_bytree': 0.5069526828416, 'gamma': 0.5889099304624494, 'min_child_weight': 27, 'scale_pos_weight': np.float64(1.2905829596412555), 'reg_alpha': 0.5, 'tree_method': 'auto', 'grow_policy': 'depthwise'}. Best is trial 1 with value: 0.4960263907985545.\n",
      "[I 2025-03-26 11:54:08,120] Trial 5 finished with value: 0.5353140007961701 and parameters: {'n_estimators': 300, 'max_depth': 25, 'learning_rate': 0.014134018447549178, 'subsample': 0.9669837930220055, 'colsample_bytree': 0.6314385108662824, 'gamma': 0.049697686154183573, 'min_child_weight': 33, 'scale_pos_weight': np.float64(1.2905829596412555), 'reg_alpha': 0.5, 'tree_method': 'exact', 'grow_policy': 'lossguide'}. Best is trial 5 with value: 0.5353140007961701.\n",
      "[I 2025-03-26 11:54:08,952] Trial 6 finished with value: 0.5321243772693434 and parameters: {'n_estimators': 300, 'max_depth': 7, 'learning_rate': 0.004828450934328334, 'subsample': 0.9312576936643656, 'colsample_bytree': 0.5877279828451427, 'gamma': 0.90448945723641, 'min_child_weight': 41, 'scale_pos_weight': np.float64(1.2905829596412555), 'reg_alpha': 0.5, 'tree_method': 'exact', 'grow_policy': 'lossguide'}. Best is trial 5 with value: 0.5353140007961701.\n",
      "[I 2025-03-26 11:54:09,267] Trial 7 finished with value: 0.5416875943278092 and parameters: {'n_estimators': 200, 'max_depth': 11, 'learning_rate': 0.011329246725987284, 'subsample': 0.9609716652228129, 'colsample_bytree': 0.7974684623670484, 'gamma': 0.4126133333212665, 'min_child_weight': 29, 'scale_pos_weight': np.float64(1.2905829596412555), 'reg_alpha': 0.5, 'tree_method': 'hist', 'grow_policy': 'lossguide'}. Best is trial 7 with value: 0.5416875943278092.\n",
      "[I 2025-03-26 11:54:09,677] Trial 8 finished with value: 0.48808287860708643 and parameters: {'n_estimators': 200, 'max_depth': 5, 'learning_rate': 0.04296749927486434, 'subsample': 0.9829057249892428, 'colsample_bytree': 0.5114176088062984, 'gamma': 0.9131425236532664, 'min_child_weight': 51, 'scale_pos_weight': 1, 'reg_alpha': 1, 'tree_method': 'exact', 'grow_policy': 'depthwise'}. Best is trial 7 with value: 0.5416875943278092.\n",
      "[I 2025-03-26 11:54:10,351] Trial 9 finished with value: 0.4833107930945394 and parameters: {'n_estimators': 300, 'max_depth': 25, 'learning_rate': 0.07156517408521076, 'subsample': 0.6074340445417895, 'colsample_bytree': 0.856408292310195, 'gamma': 0.25099336218190005, 'min_child_weight': 47, 'scale_pos_weight': 1, 'reg_alpha': 1, 'tree_method': 'exact', 'grow_policy': 'lossguide'}. Best is trial 7 with value: 0.5416875943278092.\n",
      "[I 2025-03-26 11:54:10,619] A new study created in memory with name: no-name-a853b9c1-aaef-4aba-9200-1bcb4ad71571\n"
     ]
    },
    {
     "name": "stdout",
     "output_type": "stream",
     "text": [
      "Mejores parámetros: {'n_estimators': 200, 'max_depth': 11, 'learning_rate': 0.011329246725987284, 'subsample': 0.9609716652228129, 'colsample_bytree': 0.7974684623670484, 'gamma': 0.4126133333212665, 'min_child_weight': 29, 'scale_pos_weight': np.float64(1.2905829596412555), 'reg_alpha': 0.5, 'tree_method': 'hist', 'grow_policy': 'lossguide'}\n",
      "aCC ACT: 0.593114241001565\n",
      "MEJOR ACCURACY 0.596244131455399 - 31\n"
     ]
    },
    {
     "name": "stderr",
     "output_type": "stream",
     "text": [
      "[I 2025-03-26 11:54:11,870] Trial 0 finished with value: 0.5399444524991661 and parameters: {'n_estimators': 400, 'max_depth': 5, 'learning_rate': 0.006165269253721186, 'subsample': 0.8576078908079323, 'colsample_bytree': 0.6421064993701447, 'gamma': 0.9493378066500051, 'min_child_weight': 11, 'scale_pos_weight': np.float64(1.2905829596412555), 'reg_alpha': 1, 'tree_method': 'exact', 'grow_policy': 'lossguide'}. Best is trial 0 with value: 0.5399444524991661.\n",
      "[I 2025-03-26 11:54:12,001] Trial 1 finished with value: 0.5321862310330896 and parameters: {'n_estimators': 100, 'max_depth': 39, 'learning_rate': 0.04751004907402035, 'subsample': 0.8259043754898149, 'colsample_bytree': 0.8570606977059525, 'gamma': 0.5823560805501875, 'min_child_weight': 45, 'scale_pos_weight': np.float64(1.2905829596412555), 'reg_alpha': 0.5, 'tree_method': 'hist', 'grow_policy': 'lossguide'}. Best is trial 0 with value: 0.5399444524991661.\n",
      "[I 2025-03-26 11:54:12,850] Trial 2 finished with value: 0.3581489377629863 and parameters: {'n_estimators': 150, 'max_depth': 43, 'learning_rate': 0.0019336441370332808, 'subsample': 0.8971682164246706, 'colsample_bytree': 0.9238005278490056, 'gamma': 0.1743854069255517, 'min_child_weight': 19, 'scale_pos_weight': 1, 'reg_alpha': 0.1, 'tree_method': 'exact', 'grow_policy': 'lossguide'}. Best is trial 0 with value: 0.5399444524991661.\n",
      "[I 2025-03-26 11:54:13,311] Trial 3 finished with value: 0.5059305452688937 and parameters: {'n_estimators': 100, 'max_depth': 13, 'learning_rate': 0.04047910965264871, 'subsample': 0.70981434122377, 'colsample_bytree': 0.6884818002296249, 'gamma': 0.04165497934232609, 'min_child_weight': 5, 'scale_pos_weight': 1, 'reg_alpha': 0.5, 'tree_method': 'auto', 'grow_policy': 'lossguide'}. Best is trial 0 with value: 0.5399444524991661.\n",
      "[I 2025-03-26 11:54:16,984] Trial 4 finished with value: 0.5130968835317815 and parameters: {'n_estimators': 300, 'max_depth': 25, 'learning_rate': 0.024134505304547936, 'subsample': 0.8061130950759378, 'colsample_bytree': 0.9438467245841364, 'gamma': 0.12831951148356902, 'min_child_weight': 15, 'scale_pos_weight': 1, 'reg_alpha': 0.5, 'tree_method': 'approx', 'grow_policy': 'lossguide'}. Best is trial 0 with value: 0.5399444524991661.\n",
      "[I 2025-03-26 11:54:17,933] Trial 5 finished with value: 0.4415182977188391 and parameters: {'n_estimators': 300, 'max_depth': 35, 'learning_rate': 0.0029982933873574473, 'subsample': 0.7773343532861623, 'colsample_bytree': 0.944793414615173, 'gamma': 0.7988417708079415, 'min_child_weight': 9, 'scale_pos_weight': 1, 'reg_alpha': 0, 'tree_method': 'hist', 'grow_policy': 'lossguide'}. Best is trial 0 with value: 0.5399444524991661.\n",
      "[I 2025-03-26 11:54:18,260] Trial 6 finished with value: 0.4982383271446202 and parameters: {'n_estimators': 500, 'max_depth': 3, 'learning_rate': 0.18258030932871486, 'subsample': 0.6875163740834699, 'colsample_bytree': 0.8138914931015246, 'gamma': 0.1513473761659666, 'min_child_weight': 27, 'scale_pos_weight': np.float64(1.2905829596412555), 'reg_alpha': 0.1, 'tree_method': 'hist', 'grow_policy': 'depthwise'}. Best is trial 0 with value: 0.5399444524991661.\n",
      "[I 2025-03-26 11:54:19,902] Trial 7 finished with value: 0.5215884822928423 and parameters: {'n_estimators': 350, 'max_depth': 21, 'learning_rate': 0.0015829408361689506, 'subsample': 0.9650566034007495, 'colsample_bytree': 0.6996727857079234, 'gamma': 0.8272071071188244, 'min_child_weight': 7, 'scale_pos_weight': np.float64(1.2905829596412555), 'reg_alpha': 0.5, 'tree_method': 'auto', 'grow_policy': 'lossguide'}. Best is trial 0 with value: 0.5399444524991661.\n",
      "[I 2025-03-26 11:54:20,011] Trial 8 finished with value: 0.48082818856824516 and parameters: {'n_estimators': 100, 'max_depth': 15, 'learning_rate': 0.19482663714521445, 'subsample': 0.847866661188099, 'colsample_bytree': 0.5555130685660585, 'gamma': 0.5261869851824212, 'min_child_weight': 47, 'scale_pos_weight': 1, 'reg_alpha': 1, 'tree_method': 'hist', 'grow_policy': 'depthwise'}. Best is trial 0 with value: 0.5399444524991661.\n",
      "[I 2025-03-26 11:54:20,483] Trial 9 finished with value: 0.43495559284144936 and parameters: {'n_estimators': 150, 'max_depth': 23, 'learning_rate': 0.0012151286976468522, 'subsample': 0.6151370993222275, 'colsample_bytree': 0.7674186257758782, 'gamma': 0.8701604787917093, 'min_child_weight': 29, 'scale_pos_weight': np.float64(1.2905829596412555), 'reg_alpha': 0.5, 'tree_method': 'exact', 'grow_policy': 'depthwise'}. Best is trial 0 with value: 0.5399444524991661.\n",
      "[I 2025-03-26 11:54:20,878] A new study created in memory with name: no-name-63a41a4e-342f-4f40-b853-159541e8d913\n"
     ]
    },
    {
     "name": "stdout",
     "output_type": "stream",
     "text": [
      "Mejores parámetros: {'n_estimators': 400, 'max_depth': 5, 'learning_rate': 0.006165269253721186, 'subsample': 0.8576078908079323, 'colsample_bytree': 0.6421064993701447, 'gamma': 0.9493378066500051, 'min_child_weight': 11, 'scale_pos_weight': np.float64(1.2905829596412555), 'reg_alpha': 1, 'tree_method': 'exact', 'grow_policy': 'lossguide'}\n",
      "aCC ACT: 0.593114241001565\n",
      "MEJOR ACCURACY 0.596244131455399 - 31\n"
     ]
    },
    {
     "name": "stderr",
     "output_type": "stream",
     "text": [
      "[I 2025-03-26 11:54:21,224] Trial 0 finished with value: 0.5415364424105735 and parameters: {'n_estimators': 450, 'max_depth': 3, 'learning_rate': 0.0030548477098550552, 'subsample': 0.8473687077398441, 'colsample_bytree': 0.5491422326684496, 'gamma': 0.6201313098768588, 'min_child_weight': 3, 'scale_pos_weight': np.float64(1.2905829596412555), 'reg_alpha': 1, 'tree_method': 'hist', 'grow_policy': 'depthwise'}. Best is trial 0 with value: 0.5415364424105735.\n",
      "[I 2025-03-26 11:54:22,333] Trial 1 finished with value: 0.4975273677278464 and parameters: {'n_estimators': 450, 'max_depth': 21, 'learning_rate': 0.0016538366404381171, 'subsample': 0.7299562854547292, 'colsample_bytree': 0.7075560930712457, 'gamma': 0.7422739488503802, 'min_child_weight': 47, 'scale_pos_weight': np.float64(1.2905829596412555), 'reg_alpha': 1, 'tree_method': 'exact', 'grow_policy': 'depthwise'}. Best is trial 0 with value: 0.5415364424105735.\n",
      "[I 2025-03-26 11:54:24,178] Trial 2 finished with value: 0.500222962875555 and parameters: {'n_estimators': 450, 'max_depth': 3, 'learning_rate': 0.010898476251292566, 'subsample': 0.6189691497381032, 'colsample_bytree': 0.7488637480889248, 'gamma': 0.8587740041280045, 'min_child_weight': 23, 'scale_pos_weight': 1, 'reg_alpha': 0.1, 'tree_method': 'approx', 'grow_policy': 'lossguide'}. Best is trial 0 with value: 0.5415364424105735.\n",
      "[I 2025-03-26 11:54:25,227] Trial 3 finished with value: 0.4692090704466608 and parameters: {'n_estimators': 250, 'max_depth': 33, 'learning_rate': 0.02331089383397515, 'subsample': 0.7817123916091229, 'colsample_bytree': 0.9578882083483644, 'gamma': 0.7440674029374216, 'min_child_weight': 65, 'scale_pos_weight': 1, 'reg_alpha': 1, 'tree_method': 'approx', 'grow_policy': 'depthwise'}. Best is trial 0 with value: 0.5415364424105735.\n",
      "[I 2025-03-26 11:54:25,418] Trial 4 finished with value: 0.49436494454672103 and parameters: {'n_estimators': 250, 'max_depth': 47, 'learning_rate': 0.004414212723962019, 'subsample': 0.7711535596883559, 'colsample_bytree': 0.7325824808819194, 'gamma': 0.8551238146044345, 'min_child_weight': 69, 'scale_pos_weight': np.float64(1.2905829596412555), 'reg_alpha': 0.1, 'tree_method': 'hist', 'grow_policy': 'depthwise'}. Best is trial 0 with value: 0.5415364424105735.\n",
      "[I 2025-03-26 11:54:26,492] Trial 5 finished with value: 0.48256574418514847 and parameters: {'n_estimators': 300, 'max_depth': 27, 'learning_rate': 0.0014426705022258987, 'subsample': 0.9884729457250776, 'colsample_bytree': 0.977410203798501, 'gamma': 0.7800163059630726, 'min_child_weight': 59, 'scale_pos_weight': np.float64(1.2905829596412555), 'reg_alpha': 1, 'tree_method': 'exact', 'grow_policy': 'lossguide'}. Best is trial 0 with value: 0.5415364424105735.\n",
      "[I 2025-03-26 11:54:26,703] Trial 6 finished with value: 0.47354929794341716 and parameters: {'n_estimators': 300, 'max_depth': 31, 'learning_rate': 0.02202663357211123, 'subsample': 0.7975232554919567, 'colsample_bytree': 0.5834069151108234, 'gamma': 0.7988206324471356, 'min_child_weight': 57, 'scale_pos_weight': 1, 'reg_alpha': 1, 'tree_method': 'auto', 'grow_policy': 'depthwise'}. Best is trial 0 with value: 0.5415364424105735.\n",
      "[I 2025-03-26 11:54:28,920] Trial 7 finished with value: 0.5434110946477876 and parameters: {'n_estimators': 300, 'max_depth': 41, 'learning_rate': 0.006299948904248793, 'subsample': 0.6559531169475702, 'colsample_bytree': 0.6712277885838814, 'gamma': 0.9666085636927217, 'min_child_weight': 17, 'scale_pos_weight': np.float64(1.2905829596412555), 'reg_alpha': 1, 'tree_method': 'approx', 'grow_policy': 'depthwise'}. Best is trial 7 with value: 0.5434110946477876.\n",
      "[I 2025-03-26 11:54:29,920] Trial 8 finished with value: 0.5031050343319132 and parameters: {'n_estimators': 450, 'max_depth': 19, 'learning_rate': 0.10289064412341167, 'subsample': 0.8346163775065838, 'colsample_bytree': 0.5370593201736583, 'gamma': 0.4817889224307753, 'min_child_weight': 37, 'scale_pos_weight': 1, 'reg_alpha': 1, 'tree_method': 'exact', 'grow_policy': 'lossguide'}. Best is trial 7 with value: 0.5434110946477876.\n",
      "[I 2025-03-26 11:54:30,074] Trial 9 finished with value: 0.5094410377724936 and parameters: {'n_estimators': 200, 'max_depth': 3, 'learning_rate': 0.028472233663704105, 'subsample': 0.9321151871384392, 'colsample_bytree': 0.9569608134653866, 'gamma': 0.01804589989745986, 'min_child_weight': 59, 'scale_pos_weight': np.float64(1.2905829596412555), 'reg_alpha': 0.5, 'tree_method': 'auto', 'grow_policy': 'lossguide'}. Best is trial 7 with value: 0.5434110946477876.\n",
      "[I 2025-03-26 11:54:31,756] A new study created in memory with name: no-name-f0814b56-4810-475e-be76-6f16a6a41a66\n"
     ]
    },
    {
     "name": "stdout",
     "output_type": "stream",
     "text": [
      "Mejores parámetros: {'n_estimators': 300, 'max_depth': 41, 'learning_rate': 0.006299948904248793, 'subsample': 0.6559531169475702, 'colsample_bytree': 0.6712277885838814, 'gamma': 0.9666085636927217, 'min_child_weight': 17, 'scale_pos_weight': np.float64(1.2905829596412555), 'reg_alpha': 1, 'tree_method': 'approx', 'grow_policy': 'depthwise'}\n",
      "aCC ACT: 0.5899843505477308\n",
      "MEJOR ACCURACY 0.596244131455399 - 31\n"
     ]
    },
    {
     "name": "stderr",
     "output_type": "stream",
     "text": [
      "[I 2025-03-26 11:54:32,129] Trial 0 finished with value: 0.5087788514686211 and parameters: {'n_estimators': 450, 'max_depth': 29, 'learning_rate': 0.01113478780758919, 'subsample': 0.7408699654767847, 'colsample_bytree': 0.7929256920674186, 'gamma': 0.5357497442730758, 'min_child_weight': 57, 'scale_pos_weight': np.float64(1.2905829596412555), 'reg_alpha': 0, 'tree_method': 'hist', 'grow_policy': 'lossguide'}. Best is trial 0 with value: 0.5087788514686211.\n",
      "[I 2025-03-26 11:54:34,370] Trial 1 finished with value: 0.5261265114381766 and parameters: {'n_estimators': 350, 'max_depth': 29, 'learning_rate': 0.020117632982410615, 'subsample': 0.8097420398418591, 'colsample_bytree': 0.8037900121405714, 'gamma': 0.12822787402321412, 'min_child_weight': 13, 'scale_pos_weight': np.float64(1.2905829596412555), 'reg_alpha': 0, 'tree_method': 'exact', 'grow_policy': 'depthwise'}. Best is trial 1 with value: 0.5261265114381766.\n",
      "[I 2025-03-26 11:54:35,176] Trial 2 finished with value: 0.47668350185754615 and parameters: {'n_estimators': 500, 'max_depth': 39, 'learning_rate': 0.0036762334017233296, 'subsample': 0.8844318607000068, 'colsample_bytree': 0.6338424522764505, 'gamma': 0.8666955871355754, 'min_child_weight': 17, 'scale_pos_weight': 1, 'reg_alpha': 0.1, 'tree_method': 'hist', 'grow_policy': 'depthwise'}. Best is trial 1 with value: 0.5261265114381766.\n",
      "[I 2025-03-26 11:54:35,879] Trial 3 finished with value: 0.3712783001674679 and parameters: {'n_estimators': 250, 'max_depth': 27, 'learning_rate': 0.002337618778549313, 'subsample': 0.9764412053164855, 'colsample_bytree': 0.5154510404095185, 'gamma': 0.7315551207465713, 'min_child_weight': 9, 'scale_pos_weight': 1, 'reg_alpha': 1, 'tree_method': 'auto', 'grow_policy': 'lossguide'}. Best is trial 1 with value: 0.5261265114381766.\n",
      "[I 2025-03-26 11:54:36,812] Trial 4 finished with value: 0.5271880663572391 and parameters: {'n_estimators': 450, 'max_depth': 33, 'learning_rate': 0.0013815945495082274, 'subsample': 0.8739335674268236, 'colsample_bytree': 0.7388310364325221, 'gamma': 0.7109335780625973, 'min_child_weight': 15, 'scale_pos_weight': np.float64(1.2905829596412555), 'reg_alpha': 1, 'tree_method': 'auto', 'grow_policy': 'lossguide'}. Best is trial 4 with value: 0.5271880663572391.\n",
      "[I 2025-03-26 11:54:38,284] Trial 5 finished with value: 0.513006288893505 and parameters: {'n_estimators': 300, 'max_depth': 19, 'learning_rate': 0.1525844415017947, 'subsample': 0.8880115180215303, 'colsample_bytree': 0.6505691814843366, 'gamma': 0.26713228938649747, 'min_child_weight': 41, 'scale_pos_weight': np.float64(1.2905829596412555), 'reg_alpha': 1, 'tree_method': 'approx', 'grow_policy': 'lossguide'}. Best is trial 4 with value: 0.5271880663572391.\n",
      "[I 2025-03-26 11:54:38,843] Trial 6 finished with value: 0.522398295593816 and parameters: {'n_estimators': 150, 'max_depth': 43, 'learning_rate': 0.03304610550736286, 'subsample': 0.6203240604467751, 'colsample_bytree': 0.8686853331510958, 'gamma': 0.5848381786564922, 'min_child_weight': 7, 'scale_pos_weight': np.float64(1.2905829596412555), 'reg_alpha': 0.1, 'tree_method': 'auto', 'grow_policy': 'lossguide'}. Best is trial 4 with value: 0.5271880663572391.\n",
      "[I 2025-03-26 11:54:41,316] Trial 7 finished with value: 0.5235007185407119 and parameters: {'n_estimators': 500, 'max_depth': 39, 'learning_rate': 0.021964404790843543, 'subsample': 0.847187062310081, 'colsample_bytree': 0.8383510592396093, 'gamma': 0.5167228887050396, 'min_child_weight': 45, 'scale_pos_weight': np.float64(1.2905829596412555), 'reg_alpha': 0, 'tree_method': 'approx', 'grow_policy': 'lossguide'}. Best is trial 4 with value: 0.5271880663572391.\n",
      "[I 2025-03-26 11:54:47,626] Trial 8 finished with value: 0.49298443475856535 and parameters: {'n_estimators': 200, 'max_depth': 33, 'learning_rate': 0.012911107487165414, 'subsample': 0.696242238308544, 'colsample_bytree': 0.7427542816156175, 'gamma': 0.7257665503532277, 'min_child_weight': 7, 'scale_pos_weight': 1, 'reg_alpha': 0.5, 'tree_method': 'approx', 'grow_policy': 'lossguide'}. Best is trial 4 with value: 0.5271880663572391.\n",
      "[I 2025-03-26 11:54:48,409] Trial 9 finished with value: 0.529901461985897 and parameters: {'n_estimators': 450, 'max_depth': 27, 'learning_rate': 0.001588290908620973, 'subsample': 0.7350261111955969, 'colsample_bytree': 0.6308214682750564, 'gamma': 0.9435907894558662, 'min_child_weight': 15, 'scale_pos_weight': np.float64(1.2905829596412555), 'reg_alpha': 1, 'tree_method': 'auto', 'grow_policy': 'lossguide'}. Best is trial 9 with value: 0.529901461985897.\n",
      "[I 2025-03-26 11:54:49,213] A new study created in memory with name: no-name-6b5a3c01-9765-4255-98a2-b538f1651c8f\n"
     ]
    },
    {
     "name": "stdout",
     "output_type": "stream",
     "text": [
      "Mejores parámetros: {'n_estimators': 450, 'max_depth': 27, 'learning_rate': 0.001588290908620973, 'subsample': 0.7350261111955969, 'colsample_bytree': 0.6308214682750564, 'gamma': 0.9435907894558662, 'min_child_weight': 15, 'scale_pos_weight': np.float64(1.2905829596412555), 'reg_alpha': 1, 'tree_method': 'auto', 'grow_policy': 'lossguide'}\n",
      "aCC ACT: 0.5899843505477308\n",
      "MEJOR ACCURACY 0.596244131455399 - 31\n"
     ]
    },
    {
     "name": "stderr",
     "output_type": "stream",
     "text": [
      "[I 2025-03-26 11:54:50,306] Trial 0 finished with value: 0.3581489377629863 and parameters: {'n_estimators': 250, 'max_depth': 19, 'learning_rate': 0.0026632185310300587, 'subsample': 0.8073130912669905, 'colsample_bytree': 0.5043027260043846, 'gamma': 0.9689362067194862, 'min_child_weight': 57, 'scale_pos_weight': 1, 'reg_alpha': 0.5, 'tree_method': 'approx', 'grow_policy': 'lossguide'}. Best is trial 0 with value: 0.3581489377629863.\n",
      "[I 2025-03-26 11:54:52,625] Trial 1 finished with value: 0.40415680081016736 and parameters: {'n_estimators': 500, 'max_depth': 17, 'learning_rate': 0.0024874050597798033, 'subsample': 0.6701538102609279, 'colsample_bytree': 0.5819132960743454, 'gamma': 0.5850143765094813, 'min_child_weight': 33, 'scale_pos_weight': 1, 'reg_alpha': 1, 'tree_method': 'approx', 'grow_policy': 'lossguide'}. Best is trial 1 with value: 0.40415680081016736.\n",
      "[I 2025-03-26 11:54:52,745] Trial 2 finished with value: 0.47552940123996124 and parameters: {'n_estimators': 150, 'max_depth': 25, 'learning_rate': 0.0034073656243364127, 'subsample': 0.6644707791059958, 'colsample_bytree': 0.6085310756866171, 'gamma': 0.16071548217278975, 'min_child_weight': 67, 'scale_pos_weight': np.float64(1.2905829596412555), 'reg_alpha': 0.1, 'tree_method': 'hist', 'grow_policy': 'depthwise'}. Best is trial 2 with value: 0.47552940123996124.\n",
      "[I 2025-03-26 11:54:55,650] Trial 3 finished with value: 0.529158972138757 and parameters: {'n_estimators': 350, 'max_depth': 37, 'learning_rate': 0.011125527714824652, 'subsample': 0.868664665408228, 'colsample_bytree': 0.8984700391777756, 'gamma': 0.19569747893631007, 'min_child_weight': 11, 'scale_pos_weight': np.float64(1.2905829596412555), 'reg_alpha': 0, 'tree_method': 'exact', 'grow_policy': 'depthwise'}. Best is trial 3 with value: 0.529158972138757.\n",
      "[I 2025-03-26 11:54:57,457] Trial 4 finished with value: 0.5027106531406985 and parameters: {'n_estimators': 350, 'max_depth': 21, 'learning_rate': 0.07982182553697496, 'subsample': 0.8849959537904308, 'colsample_bytree': 0.5186771371527232, 'gamma': 0.4084297547475274, 'min_child_weight': 33, 'scale_pos_weight': 1, 'reg_alpha': 0.1, 'tree_method': 'approx', 'grow_policy': 'lossguide'}. Best is trial 3 with value: 0.529158972138757.\n",
      "[I 2025-03-26 11:54:57,704] Trial 5 finished with value: 0.40907475781969865 and parameters: {'n_estimators': 400, 'max_depth': 13, 'learning_rate': 0.004512216895062206, 'subsample': 0.7099507576085696, 'colsample_bytree': 0.5653101093659352, 'gamma': 0.5413680185641804, 'min_child_weight': 67, 'scale_pos_weight': 1, 'reg_alpha': 0, 'tree_method': 'auto', 'grow_policy': 'lossguide'}. Best is trial 3 with value: 0.529158972138757.\n",
      "[I 2025-03-26 11:54:57,907] Trial 6 finished with value: 0.49752602235774096 and parameters: {'n_estimators': 150, 'max_depth': 45, 'learning_rate': 0.030900866967312014, 'subsample': 0.740592862093361, 'colsample_bytree': 0.9407075610394694, 'gamma': 0.0757295436635752, 'min_child_weight': 31, 'scale_pos_weight': 1, 'reg_alpha': 0.1, 'tree_method': 'auto', 'grow_policy': 'lossguide'}. Best is trial 3 with value: 0.529158972138757.\n",
      "[I 2025-03-26 11:54:59,534] Trial 7 finished with value: 0.49004213818087533 and parameters: {'n_estimators': 450, 'max_depth': 45, 'learning_rate': 0.008418170091786883, 'subsample': 0.9769182203905084, 'colsample_bytree': 0.6549959991932546, 'gamma': 0.7237457977852451, 'min_child_weight': 31, 'scale_pos_weight': 1, 'reg_alpha': 0.5, 'tree_method': 'exact', 'grow_policy': 'depthwise'}. Best is trial 3 with value: 0.529158972138757.\n",
      "[I 2025-03-26 11:55:00,774] Trial 8 finished with value: 0.5375383980321494 and parameters: {'n_estimators': 400, 'max_depth': 35, 'learning_rate': 0.0043531049227411, 'subsample': 0.7264093093240441, 'colsample_bytree': 0.7133927295373341, 'gamma': 0.9887870054450222, 'min_child_weight': 33, 'scale_pos_weight': np.float64(1.2905829596412555), 'reg_alpha': 0.5, 'tree_method': 'exact', 'grow_policy': 'depthwise'}. Best is trial 8 with value: 0.5375383980321494.\n",
      "[I 2025-03-26 11:55:00,997] Trial 9 finished with value: 0.4285803166755039 and parameters: {'n_estimators': 250, 'max_depth': 45, 'learning_rate': 0.006595746098388527, 'subsample': 0.6535701722385833, 'colsample_bytree': 0.6147689711774286, 'gamma': 0.62908875539283, 'min_child_weight': 33, 'scale_pos_weight': 1, 'reg_alpha': 0.1, 'tree_method': 'hist', 'grow_policy': 'lossguide'}. Best is trial 8 with value: 0.5375383980321494.\n",
      "[I 2025-03-26 11:55:01,408] A new study created in memory with name: no-name-830300ae-8549-4020-8890-ec9f9405f3a5\n",
      "[I 2025-03-26 11:55:01,542] Trial 0 finished with value: 0.50152820436611 and parameters: {'n_estimators': 100, 'max_depth': 49, 'learning_rate': 0.012983038015448306, 'subsample': 0.6970090805992256, 'colsample_bytree': 0.7655619149036266, 'gamma': 0.2855442354647988, 'min_child_weight': 61, 'scale_pos_weight': np.float64(1.2905829596412555), 'reg_alpha': 0.5, 'tree_method': 'hist', 'grow_policy': 'depthwise'}. Best is trial 0 with value: 0.50152820436611.\n"
     ]
    },
    {
     "name": "stdout",
     "output_type": "stream",
     "text": [
      "Mejores parámetros: {'n_estimators': 400, 'max_depth': 35, 'learning_rate': 0.0043531049227411, 'subsample': 0.7264093093240441, 'colsample_bytree': 0.7133927295373341, 'gamma': 0.9887870054450222, 'min_child_weight': 33, 'scale_pos_weight': np.float64(1.2905829596412555), 'reg_alpha': 0.5, 'tree_method': 'exact', 'grow_policy': 'depthwise'}\n",
      "aCC ACT: 0.5884194053208138\n",
      "MEJOR ACCURACY 0.596244131455399 - 31\n"
     ]
    },
    {
     "name": "stderr",
     "output_type": "stream",
     "text": [
      "[I 2025-03-26 11:55:03,507] Trial 1 finished with value: 0.4829369119090825 and parameters: {'n_estimators': 450, 'max_depth': 21, 'learning_rate': 0.030274331929816982, 'subsample': 0.6081813252662366, 'colsample_bytree': 0.9040422714946993, 'gamma': 0.4296133020191586, 'min_child_weight': 39, 'scale_pos_weight': 1, 'reg_alpha': 0, 'tree_method': 'approx', 'grow_policy': 'depthwise'}. Best is trial 0 with value: 0.50152820436611.\n",
      "[I 2025-03-26 11:55:05,363] Trial 2 finished with value: 0.5250229621199175 and parameters: {'n_estimators': 200, 'max_depth': 45, 'learning_rate': 0.06130210992615752, 'subsample': 0.7719063507882651, 'colsample_bytree': 0.9608951788791136, 'gamma': 0.7076996787201035, 'min_child_weight': 5, 'scale_pos_weight': np.float64(1.2905829596412555), 'reg_alpha': 0.5, 'tree_method': 'exact', 'grow_policy': 'lossguide'}. Best is trial 2 with value: 0.5250229621199175.\n",
      "[I 2025-03-26 11:55:06,120] Trial 3 finished with value: 0.5035428393289326 and parameters: {'n_estimators': 450, 'max_depth': 11, 'learning_rate': 0.05948417995425235, 'subsample': 0.9324397142915016, 'colsample_bytree': 0.7696285325017898, 'gamma': 0.37246317384512984, 'min_child_weight': 15, 'scale_pos_weight': np.float64(1.2905829596412555), 'reg_alpha': 0.5, 'tree_method': 'hist', 'grow_policy': 'lossguide'}. Best is trial 2 with value: 0.5250229621199175.\n",
      "[I 2025-03-26 11:55:07,979] Trial 4 finished with value: 0.5032730450987988 and parameters: {'n_estimators': 450, 'max_depth': 3, 'learning_rate': 0.07983768280188562, 'subsample': 0.7912102776847807, 'colsample_bytree': 0.6403641651972876, 'gamma': 0.5941442686861492, 'min_child_weight': 5, 'scale_pos_weight': np.float64(1.2905829596412555), 'reg_alpha': 1, 'tree_method': 'approx', 'grow_policy': 'depthwise'}. Best is trial 2 with value: 0.5250229621199175.\n",
      "[I 2025-03-26 11:55:10,086] Trial 5 finished with value: 0.509739835486881 and parameters: {'n_estimators': 500, 'max_depth': 25, 'learning_rate': 0.09544968561903781, 'subsample': 0.6728545112900576, 'colsample_bytree': 0.6419574762327824, 'gamma': 0.28190431676324934, 'min_child_weight': 41, 'scale_pos_weight': np.float64(1.2905829596412555), 'reg_alpha': 0.1, 'tree_method': 'approx', 'grow_policy': 'lossguide'}. Best is trial 2 with value: 0.5250229621199175.\n",
      "[I 2025-03-26 11:55:10,297] Trial 6 finished with value: 0.5281077181967644 and parameters: {'n_estimators': 200, 'max_depth': 49, 'learning_rate': 0.05416165040520962, 'subsample': 0.7165278585560853, 'colsample_bytree': 0.6458169184347815, 'gamma': 0.7244164923026568, 'min_child_weight': 35, 'scale_pos_weight': np.float64(1.2905829596412555), 'reg_alpha': 0.1, 'tree_method': 'auto', 'grow_policy': 'depthwise'}. Best is trial 6 with value: 0.5281077181967644.\n",
      "[I 2025-03-26 11:55:12,176] Trial 7 finished with value: 0.5196444090729543 and parameters: {'n_estimators': 150, 'max_depth': 39, 'learning_rate': 0.18147166425141, 'subsample': 0.8440180241583932, 'colsample_bytree': 0.7407633136246861, 'gamma': 0.5028482409893512, 'min_child_weight': 3, 'scale_pos_weight': np.float64(1.2905829596412555), 'reg_alpha': 1, 'tree_method': 'approx', 'grow_policy': 'depthwise'}. Best is trial 6 with value: 0.5281077181967644.\n",
      "[I 2025-03-26 11:55:15,238] Trial 8 finished with value: 0.5264106337621073 and parameters: {'n_estimators': 500, 'max_depth': 11, 'learning_rate': 0.002810683475544934, 'subsample': 0.6386206095944909, 'colsample_bytree': 0.6702729543670534, 'gamma': 0.5791424157387312, 'min_child_weight': 5, 'scale_pos_weight': np.float64(1.2905829596412555), 'reg_alpha': 0, 'tree_method': 'exact', 'grow_policy': 'depthwise'}. Best is trial 6 with value: 0.5281077181967644.\n",
      "[I 2025-03-26 11:55:16,161] Trial 9 finished with value: 0.5217633359936591 and parameters: {'n_estimators': 500, 'max_depth': 47, 'learning_rate': 0.013186134137031147, 'subsample': 0.8726980815434632, 'colsample_bytree': 0.9031762865686328, 'gamma': 0.3238117691679152, 'min_child_weight': 19, 'scale_pos_weight': np.float64(1.2905829596412555), 'reg_alpha': 0.1, 'tree_method': 'auto', 'grow_policy': 'depthwise'}. Best is trial 6 with value: 0.5281077181967644.\n",
      "[I 2025-03-26 11:55:16,327] A new study created in memory with name: no-name-74d4324e-6223-4e84-9e1f-4f280fba6ced\n"
     ]
    },
    {
     "name": "stdout",
     "output_type": "stream",
     "text": [
      "Mejores parámetros: {'n_estimators': 200, 'max_depth': 49, 'learning_rate': 0.05416165040520962, 'subsample': 0.7165278585560853, 'colsample_bytree': 0.6458169184347815, 'gamma': 0.7244164923026568, 'min_child_weight': 35, 'scale_pos_weight': np.float64(1.2905829596412555), 'reg_alpha': 0.1, 'tree_method': 'auto', 'grow_policy': 'depthwise'}\n",
      "aCC ACT: 0.5524256651017214\n",
      "MEJOR ACCURACY 0.596244131455399 - 31\n"
     ]
    },
    {
     "name": "stderr",
     "output_type": "stream",
     "text": [
      "[I 2025-03-26 11:55:17,026] Trial 0 finished with value: 0.5121220631995396 and parameters: {'n_estimators': 500, 'max_depth': 19, 'learning_rate': 0.03549830744915313, 'subsample': 0.6785561668858098, 'colsample_bytree': 0.6772232323205118, 'gamma': 0.8133659531820605, 'min_child_weight': 17, 'scale_pos_weight': np.float64(1.2905829596412555), 'reg_alpha': 1, 'tree_method': 'hist', 'grow_policy': 'lossguide'}. Best is trial 0 with value: 0.5121220631995396.\n",
      "[I 2025-03-26 11:55:18,929] Trial 1 finished with value: 0.48534979436951603 and parameters: {'n_estimators': 450, 'max_depth': 37, 'learning_rate': 0.04363209861538994, 'subsample': 0.6142687875751848, 'colsample_bytree': 0.5098656144712563, 'gamma': 0.327796871244013, 'min_child_weight': 39, 'scale_pos_weight': 1, 'reg_alpha': 0, 'tree_method': 'approx', 'grow_policy': 'lossguide'}. Best is trial 0 with value: 0.5121220631995396.\n",
      "[I 2025-03-26 11:55:19,326] Trial 2 finished with value: 0.5008109389942144 and parameters: {'n_estimators': 150, 'max_depth': 37, 'learning_rate': 0.022273978701666104, 'subsample': 0.6626102864086796, 'colsample_bytree': 0.8930380141085782, 'gamma': 0.1653381795852591, 'min_child_weight': 53, 'scale_pos_weight': np.float64(1.2905829596412555), 'reg_alpha': 1, 'tree_method': 'exact', 'grow_policy': 'depthwise'}. Best is trial 0 with value: 0.5121220631995396.\n",
      "[I 2025-03-26 11:55:19,885] Trial 3 finished with value: 0.3581489377629863 and parameters: {'n_estimators': 100, 'max_depth': 25, 'learning_rate': 0.0012283151374012718, 'subsample': 0.8933307030717017, 'colsample_bytree': 0.839651941438415, 'gamma': 0.1460934696865831, 'min_child_weight': 37, 'scale_pos_weight': 1, 'reg_alpha': 0, 'tree_method': 'approx', 'grow_policy': 'depthwise'}. Best is trial 0 with value: 0.5121220631995396.\n",
      "[I 2025-03-26 11:55:20,255] Trial 4 finished with value: 0.44893245460055553 and parameters: {'n_estimators': 150, 'max_depth': 19, 'learning_rate': 0.016373554734547657, 'subsample': 0.9015430924966292, 'colsample_bytree': 0.8460372908363902, 'gamma': 0.11020666723436923, 'min_child_weight': 69, 'scale_pos_weight': 1, 'reg_alpha': 0, 'tree_method': 'exact', 'grow_policy': 'lossguide'}. Best is trial 0 with value: 0.5121220631995396.\n",
      "[I 2025-03-26 11:55:20,477] Trial 5 finished with value: 0.45540101634212665 and parameters: {'n_estimators': 400, 'max_depth': 23, 'learning_rate': 0.04627835141894269, 'subsample': 0.6245036638668331, 'colsample_bytree': 0.5165012351435145, 'gamma': 0.06598234661394364, 'min_child_weight': 69, 'scale_pos_weight': 1, 'reg_alpha': 0.1, 'tree_method': 'hist', 'grow_policy': 'lossguide'}. Best is trial 0 with value: 0.5121220631995396.\n",
      "[I 2025-03-26 11:55:23,056] Trial 6 finished with value: 0.5264306781349207 and parameters: {'n_estimators': 400, 'max_depth': 35, 'learning_rate': 0.003830560885694703, 'subsample': 0.9927382261632365, 'colsample_bytree': 0.6602473648090506, 'gamma': 0.6099362948475462, 'min_child_weight': 11, 'scale_pos_weight': np.float64(1.2905829596412555), 'reg_alpha': 0.1, 'tree_method': 'exact', 'grow_policy': 'depthwise'}. Best is trial 6 with value: 0.5264306781349207.\n",
      "[I 2025-03-26 11:55:23,630] Trial 7 finished with value: 0.4821026054279868 and parameters: {'n_estimators': 200, 'max_depth': 7, 'learning_rate': 0.0022324398480898233, 'subsample': 0.8610496544751777, 'colsample_bytree': 0.8410382467706925, 'gamma': 0.9910556339869038, 'min_child_weight': 63, 'scale_pos_weight': np.float64(1.2905829596412555), 'reg_alpha': 1, 'tree_method': 'exact', 'grow_policy': 'lossguide'}. Best is trial 6 with value: 0.5264306781349207.\n",
      "[I 2025-03-26 11:55:23,800] Trial 8 finished with value: 0.4752369181827977 and parameters: {'n_estimators': 250, 'max_depth': 43, 'learning_rate': 0.06587921711597043, 'subsample': 0.6120305236598379, 'colsample_bytree': 0.7130405757639895, 'gamma': 0.756142346666181, 'min_child_weight': 61, 'scale_pos_weight': 1, 'reg_alpha': 1, 'tree_method': 'auto', 'grow_policy': 'depthwise'}. Best is trial 6 with value: 0.5264306781349207.\n",
      "[I 2025-03-26 11:55:24,543] Trial 9 finished with value: 0.5396945976354913 and parameters: {'n_estimators': 200, 'max_depth': 13, 'learning_rate': 0.005189097145126038, 'subsample': 0.8141777079485021, 'colsample_bytree': 0.6709040872788999, 'gamma': 0.7949961177148392, 'min_child_weight': 27, 'scale_pos_weight': np.float64(1.2905829596412555), 'reg_alpha': 1, 'tree_method': 'exact', 'grow_policy': 'lossguide'}. Best is trial 9 with value: 0.5396945976354913.\n",
      "[I 2025-03-26 11:55:24,829] A new study created in memory with name: no-name-ec4cd794-bf5e-4b2a-bca4-e85390a0b1f4\n",
      "[I 2025-03-26 11:55:24,962] Trial 0 finished with value: 0.3707917363230563 and parameters: {'n_estimators': 100, 'max_depth': 13, 'learning_rate': 0.008828031082414175, 'subsample': 0.7243130794240348, 'colsample_bytree': 0.7829779453807528, 'gamma': 0.5450637037838505, 'min_child_weight': 57, 'scale_pos_weight': 1, 'reg_alpha': 0.5, 'tree_method': 'auto', 'grow_policy': 'lossguide'}. Best is trial 0 with value: 0.3707917363230563.\n"
     ]
    },
    {
     "name": "stdout",
     "output_type": "stream",
     "text": [
      "Mejores parámetros: {'n_estimators': 200, 'max_depth': 13, 'learning_rate': 0.005189097145126038, 'subsample': 0.8141777079485021, 'colsample_bytree': 0.6709040872788999, 'gamma': 0.7949961177148392, 'min_child_weight': 27, 'scale_pos_weight': np.float64(1.2905829596412555), 'reg_alpha': 1, 'tree_method': 'exact', 'grow_policy': 'lossguide'}\n",
      "aCC ACT: 0.5915492957746479\n",
      "MEJOR ACCURACY 0.596244131455399 - 31\n"
     ]
    },
    {
     "name": "stderr",
     "output_type": "stream",
     "text": [
      "[I 2025-03-26 11:55:26,008] Trial 1 finished with value: 0.4540776952995028 and parameters: {'n_estimators': 150, 'max_depth': 43, 'learning_rate': 0.0013183230800894086, 'subsample': 0.9969118280044253, 'colsample_bytree': 0.55257365792194, 'gamma': 0.40198985283691147, 'min_child_weight': 5, 'scale_pos_weight': np.float64(1.2905829596412555), 'reg_alpha': 1, 'tree_method': 'hist', 'grow_policy': 'lossguide'}. Best is trial 1 with value: 0.4540776952995028.\n",
      "[I 2025-03-26 11:55:27,099] Trial 2 finished with value: 0.5165228042216398 and parameters: {'n_estimators': 100, 'max_depth': 45, 'learning_rate': 0.06460066564947015, 'subsample': 0.8656096442805448, 'colsample_bytree': 0.9263394739600073, 'gamma': 0.5443879376069042, 'min_child_weight': 13, 'scale_pos_weight': 1, 'reg_alpha': 0.5, 'tree_method': 'approx', 'grow_policy': 'depthwise'}. Best is trial 2 with value: 0.5165228042216398.\n",
      "[I 2025-03-26 11:55:27,585] Trial 3 finished with value: 0.5300119917349976 and parameters: {'n_estimators': 500, 'max_depth': 39, 'learning_rate': 0.029901024982268973, 'subsample': 0.71442513766214, 'colsample_bytree': 0.8323676898348369, 'gamma': 0.13456831445065065, 'min_child_weight': 35, 'scale_pos_weight': np.float64(1.2905829596412555), 'reg_alpha': 0, 'tree_method': 'auto', 'grow_policy': 'lossguide'}. Best is trial 3 with value: 0.5300119917349976.\n",
      "[I 2025-03-26 11:55:27,905] Trial 4 finished with value: 0.4608112983345055 and parameters: {'n_estimators': 350, 'max_depth': 17, 'learning_rate': 0.007946748421125412, 'subsample': 0.7652567717307667, 'colsample_bytree': 0.9641687273436168, 'gamma': 0.30861284726731497, 'min_child_weight': 47, 'scale_pos_weight': 1, 'reg_alpha': 0.1, 'tree_method': 'auto', 'grow_policy': 'lossguide'}. Best is trial 3 with value: 0.5300119917349976.\n",
      "[I 2025-03-26 11:55:34,818] Trial 5 finished with value: 0.5086960935974674 and parameters: {'n_estimators': 400, 'max_depth': 45, 'learning_rate': 0.020254377228307002, 'subsample': 0.7897751826341327, 'colsample_bytree': 0.8819468016598929, 'gamma': 0.8165816484248618, 'min_child_weight': 11, 'scale_pos_weight': 1, 'reg_alpha': 0.5, 'tree_method': 'approx', 'grow_policy': 'lossguide'}. Best is trial 3 with value: 0.5300119917349976.\n",
      "[I 2025-03-26 11:55:36,603] Trial 6 finished with value: 0.5094382658767792 and parameters: {'n_estimators': 350, 'max_depth': 13, 'learning_rate': 0.13036637234418005, 'subsample': 0.8852370949296136, 'colsample_bytree': 0.7934426974053931, 'gamma': 0.5035172760771319, 'min_child_weight': 35, 'scale_pos_weight': 1, 'reg_alpha': 1, 'tree_method': 'approx', 'grow_policy': 'lossguide'}. Best is trial 3 with value: 0.5300119917349976.\n",
      "[I 2025-03-26 11:55:36,867] Trial 7 finished with value: 0.5012715269090464 and parameters: {'n_estimators': 250, 'max_depth': 27, 'learning_rate': 0.0017166928336991927, 'subsample': 0.877679442188432, 'colsample_bytree': 0.6334937014074941, 'gamma': 0.16687070040077778, 'min_child_weight': 41, 'scale_pos_weight': np.float64(1.2905829596412555), 'reg_alpha': 1, 'tree_method': 'hist', 'grow_policy': 'depthwise'}. Best is trial 3 with value: 0.5300119917349976.\n",
      "[I 2025-03-26 11:55:37,131] Trial 8 finished with value: 0.521698476427859 and parameters: {'n_estimators': 250, 'max_depth': 43, 'learning_rate': 0.11003099742920387, 'subsample': 0.944268973400591, 'colsample_bytree': 0.8982793782907554, 'gamma': 0.4657134894645688, 'min_child_weight': 49, 'scale_pos_weight': np.float64(1.2905829596412555), 'reg_alpha': 0.1, 'tree_method': 'hist', 'grow_policy': 'depthwise'}. Best is trial 3 with value: 0.5300119917349976.\n",
      "[I 2025-03-26 11:55:37,971] Trial 9 finished with value: 0.3581489377629863 and parameters: {'n_estimators': 200, 'max_depth': 19, 'learning_rate': 0.0015330062852356855, 'subsample': 0.6003046309673514, 'colsample_bytree': 0.7780542609633692, 'gamma': 0.7399975847118674, 'min_child_weight': 57, 'scale_pos_weight': 1, 'reg_alpha': 0.1, 'tree_method': 'approx', 'grow_policy': 'lossguide'}. Best is trial 3 with value: 0.5300119917349976.\n",
      "[I 2025-03-26 11:55:38,410] A new study created in memory with name: no-name-c857ba0c-d8ee-4882-a251-fd8d50df1cd6\n"
     ]
    },
    {
     "name": "stdout",
     "output_type": "stream",
     "text": [
      "Mejores parámetros: {'n_estimators': 500, 'max_depth': 39, 'learning_rate': 0.029901024982268973, 'subsample': 0.71442513766214, 'colsample_bytree': 0.8323676898348369, 'gamma': 0.13456831445065065, 'min_child_weight': 35, 'scale_pos_weight': np.float64(1.2905829596412555), 'reg_alpha': 0, 'tree_method': 'auto', 'grow_policy': 'lossguide'}\n",
      "aCC ACT: 0.5758998435054773\n",
      "MEJOR ACCURACY 0.596244131455399 - 31\n"
     ]
    },
    {
     "name": "stderr",
     "output_type": "stream",
     "text": [
      "[I 2025-03-26 11:55:39,482] Trial 0 finished with value: 0.527522858461407 and parameters: {'n_estimators': 250, 'max_depth': 23, 'learning_rate': 0.013849999004169895, 'subsample': 0.6302488266380547, 'colsample_bytree': 0.7858807911638604, 'gamma': 0.2896340057739586, 'min_child_weight': 21, 'scale_pos_weight': np.float64(1.2905829596412555), 'reg_alpha': 0, 'tree_method': 'exact', 'grow_policy': 'depthwise'}. Best is trial 0 with value: 0.527522858461407.\n",
      "[I 2025-03-26 11:55:40,551] Trial 1 finished with value: 0.49536238024249357 and parameters: {'n_estimators': 500, 'max_depth': 9, 'learning_rate': 0.004382550001800226, 'subsample': 0.8298031397705072, 'colsample_bytree': 0.776942934801109, 'gamma': 0.07945976545948075, 'min_child_weight': 11, 'scale_pos_weight': 1, 'reg_alpha': 0.5, 'tree_method': 'auto', 'grow_policy': 'lossguide'}. Best is trial 0 with value: 0.527522858461407.\n",
      "[I 2025-03-26 11:55:41,259] Trial 2 finished with value: 0.4978605500129733 and parameters: {'n_estimators': 300, 'max_depth': 43, 'learning_rate': 0.004511512938515966, 'subsample': 0.6331046595991902, 'colsample_bytree': 0.8291687421437806, 'gamma': 0.2208454045959518, 'min_child_weight': 57, 'scale_pos_weight': np.float64(1.2905829596412555), 'reg_alpha': 1, 'tree_method': 'exact', 'grow_policy': 'lossguide'}. Best is trial 0 with value: 0.527522858461407.\n",
      "[I 2025-03-26 11:55:41,554] Trial 3 finished with value: 0.45536807564040965 and parameters: {'n_estimators': 450, 'max_depth': 3, 'learning_rate': 0.005489703971066866, 'subsample': 0.6106892836867606, 'colsample_bytree': 0.8919444877275278, 'gamma': 0.5928182869371288, 'min_child_weight': 39, 'scale_pos_weight': 1, 'reg_alpha': 0, 'tree_method': 'hist', 'grow_policy': 'depthwise'}. Best is trial 0 with value: 0.527522858461407.\n",
      "[I 2025-03-26 11:55:42,950] Trial 4 finished with value: 0.5154479941975596 and parameters: {'n_estimators': 350, 'max_depth': 5, 'learning_rate': 0.12380332737289246, 'subsample': 0.8281446552921998, 'colsample_bytree': 0.8789026504751867, 'gamma': 0.9405239073127852, 'min_child_weight': 3, 'scale_pos_weight': np.float64(1.2905829596412555), 'reg_alpha': 0.1, 'tree_method': 'exact', 'grow_policy': 'lossguide'}. Best is trial 0 with value: 0.527522858461407.\n",
      "[I 2025-03-26 11:55:43,746] Trial 5 finished with value: 0.3655771421236439 and parameters: {'n_estimators': 150, 'max_depth': 45, 'learning_rate': 0.003199135373976188, 'subsample': 0.6052311191796237, 'colsample_bytree': 0.5896117942810819, 'gamma': 0.39312423653697515, 'min_child_weight': 5, 'scale_pos_weight': 1, 'reg_alpha': 0.1, 'tree_method': 'exact', 'grow_policy': 'lossguide'}. Best is trial 0 with value: 0.527522858461407.\n",
      "[I 2025-03-26 11:55:44,023] Trial 6 finished with value: 0.510508231028779 and parameters: {'n_estimators': 300, 'max_depth': 47, 'learning_rate': 0.016224853625568008, 'subsample': 0.8460531545609686, 'colsample_bytree': 0.9841033877528759, 'gamma': 0.9984991101207987, 'min_child_weight': 55, 'scale_pos_weight': np.float64(1.2905829596412555), 'reg_alpha': 0.1, 'tree_method': 'auto', 'grow_policy': 'depthwise'}. Best is trial 0 with value: 0.527522858461407.\n",
      "[I 2025-03-26 11:55:46,000] Trial 7 finished with value: 0.5319472552117201 and parameters: {'n_estimators': 200, 'max_depth': 37, 'learning_rate': 0.003131038831398979, 'subsample': 0.9699908844372077, 'colsample_bytree': 0.6795371410576703, 'gamma': 0.9875740433490091, 'min_child_weight': 19, 'scale_pos_weight': np.float64(1.2905829596412555), 'reg_alpha': 0, 'tree_method': 'approx', 'grow_policy': 'depthwise'}. Best is trial 7 with value: 0.5319472552117201.\n",
      "[I 2025-03-26 11:55:46,254] Trial 8 finished with value: 0.5312166143382832 and parameters: {'n_estimators': 250, 'max_depth': 45, 'learning_rate': 0.04115841714936332, 'subsample': 0.9562878023514715, 'colsample_bytree': 0.8439801068235304, 'gamma': 0.8257764917431982, 'min_child_weight': 53, 'scale_pos_weight': np.float64(1.2905829596412555), 'reg_alpha': 0, 'tree_method': 'auto', 'grow_policy': 'depthwise'}. Best is trial 7 with value: 0.5319472552117201.\n",
      "[I 2025-03-26 11:55:47,060] Trial 9 finished with value: 0.5244929755542822 and parameters: {'n_estimators': 100, 'max_depth': 31, 'learning_rate': 0.031227467751099962, 'subsample': 0.7578915061753374, 'colsample_bytree': 0.8350529205002906, 'gamma': 0.471114963339887, 'min_child_weight': 3, 'scale_pos_weight': np.float64(1.2905829596412555), 'reg_alpha': 1, 'tree_method': 'hist', 'grow_policy': 'depthwise'}. Best is trial 7 with value: 0.5319472552117201.\n",
      "[I 2025-03-26 11:55:48,705] A new study created in memory with name: no-name-ec6f4d1f-0ab4-471c-a8aa-a85956728c13\n"
     ]
    },
    {
     "name": "stdout",
     "output_type": "stream",
     "text": [
      "Mejores parámetros: {'n_estimators': 200, 'max_depth': 37, 'learning_rate': 0.003131038831398979, 'subsample': 0.9699908844372077, 'colsample_bytree': 0.6795371410576703, 'gamma': 0.9875740433490091, 'min_child_weight': 19, 'scale_pos_weight': np.float64(1.2905829596412555), 'reg_alpha': 0, 'tree_method': 'approx', 'grow_policy': 'depthwise'}\n",
      "aCC ACT: 0.5884194053208138\n",
      "MEJOR ACCURACY 0.596244131455399 - 31\n"
     ]
    },
    {
     "name": "stderr",
     "output_type": "stream",
     "text": [
      "[I 2025-03-26 11:55:49,308] Trial 0 finished with value: 0.50216027423859 and parameters: {'n_estimators': 500, 'max_depth': 9, 'learning_rate': 0.09880924831651418, 'subsample': 0.6336627763445832, 'colsample_bytree': 0.7867868419688138, 'gamma': 0.2819397668629128, 'min_child_weight': 17, 'scale_pos_weight': 1, 'reg_alpha': 0, 'tree_method': 'auto', 'grow_policy': 'depthwise'}. Best is trial 0 with value: 0.50216027423859.\n",
      "[I 2025-03-26 11:55:49,480] Trial 1 finished with value: 0.36974471681376403 and parameters: {'n_estimators': 200, 'max_depth': 43, 'learning_rate': 0.005280710598245668, 'subsample': 0.6305505114167691, 'colsample_bytree': 0.884713504596316, 'gamma': 0.2579699851054328, 'min_child_weight': 65, 'scale_pos_weight': 1, 'reg_alpha': 1, 'tree_method': 'auto', 'grow_policy': 'depthwise'}. Best is trial 0 with value: 0.50216027423859.\n",
      "[I 2025-03-26 11:55:49,933] Trial 2 finished with value: 0.5268866833059406 and parameters: {'n_estimators': 300, 'max_depth': 23, 'learning_rate': 0.0020899771285793674, 'subsample': 0.974151716969578, 'colsample_bytree': 0.818914257629901, 'gamma': 0.9499560278585542, 'min_child_weight': 31, 'scale_pos_weight': np.float64(1.2905829596412555), 'reg_alpha': 0.1, 'tree_method': 'hist', 'grow_policy': 'lossguide'}. Best is trial 2 with value: 0.5268866833059406.\n",
      "[I 2025-03-26 11:55:50,933] Trial 3 finished with value: 0.5114904364933136 and parameters: {'n_estimators': 350, 'max_depth': 5, 'learning_rate': 0.05073775793122102, 'subsample': 0.6081504810399784, 'colsample_bytree': 0.9059337478151668, 'gamma': 0.2830267685996014, 'min_child_weight': 31, 'scale_pos_weight': 1, 'reg_alpha': 0, 'tree_method': 'exact', 'grow_policy': 'lossguide'}. Best is trial 2 with value: 0.5268866833059406.\n",
      "[I 2025-03-26 11:55:51,106] Trial 4 finished with value: 0.5208302940935662 and parameters: {'n_estimators': 100, 'max_depth': 45, 'learning_rate': 0.059374103380864456, 'subsample': 0.9837417075111186, 'colsample_bytree': 0.6133819465527166, 'gamma': 0.676429581476733, 'min_child_weight': 25, 'scale_pos_weight': np.float64(1.2905829596412555), 'reg_alpha': 0.5, 'tree_method': 'auto', 'grow_policy': 'depthwise'}. Best is trial 2 with value: 0.5268866833059406.\n",
      "[I 2025-03-26 11:55:51,502] Trial 5 finished with value: 0.5272972824778259 and parameters: {'n_estimators': 350, 'max_depth': 9, 'learning_rate': 0.0694610150665166, 'subsample': 0.8479080590645401, 'colsample_bytree': 0.9309808234863057, 'gamma': 0.14193852666206042, 'min_child_weight': 39, 'scale_pos_weight': np.float64(1.2905829596412555), 'reg_alpha': 0.5, 'tree_method': 'auto', 'grow_policy': 'lossguide'}. Best is trial 5 with value: 0.5272972824778259.\n",
      "[I 2025-03-26 11:55:52,740] Trial 6 finished with value: 0.5055203777517616 and parameters: {'n_estimators': 300, 'max_depth': 13, 'learning_rate': 0.01804346849064395, 'subsample': 0.6896723951762546, 'colsample_bytree': 0.828318817069946, 'gamma': 0.7964643528714422, 'min_child_weight': 69, 'scale_pos_weight': np.float64(1.2905829596412555), 'reg_alpha': 0.1, 'tree_method': 'approx', 'grow_policy': 'lossguide'}. Best is trial 5 with value: 0.5272972824778259.\n",
      "[I 2025-03-26 11:55:53,576] Trial 7 finished with value: 0.5014143735531769 and parameters: {'n_estimators': 300, 'max_depth': 47, 'learning_rate': 0.030737404524272486, 'subsample': 0.8466893570672657, 'colsample_bytree': 0.5246073261134221, 'gamma': 0.4051982721522879, 'min_child_weight': 31, 'scale_pos_weight': 1, 'reg_alpha': 0.1, 'tree_method': 'exact', 'grow_policy': 'depthwise'}. Best is trial 5 with value: 0.5272972824778259.\n",
      "[I 2025-03-26 11:55:56,397] Trial 8 finished with value: 0.5057329353974348 and parameters: {'n_estimators': 400, 'max_depth': 33, 'learning_rate': 0.1115144865598343, 'subsample': 0.7953453805267439, 'colsample_bytree': 0.7100054191761822, 'gamma': 0.47275436888036304, 'min_child_weight': 15, 'scale_pos_weight': np.float64(1.2905829596412555), 'reg_alpha': 1, 'tree_method': 'approx', 'grow_policy': 'depthwise'}. Best is trial 5 with value: 0.5272972824778259.\n",
      "[I 2025-03-26 11:55:56,539] Trial 9 finished with value: 0.48113652911681515 and parameters: {'n_estimators': 150, 'max_depth': 9, 'learning_rate': 0.19864184389858736, 'subsample': 0.7135101575095865, 'colsample_bytree': 0.7579607624564146, 'gamma': 0.1889188697526757, 'min_child_weight': 51, 'scale_pos_weight': 1, 'reg_alpha': 0, 'tree_method': 'hist', 'grow_policy': 'lossguide'}. Best is trial 5 with value: 0.5272972824778259.\n",
      "[I 2025-03-26 11:55:56,873] A new study created in memory with name: no-name-ecf22dd0-876e-4933-8b23-50f529123774\n"
     ]
    },
    {
     "name": "stdout",
     "output_type": "stream",
     "text": [
      "Mejores parámetros: {'n_estimators': 350, 'max_depth': 9, 'learning_rate': 0.0694610150665166, 'subsample': 0.8479080590645401, 'colsample_bytree': 0.9309808234863057, 'gamma': 0.14193852666206042, 'min_child_weight': 39, 'scale_pos_weight': np.float64(1.2905829596412555), 'reg_alpha': 0.5, 'tree_method': 'auto', 'grow_policy': 'lossguide'}\n",
      "aCC ACT: 0.564945226917058\n",
      "MEJOR ACCURACY 0.596244131455399 - 31\n"
     ]
    },
    {
     "name": "stderr",
     "output_type": "stream",
     "text": [
      "[I 2025-03-26 11:55:57,223] Trial 0 finished with value: 0.5314454626001596 and parameters: {'n_estimators': 200, 'max_depth': 11, 'learning_rate': 0.005541827887590712, 'subsample': 0.8662998281153236, 'colsample_bytree': 0.7834854004846067, 'gamma': 0.3982539588987647, 'min_child_weight': 27, 'scale_pos_weight': np.float64(1.2905829596412555), 'reg_alpha': 0.5, 'tree_method': 'auto', 'grow_policy': 'lossguide'}. Best is trial 0 with value: 0.5314454626001596.\n",
      "[I 2025-03-26 11:55:57,507] Trial 1 finished with value: 0.48254074538763003 and parameters: {'n_estimators': 350, 'max_depth': 33, 'learning_rate': 0.0015313658206124086, 'subsample': 0.8325735006945806, 'colsample_bytree': 0.9195954297095774, 'gamma': 0.293018252087634, 'min_child_weight': 69, 'scale_pos_weight': np.float64(1.2905829596412555), 'reg_alpha': 0.5, 'tree_method': 'auto', 'grow_policy': 'lossguide'}. Best is trial 0 with value: 0.5314454626001596.\n",
      "[I 2025-03-26 11:55:58,018] Trial 2 finished with value: 0.5397452374478886 and parameters: {'n_estimators': 350, 'max_depth': 37, 'learning_rate': 0.0038617316164190362, 'subsample': 0.9055674135286981, 'colsample_bytree': 0.9832901502384392, 'gamma': 0.5347583067722462, 'min_child_weight': 31, 'scale_pos_weight': np.float64(1.2905829596412555), 'reg_alpha': 1, 'tree_method': 'hist', 'grow_policy': 'depthwise'}. Best is trial 2 with value: 0.5397452374478886.\n",
      "[I 2025-03-26 11:55:58,272] Trial 3 finished with value: 0.5292534518337553 and parameters: {'n_estimators': 150, 'max_depth': 25, 'learning_rate': 0.03711526725393053, 'subsample': 0.8753371551771087, 'colsample_bytree': 0.8630354030776175, 'gamma': 0.989412851456893, 'min_child_weight': 27, 'scale_pos_weight': np.float64(1.2905829596412555), 'reg_alpha': 0.5, 'tree_method': 'auto', 'grow_policy': 'lossguide'}. Best is trial 2 with value: 0.5397452374478886.\n",
      "[I 2025-03-26 11:55:58,556] Trial 4 finished with value: 0.4104341410476329 and parameters: {'n_estimators': 300, 'max_depth': 15, 'learning_rate': 0.004350172659676933, 'subsample': 0.9211454476286707, 'colsample_bytree': 0.7217508982537046, 'gamma': 0.3255831749732978, 'min_child_weight': 43, 'scale_pos_weight': 1, 'reg_alpha': 0, 'tree_method': 'auto', 'grow_policy': 'depthwise'}. Best is trial 2 with value: 0.5397452374478886.\n",
      "[I 2025-03-26 11:55:59,442] Trial 5 finished with value: 0.39483623548094665 and parameters: {'n_estimators': 450, 'max_depth': 3, 'learning_rate': 0.0024399774701147976, 'subsample': 0.8406809394530931, 'colsample_bytree': 0.8234123912219645, 'gamma': 0.6593771196181595, 'min_child_weight': 39, 'scale_pos_weight': 1, 'reg_alpha': 0.1, 'tree_method': 'exact', 'grow_policy': 'lossguide'}. Best is trial 2 with value: 0.5397452374478886.\n",
      "[I 2025-03-26 11:56:00,532] Trial 6 finished with value: 0.5287686575734983 and parameters: {'n_estimators': 200, 'max_depth': 25, 'learning_rate': 0.05972289192705305, 'subsample': 0.9808357236063661, 'colsample_bytree': 0.5952246176703249, 'gamma': 0.9949948547675261, 'min_child_weight': 45, 'scale_pos_weight': np.float64(1.2905829596412555), 'reg_alpha': 1, 'tree_method': 'approx', 'grow_policy': 'lossguide'}. Best is trial 2 with value: 0.5397452374478886.\n",
      "[I 2025-03-26 11:56:01,359] Trial 7 finished with value: 0.5345473760443932 and parameters: {'n_estimators': 450, 'max_depth': 7, 'learning_rate': 0.0012555133356014277, 'subsample': 0.8942573401907861, 'colsample_bytree': 0.7989954514001405, 'gamma': 0.454381265954066, 'min_child_weight': 15, 'scale_pos_weight': np.float64(1.2905829596412555), 'reg_alpha': 1, 'tree_method': 'auto', 'grow_policy': 'lossguide'}. Best is trial 2 with value: 0.5397452374478886.\n",
      "[I 2025-03-26 11:56:02,171] Trial 8 finished with value: 0.4059019872427944 and parameters: {'n_estimators': 100, 'max_depth': 41, 'learning_rate': 0.008952213768742234, 'subsample': 0.6818826802348223, 'colsample_bytree': 0.5667085364713369, 'gamma': 0.4374966161352074, 'min_child_weight': 15, 'scale_pos_weight': 1, 'reg_alpha': 0.1, 'tree_method': 'approx', 'grow_policy': 'depthwise'}. Best is trial 2 with value: 0.5397452374478886.\n",
      "[I 2025-03-26 11:56:02,921] Trial 9 finished with value: 0.43699225614571074 and parameters: {'n_estimators': 100, 'max_depth': 15, 'learning_rate': 0.011295528238245511, 'subsample': 0.9926640076387268, 'colsample_bytree': 0.9532571936771845, 'gamma': 0.9946184874586862, 'min_child_weight': 29, 'scale_pos_weight': 1, 'reg_alpha': 0.5, 'tree_method': 'approx', 'grow_policy': 'lossguide'}. Best is trial 2 with value: 0.5397452374478886.\n",
      "[I 2025-03-26 11:56:03,288] A new study created in memory with name: no-name-369e0fb2-bbc2-4acc-9d37-e3065fbf4e90\n"
     ]
    },
    {
     "name": "stdout",
     "output_type": "stream",
     "text": [
      "Mejores parámetros: {'n_estimators': 350, 'max_depth': 37, 'learning_rate': 0.0038617316164190362, 'subsample': 0.9055674135286981, 'colsample_bytree': 0.9832901502384392, 'gamma': 0.5347583067722462, 'min_child_weight': 31, 'scale_pos_weight': np.float64(1.2905829596412555), 'reg_alpha': 1, 'tree_method': 'hist', 'grow_policy': 'depthwise'}\n",
      "aCC ACT: 0.5915492957746479\n",
      "MEJOR ACCURACY 0.596244131455399 - 31\n"
     ]
    },
    {
     "name": "stderr",
     "output_type": "stream",
     "text": [
      "[I 2025-03-26 11:56:05,209] Trial 0 finished with value: 0.4836847547778783 and parameters: {'n_estimators': 450, 'max_depth': 11, 'learning_rate': 0.104413152793884, 'subsample': 0.7998205229386557, 'colsample_bytree': 0.9824632166113392, 'gamma': 0.0035455468097308485, 'min_child_weight': 65, 'scale_pos_weight': 1, 'reg_alpha': 1, 'tree_method': 'approx', 'grow_policy': 'depthwise'}. Best is trial 0 with value: 0.4836847547778783.\n",
      "[I 2025-03-26 11:56:05,539] Trial 1 finished with value: 0.48305611697845735 and parameters: {'n_estimators': 400, 'max_depth': 37, 'learning_rate': 0.0012352343761766194, 'subsample': 0.7864034589010938, 'colsample_bytree': 0.6836974558921484, 'gamma': 0.599222981650628, 'min_child_weight': 51, 'scale_pos_weight': np.float64(1.2905829596412555), 'reg_alpha': 0.5, 'tree_method': 'auto', 'grow_policy': 'lossguide'}. Best is trial 0 with value: 0.4836847547778783.\n",
      "[I 2025-03-26 11:56:06,224] Trial 2 finished with value: 0.5098275432772749 and parameters: {'n_estimators': 250, 'max_depth': 29, 'learning_rate': 0.05903138798472818, 'subsample': 0.9688797079475444, 'colsample_bytree': 0.8748451535152004, 'gamma': 0.29234726902370656, 'min_child_weight': 13, 'scale_pos_weight': np.float64(1.2905829596412555), 'reg_alpha': 0.5, 'tree_method': 'auto', 'grow_policy': 'lossguide'}. Best is trial 2 with value: 0.5098275432772749.\n",
      "[I 2025-03-26 11:56:06,447] Trial 3 finished with value: 0.3581489377629863 and parameters: {'n_estimators': 100, 'max_depth': 3, 'learning_rate': 0.002699448149394053, 'subsample': 0.6553870271017631, 'colsample_bytree': 0.6703062188699833, 'gamma': 0.9683482881180775, 'min_child_weight': 9, 'scale_pos_weight': 1, 'reg_alpha': 0, 'tree_method': 'exact', 'grow_policy': 'depthwise'}. Best is trial 2 with value: 0.5098275432772749.\n",
      "[I 2025-03-26 11:56:07,466] Trial 4 finished with value: 0.35794990343073474 and parameters: {'n_estimators': 300, 'max_depth': 23, 'learning_rate': 0.00189167183320464, 'subsample': 0.9914489484825468, 'colsample_bytree': 0.8230073133312978, 'gamma': 0.20370633330540922, 'min_child_weight': 47, 'scale_pos_weight': 1, 'reg_alpha': 1, 'tree_method': 'exact', 'grow_policy': 'depthwise'}. Best is trial 2 with value: 0.5098275432772749.\n",
      "[I 2025-03-26 11:56:12,884] Trial 5 finished with value: 0.5026783220733695 and parameters: {'n_estimators': 150, 'max_depth': 45, 'learning_rate': 0.019519053736109272, 'subsample': 0.9466705160689433, 'colsample_bytree': 0.9521689656885584, 'gamma': 0.06753918183055563, 'min_child_weight': 9, 'scale_pos_weight': 1, 'reg_alpha': 0.5, 'tree_method': 'approx', 'grow_policy': 'lossguide'}. Best is trial 2 with value: 0.5098275432772749.\n",
      "[I 2025-03-26 11:56:13,025] Trial 6 finished with value: 0.5031794149644562 and parameters: {'n_estimators': 150, 'max_depth': 19, 'learning_rate': 0.07039150882490829, 'subsample': 0.9141921593289901, 'colsample_bytree': 0.7063554802738574, 'gamma': 0.5287305475983247, 'min_child_weight': 67, 'scale_pos_weight': np.float64(1.2905829596412555), 'reg_alpha': 0.1, 'tree_method': 'hist', 'grow_policy': 'depthwise'}. Best is trial 2 with value: 0.5098275432772749.\n",
      "[I 2025-03-26 11:56:13,744] Trial 7 finished with value: 0.5173534200855009 and parameters: {'n_estimators': 450, 'max_depth': 43, 'learning_rate': 0.045079495703805414, 'subsample': 0.9934689674512056, 'colsample_bytree': 0.7634992921332441, 'gamma': 0.5202117749222789, 'min_child_weight': 11, 'scale_pos_weight': np.float64(1.2905829596412555), 'reg_alpha': 0.5, 'tree_method': 'auto', 'grow_policy': 'lossguide'}. Best is trial 7 with value: 0.5173534200855009.\n",
      "[I 2025-03-26 11:56:14,213] Trial 8 finished with value: 0.5179377908193266 and parameters: {'n_estimators': 500, 'max_depth': 7, 'learning_rate': 0.055328040008286256, 'subsample': 0.9108992121550438, 'colsample_bytree': 0.6609345149038606, 'gamma': 0.2106030451699218, 'min_child_weight': 41, 'scale_pos_weight': np.float64(1.2905829596412555), 'reg_alpha': 0.5, 'tree_method': 'hist', 'grow_policy': 'lossguide'}. Best is trial 8 with value: 0.5179377908193266.\n",
      "[I 2025-03-26 11:56:19,005] Trial 9 finished with value: 0.5274237825035091 and parameters: {'n_estimators': 500, 'max_depth': 39, 'learning_rate': 0.011025289802513593, 'subsample': 0.9042675905739125, 'colsample_bytree': 0.8313183764413463, 'gamma': 0.8516031502433001, 'min_child_weight': 7, 'scale_pos_weight': np.float64(1.2905829596412555), 'reg_alpha': 0.5, 'tree_method': 'exact', 'grow_policy': 'lossguide'}. Best is trial 9 with value: 0.5274237825035091.\n",
      "[I 2025-03-26 11:56:20,296] A new study created in memory with name: no-name-c731d897-e719-4ec1-990f-eec16b3d4308\n",
      "[I 2025-03-26 11:56:20,488] Trial 0 finished with value: 0.5271687447435536 and parameters: {'n_estimators': 100, 'max_depth': 25, 'learning_rate': 0.0884844972630735, 'subsample': 0.7645607999239098, 'colsample_bytree': 0.8157076868653823, 'gamma': 0.290943237266134, 'min_child_weight': 37, 'scale_pos_weight': np.float64(1.2905829596412555), 'reg_alpha': 1, 'tree_method': 'auto', 'grow_policy': 'depthwise'}. Best is trial 0 with value: 0.5271687447435536.\n"
     ]
    },
    {
     "name": "stdout",
     "output_type": "stream",
     "text": [
      "Mejores parámetros: {'n_estimators': 500, 'max_depth': 39, 'learning_rate': 0.011025289802513593, 'subsample': 0.9042675905739125, 'colsample_bytree': 0.8313183764413463, 'gamma': 0.8516031502433001, 'min_child_weight': 7, 'scale_pos_weight': np.float64(1.2905829596412555), 'reg_alpha': 0.5, 'tree_method': 'exact', 'grow_policy': 'lossguide'}\n",
      "aCC ACT: 0.5821596244131455\n",
      "MEJOR ACCURACY 0.596244131455399 - 31\n"
     ]
    },
    {
     "name": "stderr",
     "output_type": "stream",
     "text": [
      "[I 2025-03-26 11:56:20,651] Trial 1 finished with value: 0.520022077132517 and parameters: {'n_estimators': 100, 'max_depth': 45, 'learning_rate': 0.11115258023982875, 'subsample': 0.9851127597716297, 'colsample_bytree': 0.8055873188391627, 'gamma': 0.985813877230587, 'min_child_weight': 29, 'scale_pos_weight': np.float64(1.2905829596412555), 'reg_alpha': 1, 'tree_method': 'auto', 'grow_policy': 'lossguide'}. Best is trial 0 with value: 0.5271687447435536.\n",
      "[I 2025-03-26 11:56:21,467] Trial 2 finished with value: 0.4938362636416004 and parameters: {'n_estimators': 350, 'max_depth': 15, 'learning_rate': 0.04908678996562588, 'subsample': 0.6755928519394128, 'colsample_bytree': 0.6411871269139449, 'gamma': 0.29146713895027776, 'min_child_weight': 37, 'scale_pos_weight': 1, 'reg_alpha': 0.5, 'tree_method': 'exact', 'grow_policy': 'depthwise'}. Best is trial 0 with value: 0.5271687447435536.\n",
      "[I 2025-03-26 11:56:22,427] Trial 3 finished with value: 0.511462673567121 and parameters: {'n_estimators': 100, 'max_depth': 41, 'learning_rate': 0.033730338683188546, 'subsample': 0.7195661257541982, 'colsample_bytree': 0.7635835211949924, 'gamma': 0.19554847505866957, 'min_child_weight': 13, 'scale_pos_weight': 1, 'reg_alpha': 0, 'tree_method': 'approx', 'grow_policy': 'depthwise'}. Best is trial 0 with value: 0.5271687447435536.\n",
      "[I 2025-03-26 11:56:23,174] Trial 4 finished with value: 0.531581916739772 and parameters: {'n_estimators': 250, 'max_depth': 19, 'learning_rate': 0.03263991877093506, 'subsample': 0.9168491712451163, 'colsample_bytree': 0.6961008986556817, 'gamma': 0.9708306160903415, 'min_child_weight': 49, 'scale_pos_weight': np.float64(1.2905829596412555), 'reg_alpha': 0.1, 'tree_method': 'exact', 'grow_policy': 'lossguide'}. Best is trial 4 with value: 0.531581916739772.\n",
      "[I 2025-03-26 11:56:25,050] Trial 5 finished with value: 0.4781454307307985 and parameters: {'n_estimators': 450, 'max_depth': 41, 'learning_rate': 0.012737287124876658, 'subsample': 0.6732027432523708, 'colsample_bytree': 0.8360352790559274, 'gamma': 0.7246604421484288, 'min_child_weight': 47, 'scale_pos_weight': 1, 'reg_alpha': 0, 'tree_method': 'approx', 'grow_policy': 'lossguide'}. Best is trial 4 with value: 0.531581916739772.\n",
      "[I 2025-03-26 11:56:28,530] Trial 6 finished with value: 0.4732353161651669 and parameters: {'n_estimators': 500, 'max_depth': 7, 'learning_rate': 0.0030407274754756432, 'subsample': 0.946713485036903, 'colsample_bytree': 0.957536771397454, 'gamma': 0.059256660826141117, 'min_child_weight': 15, 'scale_pos_weight': 1, 'reg_alpha': 0.5, 'tree_method': 'approx', 'grow_policy': 'depthwise'}. Best is trial 4 with value: 0.531581916739772.\n",
      "[I 2025-03-26 11:56:29,853] Trial 7 finished with value: 0.523709567393125 and parameters: {'n_estimators': 450, 'max_depth': 27, 'learning_rate': 0.0010408534967582266, 'subsample': 0.9120726805289591, 'colsample_bytree': 0.7622788720159157, 'gamma': 0.3356287757818025, 'min_child_weight': 11, 'scale_pos_weight': np.float64(1.2905829596412555), 'reg_alpha': 0.1, 'tree_method': 'hist', 'grow_policy': 'depthwise'}. Best is trial 4 with value: 0.531581916739772.\n",
      "[I 2025-03-26 11:56:31,196] Trial 8 finished with value: 0.5065759960034232 and parameters: {'n_estimators': 300, 'max_depth': 9, 'learning_rate': 0.02327307456785922, 'subsample': 0.9555197942774477, 'colsample_bytree': 0.6882671569611207, 'gamma': 0.5597727062167529, 'min_child_weight': 21, 'scale_pos_weight': 1, 'reg_alpha': 1, 'tree_method': 'exact', 'grow_policy': 'depthwise'}. Best is trial 4 with value: 0.531581916739772.\n",
      "[I 2025-03-26 11:56:31,659] Trial 9 finished with value: 0.4893613859451188 and parameters: {'n_estimators': 100, 'max_depth': 7, 'learning_rate': 0.16881739234155463, 'subsample': 0.8666356467332121, 'colsample_bytree': 0.6784680907113547, 'gamma': 0.36853829237061997, 'min_child_weight': 49, 'scale_pos_weight': 1, 'reg_alpha': 1, 'tree_method': 'approx', 'grow_policy': 'depthwise'}. Best is trial 4 with value: 0.531581916739772.\n",
      "[I 2025-03-26 11:56:31,935] A new study created in memory with name: no-name-7d6f908c-2d56-4453-9727-2ddb0901c27d\n"
     ]
    },
    {
     "name": "stdout",
     "output_type": "stream",
     "text": [
      "Mejores parámetros: {'n_estimators': 250, 'max_depth': 19, 'learning_rate': 0.03263991877093506, 'subsample': 0.9168491712451163, 'colsample_bytree': 0.6961008986556817, 'gamma': 0.9708306160903415, 'min_child_weight': 49, 'scale_pos_weight': np.float64(1.2905829596412555), 'reg_alpha': 0.1, 'tree_method': 'exact', 'grow_policy': 'lossguide'}\n",
      "aCC ACT: 0.5774647887323944\n",
      "MEJOR ACCURACY 0.596244131455399 - 31\n"
     ]
    },
    {
     "name": "stderr",
     "output_type": "stream",
     "text": [
      "[I 2025-03-26 11:56:33,206] Trial 0 finished with value: 0.49782866885063326 and parameters: {'n_estimators': 300, 'max_depth': 21, 'learning_rate': 0.0012904498970267382, 'subsample': 0.8102690244371411, 'colsample_bytree': 0.5765192909059451, 'gamma': 0.500010160994154, 'min_child_weight': 17, 'scale_pos_weight': np.float64(1.2905829596412555), 'reg_alpha': 1, 'tree_method': 'exact', 'grow_policy': 'lossguide'}. Best is trial 0 with value: 0.49782866885063326.\n",
      "[I 2025-03-26 11:56:33,546] Trial 1 finished with value: 0.4896654597055926 and parameters: {'n_estimators': 350, 'max_depth': 47, 'learning_rate': 0.11272710510659467, 'subsample': 0.8727518438958237, 'colsample_bytree': 0.9451754578244529, 'gamma': 0.193461556210612, 'min_child_weight': 57, 'scale_pos_weight': np.float64(1.2905829596412555), 'reg_alpha': 0.5, 'tree_method': 'hist', 'grow_policy': 'depthwise'}. Best is trial 0 with value: 0.49782866885063326.\n",
      "[I 2025-03-26 11:56:34,146] Trial 2 finished with value: 0.5246911087243997 and parameters: {'n_estimators': 400, 'max_depth': 19, 'learning_rate': 0.011372600451639495, 'subsample': 0.8409635600379659, 'colsample_bytree': 0.5551170870880403, 'gamma': 0.40166246040897957, 'min_child_weight': 19, 'scale_pos_weight': np.float64(1.2905829596412555), 'reg_alpha': 0.1, 'tree_method': 'auto', 'grow_policy': 'lossguide'}. Best is trial 2 with value: 0.5246911087243997.\n",
      "[I 2025-03-26 11:56:34,256] Trial 3 finished with value: 0.5237932159494073 and parameters: {'n_estimators': 100, 'max_depth': 45, 'learning_rate': 0.08895337948665749, 'subsample': 0.9812003250726146, 'colsample_bytree': 0.5012899152631658, 'gamma': 0.9178162490037425, 'min_child_weight': 57, 'scale_pos_weight': np.float64(1.2905829596412555), 'reg_alpha': 0.5, 'tree_method': 'hist', 'grow_policy': 'depthwise'}. Best is trial 2 with value: 0.5246911087243997.\n",
      "[I 2025-03-26 11:56:34,868] Trial 4 finished with value: 0.5230989512119134 and parameters: {'n_estimators': 250, 'max_depth': 11, 'learning_rate': 0.10418011905632422, 'subsample': 0.9199545335735783, 'colsample_bytree': 0.5804028480842037, 'gamma': 0.7401498364733528, 'min_child_weight': 51, 'scale_pos_weight': np.float64(1.2905829596412555), 'reg_alpha': 1, 'tree_method': 'exact', 'grow_policy': 'lossguide'}. Best is trial 2 with value: 0.5246911087243997.\n",
      "[I 2025-03-26 11:56:36,065] Trial 5 finished with value: 0.3581489377629863 and parameters: {'n_estimators': 300, 'max_depth': 47, 'learning_rate': 0.0013928331446784253, 'subsample': 0.6501684897367012, 'colsample_bytree': 0.7134400994123113, 'gamma': 0.1281718623191922, 'min_child_weight': 17, 'scale_pos_weight': 1, 'reg_alpha': 0.1, 'tree_method': 'exact', 'grow_policy': 'lossguide'}. Best is trial 2 with value: 0.5246911087243997.\n",
      "[I 2025-03-26 11:56:36,248] Trial 6 finished with value: 0.534690103840736 and parameters: {'n_estimators': 150, 'max_depth': 41, 'learning_rate': 0.01965446026761152, 'subsample': 0.8851092015666131, 'colsample_bytree': 0.8370511725400753, 'gamma': 0.08650182292070141, 'min_child_weight': 45, 'scale_pos_weight': np.float64(1.2905829596412555), 'reg_alpha': 0, 'tree_method': 'auto', 'grow_policy': 'depthwise'}. Best is trial 6 with value: 0.534690103840736.\n",
      "[I 2025-03-26 11:56:36,657] Trial 7 finished with value: 0.46129562715597905 and parameters: {'n_estimators': 350, 'max_depth': 47, 'learning_rate': 0.004877629853438763, 'subsample': 0.6375289380126349, 'colsample_bytree': 0.8301415267471557, 'gamma': 0.2609389101321983, 'min_child_weight': 23, 'scale_pos_weight': 1, 'reg_alpha': 0.1, 'tree_method': 'auto', 'grow_policy': 'lossguide'}. Best is trial 6 with value: 0.534690103840736.\n",
      "[I 2025-03-26 11:56:40,448] Trial 8 finished with value: 0.4558624368435483 and parameters: {'n_estimators': 150, 'max_depth': 17, 'learning_rate': 0.0014969861690993186, 'subsample': 0.7922324257975545, 'colsample_bytree': 0.5425657539086025, 'gamma': 0.5913306750450366, 'min_child_weight': 11, 'scale_pos_weight': np.float64(1.2905829596412555), 'reg_alpha': 0, 'tree_method': 'approx', 'grow_policy': 'lossguide'}. Best is trial 6 with value: 0.534690103840736.\n",
      "[I 2025-03-26 11:56:40,923] Trial 9 finished with value: 0.4721548253581441 and parameters: {'n_estimators': 100, 'max_depth': 35, 'learning_rate': 0.026380124329319153, 'subsample': 0.7592396391205389, 'colsample_bytree': 0.9369405092384755, 'gamma': 0.7159106175924805, 'min_child_weight': 43, 'scale_pos_weight': 1, 'reg_alpha': 0, 'tree_method': 'approx', 'grow_policy': 'depthwise'}. Best is trial 6 with value: 0.534690103840736.\n",
      "[I 2025-03-26 11:56:41,066] A new study created in memory with name: no-name-478d6f25-f83a-4956-bb2d-3f82df4f7d45\n"
     ]
    },
    {
     "name": "stdout",
     "output_type": "stream",
     "text": [
      "Mejores parámetros: {'n_estimators': 150, 'max_depth': 41, 'learning_rate': 0.01965446026761152, 'subsample': 0.8851092015666131, 'colsample_bytree': 0.8370511725400753, 'gamma': 0.08650182292070141, 'min_child_weight': 45, 'scale_pos_weight': np.float64(1.2905829596412555), 'reg_alpha': 0, 'tree_method': 'auto', 'grow_policy': 'depthwise'}\n",
      "aCC ACT: 0.5852895148669797\n",
      "MEJOR ACCURACY 0.596244131455399 - 31\n"
     ]
    },
    {
     "name": "stderr",
     "output_type": "stream",
     "text": [
      "[I 2025-03-26 11:56:42,986] Trial 0 finished with value: 0.5353868418186412 and parameters: {'n_estimators': 250, 'max_depth': 29, 'learning_rate': 0.02346800849855278, 'subsample': 0.7799435595421811, 'colsample_bytree': 0.7285099126973593, 'gamma': 0.3116509978753955, 'min_child_weight': 21, 'scale_pos_weight': np.float64(1.2905829596412555), 'reg_alpha': 0.1, 'tree_method': 'approx', 'grow_policy': 'depthwise'}. Best is trial 0 with value: 0.5353868418186412.\n",
      "[I 2025-03-26 11:56:43,230] Trial 1 finished with value: 0.3581489377629863 and parameters: {'n_estimators': 250, 'max_depth': 31, 'learning_rate': 0.001010377231641799, 'subsample': 0.6142679875049457, 'colsample_bytree': 0.6883947762597157, 'gamma': 0.21644443407337655, 'min_child_weight': 29, 'scale_pos_weight': 1, 'reg_alpha': 0, 'tree_method': 'auto', 'grow_policy': 'depthwise'}. Best is trial 0 with value: 0.5353868418186412.\n",
      "[I 2025-03-26 11:56:44,065] Trial 2 finished with value: 0.5252110066301128 and parameters: {'n_estimators': 250, 'max_depth': 21, 'learning_rate': 0.020385310952282288, 'subsample': 0.8300711476922505, 'colsample_bytree': 0.8116414020875706, 'gamma': 0.24976651629104318, 'min_child_weight': 9, 'scale_pos_weight': np.float64(1.2905829596412555), 'reg_alpha': 0, 'tree_method': 'auto', 'grow_policy': 'lossguide'}. Best is trial 0 with value: 0.5353868418186412.\n",
      "[I 2025-03-26 11:56:44,257] Trial 3 finished with value: 0.5128902440610783 and parameters: {'n_estimators': 200, 'max_depth': 49, 'learning_rate': 0.003762953434834853, 'subsample': 0.696552990975406, 'colsample_bytree': 0.5484840353265124, 'gamma': 0.6121772791607862, 'min_child_weight': 37, 'scale_pos_weight': np.float64(1.2905829596412555), 'reg_alpha': 1, 'tree_method': 'hist', 'grow_policy': 'lossguide'}. Best is trial 0 with value: 0.5353868418186412.\n",
      "[I 2025-03-26 11:56:45,066] Trial 4 finished with value: 0.46037839299514366 and parameters: {'n_estimators': 200, 'max_depth': 5, 'learning_rate': 0.16250621865835815, 'subsample': 0.6064656589376882, 'colsample_bytree': 0.8017508870932417, 'gamma': 0.6733061733547587, 'min_child_weight': 65, 'scale_pos_weight': 1, 'reg_alpha': 1, 'tree_method': 'approx', 'grow_policy': 'depthwise'}. Best is trial 0 with value: 0.5353868418186412.\n",
      "[I 2025-03-26 11:56:46,476] Trial 5 finished with value: 0.5049221464775642 and parameters: {'n_estimators': 300, 'max_depth': 43, 'learning_rate': 0.012663195066622359, 'subsample': 0.9229051840838488, 'colsample_bytree': 0.5116818852579623, 'gamma': 0.6023989538220866, 'min_child_weight': 5, 'scale_pos_weight': 1, 'reg_alpha': 0, 'tree_method': 'auto', 'grow_policy': 'lossguide'}. Best is trial 0 with value: 0.5353868418186412.\n",
      "[I 2025-03-26 11:56:48,551] Trial 6 finished with value: 0.5312227763173911 and parameters: {'n_estimators': 300, 'max_depth': 9, 'learning_rate': 0.01244203599317524, 'subsample': 0.7950656744481388, 'colsample_bytree': 0.5756688025414652, 'gamma': 0.22485718445003233, 'min_child_weight': 21, 'scale_pos_weight': np.float64(1.2905829596412555), 'reg_alpha': 0.1, 'tree_method': 'approx', 'grow_policy': 'depthwise'}. Best is trial 0 with value: 0.5353868418186412.\n",
      "[I 2025-03-26 11:56:49,633] Trial 7 finished with value: 0.524181569148747 and parameters: {'n_estimators': 250, 'max_depth': 9, 'learning_rate': 0.0460132521663496, 'subsample': 0.6692372520047403, 'colsample_bytree': 0.9211240823638417, 'gamma': 0.7367702902739851, 'min_child_weight': 23, 'scale_pos_weight': np.float64(1.2905829596412555), 'reg_alpha': 0, 'tree_method': 'exact', 'grow_policy': 'lossguide'}. Best is trial 0 with value: 0.5353868418186412.\n",
      "[I 2025-03-26 11:56:50,175] Trial 8 finished with value: 0.43547605729458744 and parameters: {'n_estimators': 250, 'max_depth': 11, 'learning_rate': 0.0010493460649272333, 'subsample': 0.7608035476595361, 'colsample_bytree': 0.5631297256496586, 'gamma': 0.3635457183657944, 'min_child_weight': 51, 'scale_pos_weight': np.float64(1.2905829596412555), 'reg_alpha': 0.5, 'tree_method': 'exact', 'grow_policy': 'depthwise'}. Best is trial 0 with value: 0.5353868418186412.\n",
      "[I 2025-03-26 11:56:56,112] Trial 9 finished with value: 0.5194243787582341 and parameters: {'n_estimators': 350, 'max_depth': 13, 'learning_rate': 0.0036887468865980967, 'subsample': 0.9729452161809945, 'colsample_bytree': 0.6937126913052782, 'gamma': 0.0862201318148802, 'min_child_weight': 1, 'scale_pos_weight': np.float64(1.2905829596412555), 'reg_alpha': 0.1, 'tree_method': 'hist', 'grow_policy': 'depthwise'}. Best is trial 0 with value: 0.5353868418186412.\n",
      "[I 2025-03-26 11:56:57,563] A new study created in memory with name: no-name-426dd366-c8b3-44fc-ab3a-d93366ef608d\n",
      "[I 2025-03-26 11:56:57,745] Trial 0 finished with value: 0.3581489377629863 and parameters: {'n_estimators': 150, 'max_depth': 3, 'learning_rate': 0.004578085251272833, 'subsample': 0.6690578622220825, 'colsample_bytree': 0.6516881904392051, 'gamma': 0.16295022250708835, 'min_child_weight': 49, 'scale_pos_weight': 1, 'reg_alpha': 0.5, 'tree_method': 'hist', 'grow_policy': 'depthwise'}. Best is trial 0 with value: 0.3581489377629863.\n"
     ]
    },
    {
     "name": "stdout",
     "output_type": "stream",
     "text": [
      "Mejores parámetros: {'n_estimators': 250, 'max_depth': 29, 'learning_rate': 0.02346800849855278, 'subsample': 0.7799435595421811, 'colsample_bytree': 0.7285099126973593, 'gamma': 0.3116509978753955, 'min_child_weight': 21, 'scale_pos_weight': np.float64(1.2905829596412555), 'reg_alpha': 0.1, 'tree_method': 'approx', 'grow_policy': 'depthwise'}\n",
      "aCC ACT: 0.5774647887323944\n",
      "MEJOR ACCURACY 0.596244131455399 - 31\n"
     ]
    },
    {
     "name": "stderr",
     "output_type": "stream",
     "text": [
      "[I 2025-03-26 11:56:59,471] Trial 1 finished with value: 0.4200268884135914 and parameters: {'n_estimators': 500, 'max_depth': 13, 'learning_rate': 0.0017005201340932767, 'subsample': 0.9172225168731961, 'colsample_bytree': 0.5537132133418017, 'gamma': 0.4557409056422127, 'min_child_weight': 7, 'scale_pos_weight': 1, 'reg_alpha': 0.1, 'tree_method': 'auto', 'grow_policy': 'lossguide'}. Best is trial 1 with value: 0.4200268884135914.\n",
      "[I 2025-03-26 11:57:00,806] Trial 2 finished with value: 0.5078533718425078 and parameters: {'n_estimators': 450, 'max_depth': 21, 'learning_rate': 0.1389829301052672, 'subsample': 0.7215850065185982, 'colsample_bytree': 0.7053952771419308, 'gamma': 0.21171865076215357, 'min_child_weight': 29, 'scale_pos_weight': np.float64(1.2905829596412555), 'reg_alpha': 0.1, 'tree_method': 'exact', 'grow_policy': 'lossguide'}. Best is trial 2 with value: 0.5078533718425078.\n",
      "[I 2025-03-26 11:57:01,309] Trial 3 finished with value: 0.3581489377629863 and parameters: {'n_estimators': 100, 'max_depth': 41, 'learning_rate': 0.0017713603754607623, 'subsample': 0.9810672569337022, 'colsample_bytree': 0.7987803957384263, 'gamma': 0.5309502648501147, 'min_child_weight': 25, 'scale_pos_weight': 1, 'reg_alpha': 0, 'tree_method': 'exact', 'grow_policy': 'depthwise'}. Best is trial 2 with value: 0.5078533718425078.\n",
      "[I 2025-03-26 11:57:01,722] Trial 4 finished with value: 0.49983944160912863 and parameters: {'n_estimators': 500, 'max_depth': 25, 'learning_rate': 0.13897554243270244, 'subsample': 0.8133841151410544, 'colsample_bytree': 0.8008250062193101, 'gamma': 0.01685499543285429, 'min_child_weight': 41, 'scale_pos_weight': 1, 'reg_alpha': 0, 'tree_method': 'auto', 'grow_policy': 'lossguide'}. Best is trial 2 with value: 0.5078533718425078.\n",
      "[I 2025-03-26 11:57:02,103] Trial 5 finished with value: 0.5330990621180968 and parameters: {'n_estimators': 300, 'max_depth': 41, 'learning_rate': 0.00843398331123175, 'subsample': 0.6699893962455274, 'colsample_bytree': 0.8275076552320598, 'gamma': 0.26183527327257894, 'min_child_weight': 27, 'scale_pos_weight': np.float64(1.2905829596412555), 'reg_alpha': 0.5, 'tree_method': 'hist', 'grow_policy': 'lossguide'}. Best is trial 5 with value: 0.5330990621180968.\n",
      "[I 2025-03-26 11:57:02,951] Trial 6 finished with value: 0.48762927289268687 and parameters: {'n_estimators': 200, 'max_depth': 45, 'learning_rate': 0.08308147436920604, 'subsample': 0.7085544982732063, 'colsample_bytree': 0.6719725366068362, 'gamma': 0.5800587538038328, 'min_child_weight': 63, 'scale_pos_weight': 1, 'reg_alpha': 0.5, 'tree_method': 'approx', 'grow_policy': 'lossguide'}. Best is trial 5 with value: 0.5330990621180968.\n",
      "[I 2025-03-26 11:57:03,162] Trial 7 finished with value: 0.4607050025656293 and parameters: {'n_estimators': 200, 'max_depth': 37, 'learning_rate': 0.010753257386823447, 'subsample': 0.8887911138459033, 'colsample_bytree': 0.6072019321910673, 'gamma': 0.1778183279128559, 'min_child_weight': 37, 'scale_pos_weight': 1, 'reg_alpha': 0.1, 'tree_method': 'hist', 'grow_policy': 'lossguide'}. Best is trial 5 with value: 0.5330990621180968.\n",
      "[I 2025-03-26 11:57:04,029] Trial 8 finished with value: 0.5242510599170653 and parameters: {'n_estimators': 150, 'max_depth': 5, 'learning_rate': 0.0742147226159158, 'subsample': 0.876592399477276, 'colsample_bytree': 0.6388092664929761, 'gamma': 0.7734372881914077, 'min_child_weight': 15, 'scale_pos_weight': np.float64(1.2905829596412555), 'reg_alpha': 0.5, 'tree_method': 'approx', 'grow_policy': 'lossguide'}. Best is trial 5 with value: 0.5330990621180968.\n",
      "[I 2025-03-26 11:57:04,363] Trial 9 finished with value: 0.4947277093346384 and parameters: {'n_estimators': 500, 'max_depth': 15, 'learning_rate': 0.0621097833559473, 'subsample': 0.61344436962099, 'colsample_bytree': 0.5773124228567199, 'gamma': 0.2675455783510047, 'min_child_weight': 49, 'scale_pos_weight': np.float64(1.2905829596412555), 'reg_alpha': 0.1, 'tree_method': 'auto', 'grow_policy': 'lossguide'}. Best is trial 5 with value: 0.5330990621180968.\n",
      "[I 2025-03-26 11:57:04,687] A new study created in memory with name: no-name-389bf32b-38e7-4cfe-ac6f-de22495ef443\n"
     ]
    },
    {
     "name": "stdout",
     "output_type": "stream",
     "text": [
      "Mejores parámetros: {'n_estimators': 300, 'max_depth': 41, 'learning_rate': 0.00843398331123175, 'subsample': 0.6699893962455274, 'colsample_bytree': 0.8275076552320598, 'gamma': 0.26183527327257894, 'min_child_weight': 27, 'scale_pos_weight': np.float64(1.2905829596412555), 'reg_alpha': 0.5, 'tree_method': 'hist', 'grow_policy': 'lossguide'}\n",
      "aCC ACT: 0.5899843505477308\n",
      "MEJOR ACCURACY 0.596244131455399 - 31\n"
     ]
    },
    {
     "name": "stderr",
     "output_type": "stream",
     "text": [
      "[I 2025-03-26 11:57:05,392] Trial 0 finished with value: 0.38118795148673457 and parameters: {'n_estimators': 150, 'max_depth': 9, 'learning_rate': 0.006832035851378252, 'subsample': 0.8716435501782526, 'colsample_bytree': 0.5972250286669338, 'gamma': 0.25121038348699354, 'min_child_weight': 53, 'scale_pos_weight': 1, 'reg_alpha': 0.5, 'tree_method': 'approx', 'grow_policy': 'lossguide'}. Best is trial 0 with value: 0.38118795148673457.\n",
      "[I 2025-03-26 11:57:07,347] Trial 1 finished with value: 0.3581489377629863 and parameters: {'n_estimators': 350, 'max_depth': 19, 'learning_rate': 0.001151609453202907, 'subsample': 0.6661159358189439, 'colsample_bytree': 0.9396594956925226, 'gamma': 0.06782045585415553, 'min_child_weight': 25, 'scale_pos_weight': 1, 'reg_alpha': 1, 'tree_method': 'approx', 'grow_policy': 'depthwise'}. Best is trial 0 with value: 0.38118795148673457.\n",
      "[I 2025-03-26 11:57:07,510] Trial 2 finished with value: 0.3581489377629863 and parameters: {'n_estimators': 200, 'max_depth': 11, 'learning_rate': 0.0019511789347130995, 'subsample': 0.7656867335894193, 'colsample_bytree': 0.9723355509094627, 'gamma': 0.03834351621127252, 'min_child_weight': 67, 'scale_pos_weight': 1, 'reg_alpha': 0.1, 'tree_method': 'auto', 'grow_policy': 'depthwise'}. Best is trial 0 with value: 0.38118795148673457.\n",
      "[I 2025-03-26 11:57:07,733] Trial 3 finished with value: 0.4914350241666991 and parameters: {'n_estimators': 250, 'max_depth': 33, 'learning_rate': 0.0033922445938751353, 'subsample': 0.8867434042537718, 'colsample_bytree': 0.6330607022255095, 'gamma': 0.6227961633556277, 'min_child_weight': 57, 'scale_pos_weight': np.float64(1.2905829596412555), 'reg_alpha': 0.1, 'tree_method': 'auto', 'grow_policy': 'lossguide'}. Best is trial 3 with value: 0.4914350241666991.\n",
      "[I 2025-03-26 11:57:08,307] Trial 4 finished with value: 0.3581489377629863 and parameters: {'n_estimators': 250, 'max_depth': 45, 'learning_rate': 0.0014044787109922113, 'subsample': 0.8657870930271141, 'colsample_bytree': 0.6584413739006711, 'gamma': 0.7037369308086436, 'min_child_weight': 53, 'scale_pos_weight': 1, 'reg_alpha': 0.1, 'tree_method': 'exact', 'grow_policy': 'lossguide'}. Best is trial 3 with value: 0.4914350241666991.\n",
      "[I 2025-03-26 11:57:10,053] Trial 5 finished with value: 0.49783984006572773 and parameters: {'n_estimators': 350, 'max_depth': 21, 'learning_rate': 0.04056878338599411, 'subsample': 0.8344519660052696, 'colsample_bytree': 0.7741303200939049, 'gamma': 0.00051335293990451, 'min_child_weight': 39, 'scale_pos_weight': 1, 'reg_alpha': 0.5, 'tree_method': 'approx', 'grow_policy': 'lossguide'}. Best is trial 5 with value: 0.49783984006572773.\n",
      "[I 2025-03-26 11:57:11,269] Trial 6 finished with value: 0.530497246476275 and parameters: {'n_estimators': 200, 'max_depth': 25, 'learning_rate': 0.07675362646944883, 'subsample': 0.9293841712740976, 'colsample_bytree': 0.7912951784586777, 'gamma': 0.22049671055138453, 'min_child_weight': 33, 'scale_pos_weight': np.float64(1.2905829596412555), 'reg_alpha': 1, 'tree_method': 'approx', 'grow_policy': 'depthwise'}. Best is trial 6 with value: 0.530497246476275.\n",
      "[I 2025-03-26 11:57:14,014] Trial 7 finished with value: 0.46141045661247243 and parameters: {'n_estimators': 250, 'max_depth': 25, 'learning_rate': 0.004144876747777982, 'subsample': 0.9524238309774808, 'colsample_bytree': 0.7687363163730627, 'gamma': 0.29261831209869504, 'min_child_weight': 3, 'scale_pos_weight': 1, 'reg_alpha': 0.1, 'tree_method': 'exact', 'grow_policy': 'depthwise'}. Best is trial 6 with value: 0.530497246476275.\n",
      "[I 2025-03-26 11:57:15,173] Trial 8 finished with value: 0.48348492613393956 and parameters: {'n_estimators': 450, 'max_depth': 5, 'learning_rate': 0.0013100474772807095, 'subsample': 0.7661610894269989, 'colsample_bytree': 0.9762580331232031, 'gamma': 0.1062779195468273, 'min_child_weight': 69, 'scale_pos_weight': np.float64(1.2905829596412555), 'reg_alpha': 0.5, 'tree_method': 'exact', 'grow_policy': 'depthwise'}. Best is trial 6 with value: 0.530497246476275.\n",
      "[I 2025-03-26 11:57:15,305] Trial 9 finished with value: 0.42389588995537686 and parameters: {'n_estimators': 100, 'max_depth': 35, 'learning_rate': 0.0010816911875854804, 'subsample': 0.7842395327651173, 'colsample_bytree': 0.5146104870945318, 'gamma': 0.6634387584411824, 'min_child_weight': 33, 'scale_pos_weight': np.float64(1.2905829596412555), 'reg_alpha': 1, 'tree_method': 'hist', 'grow_policy': 'depthwise'}. Best is trial 6 with value: 0.530497246476275.\n",
      "[I 2025-03-26 11:57:16,112] A new study created in memory with name: no-name-ec143ba7-811f-462b-b834-c72a7278a369\n"
     ]
    },
    {
     "name": "stdout",
     "output_type": "stream",
     "text": [
      "Mejores parámetros: {'n_estimators': 200, 'max_depth': 25, 'learning_rate': 0.07675362646944883, 'subsample': 0.9293841712740976, 'colsample_bytree': 0.7912951784586777, 'gamma': 0.22049671055138453, 'min_child_weight': 33, 'scale_pos_weight': np.float64(1.2905829596412555), 'reg_alpha': 1, 'tree_method': 'approx', 'grow_policy': 'depthwise'}\n",
      "aCC ACT: 0.5790297339593115\n",
      "MEJOR ACCURACY 0.596244131455399 - 31\n"
     ]
    },
    {
     "name": "stderr",
     "output_type": "stream",
     "text": [
      "[I 2025-03-26 11:57:19,106] Trial 0 finished with value: 0.5030599681367182 and parameters: {'n_estimators': 300, 'max_depth': 43, 'learning_rate': 0.03786687059335207, 'subsample': 0.7326367284053736, 'colsample_bytree': 0.529998964780309, 'gamma': 0.38627778104270893, 'min_child_weight': 15, 'scale_pos_weight': 1, 'reg_alpha': 0.1, 'tree_method': 'approx', 'grow_policy': 'lossguide'}. Best is trial 0 with value: 0.5030599681367182.\n",
      "[I 2025-03-26 11:57:19,371] Trial 1 finished with value: 0.5162341580144421 and parameters: {'n_estimators': 250, 'max_depth': 5, 'learning_rate': 0.15758101002988706, 'subsample': 0.7590709139093982, 'colsample_bytree': 0.7648291948218832, 'gamma': 0.23281291266151638, 'min_child_weight': 21, 'scale_pos_weight': np.float64(1.2905829596412555), 'reg_alpha': 0, 'tree_method': 'hist', 'grow_policy': 'lossguide'}. Best is trial 1 with value: 0.5162341580144421.\n",
      "[I 2025-03-26 11:57:19,789] Trial 2 finished with value: 0.50444349215794 and parameters: {'n_estimators': 400, 'max_depth': 5, 'learning_rate': 0.1702344200230488, 'subsample': 0.7482174172802442, 'colsample_bytree': 0.8534721187607167, 'gamma': 0.2739307015983292, 'min_child_weight': 17, 'scale_pos_weight': 1, 'reg_alpha': 0, 'tree_method': 'auto', 'grow_policy': 'depthwise'}. Best is trial 1 with value: 0.5162341580144421.\n",
      "[I 2025-03-26 11:57:20,177] Trial 3 finished with value: 0.501578707291368 and parameters: {'n_estimators': 200, 'max_depth': 35, 'learning_rate': 0.009717653316727545, 'subsample': 0.6900242731732515, 'colsample_bytree': 0.5759177707340802, 'gamma': 0.45355187949595477, 'min_child_weight': 57, 'scale_pos_weight': np.float64(1.2905829596412555), 'reg_alpha': 1, 'tree_method': 'exact', 'grow_policy': 'lossguide'}. Best is trial 1 with value: 0.5162341580144421.\n",
      "[I 2025-03-26 11:57:20,308] Trial 4 finished with value: 0.494906341629955 and parameters: {'n_estimators': 150, 'max_depth': 13, 'learning_rate': 0.028018991483082057, 'subsample': 0.6669029961200216, 'colsample_bytree': 0.6793971927097178, 'gamma': 0.8011208706851541, 'min_child_weight': 55, 'scale_pos_weight': np.float64(1.2905829596412555), 'reg_alpha': 0.1, 'tree_method': 'hist', 'grow_policy': 'lossguide'}. Best is trial 1 with value: 0.5162341580144421.\n",
      "[I 2025-03-26 11:57:20,481] Trial 5 finished with value: 0.5038399965557925 and parameters: {'n_estimators': 200, 'max_depth': 3, 'learning_rate': 0.16619866416744544, 'subsample': 0.9791716779676445, 'colsample_bytree': 0.9383794296526323, 'gamma': 0.7015470788434289, 'min_child_weight': 13, 'scale_pos_weight': 1, 'reg_alpha': 0, 'tree_method': 'auto', 'grow_policy': 'depthwise'}. Best is trial 1 with value: 0.5162341580144421.\n",
      "[I 2025-03-26 11:57:21,419] Trial 6 finished with value: 0.5310476337531236 and parameters: {'n_estimators': 300, 'max_depth': 9, 'learning_rate': 0.01768827883302981, 'subsample': 0.6725299553905254, 'colsample_bytree': 0.7051367692109526, 'gamma': 0.6527226618284003, 'min_child_weight': 5, 'scale_pos_weight': np.float64(1.2905829596412555), 'reg_alpha': 1, 'tree_method': 'hist', 'grow_policy': 'lossguide'}. Best is trial 6 with value: 0.5310476337531236.\n",
      "[I 2025-03-26 11:57:21,929] Trial 7 finished with value: 0.5022102181589533 and parameters: {'n_estimators': 450, 'max_depth': 43, 'learning_rate': 0.10062585829860557, 'subsample': 0.7149484775190902, 'colsample_bytree': 0.6348372634564965, 'gamma': 0.6361641300921712, 'min_child_weight': 17, 'scale_pos_weight': 1, 'reg_alpha': 0.5, 'tree_method': 'hist', 'grow_policy': 'depthwise'}. Best is trial 6 with value: 0.5310476337531236.\n",
      "[I 2025-03-26 11:57:23,050] Trial 8 finished with value: 0.4903507043149233 and parameters: {'n_estimators': 500, 'max_depth': 9, 'learning_rate': 0.031543092199261484, 'subsample': 0.7176793274504103, 'colsample_bytree': 0.870269053985707, 'gamma': 0.49984190582792865, 'min_child_weight': 57, 'scale_pos_weight': 1, 'reg_alpha': 0.1, 'tree_method': 'exact', 'grow_policy': 'lossguide'}. Best is trial 6 with value: 0.5310476337531236.\n",
      "[I 2025-03-26 11:57:23,389] Trial 9 finished with value: 0.4705518786397921 and parameters: {'n_estimators': 350, 'max_depth': 37, 'learning_rate': 0.008685877124542194, 'subsample': 0.726641347343145, 'colsample_bytree': 0.8159428920030599, 'gamma': 0.21383775376658487, 'min_child_weight': 37, 'scale_pos_weight': 1, 'reg_alpha': 0.1, 'tree_method': 'auto', 'grow_policy': 'depthwise'}. Best is trial 6 with value: 0.5310476337531236.\n",
      "[I 2025-03-26 11:57:24,207] A new study created in memory with name: no-name-e739da3e-2f5a-4210-923a-4a70ac0eb518\n"
     ]
    },
    {
     "name": "stdout",
     "output_type": "stream",
     "text": [
      "Mejores parámetros: {'n_estimators': 300, 'max_depth': 9, 'learning_rate': 0.01768827883302981, 'subsample': 0.6725299553905254, 'colsample_bytree': 0.7051367692109526, 'gamma': 0.6527226618284003, 'min_child_weight': 5, 'scale_pos_weight': np.float64(1.2905829596412555), 'reg_alpha': 1, 'tree_method': 'hist', 'grow_policy': 'lossguide'}\n",
      "aCC ACT: 0.5508607198748043\n",
      "MEJOR ACCURACY 0.596244131455399 - 31\n"
     ]
    },
    {
     "name": "stderr",
     "output_type": "stream",
     "text": [
      "[I 2025-03-26 11:57:25,123] Trial 0 finished with value: 0.5053425300382776 and parameters: {'n_estimators': 200, 'max_depth': 5, 'learning_rate': 0.021840836895799708, 'subsample': 0.6450048671244485, 'colsample_bytree': 0.8053883912485752, 'gamma': 0.29638795829572706, 'min_child_weight': 57, 'scale_pos_weight': np.float64(1.2905829596412555), 'reg_alpha': 1, 'tree_method': 'approx', 'grow_policy': 'depthwise'}. Best is trial 0 with value: 0.5053425300382776.\n",
      "[I 2025-03-26 11:57:25,273] Trial 1 finished with value: 0.360609079847094 and parameters: {'n_estimators': 150, 'max_depth': 3, 'learning_rate': 0.0033757495429646888, 'subsample': 0.8119645505982055, 'colsample_bytree': 0.845957781495411, 'gamma': 0.289967163972804, 'min_child_weight': 7, 'scale_pos_weight': 1, 'reg_alpha': 0.5, 'tree_method': 'auto', 'grow_policy': 'lossguide'}. Best is trial 0 with value: 0.5053425300382776.\n",
      "[I 2025-03-26 11:57:30,620] Trial 2 finished with value: 0.48311151328023316 and parameters: {'n_estimators': 300, 'max_depth': 49, 'learning_rate': 0.006710056311022495, 'subsample': 0.7465649619897206, 'colsample_bytree': 0.5679609765703698, 'gamma': 0.33018248996540067, 'min_child_weight': 11, 'scale_pos_weight': 1, 'reg_alpha': 0.5, 'tree_method': 'approx', 'grow_policy': 'lossguide'}. Best is trial 0 with value: 0.5053425300382776.\n",
      "[I 2025-03-26 11:57:30,952] Trial 3 finished with value: 0.49670961382241663 and parameters: {'n_estimators': 400, 'max_depth': 43, 'learning_rate': 0.0038607607493734487, 'subsample': 0.8945565681221581, 'colsample_bytree': 0.9985979662773145, 'gamma': 0.024332949147116922, 'min_child_weight': 69, 'scale_pos_weight': np.float64(1.2905829596412555), 'reg_alpha': 1, 'tree_method': 'hist', 'grow_policy': 'lossguide'}. Best is trial 0 with value: 0.5053425300382776.\n",
      "[I 2025-03-26 11:57:34,795] Trial 4 finished with value: 0.5258210820839111 and parameters: {'n_estimators': 500, 'max_depth': 9, 'learning_rate': 0.01837444110631674, 'subsample': 0.8735423174299309, 'colsample_bytree': 0.8120624534028464, 'gamma': 0.4182592714320612, 'min_child_weight': 1, 'scale_pos_weight': np.float64(1.2905829596412555), 'reg_alpha': 0.1, 'tree_method': 'exact', 'grow_policy': 'depthwise'}. Best is trial 4 with value: 0.5258210820839111.\n",
      "[I 2025-03-26 11:57:37,201] Trial 5 finished with value: 0.5312025124827491 and parameters: {'n_estimators': 300, 'max_depth': 25, 'learning_rate': 0.017831878842299972, 'subsample': 0.8306184043855669, 'colsample_bytree': 0.5176596039212487, 'gamma': 0.1983977541580224, 'min_child_weight': 19, 'scale_pos_weight': np.float64(1.2905829596412555), 'reg_alpha': 0, 'tree_method': 'approx', 'grow_policy': 'depthwise'}. Best is trial 5 with value: 0.5312025124827491.\n",
      "[I 2025-03-26 11:57:37,525] Trial 6 finished with value: 0.3581489377629863 and parameters: {'n_estimators': 100, 'max_depth': 7, 'learning_rate': 0.003668886854426874, 'subsample': 0.9418316392216953, 'colsample_bytree': 0.5052974799209002, 'gamma': 0.12460725038120568, 'min_child_weight': 21, 'scale_pos_weight': 1, 'reg_alpha': 1, 'tree_method': 'exact', 'grow_policy': 'depthwise'}. Best is trial 5 with value: 0.5312025124827491.\n",
      "[I 2025-03-26 11:57:38,176] Trial 7 finished with value: 0.45974892440017745 and parameters: {'n_estimators': 200, 'max_depth': 29, 'learning_rate': 0.009727201336688928, 'subsample': 0.861009076346036, 'colsample_bytree': 0.7273847584551985, 'gamma': 0.9021977018311188, 'min_child_weight': 37, 'scale_pos_weight': 1, 'reg_alpha': 0.5, 'tree_method': 'exact', 'grow_policy': 'lossguide'}. Best is trial 5 with value: 0.5312025124827491.\n",
      "[I 2025-03-26 11:57:39,531] Trial 8 finished with value: 0.5081046800758319 and parameters: {'n_estimators': 250, 'max_depth': 33, 'learning_rate': 0.07489476808631496, 'subsample': 0.9806789790723887, 'colsample_bytree': 0.7263454773125115, 'gamma': 0.13671868079028793, 'min_child_weight': 3, 'scale_pos_weight': np.float64(1.2905829596412555), 'reg_alpha': 1, 'tree_method': 'hist', 'grow_policy': 'lossguide'}. Best is trial 5 with value: 0.5312025124827491.\n",
      "[I 2025-03-26 11:57:39,722] Trial 9 finished with value: 0.3581489377629863 and parameters: {'n_estimators': 300, 'max_depth': 3, 'learning_rate': 0.0011640967131017878, 'subsample': 0.619355134931895, 'colsample_bytree': 0.6465637276648204, 'gamma': 0.04712555901420323, 'min_child_weight': 63, 'scale_pos_weight': 1, 'reg_alpha': 0.1, 'tree_method': 'hist', 'grow_policy': 'depthwise'}. Best is trial 5 with value: 0.5312025124827491.\n",
      "[I 2025-03-26 11:57:41,835] A new study created in memory with name: no-name-99df6d0b-8cf7-47b7-9bc8-83b9de64ac5b\n"
     ]
    },
    {
     "name": "stdout",
     "output_type": "stream",
     "text": [
      "Mejores parámetros: {'n_estimators': 300, 'max_depth': 25, 'learning_rate': 0.017831878842299972, 'subsample': 0.8306184043855669, 'colsample_bytree': 0.5176596039212487, 'gamma': 0.1983977541580224, 'min_child_weight': 19, 'scale_pos_weight': np.float64(1.2905829596412555), 'reg_alpha': 0, 'tree_method': 'approx', 'grow_policy': 'depthwise'}\n",
      "aCC ACT: 0.5837245696400626\n",
      "MEJOR ACCURACY 0.596244131455399 - 31\n"
     ]
    },
    {
     "name": "stderr",
     "output_type": "stream",
     "text": [
      "[I 2025-03-26 11:57:43,581] Trial 0 finished with value: 0.5319958010482104 and parameters: {'n_estimators': 200, 'max_depth': 41, 'learning_rate': 0.006396487663041107, 'subsample': 0.9157637025723571, 'colsample_bytree': 0.7806744878852863, 'gamma': 0.25358895422013317, 'min_child_weight': 7, 'scale_pos_weight': np.float64(1.2905829596412555), 'reg_alpha': 0.5, 'tree_method': 'exact', 'grow_policy': 'lossguide'}. Best is trial 0 with value: 0.5319958010482104.\n",
      "[I 2025-03-26 11:57:43,833] Trial 1 finished with value: 0.40960738993903567 and parameters: {'n_estimators': 300, 'max_depth': 27, 'learning_rate': 0.004723588777257298, 'subsample': 0.7107900591520724, 'colsample_bytree': 0.8390765359874748, 'gamma': 0.233458700605652, 'min_child_weight': 47, 'scale_pos_weight': 1, 'reg_alpha': 0.5, 'tree_method': 'hist', 'grow_policy': 'lossguide'}. Best is trial 0 with value: 0.5319958010482104.\n",
      "[I 2025-03-26 11:57:44,662] Trial 2 finished with value: 0.4860157199161851 and parameters: {'n_estimators': 200, 'max_depth': 7, 'learning_rate': 0.01130367981025644, 'subsample': 0.9223171634819929, 'colsample_bytree': 0.5967546057948767, 'gamma': 0.46502849139064684, 'min_child_weight': 13, 'scale_pos_weight': 1, 'reg_alpha': 1, 'tree_method': 'exact', 'grow_policy': 'lossguide'}. Best is trial 0 with value: 0.5319958010482104.\n",
      "[I 2025-03-26 11:57:44,946] Trial 3 finished with value: 0.46921158667509444 and parameters: {'n_estimators': 450, 'max_depth': 23, 'learning_rate': 0.01682649392735487, 'subsample': 0.6651671018699105, 'colsample_bytree': 0.77757928285676, 'gamma': 0.1267851475022781, 'min_child_weight': 67, 'scale_pos_weight': 1, 'reg_alpha': 0.5, 'tree_method': 'auto', 'grow_policy': 'depthwise'}. Best is trial 0 with value: 0.5319958010482104.\n",
      "[I 2025-03-26 11:57:46,324] Trial 4 finished with value: 0.4536008498087284 and parameters: {'n_estimators': 250, 'max_depth': 35, 'learning_rate': 0.0011218558319077586, 'subsample': 0.8776943514089497, 'colsample_bytree': 0.6297424936826417, 'gamma': 0.5186368138299484, 'min_child_weight': 39, 'scale_pos_weight': np.float64(1.2905829596412555), 'reg_alpha': 0.1, 'tree_method': 'approx', 'grow_policy': 'depthwise'}. Best is trial 0 with value: 0.5319958010482104.\n",
      "[I 2025-03-26 11:57:48,563] Trial 5 finished with value: 0.5129705800560761 and parameters: {'n_estimators': 400, 'max_depth': 11, 'learning_rate': 0.04640278971017445, 'subsample': 0.8469955856595835, 'colsample_bytree': 0.8028918655945712, 'gamma': 0.6908601484458186, 'min_child_weight': 37, 'scale_pos_weight': np.float64(1.2905829596412555), 'reg_alpha': 0.1, 'tree_method': 'approx', 'grow_policy': 'lossguide'}. Best is trial 0 with value: 0.5319958010482104.\n",
      "[I 2025-03-26 11:57:51,572] Trial 6 finished with value: 0.5150416435553955 and parameters: {'n_estimators': 500, 'max_depth': 23, 'learning_rate': 0.018636868604355074, 'subsample': 0.8485503792413549, 'colsample_bytree': 0.9841938759426709, 'gamma': 0.6656009663901397, 'min_child_weight': 31, 'scale_pos_weight': np.float64(1.2905829596412555), 'reg_alpha': 0.5, 'tree_method': 'approx', 'grow_policy': 'depthwise'}. Best is trial 0 with value: 0.5319958010482104.\n",
      "[I 2025-03-26 11:57:54,118] Trial 7 finished with value: 0.4648641589099814 and parameters: {'n_estimators': 300, 'max_depth': 37, 'learning_rate': 0.0045995461311239515, 'subsample': 0.8294817901723415, 'colsample_bytree': 0.8236150195407645, 'gamma': 0.6841723121906749, 'min_child_weight': 5, 'scale_pos_weight': 1, 'reg_alpha': 1, 'tree_method': 'exact', 'grow_policy': 'lossguide'}. Best is trial 0 with value: 0.5319958010482104.\n",
      "[I 2025-03-26 11:57:56,011] Trial 8 finished with value: 0.4945028364302977 and parameters: {'n_estimators': 150, 'max_depth': 39, 'learning_rate': 0.017415414124026182, 'subsample': 0.8191460598836077, 'colsample_bytree': 0.9393912137652707, 'gamma': 0.46080967106902626, 'min_child_weight': 11, 'scale_pos_weight': 1, 'reg_alpha': 0.5, 'tree_method': 'approx', 'grow_policy': 'depthwise'}. Best is trial 0 with value: 0.5319958010482104.\n",
      "[I 2025-03-26 11:57:56,510] Trial 9 finished with value: 0.4888934381165731 and parameters: {'n_estimators': 150, 'max_depth': 9, 'learning_rate': 0.023164707697182922, 'subsample': 0.979720237691058, 'colsample_bytree': 0.5939075817482502, 'gamma': 0.9560192481325882, 'min_child_weight': 35, 'scale_pos_weight': 1, 'reg_alpha': 0.5, 'tree_method': 'exact', 'grow_policy': 'lossguide'}. Best is trial 0 with value: 0.5319958010482104.\n",
      "[I 2025-03-26 11:57:57,004] A new study created in memory with name: no-name-5bf14847-ebd0-4ee6-93b5-32e5b0430a82\n"
     ]
    },
    {
     "name": "stdout",
     "output_type": "stream",
     "text": [
      "Mejores parámetros: {'n_estimators': 200, 'max_depth': 41, 'learning_rate': 0.006396487663041107, 'subsample': 0.9157637025723571, 'colsample_bytree': 0.7806744878852863, 'gamma': 0.25358895422013317, 'min_child_weight': 7, 'scale_pos_weight': np.float64(1.2905829596412555), 'reg_alpha': 0.5, 'tree_method': 'exact', 'grow_policy': 'lossguide'}\n",
      "aCC ACT: 0.5790297339593115\n",
      "MEJOR ACCURACY 0.596244131455399 - 31\n"
     ]
    },
    {
     "name": "stderr",
     "output_type": "stream",
     "text": [
      "[I 2025-03-26 11:57:59,289] Trial 0 finished with value: 0.5064809140499736 and parameters: {'n_estimators': 500, 'max_depth': 43, 'learning_rate': 0.02214389913840279, 'subsample': 0.9620680694895187, 'colsample_bytree': 0.6584162855953697, 'gamma': 0.14800810092978367, 'min_child_weight': 61, 'scale_pos_weight': np.float64(1.2905829596412555), 'reg_alpha': 1, 'tree_method': 'approx', 'grow_policy': 'lossguide'}. Best is trial 0 with value: 0.5064809140499736.\n",
      "[I 2025-03-26 11:58:00,147] Trial 1 finished with value: 0.5102460936249559 and parameters: {'n_estimators': 150, 'max_depth': 17, 'learning_rate': 0.14109430788948418, 'subsample': 0.9942898457412837, 'colsample_bytree': 0.9889856426998334, 'gamma': 0.13122727002257162, 'min_child_weight': 1, 'scale_pos_weight': 1, 'reg_alpha': 1, 'tree_method': 'auto', 'grow_policy': 'depthwise'}. Best is trial 1 with value: 0.5102460936249559.\n",
      "[I 2025-03-26 11:58:01,007] Trial 2 finished with value: 0.5007854219987964 and parameters: {'n_estimators': 200, 'max_depth': 19, 'learning_rate': 0.16923219418770458, 'subsample': 0.7463232097056096, 'colsample_bytree': 0.7419440321180272, 'gamma': 0.19819739171635187, 'min_child_weight': 65, 'scale_pos_weight': np.float64(1.2905829596412555), 'reg_alpha': 0.5, 'tree_method': 'approx', 'grow_policy': 'depthwise'}. Best is trial 1 with value: 0.5102460936249559.\n",
      "[I 2025-03-26 11:58:01,627] Trial 3 finished with value: 0.5000679610991694 and parameters: {'n_estimators': 250, 'max_depth': 41, 'learning_rate': 0.15081716714395774, 'subsample': 0.8138761891222992, 'colsample_bytree': 0.8093187279426342, 'gamma': 0.35111633410827126, 'min_child_weight': 61, 'scale_pos_weight': np.float64(1.2905829596412555), 'reg_alpha': 0, 'tree_method': 'exact', 'grow_policy': 'lossguide'}. Best is trial 1 with value: 0.5102460936249559.\n",
      "[I 2025-03-26 11:58:02,667] Trial 4 finished with value: 0.4339520312357851 and parameters: {'n_estimators': 250, 'max_depth': 45, 'learning_rate': 0.0011326448664551547, 'subsample': 0.7810056096805241, 'colsample_bytree': 0.5754951066318628, 'gamma': 0.9899044730911933, 'min_child_weight': 65, 'scale_pos_weight': np.float64(1.2905829596412555), 'reg_alpha': 0.5, 'tree_method': 'approx', 'grow_policy': 'lossguide'}. Best is trial 1 with value: 0.5102460936249559.\n",
      "[I 2025-03-26 11:58:03,119] Trial 5 finished with value: 0.5056288063286195 and parameters: {'n_estimators': 300, 'max_depth': 3, 'learning_rate': 0.017512025559843044, 'subsample': 0.6277743120998809, 'colsample_bytree': 0.6114099840614162, 'gamma': 0.7626317227865789, 'min_child_weight': 49, 'scale_pos_weight': np.float64(1.2905829596412555), 'reg_alpha': 0, 'tree_method': 'exact', 'grow_policy': 'depthwise'}. Best is trial 1 with value: 0.5102460936249559.\n",
      "[I 2025-03-26 11:58:03,940] Trial 6 finished with value: 0.520212057348816 and parameters: {'n_estimators': 200, 'max_depth': 3, 'learning_rate': 0.0041824148192434515, 'subsample': 0.9525478373630444, 'colsample_bytree': 0.7033080720130949, 'gamma': 0.597360781416191, 'min_child_weight': 41, 'scale_pos_weight': np.float64(1.2905829596412555), 'reg_alpha': 0.1, 'tree_method': 'approx', 'grow_policy': 'lossguide'}. Best is trial 6 with value: 0.520212057348816.\n",
      "[I 2025-03-26 11:58:04,766] Trial 7 finished with value: 0.5306609009003675 and parameters: {'n_estimators': 400, 'max_depth': 13, 'learning_rate': 0.005703708027082538, 'subsample': 0.6683140474006161, 'colsample_bytree': 0.8791165089456827, 'gamma': 0.5251417808456748, 'min_child_weight': 13, 'scale_pos_weight': np.float64(1.2905829596412555), 'reg_alpha': 0.5, 'tree_method': 'hist', 'grow_policy': 'depthwise'}. Best is trial 7 with value: 0.5306609009003675.\n",
      "[I 2025-03-26 11:58:06,272] Trial 8 finished with value: 0.5012103915191618 and parameters: {'n_estimators': 350, 'max_depth': 17, 'learning_rate': 0.16065154786145566, 'subsample': 0.6075746557081768, 'colsample_bytree': 0.840694999648764, 'gamma': 0.2815691412533504, 'min_child_weight': 45, 'scale_pos_weight': np.float64(1.2905829596412555), 'reg_alpha': 1, 'tree_method': 'approx', 'grow_policy': 'depthwise'}. Best is trial 7 with value: 0.5306609009003675.\n",
      "[I 2025-03-26 11:58:07,195] Trial 9 finished with value: 0.4802804075499368 and parameters: {'n_estimators': 500, 'max_depth': 33, 'learning_rate': 0.0011644267012595475, 'subsample': 0.8668434366253974, 'colsample_bytree': 0.5082973844101859, 'gamma': 0.0372598560904267, 'min_child_weight': 63, 'scale_pos_weight': np.float64(1.2905829596412555), 'reg_alpha': 0.5, 'tree_method': 'exact', 'grow_policy': 'depthwise'}. Best is trial 7 with value: 0.5306609009003675.\n",
      "[I 2025-03-26 11:58:07,712] A new study created in memory with name: no-name-ea535a3f-0d1a-4825-92d9-bc7c78162293\n"
     ]
    },
    {
     "name": "stdout",
     "output_type": "stream",
     "text": [
      "Mejores parámetros: {'n_estimators': 400, 'max_depth': 13, 'learning_rate': 0.005703708027082538, 'subsample': 0.6683140474006161, 'colsample_bytree': 0.8791165089456827, 'gamma': 0.5251417808456748, 'min_child_weight': 13, 'scale_pos_weight': np.float64(1.2905829596412555), 'reg_alpha': 0.5, 'tree_method': 'hist', 'grow_policy': 'depthwise'}\n",
      "aCC ACT: 0.5899843505477308\n",
      "MEJOR ACCURACY 0.596244131455399 - 31\n"
     ]
    },
    {
     "name": "stderr",
     "output_type": "stream",
     "text": [
      "[I 2025-03-26 11:58:08,413] Trial 0 finished with value: 0.47750680640137544 and parameters: {'n_estimators': 150, 'max_depth': 21, 'learning_rate': 0.08207636352469273, 'subsample': 0.6794789796159528, 'colsample_bytree': 0.9582789829497458, 'gamma': 0.7883107006384493, 'min_child_weight': 51, 'scale_pos_weight': 1, 'reg_alpha': 0.5, 'tree_method': 'approx', 'grow_policy': 'depthwise'}. Best is trial 0 with value: 0.47750680640137544.\n",
      "[I 2025-03-26 11:58:08,614] Trial 1 finished with value: 0.5005791274887046 and parameters: {'n_estimators': 250, 'max_depth': 15, 'learning_rate': 0.007163555972122172, 'subsample': 0.8277628361953128, 'colsample_bytree': 0.6437806549154494, 'gamma': 0.8594312283131412, 'min_child_weight': 65, 'scale_pos_weight': np.float64(1.2905829596412555), 'reg_alpha': 0.1, 'tree_method': 'auto', 'grow_policy': 'depthwise'}. Best is trial 1 with value: 0.5005791274887046.\n",
      "[I 2025-03-26 11:58:08,743] Trial 2 finished with value: 0.4768425212107326 and parameters: {'n_estimators': 150, 'max_depth': 25, 'learning_rate': 0.04801150597587472, 'subsample': 0.9073062029709986, 'colsample_bytree': 0.6548976184809472, 'gamma': 0.694997398070733, 'min_child_weight': 67, 'scale_pos_weight': 1, 'reg_alpha': 0.1, 'tree_method': 'hist', 'grow_policy': 'depthwise'}. Best is trial 1 with value: 0.5005791274887046.\n",
      "[I 2025-03-26 11:58:11,058] Trial 3 finished with value: 0.5055627959012516 and parameters: {'n_estimators': 300, 'max_depth': 15, 'learning_rate': 0.17574292084345972, 'subsample': 0.7066489289465011, 'colsample_bytree': 0.806816113934822, 'gamma': 0.22256042299483692, 'min_child_weight': 11, 'scale_pos_weight': np.float64(1.2905829596412555), 'reg_alpha': 0, 'tree_method': 'approx', 'grow_policy': 'depthwise'}. Best is trial 3 with value: 0.5055627959012516.\n",
      "[I 2025-03-26 11:58:11,323] Trial 4 finished with value: 0.5242402629146625 and parameters: {'n_estimators': 250, 'max_depth': 11, 'learning_rate': 0.0042613635735447904, 'subsample': 0.9340715443301376, 'colsample_bytree': 0.9911465154744157, 'gamma': 0.6154095000716975, 'min_child_weight': 53, 'scale_pos_weight': np.float64(1.2905829596412555), 'reg_alpha': 1, 'tree_method': 'hist', 'grow_policy': 'depthwise'}. Best is trial 4 with value: 0.5242402629146625.\n",
      "[I 2025-03-26 11:58:12,074] Trial 5 finished with value: 0.5279140121579988 and parameters: {'n_estimators': 300, 'max_depth': 35, 'learning_rate': 0.05415302425841453, 'subsample': 0.9395783004696674, 'colsample_bytree': 0.5383128822403656, 'gamma': 0.5389955461100301, 'min_child_weight': 47, 'scale_pos_weight': np.float64(1.2905829596412555), 'reg_alpha': 0.5, 'tree_method': 'exact', 'grow_policy': 'lossguide'}. Best is trial 5 with value: 0.5279140121579988.\n",
      "[I 2025-03-26 11:58:12,351] Trial 6 finished with value: 0.5316359605153809 and parameters: {'n_estimators': 150, 'max_depth': 9, 'learning_rate': 0.04826248421855792, 'subsample': 0.9231252112349082, 'colsample_bytree': 0.6825530136342814, 'gamma': 0.791224922859213, 'min_child_weight': 17, 'scale_pos_weight': np.float64(1.2905829596412555), 'reg_alpha': 0, 'tree_method': 'auto', 'grow_policy': 'depthwise'}. Best is trial 6 with value: 0.5316359605153809.\n",
      "[I 2025-03-26 11:58:15,219] Trial 7 finished with value: 0.39015924442650685 and parameters: {'n_estimators': 450, 'max_depth': 39, 'learning_rate': 0.0017002596211960386, 'subsample': 0.847155842211032, 'colsample_bytree': 0.9032533932552715, 'gamma': 0.4483166204652569, 'min_child_weight': 25, 'scale_pos_weight': 1, 'reg_alpha': 0, 'tree_method': 'approx', 'grow_policy': 'depthwise'}. Best is trial 6 with value: 0.5316359605153809.\n",
      "[I 2025-03-26 11:58:15,773] Trial 8 finished with value: 0.4936969299708779 and parameters: {'n_estimators': 500, 'max_depth': 27, 'learning_rate': 0.01071723185458289, 'subsample': 0.921906704378705, 'colsample_bytree': 0.6790529159597538, 'gamma': 0.6177266650694498, 'min_child_weight': 33, 'scale_pos_weight': 1, 'reg_alpha': 1, 'tree_method': 'hist', 'grow_policy': 'depthwise'}. Best is trial 6 with value: 0.5316359605153809.\n",
      "[I 2025-03-26 11:58:15,965] Trial 9 finished with value: 0.46006372034119003 and parameters: {'n_estimators': 200, 'max_depth': 25, 'learning_rate': 0.015419980063977457, 'subsample': 0.7223741949117812, 'colsample_bytree': 0.6381467926009488, 'gamma': 0.7538033764688603, 'min_child_weight': 49, 'scale_pos_weight': 1, 'reg_alpha': 0, 'tree_method': 'auto', 'grow_policy': 'depthwise'}. Best is trial 6 with value: 0.5316359605153809.\n",
      "[I 2025-03-26 11:58:16,148] A new study created in memory with name: no-name-2f5b53a7-9505-4e3c-8b39-c0b2b7574ee8\n"
     ]
    },
    {
     "name": "stdout",
     "output_type": "stream",
     "text": [
      "Mejores parámetros: {'n_estimators': 150, 'max_depth': 9, 'learning_rate': 0.04826248421855792, 'subsample': 0.9231252112349082, 'colsample_bytree': 0.6825530136342814, 'gamma': 0.791224922859213, 'min_child_weight': 17, 'scale_pos_weight': np.float64(1.2905829596412555), 'reg_alpha': 0, 'tree_method': 'auto', 'grow_policy': 'depthwise'}\n",
      "aCC ACT: 0.5868544600938967\n",
      "MEJOR ACCURACY 0.596244131455399 - 31\n"
     ]
    },
    {
     "name": "stderr",
     "output_type": "stream",
     "text": [
      "[I 2025-03-26 11:58:16,621] Trial 0 finished with value: 0.4218819706695597 and parameters: {'n_estimators': 100, 'max_depth': 35, 'learning_rate': 0.017020214504955687, 'subsample': 0.7476748306999861, 'colsample_bytree': 0.7063073218632174, 'gamma': 0.5878474760251806, 'min_child_weight': 51, 'scale_pos_weight': 1, 'reg_alpha': 0.5, 'tree_method': 'approx', 'grow_policy': 'depthwise'}. Best is trial 0 with value: 0.4218819706695597.\n",
      "[I 2025-03-26 11:58:18,055] Trial 1 finished with value: 0.39972979459702007 and parameters: {'n_estimators': 350, 'max_depth': 19, 'learning_rate': 0.0024402810512231653, 'subsample': 0.8981284216001548, 'colsample_bytree': 0.6977080455169389, 'gamma': 0.6605338775383855, 'min_child_weight': 23, 'scale_pos_weight': 1, 'reg_alpha': 0.5, 'tree_method': 'exact', 'grow_policy': 'depthwise'}. Best is trial 0 with value: 0.4218819706695597.\n",
      "[I 2025-03-26 11:58:18,247] Trial 2 finished with value: 0.4859638289940236 and parameters: {'n_estimators': 250, 'max_depth': 35, 'learning_rate': 0.08008617112476855, 'subsample': 0.7745973976958187, 'colsample_bytree': 0.5395013050851725, 'gamma': 0.09353794334944687, 'min_child_weight': 49, 'scale_pos_weight': 1, 'reg_alpha': 0.1, 'tree_method': 'hist', 'grow_policy': 'depthwise'}. Best is trial 2 with value: 0.4859638289940236.\n",
      "[I 2025-03-26 11:58:19,007] Trial 3 finished with value: 0.5151591632394614 and parameters: {'n_estimators': 250, 'max_depth': 5, 'learning_rate': 0.002512282136648969, 'subsample': 0.6714955852726833, 'colsample_bytree': 0.7090098996034934, 'gamma': 0.893665243073069, 'min_child_weight': 19, 'scale_pos_weight': np.float64(1.2905829596412555), 'reg_alpha': 1, 'tree_method': 'exact', 'grow_policy': 'lossguide'}. Best is trial 3 with value: 0.5151591632394614.\n",
      "[I 2025-03-26 11:58:19,316] Trial 4 finished with value: 0.5171925098001288 and parameters: {'n_estimators': 100, 'max_depth': 23, 'learning_rate': 0.07878405955934473, 'subsample': 0.9336729898442654, 'colsample_bytree': 0.6991334581338593, 'gamma': 0.3643681756171625, 'min_child_weight': 11, 'scale_pos_weight': np.float64(1.2905829596412555), 'reg_alpha': 0.1, 'tree_method': 'hist', 'grow_policy': 'lossguide'}. Best is trial 4 with value: 0.5171925098001288.\n",
      "[I 2025-03-26 11:58:21,316] Trial 5 finished with value: 0.4934819740730326 and parameters: {'n_estimators': 450, 'max_depth': 33, 'learning_rate': 0.002100228733795515, 'subsample': 0.7884926008363673, 'colsample_bytree': 0.613536764726468, 'gamma': 0.5627644645781217, 'min_child_weight': 53, 'scale_pos_weight': np.float64(1.2905829596412555), 'reg_alpha': 0.5, 'tree_method': 'approx', 'grow_policy': 'depthwise'}. Best is trial 4 with value: 0.5171925098001288.\n",
      "[I 2025-03-26 11:58:21,611] Trial 6 finished with value: 0.5261967756878461 and parameters: {'n_estimators': 350, 'max_depth': 35, 'learning_rate': 0.08979622897532824, 'subsample': 0.6877607828463912, 'colsample_bytree': 0.6537158496159375, 'gamma': 0.5835503468826329, 'min_child_weight': 43, 'scale_pos_weight': np.float64(1.2905829596412555), 'reg_alpha': 0, 'tree_method': 'hist', 'grow_policy': 'depthwise'}. Best is trial 6 with value: 0.5261967756878461.\n",
      "[I 2025-03-26 11:58:21,792] Trial 7 finished with value: 0.49291509957093593 and parameters: {'n_estimators': 200, 'max_depth': 35, 'learning_rate': 0.113157762579221, 'subsample': 0.6972973279259046, 'colsample_bytree': 0.7837862799217994, 'gamma': 0.026297527388746134, 'min_child_weight': 39, 'scale_pos_weight': 1, 'reg_alpha': 0.5, 'tree_method': 'hist', 'grow_policy': 'lossguide'}. Best is trial 6 with value: 0.5261967756878461.\n",
      "[I 2025-03-26 11:58:21,952] Trial 8 finished with value: 0.4122432773255186 and parameters: {'n_estimators': 200, 'max_depth': 19, 'learning_rate': 0.008352234445427504, 'subsample': 0.9949429650960024, 'colsample_bytree': 0.5496062019356975, 'gamma': 0.7436776548596122, 'min_child_weight': 67, 'scale_pos_weight': 1, 'reg_alpha': 0, 'tree_method': 'hist', 'grow_policy': 'depthwise'}. Best is trial 6 with value: 0.5261967756878461.\n",
      "[I 2025-03-26 11:58:22,422] Trial 9 finished with value: 0.504604240280658 and parameters: {'n_estimators': 250, 'max_depth': 17, 'learning_rate': 0.023210664315976307, 'subsample': 0.7305464277162352, 'colsample_bytree': 0.5874535522621259, 'gamma': 0.09312789599618299, 'min_child_weight': 65, 'scale_pos_weight': np.float64(1.2905829596412555), 'reg_alpha': 0.1, 'tree_method': 'exact', 'grow_policy': 'lossguide'}. Best is trial 6 with value: 0.5261967756878461.\n",
      "[I 2025-03-26 11:58:22,669] A new study created in memory with name: no-name-bbc6396f-7b97-4686-b8a4-28acf84b0442\n"
     ]
    },
    {
     "name": "stdout",
     "output_type": "stream",
     "text": [
      "Mejores parámetros: {'n_estimators': 350, 'max_depth': 35, 'learning_rate': 0.08979622897532824, 'subsample': 0.6877607828463912, 'colsample_bytree': 0.6537158496159375, 'gamma': 0.5835503468826329, 'min_child_weight': 43, 'scale_pos_weight': np.float64(1.2905829596412555), 'reg_alpha': 0, 'tree_method': 'hist', 'grow_policy': 'depthwise'}\n",
      "aCC ACT: 0.5633802816901409\n",
      "MEJOR ACCURACY 0.596244131455399 - 31\n"
     ]
    },
    {
     "name": "stderr",
     "output_type": "stream",
     "text": [
      "[I 2025-03-26 11:58:23,382] Trial 0 finished with value: 0.5323008138709167 and parameters: {'n_estimators': 350, 'max_depth': 27, 'learning_rate': 0.015062345747393083, 'subsample': 0.8441028908451985, 'colsample_bytree': 0.7464944918055958, 'gamma': 0.21446199779143515, 'min_child_weight': 17, 'scale_pos_weight': np.float64(1.2905829596412555), 'reg_alpha': 0.5, 'tree_method': 'auto', 'grow_policy': 'lossguide'}. Best is trial 0 with value: 0.5323008138709167.\n",
      "[I 2025-03-26 11:58:23,769] Trial 1 finished with value: 0.42667963836573575 and parameters: {'n_estimators': 100, 'max_depth': 49, 'learning_rate': 0.0012587157085412197, 'subsample': 0.6136175405321111, 'colsample_bytree': 0.7662904358038818, 'gamma': 0.02745454534689029, 'min_child_weight': 23, 'scale_pos_weight': np.float64(1.2905829596412555), 'reg_alpha': 0, 'tree_method': 'exact', 'grow_policy': 'lossguide'}. Best is trial 0 with value: 0.5323008138709167.\n",
      "[I 2025-03-26 11:58:33,391] Trial 2 finished with value: 0.5242991841225584 and parameters: {'n_estimators': 300, 'max_depth': 25, 'learning_rate': 0.001539330459721273, 'subsample': 0.7428030167952971, 'colsample_bytree': 0.866598040069765, 'gamma': 0.73114293914124, 'min_child_weight': 9, 'scale_pos_weight': np.float64(1.2905829596412555), 'reg_alpha': 0, 'tree_method': 'approx', 'grow_policy': 'lossguide'}. Best is trial 0 with value: 0.5323008138709167.\n",
      "[I 2025-03-26 11:58:34,191] Trial 3 finished with value: 0.5111459727013384 and parameters: {'n_estimators': 100, 'max_depth': 35, 'learning_rate': 0.11647916586649999, 'subsample': 0.9172028006300059, 'colsample_bytree': 0.8322946543827585, 'gamma': 0.8091956592066877, 'min_child_weight': 11, 'scale_pos_weight': np.float64(1.2905829596412555), 'reg_alpha': 0, 'tree_method': 'exact', 'grow_policy': 'depthwise'}. Best is trial 0 with value: 0.5323008138709167.\n",
      "[I 2025-03-26 11:58:36,688] Trial 4 finished with value: 0.5137186922936016 and parameters: {'n_estimators': 450, 'max_depth': 29, 'learning_rate': 0.1892924117088194, 'subsample': 0.7672997583602188, 'colsample_bytree': 0.6775941887949368, 'gamma': 0.5339348380365019, 'min_child_weight': 19, 'scale_pos_weight': np.float64(1.2905829596412555), 'reg_alpha': 0.5, 'tree_method': 'approx', 'grow_policy': 'depthwise'}. Best is trial 0 with value: 0.5323008138709167.\n",
      "[I 2025-03-26 11:58:41,945] Trial 5 finished with value: 0.45277054614880796 and parameters: {'n_estimators': 350, 'max_depth': 49, 'learning_rate': 0.0030548700347296366, 'subsample': 0.6780373281201342, 'colsample_bytree': 0.9831151051089235, 'gamma': 0.4288409367681667, 'min_child_weight': 1, 'scale_pos_weight': 1, 'reg_alpha': 0.5, 'tree_method': 'auto', 'grow_policy': 'lossguide'}. Best is trial 0 with value: 0.5323008138709167.\n",
      "[I 2025-03-26 11:58:42,320] Trial 6 finished with value: 0.4878490540937868 and parameters: {'n_estimators': 100, 'max_depth': 5, 'learning_rate': 0.02492771652543122, 'subsample': 0.6284500990820521, 'colsample_bytree': 0.9417220895177789, 'gamma': 0.2877441007441146, 'min_child_weight': 17, 'scale_pos_weight': 1, 'reg_alpha': 0.1, 'tree_method': 'exact', 'grow_policy': 'depthwise'}. Best is trial 0 with value: 0.5323008138709167.\n",
      "[I 2025-03-26 11:58:43,815] Trial 7 finished with value: 0.49101043491558355 and parameters: {'n_estimators': 350, 'max_depth': 47, 'learning_rate': 0.06323168378921891, 'subsample': 0.7063964702993464, 'colsample_bytree': 0.5550805801654624, 'gamma': 0.06989213647339398, 'min_child_weight': 53, 'scale_pos_weight': np.float64(1.2905829596412555), 'reg_alpha': 1, 'tree_method': 'approx', 'grow_policy': 'lossguide'}. Best is trial 0 with value: 0.5323008138709167.\n",
      "[I 2025-03-26 11:58:48,278] Trial 8 finished with value: 0.5349742089539076 and parameters: {'n_estimators': 500, 'max_depth': 41, 'learning_rate': 0.0013265991133236492, 'subsample': 0.799271983321539, 'colsample_bytree': 0.7055160544901693, 'gamma': 0.060855435763612964, 'min_child_weight': 17, 'scale_pos_weight': np.float64(1.2905829596412555), 'reg_alpha': 0.1, 'tree_method': 'approx', 'grow_policy': 'depthwise'}. Best is trial 8 with value: 0.5349742089539076.\n",
      "[I 2025-03-26 11:58:48,757] Trial 9 finished with value: 0.525469337578533 and parameters: {'n_estimators': 150, 'max_depth': 21, 'learning_rate': 0.13052183974452342, 'subsample': 0.9748973339974725, 'colsample_bytree': 0.6762490599257749, 'gamma': 0.8295562858677349, 'min_child_weight': 49, 'scale_pos_weight': np.float64(1.2905829596412555), 'reg_alpha': 0, 'tree_method': 'exact', 'grow_policy': 'lossguide'}. Best is trial 8 with value: 0.5349742089539076.\n",
      "[I 2025-03-26 11:58:52,789] A new study created in memory with name: no-name-17f90015-888a-49ba-908b-4cd750a1c10f\n",
      "[I 2025-03-26 11:58:52,968] Trial 0 finished with value: 0.49487964995299516 and parameters: {'n_estimators': 150, 'max_depth': 39, 'learning_rate': 0.09552608955270013, 'subsample': 0.7308340804325739, 'colsample_bytree': 0.6244302380424167, 'gamma': 0.8103637162464774, 'min_child_weight': 49, 'scale_pos_weight': np.float64(1.2905829596412555), 'reg_alpha': 0.1, 'tree_method': 'hist', 'grow_policy': 'lossguide'}. Best is trial 0 with value: 0.49487964995299516.\n"
     ]
    },
    {
     "name": "stdout",
     "output_type": "stream",
     "text": [
      "Mejores parámetros: {'n_estimators': 500, 'max_depth': 41, 'learning_rate': 0.0013265991133236492, 'subsample': 0.799271983321539, 'colsample_bytree': 0.7055160544901693, 'gamma': 0.060855435763612964, 'min_child_weight': 17, 'scale_pos_weight': np.float64(1.2905829596412555), 'reg_alpha': 0.1, 'tree_method': 'approx', 'grow_policy': 'depthwise'}\n",
      "aCC ACT: 0.5899843505477308\n",
      "MEJOR ACCURACY 0.596244131455399 - 31\n"
     ]
    },
    {
     "name": "stderr",
     "output_type": "stream",
     "text": [
      "[I 2025-03-26 11:58:53,308] Trial 1 finished with value: 0.5022422667198182 and parameters: {'n_estimators': 450, 'max_depth': 3, 'learning_rate': 0.016210956812312414, 'subsample': 0.9149344064285927, 'colsample_bytree': 0.9059379303594167, 'gamma': 0.3414574243238657, 'min_child_weight': 27, 'scale_pos_weight': 1, 'reg_alpha': 0.5, 'tree_method': 'hist', 'grow_policy': 'depthwise'}. Best is trial 1 with value: 0.5022422667198182.\n",
      "[I 2025-03-26 11:58:53,934] Trial 2 finished with value: 0.5178085662678067 and parameters: {'n_estimators': 300, 'max_depth': 27, 'learning_rate': 0.021362540026983727, 'subsample': 0.865612316178354, 'colsample_bytree': 0.7212205435879593, 'gamma': 0.13770699541212827, 'min_child_weight': 15, 'scale_pos_weight': np.float64(1.2905829596412555), 'reg_alpha': 0.5, 'tree_method': 'hist', 'grow_policy': 'depthwise'}. Best is trial 2 with value: 0.5178085662678067.\n",
      "[I 2025-03-26 11:58:56,070] Trial 3 finished with value: 0.36430077995973825 and parameters: {'n_estimators': 400, 'max_depth': 33, 'learning_rate': 0.0011059095863894034, 'subsample': 0.9652422145038999, 'colsample_bytree': 0.692351546930146, 'gamma': 0.5633917337172312, 'min_child_weight': 5, 'scale_pos_weight': 1, 'reg_alpha': 1, 'tree_method': 'hist', 'grow_policy': 'lossguide'}. Best is trial 2 with value: 0.5178085662678067.\n",
      "[I 2025-03-26 11:58:57,691] Trial 4 finished with value: 0.45442742455701063 and parameters: {'n_estimators': 400, 'max_depth': 19, 'learning_rate': 0.04073192094630079, 'subsample': 0.6214844911841967, 'colsample_bytree': 0.5400324204574356, 'gamma': 0.9374978124135425, 'min_child_weight': 67, 'scale_pos_weight': 1, 'reg_alpha': 1, 'tree_method': 'approx', 'grow_policy': 'depthwise'}. Best is trial 2 with value: 0.5178085662678067.\n",
      "[I 2025-03-26 11:58:59,095] Trial 5 finished with value: 0.5283285031702802 and parameters: {'n_estimators': 450, 'max_depth': 21, 'learning_rate': 0.03400160673704585, 'subsample': 0.6154730710768085, 'colsample_bytree': 0.896095666553135, 'gamma': 0.6996603044623851, 'min_child_weight': 35, 'scale_pos_weight': np.float64(1.2905829596412555), 'reg_alpha': 0.1, 'tree_method': 'exact', 'grow_policy': 'lossguide'}. Best is trial 5 with value: 0.5283285031702802.\n",
      "[I 2025-03-26 11:58:59,886] Trial 6 finished with value: 0.5362181197799769 and parameters: {'n_estimators': 250, 'max_depth': 33, 'learning_rate': 0.003400245591079151, 'subsample': 0.7410188490113475, 'colsample_bytree': 0.8522467238981872, 'gamma': 0.8528218939032227, 'min_child_weight': 9, 'scale_pos_weight': np.float64(1.2905829596412555), 'reg_alpha': 1, 'tree_method': 'auto', 'grow_policy': 'depthwise'}. Best is trial 6 with value: 0.5362181197799769.\n",
      "[I 2025-03-26 11:59:01,023] Trial 7 finished with value: 0.505678697921187 and parameters: {'n_estimators': 200, 'max_depth': 11, 'learning_rate': 0.021035866943582327, 'subsample': 0.8034539082765437, 'colsample_bytree': 0.6021017692452371, 'gamma': 0.6017984737257036, 'min_child_weight': 7, 'scale_pos_weight': 1, 'reg_alpha': 1, 'tree_method': 'exact', 'grow_policy': 'depthwise'}. Best is trial 6 with value: 0.5362181197799769.\n",
      "[I 2025-03-26 11:59:01,629] Trial 8 finished with value: 0.5138167929602441 and parameters: {'n_estimators': 400, 'max_depth': 45, 'learning_rate': 0.07937912658579266, 'subsample': 0.7161378141399031, 'colsample_bytree': 0.8307529879203563, 'gamma': 0.3477503362147504, 'min_child_weight': 19, 'scale_pos_weight': np.float64(1.2905829596412555), 'reg_alpha': 0.5, 'tree_method': 'hist', 'grow_policy': 'lossguide'}. Best is trial 6 with value: 0.5362181197799769.\n",
      "[I 2025-03-26 11:59:03,036] Trial 9 finished with value: 0.5036477267295186 and parameters: {'n_estimators': 450, 'max_depth': 37, 'learning_rate': 0.11548667215359786, 'subsample': 0.7529455465041414, 'colsample_bytree': 0.546021378730583, 'gamma': 0.0737120014921957, 'min_child_weight': 17, 'scale_pos_weight': np.float64(1.2905829596412555), 'reg_alpha': 0, 'tree_method': 'exact', 'grow_policy': 'lossguide'}. Best is trial 6 with value: 0.5362181197799769.\n",
      "[I 2025-03-26 11:59:03,499] A new study created in memory with name: no-name-5dfd4413-55ec-47cf-82bb-4224a1e78c94\n"
     ]
    },
    {
     "name": "stdout",
     "output_type": "stream",
     "text": [
      "Mejores parámetros: {'n_estimators': 250, 'max_depth': 33, 'learning_rate': 0.003400245591079151, 'subsample': 0.7410188490113475, 'colsample_bytree': 0.8522467238981872, 'gamma': 0.8528218939032227, 'min_child_weight': 9, 'scale_pos_weight': np.float64(1.2905829596412555), 'reg_alpha': 1, 'tree_method': 'auto', 'grow_policy': 'depthwise'}\n",
      "aCC ACT: 0.5868544600938967\n",
      "MEJOR ACCURACY 0.596244131455399 - 31\n"
     ]
    },
    {
     "name": "stderr",
     "output_type": "stream",
     "text": [
      "[I 2025-03-26 11:59:03,867] Trial 0 finished with value: 0.4900427256985477 and parameters: {'n_estimators': 350, 'max_depth': 5, 'learning_rate': 0.11055268401475249, 'subsample': 0.9718632708696275, 'colsample_bytree': 0.8398460206880649, 'gamma': 0.5442758164248339, 'min_child_weight': 13, 'scale_pos_weight': 1, 'reg_alpha': 0, 'tree_method': 'auto', 'grow_policy': 'lossguide'}. Best is trial 0 with value: 0.4900427256985477.\n",
      "[I 2025-03-26 11:59:04,115] Trial 1 finished with value: 0.35906710804008035 and parameters: {'n_estimators': 400, 'max_depth': 49, 'learning_rate': 0.002135200830236794, 'subsample': 0.6882885997978876, 'colsample_bytree': 0.6392264759249253, 'gamma': 0.7470577595072132, 'min_child_weight': 69, 'scale_pos_weight': 1, 'reg_alpha': 0, 'tree_method': 'auto', 'grow_policy': 'lossguide'}. Best is trial 0 with value: 0.4900427256985477.\n",
      "[I 2025-03-26 11:59:05,611] Trial 2 finished with value: 0.48789982008525146 and parameters: {'n_estimators': 500, 'max_depth': 37, 'learning_rate': 0.0011432442224781796, 'subsample': 0.9022442586160698, 'colsample_bytree': 0.9459032539030303, 'gamma': 0.2652101800507244, 'min_child_weight': 65, 'scale_pos_weight': np.float64(1.2905829596412555), 'reg_alpha': 0.1, 'tree_method': 'exact', 'grow_policy': 'depthwise'}. Best is trial 0 with value: 0.4900427256985477.\n",
      "[I 2025-03-26 11:59:05,904] Trial 3 finished with value: 0.4828669471067924 and parameters: {'n_estimators': 100, 'max_depth': 45, 'learning_rate': 0.1460912660539737, 'subsample': 0.840718426028663, 'colsample_bytree': 0.8221686581044421, 'gamma': 0.499439359189373, 'min_child_weight': 51, 'scale_pos_weight': 1, 'reg_alpha': 0, 'tree_method': 'exact', 'grow_policy': 'depthwise'}. Best is trial 0 with value: 0.4900427256985477.\n",
      "[I 2025-03-26 11:59:06,089] Trial 4 finished with value: 0.3581489377629863 and parameters: {'n_estimators': 150, 'max_depth': 19, 'learning_rate': 0.00197960264373316, 'subsample': 0.8811096742466675, 'colsample_bytree': 0.7929667461204422, 'gamma': 0.29014621924506734, 'min_child_weight': 37, 'scale_pos_weight': 1, 'reg_alpha': 1, 'tree_method': 'auto', 'grow_policy': 'depthwise'}. Best is trial 0 with value: 0.4900427256985477.\n",
      "[I 2025-03-26 11:59:06,565] Trial 5 finished with value: 0.40657397261450556 and parameters: {'n_estimators': 100, 'max_depth': 33, 'learning_rate': 0.013859387031732664, 'subsample': 0.6390779483907657, 'colsample_bytree': 0.5073779196580148, 'gamma': 0.5304115586966293, 'min_child_weight': 35, 'scale_pos_weight': 1, 'reg_alpha': 0, 'tree_method': 'approx', 'grow_policy': 'lossguide'}. Best is trial 0 with value: 0.4900427256985477.\n",
      "[I 2025-03-26 11:59:08,628] Trial 6 finished with value: 0.5334492590731231 and parameters: {'n_estimators': 400, 'max_depth': 7, 'learning_rate': 0.09610080825231136, 'subsample': 0.7205542070542829, 'colsample_bytree': 0.7783456950528769, 'gamma': 0.6326209537439035, 'min_child_weight': 3, 'scale_pos_weight': np.float64(1.2905829596412555), 'reg_alpha': 0.5, 'tree_method': 'exact', 'grow_policy': 'lossguide'}. Best is trial 6 with value: 0.5334492590731231.\n",
      "[I 2025-03-26 11:59:10,822] Trial 7 finished with value: 0.514384740650533 and parameters: {'n_estimators': 400, 'max_depth': 43, 'learning_rate': 0.08757168757601998, 'subsample': 0.8982574603446007, 'colsample_bytree': 0.795278325155975, 'gamma': 0.9705217757501915, 'min_child_weight': 29, 'scale_pos_weight': 1, 'reg_alpha': 0.1, 'tree_method': 'approx', 'grow_policy': 'lossguide'}. Best is trial 6 with value: 0.5334492590731231.\n",
      "[I 2025-03-26 11:59:11,199] Trial 8 finished with value: 0.4997443218183422 and parameters: {'n_estimators': 500, 'max_depth': 35, 'learning_rate': 0.01810881367956437, 'subsample': 0.7952817865553979, 'colsample_bytree': 0.6925980343447767, 'gamma': 0.03945686679860183, 'min_child_weight': 59, 'scale_pos_weight': np.float64(1.2905829596412555), 'reg_alpha': 1, 'tree_method': 'auto', 'grow_policy': 'lossguide'}. Best is trial 6 with value: 0.5334492590731231.\n",
      "[I 2025-03-26 11:59:11,936] Trial 9 finished with value: 0.5136154844166783 and parameters: {'n_estimators': 150, 'max_depth': 37, 'learning_rate': 0.14087784597098077, 'subsample': 0.9706794619833612, 'colsample_bytree': 0.8820134023549935, 'gamma': 0.42943133474261375, 'min_child_weight': 33, 'scale_pos_weight': np.float64(1.2905829596412555), 'reg_alpha': 0, 'tree_method': 'exact', 'grow_policy': 'lossguide'}. Best is trial 6 with value: 0.5334492590731231.\n",
      "[I 2025-03-26 11:59:12,550] A new study created in memory with name: no-name-2004eb3c-624c-441e-b79c-21d9a297dead\n"
     ]
    },
    {
     "name": "stdout",
     "output_type": "stream",
     "text": [
      "Mejores parámetros: {'n_estimators': 400, 'max_depth': 7, 'learning_rate': 0.09610080825231136, 'subsample': 0.7205542070542829, 'colsample_bytree': 0.7783456950528769, 'gamma': 0.6326209537439035, 'min_child_weight': 3, 'scale_pos_weight': np.float64(1.2905829596412555), 'reg_alpha': 0.5, 'tree_method': 'exact', 'grow_policy': 'lossguide'}\n",
      "aCC ACT: 0.5758998435054773\n",
      "MEJOR ACCURACY 0.596244131455399 - 31\n"
     ]
    },
    {
     "name": "stderr",
     "output_type": "stream",
     "text": [
      "[I 2025-03-26 11:59:13,459] Trial 0 finished with value: 0.381453901012969 and parameters: {'n_estimators': 200, 'max_depth': 41, 'learning_rate': 0.005892177620932255, 'subsample': 0.6774854074694171, 'colsample_bytree': 0.5551566625263002, 'gamma': 0.9623100874462208, 'min_child_weight': 61, 'scale_pos_weight': 1, 'reg_alpha': 0.1, 'tree_method': 'approx', 'grow_policy': 'depthwise'}. Best is trial 0 with value: 0.381453901012969.\n",
      "[I 2025-03-26 11:59:15,783] Trial 1 finished with value: 0.490658356164848 and parameters: {'n_estimators': 500, 'max_depth': 37, 'learning_rate': 0.019702040808104747, 'subsample': 0.911921001118892, 'colsample_bytree': 0.7471132308330632, 'gamma': 0.9022479558425227, 'min_child_weight': 47, 'scale_pos_weight': 1, 'reg_alpha': 0, 'tree_method': 'approx', 'grow_policy': 'lossguide'}. Best is trial 1 with value: 0.490658356164848.\n",
      "[I 2025-03-26 11:59:16,139] Trial 2 finished with value: 0.36029398222063624 and parameters: {'n_estimators': 450, 'max_depth': 45, 'learning_rate': 0.0015336551442488252, 'subsample': 0.8163042695400657, 'colsample_bytree': 0.5189125956681189, 'gamma': 0.6829300842737049, 'min_child_weight': 41, 'scale_pos_weight': 1, 'reg_alpha': 1, 'tree_method': 'auto', 'grow_policy': 'lossguide'}. Best is trial 1 with value: 0.490658356164848.\n",
      "[I 2025-03-26 11:59:21,744] Trial 3 finished with value: 0.5185740245088741 and parameters: {'n_estimators': 500, 'max_depth': 47, 'learning_rate': 0.0017029401077187443, 'subsample': 0.8593452926462115, 'colsample_bytree': 0.8465009507851758, 'gamma': 0.7267517477235839, 'min_child_weight': 3, 'scale_pos_weight': np.float64(1.2905829596412555), 'reg_alpha': 0.1, 'tree_method': 'exact', 'grow_policy': 'lossguide'}. Best is trial 3 with value: 0.5185740245088741.\n",
      "[I 2025-03-26 11:59:24,280] Trial 4 finished with value: 0.49946634973672915 and parameters: {'n_estimators': 150, 'max_depth': 21, 'learning_rate': 0.10913370160977746, 'subsample': 0.9409049886695982, 'colsample_bytree': 0.5652870559071392, 'gamma': 0.1103012445547844, 'min_child_weight': 7, 'scale_pos_weight': 1, 'reg_alpha': 0, 'tree_method': 'approx', 'grow_policy': 'depthwise'}. Best is trial 3 with value: 0.5185740245088741.\n",
      "[I 2025-03-26 11:59:27,985] Trial 5 finished with value: 0.3681230467083979 and parameters: {'n_estimators': 350, 'max_depth': 9, 'learning_rate': 0.001528276221470855, 'subsample': 0.6483870948471891, 'colsample_bytree': 0.6717345989079713, 'gamma': 0.7575321411287151, 'min_child_weight': 13, 'scale_pos_weight': 1, 'reg_alpha': 0, 'tree_method': 'approx', 'grow_policy': 'lossguide'}. Best is trial 3 with value: 0.5185740245088741.\n",
      "[I 2025-03-26 11:59:30,045] Trial 6 finished with value: 0.5162812544369869 and parameters: {'n_estimators': 400, 'max_depth': 5, 'learning_rate': 0.013957210103727257, 'subsample': 0.9727341960293237, 'colsample_bytree': 0.7305456582485259, 'gamma': 0.04289465068264553, 'min_child_weight': 9, 'scale_pos_weight': 1, 'reg_alpha': 0, 'tree_method': 'approx', 'grow_policy': 'depthwise'}. Best is trial 3 with value: 0.5185740245088741.\n",
      "[I 2025-03-26 11:59:30,536] Trial 7 finished with value: 0.517045266504014 and parameters: {'n_estimators': 450, 'max_depth': 35, 'learning_rate': 0.025420978288698316, 'subsample': 0.6171386008939403, 'colsample_bytree': 0.5544027976436727, 'gamma': 0.32900677212955487, 'min_child_weight': 19, 'scale_pos_weight': 1, 'reg_alpha': 0.5, 'tree_method': 'auto', 'grow_policy': 'lossguide'}. Best is trial 3 with value: 0.5185740245088741.\n",
      "[I 2025-03-26 11:59:31,926] Trial 8 finished with value: 0.47977202823201504 and parameters: {'n_estimators': 400, 'max_depth': 43, 'learning_rate': 0.007913136035901118, 'subsample': 0.9260675475588419, 'colsample_bytree': 0.8065114910559282, 'gamma': 0.5323173265482405, 'min_child_weight': 41, 'scale_pos_weight': 1, 'reg_alpha': 0.1, 'tree_method': 'exact', 'grow_policy': 'lossguide'}. Best is trial 3 with value: 0.5185740245088741.\n",
      "[I 2025-03-26 11:59:32,275] Trial 9 finished with value: 0.4794350290371322 and parameters: {'n_estimators': 200, 'max_depth': 3, 'learning_rate': 0.0017340164246330686, 'subsample': 0.9479701933454509, 'colsample_bytree': 0.5348671000859276, 'gamma': 0.5089845822564965, 'min_child_weight': 27, 'scale_pos_weight': np.float64(1.2905829596412555), 'reg_alpha': 0.5, 'tree_method': 'exact', 'grow_policy': 'lossguide'}. Best is trial 3 with value: 0.5185740245088741.\n",
      "[I 2025-03-26 11:59:33,927] A new study created in memory with name: no-name-7c83e155-0383-4f5d-b3f2-adb75e8fa228\n"
     ]
    },
    {
     "name": "stdout",
     "output_type": "stream",
     "text": [
      "Mejores parámetros: {'n_estimators': 500, 'max_depth': 47, 'learning_rate': 0.0017029401077187443, 'subsample': 0.8593452926462115, 'colsample_bytree': 0.8465009507851758, 'gamma': 0.7267517477235839, 'min_child_weight': 3, 'scale_pos_weight': np.float64(1.2905829596412555), 'reg_alpha': 0.1, 'tree_method': 'exact', 'grow_policy': 'lossguide'}\n",
      "aCC ACT: 0.5774647887323944\n",
      "MEJOR ACCURACY 0.596244131455399 - 31\n"
     ]
    },
    {
     "name": "stderr",
     "output_type": "stream",
     "text": [
      "[I 2025-03-26 11:59:34,455] Trial 0 finished with value: 0.505736719251747 and parameters: {'n_estimators': 500, 'max_depth': 33, 'learning_rate': 0.05423934654870784, 'subsample': 0.655725827241094, 'colsample_bytree': 0.5436597739948, 'gamma': 0.7880020580364918, 'min_child_weight': 23, 'scale_pos_weight': 1, 'reg_alpha': 1, 'tree_method': 'hist', 'grow_policy': 'depthwise'}. Best is trial 0 with value: 0.505736719251747.\n",
      "[I 2025-03-26 11:59:35,268] Trial 1 finished with value: 0.49580417230340296 and parameters: {'n_estimators': 400, 'max_depth': 23, 'learning_rate': 0.0025378324412375086, 'subsample': 0.6197507997257948, 'colsample_bytree': 0.6462376693474774, 'gamma': 0.0667991310914613, 'min_child_weight': 53, 'scale_pos_weight': np.float64(1.2905829596412555), 'reg_alpha': 0.5, 'tree_method': 'exact', 'grow_policy': 'depthwise'}. Best is trial 0 with value: 0.505736719251747.\n",
      "[I 2025-03-26 11:59:35,491] Trial 2 finished with value: 0.44398496765596845 and parameters: {'n_estimators': 250, 'max_depth': 21, 'learning_rate': 0.01059833184695972, 'subsample': 0.9908210645735629, 'colsample_bytree': 0.8646970045266925, 'gamma': 0.31223505833115306, 'min_child_weight': 63, 'scale_pos_weight': 1, 'reg_alpha': 1, 'tree_method': 'hist', 'grow_policy': 'lossguide'}. Best is trial 0 with value: 0.505736719251747.\n",
      "[I 2025-03-26 11:59:35,665] Trial 3 finished with value: 0.4550238310251128 and parameters: {'n_estimators': 100, 'max_depth': 9, 'learning_rate': 0.01463812219038069, 'subsample': 0.8356288388202051, 'colsample_bytree': 0.6634493043289359, 'gamma': 0.14481444821771017, 'min_child_weight': 19, 'scale_pos_weight': 1, 'reg_alpha': 0, 'tree_method': 'auto', 'grow_policy': 'depthwise'}. Best is trial 0 with value: 0.505736719251747.\n",
      "[I 2025-03-26 11:59:36,985] Trial 4 finished with value: 0.4044176870142396 and parameters: {'n_estimators': 300, 'max_depth': 27, 'learning_rate': 0.004340995979776487, 'subsample': 0.9617682526642201, 'colsample_bytree': 0.7102135017830882, 'gamma': 0.9490145030363609, 'min_child_weight': 55, 'scale_pos_weight': 1, 'reg_alpha': 0.1, 'tree_method': 'approx', 'grow_policy': 'depthwise'}. Best is trial 0 with value: 0.505736719251747.\n",
      "[I 2025-03-26 11:59:38,569] Trial 5 finished with value: 0.5085617679926491 and parameters: {'n_estimators': 350, 'max_depth': 37, 'learning_rate': 0.024119476712587025, 'subsample': 0.9636958171556128, 'colsample_bytree': 0.9692888812060226, 'gamma': 0.5615661006777212, 'min_child_weight': 63, 'scale_pos_weight': np.float64(1.2905829596412555), 'reg_alpha': 0.1, 'tree_method': 'approx', 'grow_policy': 'depthwise'}. Best is trial 5 with value: 0.5085617679926491.\n",
      "[I 2025-03-26 11:59:38,699] Trial 6 finished with value: 0.3965837087582115 and parameters: {'n_estimators': 150, 'max_depth': 5, 'learning_rate': 0.009394897244553363, 'subsample': 0.8943984219173331, 'colsample_bytree': 0.7384768958139654, 'gamma': 0.7006992708984805, 'min_child_weight': 65, 'scale_pos_weight': 1, 'reg_alpha': 0.1, 'tree_method': 'hist', 'grow_policy': 'depthwise'}. Best is trial 5 with value: 0.5085617679926491.\n",
      "[I 2025-03-26 11:59:39,178] Trial 7 finished with value: 0.48489720277059234 and parameters: {'n_estimators': 400, 'max_depth': 39, 'learning_rate': 0.007420068631193716, 'subsample': 0.6989290443291424, 'colsample_bytree': 0.6313911609393272, 'gamma': 0.4984137186921088, 'min_child_weight': 21, 'scale_pos_weight': 1, 'reg_alpha': 0.5, 'tree_method': 'hist', 'grow_policy': 'lossguide'}. Best is trial 5 with value: 0.5085617679926491.\n",
      "[I 2025-03-26 11:59:43,165] Trial 8 finished with value: 0.5164866715468042 and parameters: {'n_estimators': 200, 'max_depth': 17, 'learning_rate': 0.005593221817097973, 'subsample': 0.8312309652358859, 'colsample_bytree': 0.9991599778404627, 'gamma': 0.35478311209174485, 'min_child_weight': 1, 'scale_pos_weight': np.float64(1.2905829596412555), 'reg_alpha': 0.1, 'tree_method': 'hist', 'grow_policy': 'depthwise'}. Best is trial 8 with value: 0.5164866715468042.\n",
      "[I 2025-03-26 11:59:45,312] Trial 9 finished with value: 0.45615783968560086 and parameters: {'n_estimators': 500, 'max_depth': 49, 'learning_rate': 0.005973557700020918, 'subsample': 0.8613427640187377, 'colsample_bytree': 0.7902958157150897, 'gamma': 0.9231814078620875, 'min_child_weight': 59, 'scale_pos_weight': 1, 'reg_alpha': 0.5, 'tree_method': 'approx', 'grow_policy': 'depthwise'}. Best is trial 8 with value: 0.5164866715468042.\n",
      "[I 2025-03-26 11:59:47,148] A new study created in memory with name: no-name-bfdce9e5-1888-4b11-b04b-f4acd9b79aa7\n"
     ]
    },
    {
     "name": "stdout",
     "output_type": "stream",
     "text": [
      "Mejores parámetros: {'n_estimators': 200, 'max_depth': 17, 'learning_rate': 0.005593221817097973, 'subsample': 0.8312309652358859, 'colsample_bytree': 0.9991599778404627, 'gamma': 0.35478311209174485, 'min_child_weight': 1, 'scale_pos_weight': np.float64(1.2905829596412555), 'reg_alpha': 0.1, 'tree_method': 'hist', 'grow_policy': 'depthwise'}\n",
      "aCC ACT: 0.5805946791862285\n",
      "MEJOR ACCURACY 0.596244131455399 - 31\n"
     ]
    },
    {
     "name": "stderr",
     "output_type": "stream",
     "text": [
      "[I 2025-03-26 11:59:47,658] Trial 0 finished with value: 0.48311755862406186 and parameters: {'n_estimators': 100, 'max_depth': 35, 'learning_rate': 0.06883726544210769, 'subsample': 0.920043436663153, 'colsample_bytree': 0.9826486250781302, 'gamma': 0.4440198242192893, 'min_child_weight': 59, 'scale_pos_weight': 1, 'reg_alpha': 0.5, 'tree_method': 'approx', 'grow_policy': 'lossguide'}. Best is trial 0 with value: 0.48311755862406186.\n",
      "[I 2025-03-26 11:59:48,035] Trial 1 finished with value: 0.502292666352788 and parameters: {'n_estimators': 350, 'max_depth': 13, 'learning_rate': 0.14053466340517, 'subsample': 0.7559366521380836, 'colsample_bytree': 0.57533956340576, 'gamma': 0.32182689660055863, 'min_child_weight': 23, 'scale_pos_weight': 1, 'reg_alpha': 0.1, 'tree_method': 'auto', 'grow_policy': 'lossguide'}. Best is trial 1 with value: 0.502292666352788.\n",
      "[I 2025-03-26 11:59:49,706] Trial 2 finished with value: 0.3581489377629863 and parameters: {'n_estimators': 400, 'max_depth': 5, 'learning_rate': 0.0010225160534055478, 'subsample': 0.7185651744801285, 'colsample_bytree': 0.684299940755016, 'gamma': 0.3538233700849154, 'min_child_weight': 61, 'scale_pos_weight': 1, 'reg_alpha': 0.1, 'tree_method': 'approx', 'grow_policy': 'depthwise'}. Best is trial 1 with value: 0.502292666352788.\n",
      "[I 2025-03-26 11:59:51,108] Trial 3 finished with value: 0.5348270584194633 and parameters: {'n_estimators': 250, 'max_depth': 47, 'learning_rate': 0.014828769725232777, 'subsample': 0.882990898633959, 'colsample_bytree': 0.8475992668846625, 'gamma': 0.5429972479619469, 'min_child_weight': 43, 'scale_pos_weight': np.float64(1.2905829596412555), 'reg_alpha': 0, 'tree_method': 'approx', 'grow_policy': 'lossguide'}. Best is trial 3 with value: 0.5348270584194633.\n",
      "[I 2025-03-26 11:59:51,731] Trial 4 finished with value: 0.4858840362682127 and parameters: {'n_estimators': 300, 'max_depth': 33, 'learning_rate': 0.16877703939901098, 'subsample': 0.8099496800328617, 'colsample_bytree': 0.8068050921387633, 'gamma': 0.5536989882982809, 'min_child_weight': 63, 'scale_pos_weight': 1, 'reg_alpha': 0.1, 'tree_method': 'exact', 'grow_policy': 'depthwise'}. Best is trial 3 with value: 0.5348270584194633.\n",
      "[I 2025-03-26 11:59:53,035] Trial 5 finished with value: 0.45977411057273854 and parameters: {'n_estimators': 300, 'max_depth': 5, 'learning_rate': 0.0011238886992526367, 'subsample': 0.9070808235214434, 'colsample_bytree': 0.8876174785127472, 'gamma': 0.29071338983483874, 'min_child_weight': 67, 'scale_pos_weight': np.float64(1.2905829596412555), 'reg_alpha': 1, 'tree_method': 'approx', 'grow_policy': 'depthwise'}. Best is trial 3 with value: 0.5348270584194633.\n",
      "[I 2025-03-26 11:59:53,217] Trial 6 finished with value: 0.45163034259077683 and parameters: {'n_estimators': 200, 'max_depth': 47, 'learning_rate': 0.012520311886274218, 'subsample': 0.7035822600290627, 'colsample_bytree': 0.6466381218927586, 'gamma': 0.3747743997318662, 'min_child_weight': 45, 'scale_pos_weight': 1, 'reg_alpha': 0.5, 'tree_method': 'hist', 'grow_policy': 'depthwise'}. Best is trial 3 with value: 0.5348270584194633.\n",
      "[I 2025-03-26 11:59:53,408] Trial 7 finished with value: 0.37374173376856723 and parameters: {'n_estimators': 200, 'max_depth': 43, 'learning_rate': 0.004205899335009669, 'subsample': 0.9999018989997152, 'colsample_bytree': 0.5928579330774941, 'gamma': 0.2809962527368075, 'min_child_weight': 49, 'scale_pos_weight': 1, 'reg_alpha': 0.5, 'tree_method': 'hist', 'grow_policy': 'lossguide'}. Best is trial 3 with value: 0.5348270584194633.\n",
      "[I 2025-03-26 11:59:53,705] Trial 8 finished with value: 0.5195056197154154 and parameters: {'n_estimators': 150, 'max_depth': 33, 'learning_rate': 0.18086616985149806, 'subsample': 0.9944543219191011, 'colsample_bytree': 0.7043748489854706, 'gamma': 0.017010180133802844, 'min_child_weight': 15, 'scale_pos_weight': 1, 'reg_alpha': 0, 'tree_method': 'auto', 'grow_policy': 'lossguide'}. Best is trial 3 with value: 0.5348270584194633.\n",
      "[I 2025-03-26 11:59:54,219] Trial 9 finished with value: 0.5102302736075403 and parameters: {'n_estimators': 300, 'max_depth': 11, 'learning_rate': 0.1352606552530576, 'subsample': 0.9322516534383755, 'colsample_bytree': 0.6763390923483805, 'gamma': 0.3332637660932175, 'min_child_weight': 9, 'scale_pos_weight': 1, 'reg_alpha': 0.1, 'tree_method': 'auto', 'grow_policy': 'lossguide'}. Best is trial 3 with value: 0.5348270584194633.\n",
      "[I 2025-03-26 11:59:55,151] A new study created in memory with name: no-name-ad055d81-8242-40fb-a725-c40dab71b75b\n"
     ]
    },
    {
     "name": "stdout",
     "output_type": "stream",
     "text": [
      "Mejores parámetros: {'n_estimators': 250, 'max_depth': 47, 'learning_rate': 0.014828769725232777, 'subsample': 0.882990898633959, 'colsample_bytree': 0.8475992668846625, 'gamma': 0.5429972479619469, 'min_child_weight': 43, 'scale_pos_weight': np.float64(1.2905829596412555), 'reg_alpha': 0, 'tree_method': 'approx', 'grow_policy': 'lossguide'}\n",
      "aCC ACT: 0.5915492957746479\n",
      "MEJOR ACCURACY 0.596244131455399 - 31\n"
     ]
    },
    {
     "name": "stderr",
     "output_type": "stream",
     "text": [
      "[I 2025-03-26 11:59:55,897] Trial 0 finished with value: 0.46814413337236543 and parameters: {'n_estimators': 300, 'max_depth': 25, 'learning_rate': 0.014200891615699757, 'subsample': 0.6596712661808433, 'colsample_bytree': 0.9101389679097075, 'gamma': 0.3213640316096379, 'min_child_weight': 55, 'scale_pos_weight': 1, 'reg_alpha': 0.5, 'tree_method': 'exact', 'grow_policy': 'lossguide'}. Best is trial 0 with value: 0.46814413337236543.\n",
      "[I 2025-03-26 11:59:56,047] Trial 1 finished with value: 0.41133746773997865 and parameters: {'n_estimators': 200, 'max_depth': 11, 'learning_rate': 0.00867072307890973, 'subsample': 0.8084978231749705, 'colsample_bytree': 0.5042264351342172, 'gamma': 0.9631443532550444, 'min_child_weight': 61, 'scale_pos_weight': 1, 'reg_alpha': 0.1, 'tree_method': 'auto', 'grow_policy': 'depthwise'}. Best is trial 0 with value: 0.46814413337236543.\n",
      "[I 2025-03-26 11:59:57,784] Trial 2 finished with value: 0.5098336763617232 and parameters: {'n_estimators': 350, 'max_depth': 15, 'learning_rate': 0.035780934529589324, 'subsample': 0.7535532498793603, 'colsample_bytree': 0.6064016169076211, 'gamma': 0.16899291464630273, 'min_child_weight': 31, 'scale_pos_weight': 1, 'reg_alpha': 0.5, 'tree_method': 'approx', 'grow_policy': 'depthwise'}. Best is trial 2 with value: 0.5098336763617232.\n",
      "[I 2025-03-26 11:59:59,501] Trial 3 finished with value: 0.4765802978677048 and parameters: {'n_estimators': 400, 'max_depth': 45, 'learning_rate': 0.019861211691138966, 'subsample': 0.8621476694587, 'colsample_bytree': 0.5299549489758006, 'gamma': 0.8049821579712827, 'min_child_weight': 55, 'scale_pos_weight': 1, 'reg_alpha': 0, 'tree_method': 'approx', 'grow_policy': 'depthwise'}. Best is trial 2 with value: 0.5098336763617232.\n",
      "[I 2025-03-26 11:59:59,884] Trial 4 finished with value: 0.5005154360361214 and parameters: {'n_estimators': 300, 'max_depth': 25, 'learning_rate': 0.032043897248613645, 'subsample': 0.9064589644345499, 'colsample_bytree': 0.9208240516876306, 'gamma': 0.2743611576685989, 'min_child_weight': 33, 'scale_pos_weight': 1, 'reg_alpha': 0.1, 'tree_method': 'auto', 'grow_policy': 'lossguide'}. Best is trial 2 with value: 0.5098336763617232.\n",
      "[I 2025-03-26 12:00:00,950] Trial 5 finished with value: 0.41969057774652774 and parameters: {'n_estimators': 250, 'max_depth': 3, 'learning_rate': 0.0046224494148173235, 'subsample': 0.8841970142678008, 'colsample_bytree': 0.8087860239759995, 'gamma': 0.7968649095247811, 'min_child_weight': 17, 'scale_pos_weight': 1, 'reg_alpha': 1, 'tree_method': 'approx', 'grow_policy': 'lossguide'}. Best is trial 2 with value: 0.5098336763617232.\n",
      "[I 2025-03-26 12:00:01,524] Trial 6 finished with value: 0.48476352572947157 and parameters: {'n_estimators': 200, 'max_depth': 19, 'learning_rate': 0.01611578656420856, 'subsample': 0.7974089642464074, 'colsample_bytree': 0.5683890107732239, 'gamma': 0.8273143432323419, 'min_child_weight': 35, 'scale_pos_weight': 1, 'reg_alpha': 0.1, 'tree_method': 'exact', 'grow_policy': 'depthwise'}. Best is trial 2 with value: 0.5098336763617232.\n",
      "[I 2025-03-26 12:00:01,655] Trial 7 finished with value: 0.4364853888675924 and parameters: {'n_estimators': 150, 'max_depth': 21, 'learning_rate': 0.0018735799621327888, 'subsample': 0.7085249129366443, 'colsample_bytree': 0.5571278377382953, 'gamma': 0.05340391742297246, 'min_child_weight': 59, 'scale_pos_weight': np.float64(1.2905829596412555), 'reg_alpha': 0, 'tree_method': 'auto', 'grow_policy': 'depthwise'}. Best is trial 2 with value: 0.5098336763617232.\n",
      "[I 2025-03-26 12:00:02,159] Trial 8 finished with value: 0.5267182530154572 and parameters: {'n_estimators': 500, 'max_depth': 27, 'learning_rate': 0.0019581698931923045, 'subsample': 0.9406963652156854, 'colsample_bytree': 0.7951663695957718, 'gamma': 0.67523996530873, 'min_child_weight': 47, 'scale_pos_weight': np.float64(1.2905829596412555), 'reg_alpha': 0, 'tree_method': 'auto', 'grow_policy': 'lossguide'}. Best is trial 8 with value: 0.5267182530154572.\n",
      "[I 2025-03-26 12:00:02,360] Trial 9 finished with value: 0.3581489377629863 and parameters: {'n_estimators': 200, 'max_depth': 25, 'learning_rate': 0.0014841610735278569, 'subsample': 0.7755388303316088, 'colsample_bytree': 0.5991508196846427, 'gamma': 0.004246322971503513, 'min_child_weight': 35, 'scale_pos_weight': 1, 'reg_alpha': 0, 'tree_method': 'hist', 'grow_policy': 'depthwise'}. Best is trial 8 with value: 0.5267182530154572.\n",
      "[I 2025-03-26 12:00:02,805] A new study created in memory with name: no-name-19eed69b-653a-42a1-8536-bf26c2ab6282\n"
     ]
    },
    {
     "name": "stdout",
     "output_type": "stream",
     "text": [
      "Mejores parámetros: {'n_estimators': 500, 'max_depth': 27, 'learning_rate': 0.0019581698931923045, 'subsample': 0.9406963652156854, 'colsample_bytree': 0.7951663695957718, 'gamma': 0.67523996530873, 'min_child_weight': 47, 'scale_pos_weight': np.float64(1.2905829596412555), 'reg_alpha': 0, 'tree_method': 'auto', 'grow_policy': 'lossguide'}\n",
      "aCC ACT: 0.5837245696400626\n",
      "MEJOR ACCURACY 0.596244131455399 - 31\n"
     ]
    },
    {
     "name": "stderr",
     "output_type": "stream",
     "text": [
      "[I 2025-03-26 12:00:04,826] Trial 0 finished with value: 0.46239477498194737 and parameters: {'n_estimators': 300, 'max_depth': 35, 'learning_rate': 0.004178078517866253, 'subsample': 0.8697927498755968, 'colsample_bytree': 0.9540360416566575, 'gamma': 0.6851502041594073, 'min_child_weight': 15, 'scale_pos_weight': 1, 'reg_alpha': 0.1, 'tree_method': 'exact', 'grow_policy': 'lossguide'}. Best is trial 0 with value: 0.46239477498194737.\n",
      "[I 2025-03-26 12:00:04,935] Trial 1 finished with value: 0.471910389915999 and parameters: {'n_estimators': 100, 'max_depth': 35, 'learning_rate': 0.004661276762217342, 'subsample': 0.7290879221385226, 'colsample_bytree': 0.7088549574637508, 'gamma': 0.4863959967781434, 'min_child_weight': 65, 'scale_pos_weight': np.float64(1.2905829596412555), 'reg_alpha': 1, 'tree_method': 'auto', 'grow_policy': 'lossguide'}. Best is trial 1 with value: 0.471910389915999.\n",
      "[I 2025-03-26 12:00:05,424] Trial 2 finished with value: 0.5068328711004986 and parameters: {'n_estimators': 100, 'max_depth': 9, 'learning_rate': 0.1522407795759854, 'subsample': 0.989717568026983, 'colsample_bytree': 0.5383935850622179, 'gamma': 0.8213043676448463, 'min_child_weight': 7, 'scale_pos_weight': 1, 'reg_alpha': 1, 'tree_method': 'exact', 'grow_policy': 'lossguide'}. Best is trial 2 with value: 0.5068328711004986.\n",
      "[I 2025-03-26 12:00:05,819] Trial 3 finished with value: 0.42723523391833196 and parameters: {'n_estimators': 350, 'max_depth': 49, 'learning_rate': 0.004119143182807425, 'subsample': 0.9305599175145729, 'colsample_bytree': 0.9845049131815481, 'gamma': 0.6542334437761992, 'min_child_weight': 41, 'scale_pos_weight': 1, 'reg_alpha': 0.1, 'tree_method': 'auto', 'grow_policy': 'lossguide'}. Best is trial 2 with value: 0.5068328711004986.\n",
      "[I 2025-03-26 12:00:06,331] Trial 4 finished with value: 0.5332240245836062 and parameters: {'n_estimators': 300, 'max_depth': 45, 'learning_rate': 0.018975463016070716, 'subsample': 0.9397710918680598, 'colsample_bytree': 0.7330467618089882, 'gamma': 0.19572575509783163, 'min_child_weight': 21, 'scale_pos_weight': np.float64(1.2905829596412555), 'reg_alpha': 0, 'tree_method': 'hist', 'grow_policy': 'lossguide'}. Best is trial 4 with value: 0.5332240245836062.\n",
      "[I 2025-03-26 12:00:06,512] Trial 5 finished with value: 0.49200477815066057 and parameters: {'n_estimators': 150, 'max_depth': 39, 'learning_rate': 0.03409001806287728, 'subsample': 0.9245950662260989, 'colsample_bytree': 0.8294443172765688, 'gamma': 0.3254232308112296, 'min_child_weight': 47, 'scale_pos_weight': 1, 'reg_alpha': 0.5, 'tree_method': 'hist', 'grow_policy': 'lossguide'}. Best is trial 4 with value: 0.5332240245836062.\n",
      "[I 2025-03-26 12:00:06,807] Trial 6 finished with value: 0.5252483541553172 and parameters: {'n_estimators': 450, 'max_depth': 3, 'learning_rate': 0.05401004702866455, 'subsample': 0.8879987177905544, 'colsample_bytree': 0.6106580493926883, 'gamma': 0.754112558415813, 'min_child_weight': 15, 'scale_pos_weight': np.float64(1.2905829596412555), 'reg_alpha': 0.5, 'tree_method': 'hist', 'grow_policy': 'lossguide'}. Best is trial 4 with value: 0.5332240245836062.\n",
      "[I 2025-03-26 12:00:08,185] Trial 7 finished with value: 0.4818154476056966 and parameters: {'n_estimators': 300, 'max_depth': 5, 'learning_rate': 0.012790191887124889, 'subsample': 0.8282292811275355, 'colsample_bytree': 0.8068744893830768, 'gamma': 0.6172618016953183, 'min_child_weight': 31, 'scale_pos_weight': 1, 'reg_alpha': 0, 'tree_method': 'approx', 'grow_policy': 'depthwise'}. Best is trial 4 with value: 0.5332240245836062.\n",
      "[I 2025-03-26 12:00:08,521] Trial 8 finished with value: 0.4914309051090783 and parameters: {'n_estimators': 500, 'max_depth': 19, 'learning_rate': 0.06101422812820561, 'subsample': 0.6967087900996369, 'colsample_bytree': 0.8519936467152915, 'gamma': 0.16057726579085174, 'min_child_weight': 67, 'scale_pos_weight': 1, 'reg_alpha': 0, 'tree_method': 'auto', 'grow_policy': 'depthwise'}. Best is trial 4 with value: 0.5332240245836062.\n",
      "[I 2025-03-26 12:00:09,151] Trial 9 finished with value: 0.3581489377629863 and parameters: {'n_estimators': 150, 'max_depth': 3, 'learning_rate': 0.0012297826461141112, 'subsample': 0.7969161676042206, 'colsample_bytree': 0.5802743999071305, 'gamma': 0.5710903370166033, 'min_child_weight': 7, 'scale_pos_weight': 1, 'reg_alpha': 0.1, 'tree_method': 'approx', 'grow_policy': 'depthwise'}. Best is trial 4 with value: 0.5332240245836062.\n",
      "[I 2025-03-26 12:00:09,720] A new study created in memory with name: no-name-8149c7ce-14ec-40fa-87b1-3b554ce88773\n"
     ]
    },
    {
     "name": "stdout",
     "output_type": "stream",
     "text": [
      "Mejores parámetros: {'n_estimators': 300, 'max_depth': 45, 'learning_rate': 0.018975463016070716, 'subsample': 0.9397710918680598, 'colsample_bytree': 0.7330467618089882, 'gamma': 0.19572575509783163, 'min_child_weight': 21, 'scale_pos_weight': np.float64(1.2905829596412555), 'reg_alpha': 0, 'tree_method': 'hist', 'grow_policy': 'lossguide'}\n",
      "aCC ACT: 0.5837245696400626\n",
      "MEJOR ACCURACY 0.596244131455399 - 31\n"
     ]
    },
    {
     "name": "stderr",
     "output_type": "stream",
     "text": [
      "[I 2025-03-26 12:00:10,199] Trial 0 finished with value: 0.5078265367643868 and parameters: {'n_estimators': 250, 'max_depth': 19, 'learning_rate': 0.14031558551165413, 'subsample': 0.9655276742580106, 'colsample_bytree': 0.918732364188197, 'gamma': 0.05948806572490595, 'min_child_weight': 17, 'scale_pos_weight': 1, 'reg_alpha': 0, 'tree_method': 'auto', 'grow_policy': 'lossguide'}. Best is trial 0 with value: 0.5078265367643868.\n",
      "[I 2025-03-26 12:00:10,504] Trial 1 finished with value: 0.503539655448005 and parameters: {'n_estimators': 400, 'max_depth': 47, 'learning_rate': 0.02739892673586709, 'subsample': 0.7672269878911949, 'colsample_bytree': 0.9469710542017014, 'gamma': 0.3256363323022652, 'min_child_weight': 69, 'scale_pos_weight': np.float64(1.2905829596412555), 'reg_alpha': 0, 'tree_method': 'hist', 'grow_policy': 'lossguide'}. Best is trial 0 with value: 0.5078265367643868.\n",
      "[I 2025-03-26 12:00:11,317] Trial 2 finished with value: 0.5033520092857926 and parameters: {'n_estimators': 100, 'max_depth': 37, 'learning_rate': 0.004635435830940514, 'subsample': 0.8070844451375232, 'colsample_bytree': 0.6078341567442691, 'gamma': 0.3706378578800389, 'min_child_weight': 25, 'scale_pos_weight': np.float64(1.2905829596412555), 'reg_alpha': 0.5, 'tree_method': 'approx', 'grow_policy': 'lossguide'}. Best is trial 0 with value: 0.5078265367643868.\n",
      "[I 2025-03-26 12:00:12,953] Trial 3 finished with value: 0.5190233731191672 and parameters: {'n_estimators': 400, 'max_depth': 3, 'learning_rate': 0.048373533447581336, 'subsample': 0.6348150876539063, 'colsample_bytree': 0.5876415180944501, 'gamma': 0.7311330977713065, 'min_child_weight': 31, 'scale_pos_weight': np.float64(1.2905829596412555), 'reg_alpha': 0, 'tree_method': 'approx', 'grow_policy': 'depthwise'}. Best is trial 3 with value: 0.5190233731191672.\n",
      "[I 2025-03-26 12:00:13,228] Trial 4 finished with value: 0.3581489377629863 and parameters: {'n_estimators': 300, 'max_depth': 21, 'learning_rate': 0.0012415762450816113, 'subsample': 0.8593664263603753, 'colsample_bytree': 0.5532768899758215, 'gamma': 0.9437048785644078, 'min_child_weight': 39, 'scale_pos_weight': 1, 'reg_alpha': 0, 'tree_method': 'auto', 'grow_policy': 'lossguide'}. Best is trial 3 with value: 0.5190233731191672.\n",
      "[I 2025-03-26 12:00:13,543] Trial 5 finished with value: 0.5289022715195097 and parameters: {'n_estimators': 350, 'max_depth': 31, 'learning_rate': 0.057222435160095966, 'subsample': 0.6185530597440251, 'colsample_bytree': 0.72611064568488, 'gamma': 0.9246889028551414, 'min_child_weight': 37, 'scale_pos_weight': np.float64(1.2905829596412555), 'reg_alpha': 0, 'tree_method': 'auto', 'grow_policy': 'lossguide'}. Best is trial 5 with value: 0.5289022715195097.\n",
      "[I 2025-03-26 12:00:13,819] Trial 6 finished with value: 0.5094694016813011 and parameters: {'n_estimators': 400, 'max_depth': 25, 'learning_rate': 0.05077077967475736, 'subsample': 0.6929796664391638, 'colsample_bytree': 0.5538090181517651, 'gamma': 0.18197375163870444, 'min_child_weight': 59, 'scale_pos_weight': np.float64(1.2905829596412555), 'reg_alpha': 0.5, 'tree_method': 'hist', 'grow_policy': 'lossguide'}. Best is trial 5 with value: 0.5289022715195097.\n",
      "[I 2025-03-26 12:00:13,919] Trial 7 finished with value: 0.47598430328362556 and parameters: {'n_estimators': 100, 'max_depth': 33, 'learning_rate': 0.004781020049094421, 'subsample': 0.6924714772000147, 'colsample_bytree': 0.5159475815397445, 'gamma': 0.12025308283921476, 'min_child_weight': 51, 'scale_pos_weight': np.float64(1.2905829596412555), 'reg_alpha': 0.1, 'tree_method': 'hist', 'grow_policy': 'depthwise'}. Best is trial 5 with value: 0.5289022715195097.\n",
      "[I 2025-03-26 12:00:14,122] Trial 8 finished with value: 0.5404793341256378 and parameters: {'n_estimators': 150, 'max_depth': 43, 'learning_rate': 0.018475329386506367, 'subsample': 0.9848550899483745, 'colsample_bytree': 0.7610954597209469, 'gamma': 0.42883746694439284, 'min_child_weight': 39, 'scale_pos_weight': np.float64(1.2905829596412555), 'reg_alpha': 0.5, 'tree_method': 'auto', 'grow_policy': 'depthwise'}. Best is trial 8 with value: 0.5404793341256378.\n",
      "[I 2025-03-26 12:00:14,416] Trial 9 finished with value: 0.47348215395409243 and parameters: {'n_estimators': 500, 'max_depth': 33, 'learning_rate': 0.1387561213271156, 'subsample': 0.6219716452646575, 'colsample_bytree': 0.7756007127332436, 'gamma': 0.2056526941411012, 'min_child_weight': 67, 'scale_pos_weight': 1, 'reg_alpha': 0.1, 'tree_method': 'hist', 'grow_policy': 'depthwise'}. Best is trial 8 with value: 0.5404793341256378.\n",
      "[I 2025-03-26 12:00:14,575] A new study created in memory with name: no-name-9a26da80-1a3f-474f-9ee5-cb9e37d79917\n"
     ]
    },
    {
     "name": "stdout",
     "output_type": "stream",
     "text": [
      "Mejores parámetros: {'n_estimators': 150, 'max_depth': 43, 'learning_rate': 0.018475329386506367, 'subsample': 0.9848550899483745, 'colsample_bytree': 0.7610954597209469, 'gamma': 0.42883746694439284, 'min_child_weight': 39, 'scale_pos_weight': np.float64(1.2905829596412555), 'reg_alpha': 0.5, 'tree_method': 'auto', 'grow_policy': 'depthwise'}\n",
      "aCC ACT: 0.594679186228482\n",
      "MEJOR ACCURACY 0.596244131455399 - 31\n"
     ]
    },
    {
     "name": "stderr",
     "output_type": "stream",
     "text": [
      "[I 2025-03-26 12:00:14,787] Trial 0 finished with value: 0.47616687768896054 and parameters: {'n_estimators': 200, 'max_depth': 33, 'learning_rate': 0.027265332725390716, 'subsample': 0.9112169229261664, 'colsample_bytree': 0.73905676475025, 'gamma': 0.9591338854888071, 'min_child_weight': 69, 'scale_pos_weight': 1, 'reg_alpha': 1, 'tree_method': 'auto', 'grow_policy': 'depthwise'}. Best is trial 0 with value: 0.47616687768896054.\n",
      "[I 2025-03-26 12:00:16,239] Trial 1 finished with value: 0.49539235734574627 and parameters: {'n_estimators': 100, 'max_depth': 43, 'learning_rate': 0.02254675324306361, 'subsample': 0.6306262054643982, 'colsample_bytree': 0.6720539602879345, 'gamma': 0.36634304351789815, 'min_child_weight': 1, 'scale_pos_weight': 1, 'reg_alpha': 1, 'tree_method': 'auto', 'grow_policy': 'lossguide'}. Best is trial 1 with value: 0.49539235734574627.\n",
      "[I 2025-03-26 12:00:38,527] Trial 2 finished with value: 0.5299601537327595 and parameters: {'n_estimators': 500, 'max_depth': 7, 'learning_rate': 0.004011586128297052, 'subsample': 0.6530680957159576, 'colsample_bytree': 0.8604026345195939, 'gamma': 0.1913376111649423, 'min_child_weight': 1, 'scale_pos_weight': np.float64(1.2905829596412555), 'reg_alpha': 0, 'tree_method': 'approx', 'grow_policy': 'lossguide'}. Best is trial 2 with value: 0.5299601537327595.\n",
      "[I 2025-03-26 12:00:38,668] Trial 3 finished with value: 0.4974528955410838 and parameters: {'n_estimators': 150, 'max_depth': 41, 'learning_rate': 0.00843565291740587, 'subsample': 0.6928533675693089, 'colsample_bytree': 0.5599633482617183, 'gamma': 0.3332413948066064, 'min_child_weight': 51, 'scale_pos_weight': np.float64(1.2905829596412555), 'reg_alpha': 1, 'tree_method': 'hist', 'grow_policy': 'depthwise'}. Best is trial 2 with value: 0.5299601537327595.\n",
      "[I 2025-03-26 12:00:38,972] Trial 4 finished with value: 0.5052411256431502 and parameters: {'n_estimators': 100, 'max_depth': 11, 'learning_rate': 0.02212784918343666, 'subsample': 0.6881412486466667, 'colsample_bytree': 0.893223855849379, 'gamma': 0.2765381213164766, 'min_child_weight': 51, 'scale_pos_weight': np.float64(1.2905829596412555), 'reg_alpha': 0.1, 'tree_method': 'exact', 'grow_policy': 'depthwise'}. Best is trial 2 with value: 0.5299601537327595.\n",
      "[I 2025-03-26 12:00:39,354] Trial 5 finished with value: 0.4787310589119233 and parameters: {'n_estimators': 500, 'max_depth': 35, 'learning_rate': 0.09404234944965809, 'subsample': 0.9009552045229245, 'colsample_bytree': 0.8084241285458719, 'gamma': 0.807301179799587, 'min_child_weight': 53, 'scale_pos_weight': 1, 'reg_alpha': 1, 'tree_method': 'hist', 'grow_policy': 'depthwise'}. Best is trial 2 with value: 0.5299601537327595.\n",
      "[I 2025-03-26 12:00:41,348] Trial 6 finished with value: 0.4971884495165527 and parameters: {'n_estimators': 450, 'max_depth': 7, 'learning_rate': 0.07178311326530595, 'subsample': 0.7374194692479363, 'colsample_bytree': 0.5702695801675055, 'gamma': 0.12865998750495966, 'min_child_weight': 37, 'scale_pos_weight': 1, 'reg_alpha': 1, 'tree_method': 'approx', 'grow_policy': 'depthwise'}. Best is trial 2 with value: 0.5299601537327595.\n",
      "[I 2025-03-26 12:00:41,689] Trial 7 finished with value: 0.49291815702128483 and parameters: {'n_estimators': 500, 'max_depth': 15, 'learning_rate': 0.05985742035870052, 'subsample': 0.9937992459911791, 'colsample_bytree': 0.5334225582004337, 'gamma': 0.019407164738009297, 'min_child_weight': 65, 'scale_pos_weight': 1, 'reg_alpha': 0, 'tree_method': 'hist', 'grow_policy': 'lossguide'}. Best is trial 2 with value: 0.5299601537327595.\n",
      "[I 2025-03-26 12:00:41,913] Trial 8 finished with value: 0.5160076996939001 and parameters: {'n_estimators': 200, 'max_depth': 33, 'learning_rate': 0.0048468285746634905, 'subsample': 0.7114709859475575, 'colsample_bytree': 0.9467895631184482, 'gamma': 0.6403028726515521, 'min_child_weight': 39, 'scale_pos_weight': np.float64(1.2905829596412555), 'reg_alpha': 1, 'tree_method': 'hist', 'grow_policy': 'lossguide'}. Best is trial 2 with value: 0.5299601537327595.\n",
      "[I 2025-03-26 12:00:42,139] Trial 9 finished with value: 0.48644269182790695 and parameters: {'n_estimators': 300, 'max_depth': 33, 'learning_rate': 0.18883547412569696, 'subsample': 0.8736792304717839, 'colsample_bytree': 0.5420010001127059, 'gamma': 0.1617030417947687, 'min_child_weight': 53, 'scale_pos_weight': 1, 'reg_alpha': 1, 'tree_method': 'hist', 'grow_policy': 'lossguide'}. Best is trial 2 with value: 0.5299601537327595.\n",
      "[I 2025-03-26 12:00:59,704] A new study created in memory with name: no-name-e9b6ac10-e9a1-4f56-9a72-1021b298f0b9\n"
     ]
    },
    {
     "name": "stdout",
     "output_type": "stream",
     "text": [
      "Mejores parámetros: {'n_estimators': 500, 'max_depth': 7, 'learning_rate': 0.004011586128297052, 'subsample': 0.6530680957159576, 'colsample_bytree': 0.8604026345195939, 'gamma': 0.1913376111649423, 'min_child_weight': 1, 'scale_pos_weight': np.float64(1.2905829596412555), 'reg_alpha': 0, 'tree_method': 'approx', 'grow_policy': 'lossguide'}\n",
      "aCC ACT: 0.5821596244131455\n",
      "MEJOR ACCURACY 0.596244131455399 - 31\n"
     ]
    },
    {
     "name": "stderr",
     "output_type": "stream",
     "text": [
      "[I 2025-03-26 12:01:00,042] Trial 0 finished with value: 0.511468790765169 and parameters: {'n_estimators': 200, 'max_depth': 35, 'learning_rate': 0.03365577460674779, 'subsample': 0.9108521737865599, 'colsample_bytree': 0.9136833141677292, 'gamma': 0.35668414373484536, 'min_child_weight': 27, 'scale_pos_weight': 1, 'reg_alpha': 0.1, 'tree_method': 'auto', 'grow_policy': 'depthwise'}. Best is trial 0 with value: 0.511468790765169.\n",
      "[I 2025-03-26 12:01:00,487] Trial 1 finished with value: 0.35794990343073474 and parameters: {'n_estimators': 500, 'max_depth': 11, 'learning_rate': 0.0011558541032458702, 'subsample': 0.6948733556960359, 'colsample_bytree': 0.8598782972193062, 'gamma': 0.26922008465374936, 'min_child_weight': 39, 'scale_pos_weight': 1, 'reg_alpha': 0, 'tree_method': 'hist', 'grow_policy': 'depthwise'}. Best is trial 0 with value: 0.511468790765169.\n",
      "[I 2025-03-26 12:01:00,905] Trial 2 finished with value: 0.4780844357217992 and parameters: {'n_estimators': 150, 'max_depth': 37, 'learning_rate': 0.032490756765384744, 'subsample': 0.8444898498348032, 'colsample_bytree': 0.7499395170289425, 'gamma': 0.9992562383634364, 'min_child_weight': 51, 'scale_pos_weight': 1, 'reg_alpha': 1, 'tree_method': 'exact', 'grow_policy': 'depthwise'}. Best is trial 0 with value: 0.511468790765169.\n",
      "[I 2025-03-26 12:01:01,254] Trial 3 finished with value: 0.4043478449810253 and parameters: {'n_estimators': 300, 'max_depth': 9, 'learning_rate': 0.0037294489941898964, 'subsample': 0.9588036695371378, 'colsample_bytree': 0.8224849782859216, 'gamma': 0.7990403864693919, 'min_child_weight': 39, 'scale_pos_weight': 1, 'reg_alpha': 0.5, 'tree_method': 'hist', 'grow_policy': 'depthwise'}. Best is trial 0 with value: 0.511468790765169.\n",
      "[I 2025-03-26 12:01:01,635] Trial 4 finished with value: 0.3581489377629863 and parameters: {'n_estimators': 450, 'max_depth': 27, 'learning_rate': 0.0011588878726940222, 'subsample': 0.6852598438593934, 'colsample_bytree': 0.7461324578369639, 'gamma': 0.13164590294839118, 'min_child_weight': 39, 'scale_pos_weight': 1, 'reg_alpha': 0.5, 'tree_method': 'hist', 'grow_policy': 'lossguide'}. Best is trial 0 with value: 0.511468790765169.\n",
      "[I 2025-03-26 12:01:02,105] Trial 5 finished with value: 0.5105077810073546 and parameters: {'n_estimators': 450, 'max_depth': 37, 'learning_rate': 0.0014336973813872222, 'subsample': 0.8447531309789196, 'colsample_bytree': 0.5535145842738782, 'gamma': 0.42050532125791784, 'min_child_weight': 31, 'scale_pos_weight': np.float64(1.2905829596412555), 'reg_alpha': 0, 'tree_method': 'hist', 'grow_policy': 'depthwise'}. Best is trial 0 with value: 0.511468790765169.\n",
      "[I 2025-03-26 12:01:03,972] Trial 6 finished with value: 0.4921100048315664 and parameters: {'n_estimators': 450, 'max_depth': 23, 'learning_rate': 0.02719600031037819, 'subsample': 0.71048658036417, 'colsample_bytree': 0.7000027491737533, 'gamma': 0.1190304498692043, 'min_child_weight': 65, 'scale_pos_weight': np.float64(1.2905829596412555), 'reg_alpha': 0.5, 'tree_method': 'approx', 'grow_policy': 'depthwise'}. Best is trial 0 with value: 0.511468790765169.\n",
      "[I 2025-03-26 12:01:05,151] Trial 7 finished with value: 0.5026394174439439 and parameters: {'n_estimators': 150, 'max_depth': 11, 'learning_rate': 0.0022180137351521813, 'subsample': 0.7500848160095286, 'colsample_bytree': 0.9228020975116371, 'gamma': 0.6017692858239941, 'min_child_weight': 7, 'scale_pos_weight': np.float64(1.2905829596412555), 'reg_alpha': 0, 'tree_method': 'exact', 'grow_policy': 'lossguide'}. Best is trial 0 with value: 0.511468790765169.\n",
      "[I 2025-03-26 12:01:07,649] Trial 8 finished with value: 0.5233290280470271 and parameters: {'n_estimators': 250, 'max_depth': 9, 'learning_rate': 0.01715016782660875, 'subsample': 0.882414833960995, 'colsample_bytree': 0.9490423318364308, 'gamma': 0.015346382420000082, 'min_child_weight': 9, 'scale_pos_weight': np.float64(1.2905829596412555), 'reg_alpha': 0, 'tree_method': 'approx', 'grow_policy': 'depthwise'}. Best is trial 8 with value: 0.5233290280470271.\n",
      "[I 2025-03-26 12:01:07,747] Trial 9 finished with value: 0.3581489377629863 and parameters: {'n_estimators': 100, 'max_depth': 35, 'learning_rate': 0.0010580557524772702, 'subsample': 0.8840730830027208, 'colsample_bytree': 0.8362375521714864, 'gamma': 0.621570189586627, 'min_child_weight': 67, 'scale_pos_weight': 1, 'reg_alpha': 0.1, 'tree_method': 'auto', 'grow_policy': 'lossguide'}. Best is trial 8 with value: 0.5233290280470271.\n",
      "[I 2025-03-26 12:01:09,372] A new study created in memory with name: no-name-3ddbcaba-6c3b-4dcd-9e88-9ac00066fa26\n"
     ]
    },
    {
     "name": "stdout",
     "output_type": "stream",
     "text": [
      "Mejores parámetros: {'n_estimators': 250, 'max_depth': 9, 'learning_rate': 0.01715016782660875, 'subsample': 0.882414833960995, 'colsample_bytree': 0.9490423318364308, 'gamma': 0.015346382420000082, 'min_child_weight': 9, 'scale_pos_weight': np.float64(1.2905829596412555), 'reg_alpha': 0, 'tree_method': 'approx', 'grow_policy': 'depthwise'}\n",
      "aCC ACT: 0.5805946791862285\n",
      "MEJOR ACCURACY 0.596244131455399 - 31\n"
     ]
    },
    {
     "name": "stderr",
     "output_type": "stream",
     "text": [
      "[I 2025-03-26 12:01:09,778] Trial 0 finished with value: 0.518573302411526 and parameters: {'n_estimators': 100, 'max_depth': 19, 'learning_rate': 0.0036106184912338174, 'subsample': 0.851392002017834, 'colsample_bytree': 0.9950550300134584, 'gamma': 0.13058804925830658, 'min_child_weight': 13, 'scale_pos_weight': np.float64(1.2905829596412555), 'reg_alpha': 1, 'tree_method': 'hist', 'grow_policy': 'lossguide'}. Best is trial 0 with value: 0.518573302411526.\n",
      "[I 2025-03-26 12:01:09,888] Trial 1 finished with value: 0.3581489377629863 and parameters: {'n_estimators': 100, 'max_depth': 31, 'learning_rate': 0.0025759819355111605, 'subsample': 0.6296708237363237, 'colsample_bytree': 0.9979663698379356, 'gamma': 0.35627397742102374, 'min_child_weight': 59, 'scale_pos_weight': 1, 'reg_alpha': 0, 'tree_method': 'hist', 'grow_policy': 'lossguide'}. Best is trial 0 with value: 0.518573302411526.\n",
      "[I 2025-03-26 12:01:10,134] Trial 2 finished with value: 0.3581489377629863 and parameters: {'n_estimators': 200, 'max_depth': 11, 'learning_rate': 0.00217122143725408, 'subsample': 0.8746903969022054, 'colsample_bytree': 0.9973095510627303, 'gamma': 0.2847570785829092, 'min_child_weight': 39, 'scale_pos_weight': 1, 'reg_alpha': 0.1, 'tree_method': 'auto', 'grow_policy': 'lossguide'}. Best is trial 0 with value: 0.518573302411526.\n",
      "[I 2025-03-26 12:01:10,530] Trial 3 finished with value: 0.4839762549684548 and parameters: {'n_estimators': 200, 'max_depth': 3, 'learning_rate': 0.04046397016389823, 'subsample': 0.9229371122287816, 'colsample_bytree': 0.8211714106012855, 'gamma': 0.5275040664594688, 'min_child_weight': 59, 'scale_pos_weight': 1, 'reg_alpha': 0.1, 'tree_method': 'exact', 'grow_policy': 'lossguide'}. Best is trial 0 with value: 0.518573302411526.\n",
      "[I 2025-03-26 12:01:12,550] Trial 4 finished with value: 0.5216511424177257 and parameters: {'n_estimators': 150, 'max_depth': 27, 'learning_rate': 0.004474418361526152, 'subsample': 0.9808189554750517, 'colsample_bytree': 0.7374261865320445, 'gamma': 0.2600393092709684, 'min_child_weight': 21, 'scale_pos_weight': np.float64(1.2905829596412555), 'reg_alpha': 0.1, 'tree_method': 'approx', 'grow_policy': 'lossguide'}. Best is trial 4 with value: 0.5216511424177257.\n",
      "[I 2025-03-26 12:01:14,200] Trial 5 finished with value: 0.51065147304633 and parameters: {'n_estimators': 300, 'max_depth': 23, 'learning_rate': 0.04393110080753917, 'subsample': 0.7270629364448521, 'colsample_bytree': 0.6618855952026026, 'gamma': 0.8280584915187713, 'min_child_weight': 27, 'scale_pos_weight': 1, 'reg_alpha': 1, 'tree_method': 'approx', 'grow_policy': 'lossguide'}. Best is trial 4 with value: 0.5216511424177257.\n",
      "[I 2025-03-26 12:01:14,455] Trial 6 finished with value: 0.49971304486794865 and parameters: {'n_estimators': 250, 'max_depth': 33, 'learning_rate': 0.030965306034253168, 'subsample': 0.6313725234013301, 'colsample_bytree': 0.7458085612277552, 'gamma': 0.9690412131218746, 'min_child_weight': 29, 'scale_pos_weight': 1, 'reg_alpha': 0.1, 'tree_method': 'hist', 'grow_policy': 'lossguide'}. Best is trial 4 with value: 0.5216511424177257.\n",
      "[I 2025-03-26 12:01:16,959] Trial 7 finished with value: 0.5251674710333303 and parameters: {'n_estimators': 350, 'max_depth': 49, 'learning_rate': 0.002677247650722691, 'subsample': 0.838495894309984, 'colsample_bytree': 0.7973094353276959, 'gamma': 0.08714522304963968, 'min_child_weight': 9, 'scale_pos_weight': np.float64(1.2905829596412555), 'reg_alpha': 0.5, 'tree_method': 'exact', 'grow_policy': 'lossguide'}. Best is trial 7 with value: 0.5251674710333303.\n",
      "[I 2025-03-26 12:01:17,468] Trial 8 finished with value: 0.48518743877410175 and parameters: {'n_estimators': 450, 'max_depth': 23, 'learning_rate': 0.007944945897435446, 'subsample': 0.6398634592188722, 'colsample_bytree': 0.9909532666679608, 'gamma': 0.7955549264036139, 'min_child_weight': 27, 'scale_pos_weight': 1, 'reg_alpha': 0.5, 'tree_method': 'hist', 'grow_policy': 'lossguide'}. Best is trial 7 with value: 0.5251674710333303.\n",
      "[I 2025-03-26 12:01:18,589] Trial 9 finished with value: 0.4946543109371103 and parameters: {'n_estimators': 300, 'max_depth': 25, 'learning_rate': 0.013169555843249001, 'subsample': 0.6196136882341087, 'colsample_bytree': 0.698135474468582, 'gamma': 0.2795926440627421, 'min_child_weight': 17, 'scale_pos_weight': 1, 'reg_alpha': 0, 'tree_method': 'exact', 'grow_policy': 'depthwise'}. Best is trial 7 with value: 0.5251674710333303.\n",
      "[I 2025-03-26 12:01:19,298] A new study created in memory with name: no-name-0d3c8849-b7d2-487d-8321-0f136dfe7b5e\n"
     ]
    },
    {
     "name": "stdout",
     "output_type": "stream",
     "text": [
      "Mejores parámetros: {'n_estimators': 350, 'max_depth': 49, 'learning_rate': 0.002677247650722691, 'subsample': 0.838495894309984, 'colsample_bytree': 0.7973094353276959, 'gamma': 0.08714522304963968, 'min_child_weight': 9, 'scale_pos_weight': np.float64(1.2905829596412555), 'reg_alpha': 0.5, 'tree_method': 'exact', 'grow_policy': 'lossguide'}\n",
      "aCC ACT: 0.5727699530516432\n",
      "MEJOR ACCURACY 0.596244131455399 - 31\n"
     ]
    },
    {
     "name": "stderr",
     "output_type": "stream",
     "text": [
      "[I 2025-03-26 12:01:19,786] Trial 0 finished with value: 0.541834092195552 and parameters: {'n_estimators': 350, 'max_depth': 27, 'learning_rate': 0.004855906623982437, 'subsample': 0.8615194849570382, 'colsample_bytree': 0.6367532671761333, 'gamma': 0.5231260783500342, 'min_child_weight': 27, 'scale_pos_weight': np.float64(1.2905829596412555), 'reg_alpha': 0.1, 'tree_method': 'auto', 'grow_policy': 'depthwise'}. Best is trial 0 with value: 0.541834092195552.\n",
      "[I 2025-03-26 12:01:20,147] Trial 1 finished with value: 0.48685514186354617 and parameters: {'n_estimators': 100, 'max_depth': 21, 'learning_rate': 0.038524510300269814, 'subsample': 0.9340813223538392, 'colsample_bytree': 0.6578942427996215, 'gamma': 0.7191891106459886, 'min_child_weight': 35, 'scale_pos_weight': 1, 'reg_alpha': 1, 'tree_method': 'exact', 'grow_policy': 'lossguide'}. Best is trial 0 with value: 0.541834092195552.\n",
      "[I 2025-03-26 12:01:20,310] Trial 2 finished with value: 0.45498176069195895 and parameters: {'n_estimators': 200, 'max_depth': 7, 'learning_rate': 0.01607250834405618, 'subsample': 0.9467007844446012, 'colsample_bytree': 0.7098162012758289, 'gamma': 0.21988407265926568, 'min_child_weight': 69, 'scale_pos_weight': 1, 'reg_alpha': 0.1, 'tree_method': 'hist', 'grow_policy': 'depthwise'}. Best is trial 0 with value: 0.541834092195552.\n",
      "[I 2025-03-26 12:01:21,768] Trial 3 finished with value: 0.5124283621374335 and parameters: {'n_estimators': 500, 'max_depth': 45, 'learning_rate': 0.0179485477423817, 'subsample': 0.8726790663005422, 'colsample_bytree': 0.5964045830490521, 'gamma': 0.8229606463697874, 'min_child_weight': 7, 'scale_pos_weight': 1, 'reg_alpha': 0, 'tree_method': 'auto', 'grow_policy': 'depthwise'}. Best is trial 0 with value: 0.541834092195552.\n",
      "[I 2025-03-26 12:01:23,272] Trial 4 finished with value: 0.5158710306218192 and parameters: {'n_estimators': 350, 'max_depth': 21, 'learning_rate': 0.019312017251299593, 'subsample': 0.8706003964523814, 'colsample_bytree': 0.980451789732119, 'gamma': 0.9240687273564111, 'min_child_weight': 7, 'scale_pos_weight': np.float64(1.2905829596412555), 'reg_alpha': 0, 'tree_method': 'hist', 'grow_policy': 'depthwise'}. Best is trial 0 with value: 0.541834092195552.\n",
      "[I 2025-03-26 12:01:23,392] Trial 5 finished with value: 0.431662844357092 and parameters: {'n_estimators': 100, 'max_depth': 45, 'learning_rate': 0.0018354828908347617, 'subsample': 0.8807013445886029, 'colsample_bytree': 0.7882251310822048, 'gamma': 0.2437226950629785, 'min_child_weight': 53, 'scale_pos_weight': np.float64(1.2905829596412555), 'reg_alpha': 0, 'tree_method': 'auto', 'grow_policy': 'lossguide'}. Best is trial 0 with value: 0.541834092195552.\n",
      "[I 2025-03-26 12:01:23,724] Trial 6 finished with value: 0.5133690700415672 and parameters: {'n_estimators': 350, 'max_depth': 7, 'learning_rate': 0.05603963888566402, 'subsample': 0.6118753421394657, 'colsample_bytree': 0.9663586366479834, 'gamma': 0.25985560029573673, 'min_child_weight': 39, 'scale_pos_weight': np.float64(1.2905829596412555), 'reg_alpha': 1, 'tree_method': 'hist', 'grow_policy': 'lossguide'}. Best is trial 0 with value: 0.541834092195552.\n",
      "[I 2025-03-26 12:01:24,021] Trial 7 finished with value: 0.518916554407383 and parameters: {'n_estimators': 100, 'max_depth': 13, 'learning_rate': 0.08060522628636844, 'subsample': 0.7396174392459358, 'colsample_bytree': 0.6257930796821947, 'gamma': 0.44075762195152934, 'min_child_weight': 9, 'scale_pos_weight': np.float64(1.2905829596412555), 'reg_alpha': 0, 'tree_method': 'auto', 'grow_policy': 'lossguide'}. Best is trial 0 with value: 0.541834092195552.\n",
      "[I 2025-03-26 12:01:24,340] Trial 8 finished with value: 0.5177644834350301 and parameters: {'n_estimators': 100, 'max_depth': 23, 'learning_rate': 0.10340733956498903, 'subsample': 0.8142363242290506, 'colsample_bytree': 0.69531327862303, 'gamma': 0.8522649018574973, 'min_child_weight': 7, 'scale_pos_weight': 1, 'reg_alpha': 0, 'tree_method': 'hist', 'grow_policy': 'depthwise'}. Best is trial 0 with value: 0.541834092195552.\n",
      "[I 2025-03-26 12:01:25,500] Trial 9 finished with value: 0.3581489377629863 and parameters: {'n_estimators': 150, 'max_depth': 37, 'learning_rate': 0.0010738871605299178, 'subsample': 0.9360241439124549, 'colsample_bytree': 0.9507202794228354, 'gamma': 0.7373326030110384, 'min_child_weight': 23, 'scale_pos_weight': 1, 'reg_alpha': 0.5, 'tree_method': 'approx', 'grow_policy': 'depthwise'}. Best is trial 0 with value: 0.541834092195552.\n",
      "[I 2025-03-26 12:01:25,869] A new study created in memory with name: no-name-e3610e63-bbf4-4eec-8ed0-87a6d4307b3c\n"
     ]
    },
    {
     "name": "stdout",
     "output_type": "stream",
     "text": [
      "Mejores parámetros: {'n_estimators': 350, 'max_depth': 27, 'learning_rate': 0.004855906623982437, 'subsample': 0.8615194849570382, 'colsample_bytree': 0.6367532671761333, 'gamma': 0.5231260783500342, 'min_child_weight': 27, 'scale_pos_weight': np.float64(1.2905829596412555), 'reg_alpha': 0.1, 'tree_method': 'auto', 'grow_policy': 'depthwise'}\n",
      "aCC ACT: 0.5993740219092332\n",
      "MEJOR ACCURACY 0.5993740219092332 - 85\n"
     ]
    },
    {
     "name": "stderr",
     "output_type": "stream",
     "text": [
      "[I 2025-03-26 12:01:26,376] Trial 0 finished with value: 0.4659045413117286 and parameters: {'n_estimators': 150, 'max_depth': 11, 'learning_rate': 0.002245039703005848, 'subsample': 0.9018371246102092, 'colsample_bytree': 0.613713382868061, 'gamma': 0.6640819640344284, 'min_child_weight': 41, 'scale_pos_weight': np.float64(1.2905829596412555), 'reg_alpha': 0.5, 'tree_method': 'exact', 'grow_policy': 'lossguide'}. Best is trial 0 with value: 0.4659045413117286.\n",
      "[I 2025-03-26 12:01:28,968] Trial 1 finished with value: 0.5304735564657959 and parameters: {'n_estimators': 500, 'max_depth': 15, 'learning_rate': 0.03662865585063428, 'subsample': 0.9427470353643692, 'colsample_bytree': 0.6381542262777193, 'gamma': 0.5182980338940835, 'min_child_weight': 41, 'scale_pos_weight': np.float64(1.2905829596412555), 'reg_alpha': 1, 'tree_method': 'approx', 'grow_policy': 'depthwise'}. Best is trial 1 with value: 0.5304735564657959.\n",
      "[I 2025-03-26 12:01:30,179] Trial 2 finished with value: 0.479510341098153 and parameters: {'n_estimators': 400, 'max_depth': 13, 'learning_rate': 0.019905261601635322, 'subsample': 0.8929768832383274, 'colsample_bytree': 0.9743906899899448, 'gamma': 0.4909056225380165, 'min_child_weight': 59, 'scale_pos_weight': 1, 'reg_alpha': 0.5, 'tree_method': 'exact', 'grow_policy': 'depthwise'}. Best is trial 1 with value: 0.5304735564657959.\n",
      "[I 2025-03-26 12:01:30,548] Trial 3 finished with value: 0.5032082152159536 and parameters: {'n_estimators': 200, 'max_depth': 33, 'learning_rate': 0.18919815317623237, 'subsample': 0.6443664952081286, 'colsample_bytree': 0.5762275480121049, 'gamma': 0.8526617599646711, 'min_child_weight': 5, 'scale_pos_weight': 1, 'reg_alpha': 0.1, 'tree_method': 'auto', 'grow_policy': 'lossguide'}. Best is trial 1 with value: 0.5304735564657959.\n",
      "[I 2025-03-26 12:01:31,655] Trial 4 finished with value: 0.5220952791518634 and parameters: {'n_estimators': 400, 'max_depth': 17, 'learning_rate': 0.004234210725092313, 'subsample': 0.7706970448011659, 'colsample_bytree': 0.5660423223883658, 'gamma': 0.43344232458119913, 'min_child_weight': 9, 'scale_pos_weight': np.float64(1.2905829596412555), 'reg_alpha': 0.1, 'tree_method': 'hist', 'grow_policy': 'lossguide'}. Best is trial 1 with value: 0.5304735564657959.\n",
      "[I 2025-03-26 12:01:46,191] Trial 5 finished with value: 0.38908603209202053 and parameters: {'n_estimators': 350, 'max_depth': 49, 'learning_rate': 0.001971991837508778, 'subsample': 0.6152332479670319, 'colsample_bytree': 0.5608249964246776, 'gamma': 0.905119907045291, 'min_child_weight': 5, 'scale_pos_weight': 1, 'reg_alpha': 0.5, 'tree_method': 'approx', 'grow_policy': 'lossguide'}. Best is trial 1 with value: 0.5304735564657959.\n",
      "[I 2025-03-26 12:01:54,179] Trial 6 finished with value: 0.5274949296187792 and parameters: {'n_estimators': 250, 'max_depth': 33, 'learning_rate': 0.11297704725082576, 'subsample': 0.7155430381489019, 'colsample_bytree': 0.951603019030982, 'gamma': 0.6223770093464348, 'min_child_weight': 3, 'scale_pos_weight': np.float64(1.2905829596412555), 'reg_alpha': 0.5, 'tree_method': 'approx', 'grow_policy': 'lossguide'}. Best is trial 1 with value: 0.5304735564657959.\n",
      "[I 2025-03-26 12:01:54,800] Trial 7 finished with value: 0.5314170562726358 and parameters: {'n_estimators': 200, 'max_depth': 19, 'learning_rate': 0.006561593930130501, 'subsample': 0.9384697582500449, 'colsample_bytree': 0.528418467665468, 'gamma': 0.956832246741976, 'min_child_weight': 37, 'scale_pos_weight': np.float64(1.2905829596412555), 'reg_alpha': 0.5, 'tree_method': 'exact', 'grow_policy': 'depthwise'}. Best is trial 7 with value: 0.5314170562726358.\n",
      "[I 2025-03-26 12:01:56,075] Trial 8 finished with value: 0.49951471208921683 and parameters: {'n_estimators': 250, 'max_depth': 27, 'learning_rate': 0.1489381504675334, 'subsample': 0.9633199223678124, 'colsample_bytree': 0.6430008087221284, 'gamma': 0.8586920503057319, 'min_child_weight': 29, 'scale_pos_weight': 1, 'reg_alpha': 0.5, 'tree_method': 'approx', 'grow_policy': 'lossguide'}. Best is trial 7 with value: 0.5314170562726358.\n",
      "[I 2025-03-26 12:01:57,515] Trial 9 finished with value: 0.361415999686541 and parameters: {'n_estimators': 300, 'max_depth': 23, 'learning_rate': 0.0013517126815389834, 'subsample': 0.6995609931830427, 'colsample_bytree': 0.9556961583239649, 'gamma': 0.19025363639065307, 'min_child_weight': 5, 'scale_pos_weight': 1, 'reg_alpha': 1, 'tree_method': 'auto', 'grow_policy': 'depthwise'}. Best is trial 7 with value: 0.5314170562726358.\n",
      "[I 2025-03-26 12:01:57,749] A new study created in memory with name: no-name-1bb88709-f330-4892-a259-bffa7a11ed37\n"
     ]
    },
    {
     "name": "stdout",
     "output_type": "stream",
     "text": [
      "Mejores parámetros: {'n_estimators': 200, 'max_depth': 19, 'learning_rate': 0.006561593930130501, 'subsample': 0.9384697582500449, 'colsample_bytree': 0.528418467665468, 'gamma': 0.956832246741976, 'min_child_weight': 37, 'scale_pos_weight': np.float64(1.2905829596412555), 'reg_alpha': 0.5, 'tree_method': 'exact', 'grow_policy': 'depthwise'}\n",
      "aCC ACT: 0.5899843505477308\n",
      "MEJOR ACCURACY 0.5993740219092332 - 85\n"
     ]
    },
    {
     "name": "stderr",
     "output_type": "stream",
     "text": [
      "[I 2025-03-26 12:01:59,318] Trial 0 finished with value: 0.5148587640060738 and parameters: {'n_estimators': 350, 'max_depth': 47, 'learning_rate': 0.17140160273621727, 'subsample': 0.6391328709261549, 'colsample_bytree': 0.6203724578905905, 'gamma': 0.8686419869137904, 'min_child_weight': 39, 'scale_pos_weight': np.float64(1.2905829596412555), 'reg_alpha': 0.1, 'tree_method': 'approx', 'grow_policy': 'lossguide'}. Best is trial 0 with value: 0.5148587640060738.\n",
      "[I 2025-03-26 12:02:00,265] Trial 1 finished with value: 0.500533601274199 and parameters: {'n_estimators': 100, 'max_depth': 23, 'learning_rate': 0.006430376168105412, 'subsample': 0.6357941488988442, 'colsample_bytree': 0.5986789457176508, 'gamma': 0.9408581044454848, 'min_child_weight': 1, 'scale_pos_weight': np.float64(1.2905829596412555), 'reg_alpha': 0.5, 'tree_method': 'exact', 'grow_policy': 'depthwise'}. Best is trial 0 with value: 0.5148587640060738.\n",
      "[I 2025-03-26 12:02:03,076] Trial 2 finished with value: 0.5070474774334641 and parameters: {'n_estimators': 250, 'max_depth': 47, 'learning_rate': 0.056483618341092445, 'subsample': 0.784807009721385, 'colsample_bytree': 0.6791892108769775, 'gamma': 0.2717906960233123, 'min_child_weight': 11, 'scale_pos_weight': np.float64(1.2905829596412555), 'reg_alpha': 0.1, 'tree_method': 'approx', 'grow_policy': 'depthwise'}. Best is trial 0 with value: 0.5148587640060738.\n",
      "[I 2025-03-26 12:02:04,229] Trial 3 finished with value: 0.5335839506150931 and parameters: {'n_estimators': 300, 'max_depth': 21, 'learning_rate': 0.003302036651635679, 'subsample': 0.7223784184933619, 'colsample_bytree': 0.6378200142148884, 'gamma': 0.12887411334769383, 'min_child_weight': 19, 'scale_pos_weight': np.float64(1.2905829596412555), 'reg_alpha': 0.5, 'tree_method': 'exact', 'grow_policy': 'lossguide'}. Best is trial 3 with value: 0.5335839506150931.\n",
      "[I 2025-03-26 12:02:04,731] Trial 4 finished with value: 0.4462847115881223 and parameters: {'n_estimators': 150, 'max_depth': 49, 'learning_rate': 0.0016920008959115075, 'subsample': 0.7911424785551291, 'colsample_bytree': 0.7342032034287007, 'gamma': 0.009054484934107876, 'min_child_weight': 35, 'scale_pos_weight': np.float64(1.2905829596412555), 'reg_alpha': 1, 'tree_method': 'exact', 'grow_policy': 'lossguide'}. Best is trial 3 with value: 0.5335839506150931.\n",
      "[I 2025-03-26 12:02:05,796] Trial 5 finished with value: 0.4886830979462305 and parameters: {'n_estimators': 250, 'max_depth': 3, 'learning_rate': 0.0012043182665993062, 'subsample': 0.6151426204213211, 'colsample_bytree': 0.9632748569681925, 'gamma': 0.8229513291672582, 'min_child_weight': 23, 'scale_pos_weight': np.float64(1.2905829596412555), 'reg_alpha': 0.1, 'tree_method': 'approx', 'grow_policy': 'depthwise'}. Best is trial 3 with value: 0.5335839506150931.\n",
      "[I 2025-03-26 12:02:06,173] Trial 6 finished with value: 0.37708082297332324 and parameters: {'n_estimators': 500, 'max_depth': 43, 'learning_rate': 0.0017690991757391807, 'subsample': 0.8974325188250838, 'colsample_bytree': 0.8106622520654243, 'gamma': 0.7893032337057215, 'min_child_weight': 61, 'scale_pos_weight': 1, 'reg_alpha': 0.1, 'tree_method': 'auto', 'grow_policy': 'depthwise'}. Best is trial 3 with value: 0.5335839506150931.\n",
      "[I 2025-03-26 12:02:08,042] Trial 7 finished with value: 0.5300431049473742 and parameters: {'n_estimators': 400, 'max_depth': 49, 'learning_rate': 0.07811757197065823, 'subsample': 0.8126947417250472, 'colsample_bytree': 0.7839997268326321, 'gamma': 0.8838859554560632, 'min_child_weight': 45, 'scale_pos_weight': np.float64(1.2905829596412555), 'reg_alpha': 1, 'tree_method': 'approx', 'grow_policy': 'depthwise'}. Best is trial 3 with value: 0.5335839506150931.\n",
      "[I 2025-03-26 12:02:09,291] Trial 8 finished with value: 0.5070066523921966 and parameters: {'n_estimators': 250, 'max_depth': 33, 'learning_rate': 0.0019372439682464836, 'subsample': 0.9717607490202714, 'colsample_bytree': 0.5113377457772185, 'gamma': 0.6141499230816722, 'min_child_weight': 53, 'scale_pos_weight': np.float64(1.2905829596412555), 'reg_alpha': 0, 'tree_method': 'approx', 'grow_policy': 'lossguide'}. Best is trial 3 with value: 0.5335839506150931.\n",
      "[I 2025-03-26 12:02:10,132] Trial 9 finished with value: 0.46678830498009927 and parameters: {'n_estimators': 200, 'max_depth': 19, 'learning_rate': 0.07784149576910014, 'subsample': 0.7533061440663571, 'colsample_bytree': 0.5920434806795467, 'gamma': 0.20909124090374187, 'min_child_weight': 69, 'scale_pos_weight': 1, 'reg_alpha': 1, 'tree_method': 'approx', 'grow_policy': 'depthwise'}. Best is trial 3 with value: 0.5335839506150931.\n",
      "[I 2025-03-26 12:02:10,503] A new study created in memory with name: no-name-0490c87a-2a24-4561-95c6-9b7685dc829d\n"
     ]
    },
    {
     "name": "stdout",
     "output_type": "stream",
     "text": [
      "Mejores parámetros: {'n_estimators': 300, 'max_depth': 21, 'learning_rate': 0.003302036651635679, 'subsample': 0.7223784184933619, 'colsample_bytree': 0.6378200142148884, 'gamma': 0.12887411334769383, 'min_child_weight': 19, 'scale_pos_weight': np.float64(1.2905829596412555), 'reg_alpha': 0.5, 'tree_method': 'exact', 'grow_policy': 'lossguide'}\n",
      "aCC ACT: 0.594679186228482\n",
      "MEJOR ACCURACY 0.5993740219092332 - 85\n"
     ]
    },
    {
     "name": "stderr",
     "output_type": "stream",
     "text": [
      "[I 2025-03-26 12:02:12,109] Trial 0 finished with value: 0.4800951888765363 and parameters: {'n_estimators': 350, 'max_depth': 27, 'learning_rate': 0.01643347330560259, 'subsample': 0.9585140816039551, 'colsample_bytree': 0.8499955953337439, 'gamma': 0.7142971018711349, 'min_child_weight': 51, 'scale_pos_weight': 1, 'reg_alpha': 0.1, 'tree_method': 'approx', 'grow_policy': 'lossguide'}. Best is trial 0 with value: 0.4800951888765363.\n",
      "[I 2025-03-26 12:02:12,300] Trial 1 finished with value: 0.5153519647756959 and parameters: {'n_estimators': 150, 'max_depth': 39, 'learning_rate': 0.005238703671970249, 'subsample': 0.858404183900914, 'colsample_bytree': 0.5163494584980204, 'gamma': 0.16639557693170037, 'min_child_weight': 31, 'scale_pos_weight': np.float64(1.2905829596412555), 'reg_alpha': 0, 'tree_method': 'auto', 'grow_policy': 'depthwise'}. Best is trial 1 with value: 0.5153519647756959.\n",
      "[I 2025-03-26 12:02:13,018] Trial 2 finished with value: 0.5270065170287325 and parameters: {'n_estimators': 350, 'max_depth': 27, 'learning_rate': 0.011507887950404062, 'subsample': 0.6903198647673324, 'colsample_bytree': 0.9602764830969233, 'gamma': 0.6108228418290234, 'min_child_weight': 15, 'scale_pos_weight': np.float64(1.2905829596412555), 'reg_alpha': 1, 'tree_method': 'hist', 'grow_policy': 'depthwise'}. Best is trial 2 with value: 0.5270065170287325.\n",
      "[I 2025-03-26 12:02:16,898] Trial 3 finished with value: 0.5148588449811322 and parameters: {'n_estimators': 200, 'max_depth': 13, 'learning_rate': 0.0017583609755147695, 'subsample': 0.6729102373363932, 'colsample_bytree': 0.9464661666079661, 'gamma': 0.05973740069225386, 'min_child_weight': 11, 'scale_pos_weight': np.float64(1.2905829596412555), 'reg_alpha': 0, 'tree_method': 'approx', 'grow_policy': 'lossguide'}. Best is trial 2 with value: 0.5270065170287325.\n",
      "[I 2025-03-26 12:02:18,384] Trial 4 finished with value: 0.5192256032901268 and parameters: {'n_estimators': 350, 'max_depth': 3, 'learning_rate': 0.0020412963856371335, 'subsample': 0.853909897563661, 'colsample_bytree': 0.9652755562527259, 'gamma': 0.9504225610598155, 'min_child_weight': 39, 'scale_pos_weight': np.float64(1.2905829596412555), 'reg_alpha': 0.5, 'tree_method': 'approx', 'grow_policy': 'lossguide'}. Best is trial 2 with value: 0.5270065170287325.\n",
      "[I 2025-03-26 12:02:19,356] Trial 5 finished with value: 0.5362911260381684 and parameters: {'n_estimators': 300, 'max_depth': 47, 'learning_rate': 0.02043478472824797, 'subsample': 0.605319573857014, 'colsample_bytree': 0.6691384211445623, 'gamma': 0.11864535461248271, 'min_child_weight': 23, 'scale_pos_weight': np.float64(1.2905829596412555), 'reg_alpha': 0, 'tree_method': 'exact', 'grow_policy': 'depthwise'}. Best is trial 5 with value: 0.5362911260381684.\n",
      "[I 2025-03-26 12:02:21,806] Trial 6 finished with value: 0.5315755326313327 and parameters: {'n_estimators': 500, 'max_depth': 19, 'learning_rate': 0.004849520029714881, 'subsample': 0.6462180799575975, 'colsample_bytree': 0.7259998940845196, 'gamma': 0.9779317120318802, 'min_child_weight': 33, 'scale_pos_weight': np.float64(1.2905829596412555), 'reg_alpha': 0.5, 'tree_method': 'approx', 'grow_policy': 'depthwise'}. Best is trial 5 with value: 0.5362911260381684.\n",
      "[I 2025-03-26 12:02:22,830] Trial 7 finished with value: 0.49914568810170473 and parameters: {'n_estimators': 100, 'max_depth': 47, 'learning_rate': 0.11053338063969181, 'subsample': 0.8627896296873816, 'colsample_bytree': 0.9898754615995529, 'gamma': 0.4607131561416947, 'min_child_weight': 5, 'scale_pos_weight': 1, 'reg_alpha': 0.1, 'tree_method': 'exact', 'grow_policy': 'depthwise'}. Best is trial 5 with value: 0.5362911260381684.\n",
      "[I 2025-03-26 12:02:23,180] Trial 8 finished with value: 0.4907998776560933 and parameters: {'n_estimators': 450, 'max_depth': 25, 'learning_rate': 0.1300555126531979, 'subsample': 0.842884032105013, 'colsample_bytree': 0.9683722967435537, 'gamma': 0.39066756345559717, 'min_child_weight': 69, 'scale_pos_weight': np.float64(1.2905829596412555), 'reg_alpha': 0, 'tree_method': 'auto', 'grow_policy': 'lossguide'}. Best is trial 5 with value: 0.5362911260381684.\n",
      "[I 2025-03-26 12:02:23,856] Trial 9 finished with value: 0.5274551432893129 and parameters: {'n_estimators': 250, 'max_depth': 21, 'learning_rate': 0.01893173510628267, 'subsample': 0.7797840944971207, 'colsample_bytree': 0.8022706287202943, 'gamma': 0.48072605162681603, 'min_child_weight': 11, 'scale_pos_weight': np.float64(1.2905829596412555), 'reg_alpha': 0.1, 'tree_method': 'hist', 'grow_policy': 'lossguide'}. Best is trial 5 with value: 0.5362911260381684.\n",
      "[I 2025-03-26 12:02:24,182] A new study created in memory with name: no-name-06e98cb0-d348-4a5d-853c-b0754d8eabaa\n"
     ]
    },
    {
     "name": "stdout",
     "output_type": "stream",
     "text": [
      "Mejores parámetros: {'n_estimators': 300, 'max_depth': 47, 'learning_rate': 0.02043478472824797, 'subsample': 0.605319573857014, 'colsample_bytree': 0.6691384211445623, 'gamma': 0.11864535461248271, 'min_child_weight': 23, 'scale_pos_weight': np.float64(1.2905829596412555), 'reg_alpha': 0, 'tree_method': 'exact', 'grow_policy': 'depthwise'}\n",
      "aCC ACT: 0.5790297339593115\n",
      "MEJOR ACCURACY 0.5993740219092332 - 85\n"
     ]
    },
    {
     "name": "stderr",
     "output_type": "stream",
     "text": [
      "[I 2025-03-26 12:02:24,838] Trial 0 finished with value: 0.4473360963940561 and parameters: {'n_estimators': 300, 'max_depth': 15, 'learning_rate': 0.0039255208987408665, 'subsample': 0.6387686837756656, 'colsample_bytree': 0.7820925572809623, 'gamma': 0.015990073460554255, 'min_child_weight': 11, 'scale_pos_weight': 1, 'reg_alpha': 0.1, 'tree_method': 'auto', 'grow_policy': 'lossguide'}. Best is trial 0 with value: 0.4473360963940561.\n",
      "[I 2025-03-26 12:02:27,803] Trial 1 finished with value: 0.4687848959616939 and parameters: {'n_estimators': 150, 'max_depth': 31, 'learning_rate': 0.0013969842457659059, 'subsample': 0.7988410976492821, 'colsample_bytree': 0.9641973104825273, 'gamma': 0.8060308412186171, 'min_child_weight': 13, 'scale_pos_weight': np.float64(1.2905829596412555), 'reg_alpha': 0, 'tree_method': 'approx', 'grow_policy': 'lossguide'}. Best is trial 1 with value: 0.4687848959616939.\n",
      "[I 2025-03-26 12:02:27,996] Trial 2 finished with value: 0.5204954893104983 and parameters: {'n_estimators': 150, 'max_depth': 49, 'learning_rate': 0.005377916136834085, 'subsample': 0.7661817895032843, 'colsample_bytree': 0.9703116530441632, 'gamma': 0.17379773826141431, 'min_child_weight': 41, 'scale_pos_weight': np.float64(1.2905829596412555), 'reg_alpha': 0.1, 'tree_method': 'hist', 'grow_policy': 'depthwise'}. Best is trial 2 with value: 0.5204954893104983.\n",
      "[I 2025-03-26 12:02:28,168] Trial 3 finished with value: 0.4480470976164256 and parameters: {'n_estimators': 200, 'max_depth': 47, 'learning_rate': 0.0016637208586867916, 'subsample': 0.8585781562900521, 'colsample_bytree': 0.5297335302134476, 'gamma': 0.6473230270034758, 'min_child_weight': 61, 'scale_pos_weight': np.float64(1.2905829596412555), 'reg_alpha': 0.1, 'tree_method': 'hist', 'grow_policy': 'lossguide'}. Best is trial 2 with value: 0.5204954893104983.\n",
      "[I 2025-03-26 12:02:28,321] Trial 4 finished with value: 0.5050476887359583 and parameters: {'n_estimators': 100, 'max_depth': 17, 'learning_rate': 0.06615392436426999, 'subsample': 0.7219945671989776, 'colsample_bytree': 0.8279825409184176, 'gamma': 0.6730741564976392, 'min_child_weight': 25, 'scale_pos_weight': 1, 'reg_alpha': 0, 'tree_method': 'auto', 'grow_policy': 'lossguide'}. Best is trial 2 with value: 0.5204954893104983.\n",
      "[I 2025-03-26 12:02:28,610] Trial 5 finished with value: 0.3581489377629863 and parameters: {'n_estimators': 400, 'max_depth': 5, 'learning_rate': 0.0015259794939591384, 'subsample': 0.8720245713127863, 'colsample_bytree': 0.6429904027483047, 'gamma': 0.27934534909671505, 'min_child_weight': 63, 'scale_pos_weight': 1, 'reg_alpha': 0.5, 'tree_method': 'hist', 'grow_policy': 'lossguide'}. Best is trial 2 with value: 0.5204954893104983.\n",
      "[I 2025-03-26 12:02:30,032] Trial 6 finished with value: 0.48600718259931375 and parameters: {'n_estimators': 350, 'max_depth': 31, 'learning_rate': 0.09955398357501326, 'subsample': 0.769639994264737, 'colsample_bytree': 0.552890073103147, 'gamma': 0.5163621530468874, 'min_child_weight': 61, 'scale_pos_weight': 1, 'reg_alpha': 0.5, 'tree_method': 'approx', 'grow_policy': 'depthwise'}. Best is trial 2 with value: 0.5204954893104983.\n",
      "[I 2025-03-26 12:02:30,900] Trial 7 finished with value: 0.5325190040025136 and parameters: {'n_estimators': 350, 'max_depth': 49, 'learning_rate': 0.0012889294770717398, 'subsample': 0.9301694402429918, 'colsample_bytree': 0.8275082080329716, 'gamma': 0.9887652683998559, 'min_child_weight': 15, 'scale_pos_weight': np.float64(1.2905829596412555), 'reg_alpha': 0.1, 'tree_method': 'auto', 'grow_policy': 'lossguide'}. Best is trial 7 with value: 0.5325190040025136.\n",
      "[I 2025-03-26 12:02:32,336] Trial 8 finished with value: 0.47792673581198725 and parameters: {'n_estimators': 250, 'max_depth': 25, 'learning_rate': 0.011295962478207997, 'subsample': 0.6944873049000053, 'colsample_bytree': 0.7447203115828678, 'gamma': 0.16264179309719995, 'min_child_weight': 29, 'scale_pos_weight': 1, 'reg_alpha': 0, 'tree_method': 'approx', 'grow_policy': 'lossguide'}. Best is trial 7 with value: 0.5325190040025136.\n",
      "[I 2025-03-26 12:02:33,591] Trial 9 finished with value: 0.489142768639399 and parameters: {'n_estimators': 300, 'max_depth': 7, 'learning_rate': 0.0362457901692747, 'subsample': 0.6985002428483228, 'colsample_bytree': 0.7637975182852718, 'gamma': 0.28645632776369534, 'min_child_weight': 63, 'scale_pos_weight': np.float64(1.2905829596412555), 'reg_alpha': 0.5, 'tree_method': 'approx', 'grow_policy': 'lossguide'}. Best is trial 7 with value: 0.5325190040025136.\n",
      "[I 2025-03-26 12:02:34,341] A new study created in memory with name: no-name-63e61bb8-36f0-4592-bf72-d429349b5a24\n"
     ]
    },
    {
     "name": "stdout",
     "output_type": "stream",
     "text": [
      "Mejores parámetros: {'n_estimators': 350, 'max_depth': 49, 'learning_rate': 0.0012889294770717398, 'subsample': 0.9301694402429918, 'colsample_bytree': 0.8275082080329716, 'gamma': 0.9887652683998559, 'min_child_weight': 15, 'scale_pos_weight': np.float64(1.2905829596412555), 'reg_alpha': 0.1, 'tree_method': 'auto', 'grow_policy': 'lossguide'}\n",
      "aCC ACT: 0.5884194053208138\n",
      "MEJOR ACCURACY 0.5993740219092332 - 85\n"
     ]
    },
    {
     "name": "stderr",
     "output_type": "stream",
     "text": [
      "[I 2025-03-26 12:02:34,595] Trial 0 finished with value: 0.5125582381474544 and parameters: {'n_estimators': 150, 'max_depth': 9, 'learning_rate': 0.1852015487680137, 'subsample': 0.9617990923221175, 'colsample_bytree': 0.5930391313335205, 'gamma': 0.2677095144131617, 'min_child_weight': 23, 'scale_pos_weight': 1, 'reg_alpha': 0, 'tree_method': 'hist', 'grow_policy': 'lossguide'}. Best is trial 0 with value: 0.5125582381474544.\n",
      "[I 2025-03-26 12:03:21,886] Trial 1 finished with value: 0.5330763240022739 and parameters: {'n_estimators': 400, 'max_depth': 33, 'learning_rate': 0.0076896481253967645, 'subsample': 0.632041558743181, 'colsample_bytree': 0.9037449208460838, 'gamma': 0.8114740145389476, 'min_child_weight': 3, 'scale_pos_weight': np.float64(1.2905829596412555), 'reg_alpha': 0, 'tree_method': 'approx', 'grow_policy': 'lossguide'}. Best is trial 1 with value: 0.5330763240022739.\n",
      "[I 2025-03-26 12:03:22,464] Trial 2 finished with value: 0.5084760919534818 and parameters: {'n_estimators': 200, 'max_depth': 25, 'learning_rate': 0.07431040718537878, 'subsample': 0.8427272202261431, 'colsample_bytree': 0.8175859104046101, 'gamma': 0.41671668748122415, 'min_child_weight': 55, 'scale_pos_weight': np.float64(1.2905829596412555), 'reg_alpha': 0.1, 'tree_method': 'exact', 'grow_policy': 'depthwise'}. Best is trial 1 with value: 0.5330763240022739.\n",
      "[I 2025-03-26 12:03:22,840] Trial 3 finished with value: 0.5190822764141692 and parameters: {'n_estimators': 500, 'max_depth': 3, 'learning_rate': 0.011587537309148483, 'subsample': 0.6170183649632551, 'colsample_bytree': 0.9840417790759317, 'gamma': 0.6363355059355751, 'min_child_weight': 7, 'scale_pos_weight': 1, 'reg_alpha': 0.1, 'tree_method': 'hist', 'grow_policy': 'depthwise'}. Best is trial 1 with value: 0.5330763240022739.\n",
      "[I 2025-03-26 12:03:23,065] Trial 4 finished with value: 0.3581489377629863 and parameters: {'n_estimators': 100, 'max_depth': 29, 'learning_rate': 0.0021265124453026334, 'subsample': 0.6749498357221789, 'colsample_bytree': 0.5861143217229826, 'gamma': 0.5487356967287366, 'min_child_weight': 41, 'scale_pos_weight': 1, 'reg_alpha': 0.5, 'tree_method': 'exact', 'grow_policy': 'depthwise'}. Best is trial 1 with value: 0.5330763240022739.\n",
      "[I 2025-03-26 12:03:23,995] Trial 5 finished with value: 0.4955290607583461 and parameters: {'n_estimators': 450, 'max_depth': 3, 'learning_rate': 0.17846175991622498, 'subsample': 0.8069720539977734, 'colsample_bytree': 0.991324870534006, 'gamma': 0.9074641363570162, 'min_child_weight': 43, 'scale_pos_weight': 1, 'reg_alpha': 1, 'tree_method': 'exact', 'grow_policy': 'depthwise'}. Best is trial 1 with value: 0.5330763240022739.\n",
      "[I 2025-03-26 12:03:24,168] Trial 6 finished with value: 0.5084714806219336 and parameters: {'n_estimators': 200, 'max_depth': 25, 'learning_rate': 0.01829987918012677, 'subsample': 0.6079606966080309, 'colsample_bytree': 0.7347891543407581, 'gamma': 0.18949231627679086, 'min_child_weight': 43, 'scale_pos_weight': np.float64(1.2905829596412555), 'reg_alpha': 0.5, 'tree_method': 'auto', 'grow_policy': 'lossguide'}. Best is trial 1 with value: 0.5330763240022739.\n",
      "[I 2025-03-26 12:03:24,350] Trial 7 finished with value: 0.3921805752132819 and parameters: {'n_estimators': 200, 'max_depth': 33, 'learning_rate': 0.005896684181369233, 'subsample': 0.7184675955484818, 'colsample_bytree': 0.6883493173906092, 'gamma': 0.20949276068203737, 'min_child_weight': 47, 'scale_pos_weight': 1, 'reg_alpha': 0.5, 'tree_method': 'hist', 'grow_policy': 'lossguide'}. Best is trial 1 with value: 0.5330763240022739.\n",
      "[I 2025-03-26 12:03:26,032] Trial 8 finished with value: 0.5266987309076517 and parameters: {'n_estimators': 300, 'max_depth': 27, 'learning_rate': 0.005857637759806315, 'subsample': 0.8219539663783353, 'colsample_bytree': 0.5567638675067228, 'gamma': 0.16301111015871828, 'min_child_weight': 9, 'scale_pos_weight': np.float64(1.2905829596412555), 'reg_alpha': 0.1, 'tree_method': 'exact', 'grow_policy': 'depthwise'}. Best is trial 1 with value: 0.5330763240022739.\n",
      "[I 2025-03-26 12:03:26,327] Trial 9 finished with value: 0.5146539684327929 and parameters: {'n_estimators': 350, 'max_depth': 5, 'learning_rate': 0.08858038671026015, 'subsample': 0.9449823693293887, 'colsample_bytree': 0.5512259791078921, 'gamma': 9.883971227442334e-05, 'min_child_weight': 33, 'scale_pos_weight': 1, 'reg_alpha': 1, 'tree_method': 'auto', 'grow_policy': 'lossguide'}. Best is trial 1 with value: 0.5330763240022739.\n",
      "[I 2025-03-26 12:04:31,194] A new study created in memory with name: no-name-aacb7119-ed3a-4c43-acaf-caf4a8389c65\n"
     ]
    },
    {
     "name": "stdout",
     "output_type": "stream",
     "text": [
      "Mejores parámetros: {'n_estimators': 400, 'max_depth': 33, 'learning_rate': 0.0076896481253967645, 'subsample': 0.632041558743181, 'colsample_bytree': 0.9037449208460838, 'gamma': 0.8114740145389476, 'min_child_weight': 3, 'scale_pos_weight': np.float64(1.2905829596412555), 'reg_alpha': 0, 'tree_method': 'approx', 'grow_policy': 'lossguide'}\n",
      "aCC ACT: 0.5774647887323944\n",
      "MEJOR ACCURACY 0.5993740219092332 - 85\n"
     ]
    },
    {
     "name": "stderr",
     "output_type": "stream",
     "text": [
      "[I 2025-03-26 12:04:31,880] Trial 0 finished with value: 0.48787956913306196 and parameters: {'n_estimators': 150, 'max_depth': 17, 'learning_rate': 0.004811214032216515, 'subsample': 0.6373334673923071, 'colsample_bytree': 0.6665394062488417, 'gamma': 0.7252227406119547, 'min_child_weight': 45, 'scale_pos_weight': np.float64(1.2905829596412555), 'reg_alpha': 0.1, 'tree_method': 'approx', 'grow_policy': 'lossguide'}. Best is trial 0 with value: 0.48787956913306196.\n",
      "[I 2025-03-26 12:04:32,522] Trial 1 finished with value: 0.5392022792634809 and parameters: {'n_estimators': 400, 'max_depth': 3, 'learning_rate': 0.009351165360933833, 'subsample': 0.758156572728167, 'colsample_bytree': 0.5366020305584265, 'gamma': 0.770298271003691, 'min_child_weight': 13, 'scale_pos_weight': np.float64(1.2905829596412555), 'reg_alpha': 0.5, 'tree_method': 'exact', 'grow_policy': 'depthwise'}. Best is trial 1 with value: 0.5392022792634809.\n",
      "[I 2025-03-26 12:04:32,950] Trial 2 finished with value: 0.5311104993071962 and parameters: {'n_estimators': 500, 'max_depth': 7, 'learning_rate': 0.012839304462875538, 'subsample': 0.8994838188142164, 'colsample_bytree': 0.692495804881514, 'gamma': 0.7519408025608438, 'min_child_weight': 53, 'scale_pos_weight': np.float64(1.2905829596412555), 'reg_alpha': 0.1, 'tree_method': 'hist', 'grow_policy': 'lossguide'}. Best is trial 1 with value: 0.5392022792634809.\n",
      "[I 2025-03-26 12:04:33,193] Trial 3 finished with value: 0.5205860943800023 and parameters: {'n_estimators': 250, 'max_depth': 49, 'learning_rate': 0.07468992574372507, 'subsample': 0.9499380646023246, 'colsample_bytree': 0.6625457517639983, 'gamma': 0.8579366429674524, 'min_child_weight': 47, 'scale_pos_weight': np.float64(1.2905829596412555), 'reg_alpha': 0, 'tree_method': 'hist', 'grow_policy': 'lossguide'}. Best is trial 1 with value: 0.5392022792634809.\n",
      "[I 2025-03-26 12:04:33,479] Trial 4 finished with value: 0.531733387986539 and parameters: {'n_estimators': 250, 'max_depth': 27, 'learning_rate': 0.026861414795013517, 'subsample': 0.6858727165577142, 'colsample_bytree': 0.9807824760687688, 'gamma': 0.7773130134220808, 'min_child_weight': 37, 'scale_pos_weight': np.float64(1.2905829596412555), 'reg_alpha': 0.1, 'tree_method': 'hist', 'grow_policy': 'lossguide'}. Best is trial 1 with value: 0.5392022792634809.\n",
      "[I 2025-03-26 12:04:35,488] Trial 5 finished with value: 0.3581489377629863 and parameters: {'n_estimators': 500, 'max_depth': 49, 'learning_rate': 0.0012435010858071445, 'subsample': 0.6334394446763939, 'colsample_bytree': 0.6468363377012909, 'gamma': 0.841879708237449, 'min_child_weight': 59, 'scale_pos_weight': 1, 'reg_alpha': 0, 'tree_method': 'approx', 'grow_policy': 'depthwise'}. Best is trial 1 with value: 0.5392022792634809.\n",
      "[I 2025-03-26 12:04:38,070] Trial 6 finished with value: 0.5180286824911227 and parameters: {'n_estimators': 300, 'max_depth': 29, 'learning_rate': 0.06306890920389512, 'subsample': 0.6671928024758985, 'colsample_bytree': 0.9928360161445015, 'gamma': 0.49820003685401304, 'min_child_weight': 3, 'scale_pos_weight': np.float64(1.2905829596412555), 'reg_alpha': 1, 'tree_method': 'exact', 'grow_policy': 'lossguide'}. Best is trial 1 with value: 0.5392022792634809.\n",
      "[I 2025-03-26 12:04:38,213] Trial 7 finished with value: 0.40484183934804835 and parameters: {'n_estimators': 150, 'max_depth': 43, 'learning_rate': 0.009618837353372418, 'subsample': 0.9397896753491557, 'colsample_bytree': 0.905072038921686, 'gamma': 0.0857360347488082, 'min_child_weight': 69, 'scale_pos_weight': 1, 'reg_alpha': 0.5, 'tree_method': 'auto', 'grow_policy': 'depthwise'}. Best is trial 1 with value: 0.5392022792634809.\n",
      "[I 2025-03-26 12:04:38,601] Trial 8 finished with value: 0.4623797452962332 and parameters: {'n_estimators': 150, 'max_depth': 41, 'learning_rate': 0.00258645858990772, 'subsample': 0.952957798667557, 'colsample_bytree': 0.5864530773911703, 'gamma': 0.6021177383418923, 'min_child_weight': 51, 'scale_pos_weight': np.float64(1.2905829596412555), 'reg_alpha': 1, 'tree_method': 'exact', 'grow_policy': 'lossguide'}. Best is trial 1 with value: 0.5392022792634809.\n",
      "[I 2025-03-26 12:04:38,751] Trial 9 finished with value: 0.3581489377629863 and parameters: {'n_estimators': 150, 'max_depth': 37, 'learning_rate': 0.0022044305083185824, 'subsample': 0.9944569243318054, 'colsample_bytree': 0.7037981207724137, 'gamma': 0.12414516340189807, 'min_child_weight': 57, 'scale_pos_weight': 1, 'reg_alpha': 0.5, 'tree_method': 'auto', 'grow_policy': 'depthwise'}. Best is trial 1 with value: 0.5392022792634809.\n",
      "[I 2025-03-26 12:04:39,026] A new study created in memory with name: no-name-3f35178b-9f3b-44f4-80bf-d9496e364a5f\n"
     ]
    },
    {
     "name": "stdout",
     "output_type": "stream",
     "text": [
      "Mejores parámetros: {'n_estimators': 400, 'max_depth': 3, 'learning_rate': 0.009351165360933833, 'subsample': 0.758156572728167, 'colsample_bytree': 0.5366020305584265, 'gamma': 0.770298271003691, 'min_child_weight': 13, 'scale_pos_weight': np.float64(1.2905829596412555), 'reg_alpha': 0.5, 'tree_method': 'exact', 'grow_policy': 'depthwise'}\n",
      "aCC ACT: 0.5852895148669797\n",
      "MEJOR ACCURACY 0.5993740219092332 - 85\n"
     ]
    },
    {
     "name": "stderr",
     "output_type": "stream",
     "text": [
      "[I 2025-03-26 12:04:39,527] Trial 0 finished with value: 0.4933024114577485 and parameters: {'n_estimators': 450, 'max_depth': 39, 'learning_rate': 0.009491004308039014, 'subsample': 0.7915478587388758, 'colsample_bytree': 0.5001770298657748, 'gamma': 0.8563670460738527, 'min_child_weight': 25, 'scale_pos_weight': 1, 'reg_alpha': 0, 'tree_method': 'auto', 'grow_policy': 'lossguide'}. Best is trial 0 with value: 0.4933024114577485.\n",
      "[I 2025-03-26 12:04:39,779] Trial 1 finished with value: 0.4909242242693616 and parameters: {'n_estimators': 400, 'max_depth': 39, 'learning_rate': 0.10050797023042296, 'subsample': 0.6683846621831623, 'colsample_bytree': 0.720194357709256, 'gamma': 0.7734002135459718, 'min_child_weight': 65, 'scale_pos_weight': 1, 'reg_alpha': 1, 'tree_method': 'auto', 'grow_policy': 'lossguide'}. Best is trial 0 with value: 0.4933024114577485.\n",
      "[I 2025-03-26 12:04:41,152] Trial 2 finished with value: 0.5378292944393381 and parameters: {'n_estimators': 400, 'max_depth': 5, 'learning_rate': 0.011881537163782185, 'subsample': 0.7846005121204426, 'colsample_bytree': 0.9117777303965189, 'gamma': 0.36877798232801795, 'min_child_weight': 27, 'scale_pos_weight': np.float64(1.2905829596412555), 'reg_alpha': 0, 'tree_method': 'exact', 'grow_policy': 'lossguide'}. Best is trial 2 with value: 0.5378292944393381.\n",
      "[I 2025-03-26 12:04:41,436] Trial 3 finished with value: 0.5073551820811438 and parameters: {'n_estimators': 100, 'max_depth': 15, 'learning_rate': 0.09740206595043362, 'subsample': 0.9262527293914182, 'colsample_bytree': 0.6765202525785339, 'gamma': 0.7775274736031111, 'min_child_weight': 57, 'scale_pos_weight': np.float64(1.2905829596412555), 'reg_alpha': 0.5, 'tree_method': 'exact', 'grow_policy': 'depthwise'}. Best is trial 2 with value: 0.5378292944393381.\n",
      "[I 2025-03-26 12:04:41,577] Trial 4 finished with value: 0.5080657779710126 and parameters: {'n_estimators': 150, 'max_depth': 15, 'learning_rate': 0.021051789989912157, 'subsample': 0.7912154151426329, 'colsample_bytree': 0.9429655149975027, 'gamma': 0.23171934882513978, 'min_child_weight': 69, 'scale_pos_weight': np.float64(1.2905829596412555), 'reg_alpha': 0.5, 'tree_method': 'auto', 'grow_policy': 'lossguide'}. Best is trial 2 with value: 0.5378292944393381.\n",
      "[I 2025-03-26 12:04:42,330] Trial 5 finished with value: 0.3581489377629863 and parameters: {'n_estimators': 300, 'max_depth': 3, 'learning_rate': 0.0012074303261487371, 'subsample': 0.9940090235581607, 'colsample_bytree': 0.8520528074490119, 'gamma': 0.8744348061632528, 'min_child_weight': 7, 'scale_pos_weight': 1, 'reg_alpha': 0.5, 'tree_method': 'exact', 'grow_policy': 'depthwise'}. Best is trial 2 with value: 0.5378292944393381.\n",
      "[I 2025-03-26 12:04:42,597] Trial 6 finished with value: 0.47983424193875146 and parameters: {'n_estimators': 400, 'max_depth': 19, 'learning_rate': 0.15611511075054682, 'subsample': 0.6738337306232508, 'colsample_bytree': 0.5591878742714751, 'gamma': 0.6427025987659508, 'min_child_weight': 49, 'scale_pos_weight': 1, 'reg_alpha': 0.1, 'tree_method': 'hist', 'grow_policy': 'depthwise'}. Best is trial 2 with value: 0.5378292944393381.\n",
      "[I 2025-03-26 12:04:42,865] Trial 7 finished with value: 0.5034185772573266 and parameters: {'n_estimators': 450, 'max_depth': 3, 'learning_rate': 0.020205673443129242, 'subsample': 0.8840760893163384, 'colsample_bytree': 0.5170632556743159, 'gamma': 0.20763139712405765, 'min_child_weight': 25, 'scale_pos_weight': 1, 'reg_alpha': 1, 'tree_method': 'auto', 'grow_policy': 'lossguide'}. Best is trial 2 with value: 0.5378292944393381.\n",
      "[I 2025-03-26 12:04:43,046] Trial 8 finished with value: 0.5007647161325127 and parameters: {'n_estimators': 150, 'max_depth': 39, 'learning_rate': 0.1962370694377369, 'subsample': 0.9301169367125398, 'colsample_bytree': 0.5005684526515499, 'gamma': 0.009325661498729598, 'min_child_weight': 31, 'scale_pos_weight': np.float64(1.2905829596412555), 'reg_alpha': 0, 'tree_method': 'hist', 'grow_policy': 'depthwise'}. Best is trial 2 with value: 0.5378292944393381.\n",
      "[I 2025-03-26 12:04:43,300] Trial 9 finished with value: 0.4473007389450757 and parameters: {'n_estimators': 350, 'max_depth': 7, 'learning_rate': 0.0010516096396540127, 'subsample': 0.6473029050137781, 'colsample_bytree': 0.9418285151006232, 'gamma': 0.07666534719749418, 'min_child_weight': 65, 'scale_pos_weight': np.float64(1.2905829596412555), 'reg_alpha': 1, 'tree_method': 'hist', 'grow_policy': 'depthwise'}. Best is trial 2 with value: 0.5378292944393381.\n",
      "[I 2025-03-26 12:04:43,704] A new study created in memory with name: no-name-06e12f14-2fd0-40a1-ad75-f901324fd5d4\n"
     ]
    },
    {
     "name": "stdout",
     "output_type": "stream",
     "text": [
      "Mejores parámetros: {'n_estimators': 400, 'max_depth': 5, 'learning_rate': 0.011881537163782185, 'subsample': 0.7846005121204426, 'colsample_bytree': 0.9117777303965189, 'gamma': 0.36877798232801795, 'min_child_weight': 27, 'scale_pos_weight': np.float64(1.2905829596412555), 'reg_alpha': 0, 'tree_method': 'exact', 'grow_policy': 'lossguide'}\n",
      "aCC ACT: 0.5821596244131455\n",
      "MEJOR ACCURACY 0.5993740219092332 - 85\n"
     ]
    },
    {
     "name": "stderr",
     "output_type": "stream",
     "text": [
      "[I 2025-03-26 12:04:45,241] Trial 0 finished with value: 0.4124679998337462 and parameters: {'n_estimators': 350, 'max_depth': 33, 'learning_rate': 0.00509296601767346, 'subsample': 0.984801394060337, 'colsample_bytree': 0.7679594536656469, 'gamma': 0.6596346908866366, 'min_child_weight': 69, 'scale_pos_weight': 1, 'reg_alpha': 1, 'tree_method': 'approx', 'grow_policy': 'lossguide'}. Best is trial 0 with value: 0.4124679998337462.\n",
      "[I 2025-03-26 12:04:46,029] Trial 1 finished with value: 0.3581489377629863 and parameters: {'n_estimators': 350, 'max_depth': 43, 'learning_rate': 0.0013217201666774244, 'subsample': 0.8276258209840586, 'colsample_bytree': 0.7026674356410139, 'gamma': 0.8025135774127663, 'min_child_weight': 55, 'scale_pos_weight': 1, 'reg_alpha': 0, 'tree_method': 'exact', 'grow_policy': 'lossguide'}. Best is trial 0 with value: 0.4124679998337462.\n",
      "[I 2025-03-26 12:04:49,494] Trial 2 finished with value: 0.5139510233695515 and parameters: {'n_estimators': 350, 'max_depth': 43, 'learning_rate': 0.15179356291770696, 'subsample': 0.7819005996101198, 'colsample_bytree': 0.732855750778473, 'gamma': 0.9271032953685153, 'min_child_weight': 9, 'scale_pos_weight': np.float64(1.2905829596412555), 'reg_alpha': 0, 'tree_method': 'approx', 'grow_policy': 'lossguide'}. Best is trial 2 with value: 0.5139510233695515.\n",
      "[I 2025-03-26 12:04:51,061] Trial 3 finished with value: 0.505050770256162 and parameters: {'n_estimators': 150, 'max_depth': 35, 'learning_rate': 0.0030730721098318915, 'subsample': 0.6121543639276349, 'colsample_bytree': 0.5172604776142897, 'gamma': 0.25103484423204014, 'min_child_weight': 15, 'scale_pos_weight': np.float64(1.2905829596412555), 'reg_alpha': 0.1, 'tree_method': 'approx', 'grow_policy': 'lossguide'}. Best is trial 2 with value: 0.5139510233695515.\n",
      "[I 2025-03-26 12:04:52,484] Trial 4 finished with value: 0.43925946186632325 and parameters: {'n_estimators': 350, 'max_depth': 23, 'learning_rate': 0.001119549158128758, 'subsample': 0.6046434576949357, 'colsample_bytree': 0.5076441061530519, 'gamma': 0.9185975197348268, 'min_child_weight': 65, 'scale_pos_weight': np.float64(1.2905829596412555), 'reg_alpha': 0.1, 'tree_method': 'approx', 'grow_policy': 'lossguide'}. Best is trial 2 with value: 0.5139510233695515.\n",
      "[I 2025-03-26 12:04:52,768] Trial 5 finished with value: 0.40651788633238295 and parameters: {'n_estimators': 350, 'max_depth': 13, 'learning_rate': 0.0038325830467530702, 'subsample': 0.8425817540094743, 'colsample_bytree': 0.5107466057444259, 'gamma': 0.2469599584726011, 'min_child_weight': 41, 'scale_pos_weight': 1, 'reg_alpha': 0.5, 'tree_method': 'hist', 'grow_policy': 'depthwise'}. Best is trial 2 with value: 0.5139510233695515.\n",
      "[I 2025-03-26 12:04:53,568] Trial 6 finished with value: 0.47465838753022965 and parameters: {'n_estimators': 450, 'max_depth': 19, 'learning_rate': 0.023020455299444756, 'subsample': 0.6567360372183687, 'colsample_bytree': 0.7312972404193666, 'gamma': 0.03024549908583518, 'min_child_weight': 59, 'scale_pos_weight': 1, 'reg_alpha': 0, 'tree_method': 'exact', 'grow_policy': 'lossguide'}. Best is trial 2 with value: 0.5139510233695515.\n",
      "[I 2025-03-26 12:04:53,738] Trial 7 finished with value: 0.5280560891504205 and parameters: {'n_estimators': 150, 'max_depth': 13, 'learning_rate': 0.006915868758351107, 'subsample': 0.9298990570934921, 'colsample_bytree': 0.5666011772544999, 'gamma': 0.10411882435360587, 'min_child_weight': 41, 'scale_pos_weight': np.float64(1.2905829596412555), 'reg_alpha': 0, 'tree_method': 'hist', 'grow_policy': 'depthwise'}. Best is trial 7 with value: 0.5280560891504205.\n",
      "[I 2025-03-26 12:04:54,126] Trial 8 finished with value: 0.5385595155053372 and parameters: {'n_estimators': 250, 'max_depth': 35, 'learning_rate': 0.007269849808230246, 'subsample': 0.8681666044628134, 'colsample_bytree': 0.7083408374260576, 'gamma': 0.8786579457166467, 'min_child_weight': 23, 'scale_pos_weight': np.float64(1.2905829596412555), 'reg_alpha': 1, 'tree_method': 'auto', 'grow_policy': 'depthwise'}. Best is trial 8 with value: 0.5385595155053372.\n",
      "[I 2025-03-26 12:04:54,959] Trial 9 finished with value: 0.4408490079493692 and parameters: {'n_estimators': 150, 'max_depth': 31, 'learning_rate': 0.001341458213522084, 'subsample': 0.6834667996653423, 'colsample_bytree': 0.8893741315213743, 'gamma': 0.013437542004900438, 'min_child_weight': 31, 'scale_pos_weight': np.float64(1.2905829596412555), 'reg_alpha': 0.5, 'tree_method': 'approx', 'grow_policy': 'depthwise'}. Best is trial 8 with value: 0.5385595155053372.\n",
      "[I 2025-03-26 12:04:55,249] A new study created in memory with name: no-name-9937f9d7-bce1-4cd4-9958-328a0439199b\n"
     ]
    },
    {
     "name": "stdout",
     "output_type": "stream",
     "text": [
      "Mejores parámetros: {'n_estimators': 250, 'max_depth': 35, 'learning_rate': 0.007269849808230246, 'subsample': 0.8681666044628134, 'colsample_bytree': 0.7083408374260576, 'gamma': 0.8786579457166467, 'min_child_weight': 23, 'scale_pos_weight': np.float64(1.2905829596412555), 'reg_alpha': 1, 'tree_method': 'auto', 'grow_policy': 'depthwise'}\n",
      "aCC ACT: 0.6009389671361502\n",
      "MEJOR ACCURACY 0.6009389671361502 - 93\n"
     ]
    },
    {
     "name": "stderr",
     "output_type": "stream",
     "text": [
      "[I 2025-03-26 12:04:57,347] Trial 0 finished with value: 0.5275501060531052 and parameters: {'n_estimators': 400, 'max_depth': 31, 'learning_rate': 0.03867161131263606, 'subsample': 0.769373191560214, 'colsample_bytree': 0.7253830552951318, 'gamma': 0.39247196998969147, 'min_child_weight': 35, 'scale_pos_weight': np.float64(1.2905829596412555), 'reg_alpha': 0.1, 'tree_method': 'approx', 'grow_policy': 'depthwise'}. Best is trial 0 with value: 0.5275501060531052.\n",
      "[I 2025-03-26 12:05:20,292] Trial 1 finished with value: 0.5188186012214725 and parameters: {'n_estimators': 300, 'max_depth': 35, 'learning_rate': 0.00487768874605779, 'subsample': 0.6243852734339417, 'colsample_bytree': 0.8138984584370419, 'gamma': 0.5166554708509066, 'min_child_weight': 1, 'scale_pos_weight': np.float64(1.2905829596412555), 'reg_alpha': 0, 'tree_method': 'approx', 'grow_policy': 'depthwise'}. Best is trial 0 with value: 0.5275501060531052.\n",
      "[I 2025-03-26 12:05:21,241] Trial 2 finished with value: 0.3958135940983446 and parameters: {'n_estimators': 200, 'max_depth': 45, 'learning_rate': 0.004121908569355035, 'subsample': 0.9708301459671911, 'colsample_bytree': 0.9540602103551912, 'gamma': 0.30049964467652657, 'min_child_weight': 31, 'scale_pos_weight': 1, 'reg_alpha': 1, 'tree_method': 'exact', 'grow_policy': 'depthwise'}. Best is trial 0 with value: 0.5275501060531052.\n",
      "[I 2025-03-26 12:05:21,518] Trial 3 finished with value: 0.3581489377629863 and parameters: {'n_estimators': 350, 'max_depth': 27, 'learning_rate': 0.0012863631925469604, 'subsample': 0.6068355981973819, 'colsample_bytree': 0.8528311110654976, 'gamma': 0.7477516503941006, 'min_child_weight': 45, 'scale_pos_weight': 1, 'reg_alpha': 1, 'tree_method': 'auto', 'grow_policy': 'depthwise'}. Best is trial 0 with value: 0.5275501060531052.\n",
      "[I 2025-03-26 12:05:24,949] Trial 4 finished with value: 0.5068965746968241 and parameters: {'n_estimators': 400, 'max_depth': 19, 'learning_rate': 0.019369041237095066, 'subsample': 0.9162526479656681, 'colsample_bytree': 0.9334900191129649, 'gamma': 0.7179523726411856, 'min_child_weight': 19, 'scale_pos_weight': 1, 'reg_alpha': 0.5, 'tree_method': 'approx', 'grow_policy': 'depthwise'}. Best is trial 0 with value: 0.5275501060531052.\n",
      "[I 2025-03-26 12:05:27,713] Trial 5 finished with value: 0.49244691684779485 and parameters: {'n_estimators': 150, 'max_depth': 15, 'learning_rate': 0.002656312699369923, 'subsample': 0.7752768149339594, 'colsample_bytree': 0.5052460396508768, 'gamma': 0.20356742896574076, 'min_child_weight': 7, 'scale_pos_weight': np.float64(1.2905829596412555), 'reg_alpha': 0.5, 'tree_method': 'approx', 'grow_policy': 'depthwise'}. Best is trial 0 with value: 0.5275501060531052.\n",
      "[I 2025-03-26 12:05:30,044] Trial 6 finished with value: 0.5035689666777932 and parameters: {'n_estimators': 500, 'max_depth': 19, 'learning_rate': 0.0075435230271737, 'subsample': 0.6376946439000728, 'colsample_bytree': 0.9203921456076519, 'gamma': 0.26982221449382204, 'min_child_weight': 17, 'scale_pos_weight': 1, 'reg_alpha': 0, 'tree_method': 'exact', 'grow_policy': 'lossguide'}. Best is trial 0 with value: 0.5275501060531052.\n",
      "[I 2025-03-26 12:05:30,470] Trial 7 finished with value: 0.5391412396124415 and parameters: {'n_estimators': 400, 'max_depth': 39, 'learning_rate': 0.006166998520656333, 'subsample': 0.8322923804546546, 'colsample_bytree': 0.9113750528457621, 'gamma': 0.2133447366608353, 'min_child_weight': 41, 'scale_pos_weight': np.float64(1.2905829596412555), 'reg_alpha': 0.5, 'tree_method': 'hist', 'grow_policy': 'depthwise'}. Best is trial 7 with value: 0.5391412396124415.\n",
      "[I 2025-03-26 12:05:30,777] Trial 8 finished with value: 0.5086542655006774 and parameters: {'n_estimators': 150, 'max_depth': 17, 'learning_rate': 0.18209733676509582, 'subsample': 0.7398292141355484, 'colsample_bytree': 0.8176649640892996, 'gamma': 0.4960420278135441, 'min_child_weight': 13, 'scale_pos_weight': np.float64(1.2905829596412555), 'reg_alpha': 0, 'tree_method': 'auto', 'grow_policy': 'depthwise'}. Best is trial 7 with value: 0.5391412396124415.\n",
      "[I 2025-03-26 12:05:33,415] Trial 9 finished with value: 0.5400190869620636 and parameters: {'n_estimators': 500, 'max_depth': 19, 'learning_rate': 0.005584301208824054, 'subsample': 0.9146451025609583, 'colsample_bytree': 0.772381928947663, 'gamma': 0.10928044948723625, 'min_child_weight': 45, 'scale_pos_weight': np.float64(1.2905829596412555), 'reg_alpha': 0, 'tree_method': 'approx', 'grow_policy': 'depthwise'}. Best is trial 9 with value: 0.5400190869620636.\n",
      "[I 2025-03-26 12:05:35,378] A new study created in memory with name: no-name-73a05afd-19bc-4aac-99b8-ea0f0b52ecfe\n"
     ]
    },
    {
     "name": "stdout",
     "output_type": "stream",
     "text": [
      "Mejores parámetros: {'n_estimators': 500, 'max_depth': 19, 'learning_rate': 0.005584301208824054, 'subsample': 0.9146451025609583, 'colsample_bytree': 0.772381928947663, 'gamma': 0.10928044948723625, 'min_child_weight': 45, 'scale_pos_weight': np.float64(1.2905829596412555), 'reg_alpha': 0, 'tree_method': 'approx', 'grow_policy': 'depthwise'}\n",
      "aCC ACT: 0.596244131455399\n",
      "MEJOR ACCURACY 0.6009389671361502 - 93\n"
     ]
    },
    {
     "name": "stderr",
     "output_type": "stream",
     "text": [
      "[I 2025-03-26 12:05:36,429] Trial 0 finished with value: 0.5285545613824467 and parameters: {'n_estimators': 200, 'max_depth': 11, 'learning_rate': 0.10953179120673125, 'subsample': 0.8875703582357626, 'colsample_bytree': 0.7664916917170711, 'gamma': 0.8694621000041144, 'min_child_weight': 51, 'scale_pos_weight': np.float64(1.2905829596412555), 'reg_alpha': 0, 'tree_method': 'approx', 'grow_policy': 'lossguide'}. Best is trial 0 with value: 0.5285545613824467.\n",
      "[I 2025-03-26 12:05:37,548] Trial 1 finished with value: 0.46212470186124427 and parameters: {'n_estimators': 250, 'max_depth': 13, 'learning_rate': 0.016752615526461633, 'subsample': 0.7255064983385215, 'colsample_bytree': 0.5251146477369276, 'gamma': 0.30305254229726564, 'min_child_weight': 55, 'scale_pos_weight': 1, 'reg_alpha': 0.1, 'tree_method': 'approx', 'grow_policy': 'depthwise'}. Best is trial 0 with value: 0.5285545613824467.\n",
      "[I 2025-03-26 12:05:37,903] Trial 2 finished with value: 0.4941987012077641 and parameters: {'n_estimators': 150, 'max_depth': 17, 'learning_rate': 0.13076768906704508, 'subsample': 0.7116585421767424, 'colsample_bytree': 0.6189344277623623, 'gamma': 0.47688677936221247, 'min_child_weight': 45, 'scale_pos_weight': 1, 'reg_alpha': 0, 'tree_method': 'exact', 'grow_policy': 'lossguide'}. Best is trial 0 with value: 0.5285545613824467.\n",
      "[I 2025-03-26 12:05:38,372] Trial 3 finished with value: 0.43701618737323517 and parameters: {'n_estimators': 100, 'max_depth': 49, 'learning_rate': 0.0017454920588907993, 'subsample': 0.7981000223547001, 'colsample_bytree': 0.9847195186757906, 'gamma': 0.9587900553341409, 'min_child_weight': 33, 'scale_pos_weight': np.float64(1.2905829596412555), 'reg_alpha': 0, 'tree_method': 'exact', 'grow_policy': 'lossguide'}. Best is trial 0 with value: 0.5285545613824467.\n",
      "[I 2025-03-26 12:05:38,701] Trial 4 finished with value: 0.3656491439149205 and parameters: {'n_estimators': 200, 'max_depth': 5, 'learning_rate': 0.002651692759617779, 'subsample': 0.843461589563219, 'colsample_bytree': 0.7594472092858433, 'gamma': 0.5505317641308198, 'min_child_weight': 7, 'scale_pos_weight': 1, 'reg_alpha': 1, 'tree_method': 'hist', 'grow_policy': 'depthwise'}. Best is trial 0 with value: 0.5285545613824467.\n",
      "[I 2025-03-26 12:05:39,543] Trial 5 finished with value: 0.49064606391946564 and parameters: {'n_estimators': 450, 'max_depth': 47, 'learning_rate': 0.09731305500360449, 'subsample': 0.6046153958135785, 'colsample_bytree': 0.611645184187271, 'gamma': 0.8349610539816793, 'min_child_weight': 47, 'scale_pos_weight': np.float64(1.2905829596412555), 'reg_alpha': 0, 'tree_method': 'exact', 'grow_policy': 'lossguide'}. Best is trial 0 with value: 0.5285545613824467.\n",
      "[I 2025-03-26 12:05:40,054] Trial 6 finished with value: 0.38446620109025476 and parameters: {'n_estimators': 100, 'max_depth': 25, 'learning_rate': 0.009335666349984902, 'subsample': 0.7601085911458336, 'colsample_bytree': 0.8606485568205393, 'gamma': 0.809941719140528, 'min_child_weight': 49, 'scale_pos_weight': 1, 'reg_alpha': 0.1, 'tree_method': 'approx', 'grow_policy': 'lossguide'}. Best is trial 0 with value: 0.5285545613824467.\n",
      "[I 2025-03-26 12:05:41,937] Trial 7 finished with value: 0.48418125657217564 and parameters: {'n_estimators': 450, 'max_depth': 9, 'learning_rate': 0.11156055671454705, 'subsample': 0.7601367355097729, 'colsample_bytree': 0.5095967591420589, 'gamma': 0.32682293242032723, 'min_child_weight': 55, 'scale_pos_weight': 1, 'reg_alpha': 0, 'tree_method': 'approx', 'grow_policy': 'depthwise'}. Best is trial 0 with value: 0.5285545613824467.\n",
      "[I 2025-03-26 12:05:42,296] Trial 8 finished with value: 0.49965983321801277 and parameters: {'n_estimators': 350, 'max_depth': 9, 'learning_rate': 0.02891878956245644, 'subsample': 0.8918746407971851, 'colsample_bytree': 0.9832353521398579, 'gamma': 0.37960644686764633, 'min_child_weight': 55, 'scale_pos_weight': np.float64(1.2905829596412555), 'reg_alpha': 0.1, 'tree_method': 'hist', 'grow_policy': 'depthwise'}. Best is trial 0 with value: 0.5285545613824467.\n",
      "[I 2025-03-26 12:05:43,829] Trial 9 finished with value: 0.5045807181849227 and parameters: {'n_estimators': 450, 'max_depth': 27, 'learning_rate': 0.021284441412685335, 'subsample': 0.8079177438910716, 'colsample_bytree': 0.8438152507257297, 'gamma': 0.6345771615178928, 'min_child_weight': 7, 'scale_pos_weight': 1, 'reg_alpha': 0, 'tree_method': 'hist', 'grow_policy': 'depthwise'}. Best is trial 0 with value: 0.5285545613824467.\n",
      "[I 2025-03-26 12:05:44,456] A new study created in memory with name: no-name-b7989a11-1cce-4b60-8f8a-33e40373168b\n"
     ]
    },
    {
     "name": "stdout",
     "output_type": "stream",
     "text": [
      "Mejores parámetros: {'n_estimators': 200, 'max_depth': 11, 'learning_rate': 0.10953179120673125, 'subsample': 0.8875703582357626, 'colsample_bytree': 0.7664916917170711, 'gamma': 0.8694621000041144, 'min_child_weight': 51, 'scale_pos_weight': np.float64(1.2905829596412555), 'reg_alpha': 0, 'tree_method': 'approx', 'grow_policy': 'lossguide'}\n",
      "aCC ACT: 0.5665101721439749\n",
      "MEJOR ACCURACY 0.6009389671361502 - 93\n"
     ]
    },
    {
     "name": "stderr",
     "output_type": "stream",
     "text": [
      "[I 2025-03-26 12:05:45,297] Trial 0 finished with value: 0.5226479553036525 and parameters: {'n_estimators': 150, 'max_depth': 45, 'learning_rate': 0.07594218827191422, 'subsample': 0.9615521898940429, 'colsample_bytree': 0.853439634987214, 'gamma': 0.11807620134088448, 'min_child_weight': 7, 'scale_pos_weight': np.float64(1.2905829596412555), 'reg_alpha': 1, 'tree_method': 'auto', 'grow_policy': 'lossguide'}. Best is trial 0 with value: 0.5226479553036525.\n",
      "[I 2025-03-26 12:05:49,850] Trial 1 finished with value: 0.5020939980976113 and parameters: {'n_estimators': 450, 'max_depth': 33, 'learning_rate': 0.1672870703878878, 'subsample': 0.8574621309679369, 'colsample_bytree': 0.8721335857709179, 'gamma': 0.8320025806004527, 'min_child_weight': 1, 'scale_pos_weight': np.float64(1.2905829596412555), 'reg_alpha': 0.1, 'tree_method': 'approx', 'grow_policy': 'depthwise'}. Best is trial 0 with value: 0.5226479553036525.\n",
      "[I 2025-03-26 12:05:51,732] Trial 2 finished with value: 0.47377352241399284 and parameters: {'n_estimators': 300, 'max_depth': 11, 'learning_rate': 0.001269220695898869, 'subsample': 0.8664489696400652, 'colsample_bytree': 0.6631936429332825, 'gamma': 0.2591235517624423, 'min_child_weight': 53, 'scale_pos_weight': np.float64(1.2905829596412555), 'reg_alpha': 1, 'tree_method': 'approx', 'grow_policy': 'depthwise'}. Best is trial 0 with value: 0.5226479553036525.\n",
      "[I 2025-03-26 12:05:52,321] Trial 3 finished with value: 0.5285299299439824 and parameters: {'n_estimators': 200, 'max_depth': 19, 'learning_rate': 0.0032780991457251776, 'subsample': 0.7220456797780418, 'colsample_bytree': 0.8567125238154123, 'gamma': 0.6265154097378605, 'min_child_weight': 17, 'scale_pos_weight': np.float64(1.2905829596412555), 'reg_alpha': 1, 'tree_method': 'hist', 'grow_policy': 'depthwise'}. Best is trial 3 with value: 0.5285299299439824.\n",
      "[I 2025-03-26 12:05:52,900] Trial 4 finished with value: 0.3591767776112906 and parameters: {'n_estimators': 100, 'max_depth': 3, 'learning_rate': 0.006561257960365088, 'subsample': 0.9647916451170828, 'colsample_bytree': 0.5556254872206389, 'gamma': 0.7526286898597675, 'min_child_weight': 47, 'scale_pos_weight': 1, 'reg_alpha': 0.1, 'tree_method': 'approx', 'grow_policy': 'depthwise'}. Best is trial 3 with value: 0.5285299299439824.\n",
      "[I 2025-03-26 12:05:56,628] Trial 5 finished with value: 0.5205464184120048 and parameters: {'n_estimators': 500, 'max_depth': 29, 'learning_rate': 0.01845486234751909, 'subsample': 0.6451815700802467, 'colsample_bytree': 0.8518846165305163, 'gamma': 0.8615867251333434, 'min_child_weight': 1, 'scale_pos_weight': 1, 'reg_alpha': 0.5, 'tree_method': 'auto', 'grow_policy': 'depthwise'}. Best is trial 3 with value: 0.5285299299439824.\n",
      "[I 2025-03-26 12:05:58,601] Trial 6 finished with value: 0.5367876260295843 and parameters: {'n_estimators': 350, 'max_depth': 5, 'learning_rate': 0.004276658583071273, 'subsample': 0.7043263450596964, 'colsample_bytree': 0.7019968216022578, 'gamma': 0.7644737956736372, 'min_child_weight': 29, 'scale_pos_weight': np.float64(1.2905829596412555), 'reg_alpha': 0.5, 'tree_method': 'approx', 'grow_policy': 'depthwise'}. Best is trial 6 with value: 0.5367876260295843.\n",
      "[I 2025-03-26 12:06:12,746] Trial 7 finished with value: 0.5281305588314853 and parameters: {'n_estimators': 350, 'max_depth': 45, 'learning_rate': 0.008477105593163493, 'subsample': 0.744474122752232, 'colsample_bytree': 0.8804027095688594, 'gamma': 0.020324746699501905, 'min_child_weight': 9, 'scale_pos_weight': np.float64(1.2905829596412555), 'reg_alpha': 0, 'tree_method': 'approx', 'grow_policy': 'lossguide'}. Best is trial 6 with value: 0.5367876260295843.\n",
      "[I 2025-03-26 12:06:13,313] Trial 8 finished with value: 0.503340172391349 and parameters: {'n_estimators': 150, 'max_depth': 41, 'learning_rate': 0.191841530246519, 'subsample': 0.8881098671135079, 'colsample_bytree': 0.7536887244564615, 'gamma': 0.0473419581208675, 'min_child_weight': 57, 'scale_pos_weight': np.float64(1.2905829596412555), 'reg_alpha': 0.5, 'tree_method': 'exact', 'grow_policy': 'lossguide'}. Best is trial 6 with value: 0.5367876260295843.\n",
      "[I 2025-03-26 12:06:18,219] Trial 9 finished with value: 0.523264930205359 and parameters: {'n_estimators': 400, 'max_depth': 29, 'learning_rate': 0.02006117360412046, 'subsample': 0.6835534033311459, 'colsample_bytree': 0.7460398361362953, 'gamma': 0.8892976927692918, 'min_child_weight': 17, 'scale_pos_weight': np.float64(1.2905829596412555), 'reg_alpha': 0, 'tree_method': 'approx', 'grow_policy': 'lossguide'}. Best is trial 6 with value: 0.5367876260295843.\n",
      "[I 2025-03-26 12:06:19,079] A new study created in memory with name: no-name-28099a87-6221-413c-b849-445840117592\n"
     ]
    },
    {
     "name": "stdout",
     "output_type": "stream",
     "text": [
      "Mejores parámetros: {'n_estimators': 350, 'max_depth': 5, 'learning_rate': 0.004276658583071273, 'subsample': 0.7043263450596964, 'colsample_bytree': 0.7019968216022578, 'gamma': 0.7644737956736372, 'min_child_weight': 29, 'scale_pos_weight': np.float64(1.2905829596412555), 'reg_alpha': 0.5, 'tree_method': 'approx', 'grow_policy': 'depthwise'}\n",
      "aCC ACT: 0.5821596244131455\n",
      "MEJOR ACCURACY 0.6009389671361502 - 93\n"
     ]
    },
    {
     "name": "stderr",
     "output_type": "stream",
     "text": [
      "[I 2025-03-26 12:06:19,501] Trial 0 finished with value: 0.4670229500933605 and parameters: {'n_estimators': 450, 'max_depth': 49, 'learning_rate': 0.010688438742581654, 'subsample': 0.7138324036114526, 'colsample_bytree': 0.8856082940048771, 'gamma': 0.2989436322357776, 'min_child_weight': 69, 'scale_pos_weight': 1, 'reg_alpha': 0, 'tree_method': 'auto', 'grow_policy': 'lossguide'}. Best is trial 0 with value: 0.4670229500933605.\n",
      "[I 2025-03-26 12:06:20,668] Trial 1 finished with value: 0.47815209486718435 and parameters: {'n_estimators': 200, 'max_depth': 9, 'learning_rate': 0.05770283274043327, 'subsample': 0.84101538689566, 'colsample_bytree': 0.808429387308002, 'gamma': 0.6667817961938692, 'min_child_weight': 51, 'scale_pos_weight': 1, 'reg_alpha': 1, 'tree_method': 'approx', 'grow_policy': 'depthwise'}. Best is trial 1 with value: 0.47815209486718435.\n",
      "[I 2025-03-26 12:06:21,601] Trial 2 finished with value: 0.527125922772413 and parameters: {'n_estimators': 450, 'max_depth': 9, 'learning_rate': 0.00908311884335825, 'subsample': 0.9464935284502407, 'colsample_bytree': 0.5931229074076207, 'gamma': 0.6644262366068653, 'min_child_weight': 35, 'scale_pos_weight': np.float64(1.2905829596412555), 'reg_alpha': 0.5, 'tree_method': 'hist', 'grow_policy': 'depthwise'}. Best is trial 2 with value: 0.527125922772413.\n",
      "[I 2025-03-26 12:06:25,008] Trial 3 finished with value: 0.4656057082999192 and parameters: {'n_estimators': 300, 'max_depth': 33, 'learning_rate': 0.004131067482352519, 'subsample': 0.7292894635404692, 'colsample_bytree': 0.7517363602206006, 'gamma': 0.09471310769730656, 'min_child_weight': 3, 'scale_pos_weight': 1, 'reg_alpha': 0.1, 'tree_method': 'hist', 'grow_policy': 'depthwise'}. Best is trial 2 with value: 0.527125922772413.\n",
      "[I 2025-03-26 12:06:32,320] Trial 4 finished with value: 0.5153116564375978 and parameters: {'n_estimators': 250, 'max_depth': 27, 'learning_rate': 0.0031206406638526903, 'subsample': 0.9394419337703335, 'colsample_bytree': 0.8009369310329674, 'gamma': 0.9046614132295803, 'min_child_weight': 1, 'scale_pos_weight': np.float64(1.2905829596412555), 'reg_alpha': 0.5, 'tree_method': 'hist', 'grow_policy': 'depthwise'}. Best is trial 2 with value: 0.527125922772413.\n",
      "[I 2025-03-26 12:06:33,240] Trial 5 finished with value: 0.48597663319217216 and parameters: {'n_estimators': 400, 'max_depth': 11, 'learning_rate': 0.1260563661837727, 'subsample': 0.873586461872675, 'colsample_bytree': 0.689977354864427, 'gamma': 0.22868728789103465, 'min_child_weight': 69, 'scale_pos_weight': 1, 'reg_alpha': 0.5, 'tree_method': 'exact', 'grow_policy': 'lossguide'}. Best is trial 2 with value: 0.527125922772413.\n",
      "[I 2025-03-26 12:06:33,506] Trial 6 finished with value: 0.4088986852619011 and parameters: {'n_estimators': 250, 'max_depth': 31, 'learning_rate': 0.005508910248406705, 'subsample': 0.6210315033431932, 'colsample_bytree': 0.6825820451116091, 'gamma': 0.0019566612608010736, 'min_child_weight': 37, 'scale_pos_weight': 1, 'reg_alpha': 0.1, 'tree_method': 'hist', 'grow_policy': 'lossguide'}. Best is trial 2 with value: 0.527125922772413.\n",
      "[I 2025-03-26 12:06:35,986] Trial 7 finished with value: 0.5046447508182629 and parameters: {'n_estimators': 500, 'max_depth': 37, 'learning_rate': 0.14275361265230183, 'subsample': 0.7514278693604033, 'colsample_bytree': 0.6765759197804573, 'gamma': 0.09307201481444483, 'min_child_weight': 31, 'scale_pos_weight': 1, 'reg_alpha': 1, 'tree_method': 'approx', 'grow_policy': 'lossguide'}. Best is trial 2 with value: 0.527125922772413.\n",
      "[I 2025-03-26 12:06:36,260] Trial 8 finished with value: 0.5014778735467694 and parameters: {'n_estimators': 300, 'max_depth': 47, 'learning_rate': 0.16875742430306256, 'subsample': 0.9440556269643668, 'colsample_bytree': 0.5700654000045373, 'gamma': 0.19508204757084824, 'min_child_weight': 43, 'scale_pos_weight': 1, 'reg_alpha': 0.1, 'tree_method': 'hist', 'grow_policy': 'depthwise'}. Best is trial 2 with value: 0.527125922772413.\n",
      "[I 2025-03-26 12:06:38,545] Trial 9 finished with value: 0.5328522651214127 and parameters: {'n_estimators': 350, 'max_depth': 19, 'learning_rate': 0.006484837349132077, 'subsample': 0.8418293601588771, 'colsample_bytree': 0.8160578260261887, 'gamma': 0.16727310164808395, 'min_child_weight': 29, 'scale_pos_weight': np.float64(1.2905829596412555), 'reg_alpha': 1, 'tree_method': 'approx', 'grow_policy': 'depthwise'}. Best is trial 9 with value: 0.5328522651214127.\n",
      "[I 2025-03-26 12:06:40,471] A new study created in memory with name: no-name-39e786a0-11d7-48dc-8f8f-b55f1dba569a\n"
     ]
    },
    {
     "name": "stdout",
     "output_type": "stream",
     "text": [
      "Mejores parámetros: {'n_estimators': 350, 'max_depth': 19, 'learning_rate': 0.006484837349132077, 'subsample': 0.8418293601588771, 'colsample_bytree': 0.8160578260261887, 'gamma': 0.16727310164808395, 'min_child_weight': 29, 'scale_pos_weight': np.float64(1.2905829596412555), 'reg_alpha': 1, 'tree_method': 'approx', 'grow_policy': 'depthwise'}\n",
      "aCC ACT: 0.5899843505477308\n",
      "MEJOR ACCURACY 0.6009389671361502 - 93\n"
     ]
    },
    {
     "name": "stderr",
     "output_type": "stream",
     "text": [
      "[I 2025-03-26 12:06:43,824] Trial 0 finished with value: 0.46440860662866523 and parameters: {'n_estimators': 400, 'max_depth': 29, 'learning_rate': 0.004933160056837221, 'subsample': 0.9122331701910686, 'colsample_bytree': 0.7489371389373092, 'gamma': 0.11891018660926722, 'min_child_weight': 27, 'scale_pos_weight': 1, 'reg_alpha': 1, 'tree_method': 'approx', 'grow_policy': 'lossguide'}. Best is trial 0 with value: 0.46440860662866523.\n",
      "[I 2025-03-26 12:06:44,992] Trial 1 finished with value: 0.5269675131259457 and parameters: {'n_estimators': 250, 'max_depth': 35, 'learning_rate': 0.0048278673383701275, 'subsample': 0.9911688154640053, 'colsample_bytree': 0.8466608283041787, 'gamma': 0.03178680675370549, 'min_child_weight': 9, 'scale_pos_weight': np.float64(1.2905829596412555), 'reg_alpha': 0, 'tree_method': 'hist', 'grow_policy': 'lossguide'}. Best is trial 1 with value: 0.5269675131259457.\n",
      "[I 2025-03-26 12:06:45,747] Trial 2 finished with value: 0.5169653368915009 and parameters: {'n_estimators': 300, 'max_depth': 41, 'learning_rate': 0.18444894398530667, 'subsample': 0.887202735119838, 'colsample_bytree': 0.7129964288781313, 'gamma': 0.06659858097879023, 'min_child_weight': 5, 'scale_pos_weight': np.float64(1.2905829596412555), 'reg_alpha': 1, 'tree_method': 'hist', 'grow_policy': 'lossguide'}. Best is trial 1 with value: 0.5269675131259457.\n",
      "[I 2025-03-26 12:06:46,154] Trial 3 finished with value: 0.40314871111442613 and parameters: {'n_estimators': 150, 'max_depth': 7, 'learning_rate': 0.006729043444795826, 'subsample': 0.7020779290193752, 'colsample_bytree': 0.5185726654095024, 'gamma': 0.2058674863916249, 'min_child_weight': 25, 'scale_pos_weight': 1, 'reg_alpha': 0, 'tree_method': 'exact', 'grow_policy': 'lossguide'}. Best is trial 1 with value: 0.5269675131259457.\n",
      "[I 2025-03-26 12:06:46,294] Trial 4 finished with value: 0.48006945635351067 and parameters: {'n_estimators': 150, 'max_depth': 29, 'learning_rate': 0.04799632622583226, 'subsample': 0.6595824071582611, 'colsample_bytree': 0.9013062458895105, 'gamma': 0.18742169196662206, 'min_child_weight': 51, 'scale_pos_weight': 1, 'reg_alpha': 0.5, 'tree_method': 'hist', 'grow_policy': 'lossguide'}. Best is trial 1 with value: 0.5269675131259457.\n",
      "[I 2025-03-26 12:06:48,877] Trial 5 finished with value: 0.501100676193524 and parameters: {'n_estimators': 200, 'max_depth': 47, 'learning_rate': 0.0017067780721308993, 'subsample': 0.8542917013469571, 'colsample_bytree': 0.7017125045937775, 'gamma': 0.6991751595321096, 'min_child_weight': 19, 'scale_pos_weight': np.float64(1.2905829596412555), 'reg_alpha': 0.5, 'tree_method': 'approx', 'grow_policy': 'lossguide'}. Best is trial 1 with value: 0.5269675131259457.\n",
      "[I 2025-03-26 12:06:49,616] Trial 6 finished with value: 0.5105469434014374 and parameters: {'n_estimators': 150, 'max_depth': 5, 'learning_rate': 0.09852495617612421, 'subsample': 0.6392212303607177, 'colsample_bytree': 0.6144784732106652, 'gamma': 0.9015456895886448, 'min_child_weight': 25, 'scale_pos_weight': 1, 'reg_alpha': 1, 'tree_method': 'approx', 'grow_policy': 'depthwise'}. Best is trial 1 with value: 0.5269675131259457.\n",
      "[I 2025-03-26 12:06:50,269] Trial 7 finished with value: 0.5323838278588333 and parameters: {'n_estimators': 200, 'max_depth': 35, 'learning_rate': 0.009838254651924125, 'subsample': 0.7450435402187674, 'colsample_bytree': 0.8357105971675417, 'gamma': 0.7397456481650526, 'min_child_weight': 43, 'scale_pos_weight': np.float64(1.2905829596412555), 'reg_alpha': 0, 'tree_method': 'exact', 'grow_policy': 'lossguide'}. Best is trial 7 with value: 0.5323838278588333.\n",
      "[I 2025-03-26 12:06:52,311] Trial 8 finished with value: 0.5279843137061049 and parameters: {'n_estimators': 400, 'max_depth': 37, 'learning_rate': 0.013880351507734244, 'subsample': 0.7492555317460702, 'colsample_bytree': 0.915395287069295, 'gamma': 0.08089886203331353, 'min_child_weight': 23, 'scale_pos_weight': np.float64(1.2905829596412555), 'reg_alpha': 0.1, 'tree_method': 'exact', 'grow_policy': 'depthwise'}. Best is trial 7 with value: 0.5323838278588333.\n",
      "[I 2025-03-26 12:06:52,791] Trial 9 finished with value: 0.44764821772593566 and parameters: {'n_estimators': 250, 'max_depth': 11, 'learning_rate': 0.009801956721968952, 'subsample': 0.6297745336718387, 'colsample_bytree': 0.6878720260395322, 'gamma': 0.6914703545183682, 'min_child_weight': 53, 'scale_pos_weight': 1, 'reg_alpha': 0, 'tree_method': 'exact', 'grow_policy': 'lossguide'}. Best is trial 7 with value: 0.5323838278588333.\n",
      "[I 2025-03-26 12:06:53,028] A new study created in memory with name: no-name-9b3fc8bf-fe3a-486b-958b-ea493d15cb1a\n"
     ]
    },
    {
     "name": "stdout",
     "output_type": "stream",
     "text": [
      "Mejores parámetros: {'n_estimators': 200, 'max_depth': 35, 'learning_rate': 0.009838254651924125, 'subsample': 0.7450435402187674, 'colsample_bytree': 0.8357105971675417, 'gamma': 0.7397456481650526, 'min_child_weight': 43, 'scale_pos_weight': np.float64(1.2905829596412555), 'reg_alpha': 0, 'tree_method': 'exact', 'grow_policy': 'lossguide'}\n",
      "aCC ACT: 0.594679186228482\n",
      "MEJOR ACCURACY 0.6009389671361502 - 93\n"
     ]
    },
    {
     "name": "stderr",
     "output_type": "stream",
     "text": [
      "[I 2025-03-26 12:06:53,566] Trial 0 finished with value: 0.5134104099977401 and parameters: {'n_estimators': 400, 'max_depth': 25, 'learning_rate': 0.07933944474173049, 'subsample': 0.6125785550505193, 'colsample_bytree': 0.9040249816824238, 'gamma': 0.5656174196105306, 'min_child_weight': 21, 'scale_pos_weight': np.float64(1.2905829596412555), 'reg_alpha': 0.1, 'tree_method': 'hist', 'grow_policy': 'depthwise'}. Best is trial 0 with value: 0.5134104099977401.\n",
      "[I 2025-03-26 12:06:54,321] Trial 1 finished with value: 0.5075152042854744 and parameters: {'n_estimators': 450, 'max_depth': 13, 'learning_rate': 0.01886106789030096, 'subsample': 0.7169076463836647, 'colsample_bytree': 0.9080711799935941, 'gamma': 0.8280425662068114, 'min_child_weight': 15, 'scale_pos_weight': 1, 'reg_alpha': 0, 'tree_method': 'auto', 'grow_policy': 'depthwise'}. Best is trial 0 with value: 0.5134104099977401.\n",
      "[I 2025-03-26 12:06:54,440] Trial 2 finished with value: 0.4370734087904175 and parameters: {'n_estimators': 150, 'max_depth': 47, 'learning_rate': 0.017675025753491013, 'subsample': 0.6167034125176959, 'colsample_bytree': 0.7624384199810065, 'gamma': 0.6401425405143248, 'min_child_weight': 57, 'scale_pos_weight': 1, 'reg_alpha': 0, 'tree_method': 'hist', 'grow_policy': 'depthwise'}. Best is trial 0 with value: 0.5134104099977401.\n",
      "[I 2025-03-26 12:06:54,766] Trial 3 finished with value: 0.3581489377629863 and parameters: {'n_estimators': 400, 'max_depth': 43, 'learning_rate': 0.0015201582260910597, 'subsample': 0.7639834144568218, 'colsample_bytree': 0.8207850503867318, 'gamma': 0.9764513222168602, 'min_child_weight': 49, 'scale_pos_weight': 1, 'reg_alpha': 1, 'tree_method': 'auto', 'grow_policy': 'depthwise'}. Best is trial 0 with value: 0.5134104099977401.\n",
      "[I 2025-03-26 12:06:55,852] Trial 4 finished with value: 0.3822458321379389 and parameters: {'n_estimators': 450, 'max_depth': 47, 'learning_rate': 0.0022507650219781433, 'subsample': 0.7880114483019591, 'colsample_bytree': 0.7731343176852605, 'gamma': 0.5162529083066829, 'min_child_weight': 51, 'scale_pos_weight': 1, 'reg_alpha': 1, 'tree_method': 'exact', 'grow_policy': 'depthwise'}. Best is trial 0 with value: 0.5134104099977401.\n",
      "[I 2025-03-26 12:06:56,435] Trial 5 finished with value: 0.40587938943164514 and parameters: {'n_estimators': 200, 'max_depth': 29, 'learning_rate': 0.006556338313768703, 'subsample': 0.8978589007983149, 'colsample_bytree': 0.824079410198532, 'gamma': 0.7700376305434805, 'min_child_weight': 55, 'scale_pos_weight': 1, 'reg_alpha': 0, 'tree_method': 'exact', 'grow_policy': 'depthwise'}. Best is trial 0 with value: 0.5134104099977401.\n",
      "[I 2025-03-26 12:06:57,386] Trial 6 finished with value: 0.48615656561631965 and parameters: {'n_estimators': 400, 'max_depth': 39, 'learning_rate': 0.02601501804110266, 'subsample': 0.960871764359924, 'colsample_bytree': 0.5665680302177729, 'gamma': 0.2006592579192613, 'min_child_weight': 59, 'scale_pos_weight': 1, 'reg_alpha': 0.1, 'tree_method': 'exact', 'grow_policy': 'lossguide'}. Best is trial 0 with value: 0.5134104099977401.\n",
      "[I 2025-03-26 12:06:57,923] Trial 7 finished with value: 0.5404285396412275 and parameters: {'n_estimators': 400, 'max_depth': 5, 'learning_rate': 0.0030724960498867255, 'subsample': 0.7193804700775142, 'colsample_bytree': 0.9830352684484229, 'gamma': 0.6576156440907441, 'min_child_weight': 13, 'scale_pos_weight': np.float64(1.2905829596412555), 'reg_alpha': 0.5, 'tree_method': 'hist', 'grow_policy': 'depthwise'}. Best is trial 7 with value: 0.5404285396412275.\n",
      "[I 2025-03-26 12:07:01,757] Trial 8 finished with value: 0.5062818644733447 and parameters: {'n_estimators': 450, 'max_depth': 49, 'learning_rate': 0.05638061910952619, 'subsample': 0.9277827101996274, 'colsample_bytree': 0.9684430165897426, 'gamma': 0.4138407275582775, 'min_child_weight': 23, 'scale_pos_weight': 1, 'reg_alpha': 0.5, 'tree_method': 'approx', 'grow_policy': 'depthwise'}. Best is trial 7 with value: 0.5404285396412275.\n",
      "[I 2025-03-26 12:07:02,774] Trial 9 finished with value: 0.5165975725452976 and parameters: {'n_estimators': 350, 'max_depth': 29, 'learning_rate': 0.03562323436632158, 'subsample': 0.6969386294786197, 'colsample_bytree': 0.7245615495690316, 'gamma': 0.6990326258608323, 'min_child_weight': 11, 'scale_pos_weight': np.float64(1.2905829596412555), 'reg_alpha': 0.1, 'tree_method': 'auto', 'grow_policy': 'depthwise'}. Best is trial 7 with value: 0.5404285396412275.\n"
     ]
    },
    {
     "name": "stdout",
     "output_type": "stream",
     "text": [
      "Mejores parámetros: {'n_estimators': 400, 'max_depth': 5, 'learning_rate': 0.0030724960498867255, 'subsample': 0.7193804700775142, 'colsample_bytree': 0.9830352684484229, 'gamma': 0.6576156440907441, 'min_child_weight': 13, 'scale_pos_weight': np.float64(1.2905829596412555), 'reg_alpha': 0.5, 'tree_method': 'hist', 'grow_policy': 'depthwise'}\n",
      "aCC ACT: 0.6009389671361502\n",
      "MEJOR ACCURACY 0.6009389671361502 - 93\n"
     ]
    }
   ],
   "source": [
    "print(\"-- Entrenamiento usando ajuste de hiperparámetros con Optuna --\")\n",
    "best_acc = 0\n",
    "best_seed = None\n",
    "for i in range(25,100):\n",
    "    sampler = TPESampler(seed=i)\n",
    "    study = optuna.create_study(direction='maximize',sampler=sampler)\n",
    "    study.optimize(lambda trial: objective(trial, X_train, y_train), n_trials=10)\n",
    "\n",
    "    best_params = study.best_params\n",
    "    best_model = XGBClassifier(**best_params)\n",
    "    best_model.fit(X_train, y_train)\n",
    "    y_val_pred = best_model.predict(X_test)\n",
    "    y_val_prob = best_model.predict_proba(X_test)[:,1]\n",
    "    acc = accuracy_score(y_test,y_val_pred)\n",
    "    print(\"Mejores parámetros:\", best_params)\n",
    "    print(f\"aCC ACT: {acc}\")\n",
    "    if best_acc < acc:\n",
    "        best_acc = acc\n",
    "        best_seed = i\n",
    "    print(f\"MEJOR ACCURACY {best_acc} - {best_seed}\")"
   ]
  },
  {
   "cell_type": "code",
   "execution_count": 37,
   "metadata": {},
   "outputs": [
    {
     "name": "stderr",
     "output_type": "stream",
     "text": [
      "[I 2025-03-26 12:14:16,431] A new study created in memory with name: no-name-972e9ebb-cffa-4381-bdf6-af22a6130f47\n",
      "[I 2025-03-26 12:14:17,801] Trial 0 finished with value: 0.4124679998337462 and parameters: {'n_estimators': 350, 'max_depth': 33, 'learning_rate': 0.00509296601767346, 'subsample': 0.984801394060337, 'colsample_bytree': 0.7679594536656469, 'gamma': 0.6596346908866366, 'min_child_weight': 69, 'scale_pos_weight': 1, 'reg_alpha': 1, 'tree_method': 'approx', 'grow_policy': 'lossguide'}. Best is trial 0 with value: 0.4124679998337462.\n",
      "[I 2025-03-26 12:14:18,547] Trial 1 finished with value: 0.3581489377629863 and parameters: {'n_estimators': 350, 'max_depth': 43, 'learning_rate': 0.0013217201666774244, 'subsample': 0.8276258209840586, 'colsample_bytree': 0.7026674356410139, 'gamma': 0.8025135774127663, 'min_child_weight': 55, 'scale_pos_weight': 1, 'reg_alpha': 0, 'tree_method': 'exact', 'grow_policy': 'lossguide'}. Best is trial 0 with value: 0.4124679998337462.\n",
      "[I 2025-03-26 12:14:22,119] Trial 2 finished with value: 0.5139510233695515 and parameters: {'n_estimators': 350, 'max_depth': 43, 'learning_rate': 0.15179356291770696, 'subsample': 0.7819005996101198, 'colsample_bytree': 0.732855750778473, 'gamma': 0.9271032953685153, 'min_child_weight': 9, 'scale_pos_weight': np.float64(1.2905829596412555), 'reg_alpha': 0, 'tree_method': 'approx', 'grow_policy': 'lossguide'}. Best is trial 2 with value: 0.5139510233695515.\n",
      "[I 2025-03-26 12:14:23,904] Trial 3 finished with value: 0.505050770256162 and parameters: {'n_estimators': 150, 'max_depth': 35, 'learning_rate': 0.0030730721098318915, 'subsample': 0.6121543639276349, 'colsample_bytree': 0.5172604776142897, 'gamma': 0.25103484423204014, 'min_child_weight': 15, 'scale_pos_weight': np.float64(1.2905829596412555), 'reg_alpha': 0.1, 'tree_method': 'approx', 'grow_policy': 'lossguide'}. Best is trial 2 with value: 0.5139510233695515.\n",
      "[I 2025-03-26 12:14:25,234] Trial 4 finished with value: 0.43925946186632325 and parameters: {'n_estimators': 350, 'max_depth': 23, 'learning_rate': 0.001119549158128758, 'subsample': 0.6046434576949357, 'colsample_bytree': 0.5076441061530519, 'gamma': 0.9185975197348268, 'min_child_weight': 65, 'scale_pos_weight': np.float64(1.2905829596412555), 'reg_alpha': 0.1, 'tree_method': 'approx', 'grow_policy': 'lossguide'}. Best is trial 2 with value: 0.5139510233695515.\n",
      "[I 2025-03-26 12:14:25,511] Trial 5 finished with value: 0.40651788633238295 and parameters: {'n_estimators': 350, 'max_depth': 13, 'learning_rate': 0.0038325830467530702, 'subsample': 0.8425817540094743, 'colsample_bytree': 0.5107466057444259, 'gamma': 0.2469599584726011, 'min_child_weight': 41, 'scale_pos_weight': 1, 'reg_alpha': 0.5, 'tree_method': 'hist', 'grow_policy': 'depthwise'}. Best is trial 2 with value: 0.5139510233695515.\n",
      "[I 2025-03-26 12:14:26,280] Trial 6 finished with value: 0.47465838753022965 and parameters: {'n_estimators': 450, 'max_depth': 19, 'learning_rate': 0.023020455299444756, 'subsample': 0.6567360372183687, 'colsample_bytree': 0.7312972404193666, 'gamma': 0.03024549908583518, 'min_child_weight': 59, 'scale_pos_weight': 1, 'reg_alpha': 0, 'tree_method': 'exact', 'grow_policy': 'lossguide'}. Best is trial 2 with value: 0.5139510233695515.\n",
      "[I 2025-03-26 12:14:26,440] Trial 7 finished with value: 0.5280560891504205 and parameters: {'n_estimators': 150, 'max_depth': 13, 'learning_rate': 0.006915868758351107, 'subsample': 0.9298990570934921, 'colsample_bytree': 0.5666011772544999, 'gamma': 0.10411882435360587, 'min_child_weight': 41, 'scale_pos_weight': np.float64(1.2905829596412555), 'reg_alpha': 0, 'tree_method': 'hist', 'grow_policy': 'depthwise'}. Best is trial 7 with value: 0.5280560891504205.\n",
      "[I 2025-03-26 12:14:26,808] Trial 8 finished with value: 0.5385595155053372 and parameters: {'n_estimators': 250, 'max_depth': 35, 'learning_rate': 0.007269849808230246, 'subsample': 0.8681666044628134, 'colsample_bytree': 0.7083408374260576, 'gamma': 0.8786579457166467, 'min_child_weight': 23, 'scale_pos_weight': np.float64(1.2905829596412555), 'reg_alpha': 1, 'tree_method': 'auto', 'grow_policy': 'depthwise'}. Best is trial 8 with value: 0.5385595155053372.\n",
      "[I 2025-03-26 12:14:27,644] Trial 9 finished with value: 0.4408490079493692 and parameters: {'n_estimators': 150, 'max_depth': 31, 'learning_rate': 0.001341458213522084, 'subsample': 0.6834667996653423, 'colsample_bytree': 0.8893741315213743, 'gamma': 0.013437542004900438, 'min_child_weight': 31, 'scale_pos_weight': np.float64(1.2905829596412555), 'reg_alpha': 0.5, 'tree_method': 'approx', 'grow_policy': 'depthwise'}. Best is trial 8 with value: 0.5385595155053372.\n"
     ]
    },
    {
     "data": {
      "text/html": [
       "<style>#sk-container-id-4 {\n",
       "  /* Definition of color scheme common for light and dark mode */\n",
       "  --sklearn-color-text: #000;\n",
       "  --sklearn-color-text-muted: #666;\n",
       "  --sklearn-color-line: gray;\n",
       "  /* Definition of color scheme for unfitted estimators */\n",
       "  --sklearn-color-unfitted-level-0: #fff5e6;\n",
       "  --sklearn-color-unfitted-level-1: #f6e4d2;\n",
       "  --sklearn-color-unfitted-level-2: #ffe0b3;\n",
       "  --sklearn-color-unfitted-level-3: chocolate;\n",
       "  /* Definition of color scheme for fitted estimators */\n",
       "  --sklearn-color-fitted-level-0: #f0f8ff;\n",
       "  --sklearn-color-fitted-level-1: #d4ebff;\n",
       "  --sklearn-color-fitted-level-2: #b3dbfd;\n",
       "  --sklearn-color-fitted-level-3: cornflowerblue;\n",
       "\n",
       "  /* Specific color for light theme */\n",
       "  --sklearn-color-text-on-default-background: var(--sg-text-color, var(--theme-code-foreground, var(--jp-content-font-color1, black)));\n",
       "  --sklearn-color-background: var(--sg-background-color, var(--theme-background, var(--jp-layout-color0, white)));\n",
       "  --sklearn-color-border-box: var(--sg-text-color, var(--theme-code-foreground, var(--jp-content-font-color1, black)));\n",
       "  --sklearn-color-icon: #696969;\n",
       "\n",
       "  @media (prefers-color-scheme: dark) {\n",
       "    /* Redefinition of color scheme for dark theme */\n",
       "    --sklearn-color-text-on-default-background: var(--sg-text-color, var(--theme-code-foreground, var(--jp-content-font-color1, white)));\n",
       "    --sklearn-color-background: var(--sg-background-color, var(--theme-background, var(--jp-layout-color0, #111)));\n",
       "    --sklearn-color-border-box: var(--sg-text-color, var(--theme-code-foreground, var(--jp-content-font-color1, white)));\n",
       "    --sklearn-color-icon: #878787;\n",
       "  }\n",
       "}\n",
       "\n",
       "#sk-container-id-4 {\n",
       "  color: var(--sklearn-color-text);\n",
       "}\n",
       "\n",
       "#sk-container-id-4 pre {\n",
       "  padding: 0;\n",
       "}\n",
       "\n",
       "#sk-container-id-4 input.sk-hidden--visually {\n",
       "  border: 0;\n",
       "  clip: rect(1px 1px 1px 1px);\n",
       "  clip: rect(1px, 1px, 1px, 1px);\n",
       "  height: 1px;\n",
       "  margin: -1px;\n",
       "  overflow: hidden;\n",
       "  padding: 0;\n",
       "  position: absolute;\n",
       "  width: 1px;\n",
       "}\n",
       "\n",
       "#sk-container-id-4 div.sk-dashed-wrapped {\n",
       "  border: 1px dashed var(--sklearn-color-line);\n",
       "  margin: 0 0.4em 0.5em 0.4em;\n",
       "  box-sizing: border-box;\n",
       "  padding-bottom: 0.4em;\n",
       "  background-color: var(--sklearn-color-background);\n",
       "}\n",
       "\n",
       "#sk-container-id-4 div.sk-container {\n",
       "  /* jupyter's `normalize.less` sets `[hidden] { display: none; }`\n",
       "     but bootstrap.min.css set `[hidden] { display: none !important; }`\n",
       "     so we also need the `!important` here to be able to override the\n",
       "     default hidden behavior on the sphinx rendered scikit-learn.org.\n",
       "     See: https://github.com/scikit-learn/scikit-learn/issues/21755 */\n",
       "  display: inline-block !important;\n",
       "  position: relative;\n",
       "}\n",
       "\n",
       "#sk-container-id-4 div.sk-text-repr-fallback {\n",
       "  display: none;\n",
       "}\n",
       "\n",
       "div.sk-parallel-item,\n",
       "div.sk-serial,\n",
       "div.sk-item {\n",
       "  /* draw centered vertical line to link estimators */\n",
       "  background-image: linear-gradient(var(--sklearn-color-text-on-default-background), var(--sklearn-color-text-on-default-background));\n",
       "  background-size: 2px 100%;\n",
       "  background-repeat: no-repeat;\n",
       "  background-position: center center;\n",
       "}\n",
       "\n",
       "/* Parallel-specific style estimator block */\n",
       "\n",
       "#sk-container-id-4 div.sk-parallel-item::after {\n",
       "  content: \"\";\n",
       "  width: 100%;\n",
       "  border-bottom: 2px solid var(--sklearn-color-text-on-default-background);\n",
       "  flex-grow: 1;\n",
       "}\n",
       "\n",
       "#sk-container-id-4 div.sk-parallel {\n",
       "  display: flex;\n",
       "  align-items: stretch;\n",
       "  justify-content: center;\n",
       "  background-color: var(--sklearn-color-background);\n",
       "  position: relative;\n",
       "}\n",
       "\n",
       "#sk-container-id-4 div.sk-parallel-item {\n",
       "  display: flex;\n",
       "  flex-direction: column;\n",
       "}\n",
       "\n",
       "#sk-container-id-4 div.sk-parallel-item:first-child::after {\n",
       "  align-self: flex-end;\n",
       "  width: 50%;\n",
       "}\n",
       "\n",
       "#sk-container-id-4 div.sk-parallel-item:last-child::after {\n",
       "  align-self: flex-start;\n",
       "  width: 50%;\n",
       "}\n",
       "\n",
       "#sk-container-id-4 div.sk-parallel-item:only-child::after {\n",
       "  width: 0;\n",
       "}\n",
       "\n",
       "/* Serial-specific style estimator block */\n",
       "\n",
       "#sk-container-id-4 div.sk-serial {\n",
       "  display: flex;\n",
       "  flex-direction: column;\n",
       "  align-items: center;\n",
       "  background-color: var(--sklearn-color-background);\n",
       "  padding-right: 1em;\n",
       "  padding-left: 1em;\n",
       "}\n",
       "\n",
       "\n",
       "/* Toggleable style: style used for estimator/Pipeline/ColumnTransformer box that is\n",
       "clickable and can be expanded/collapsed.\n",
       "- Pipeline and ColumnTransformer use this feature and define the default style\n",
       "- Estimators will overwrite some part of the style using the `sk-estimator` class\n",
       "*/\n",
       "\n",
       "/* Pipeline and ColumnTransformer style (default) */\n",
       "\n",
       "#sk-container-id-4 div.sk-toggleable {\n",
       "  /* Default theme specific background. It is overwritten whether we have a\n",
       "  specific estimator or a Pipeline/ColumnTransformer */\n",
       "  background-color: var(--sklearn-color-background);\n",
       "}\n",
       "\n",
       "/* Toggleable label */\n",
       "#sk-container-id-4 label.sk-toggleable__label {\n",
       "  cursor: pointer;\n",
       "  display: flex;\n",
       "  width: 100%;\n",
       "  margin-bottom: 0;\n",
       "  padding: 0.5em;\n",
       "  box-sizing: border-box;\n",
       "  text-align: center;\n",
       "  align-items: start;\n",
       "  justify-content: space-between;\n",
       "  gap: 0.5em;\n",
       "}\n",
       "\n",
       "#sk-container-id-4 label.sk-toggleable__label .caption {\n",
       "  font-size: 0.6rem;\n",
       "  font-weight: lighter;\n",
       "  color: var(--sklearn-color-text-muted);\n",
       "}\n",
       "\n",
       "#sk-container-id-4 label.sk-toggleable__label-arrow:before {\n",
       "  /* Arrow on the left of the label */\n",
       "  content: \"▸\";\n",
       "  float: left;\n",
       "  margin-right: 0.25em;\n",
       "  color: var(--sklearn-color-icon);\n",
       "}\n",
       "\n",
       "#sk-container-id-4 label.sk-toggleable__label-arrow:hover:before {\n",
       "  color: var(--sklearn-color-text);\n",
       "}\n",
       "\n",
       "/* Toggleable content - dropdown */\n",
       "\n",
       "#sk-container-id-4 div.sk-toggleable__content {\n",
       "  max-height: 0;\n",
       "  max-width: 0;\n",
       "  overflow: hidden;\n",
       "  text-align: left;\n",
       "  /* unfitted */\n",
       "  background-color: var(--sklearn-color-unfitted-level-0);\n",
       "}\n",
       "\n",
       "#sk-container-id-4 div.sk-toggleable__content.fitted {\n",
       "  /* fitted */\n",
       "  background-color: var(--sklearn-color-fitted-level-0);\n",
       "}\n",
       "\n",
       "#sk-container-id-4 div.sk-toggleable__content pre {\n",
       "  margin: 0.2em;\n",
       "  border-radius: 0.25em;\n",
       "  color: var(--sklearn-color-text);\n",
       "  /* unfitted */\n",
       "  background-color: var(--sklearn-color-unfitted-level-0);\n",
       "}\n",
       "\n",
       "#sk-container-id-4 div.sk-toggleable__content.fitted pre {\n",
       "  /* unfitted */\n",
       "  background-color: var(--sklearn-color-fitted-level-0);\n",
       "}\n",
       "\n",
       "#sk-container-id-4 input.sk-toggleable__control:checked~div.sk-toggleable__content {\n",
       "  /* Expand drop-down */\n",
       "  max-height: 200px;\n",
       "  max-width: 100%;\n",
       "  overflow: auto;\n",
       "}\n",
       "\n",
       "#sk-container-id-4 input.sk-toggleable__control:checked~label.sk-toggleable__label-arrow:before {\n",
       "  content: \"▾\";\n",
       "}\n",
       "\n",
       "/* Pipeline/ColumnTransformer-specific style */\n",
       "\n",
       "#sk-container-id-4 div.sk-label input.sk-toggleable__control:checked~label.sk-toggleable__label {\n",
       "  color: var(--sklearn-color-text);\n",
       "  background-color: var(--sklearn-color-unfitted-level-2);\n",
       "}\n",
       "\n",
       "#sk-container-id-4 div.sk-label.fitted input.sk-toggleable__control:checked~label.sk-toggleable__label {\n",
       "  background-color: var(--sklearn-color-fitted-level-2);\n",
       "}\n",
       "\n",
       "/* Estimator-specific style */\n",
       "\n",
       "/* Colorize estimator box */\n",
       "#sk-container-id-4 div.sk-estimator input.sk-toggleable__control:checked~label.sk-toggleable__label {\n",
       "  /* unfitted */\n",
       "  background-color: var(--sklearn-color-unfitted-level-2);\n",
       "}\n",
       "\n",
       "#sk-container-id-4 div.sk-estimator.fitted input.sk-toggleable__control:checked~label.sk-toggleable__label {\n",
       "  /* fitted */\n",
       "  background-color: var(--sklearn-color-fitted-level-2);\n",
       "}\n",
       "\n",
       "#sk-container-id-4 div.sk-label label.sk-toggleable__label,\n",
       "#sk-container-id-4 div.sk-label label {\n",
       "  /* The background is the default theme color */\n",
       "  color: var(--sklearn-color-text-on-default-background);\n",
       "}\n",
       "\n",
       "/* On hover, darken the color of the background */\n",
       "#sk-container-id-4 div.sk-label:hover label.sk-toggleable__label {\n",
       "  color: var(--sklearn-color-text);\n",
       "  background-color: var(--sklearn-color-unfitted-level-2);\n",
       "}\n",
       "\n",
       "/* Label box, darken color on hover, fitted */\n",
       "#sk-container-id-4 div.sk-label.fitted:hover label.sk-toggleable__label.fitted {\n",
       "  color: var(--sklearn-color-text);\n",
       "  background-color: var(--sklearn-color-fitted-level-2);\n",
       "}\n",
       "\n",
       "/* Estimator label */\n",
       "\n",
       "#sk-container-id-4 div.sk-label label {\n",
       "  font-family: monospace;\n",
       "  font-weight: bold;\n",
       "  display: inline-block;\n",
       "  line-height: 1.2em;\n",
       "}\n",
       "\n",
       "#sk-container-id-4 div.sk-label-container {\n",
       "  text-align: center;\n",
       "}\n",
       "\n",
       "/* Estimator-specific */\n",
       "#sk-container-id-4 div.sk-estimator {\n",
       "  font-family: monospace;\n",
       "  border: 1px dotted var(--sklearn-color-border-box);\n",
       "  border-radius: 0.25em;\n",
       "  box-sizing: border-box;\n",
       "  margin-bottom: 0.5em;\n",
       "  /* unfitted */\n",
       "  background-color: var(--sklearn-color-unfitted-level-0);\n",
       "}\n",
       "\n",
       "#sk-container-id-4 div.sk-estimator.fitted {\n",
       "  /* fitted */\n",
       "  background-color: var(--sklearn-color-fitted-level-0);\n",
       "}\n",
       "\n",
       "/* on hover */\n",
       "#sk-container-id-4 div.sk-estimator:hover {\n",
       "  /* unfitted */\n",
       "  background-color: var(--sklearn-color-unfitted-level-2);\n",
       "}\n",
       "\n",
       "#sk-container-id-4 div.sk-estimator.fitted:hover {\n",
       "  /* fitted */\n",
       "  background-color: var(--sklearn-color-fitted-level-2);\n",
       "}\n",
       "\n",
       "/* Specification for estimator info (e.g. \"i\" and \"?\") */\n",
       "\n",
       "/* Common style for \"i\" and \"?\" */\n",
       "\n",
       ".sk-estimator-doc-link,\n",
       "a:link.sk-estimator-doc-link,\n",
       "a:visited.sk-estimator-doc-link {\n",
       "  float: right;\n",
       "  font-size: smaller;\n",
       "  line-height: 1em;\n",
       "  font-family: monospace;\n",
       "  background-color: var(--sklearn-color-background);\n",
       "  border-radius: 1em;\n",
       "  height: 1em;\n",
       "  width: 1em;\n",
       "  text-decoration: none !important;\n",
       "  margin-left: 0.5em;\n",
       "  text-align: center;\n",
       "  /* unfitted */\n",
       "  border: var(--sklearn-color-unfitted-level-1) 1pt solid;\n",
       "  color: var(--sklearn-color-unfitted-level-1);\n",
       "}\n",
       "\n",
       ".sk-estimator-doc-link.fitted,\n",
       "a:link.sk-estimator-doc-link.fitted,\n",
       "a:visited.sk-estimator-doc-link.fitted {\n",
       "  /* fitted */\n",
       "  border: var(--sklearn-color-fitted-level-1) 1pt solid;\n",
       "  color: var(--sklearn-color-fitted-level-1);\n",
       "}\n",
       "\n",
       "/* On hover */\n",
       "div.sk-estimator:hover .sk-estimator-doc-link:hover,\n",
       ".sk-estimator-doc-link:hover,\n",
       "div.sk-label-container:hover .sk-estimator-doc-link:hover,\n",
       ".sk-estimator-doc-link:hover {\n",
       "  /* unfitted */\n",
       "  background-color: var(--sklearn-color-unfitted-level-3);\n",
       "  color: var(--sklearn-color-background);\n",
       "  text-decoration: none;\n",
       "}\n",
       "\n",
       "div.sk-estimator.fitted:hover .sk-estimator-doc-link.fitted:hover,\n",
       ".sk-estimator-doc-link.fitted:hover,\n",
       "div.sk-label-container:hover .sk-estimator-doc-link.fitted:hover,\n",
       ".sk-estimator-doc-link.fitted:hover {\n",
       "  /* fitted */\n",
       "  background-color: var(--sklearn-color-fitted-level-3);\n",
       "  color: var(--sklearn-color-background);\n",
       "  text-decoration: none;\n",
       "}\n",
       "\n",
       "/* Span, style for the box shown on hovering the info icon */\n",
       ".sk-estimator-doc-link span {\n",
       "  display: none;\n",
       "  z-index: 9999;\n",
       "  position: relative;\n",
       "  font-weight: normal;\n",
       "  right: .2ex;\n",
       "  padding: .5ex;\n",
       "  margin: .5ex;\n",
       "  width: min-content;\n",
       "  min-width: 20ex;\n",
       "  max-width: 50ex;\n",
       "  color: var(--sklearn-color-text);\n",
       "  box-shadow: 2pt 2pt 4pt #999;\n",
       "  /* unfitted */\n",
       "  background: var(--sklearn-color-unfitted-level-0);\n",
       "  border: .5pt solid var(--sklearn-color-unfitted-level-3);\n",
       "}\n",
       "\n",
       ".sk-estimator-doc-link.fitted span {\n",
       "  /* fitted */\n",
       "  background: var(--sklearn-color-fitted-level-0);\n",
       "  border: var(--sklearn-color-fitted-level-3);\n",
       "}\n",
       "\n",
       ".sk-estimator-doc-link:hover span {\n",
       "  display: block;\n",
       "}\n",
       "\n",
       "/* \"?\"-specific style due to the `<a>` HTML tag */\n",
       "\n",
       "#sk-container-id-4 a.estimator_doc_link {\n",
       "  float: right;\n",
       "  font-size: 1rem;\n",
       "  line-height: 1em;\n",
       "  font-family: monospace;\n",
       "  background-color: var(--sklearn-color-background);\n",
       "  border-radius: 1rem;\n",
       "  height: 1rem;\n",
       "  width: 1rem;\n",
       "  text-decoration: none;\n",
       "  /* unfitted */\n",
       "  color: var(--sklearn-color-unfitted-level-1);\n",
       "  border: var(--sklearn-color-unfitted-level-1) 1pt solid;\n",
       "}\n",
       "\n",
       "#sk-container-id-4 a.estimator_doc_link.fitted {\n",
       "  /* fitted */\n",
       "  border: var(--sklearn-color-fitted-level-1) 1pt solid;\n",
       "  color: var(--sklearn-color-fitted-level-1);\n",
       "}\n",
       "\n",
       "/* On hover */\n",
       "#sk-container-id-4 a.estimator_doc_link:hover {\n",
       "  /* unfitted */\n",
       "  background-color: var(--sklearn-color-unfitted-level-3);\n",
       "  color: var(--sklearn-color-background);\n",
       "  text-decoration: none;\n",
       "}\n",
       "\n",
       "#sk-container-id-4 a.estimator_doc_link.fitted:hover {\n",
       "  /* fitted */\n",
       "  background-color: var(--sklearn-color-fitted-level-3);\n",
       "}\n",
       "</style><div id=\"sk-container-id-4\" class=\"sk-top-container\"><div class=\"sk-text-repr-fallback\"><pre>XGBClassifier(base_score=None, booster=None, callbacks=None,\n",
       "              colsample_bylevel=None, colsample_bynode=None,\n",
       "              colsample_bytree=0.7083408374260576, device=None,\n",
       "              early_stopping_rounds=None, enable_categorical=False,\n",
       "              eval_metric=None, feature_types=None, gamma=0.8786579457166467,\n",
       "              grow_policy=&#x27;depthwise&#x27;, importance_type=None,\n",
       "              interaction_constraints=None, learning_rate=0.007269849808230246,\n",
       "              max_bin=None, max_cat_threshold=None, max_cat_to_onehot=None,\n",
       "              max_delta_step=None, max_depth=35, max_leaves=None,\n",
       "              min_child_weight=23, missing=nan, monotone_constraints=None,\n",
       "              multi_strategy=None, n_estimators=250, n_jobs=None,\n",
       "              num_parallel_tree=None, random_state=None, ...)</pre><b>In a Jupyter environment, please rerun this cell to show the HTML representation or trust the notebook. <br />On GitHub, the HTML representation is unable to render, please try loading this page with nbviewer.org.</b></div><div class=\"sk-container\" hidden><div class=\"sk-item\"><div class=\"sk-estimator fitted sk-toggleable\"><input class=\"sk-toggleable__control sk-hidden--visually\" id=\"sk-estimator-id-4\" type=\"checkbox\" checked><label for=\"sk-estimator-id-4\" class=\"sk-toggleable__label fitted sk-toggleable__label-arrow\"><div><div>XGBClassifier</div></div><div><span class=\"sk-estimator-doc-link fitted\">i<span>Fitted</span></span></div></label><div class=\"sk-toggleable__content fitted\"><pre>XGBClassifier(base_score=None, booster=None, callbacks=None,\n",
       "              colsample_bylevel=None, colsample_bynode=None,\n",
       "              colsample_bytree=0.7083408374260576, device=None,\n",
       "              early_stopping_rounds=None, enable_categorical=False,\n",
       "              eval_metric=None, feature_types=None, gamma=0.8786579457166467,\n",
       "              grow_policy=&#x27;depthwise&#x27;, importance_type=None,\n",
       "              interaction_constraints=None, learning_rate=0.007269849808230246,\n",
       "              max_bin=None, max_cat_threshold=None, max_cat_to_onehot=None,\n",
       "              max_delta_step=None, max_depth=35, max_leaves=None,\n",
       "              min_child_weight=23, missing=nan, monotone_constraints=None,\n",
       "              multi_strategy=None, n_estimators=250, n_jobs=None,\n",
       "              num_parallel_tree=None, random_state=None, ...)</pre></div> </div></div></div></div>"
      ],
      "text/plain": [
       "XGBClassifier(base_score=None, booster=None, callbacks=None,\n",
       "              colsample_bylevel=None, colsample_bynode=None,\n",
       "              colsample_bytree=0.7083408374260576, device=None,\n",
       "              early_stopping_rounds=None, enable_categorical=False,\n",
       "              eval_metric=None, feature_types=None, gamma=0.8786579457166467,\n",
       "              grow_policy='depthwise', importance_type=None,\n",
       "              interaction_constraints=None, learning_rate=0.007269849808230246,\n",
       "              max_bin=None, max_cat_threshold=None, max_cat_to_onehot=None,\n",
       "              max_delta_step=None, max_depth=35, max_leaves=None,\n",
       "              min_child_weight=23, missing=nan, monotone_constraints=None,\n",
       "              multi_strategy=None, n_estimators=250, n_jobs=None,\n",
       "              num_parallel_tree=None, random_state=None, ...)"
      ]
     },
     "execution_count": 37,
     "metadata": {},
     "output_type": "execute_result"
    }
   ],
   "source": [
    "sampler = TPESampler(seed=21)\n",
    "study = optuna.create_study(direction='maximize',sampler=sampler)\n",
    "study.optimize(lambda trial: objective(trial, X_train, y_train), n_trials=10)\n",
    "\n",
    "best_params = study.best_params\n",
    "best_model = XGBClassifier(**best_params)\n",
    "best_model.fit(X_train, y_train)"
   ]
  },
  {
   "cell_type": "code",
   "execution_count": 38,
   "metadata": {},
   "outputs": [
    {
     "name": "stdout",
     "output_type": "stream",
     "text": [
      "-- Métricas del modelo con hiperparámetros ajustados --\n",
      "Accuracy: 0.6009389671361502\n",
      "F1-Score: 0.5626\n",
      "AUC-ROC: 0.6145\n",
      "Precisión: 0.5597\n",
      "Sensibilidad: 0.5655\n",
      "Log-loss: 0.6733\n"
     ]
    }
   ],
   "source": [
    "y_val_pred = best_model.predict(X_test)\n",
    "y_val_prob = best_model.predict_proba(X_test)[:,1]\n",
    "\n",
    "print(\"-- Métricas del modelo con hiperparámetros ajustados --\")\n",
    "print(\"Accuracy:\", accuracy_score(y_test, y_val_pred))\n",
    "print(f\"F1-Score: {f1_score(y_test, y_val_pred):.4f}\")\n",
    "print(f\"AUC-ROC: {roc_auc_score(y_test, y_val_prob):.4f}\")\n",
    "print(f\"Precisión: {precision_score(y_test, y_val_pred):.4f}\")\n",
    "print(f\"Sensibilidad: {recall_score(y_test, y_val_pred):.4f}\")\n",
    "print(f\"Log-loss: {log_loss(y_test, y_val_prob):.4f}\")"
   ]
  },
  {
   "cell_type": "code",
   "execution_count": 28,
   "metadata": {},
   "outputs": [
    {
     "name": "stderr",
     "output_type": "stream",
     "text": [
      "c:\\Users\\andre\\OneDrive - Universidad Complutense de Madrid (UCM)\\Escritorio\\UNIVERSIDAD\\2º\\2º Cuatrimestre\\PD1\\c2425-R4\\.venv\\Lib\\site-packages\\xgboost\\core.py:158: UserWarning: [11:31:06] WARNING: C:\\buildkite-agent\\builds\\buildkite-windows-cpu-autoscaling-group-i-08cbc0333d8d4aae1-1\\xgboost\\xgboost-ci-windows\\src\\c_api\\c_api.cc:1374: Saving model in the UBJSON format as default.  You can use file extension: `json`, `ubj` or `deprecated` to choose between formats.\n",
      "  warnings.warn(smsg, UserWarning)\n",
      "2025/03/26 11:31:15 WARNING mlflow.utils.environment: Failed to resolve installed pip version. ``pip`` will be added to conda.yaml environment spec without a version specifier.\n",
      "2025/03/26 11:31:15 WARNING mlflow.models.model: Model logged without a signature and input example. Please set `input_example` parameter when logging the model to auto infer the model signature.\n"
     ]
    },
    {
     "ename": "PermissionError",
     "evalue": "[WinError 5] Acceso denegado: 'C:\\\\Users\\\\mattu'",
     "output_type": "error",
     "traceback": [
      "\u001b[31m---------------------------------------------------------------------------\u001b[39m",
      "\u001b[31mPermissionError\u001b[39m                           Traceback (most recent call last)",
      "\u001b[36mCell\u001b[39m\u001b[36m \u001b[39m\u001b[32mIn[28]\u001b[39m\u001b[32m, line 8\u001b[39m\n\u001b[32m      4\u001b[39m \u001b[38;5;66;03m# Iniciar un nuevo experimento\u001b[39;00m\n\u001b[32m      5\u001b[39m \u001b[38;5;28;01mwith\u001b[39;00m mlflow.start_run(run_name=\u001b[33m\"\u001b[39m\u001b[33muso de Optuna para ajustar hiperparámetros n_trials=10, sampler seed=21\u001b[39m\u001b[33m\"\u001b[39m):\n\u001b[32m      6\u001b[39m \n\u001b[32m      7\u001b[39m     \u001b[38;5;66;03m# Guardar modelo en MLflow\u001b[39;00m\n\u001b[32m----> \u001b[39m\u001b[32m8\u001b[39m     \u001b[43mmlflow\u001b[49m\u001b[43m.\u001b[49m\u001b[43mxgboost\u001b[49m\u001b[43m.\u001b[49m\u001b[43mlog_model\u001b[49m\u001b[43m(\u001b[49m\u001b[43mbest_model\u001b[49m\u001b[43m,\u001b[49m\u001b[43m \u001b[49m\u001b[33;43m\"\u001b[39;49m\u001b[33;43mmodelo_xgboost\u001b[39;49m\u001b[33;43m\"\u001b[39;49m\u001b[43m)\u001b[49m\n\u001b[32m      9\u001b[39m     mlflow.log_param(\u001b[33m\"\u001b[39m\u001b[33mmejores_parametros\u001b[39m\u001b[33m\"\u001b[39m, best_params)\n\u001b[32m     10\u001b[39m     mlflow.log_metric(\u001b[33m\"\u001b[39m\u001b[33maccuracy\u001b[39m\u001b[33m\"\u001b[39m, accuracy_score(y_test, y_val_pred))\n",
      "\u001b[36mFile \u001b[39m\u001b[32mc:\\Users\\andre\\OneDrive - Universidad Complutense de Madrid (UCM)\\Escritorio\\UNIVERSIDAD\\2º\\2º Cuatrimestre\\PD1\\c2425-R4\\.venv\\Lib\\site-packages\\mlflow\\xgboost\\__init__.py:266\u001b[39m, in \u001b[36mlog_model\u001b[39m\u001b[34m(xgb_model, artifact_path, conda_env, code_paths, registered_model_name, signature, input_example, await_registration_for, pip_requirements, extra_pip_requirements, model_format, metadata, **kwargs)\u001b[39m\n\u001b[32m    224\u001b[39m \u001b[38;5;129m@format_docstring\u001b[39m(LOG_MODEL_PARAM_DOCS.format(package_name=FLAVOR_NAME))\n\u001b[32m    225\u001b[39m \u001b[38;5;28;01mdef\u001b[39;00m\u001b[38;5;250m \u001b[39m\u001b[34mlog_model\u001b[39m(\n\u001b[32m    226\u001b[39m     xgb_model,\n\u001b[32m   (...)\u001b[39m\u001b[32m    238\u001b[39m     **kwargs,\n\u001b[32m    239\u001b[39m ):\n\u001b[32m    240\u001b[39m \u001b[38;5;250m    \u001b[39m\u001b[33;03m\"\"\"Log an XGBoost model as an MLflow artifact for the current run.\u001b[39;00m\n\u001b[32m    241\u001b[39m \n\u001b[32m    242\u001b[39m \u001b[33;03m    Args:\u001b[39;00m\n\u001b[32m   (...)\u001b[39m\u001b[32m    264\u001b[39m \u001b[33;03m        metadata of the logged model.\u001b[39;00m\n\u001b[32m    265\u001b[39m \u001b[33;03m    \"\"\"\u001b[39;00m\n\u001b[32m--> \u001b[39m\u001b[32m266\u001b[39m     \u001b[38;5;28;01mreturn\u001b[39;00m \u001b[43mModel\u001b[49m\u001b[43m.\u001b[49m\u001b[43mlog\u001b[49m\u001b[43m(\u001b[49m\n\u001b[32m    267\u001b[39m \u001b[43m        \u001b[49m\u001b[43martifact_path\u001b[49m\u001b[43m=\u001b[49m\u001b[43martifact_path\u001b[49m\u001b[43m,\u001b[49m\n\u001b[32m    268\u001b[39m \u001b[43m        \u001b[49m\u001b[43mflavor\u001b[49m\u001b[43m=\u001b[49m\u001b[43mmlflow\u001b[49m\u001b[43m.\u001b[49m\u001b[43mxgboost\u001b[49m\u001b[43m,\u001b[49m\n\u001b[32m    269\u001b[39m \u001b[43m        \u001b[49m\u001b[43mregistered_model_name\u001b[49m\u001b[43m=\u001b[49m\u001b[43mregistered_model_name\u001b[49m\u001b[43m,\u001b[49m\n\u001b[32m    270\u001b[39m \u001b[43m        \u001b[49m\u001b[43mxgb_model\u001b[49m\u001b[43m=\u001b[49m\u001b[43mxgb_model\u001b[49m\u001b[43m,\u001b[49m\n\u001b[32m    271\u001b[39m \u001b[43m        \u001b[49m\u001b[43mmodel_format\u001b[49m\u001b[43m=\u001b[49m\u001b[43mmodel_format\u001b[49m\u001b[43m,\u001b[49m\n\u001b[32m    272\u001b[39m \u001b[43m        \u001b[49m\u001b[43mconda_env\u001b[49m\u001b[43m=\u001b[49m\u001b[43mconda_env\u001b[49m\u001b[43m,\u001b[49m\n\u001b[32m    273\u001b[39m \u001b[43m        \u001b[49m\u001b[43mcode_paths\u001b[49m\u001b[43m=\u001b[49m\u001b[43mcode_paths\u001b[49m\u001b[43m,\u001b[49m\n\u001b[32m    274\u001b[39m \u001b[43m        \u001b[49m\u001b[43msignature\u001b[49m\u001b[43m=\u001b[49m\u001b[43msignature\u001b[49m\u001b[43m,\u001b[49m\n\u001b[32m    275\u001b[39m \u001b[43m        \u001b[49m\u001b[43minput_example\u001b[49m\u001b[43m=\u001b[49m\u001b[43minput_example\u001b[49m\u001b[43m,\u001b[49m\n\u001b[32m    276\u001b[39m \u001b[43m        \u001b[49m\u001b[43mawait_registration_for\u001b[49m\u001b[43m=\u001b[49m\u001b[43mawait_registration_for\u001b[49m\u001b[43m,\u001b[49m\n\u001b[32m    277\u001b[39m \u001b[43m        \u001b[49m\u001b[43mpip_requirements\u001b[49m\u001b[43m=\u001b[49m\u001b[43mpip_requirements\u001b[49m\u001b[43m,\u001b[49m\n\u001b[32m    278\u001b[39m \u001b[43m        \u001b[49m\u001b[43mextra_pip_requirements\u001b[49m\u001b[43m=\u001b[49m\u001b[43mextra_pip_requirements\u001b[49m\u001b[43m,\u001b[49m\n\u001b[32m    279\u001b[39m \u001b[43m        \u001b[49m\u001b[43mmetadata\u001b[49m\u001b[43m=\u001b[49m\u001b[43mmetadata\u001b[49m\u001b[43m,\u001b[49m\n\u001b[32m    280\u001b[39m \u001b[43m        \u001b[49m\u001b[43m*\u001b[49m\u001b[43m*\u001b[49m\u001b[43mkwargs\u001b[49m\u001b[43m,\u001b[49m\n\u001b[32m    281\u001b[39m \u001b[43m    \u001b[49m\u001b[43m)\u001b[49m\n",
      "\u001b[36mFile \u001b[39m\u001b[32mc:\\Users\\andre\\OneDrive - Universidad Complutense de Madrid (UCM)\\Escritorio\\UNIVERSIDAD\\2º\\2º Cuatrimestre\\PD1\\c2425-R4\\.venv\\Lib\\site-packages\\mlflow\\models\\model.py:932\u001b[39m, in \u001b[36mModel.log\u001b[39m\u001b[34m(cls, artifact_path, flavor, registered_model_name, await_registration_for, metadata, run_id, resources, auth_policy, prompts, **kwargs)\u001b[39m\n\u001b[32m    929\u001b[39m     \u001b[38;5;28;01mfor\u001b[39;00m prompt \u001b[38;5;129;01min\u001b[39;00m prompts:\n\u001b[32m    930\u001b[39m         client.log_prompt(run_id, prompt)\n\u001b[32m--> \u001b[39m\u001b[32m932\u001b[39m \u001b[43mmlflow\u001b[49m\u001b[43m.\u001b[49m\u001b[43mtracking\u001b[49m\u001b[43m.\u001b[49m\u001b[43mfluent\u001b[49m\u001b[43m.\u001b[49m\u001b[43mlog_artifacts\u001b[49m\u001b[43m(\u001b[49m\u001b[43mlocal_path\u001b[49m\u001b[43m,\u001b[49m\u001b[43m \u001b[49m\u001b[43mmlflow_model\u001b[49m\u001b[43m.\u001b[49m\u001b[43martifact_path\u001b[49m\u001b[43m,\u001b[49m\u001b[43m \u001b[49m\u001b[43mrun_id\u001b[49m\u001b[43m)\u001b[49m\n\u001b[32m    934\u001b[39m \u001b[38;5;66;03m# if the model_config kwarg is passed in, then log the model config as an params\u001b[39;00m\n\u001b[32m    935\u001b[39m \u001b[38;5;28;01mif\u001b[39;00m model_config := kwargs.get(\u001b[33m\"\u001b[39m\u001b[33mmodel_config\u001b[39m\u001b[33m\"\u001b[39m):\n",
      "\u001b[36mFile \u001b[39m\u001b[32mc:\\Users\\andre\\OneDrive - Universidad Complutense de Madrid (UCM)\\Escritorio\\UNIVERSIDAD\\2º\\2º Cuatrimestre\\PD1\\c2425-R4\\.venv\\Lib\\site-packages\\mlflow\\tracking\\fluent.py:1219\u001b[39m, in \u001b[36mlog_artifacts\u001b[39m\u001b[34m(local_dir, artifact_path, run_id)\u001b[39m\n\u001b[32m   1185\u001b[39m \u001b[38;5;250m\u001b[39m\u001b[33;03m\"\"\"\u001b[39;00m\n\u001b[32m   1186\u001b[39m \u001b[33;03mLog all the contents of a local directory as artifacts of the run. If no run is active,\u001b[39;00m\n\u001b[32m   1187\u001b[39m \u001b[33;03mthis method will create a new active run.\u001b[39;00m\n\u001b[32m   (...)\u001b[39m\u001b[32m   1216\u001b[39m \u001b[33;03m            mlflow.log_artifacts(tmp_dir, artifact_path=\"states\")\u001b[39;00m\n\u001b[32m   1217\u001b[39m \u001b[33;03m\"\"\"\u001b[39;00m\n\u001b[32m   1218\u001b[39m run_id = run_id \u001b[38;5;129;01mor\u001b[39;00m _get_or_start_run().info.run_id\n\u001b[32m-> \u001b[39m\u001b[32m1219\u001b[39m \u001b[43mMlflowClient\u001b[49m\u001b[43m(\u001b[49m\u001b[43m)\u001b[49m\u001b[43m.\u001b[49m\u001b[43mlog_artifacts\u001b[49m\u001b[43m(\u001b[49m\u001b[43mrun_id\u001b[49m\u001b[43m,\u001b[49m\u001b[43m \u001b[49m\u001b[43mlocal_dir\u001b[49m\u001b[43m,\u001b[49m\u001b[43m \u001b[49m\u001b[43martifact_path\u001b[49m\u001b[43m)\u001b[49m\n",
      "\u001b[36mFile \u001b[39m\u001b[32mc:\\Users\\andre\\OneDrive - Universidad Complutense de Madrid (UCM)\\Escritorio\\UNIVERSIDAD\\2º\\2º Cuatrimestre\\PD1\\c2425-R4\\.venv\\Lib\\site-packages\\mlflow\\tracking\\client.py:2426\u001b[39m, in \u001b[36mMlflowClient.log_artifacts\u001b[39m\u001b[34m(self, run_id, local_dir, artifact_path)\u001b[39m\n\u001b[32m   2379\u001b[39m \u001b[38;5;28;01mdef\u001b[39;00m\u001b[38;5;250m \u001b[39m\u001b[34mlog_artifacts\u001b[39m(\n\u001b[32m   2380\u001b[39m     \u001b[38;5;28mself\u001b[39m, run_id: \u001b[38;5;28mstr\u001b[39m, local_dir: \u001b[38;5;28mstr\u001b[39m, artifact_path: Optional[\u001b[38;5;28mstr\u001b[39m] = \u001b[38;5;28;01mNone\u001b[39;00m\n\u001b[32m   2381\u001b[39m ) -> \u001b[38;5;28;01mNone\u001b[39;00m:\n\u001b[32m   2382\u001b[39m \u001b[38;5;250m    \u001b[39m\u001b[33;03m\"\"\"Write a directory of files to the remote ``artifact_uri``.\u001b[39;00m\n\u001b[32m   2383\u001b[39m \n\u001b[32m   2384\u001b[39m \u001b[33;03m    Args:\u001b[39;00m\n\u001b[32m   (...)\u001b[39m\u001b[32m   2424\u001b[39m \n\u001b[32m   2425\u001b[39m \u001b[33;03m    \"\"\"\u001b[39;00m\n\u001b[32m-> \u001b[39m\u001b[32m2426\u001b[39m     \u001b[38;5;28;43mself\u001b[39;49m\u001b[43m.\u001b[49m\u001b[43m_tracking_client\u001b[49m\u001b[43m.\u001b[49m\u001b[43mlog_artifacts\u001b[49m\u001b[43m(\u001b[49m\u001b[43mrun_id\u001b[49m\u001b[43m,\u001b[49m\u001b[43m \u001b[49m\u001b[43mlocal_dir\u001b[49m\u001b[43m,\u001b[49m\u001b[43m \u001b[49m\u001b[43martifact_path\u001b[49m\u001b[43m)\u001b[49m\n",
      "\u001b[36mFile \u001b[39m\u001b[32mc:\\Users\\andre\\OneDrive - Universidad Complutense de Madrid (UCM)\\Escritorio\\UNIVERSIDAD\\2º\\2º Cuatrimestre\\PD1\\c2425-R4\\.venv\\Lib\\site-packages\\mlflow\\tracking\\_tracking_service\\client.py:959\u001b[39m, in \u001b[36mTrackingServiceClient.log_artifacts\u001b[39m\u001b[34m(self, run_id, local_dir, artifact_path)\u001b[39m\n\u001b[32m    950\u001b[39m \u001b[38;5;28;01mdef\u001b[39;00m\u001b[38;5;250m \u001b[39m\u001b[34mlog_artifacts\u001b[39m(\u001b[38;5;28mself\u001b[39m, run_id, local_dir, artifact_path=\u001b[38;5;28;01mNone\u001b[39;00m):\n\u001b[32m    951\u001b[39m \u001b[38;5;250m    \u001b[39m\u001b[33;03m\"\"\"Write a directory of files to the remote ``artifact_uri``.\u001b[39;00m\n\u001b[32m    952\u001b[39m \n\u001b[32m    953\u001b[39m \u001b[33;03m    Args:\u001b[39;00m\n\u001b[32m   (...)\u001b[39m\u001b[32m    957\u001b[39m \n\u001b[32m    958\u001b[39m \u001b[33;03m    \"\"\"\u001b[39;00m\n\u001b[32m--> \u001b[39m\u001b[32m959\u001b[39m     \u001b[38;5;28;43mself\u001b[39;49m\u001b[43m.\u001b[49m\u001b[43m_get_artifact_repo\u001b[49m\u001b[43m(\u001b[49m\u001b[43mrun_id\u001b[49m\u001b[43m)\u001b[49m\u001b[43m.\u001b[49m\u001b[43mlog_artifacts\u001b[49m\u001b[43m(\u001b[49m\u001b[43mlocal_dir\u001b[49m\u001b[43m,\u001b[49m\u001b[43m \u001b[49m\u001b[43martifact_path\u001b[49m\u001b[43m)\u001b[49m\n",
      "\u001b[36mFile \u001b[39m\u001b[32mc:\\Users\\andre\\OneDrive - Universidad Complutense de Madrid (UCM)\\Escritorio\\UNIVERSIDAD\\2º\\2º Cuatrimestre\\PD1\\c2425-R4\\.venv\\Lib\\site-packages\\mlflow\\store\\artifact\\local_artifact_repo.py:66\u001b[39m, in \u001b[36mLocalArtifactRepository.log_artifacts\u001b[39m\u001b[34m(self, local_dir, artifact_path)\u001b[39m\n\u001b[32m     62\u001b[39m artifact_dir = (\n\u001b[32m     63\u001b[39m     os.path.join(\u001b[38;5;28mself\u001b[39m.artifact_dir, artifact_path) \u001b[38;5;28;01mif\u001b[39;00m artifact_path \u001b[38;5;28;01melse\u001b[39;00m \u001b[38;5;28mself\u001b[39m.artifact_dir\n\u001b[32m     64\u001b[39m )\n\u001b[32m     65\u001b[39m \u001b[38;5;28;01mif\u001b[39;00m \u001b[38;5;129;01mnot\u001b[39;00m os.path.exists(artifact_dir):\n\u001b[32m---> \u001b[39m\u001b[32m66\u001b[39m     \u001b[43mmkdir\u001b[49m\u001b[43m(\u001b[49m\u001b[43martifact_dir\u001b[49m\u001b[43m)\u001b[49m\n\u001b[32m     67\u001b[39m shutil.copytree(src=local_dir, dst=artifact_dir, dirs_exist_ok=\u001b[38;5;28;01mTrue\u001b[39;00m)\n",
      "\u001b[36mFile \u001b[39m\u001b[32mc:\\Users\\andre\\OneDrive - Universidad Complutense de Madrid (UCM)\\Escritorio\\UNIVERSIDAD\\2º\\2º Cuatrimestre\\PD1\\c2425-R4\\.venv\\Lib\\site-packages\\mlflow\\utils\\file_utils.py:211\u001b[39m, in \u001b[36mmkdir\u001b[39m\u001b[34m(root, name)\u001b[39m\n\u001b[32m    209\u001b[39m \u001b[38;5;28;01mexcept\u001b[39;00m \u001b[38;5;167;01mOSError\u001b[39;00m \u001b[38;5;28;01mas\u001b[39;00m e:\n\u001b[32m    210\u001b[39m     \u001b[38;5;28;01mif\u001b[39;00m e.errno != errno.EEXIST \u001b[38;5;129;01mor\u001b[39;00m \u001b[38;5;129;01mnot\u001b[39;00m os.path.isdir(target):\n\u001b[32m--> \u001b[39m\u001b[32m211\u001b[39m         \u001b[38;5;28;01mraise\u001b[39;00m e\n\u001b[32m    212\u001b[39m \u001b[38;5;28;01mreturn\u001b[39;00m target\n",
      "\u001b[36mFile \u001b[39m\u001b[32mc:\\Users\\andre\\OneDrive - Universidad Complutense de Madrid (UCM)\\Escritorio\\UNIVERSIDAD\\2º\\2º Cuatrimestre\\PD1\\c2425-R4\\.venv\\Lib\\site-packages\\mlflow\\utils\\file_utils.py:208\u001b[39m, in \u001b[36mmkdir\u001b[39m\u001b[34m(root, name)\u001b[39m\n\u001b[32m    206\u001b[39m target = os.path.join(root, name) \u001b[38;5;28;01mif\u001b[39;00m name \u001b[38;5;129;01mis\u001b[39;00m \u001b[38;5;129;01mnot\u001b[39;00m \u001b[38;5;28;01mNone\u001b[39;00m \u001b[38;5;28;01melse\u001b[39;00m root\n\u001b[32m    207\u001b[39m \u001b[38;5;28;01mtry\u001b[39;00m:\n\u001b[32m--> \u001b[39m\u001b[32m208\u001b[39m     \u001b[43mos\u001b[49m\u001b[43m.\u001b[49m\u001b[43mmakedirs\u001b[49m\u001b[43m(\u001b[49m\u001b[43mtarget\u001b[49m\u001b[43m,\u001b[49m\u001b[43m \u001b[49m\u001b[43mexist_ok\u001b[49m\u001b[43m=\u001b[49m\u001b[38;5;28;43;01mTrue\u001b[39;49;00m\u001b[43m)\u001b[49m\n\u001b[32m    209\u001b[39m \u001b[38;5;28;01mexcept\u001b[39;00m \u001b[38;5;167;01mOSError\u001b[39;00m \u001b[38;5;28;01mas\u001b[39;00m e:\n\u001b[32m    210\u001b[39m     \u001b[38;5;28;01mif\u001b[39;00m e.errno != errno.EEXIST \u001b[38;5;129;01mor\u001b[39;00m \u001b[38;5;129;01mnot\u001b[39;00m os.path.isdir(target):\n",
      "\u001b[36mFile \u001b[39m\u001b[32m<frozen os>:217\u001b[39m, in \u001b[36mmakedirs\u001b[39m\u001b[34m(name, mode, exist_ok)\u001b[39m\n",
      "\u001b[36mFile \u001b[39m\u001b[32m<frozen os>:217\u001b[39m, in \u001b[36mmakedirs\u001b[39m\u001b[34m(name, mode, exist_ok)\u001b[39m\n",
      "    \u001b[31m[... skipping similar frames: makedirs at line 217 (6 times)]\u001b[39m\n",
      "\u001b[36mFile \u001b[39m\u001b[32m<frozen os>:217\u001b[39m, in \u001b[36mmakedirs\u001b[39m\u001b[34m(name, mode, exist_ok)\u001b[39m\n",
      "\u001b[36mFile \u001b[39m\u001b[32m<frozen os>:227\u001b[39m, in \u001b[36mmakedirs\u001b[39m\u001b[34m(name, mode, exist_ok)\u001b[39m\n",
      "\u001b[31mPermissionError\u001b[39m: [WinError 5] Acceso denegado: 'C:\\\\Users\\\\mattu'"
     ]
    }
   ],
   "source": [
    "if mlflow.active_run():\n",
    "    mlflow.end_run()\n",
    "\n",
    "# Iniciar un nuevo experimento\n",
    "with mlflow.start_run(run_name=\"uso de Optuna para ajustar hiperparámetros n_trials=10, sampler seed=21\"):\n",
    "\n",
    "    # Guardar modelo en MLflow\n",
    "    mlflow.xgboost.log_model(best_model, \"modelo_xgboost\")\n",
    "    mlflow.log_param(\"mejores_parametros\", best_params)\n",
    "    mlflow.log_metric(\"accuracy\", accuracy_score(y_test, y_val_pred))\n",
    "    mlflow.log_metric(\"f1_macro\", f1_score(y_test, y_val_pred))\n",
    "\n",
    "    print(\"Modelo guardado en MLflow\")"
   ]
  },
  {
   "cell_type": "code",
   "execution_count": 29,
   "metadata": {},
   "outputs": [
    {
     "data": {
      "image/png": "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",
      "text/plain": [
       "<Figure size 640x480 with 2 Axes>"
      ]
     },
     "metadata": {},
     "output_type": "display_data"
    }
   ],
   "source": [
    "# Calcular la matriz de confusión\n",
    "cm = confusion_matrix(y_test, y_val_pred)\n",
    "\n",
    "# Visualizar la matriz de confusión\n",
    "sns.heatmap(cm, annot=True, fmt='d', cmap='Blues', xticklabels=['Clase 0', 'Clase 1'], yticklabels=['Clase 0', 'Clase 1'])\n",
    "plt.xlabel('Predicción')\n",
    "plt.ylabel('Real')\n",
    "plt.title('Matriz de Confusión')\n",
    "plt.show()"
   ]
  },
  {
   "cell_type": "code",
   "execution_count": 30,
   "metadata": {},
   "outputs": [
    {
     "name": "stdout",
     "output_type": "stream",
     "text": [
      "                    Feature  Importance\n",
      "20               Racha_DIFF    0.070324\n",
      "19              Puntos_DIFF    0.044228\n",
      "24         Derrotas_KO_DIFF    0.044183\n",
      "4                  REV_DIFF    0.040603\n",
      "14        STR_GROUND_A_DIFF    0.040209\n",
      "3              SUB_ATT_DIFF    0.039379\n",
      "18              Peleas_DIFF    0.038949\n",
      "26   Derrotas_Decision_DIFF    0.038899\n",
      "2                   TD_DIFF    0.037168\n",
      "9           STR_HEAD_A_DIFF    0.036884\n",
      "16            GRAPPLER_DIFF    0.036653\n",
      "11           STR_LEG_A_DIFF    0.036465\n",
      "13        STR_CLINCH_A_DIFF    0.035713\n",
      "21        Victorias_KO_DIFF    0.035208\n",
      "5                 CTRL_DIFF    0.034932\n",
      "7          TOTAL_STR_A_DIFF    0.034368\n",
      "1              SIG_STR_DIFF    0.034088\n",
      "15             STRIKER_DIFF    0.034076\n",
      "25        Derrotas_Sub_DIFF    0.033512\n",
      "8                 TD_A_DIFF    0.033395\n",
      "10          STR_BODY_A_DIFF    0.033067\n",
      "23  Victorias_Decision_DIFF    0.032973\n",
      "0                   KD_DIFF    0.032633\n",
      "12      STR_DISTANCE_A_DIFF    0.032292\n",
      "22       Victorias_Sub_DIFF    0.030465\n",
      "17              Record_DIFF    0.030301\n",
      "6              TD_PORC_DIFF    0.029035\n"
     ]
    }
   ],
   "source": [
    "feature_importance = pd.DataFrame({\n",
    "    'Feature': X_train.columns,\n",
    "    'Importance': best_model.feature_importances_\n",
    "}).sort_values(by='Importance', ascending=False)\n",
    "print(feature_importance)"
   ]
  },
  {
   "cell_type": "code",
   "execution_count": 31,
   "metadata": {},
   "outputs": [
    {
     "data": {
      "image/png": "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",
      "text/plain": [
       "<Figure size 1000x1000 with 1 Axes>"
      ]
     },
     "metadata": {},
     "output_type": "display_data"
    }
   ],
   "source": [
    "plt.figure(figsize=(10, 10))\n",
    "plt.barh(feature_importance[\"Feature\"], feature_importance[\"Importance\"], color=\"royalblue\")\n",
    "plt.xlabel(\"Permutation Importance\")\n",
    "plt.title(\"Feature Importance (Top 10)\")\n",
    "plt.yticks(fontsize=5)\n",
    "plt.grid(axis=\"x\", linestyle=\"--\", alpha=0.7)\n",
    "plt.show()"
   ]
  },
  {
   "cell_type": "markdown",
   "metadata": {},
   "source": [
    "#### Conclusiones\n",
    "Tras evaluar los resultados del modelo utilizando dos enfoques de ajuste de hiperparámetros, se concluye que Grid Search logra un rendimiento ligeramente superior a la simple predicción de la clase mayoritaria. Sin embargo, su accuracy sigue siendo inferior al del modelo XGBoost basado en medias ponderadas, lo que indica que la estrategia de diferencias de estadísticas no ha mejorado la capacidad predictiva del modelo."
   ]
  }
 ],
 "metadata": {
  "kernelspec": {
   "display_name": ".venv",
   "language": "python",
   "name": "python3"
  },
  "language_info": {
   "codemirror_mode": {
    "name": "ipython",
    "version": 3
   },
   "file_extension": ".py",
   "mimetype": "text/x-python",
   "name": "python",
   "nbconvert_exporter": "python",
   "pygments_lexer": "ipython3",
   "version": "3.13.1"
  }
 },
 "nbformat": 4,
 "nbformat_minor": 2
}
