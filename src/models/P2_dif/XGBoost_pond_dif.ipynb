{
 "cells": [
  {
   "cell_type": "markdown",
   "metadata": {},
   "source": [
    "# XGBoost con variables de las diferencias de medias ponderadas\n",
    "\n",
    "* [Carga de los datos](#carga-de-los-datos)\n",
    "* [Transformaciones](#transformaciones)\n",
    "* [Selección de variables](#seleccion-de-variables)\n",
    "* [Ajuste de hiperparámetros](#ajuste-de-hiperparametros)\n",
    "* [Conclusiones](#conclusiones)"
   ]
  },
  {
   "cell_type": "code",
   "execution_count": 91,
   "metadata": {},
   "outputs": [],
   "source": [
    "import pandas as pd\n",
    "import numpy as np\n",
    "from sklearn.model_selection import  GridSearchCV, RandomizedSearchCV, TimeSeriesSplit\n",
    "from sklearn.metrics import classification_report, confusion_matrix, accuracy_score,log_loss, make_scorer, f1_score, roc_auc_score, precision_score, recall_score, balanced_accuracy_score\n",
    "import os\n",
    "from sklearn.utils.class_weight import compute_class_weight\n",
    "from xgboost import XGBClassifier\n",
    "import seaborn as sns\n",
    "import matplotlib.pyplot as plt\n",
    "from sklearn.inspection import permutation_importance\n",
    "import mlflow"
   ]
  },
  {
   "cell_type": "markdown",
   "metadata": {},
   "source": [
    "### Descripción general del notebook\n",
    "\n",
    "En este notebook se llevará a cabo el modelado y entrenamiento de un modelo XGBoost con el propósito de predecir el ganador de una pelea. Para ello, se utilizarán las diferencias en las estadísticas medias de cada peleador como variables predictoras.\n",
    "\n",
    "El objetivo principal es explorar alternativas que permitan mejorar el desempeño del modelo en comparación con la versión basada en medias ponderadas.\n",
    "\n",
    "Dado que el proceso de transformación de datos, selección de variables y ajuste de hiperparámetros será similar al realizado en el otro notebook, estos aspectos no serán abordados en detalle en esta ocasión."
   ]
  },
  {
   "cell_type": "code",
   "execution_count": 92,
   "metadata": {},
   "outputs": [],
   "source": [
    "# ruta_mlflow = os.path.abspath(os.path.join(\"..\", \"..\", \"..\", \"mlruns\"))\n",
    "\n",
    "# # Configurar MLflow para guardar los modelos en esa ruta\n",
    "# mlflow.set_tracking_uri(f\"file:///{ruta_mlflow}\")\n",
    "\n",
    "# print(\"MLflow tracking URI:\", mlflow.get_tracking_uri())  "
   ]
  },
  {
   "cell_type": "markdown",
   "metadata": {},
   "source": [
    "Para guardar los resultados de diferentes experimentos creamos un directorio mlruns donde se guardarán los modelos realizados con una breve descripción y sus resultados."
   ]
  },
  {
   "cell_type": "markdown",
   "metadata": {},
   "source": [
    "### Carga de los datos"
   ]
  },
  {
   "cell_type": "markdown",
   "metadata": {},
   "source": [
    "Cargamos el conjunto de train y test los cuales han sido seleccionados respetando el orden cronológico debido a que es una serie temporal. Separamos los conjuntos en X e y. En X guardamos todas las variables que puedan ser introducidas al modelo, excluyendo los nombres, la fecha y la variable respuesta. En y guardamos la variable respuesta."
   ]
  },
  {
   "cell_type": "code",
   "execution_count": 93,
   "metadata": {},
   "outputs": [
    {
     "data": {
      "text/html": [
       "<div>\n",
       "<style scoped>\n",
       "    .dataframe tbody tr th:only-of-type {\n",
       "        vertical-align: middle;\n",
       "    }\n",
       "\n",
       "    .dataframe tbody tr th {\n",
       "        vertical-align: top;\n",
       "    }\n",
       "\n",
       "    .dataframe thead th {\n",
       "        text-align: right;\n",
       "    }\n",
       "</style>\n",
       "<table border=\"1\" class=\"dataframe\">\n",
       "  <thead>\n",
       "    <tr style=\"text-align: right;\">\n",
       "      <th></th>\n",
       "      <th>DATE</th>\n",
       "      <th>Peleador_A</th>\n",
       "      <th>Peleador_B</th>\n",
       "      <th>WINNER</th>\n",
       "      <th>KD_DIFF</th>\n",
       "      <th>SIG_STR_DIFF</th>\n",
       "      <th>TD_DIFF</th>\n",
       "      <th>SUB_ATT_DIFF</th>\n",
       "      <th>REV_DIFF</th>\n",
       "      <th>CTRL_DIFF</th>\n",
       "      <th>...</th>\n",
       "      <th>Record_DIFF</th>\n",
       "      <th>Peleas_DIFF</th>\n",
       "      <th>Puntos_DIFF</th>\n",
       "      <th>Racha_DIFF</th>\n",
       "      <th>Victorias_KO_DIFF</th>\n",
       "      <th>Victorias_Sub_DIFF</th>\n",
       "      <th>Victorias_Decision_DIFF</th>\n",
       "      <th>Derrotas_KO_DIFF</th>\n",
       "      <th>Derrotas_Sub_DIFF</th>\n",
       "      <th>Derrotas_Decision_DIFF</th>\n",
       "    </tr>\n",
       "  </thead>\n",
       "  <tbody>\n",
       "    <tr>\n",
       "      <th>0</th>\n",
       "      <td>2010-01-02</td>\n",
       "      <td>Rashad Evans</td>\n",
       "      <td>Thiago Silva</td>\n",
       "      <td>False</td>\n",
       "      <td>-0.3</td>\n",
       "      <td>-0.239</td>\n",
       "      <td>0.230769</td>\n",
       "      <td>-0.2</td>\n",
       "      <td>0.0</td>\n",
       "      <td>1.2</td>\n",
       "      <td>...</td>\n",
       "      <td>17.3</td>\n",
       "      <td>4.0</td>\n",
       "      <td>4.223836</td>\n",
       "      <td>0.5</td>\n",
       "      <td>-0.7</td>\n",
       "      <td>0.0</td>\n",
       "      <td>4.0</td>\n",
       "      <td>-0.3</td>\n",
       "      <td>0.0</td>\n",
       "      <td>1.0</td>\n",
       "    </tr>\n",
       "    <tr>\n",
       "      <th>1</th>\n",
       "      <td>2010-01-02</td>\n",
       "      <td>Sam Stout</td>\n",
       "      <td>Joe Lauzon</td>\n",
       "      <td>False</td>\n",
       "      <td>0.5</td>\n",
       "      <td>-0.252</td>\n",
       "      <td>-0.331250</td>\n",
       "      <td>-3.0</td>\n",
       "      <td>0.0</td>\n",
       "      <td>-104.6</td>\n",
       "      <td>...</td>\n",
       "      <td>-2.0</td>\n",
       "      <td>1.0</td>\n",
       "      <td>-2.396327</td>\n",
       "      <td>-0.9</td>\n",
       "      <td>-1.8</td>\n",
       "      <td>-2.5</td>\n",
       "      <td>2.5</td>\n",
       "      <td>-1.0</td>\n",
       "      <td>1.0</td>\n",
       "      <td>2.8</td>\n",
       "    </tr>\n",
       "    <tr>\n",
       "      <th>2</th>\n",
       "      <td>2010-01-11</td>\n",
       "      <td>Rafael Dos Anjos</td>\n",
       "      <td>Kyle Bradley</td>\n",
       "      <td>False</td>\n",
       "      <td>0.0</td>\n",
       "      <td>-0.114</td>\n",
       "      <td>-0.082353</td>\n",
       "      <td>1.3</td>\n",
       "      <td>0.3</td>\n",
       "      <td>187.2</td>\n",
       "      <td>...</td>\n",
       "      <td>0.0</td>\n",
       "      <td>0.0</td>\n",
       "      <td>0.000000</td>\n",
       "      <td>0.0</td>\n",
       "      <td>-0.5</td>\n",
       "      <td>0.0</td>\n",
       "      <td>0.5</td>\n",
       "      <td>-0.8</td>\n",
       "      <td>0.0</td>\n",
       "      <td>0.8</td>\n",
       "    </tr>\n",
       "    <tr>\n",
       "      <th>3</th>\n",
       "      <td>2010-01-11</td>\n",
       "      <td>Amir Sadollah</td>\n",
       "      <td>Brad Blackburn</td>\n",
       "      <td>False</td>\n",
       "      <td>-1.1</td>\n",
       "      <td>0.048</td>\n",
       "      <td>0.000000</td>\n",
       "      <td>-0.1</td>\n",
       "      <td>0.0</td>\n",
       "      <td>110.6</td>\n",
       "      <td>...</td>\n",
       "      <td>-3.0</td>\n",
       "      <td>0.0</td>\n",
       "      <td>-0.546865</td>\n",
       "      <td>-1.0</td>\n",
       "      <td>-1.0</td>\n",
       "      <td>1.0</td>\n",
       "      <td>-0.8</td>\n",
       "      <td>0.8</td>\n",
       "      <td>0.0</td>\n",
       "      <td>0.0</td>\n",
       "    </tr>\n",
       "    <tr>\n",
       "      <th>4</th>\n",
       "      <td>2010-01-11</td>\n",
       "      <td>Gray Maynard</td>\n",
       "      <td>Nate Diaz</td>\n",
       "      <td>False</td>\n",
       "      <td>0.0</td>\n",
       "      <td>0.062</td>\n",
       "      <td>0.142089</td>\n",
       "      <td>-1.3</td>\n",
       "      <td>-0.6</td>\n",
       "      <td>158.4</td>\n",
       "      <td>...</td>\n",
       "      <td>-2.4</td>\n",
       "      <td>-1.0</td>\n",
       "      <td>-0.943809</td>\n",
       "      <td>3.3</td>\n",
       "      <td>1.0</td>\n",
       "      <td>-4.5</td>\n",
       "      <td>3.3</td>\n",
       "      <td>0.0</td>\n",
       "      <td>0.0</td>\n",
       "      <td>-1.8</td>\n",
       "    </tr>\n",
       "  </tbody>\n",
       "</table>\n",
       "<p>5 rows × 31 columns</p>\n",
       "</div>"
      ],
      "text/plain": [
       "        DATE        Peleador_A      Peleador_B  WINNER  KD_DIFF  SIG_STR_DIFF  \\\n",
       "0 2010-01-02      Rashad Evans    Thiago Silva   False     -0.3        -0.239   \n",
       "1 2010-01-02         Sam Stout      Joe Lauzon   False      0.5        -0.252   \n",
       "2 2010-01-11  Rafael Dos Anjos    Kyle Bradley   False      0.0        -0.114   \n",
       "3 2010-01-11     Amir Sadollah  Brad Blackburn   False     -1.1         0.048   \n",
       "4 2010-01-11      Gray Maynard       Nate Diaz   False      0.0         0.062   \n",
       "\n",
       "    TD_DIFF  SUB_ATT_DIFF  REV_DIFF  CTRL_DIFF  ...  Record_DIFF  Peleas_DIFF  \\\n",
       "0  0.230769          -0.2       0.0        1.2  ...         17.3          4.0   \n",
       "1 -0.331250          -3.0       0.0     -104.6  ...         -2.0          1.0   \n",
       "2 -0.082353           1.3       0.3      187.2  ...          0.0          0.0   \n",
       "3  0.000000          -0.1       0.0      110.6  ...         -3.0          0.0   \n",
       "4  0.142089          -1.3      -0.6      158.4  ...         -2.4         -1.0   \n",
       "\n",
       "   Puntos_DIFF  Racha_DIFF  Victorias_KO_DIFF  Victorias_Sub_DIFF  \\\n",
       "0     4.223836         0.5               -0.7                 0.0   \n",
       "1    -2.396327        -0.9               -1.8                -2.5   \n",
       "2     0.000000         0.0               -0.5                 0.0   \n",
       "3    -0.546865        -1.0               -1.0                 1.0   \n",
       "4    -0.943809         3.3                1.0                -4.5   \n",
       "\n",
       "   Victorias_Decision_DIFF  Derrotas_KO_DIFF  Derrotas_Sub_DIFF  \\\n",
       "0                      4.0              -0.3                0.0   \n",
       "1                      2.5              -1.0                1.0   \n",
       "2                      0.5              -0.8                0.0   \n",
       "3                     -0.8               0.8                0.0   \n",
       "4                      3.3               0.0                0.0   \n",
       "\n",
       "   Derrotas_Decision_DIFF  \n",
       "0                     1.0  \n",
       "1                     2.8  \n",
       "2                     0.8  \n",
       "3                     0.0  \n",
       "4                    -1.8  \n",
       "\n",
       "[5 rows x 31 columns]"
      ]
     },
     "execution_count": 93,
     "metadata": {},
     "output_type": "execute_result"
    }
   ],
   "source": [
    "#Leo los df divididos en orden cronológico de forma que los resultados sean lo más reales posibles\n",
    "ruta_train =  os.path.join(\"..\",\"..\",\"..\", \"data\", \"P2_dif\",\"train.parquet\")\n",
    "df_train = pd.read_parquet(ruta_train)\n",
    "df_train.head()"
   ]
  },
  {
   "cell_type": "code",
   "execution_count": 94,
   "metadata": {},
   "outputs": [
    {
     "data": {
      "text/html": [
       "<div>\n",
       "<style scoped>\n",
       "    .dataframe tbody tr th:only-of-type {\n",
       "        vertical-align: middle;\n",
       "    }\n",
       "\n",
       "    .dataframe tbody tr th {\n",
       "        vertical-align: top;\n",
       "    }\n",
       "\n",
       "    .dataframe thead th {\n",
       "        text-align: right;\n",
       "    }\n",
       "</style>\n",
       "<table border=\"1\" class=\"dataframe\">\n",
       "  <thead>\n",
       "    <tr style=\"text-align: right;\">\n",
       "      <th></th>\n",
       "      <th>DATE</th>\n",
       "      <th>Peleador_A</th>\n",
       "      <th>Peleador_B</th>\n",
       "      <th>WINNER</th>\n",
       "      <th>KD_DIFF</th>\n",
       "      <th>SIG_STR_DIFF</th>\n",
       "      <th>TD_DIFF</th>\n",
       "      <th>SUB_ATT_DIFF</th>\n",
       "      <th>REV_DIFF</th>\n",
       "      <th>CTRL_DIFF</th>\n",
       "      <th>...</th>\n",
       "      <th>Record_DIFF</th>\n",
       "      <th>Peleas_DIFF</th>\n",
       "      <th>Puntos_DIFF</th>\n",
       "      <th>Racha_DIFF</th>\n",
       "      <th>Victorias_KO_DIFF</th>\n",
       "      <th>Victorias_Sub_DIFF</th>\n",
       "      <th>Victorias_Decision_DIFF</th>\n",
       "      <th>Derrotas_KO_DIFF</th>\n",
       "      <th>Derrotas_Sub_DIFF</th>\n",
       "      <th>Derrotas_Decision_DIFF</th>\n",
       "    </tr>\n",
       "  </thead>\n",
       "  <tbody>\n",
       "    <tr>\n",
       "      <th>0</th>\n",
       "      <td>2022-11-19</td>\n",
       "      <td>Kennedy Nzechukwu</td>\n",
       "      <td>Ion Cutelaba</td>\n",
       "      <td>False</td>\n",
       "      <td>-0.2</td>\n",
       "      <td>-0.046</td>\n",
       "      <td>-0.069444</td>\n",
       "      <td>0.5</td>\n",
       "      <td>0.0</td>\n",
       "      <td>135.1</td>\n",
       "      <td>...</td>\n",
       "      <td>-2.600000e+00</td>\n",
       "      <td>-6.0</td>\n",
       "      <td>83.963290</td>\n",
       "      <td>0.3</td>\n",
       "      <td>-0.5</td>\n",
       "      <td>0.0</td>\n",
       "      <td>-1.0</td>\n",
       "      <td>-1.0</td>\n",
       "      <td>-2.3</td>\n",
       "      <td>-1.2</td>\n",
       "    </tr>\n",
       "    <tr>\n",
       "      <th>1</th>\n",
       "      <td>2022-11-19</td>\n",
       "      <td>Vince Morales</td>\n",
       "      <td>Miles Johns</td>\n",
       "      <td>True</td>\n",
       "      <td>-0.2</td>\n",
       "      <td>-0.085</td>\n",
       "      <td>0.111111</td>\n",
       "      <td>0.0</td>\n",
       "      <td>0.5</td>\n",
       "      <td>-21.6</td>\n",
       "      <td>...</td>\n",
       "      <td>0.000000e+00</td>\n",
       "      <td>2.0</td>\n",
       "      <td>2.504227</td>\n",
       "      <td>0.0</td>\n",
       "      <td>-1.0</td>\n",
       "      <td>0.0</td>\n",
       "      <td>1.0</td>\n",
       "      <td>0.0</td>\n",
       "      <td>-0.5</td>\n",
       "      <td>2.5</td>\n",
       "    </tr>\n",
       "    <tr>\n",
       "      <th>2</th>\n",
       "      <td>2022-11-19</td>\n",
       "      <td>Andre Fialho</td>\n",
       "      <td>Muslim Salikhov</td>\n",
       "      <td>True</td>\n",
       "      <td>0.2</td>\n",
       "      <td>0.048</td>\n",
       "      <td>-0.244444</td>\n",
       "      <td>0.0</td>\n",
       "      <td>0.0</td>\n",
       "      <td>-72.3</td>\n",
       "      <td>...</td>\n",
       "      <td>-4.000000e+00</td>\n",
       "      <td>-3.0</td>\n",
       "      <td>-65.425925</td>\n",
       "      <td>-3.0</td>\n",
       "      <td>-0.2</td>\n",
       "      <td>0.0</td>\n",
       "      <td>-2.8</td>\n",
       "      <td>0.0</td>\n",
       "      <td>-1.0</td>\n",
       "      <td>1.0</td>\n",
       "    </tr>\n",
       "    <tr>\n",
       "      <th>3</th>\n",
       "      <td>2022-11-19</td>\n",
       "      <td>Jennifer Maia</td>\n",
       "      <td>Maryna Moroz</td>\n",
       "      <td>False</td>\n",
       "      <td>0.0</td>\n",
       "      <td>-0.244</td>\n",
       "      <td>-0.094877</td>\n",
       "      <td>-1.5</td>\n",
       "      <td>0.0</td>\n",
       "      <td>-315.7</td>\n",
       "      <td>...</td>\n",
       "      <td>5.000000e+00</td>\n",
       "      <td>0.0</td>\n",
       "      <td>16.951066</td>\n",
       "      <td>-1.0</td>\n",
       "      <td>0.0</td>\n",
       "      <td>-0.5</td>\n",
       "      <td>-0.8</td>\n",
       "      <td>0.0</td>\n",
       "      <td>0.0</td>\n",
       "      <td>1.3</td>\n",
       "    </tr>\n",
       "    <tr>\n",
       "      <th>4</th>\n",
       "      <td>2022-12-03</td>\n",
       "      <td>Eryk Anders</td>\n",
       "      <td>Kyle Daukaus</td>\n",
       "      <td>False</td>\n",
       "      <td>0.0</td>\n",
       "      <td>-0.144</td>\n",
       "      <td>-0.183091</td>\n",
       "      <td>-1.2</td>\n",
       "      <td>0.2</td>\n",
       "      <td>140.7</td>\n",
       "      <td>...</td>\n",
       "      <td>-1.776357e-15</td>\n",
       "      <td>8.0</td>\n",
       "      <td>-36.582438</td>\n",
       "      <td>-1.0</td>\n",
       "      <td>3.0</td>\n",
       "      <td>-0.8</td>\n",
       "      <td>2.0</td>\n",
       "      <td>0.5</td>\n",
       "      <td>0.8</td>\n",
       "      <td>2.5</td>\n",
       "    </tr>\n",
       "  </tbody>\n",
       "</table>\n",
       "<p>5 rows × 31 columns</p>\n",
       "</div>"
      ],
      "text/plain": [
       "        DATE         Peleador_A       Peleador_B  WINNER  KD_DIFF  \\\n",
       "0 2022-11-19  Kennedy Nzechukwu     Ion Cutelaba   False     -0.2   \n",
       "1 2022-11-19      Vince Morales      Miles Johns    True     -0.2   \n",
       "2 2022-11-19       Andre Fialho  Muslim Salikhov    True      0.2   \n",
       "3 2022-11-19      Jennifer Maia     Maryna Moroz   False      0.0   \n",
       "4 2022-12-03        Eryk Anders     Kyle Daukaus   False      0.0   \n",
       "\n",
       "   SIG_STR_DIFF   TD_DIFF  SUB_ATT_DIFF  REV_DIFF  CTRL_DIFF  ...  \\\n",
       "0        -0.046 -0.069444           0.5       0.0      135.1  ...   \n",
       "1        -0.085  0.111111           0.0       0.5      -21.6  ...   \n",
       "2         0.048 -0.244444           0.0       0.0      -72.3  ...   \n",
       "3        -0.244 -0.094877          -1.5       0.0     -315.7  ...   \n",
       "4        -0.144 -0.183091          -1.2       0.2      140.7  ...   \n",
       "\n",
       "    Record_DIFF  Peleas_DIFF  Puntos_DIFF  Racha_DIFF  Victorias_KO_DIFF  \\\n",
       "0 -2.600000e+00         -6.0    83.963290         0.3               -0.5   \n",
       "1  0.000000e+00          2.0     2.504227         0.0               -1.0   \n",
       "2 -4.000000e+00         -3.0   -65.425925        -3.0               -0.2   \n",
       "3  5.000000e+00          0.0    16.951066        -1.0                0.0   \n",
       "4 -1.776357e-15          8.0   -36.582438        -1.0                3.0   \n",
       "\n",
       "   Victorias_Sub_DIFF  Victorias_Decision_DIFF  Derrotas_KO_DIFF  \\\n",
       "0                 0.0                     -1.0              -1.0   \n",
       "1                 0.0                      1.0               0.0   \n",
       "2                 0.0                     -2.8               0.0   \n",
       "3                -0.5                     -0.8               0.0   \n",
       "4                -0.8                      2.0               0.5   \n",
       "\n",
       "   Derrotas_Sub_DIFF  Derrotas_Decision_DIFF  \n",
       "0               -2.3                    -1.2  \n",
       "1               -0.5                     2.5  \n",
       "2               -1.0                     1.0  \n",
       "3                0.0                     1.3  \n",
       "4                0.8                     2.5  \n",
       "\n",
       "[5 rows x 31 columns]"
      ]
     },
     "execution_count": 94,
     "metadata": {},
     "output_type": "execute_result"
    }
   ],
   "source": [
    "ruta_test = os.path.join(\"..\",\"..\",\"..\",\"data\", \"P2_dif\",\"test.parquet\")\n",
    "df_test = pd.read_parquet(ruta_test)\n",
    "df_test.head()"
   ]
  },
  {
   "cell_type": "code",
   "execution_count": 95,
   "metadata": {},
   "outputs": [
    {
     "data": {
      "text/plain": [
       "WINNER\n",
       "False    0.56343\n",
       "True     0.43657\n",
       "Name: proportion, dtype: float64"
      ]
     },
     "execution_count": 95,
     "metadata": {},
     "output_type": "execute_result"
    }
   ],
   "source": [
    "X_train = df_train.drop(columns=[\"DATE\",\"Peleador_A\",\"Peleador_B\",\"WINNER\"])\n",
    "y_train = df_train[\"WINNER\"]\n",
    "y_train.value_counts(normalize=True)"
   ]
  },
  {
   "cell_type": "code",
   "execution_count": 96,
   "metadata": {},
   "outputs": [
    {
     "data": {
      "text/plain": [
       "WINNER\n",
       "False    0.546166\n",
       "True     0.453834\n",
       "Name: proportion, dtype: float64"
      ]
     },
     "execution_count": 96,
     "metadata": {},
     "output_type": "execute_result"
    }
   ],
   "source": [
    "X_test = df_test.drop(columns=[\"DATE\",\"Peleador_A\",\"Peleador_B\",\"WINNER\"])\n",
    "y_test = df_test[\"WINNER\"]\n",
    "y_test.value_counts(normalize=True)"
   ]
  },
  {
   "cell_type": "markdown",
   "metadata": {},
   "source": [
    "### Transformaciones"
   ]
  },
  {
   "cell_type": "markdown",
   "metadata": {},
   "source": [
    "Para el modelo XGBoost no es necesario realizar transformaciones previas de las variables, como la normalización o estandarización. Como no tenemos variables categóricas, tampoco será necesario ningún tipo de codificación."
   ]
  },
  {
   "cell_type": "markdown",
   "metadata": {},
   "source": [
    "### Seleccion de variables"
   ]
  },
  {
   "cell_type": "markdown",
   "metadata": {},
   "source": [
    "El modelo XGBoostClassifier no requiere una selección explícita de variables antes del entrenamiento. Cada nodo selecciona automáticamente la variable que proporciona la mayor ganancia de información o reducción de impureza. "
   ]
  },
  {
   "cell_type": "markdown",
   "metadata": {},
   "source": [
    "### Ajuste de hiperparametros"
   ]
  },
  {
   "cell_type": "markdown",
   "metadata": {},
   "source": [
    "Para buscar una configuración óptima de hiperparámetros he utilizado dos estrategias, GridSearchCV y RandomizedSearchCV. "
   ]
  },
  {
   "cell_type": "markdown",
   "metadata": {},
   "source": [
    "### GridSearch"
   ]
  },
  {
   "cell_type": "code",
   "execution_count": 97,
   "metadata": {},
   "outputs": [],
   "source": [
    "def train_xgboost_grid(X_train, y_train, X_val, y_val):\n",
    "    # Calcular pesos de clase para manejar desbalance de datos\n",
    "    class_weights = compute_class_weight('balanced', classes=np.unique(y_train), y=y_train)\n",
    "    scale_pos_weight = class_weights[1] / class_weights[0] if len(class_weights) > 1 else 1\n",
    "    tscv = TimeSeriesSplit(n_splits=5)\n",
    "    # Definir modelo base\n",
    "    xgb = XGBClassifier(random_state=42)\n",
    "\n",
    "\n",
    "    param_grid = {\n",
    "    'n_estimators': [100, 250],\n",
    "    'learning_rate': [0.01, 0.05],  \n",
    "    'subsample': [0.7, 1.0],  \n",
    "    'colsample_bytree': [0.5, 0.7, 1.0],  # Añadir 0.5 para más regularización\n",
    "    'gamma': [0, 0.1],  \n",
    "    'min_child_weight': [10,35,50],  # Añadir 3 como punto intermedio \n",
    "    'reg_alpha': [0.1, 1.0], \n",
    "    'reg_lambda': [0.1, 1.0], \n",
    "    'scale_pos_weight': [1, scale_pos_weight]  \n",
    "}\n",
    "\n",
    "\n",
    "    # Definir la métrica de optimización como el F1-score macro\n",
    "    f1_scorer = make_scorer(f1_score, average='macro')\n",
    "\n",
    "    # Búsqueda con validación cruzada\n",
    "    grid_search = GridSearchCV(\n",
    "        estimator=xgb,\n",
    "        param_grid=param_grid,\n",
    "        scoring=f1_scorer,\n",
    "        cv=tscv,\n",
    "        n_jobs=-1,\n",
    "        verbose=2\n",
    "    )\n",
    "\n",
    "    # Entrenar el modelo\n",
    "    grid_search.fit(X_train, y_train)\n",
    "\n",
    "    # Imprimir mejores parámetros\n",
    "    print(\"Mejores parámetros:\", grid_search.best_params_)\n",
    "\n",
    "    # Evaluar el mejor modelo en el conjunto de validación\n",
    "    y_pred = grid_search.best_estimator_.predict(X_val)\n",
    "    print(\"Reporte de clasificación:\")\n",
    "    print(classification_report(y_val, y_pred))\n",
    "\n",
    "    return grid_search.best_estimator_,grid_search.best_params_"
   ]
  },
  {
   "cell_type": "code",
   "execution_count": 98,
   "metadata": {},
   "outputs": [],
   "source": [
    "# mlflow.set_experiment(\"Prueba con Puntos tipo elo XGBoost\")"
   ]
  },
  {
   "cell_type": "markdown",
   "metadata": {},
   "source": [
    "#### Entrenamiento usando ajuste de hiperparámetros"
   ]
  },
  {
   "cell_type": "code",
   "execution_count": 119,
   "metadata": {},
   "outputs": [
    {
     "name": "stdout",
     "output_type": "stream",
     "text": [
      "-- Entrenamiento usando ajuste de hiperparámetros con GridSearchCV --\n",
      "Fitting 5 folds for each of 1152 candidates, totalling 5760 fits\n",
      "Mejores parámetros: {'colsample_bytree': 0.5, 'gamma': 0, 'learning_rate': 0.01, 'min_child_weight': 35, 'n_estimators': 250, 'reg_alpha': 1.0, 'reg_lambda': 0.1, 'scale_pos_weight': np.float64(1.2905829596412555), 'subsample': 1.0}\n",
      "Reporte de clasificación:\n",
      "              precision    recall  f1-score   support\n",
      "\n",
      "       False       0.60      0.54      0.57       349\n",
      "        True       0.51      0.57      0.53       290\n",
      "\n",
      "    accuracy                           0.55       639\n",
      "   macro avg       0.55      0.55      0.55       639\n",
      "weighted avg       0.56      0.55      0.55       639\n",
      "\n"
     ]
    }
   ],
   "source": [
    "print(\"-- Entrenamiento usando ajuste de hiperparámetros con GridSearchCV --\")\n",
    "best_grid,best_params = train_xgboost_grid(X_train,y_train,X_test,y_test)\n"
   ]
  },
  {
   "cell_type": "markdown",
   "metadata": {},
   "source": [
    "#### Predicción con el conjunto de test"
   ]
  },
  {
   "cell_type": "code",
   "execution_count": 120,
   "metadata": {},
   "outputs": [
    {
     "name": "stdout",
     "output_type": "stream",
     "text": [
      "-- Métricas del modelo con hiperparámetros ajustados --\n",
      "Accuracy: 0.5524256651017214\n",
      "F1-Score: 0.5342\n",
      "AUC-ROC: 0.5641\n",
      "Precisión: 0.5062\n",
      "Sensibilidad: 0.5655\n",
      "Log-loss: 0.689567722289858\n"
     ]
    }
   ],
   "source": [
    "print(\"-- Métricas del modelo con hiperparámetros ajustados --\")\n",
    "y_val_pred = best_grid.predict(X_test)\n",
    "y_val_prob = best_grid.predict_proba(X_test)[:,1]\n",
    "print(\"Accuracy:\", accuracy_score(y_test, y_val_pred))\n",
    "f1_val = f1_score(y_test, y_val_pred)\n",
    "roc_auc_val = roc_auc_score(y_test, y_val_prob)\n",
    "precision_val = precision_score(y_test, y_val_pred)\n",
    "recall_val = recall_score(y_test, y_val_pred)\n",
    "log_loss_val = log_loss(y_test,y_val_prob)\n",
    "print(f\"F1-Score: {f1_val:.4f}\")\n",
    "print(f\"AUC-ROC: {roc_auc_val:.4f}\")\n",
    "print(f\"Precisión: {precision_val:.4f}\")\n",
    "print(f\"Sensibilidad: {recall_val:.4f}\")\n",
    "print(f\"Log-loss: {log_loss_val}\")"
   ]
  },
  {
   "cell_type": "markdown",
   "metadata": {},
   "source": [
    "Los resultados obtenidos con el modelo XGBoost, tras el ajuste de hiperparámetros, no son óptimos. Las métricas indican que el modelo no logra una mejora significativa en comparación con una predicción aleatoria y, además, su rendimiento es inferior al del modelo basado en medias ponderadas."
   ]
  },
  {
   "cell_type": "code",
   "execution_count": null,
   "metadata": {},
   "outputs": [
    {
     "name": "stderr",
     "output_type": "stream",
     "text": [
      "c:\\Users\\andre\\OneDrive - Universidad Complutense de Madrid (UCM)\\Escritorio\\UNIVERSIDAD\\2º\\2º Cuatrimestre\\PD1\\c2425-R4\\.venv\\Lib\\site-packages\\xgboost\\core.py:158: UserWarning: [10:19:50] WARNING: C:\\buildkite-agent\\builds\\buildkite-windows-cpu-autoscaling-group-i-08cbc0333d8d4aae1-1\\xgboost\\xgboost-ci-windows\\src\\c_api\\c_api.cc:1374: Saving model in the UBJSON format as default.  You can use file extension: `json`, `ubj` or `deprecated` to choose between formats.\n",
      "  warnings.warn(smsg, UserWarning)\n",
      "2025/03/23 10:19:59 WARNING mlflow.utils.environment: Failed to resolve installed pip version. ``pip`` will be added to conda.yaml environment spec without a version specifier.\n",
      "2025/03/23 10:19:59 WARNING mlflow.models.model: Model logged without a signature and input example. Please set `input_example` parameter when logging the model to auto infer the model signature.\n"
     ]
    },
    {
     "name": "stdout",
     "output_type": "stream",
     "text": [
      "Modelo guardado en MLflow\n"
     ]
    }
   ],
   "source": [
    "# if mlflow.active_run():\n",
    "#     mlflow.end_run()\n",
    "\n",
    "# # Iniciar un nuevo experimento\n",
    "# with mlflow.start_run(run_name=\"con k=25 y victorias/derrotas fuera de las medias, prueba con min_child_weight alto\"):\n",
    "\n",
    "#     # Guardar modelo en MLflow\n",
    "#     mlflow.xgboost.log_model(best_grid, \"modelo_xgboost\")\n",
    "#     mlflow.log_param(\"mejores_parametros\", best_params)\n",
    "#     mlflow.log_metric(\"accuracy\", accuracy_score(y_test, y_val_pred))\n",
    "#     mlflow.log_metric(\"f1_macro\", f1_val)\n",
    "\n",
    "#     print(\"Modelo guardado en MLflow\")"
   ]
  },
  {
   "cell_type": "markdown",
   "metadata": {},
   "source": [
    "Esta celda la utilizamos para guardar el modelo y poder saber cual fue el que mejor nos funcionó cuando los comparemos."
   ]
  },
  {
   "cell_type": "markdown",
   "metadata": {},
   "source": [
    "#### Matriz de confusión"
   ]
  },
  {
   "cell_type": "code",
   "execution_count": 121,
   "metadata": {},
   "outputs": [
    {
     "data": {
      "image/png": "[encoded data removed]",
      "text/plain": [
       "<Figure size 640x480 with 2 Axes>"
      ]
     },
     "metadata": {},
     "output_type": "display_data"
    }
   ],
   "source": [
    "# Calcular la matriz de confusión\n",
    "cm = confusion_matrix(y_test, y_val_pred)\n",
    "\n",
    "# Visualizar la matriz de confusión\n",
    "sns.heatmap(cm, annot=True, fmt='d', cmap='Blues', xticklabels=['Clase 0', 'Clase 1'], yticklabels=['Clase 0', 'Clase 1'])\n",
    "plt.xlabel('Predicción')\n",
    "plt.ylabel('Real')\n",
    "plt.title('Matriz de Confusión')\n",
    "plt.show()"
   ]
  },
  {
   "cell_type": "markdown",
   "metadata": {},
   "source": [
    "Si nos fijamos en la matriz de confusión, hay un gran número de falsos positivos y falsos negativos. Por lo que  el modelo no llega a clasificar de forma adecuada cada observación."
   ]
  },
  {
   "cell_type": "markdown",
   "metadata": {},
   "source": [
    "#### Importancia de cada variable"
   ]
  },
  {
   "cell_type": "markdown",
   "metadata": {},
   "source": [
    "Se observa que la variable con mayor peso en la predicción es Racha_DIFF, lo que sugiere que la diferencia en las rachas de victorias entre ambos peleadores es un factor determinante al momento de predecir el ganador de la pelea. \n",
    "\n",
    "Por otro lado, variables como STR_GROUND_A_DIFF (diferencia en golpes significativos en el suelo) y Puntos_DIFF (diferencia en los puntos obtenidos) presentan una importancia similar y considerable."
   ]
  },
  {
   "cell_type": "code",
   "execution_count": 122,
   "metadata": {},
   "outputs": [
    {
     "name": "stdout",
     "output_type": "stream",
     "text": [
      "                    Feature  Importance\n",
      "20               Racha_DIFF    0.078563\n",
      "14        STR_GROUND_A_DIFF    0.052705\n",
      "19              Puntos_DIFF    0.043213\n",
      "5                 CTRL_DIFF    0.042097\n",
      "9           STR_HEAD_A_DIFF    0.040432\n",
      "26   Derrotas_Decision_DIFF    0.040024\n",
      "1              SIG_STR_DIFF    0.038867\n",
      "12      STR_DISTANCE_A_DIFF    0.038680\n",
      "24         Derrotas_KO_DIFF    0.038679\n",
      "21        Victorias_KO_DIFF    0.038453\n",
      "3              SUB_ATT_DIFF    0.036332\n",
      "18              Peleas_DIFF    0.036213\n",
      "2                   TD_DIFF    0.035476\n",
      "7          TOTAL_STR_A_DIFF    0.035263\n",
      "10          STR_BODY_A_DIFF    0.035200\n",
      "16            GRAPPLER_DIFF    0.035007\n",
      "8                 TD_A_DIFF    0.034029\n",
      "11           STR_LEG_A_DIFF    0.033790\n",
      "4                  REV_DIFF    0.033282\n",
      "0                   KD_DIFF    0.032866\n",
      "22       Victorias_Sub_DIFF    0.031012\n",
      "17              Record_DIFF    0.029807\n",
      "25        Derrotas_Sub_DIFF    0.029749\n",
      "15             STRIKER_DIFF    0.029194\n",
      "13        STR_CLINCH_A_DIFF    0.028498\n",
      "23  Victorias_Decision_DIFF    0.026621\n",
      "6              TD_PORC_DIFF    0.025947\n"
     ]
    }
   ],
   "source": [
    "feature_importance = pd.DataFrame({\n",
    "    'Feature': X_train.columns,\n",
    "    'Importance': best_grid.feature_importances_\n",
    "}).sort_values(by='Importance', ascending=False)\n",
    "print(feature_importance)"
   ]
  },
  {
   "cell_type": "code",
   "execution_count": 123,
   "metadata": {},
   "outputs": [
    {
     "data": {
      "image/png": "[encoded data removed]",
      "text/plain": [
       "<Figure size 1000x1000 with 1 Axes>"
      ]
     },
     "metadata": {},
     "output_type": "display_data"
    }
   ],
   "source": [
    "plt.figure(figsize=(10, 10))\n",
    "plt.barh(feature_importance[\"Feature\"], feature_importance[\"Importance\"], color=\"royalblue\")\n",
    "plt.xlabel(\"Permutation Importance\")\n",
    "plt.title(\"Feature Importance (Top 10)\")\n",
    "plt.yticks(fontsize=5)\n",
    "plt.grid(axis=\"x\", linestyle=\"--\", alpha=0.7)\n",
    "plt.show()"
   ]
  },
  {
   "cell_type": "markdown",
   "metadata": {},
   "source": [
    "#### Random Search"
   ]
  },
  {
   "cell_type": "code",
   "execution_count": 124,
   "metadata": {},
   "outputs": [],
   "source": [
    "def train_xgboost_random(X_train, y_train, X_val, y_val):\n",
    "    # Calcular pesos de clase para manejar desbalance de datos\n",
    "    class_weights = compute_class_weight('balanced', classes=np.unique(y_train), y=y_train)\n",
    "    scale_pos_weight = class_weights[1] / class_weights[0] if len(class_weights) > 1 else 1\n",
    "    tscv = TimeSeriesSplit(n_splits=5)\n",
    "    # Definir modelo base\n",
    "    xgb = XGBClassifier(random_state=42)\n",
    "\n",
    "    # Distribución de hiperparámetros para búsqueda aleatoria\n",
    "    \"\"\"\n",
    "    param_dist = {\n",
    "        'n_estimators': np.arange(50, 400, 50),\n",
    "        'max_depth': np.arange(3, 60, 3),\n",
    "        'learning_rate': np.linspace(0.01, 0.2, 10),\n",
    "        'subsample': np.linspace(0.5, 1.0, 6),\n",
    "        'colsample_bytree': np.linspace(0.5, 1.0, 6),\n",
    "        'gamma': np.linspace(0, 0.5, 6),\n",
    "        'min_child_weight': np.arange(1, 70, 2),\n",
    "        'scale_pos_weight': [1, scale_pos_weight]\n",
    "    }\"\n",
    "    \"\"\"\n",
    "    \n",
    "    param_dist = {\n",
    "        'n_estimators': np.arange(50, 400, 50),\n",
    "        'max_depth': np.arange(3, 40, 2),\n",
    "        'learning_rate': np.linspace(0.005, 0.2, 15),\n",
    "        'subsample': np.linspace(0.5, 1.0, 6),\n",
    "        'colsample_bytree': np.linspace(0.5, 1.0, 6),\n",
    "        'gamma': np.linspace(0, 0.5, 6),\n",
    "        'min_child_weight': np.arange(1, 70, 2),\n",
    "        'scale_pos_weight': [1, scale_pos_weight],\n",
    "        'reg_alpha': [0, 0.1, 0.5, 1], #Parámetro regularización\n",
    "        'tree_method': ['auto', 'exact', 'approx', 'hist'], #Método construcción árbol\n",
    "        'grow_policy': ['depthwise', 'lossguide'] #Política crecimiento árbol\n",
    "    }\n",
    "\n",
    "    # Definir la métrica de optimización como el F1-score macro\n",
    "    f1_scorer = make_scorer(f1_score, average='macro')\n",
    "    # Búsqueda con validación cruzada\n",
    "    random_search = RandomizedSearchCV(\n",
    "        estimator=xgb,\n",
    "        param_distributions=param_dist,\n",
    "        scoring=f1_scorer,\n",
    "        n_iter=50,\n",
    "        cv=tscv,\n",
    "        n_jobs=-1,\n",
    "        verbose=2,\n",
    "        random_state=42\n",
    "    )\n",
    "\n",
    "    # Entrenar el modelo\n",
    "    random_search.fit(X_train, y_train)\n",
    "\n",
    "    # Imprimir mejores parámetros\n",
    "    print(\"Mejores parámetros:\", random_search.best_params_)\n",
    "\n",
    "    # Evaluar el mejor modelo en el conjunto de validación\n",
    "    y_pred = random_search.best_estimator_.predict(X_val)\n",
    "    print(\"Reporte de clasificación:\")\n",
    "    print(classification_report(y_val, y_pred))\n",
    "\n",
    "\n",
    "    return random_search"
   ]
  },
  {
   "cell_type": "markdown",
   "metadata": {},
   "source": [
    "#### Entrenamiento usando ajuste de hiperparámetros"
   ]
  },
  {
   "cell_type": "code",
   "execution_count": 125,
   "metadata": {},
   "outputs": [
    {
     "name": "stdout",
     "output_type": "stream",
     "text": [
      "-- Entrenamiento usando ajuste de hiperparámetros con RandomizedSeachCV --\n",
      "Fitting 5 folds for each of 50 candidates, totalling 250 fits\n",
      "Mejores parámetros: {'tree_method': 'hist', 'subsample': np.float64(0.8), 'scale_pos_weight': np.float64(1.2905829596412555), 'reg_alpha': 0.1, 'n_estimators': np.int64(250), 'min_child_weight': np.int64(35), 'max_depth': np.int64(33), 'learning_rate': np.float64(0.01892857142857143), 'grow_policy': 'lossguide', 'gamma': np.float64(0.5), 'colsample_bytree': np.float64(1.0)}\n",
      "Reporte de clasificación:\n",
      "              precision    recall  f1-score   support\n",
      "\n",
      "       False       0.59      0.54      0.56       349\n",
      "        True       0.49      0.54      0.52       290\n",
      "\n",
      "    accuracy                           0.54       639\n",
      "   macro avg       0.54      0.54      0.54       639\n",
      "weighted avg       0.54      0.54      0.54       639\n",
      "\n"
     ]
    }
   ],
   "source": [
    "print(\"-- Entrenamiento usando ajuste de hiperparámetros con RandomizedSeachCV --\")\n",
    "resultados_random = train_xgboost_random(X_train,y_train,X_test,y_test)\n",
    "best_random = resultados_random.best_estimator_\n",
    "results_cv = resultados_random.cv_results_"
   ]
  },
  {
   "cell_type": "markdown",
   "metadata": {},
   "source": [
    "#### Predicción con el conjunto de test"
   ]
  },
  {
   "cell_type": "code",
   "execution_count": 126,
   "metadata": {},
   "outputs": [
    {
     "name": "stdout",
     "output_type": "stream",
     "text": [
      "-- Métricas del modelo con hiperparámetros ajustados --\n",
      "Accuracy: 0.539906103286385\n",
      "F1-Score: 0.5164\n",
      "AUC-ROC: 0.5672\n",
      "Precisión: 0.4937\n",
      "Sensibilidad: 0.5414\n",
      "Log-loss: 0.6957790704679104\n",
      "[[188 161]\n",
      " [133 157]]\n"
     ]
    }
   ],
   "source": [
    "print(\"-- Métricas del modelo con hiperparámetros ajustados --\")\n",
    "y_val_pred = best_random.predict(X_test)\n",
    "y_val_prob = best_random.predict_proba(X_test)[:,1]\n",
    "print(\"Accuracy:\", accuracy_score(y_test, y_val_pred))\n",
    "f1_val = f1_score(y_test, y_val_pred)\n",
    "roc_auc_val = roc_auc_score(y_test, y_val_prob)\n",
    "precision_val = precision_score(y_test, y_val_pred)\n",
    "recall_val = recall_score(y_test, y_val_pred)\n",
    "log_loss_val = log_loss(y_test,y_val_prob)\n",
    "print(f\"F1-Score: {f1_val:.4f}\")\n",
    "print(f\"AUC-ROC: {roc_auc_val:.4f}\")\n",
    "print(f\"Precisión: {precision_val:.4f}\")\n",
    "print(f\"Sensibilidad: {recall_val:.4f}\")\n",
    "print(f\"Log-loss: {log_loss_val}\")\n",
    "print(confusion_matrix(y_test, y_val_pred))"
   ]
  },
  {
   "cell_type": "markdown",
   "metadata": {},
   "source": [
    "El modelo obtenido mediante Random Search ha mostrado un rendimiento inferior al modelo ajustado con Grid Search. En particular, el accuracy obtenido es menor que el de una estrategia trivial que siempre predice la clase mayoritaria, la cual alcanzaría un 54.61% de accuracy."
   ]
  },
  {
   "cell_type": "markdown",
   "metadata": {},
   "source": [
    "#### Matriz de confusión"
   ]
  },
  {
   "cell_type": "code",
   "execution_count": 127,
   "metadata": {},
   "outputs": [
    {
     "data": {
      "image/png": "[encoded data removed]",
      "text/plain": [
       "<Figure size 640x480 with 2 Axes>"
      ]
     },
     "metadata": {},
     "output_type": "display_data"
    }
   ],
   "source": [
    "# Calcular la matriz de confusión\n",
    "cm = confusion_matrix(y_test, y_val_pred)\n",
    "\n",
    "# Visualizar la matriz de confusión\n",
    "sns.heatmap(cm, annot=True, fmt='d', cmap='Blues', xticklabels=['Clase 0', 'Clase 1'], yticklabels=['Clase 0', 'Clase 1'])\n",
    "plt.xlabel('Predicción')\n",
    "plt.ylabel('Real')\n",
    "plt.title('Matriz de Confusión')\n",
    "plt.show()"
   ]
  },
  {
   "cell_type": "markdown",
   "metadata": {},
   "source": [
    "Ocurre algo similar al modelo con GridSearh, donde hay un gran número de falsos positivos y negativos."
   ]
  },
  {
   "cell_type": "markdown",
   "metadata": {},
   "source": [
    "#### Importancia de cada variable"
   ]
  },
  {
   "cell_type": "code",
   "execution_count": 128,
   "metadata": {},
   "outputs": [
    {
     "name": "stdout",
     "output_type": "stream",
     "text": [
      "                    Feature  Importance\n",
      "20               Racha_DIFF    0.066488\n",
      "14        STR_GROUND_A_DIFF    0.046632\n",
      "1              SIG_STR_DIFF    0.041000\n",
      "7          TOTAL_STR_A_DIFF    0.040244\n",
      "18              Peleas_DIFF    0.040243\n",
      "24         Derrotas_KO_DIFF    0.040008\n",
      "19              Puntos_DIFF    0.039965\n",
      "9           STR_HEAD_A_DIFF    0.038252\n",
      "3              SUB_ATT_DIFF    0.037274\n",
      "26   Derrotas_Decision_DIFF    0.037145\n",
      "21        Victorias_KO_DIFF    0.036580\n",
      "8                 TD_A_DIFF    0.035980\n",
      "2                   TD_DIFF    0.035786\n",
      "5                 CTRL_DIFF    0.035742\n",
      "12      STR_DISTANCE_A_DIFF    0.035516\n",
      "0                   KD_DIFF    0.034952\n",
      "25        Derrotas_Sub_DIFF    0.034507\n",
      "6              TD_PORC_DIFF    0.034085\n",
      "11           STR_LEG_A_DIFF    0.033644\n",
      "10          STR_BODY_A_DIFF    0.033641\n",
      "17              Record_DIFF    0.033483\n",
      "16            GRAPPLER_DIFF    0.032948\n",
      "15             STRIKER_DIFF    0.032485\n",
      "13        STR_CLINCH_A_DIFF    0.032287\n",
      "23  Victorias_Decision_DIFF    0.031245\n",
      "22       Victorias_Sub_DIFF    0.030066\n",
      "4                  REV_DIFF    0.029800\n"
     ]
    }
   ],
   "source": [
    "feature_importance = pd.DataFrame({\n",
    "    'Feature': X_train.columns,\n",
    "    'Importance': best_random.feature_importances_\n",
    "}).sort_values(by='Importance', ascending=False)\n",
    "print(feature_importance)"
   ]
  },
  {
   "cell_type": "code",
   "execution_count": 129,
   "metadata": {},
   "outputs": [
    {
     "data": {
      "image/png": "[encoded data removed]",
      "text/plain": [
       "<Figure size 1000x1000 with 1 Axes>"
      ]
     },
     "metadata": {},
     "output_type": "display_data"
    }
   ],
   "source": [
    "plt.figure(figsize=(10, 10))\n",
    "plt.barh(feature_importance[\"Feature\"], feature_importance[\"Importance\"], color=\"royalblue\")\n",
    "plt.xlabel(\"Permutation Importance\")\n",
    "plt.title(\"Feature Importance (Top 10)\")\n",
    "plt.yticks(fontsize=5)\n",
    "plt.grid(axis=\"x\", linestyle=\"--\", alpha=0.7)\n",
    "plt.show()"
   ]
  },
  {
   "cell_type": "markdown",
   "metadata": {},
   "source": [
    "#### Conclusiones\n",
    "Tras evaluar los resultados del modelo utilizando dos enfoques de ajuste de hiperparámetros, se concluye que Grid Search logra un rendimiento ligeramente superior a la simple predicción de la clase mayoritaria. Sin embargo, su accuracy sigue siendo inferior al del modelo XGBoost basado en medias ponderadas, lo que indica que la estrategia de diferencias de estadísticas no ha mejorado la capacidad predictiva del modelo."
   ]
  }
 ],
 "metadata": {
  "kernelspec": {
   "display_name": ".venv",
   "language": "python",
   "name": "python3"
  },
  "language_info": {
   "codemirror_mode": {
    "name": "ipython",
    "version": 3
   },
   "file_extension": ".py",
   "mimetype": "text/x-python",
   "name": "python",
   "nbconvert_exporter": "python",
   "pygments_lexer": "ipython3",
   "version": "3.13.1"
  }
 },
 "nbformat": 4,
 "nbformat_minor": 2
}
