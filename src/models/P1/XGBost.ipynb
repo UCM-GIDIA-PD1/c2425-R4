{
 "cells": [
  {
   "cell_type": "markdown",
   "metadata": {},
   "source": [
    "## Modelo P1 usando **XGBoost**"
   ]
  },
  {
   "cell_type": "markdown",
   "metadata": {},
   "source": [
    "Notebook con entrenamiento del modelo XGBoost con el dataframe con datos de peleas\n",
    "\n",
    "Autor: Mateo Turati\n",
    "\n",
    "Descripción: Obtengo los datos de train, validación y test, esta vez de forma aleatoria. Creo dos modelos de XGBoostClassifier usando dos métodos de ajuste de hiperparámetros y estudio sus resultados."
   ]
  },
  {
   "cell_type": "markdown",
   "metadata": {},
   "source": [
    "* [Carga de los datos](#carga-de-los-datos)\n",
    "* [Modelo Baseline](#modelo-baseline)\n",
    "* [Transformaciones](#transformaciones)\n",
    "* [Selección de variables](#selección-de-variables)\n",
    "* [Ajuste de hiperparámetros](#ajuste-de-hiperparámetros)\n",
    "* [Conclusiones](#conclusiones)"
   ]
  },
  {
   "cell_type": "code",
   "execution_count": null,
   "metadata": {},
   "outputs": [],
   "source": [
    "#NO BORRAR ESTA CELDA!!!!!!!!!!!!!!!!\n",
    "\n",
    "#Marca con un * al final las que ya estén solucionadas\n",
    "\n",
    "#Solucionar:\n"
   ]
  },
  {
   "cell_type": "code",
   "execution_count": 16,
   "metadata": {},
   "outputs": [],
   "source": [
    "import pandas as pd\n",
    "import numpy as np\n",
    "from sklearn.model_selection import  GridSearchCV, RandomizedSearchCV,train_test_split\n",
    "from sklearn.metrics import classification_report, confusion_matrix, accuracy_score,log_loss, make_scorer, f1_score, roc_auc_score, precision_score, recall_score\n",
    "import os\n",
    "from sklearn.utils.class_weight import compute_class_weight\n",
    "from xgboost import XGBClassifier\n",
    "import seaborn as sns\n",
    "import matplotlib.pyplot as plt\n",
    "import mlflow"
   ]
  },
  {
   "cell_type": "markdown",
   "metadata": {},
   "source": [
    "### Descripción general del notebook\n",
    "\n",
    "En este notebook realizaremos el modelado y entrenamiento de un modelo XGBoost para predecir el ganador de una pelea a partir de los datos disponibles.\n",
    "\n",
    "En la fase de entrenamiento, buscaremos los hiperparámetros óptimos utilizando dos estrategias de ajuste. Primero, construiremos un modelo base (baseline), a partir del cual extraeremos conclusiones iniciales e intentaremos mejorarlo mediante dos técnicas de ajuste de hiperparámetros.\n",
    "\n",
    "Para este ajuste, emplearemos las estrategias de búsqueda en rejilla (grid search) y búsqueda aleatoria (random search). Evaluaremos los modelos utilizando el F1-score con validación cruzada, dado que la variable de respuesta presenta un desbalance y queremos evitar que el modelo prediga predominantemente la clase mayoritaria.\n",
    "\n",
    "El modelo con mejores resultados en la validación cruzada será seleccionado y analizaremos sus métricas en mayor profundidad.\n",
    "\n",
    "El objetivo principal es obtener un modelo con una accuracy lo suficientemente alta para su posterior implementación en la fase de despliegue."
   ]
  },
  {
   "cell_type": "code",
   "execution_count": 18,
   "metadata": {},
   "outputs": [
    {
     "name": "stdout",
     "output_type": "stream",
     "text": [
      "MLflow tracking URI: file:///c:\\Users\\mattu\\OneDrive\\Documentos\\GitHub\\c2425-R4\\mlruns\n"
     ]
    }
   ],
   "source": [
    "ruta_mlflow = os.path.abspath(os.path.join(\"..\", \"..\", \"..\", \"mlruns\"))\n",
    "\n",
    "# Configurar MLflow para guardar los modelos en esa ruta\n",
    "mlflow.set_tracking_uri(f\"file:///{ruta_mlflow}\")\n",
    "\n",
    "print(\"MLflow tracking URI:\", mlflow.get_tracking_uri())  "
   ]
  },
  {
   "cell_type": "markdown",
   "metadata": {},
   "source": [
    "Guardamos los resultados de diferentes experimentos en la carpeta mlruns para comprobar diferentes modelos."
   ]
  },
  {
   "cell_type": "markdown",
   "metadata": {},
   "source": [
    "#### CARGA DE DATOS"
   ]
  },
  {
   "cell_type": "markdown",
   "metadata": {},
   "source": [
    "Cargo los datos de train y test. Los cuales ya tenemos guardados en la carpeta data. Separamos en \"X\" e \"y\", guardando en \"X\" las variables que introduciremos en el modelo, eliminamos algunas variables que no aportan información sobre las peleas o variables que al realizar modelos observamos que tienen una importancia prácticamente nula. En la variable \"y\" guardamos la variable respuesta."
   ]
  },
  {
   "cell_type": "code",
   "execution_count": 2,
   "metadata": {},
   "outputs": [
    {
     "data": {
      "text/html": [
       "<div>\n",
       "<style scoped>\n",
       "    .dataframe tbody tr th:only-of-type {\n",
       "        vertical-align: middle;\n",
       "    }\n",
       "\n",
       "    .dataframe tbody tr th {\n",
       "        vertical-align: top;\n",
       "    }\n",
       "\n",
       "    .dataframe thead th {\n",
       "        text-align: right;\n",
       "    }\n",
       "</style>\n",
       "<table border=\"1\" class=\"dataframe\">\n",
       "  <thead>\n",
       "    <tr style=\"text-align: right;\">\n",
       "      <th></th>\n",
       "      <th>Peleador_A</th>\n",
       "      <th>Peleador_B</th>\n",
       "      <th>DATE</th>\n",
       "      <th>CATEGORY</th>\n",
       "      <th>WINNER</th>\n",
       "      <th>METHOD</th>\n",
       "      <th>TIME</th>\n",
       "      <th>ROUND</th>\n",
       "      <th>KD_A</th>\n",
       "      <th>KD_B</th>\n",
       "      <th>...</th>\n",
       "      <th>Victorias_Sub_A</th>\n",
       "      <th>Victorias_Sub_B</th>\n",
       "      <th>Victorias_Decision_A</th>\n",
       "      <th>Victorias_Decision_B</th>\n",
       "      <th>Derrotas_KO_A</th>\n",
       "      <th>Derrotas_KO_B</th>\n",
       "      <th>Derrotas_Sub_A</th>\n",
       "      <th>Derrotas_Sub_B</th>\n",
       "      <th>Derrotas_Decision_A</th>\n",
       "      <th>Derrotas_Decision_B</th>\n",
       "    </tr>\n",
       "  </thead>\n",
       "  <tbody>\n",
       "    <tr>\n",
       "      <th>0</th>\n",
       "      <td>Olivier Aubin-Mercier</td>\n",
       "      <td>Tony Sims</td>\n",
       "      <td>2015-08-23</td>\n",
       "      <td>LIGHTWEIGHT</td>\n",
       "      <td>False</td>\n",
       "      <td>Decision - Unanimous</td>\n",
       "      <td>300</td>\n",
       "      <td>3</td>\n",
       "      <td>0</td>\n",
       "      <td>0</td>\n",
       "      <td>...</td>\n",
       "      <td>2</td>\n",
       "      <td>0</td>\n",
       "      <td>1</td>\n",
       "      <td>0</td>\n",
       "      <td>0</td>\n",
       "      <td>0</td>\n",
       "      <td>0</td>\n",
       "      <td>0</td>\n",
       "      <td>1</td>\n",
       "      <td>1</td>\n",
       "    </tr>\n",
       "    <tr>\n",
       "      <th>1</th>\n",
       "      <td>Elvis Mutapcic</td>\n",
       "      <td>Anthony Smith</td>\n",
       "      <td>2016-12-03</td>\n",
       "      <td>MIDDLEWEIGHT</td>\n",
       "      <td>True</td>\n",
       "      <td>KO/TKO</td>\n",
       "      <td>207</td>\n",
       "      <td>2</td>\n",
       "      <td>0</td>\n",
       "      <td>1</td>\n",
       "      <td>...</td>\n",
       "      <td>0</td>\n",
       "      <td>0</td>\n",
       "      <td>1</td>\n",
       "      <td>1</td>\n",
       "      <td>1</td>\n",
       "      <td>0</td>\n",
       "      <td>0</td>\n",
       "      <td>1</td>\n",
       "      <td>1</td>\n",
       "      <td>1</td>\n",
       "    </tr>\n",
       "    <tr>\n",
       "      <th>2</th>\n",
       "      <td>Michael Johnson</td>\n",
       "      <td>Edward Faaloloto</td>\n",
       "      <td>2011-06-26</td>\n",
       "      <td>LIGHTWEIGHT</td>\n",
       "      <td>False</td>\n",
       "      <td>KO/TKO</td>\n",
       "      <td>282</td>\n",
       "      <td>1</td>\n",
       "      <td>1</td>\n",
       "      <td>0</td>\n",
       "      <td>...</td>\n",
       "      <td>0</td>\n",
       "      <td>0</td>\n",
       "      <td>0</td>\n",
       "      <td>0</td>\n",
       "      <td>0</td>\n",
       "      <td>1</td>\n",
       "      <td>0</td>\n",
       "      <td>0</td>\n",
       "      <td>1</td>\n",
       "      <td>0</td>\n",
       "    </tr>\n",
       "    <tr>\n",
       "      <th>3</th>\n",
       "      <td>Polyana Viana</td>\n",
       "      <td>Mallory Martin</td>\n",
       "      <td>2021-02-13</td>\n",
       "      <td>STRAWWEIGHT</td>\n",
       "      <td>False</td>\n",
       "      <td>Submission</td>\n",
       "      <td>198</td>\n",
       "      <td>1</td>\n",
       "      <td>0</td>\n",
       "      <td>0</td>\n",
       "      <td>...</td>\n",
       "      <td>3</td>\n",
       "      <td>1</td>\n",
       "      <td>0</td>\n",
       "      <td>0</td>\n",
       "      <td>0</td>\n",
       "      <td>0</td>\n",
       "      <td>1</td>\n",
       "      <td>2</td>\n",
       "      <td>2</td>\n",
       "      <td>0</td>\n",
       "    </tr>\n",
       "    <tr>\n",
       "      <th>4</th>\n",
       "      <td>Charles Jourdain</td>\n",
       "      <td>Nathaniel Wood</td>\n",
       "      <td>2022-09-03</td>\n",
       "      <td>FEATHERWEIGHT</td>\n",
       "      <td>True</td>\n",
       "      <td>Decision - Unanimous</td>\n",
       "      <td>300</td>\n",
       "      <td>3</td>\n",
       "      <td>0</td>\n",
       "      <td>0</td>\n",
       "      <td>...</td>\n",
       "      <td>1</td>\n",
       "      <td>3</td>\n",
       "      <td>1</td>\n",
       "      <td>3</td>\n",
       "      <td>0</td>\n",
       "      <td>1</td>\n",
       "      <td>1</td>\n",
       "      <td>0</td>\n",
       "      <td>5</td>\n",
       "      <td>1</td>\n",
       "    </tr>\n",
       "  </tbody>\n",
       "</table>\n",
       "<p>5 rows × 84 columns</p>\n",
       "</div>"
      ],
      "text/plain": [
       "              Peleador_A        Peleador_B       DATE       CATEGORY  WINNER  \\\n",
       "0  Olivier Aubin-Mercier         Tony Sims 2015-08-23    LIGHTWEIGHT   False   \n",
       "1         Elvis Mutapcic     Anthony Smith 2016-12-03   MIDDLEWEIGHT    True   \n",
       "2        Michael Johnson  Edward Faaloloto 2011-06-26    LIGHTWEIGHT   False   \n",
       "3          Polyana Viana    Mallory Martin 2021-02-13    STRAWWEIGHT   False   \n",
       "4       Charles Jourdain    Nathaniel Wood 2022-09-03  FEATHERWEIGHT    True   \n",
       "\n",
       "                 METHOD  TIME ROUND  KD_A  KD_B  ...  Victorias_Sub_A  \\\n",
       "0  Decision - Unanimous   300     3     0     0  ...                2   \n",
       "1                KO/TKO   207     2     0     1  ...                0   \n",
       "2                KO/TKO   282     1     1     0  ...                0   \n",
       "3            Submission   198     1     0     0  ...                3   \n",
       "4  Decision - Unanimous   300     3     0     0  ...                1   \n",
       "\n",
       "   Victorias_Sub_B  Victorias_Decision_A  Victorias_Decision_B  Derrotas_KO_A  \\\n",
       "0                0                     1                     0              0   \n",
       "1                0                     1                     1              1   \n",
       "2                0                     0                     0              0   \n",
       "3                1                     0                     0              0   \n",
       "4                3                     1                     3              0   \n",
       "\n",
       "   Derrotas_KO_B  Derrotas_Sub_A  Derrotas_Sub_B  Derrotas_Decision_A  \\\n",
       "0              0               0               0                    1   \n",
       "1              0               0               1                    1   \n",
       "2              1               0               0                    1   \n",
       "3              0               1               2                    2   \n",
       "4              1               1               0                    5   \n",
       "\n",
       "   Derrotas_Decision_B  \n",
       "0                    1  \n",
       "1                    1  \n",
       "2                    0  \n",
       "3                    0  \n",
       "4                    1  \n",
       "\n",
       "[5 rows x 84 columns]"
      ]
     },
     "execution_count": 2,
     "metadata": {},
     "output_type": "execute_result"
    }
   ],
   "source": [
    "#Leo los df divididos en orden cronológico de forma que los resultados sean lo más reales posibles\n",
    "ruta_train =  os.path.join(\"..\",\"..\", \"..\", \"data\", \"P1\",\"train.parquet\")\n",
    "df_train = pd.read_parquet(ruta_train)\n",
    "df_train.head()"
   ]
  },
  {
   "cell_type": "code",
   "execution_count": 3,
   "metadata": {},
   "outputs": [
    {
     "data": {
      "text/html": [
       "<div>\n",
       "<style scoped>\n",
       "    .dataframe tbody tr th:only-of-type {\n",
       "        vertical-align: middle;\n",
       "    }\n",
       "\n",
       "    .dataframe tbody tr th {\n",
       "        vertical-align: top;\n",
       "    }\n",
       "\n",
       "    .dataframe thead th {\n",
       "        text-align: right;\n",
       "    }\n",
       "</style>\n",
       "<table border=\"1\" class=\"dataframe\">\n",
       "  <thead>\n",
       "    <tr style=\"text-align: right;\">\n",
       "      <th></th>\n",
       "      <th>Peleador_A</th>\n",
       "      <th>Peleador_B</th>\n",
       "      <th>DATE</th>\n",
       "      <th>CATEGORY</th>\n",
       "      <th>WINNER</th>\n",
       "      <th>METHOD</th>\n",
       "      <th>TIME</th>\n",
       "      <th>ROUND</th>\n",
       "      <th>KD_A</th>\n",
       "      <th>KD_B</th>\n",
       "      <th>...</th>\n",
       "      <th>Victorias_Sub_A</th>\n",
       "      <th>Victorias_Sub_B</th>\n",
       "      <th>Victorias_Decision_A</th>\n",
       "      <th>Victorias_Decision_B</th>\n",
       "      <th>Derrotas_KO_A</th>\n",
       "      <th>Derrotas_KO_B</th>\n",
       "      <th>Derrotas_Sub_A</th>\n",
       "      <th>Derrotas_Sub_B</th>\n",
       "      <th>Derrotas_Decision_A</th>\n",
       "      <th>Derrotas_Decision_B</th>\n",
       "    </tr>\n",
       "  </thead>\n",
       "  <tbody>\n",
       "    <tr>\n",
       "      <th>0</th>\n",
       "      <td>Steve Garcia</td>\n",
       "      <td>Kyle Nelson</td>\n",
       "      <td>2024-09-14</td>\n",
       "      <td>FEATHERWEIGHT</td>\n",
       "      <td>False</td>\n",
       "      <td>KO/TKO</td>\n",
       "      <td>239</td>\n",
       "      <td>1</td>\n",
       "      <td>0</td>\n",
       "      <td>0</td>\n",
       "      <td>...</td>\n",
       "      <td>0</td>\n",
       "      <td>0</td>\n",
       "      <td>0</td>\n",
       "      <td>3</td>\n",
       "      <td>1</td>\n",
       "      <td>3</td>\n",
       "      <td>0</td>\n",
       "      <td>1</td>\n",
       "      <td>1</td>\n",
       "      <td>1</td>\n",
       "    </tr>\n",
       "    <tr>\n",
       "      <th>1</th>\n",
       "      <td>Mac Danzig</td>\n",
       "      <td>Melvin Guillard</td>\n",
       "      <td>2013-07-27</td>\n",
       "      <td>LIGHTWEIGHT</td>\n",
       "      <td>True</td>\n",
       "      <td>KO/TKO</td>\n",
       "      <td>167</td>\n",
       "      <td>2</td>\n",
       "      <td>0</td>\n",
       "      <td>1</td>\n",
       "      <td>...</td>\n",
       "      <td>2</td>\n",
       "      <td>0</td>\n",
       "      <td>2</td>\n",
       "      <td>4</td>\n",
       "      <td>1</td>\n",
       "      <td>1</td>\n",
       "      <td>2</td>\n",
       "      <td>6</td>\n",
       "      <td>4</td>\n",
       "      <td>1</td>\n",
       "    </tr>\n",
       "    <tr>\n",
       "      <th>2</th>\n",
       "      <td>Darren Elkins</td>\n",
       "      <td>Chas Skelly</td>\n",
       "      <td>2016-03-05</td>\n",
       "      <td>FEATHERWEIGHT</td>\n",
       "      <td>False</td>\n",
       "      <td>Decision - Unanimous</td>\n",
       "      <td>300</td>\n",
       "      <td>3</td>\n",
       "      <td>0</td>\n",
       "      <td>0</td>\n",
       "      <td>...</td>\n",
       "      <td>0</td>\n",
       "      <td>2</td>\n",
       "      <td>8</td>\n",
       "      <td>1</td>\n",
       "      <td>1</td>\n",
       "      <td>0</td>\n",
       "      <td>1</td>\n",
       "      <td>0</td>\n",
       "      <td>2</td>\n",
       "      <td>2</td>\n",
       "    </tr>\n",
       "    <tr>\n",
       "      <th>3</th>\n",
       "      <td>Demian Maia</td>\n",
       "      <td>Rick Story</td>\n",
       "      <td>2012-10-13</td>\n",
       "      <td>WELTERWEIGHT</td>\n",
       "      <td>False</td>\n",
       "      <td>Submission</td>\n",
       "      <td>150</td>\n",
       "      <td>1</td>\n",
       "      <td>0</td>\n",
       "      <td>0</td>\n",
       "      <td>...</td>\n",
       "      <td>6</td>\n",
       "      <td>1</td>\n",
       "      <td>4</td>\n",
       "      <td>5</td>\n",
       "      <td>1</td>\n",
       "      <td>0</td>\n",
       "      <td>0</td>\n",
       "      <td>1</td>\n",
       "      <td>3</td>\n",
       "      <td>3</td>\n",
       "    </tr>\n",
       "    <tr>\n",
       "      <th>4</th>\n",
       "      <td>Nick Ring</td>\n",
       "      <td>James Head</td>\n",
       "      <td>2011-06-11</td>\n",
       "      <td>MIDDLEWEIGHT</td>\n",
       "      <td>False</td>\n",
       "      <td>Submission</td>\n",
       "      <td>213</td>\n",
       "      <td>3</td>\n",
       "      <td>0</td>\n",
       "      <td>1</td>\n",
       "      <td>...</td>\n",
       "      <td>1</td>\n",
       "      <td>0</td>\n",
       "      <td>1</td>\n",
       "      <td>0</td>\n",
       "      <td>0</td>\n",
       "      <td>0</td>\n",
       "      <td>0</td>\n",
       "      <td>1</td>\n",
       "      <td>0</td>\n",
       "      <td>0</td>\n",
       "    </tr>\n",
       "  </tbody>\n",
       "</table>\n",
       "<p>5 rows × 84 columns</p>\n",
       "</div>"
      ],
      "text/plain": [
       "      Peleador_A       Peleador_B       DATE       CATEGORY  WINNER  \\\n",
       "0   Steve Garcia      Kyle Nelson 2024-09-14  FEATHERWEIGHT   False   \n",
       "1     Mac Danzig  Melvin Guillard 2013-07-27    LIGHTWEIGHT    True   \n",
       "2  Darren Elkins      Chas Skelly 2016-03-05  FEATHERWEIGHT   False   \n",
       "3    Demian Maia       Rick Story 2012-10-13   WELTERWEIGHT   False   \n",
       "4      Nick Ring       James Head 2011-06-11   MIDDLEWEIGHT   False   \n",
       "\n",
       "                 METHOD  TIME ROUND  KD_A  KD_B  ...  Victorias_Sub_A  \\\n",
       "0                KO/TKO   239     1     0     0  ...                0   \n",
       "1                KO/TKO   167     2     0     1  ...                2   \n",
       "2  Decision - Unanimous   300     3     0     0  ...                0   \n",
       "3            Submission   150     1     0     0  ...                6   \n",
       "4            Submission   213     3     0     1  ...                1   \n",
       "\n",
       "   Victorias_Sub_B  Victorias_Decision_A  Victorias_Decision_B  Derrotas_KO_A  \\\n",
       "0                0                     0                     3              1   \n",
       "1                0                     2                     4              1   \n",
       "2                2                     8                     1              1   \n",
       "3                1                     4                     5              1   \n",
       "4                0                     1                     0              0   \n",
       "\n",
       "   Derrotas_KO_B  Derrotas_Sub_A  Derrotas_Sub_B  Derrotas_Decision_A  \\\n",
       "0              3               0               1                    1   \n",
       "1              1               2               6                    4   \n",
       "2              0               1               0                    2   \n",
       "3              0               0               1                    3   \n",
       "4              0               0               1                    0   \n",
       "\n",
       "   Derrotas_Decision_B  \n",
       "0                    1  \n",
       "1                    1  \n",
       "2                    2  \n",
       "3                    3  \n",
       "4                    0  \n",
       "\n",
       "[5 rows x 84 columns]"
      ]
     },
     "execution_count": 3,
     "metadata": {},
     "output_type": "execute_result"
    }
   ],
   "source": [
    "ruta_test = os.path.join(\"..\",\"..\", \"..\",\"data\", \"P1\",\"test.parquet\")\n",
    "df_test = pd.read_parquet(ruta_test)\n",
    "df_test.head()"
   ]
  },
  {
   "cell_type": "code",
   "execution_count": 14,
   "metadata": {},
   "outputs": [
    {
     "name": "stdout",
     "output_type": "stream",
     "text": [
      "WINNER\n",
      "False    3444\n",
      "True     2046\n",
      "Name: count, dtype: int64\n",
      "WINNER\n",
      "False    0.627322\n",
      "True     0.372678\n",
      "Name: proportion, dtype: float64\n"
     ]
    }
   ],
   "source": [
    "X_train = df_train.drop(columns=[\"DATE\",\"Peleador_A\",\"Peleador_B\",\"WINNER\",\"CATEGORY\",\"METHOD\",\"ROUND\"])\n",
    "y_train = df_train[\"WINNER\"]\n",
    "print(y_train.value_counts())\n",
    "print(y_train.value_counts(normalize=True))"
   ]
  },
  {
   "cell_type": "code",
   "execution_count": 15,
   "metadata": {},
   "outputs": [
    {
     "name": "stdout",
     "output_type": "stream",
     "text": [
      "WINNER\n",
      "False    1499\n",
      "True      855\n",
      "Name: count, dtype: int64\n",
      "WINNER\n",
      "False    0.636788\n",
      "True     0.363212\n",
      "Name: proportion, dtype: float64\n"
     ]
    }
   ],
   "source": [
    "X_test = df_test.drop(columns=[\"DATE\",\"Peleador_A\",\"Peleador_B\",\"WINNER\",\"CATEGORY\",\"METHOD\",\"ROUND\"])\n",
    "y_test = df_test[\"WINNER\"]\n",
    "print(y_test.value_counts())\n",
    "print(y_test.value_counts(normalize=True))"
   ]
  },
  {
   "cell_type": "markdown",
   "metadata": {},
   "source": [
    "Verificamos que los conjuntos tengan una proporción similar de la variable respuesta. Se ve un desequilibrio en la variable respuesta, debemos tener en cuenta que el peleador A suele ser el favorito."
   ]
  },
  {
   "cell_type": "markdown",
   "metadata": {},
   "source": [
    "### TRANSFORMACIONES"
   ]
  },
  {
   "cell_type": "markdown",
   "metadata": {},
   "source": [
    "Para el modelo XGBoost no es necesario realizar transformaciones previas de las variables, como la normalización o estandarización, ya que al ser un modelo basado en árboles de decisión, no se ve afectado por las diferencias en las escalas de los valores ni por la falta de normalidad en la distribución de las variables. Los árboles utilizan divisiones basadas en umbrales y no dependen de operaciones algebraicas sensibles a las magnitudes de las variables."
   ]
  },
  {
   "cell_type": "markdown",
   "metadata": {},
   "source": [
    "### SELECCIÓN DE VARIABLES"
   ]
  },
  {
   "cell_type": "markdown",
   "metadata": {},
   "source": [
    "El modelo XGBoostClassifier no requiere una selección explícita de variables antes del entrenamiento. Al ser un modelo de ensamble de árboles, cada nodo selecciona automáticamente la variable que proporciona la mayor ganancia de información o reducción de impureza. Las variables irrelevantes tienden a ser ignoradas durante las divisiones, por lo que no contribuyen significativamente al modelo final ni añaden ruido. Además, XGBoost incluye regularización, lo que ayuda a reducir aún más el impacto de características poco informativas.\n",
    "\n",
    "Tan solo eliminamos algunas variables que vimos que tenían una importancia nula o baja para mejorar el coste computacional y variables no útiles que podrían generar problemas."
   ]
  },
  {
   "cell_type": "code",
   "execution_count": 6,
   "metadata": {},
   "outputs": [],
   "source": [
    "X_test = X_test.drop(columns=[\"TITLE_FIGHT\",\"WOMEN\"])\n",
    "X_train = X_train.drop(columns=[\"TITLE_FIGHT\",\"WOMEN\"])"
   ]
  },
  {
   "cell_type": "markdown",
   "metadata": {},
   "source": [
    "### AJUSTE DE HIPERPARÁMETROS"
   ]
  },
  {
   "cell_type": "markdown",
   "metadata": {},
   "source": [
    "Para buscar una configuración óptima de hiperparámetros he utilizado dos estrategias, GridSearchCV y RandomizedSearchCV. \n",
    "\n",
    "En esta estrategia, he definido una cuadrícula (diccionario) con cada hiperparámetro y los posibles valores que pueden tomar. GridSearchCV realiza una búsqueda exhaustiva probando todas las combinaciones posibles de hiperparámetros, evaluando cada modelo mediante validación cruzada. El objetivo es encontrar la combinación que maximice el rendimiento del modelo según el F1-score. Una vez identificado el mejor conjunto de hiperparámetros, procederemos a estudiar el comportamiento del modelo óptimo.\n",
    "\n",
    "A diferencia de GridSearchCV, RandomizedSearchCV también explora combinaciones de hiperparámetros, pero en lugar de probar todas las combinaciones posibles, selecciona un número fijo de combinaciones al azar. Esto permite explorar un espacio más amplio de hiperparámetros con un menor costo computacional. Al igual que en la búsqueda exhaustiva, las combinaciones son evaluadas mediante validación cruzada, y se selecciona el modelo que optimiza el F1-score."
   ]
  },
  {
   "cell_type": "markdown",
   "metadata": {},
   "source": [
    "#### MODELO BASELINE\n",
    "\n",
    "Creo un modelo simple el cual debería conseguir mejorar tras realizar los ajustes de hiperparámetros. Para este modelo usaré los hiperparámetros por defecto de XGBoost, sin tener en cuenta los ligeros desbalances de clases."
   ]
  },
  {
   "cell_type": "code",
   "execution_count": 8,
   "metadata": {},
   "outputs": [
    {
     "data": {
      "text/html": [
       "<style>#sk-container-id-1 {\n",
       "  /* Definition of color scheme common for light and dark mode */\n",
       "  --sklearn-color-text: #000;\n",
       "  --sklearn-color-text-muted: #666;\n",
       "  --sklearn-color-line: gray;\n",
       "  /* Definition of color scheme for unfitted estimators */\n",
       "  --sklearn-color-unfitted-level-0: #fff5e6;\n",
       "  --sklearn-color-unfitted-level-1: #f6e4d2;\n",
       "  --sklearn-color-unfitted-level-2: #ffe0b3;\n",
       "  --sklearn-color-unfitted-level-3: chocolate;\n",
       "  /* Definition of color scheme for fitted estimators */\n",
       "  --sklearn-color-fitted-level-0: #f0f8ff;\n",
       "  --sklearn-color-fitted-level-1: #d4ebff;\n",
       "  --sklearn-color-fitted-level-2: #b3dbfd;\n",
       "  --sklearn-color-fitted-level-3: cornflowerblue;\n",
       "\n",
       "  /* Specific color for light theme */\n",
       "  --sklearn-color-text-on-default-background: var(--sg-text-color, var(--theme-code-foreground, var(--jp-content-font-color1, black)));\n",
       "  --sklearn-color-background: var(--sg-background-color, var(--theme-background, var(--jp-layout-color0, white)));\n",
       "  --sklearn-color-border-box: var(--sg-text-color, var(--theme-code-foreground, var(--jp-content-font-color1, black)));\n",
       "  --sklearn-color-icon: #696969;\n",
       "\n",
       "  @media (prefers-color-scheme: dark) {\n",
       "    /* Redefinition of color scheme for dark theme */\n",
       "    --sklearn-color-text-on-default-background: var(--sg-text-color, var(--theme-code-foreground, var(--jp-content-font-color1, white)));\n",
       "    --sklearn-color-background: var(--sg-background-color, var(--theme-background, var(--jp-layout-color0, #111)));\n",
       "    --sklearn-color-border-box: var(--sg-text-color, var(--theme-code-foreground, var(--jp-content-font-color1, white)));\n",
       "    --sklearn-color-icon: #878787;\n",
       "  }\n",
       "}\n",
       "\n",
       "#sk-container-id-1 {\n",
       "  color: var(--sklearn-color-text);\n",
       "}\n",
       "\n",
       "#sk-container-id-1 pre {\n",
       "  padding: 0;\n",
       "}\n",
       "\n",
       "#sk-container-id-1 input.sk-hidden--visually {\n",
       "  border: 0;\n",
       "  clip: rect(1px 1px 1px 1px);\n",
       "  clip: rect(1px, 1px, 1px, 1px);\n",
       "  height: 1px;\n",
       "  margin: -1px;\n",
       "  overflow: hidden;\n",
       "  padding: 0;\n",
       "  position: absolute;\n",
       "  width: 1px;\n",
       "}\n",
       "\n",
       "#sk-container-id-1 div.sk-dashed-wrapped {\n",
       "  border: 1px dashed var(--sklearn-color-line);\n",
       "  margin: 0 0.4em 0.5em 0.4em;\n",
       "  box-sizing: border-box;\n",
       "  padding-bottom: 0.4em;\n",
       "  background-color: var(--sklearn-color-background);\n",
       "}\n",
       "\n",
       "#sk-container-id-1 div.sk-container {\n",
       "  /* jupyter's `normalize.less` sets `[hidden] { display: none; }`\n",
       "     but bootstrap.min.css set `[hidden] { display: none !important; }`\n",
       "     so we also need the `!important` here to be able to override the\n",
       "     default hidden behavior on the sphinx rendered scikit-learn.org.\n",
       "     See: https://github.com/scikit-learn/scikit-learn/issues/21755 */\n",
       "  display: inline-block !important;\n",
       "  position: relative;\n",
       "}\n",
       "\n",
       "#sk-container-id-1 div.sk-text-repr-fallback {\n",
       "  display: none;\n",
       "}\n",
       "\n",
       "div.sk-parallel-item,\n",
       "div.sk-serial,\n",
       "div.sk-item {\n",
       "  /* draw centered vertical line to link estimators */\n",
       "  background-image: linear-gradient(var(--sklearn-color-text-on-default-background), var(--sklearn-color-text-on-default-background));\n",
       "  background-size: 2px 100%;\n",
       "  background-repeat: no-repeat;\n",
       "  background-position: center center;\n",
       "}\n",
       "\n",
       "/* Parallel-specific style estimator block */\n",
       "\n",
       "#sk-container-id-1 div.sk-parallel-item::after {\n",
       "  content: \"\";\n",
       "  width: 100%;\n",
       "  border-bottom: 2px solid var(--sklearn-color-text-on-default-background);\n",
       "  flex-grow: 1;\n",
       "}\n",
       "\n",
       "#sk-container-id-1 div.sk-parallel {\n",
       "  display: flex;\n",
       "  align-items: stretch;\n",
       "  justify-content: center;\n",
       "  background-color: var(--sklearn-color-background);\n",
       "  position: relative;\n",
       "}\n",
       "\n",
       "#sk-container-id-1 div.sk-parallel-item {\n",
       "  display: flex;\n",
       "  flex-direction: column;\n",
       "}\n",
       "\n",
       "#sk-container-id-1 div.sk-parallel-item:first-child::after {\n",
       "  align-self: flex-end;\n",
       "  width: 50%;\n",
       "}\n",
       "\n",
       "#sk-container-id-1 div.sk-parallel-item:last-child::after {\n",
       "  align-self: flex-start;\n",
       "  width: 50%;\n",
       "}\n",
       "\n",
       "#sk-container-id-1 div.sk-parallel-item:only-child::after {\n",
       "  width: 0;\n",
       "}\n",
       "\n",
       "/* Serial-specific style estimator block */\n",
       "\n",
       "#sk-container-id-1 div.sk-serial {\n",
       "  display: flex;\n",
       "  flex-direction: column;\n",
       "  align-items: center;\n",
       "  background-color: var(--sklearn-color-background);\n",
       "  padding-right: 1em;\n",
       "  padding-left: 1em;\n",
       "}\n",
       "\n",
       "\n",
       "/* Toggleable style: style used for estimator/Pipeline/ColumnTransformer box that is\n",
       "clickable and can be expanded/collapsed.\n",
       "- Pipeline and ColumnTransformer use this feature and define the default style\n",
       "- Estimators will overwrite some part of the style using the `sk-estimator` class\n",
       "*/\n",
       "\n",
       "/* Pipeline and ColumnTransformer style (default) */\n",
       "\n",
       "#sk-container-id-1 div.sk-toggleable {\n",
       "  /* Default theme specific background. It is overwritten whether we have a\n",
       "  specific estimator or a Pipeline/ColumnTransformer */\n",
       "  background-color: var(--sklearn-color-background);\n",
       "}\n",
       "\n",
       "/* Toggleable label */\n",
       "#sk-container-id-1 label.sk-toggleable__label {\n",
       "  cursor: pointer;\n",
       "  display: flex;\n",
       "  width: 100%;\n",
       "  margin-bottom: 0;\n",
       "  padding: 0.5em;\n",
       "  box-sizing: border-box;\n",
       "  text-align: center;\n",
       "  align-items: start;\n",
       "  justify-content: space-between;\n",
       "  gap: 0.5em;\n",
       "}\n",
       "\n",
       "#sk-container-id-1 label.sk-toggleable__label .caption {\n",
       "  font-size: 0.6rem;\n",
       "  font-weight: lighter;\n",
       "  color: var(--sklearn-color-text-muted);\n",
       "}\n",
       "\n",
       "#sk-container-id-1 label.sk-toggleable__label-arrow:before {\n",
       "  /* Arrow on the left of the label */\n",
       "  content: \"▸\";\n",
       "  float: left;\n",
       "  margin-right: 0.25em;\n",
       "  color: var(--sklearn-color-icon);\n",
       "}\n",
       "\n",
       "#sk-container-id-1 label.sk-toggleable__label-arrow:hover:before {\n",
       "  color: var(--sklearn-color-text);\n",
       "}\n",
       "\n",
       "/* Toggleable content - dropdown */\n",
       "\n",
       "#sk-container-id-1 div.sk-toggleable__content {\n",
       "  max-height: 0;\n",
       "  max-width: 0;\n",
       "  overflow: hidden;\n",
       "  text-align: left;\n",
       "  /* unfitted */\n",
       "  background-color: var(--sklearn-color-unfitted-level-0);\n",
       "}\n",
       "\n",
       "#sk-container-id-1 div.sk-toggleable__content.fitted {\n",
       "  /* fitted */\n",
       "  background-color: var(--sklearn-color-fitted-level-0);\n",
       "}\n",
       "\n",
       "#sk-container-id-1 div.sk-toggleable__content pre {\n",
       "  margin: 0.2em;\n",
       "  border-radius: 0.25em;\n",
       "  color: var(--sklearn-color-text);\n",
       "  /* unfitted */\n",
       "  background-color: var(--sklearn-color-unfitted-level-0);\n",
       "}\n",
       "\n",
       "#sk-container-id-1 div.sk-toggleable__content.fitted pre {\n",
       "  /* unfitted */\n",
       "  background-color: var(--sklearn-color-fitted-level-0);\n",
       "}\n",
       "\n",
       "#sk-container-id-1 input.sk-toggleable__control:checked~div.sk-toggleable__content {\n",
       "  /* Expand drop-down */\n",
       "  max-height: 200px;\n",
       "  max-width: 100%;\n",
       "  overflow: auto;\n",
       "}\n",
       "\n",
       "#sk-container-id-1 input.sk-toggleable__control:checked~label.sk-toggleable__label-arrow:before {\n",
       "  content: \"▾\";\n",
       "}\n",
       "\n",
       "/* Pipeline/ColumnTransformer-specific style */\n",
       "\n",
       "#sk-container-id-1 div.sk-label input.sk-toggleable__control:checked~label.sk-toggleable__label {\n",
       "  color: var(--sklearn-color-text);\n",
       "  background-color: var(--sklearn-color-unfitted-level-2);\n",
       "}\n",
       "\n",
       "#sk-container-id-1 div.sk-label.fitted input.sk-toggleable__control:checked~label.sk-toggleable__label {\n",
       "  background-color: var(--sklearn-color-fitted-level-2);\n",
       "}\n",
       "\n",
       "/* Estimator-specific style */\n",
       "\n",
       "/* Colorize estimator box */\n",
       "#sk-container-id-1 div.sk-estimator input.sk-toggleable__control:checked~label.sk-toggleable__label {\n",
       "  /* unfitted */\n",
       "  background-color: var(--sklearn-color-unfitted-level-2);\n",
       "}\n",
       "\n",
       "#sk-container-id-1 div.sk-estimator.fitted input.sk-toggleable__control:checked~label.sk-toggleable__label {\n",
       "  /* fitted */\n",
       "  background-color: var(--sklearn-color-fitted-level-2);\n",
       "}\n",
       "\n",
       "#sk-container-id-1 div.sk-label label.sk-toggleable__label,\n",
       "#sk-container-id-1 div.sk-label label {\n",
       "  /* The background is the default theme color */\n",
       "  color: var(--sklearn-color-text-on-default-background);\n",
       "}\n",
       "\n",
       "/* On hover, darken the color of the background */\n",
       "#sk-container-id-1 div.sk-label:hover label.sk-toggleable__label {\n",
       "  color: var(--sklearn-color-text);\n",
       "  background-color: var(--sklearn-color-unfitted-level-2);\n",
       "}\n",
       "\n",
       "/* Label box, darken color on hover, fitted */\n",
       "#sk-container-id-1 div.sk-label.fitted:hover label.sk-toggleable__label.fitted {\n",
       "  color: var(--sklearn-color-text);\n",
       "  background-color: var(--sklearn-color-fitted-level-2);\n",
       "}\n",
       "\n",
       "/* Estimator label */\n",
       "\n",
       "#sk-container-id-1 div.sk-label label {\n",
       "  font-family: monospace;\n",
       "  font-weight: bold;\n",
       "  display: inline-block;\n",
       "  line-height: 1.2em;\n",
       "}\n",
       "\n",
       "#sk-container-id-1 div.sk-label-container {\n",
       "  text-align: center;\n",
       "}\n",
       "\n",
       "/* Estimator-specific */\n",
       "#sk-container-id-1 div.sk-estimator {\n",
       "  font-family: monospace;\n",
       "  border: 1px dotted var(--sklearn-color-border-box);\n",
       "  border-radius: 0.25em;\n",
       "  box-sizing: border-box;\n",
       "  margin-bottom: 0.5em;\n",
       "  /* unfitted */\n",
       "  background-color: var(--sklearn-color-unfitted-level-0);\n",
       "}\n",
       "\n",
       "#sk-container-id-1 div.sk-estimator.fitted {\n",
       "  /* fitted */\n",
       "  background-color: var(--sklearn-color-fitted-level-0);\n",
       "}\n",
       "\n",
       "/* on hover */\n",
       "#sk-container-id-1 div.sk-estimator:hover {\n",
       "  /* unfitted */\n",
       "  background-color: var(--sklearn-color-unfitted-level-2);\n",
       "}\n",
       "\n",
       "#sk-container-id-1 div.sk-estimator.fitted:hover {\n",
       "  /* fitted */\n",
       "  background-color: var(--sklearn-color-fitted-level-2);\n",
       "}\n",
       "\n",
       "/* Specification for estimator info (e.g. \"i\" and \"?\") */\n",
       "\n",
       "/* Common style for \"i\" and \"?\" */\n",
       "\n",
       ".sk-estimator-doc-link,\n",
       "a:link.sk-estimator-doc-link,\n",
       "a:visited.sk-estimator-doc-link {\n",
       "  float: right;\n",
       "  font-size: smaller;\n",
       "  line-height: 1em;\n",
       "  font-family: monospace;\n",
       "  background-color: var(--sklearn-color-background);\n",
       "  border-radius: 1em;\n",
       "  height: 1em;\n",
       "  width: 1em;\n",
       "  text-decoration: none !important;\n",
       "  margin-left: 0.5em;\n",
       "  text-align: center;\n",
       "  /* unfitted */\n",
       "  border: var(--sklearn-color-unfitted-level-1) 1pt solid;\n",
       "  color: var(--sklearn-color-unfitted-level-1);\n",
       "}\n",
       "\n",
       ".sk-estimator-doc-link.fitted,\n",
       "a:link.sk-estimator-doc-link.fitted,\n",
       "a:visited.sk-estimator-doc-link.fitted {\n",
       "  /* fitted */\n",
       "  border: var(--sklearn-color-fitted-level-1) 1pt solid;\n",
       "  color: var(--sklearn-color-fitted-level-1);\n",
       "}\n",
       "\n",
       "/* On hover */\n",
       "div.sk-estimator:hover .sk-estimator-doc-link:hover,\n",
       ".sk-estimator-doc-link:hover,\n",
       "div.sk-label-container:hover .sk-estimator-doc-link:hover,\n",
       ".sk-estimator-doc-link:hover {\n",
       "  /* unfitted */\n",
       "  background-color: var(--sklearn-color-unfitted-level-3);\n",
       "  color: var(--sklearn-color-background);\n",
       "  text-decoration: none;\n",
       "}\n",
       "\n",
       "div.sk-estimator.fitted:hover .sk-estimator-doc-link.fitted:hover,\n",
       ".sk-estimator-doc-link.fitted:hover,\n",
       "div.sk-label-container:hover .sk-estimator-doc-link.fitted:hover,\n",
       ".sk-estimator-doc-link.fitted:hover {\n",
       "  /* fitted */\n",
       "  background-color: var(--sklearn-color-fitted-level-3);\n",
       "  color: var(--sklearn-color-background);\n",
       "  text-decoration: none;\n",
       "}\n",
       "\n",
       "/* Span, style for the box shown on hovering the info icon */\n",
       ".sk-estimator-doc-link span {\n",
       "  display: none;\n",
       "  z-index: 9999;\n",
       "  position: relative;\n",
       "  font-weight: normal;\n",
       "  right: .2ex;\n",
       "  padding: .5ex;\n",
       "  margin: .5ex;\n",
       "  width: min-content;\n",
       "  min-width: 20ex;\n",
       "  max-width: 50ex;\n",
       "  color: var(--sklearn-color-text);\n",
       "  box-shadow: 2pt 2pt 4pt #999;\n",
       "  /* unfitted */\n",
       "  background: var(--sklearn-color-unfitted-level-0);\n",
       "  border: .5pt solid var(--sklearn-color-unfitted-level-3);\n",
       "}\n",
       "\n",
       ".sk-estimator-doc-link.fitted span {\n",
       "  /* fitted */\n",
       "  background: var(--sklearn-color-fitted-level-0);\n",
       "  border: var(--sklearn-color-fitted-level-3);\n",
       "}\n",
       "\n",
       ".sk-estimator-doc-link:hover span {\n",
       "  display: block;\n",
       "}\n",
       "\n",
       "/* \"?\"-specific style due to the `<a>` HTML tag */\n",
       "\n",
       "#sk-container-id-1 a.estimator_doc_link {\n",
       "  float: right;\n",
       "  font-size: 1rem;\n",
       "  line-height: 1em;\n",
       "  font-family: monospace;\n",
       "  background-color: var(--sklearn-color-background);\n",
       "  border-radius: 1rem;\n",
       "  height: 1rem;\n",
       "  width: 1rem;\n",
       "  text-decoration: none;\n",
       "  /* unfitted */\n",
       "  color: var(--sklearn-color-unfitted-level-1);\n",
       "  border: var(--sklearn-color-unfitted-level-1) 1pt solid;\n",
       "}\n",
       "\n",
       "#sk-container-id-1 a.estimator_doc_link.fitted {\n",
       "  /* fitted */\n",
       "  border: var(--sklearn-color-fitted-level-1) 1pt solid;\n",
       "  color: var(--sklearn-color-fitted-level-1);\n",
       "}\n",
       "\n",
       "/* On hover */\n",
       "#sk-container-id-1 a.estimator_doc_link:hover {\n",
       "  /* unfitted */\n",
       "  background-color: var(--sklearn-color-unfitted-level-3);\n",
       "  color: var(--sklearn-color-background);\n",
       "  text-decoration: none;\n",
       "}\n",
       "\n",
       "#sk-container-id-1 a.estimator_doc_link.fitted:hover {\n",
       "  /* fitted */\n",
       "  background-color: var(--sklearn-color-fitted-level-3);\n",
       "}\n",
       "</style><div id=\"sk-container-id-1\" class=\"sk-top-container\"><div class=\"sk-text-repr-fallback\"><pre>XGBClassifier(base_score=None, booster=None, callbacks=None,\n",
       "              colsample_bylevel=None, colsample_bynode=None,\n",
       "              colsample_bytree=None, device=None, early_stopping_rounds=None,\n",
       "              enable_categorical=False, eval_metric=None, feature_types=None,\n",
       "              gamma=None, grow_policy=None, importance_type=None,\n",
       "              interaction_constraints=None, learning_rate=None, max_bin=None,\n",
       "              max_cat_threshold=None, max_cat_to_onehot=None,\n",
       "              max_delta_step=None, max_depth=None, max_leaves=None,\n",
       "              min_child_weight=None, missing=nan, monotone_constraints=None,\n",
       "              multi_strategy=None, n_estimators=None, n_jobs=None,\n",
       "              num_parallel_tree=None, random_state=42, ...)</pre><b>In a Jupyter environment, please rerun this cell to show the HTML representation or trust the notebook. <br />On GitHub, the HTML representation is unable to render, please try loading this page with nbviewer.org.</b></div><div class=\"sk-container\" hidden><div class=\"sk-item\"><div class=\"sk-estimator fitted sk-toggleable\"><input class=\"sk-toggleable__control sk-hidden--visually\" id=\"sk-estimator-id-1\" type=\"checkbox\" checked><label for=\"sk-estimator-id-1\" class=\"sk-toggleable__label fitted sk-toggleable__label-arrow\"><div><div>XGBClassifier</div></div><div><span class=\"sk-estimator-doc-link fitted\">i<span>Fitted</span></span></div></label><div class=\"sk-toggleable__content fitted\"><pre>XGBClassifier(base_score=None, booster=None, callbacks=None,\n",
       "              colsample_bylevel=None, colsample_bynode=None,\n",
       "              colsample_bytree=None, device=None, early_stopping_rounds=None,\n",
       "              enable_categorical=False, eval_metric=None, feature_types=None,\n",
       "              gamma=None, grow_policy=None, importance_type=None,\n",
       "              interaction_constraints=None, learning_rate=None, max_bin=None,\n",
       "              max_cat_threshold=None, max_cat_to_onehot=None,\n",
       "              max_delta_step=None, max_depth=None, max_leaves=None,\n",
       "              min_child_weight=None, missing=nan, monotone_constraints=None,\n",
       "              multi_strategy=None, n_estimators=None, n_jobs=None,\n",
       "              num_parallel_tree=None, random_state=42, ...)</pre></div> </div></div></div></div>"
      ],
      "text/plain": [
       "XGBClassifier(base_score=None, booster=None, callbacks=None,\n",
       "              colsample_bylevel=None, colsample_bynode=None,\n",
       "              colsample_bytree=None, device=None, early_stopping_rounds=None,\n",
       "              enable_categorical=False, eval_metric=None, feature_types=None,\n",
       "              gamma=None, grow_policy=None, importance_type=None,\n",
       "              interaction_constraints=None, learning_rate=None, max_bin=None,\n",
       "              max_cat_threshold=None, max_cat_to_onehot=None,\n",
       "              max_delta_step=None, max_depth=None, max_leaves=None,\n",
       "              min_child_weight=None, missing=nan, monotone_constraints=None,\n",
       "              multi_strategy=None, n_estimators=None, n_jobs=None,\n",
       "              num_parallel_tree=None, random_state=42, ...)"
      ]
     },
     "execution_count": 8,
     "metadata": {},
     "output_type": "execute_result"
    }
   ],
   "source": [
    "base = XGBClassifier(random_state=42)\n",
    "base.fit(X_train,y_train)"
   ]
  },
  {
   "cell_type": "code",
   "execution_count": 11,
   "metadata": {},
   "outputs": [
    {
     "name": "stdout",
     "output_type": "stream",
     "text": [
      "-- Métricas del modelo con hiperparámetros ajustados --\n",
      "Accuracy: 0.9498725573491928\n",
      "F1-Score: 0.9303\n",
      "AUC-ROC: 0.9896\n",
      "Precisión: 0.9403\n",
      "Sensibilidad: 0.9205\n",
      "Log-loss: 0.13509652714178713\n"
     ]
    }
   ],
   "source": [
    "print(\"-- Métricas del modelo con hiperparámetros ajustados --\")\n",
    "y_val_pred = base.predict(X_test)\n",
    "y_val_prob = base.predict_proba(X_test)[:,1]\n",
    "print(\"Accuracy:\", accuracy_score(y_test, y_val_pred))\n",
    "f1_val = f1_score(y_test, y_val_pred)\n",
    "roc_auc_val = roc_auc_score(y_test, y_val_prob)\n",
    "precision_val = precision_score(y_test, y_val_pred)\n",
    "recall_val = recall_score(y_test, y_val_pred)\n",
    "log_loss_val = log_loss(y_test,y_val_prob)\n",
    "print(f\"F1-Score: {f1_val:.4f}\")\n",
    "print(f\"AUC-ROC: {roc_auc_val:.4f}\")\n",
    "print(f\"Precisión: {precision_val:.4f}\")\n",
    "print(f\"Sensibilidad: {recall_val:.4f}\")\n",
    "print(f\"Log-loss: {log_loss_val}\")"
   ]
  },
  {
   "cell_type": "markdown",
   "metadata": {},
   "source": [
    "Vemos que los resultados sin ajuste de hiperparámetros son buenos, esto nos inidica que los datos son explicativos respecto a la variable respuesta y el modelo elegido funciona correctamente con el problema. Aún así intentaremos mejorar las métricas usando las técnicas de ajuste de hiperparámetros"
   ]
  },
  {
   "cell_type": "code",
   "execution_count": 12,
   "metadata": {},
   "outputs": [
    {
     "data": {
      "image/png": "[encoded data removed]",
      "text/plain": [
       "<Figure size 640x480 with 2 Axes>"
      ]
     },
     "metadata": {},
     "output_type": "display_data"
    }
   ],
   "source": [
    "# Calcular la matriz de confusión\n",
    "cm = confusion_matrix(y_test, y_val_pred)\n",
    "\n",
    "# Visualizar la matriz de confusión\n",
    "sns.heatmap(cm, annot=True, fmt='d', cmap='Blues', xticklabels=['Clase 0', 'Clase 1'], yticklabels=['Clase 0', 'Clase 1'])\n",
    "plt.xlabel('Predicción')\n",
    "plt.ylabel('Real')\n",
    "plt.title('Matriz de Confusión')\n",
    "plt.show()"
   ]
  },
  {
   "cell_type": "markdown",
   "metadata": {},
   "source": [
    "### TRANSFORMACIONES"
   ]
  },
  {
   "cell_type": "markdown",
   "metadata": {},
   "source": [
    "Para el modelo XGBoost no es necesario realizar transformaciones previas de las variables, como la normalización o estandarización, ya que al ser un modelo basado en árboles de decisión, no se ve afectado por las diferencias en las escalas de los valores ni por la falta de normalidad en la distribución de las variables. Los árboles utilizan divisiones basadas en umbrales y no dependen de operaciones algebraicas sensibles a las magnitudes de las variables."
   ]
  },
  {
   "cell_type": "markdown",
   "metadata": {},
   "source": [
    "### SELECCIÓN DE VARIABLES"
   ]
  },
  {
   "cell_type": "markdown",
   "metadata": {},
   "source": [
    "El modelo XGBoostClassifier no requiere una selección explícita de variables antes del entrenamiento. Al ser un modelo de ensamble de árboles, cada nodo selecciona automáticamente la variable que proporciona la mayor ganancia de información o reducción de impureza. Las variables irrelevantes tienden a ser ignoradas durante las divisiones, por lo que no contribuyen significativamente al modelo final ni añaden ruido. Además, XGBoost incluye regularización, lo que ayuda a reducir aún más el impacto de características poco informativas.\n",
    "\n",
    "En nuestro caso eliminamos algunas variables que no aportaban información al modelo para reducir el coste computacional."
   ]
  },
  {
   "cell_type": "markdown",
   "metadata": {},
   "source": [
    "### AJUSTE DE HIPERPARÁMETROS"
   ]
  },
  {
   "cell_type": "markdown",
   "metadata": {},
   "source": [
    "Para buscar una configuración óptima de hiperparámetros he utilizado dos estrategias, GridSearchCV y RandomizedSearchCV. \n",
    "\n",
    "En esta estrategia, he definido una cuadrícula (diccionario) con cada hiperparámetro y los posibles valores que pueden tomar. GridSearchCV realiza una búsqueda exhaustiva probando todas las combinaciones posibles de hiperparámetros, evaluando cada modelo mediante validación cruzada. El objetivo es encontrar la combinación que maximice el rendimiento del modelo según el F1-score. Una vez identificado el mejor conjunto de hiperparámetros, procederemos a estudiar el comportamiento del modelo óptimo.\n",
    "\n",
    "A diferencia de GridSearchCV, RandomizedSearchCV también explora combinaciones de hiperparámetros, pero en lugar de probar todas las combinaciones posibles, selecciona un número fijo de combinaciones al azar. Esto permite explorar un espacio más amplio de hiperparámetros con un menor costo computacional. Al igual que en la búsqueda exhaustiva, las combinaciones son evaluadas mediante validación cruzada, y se selecciona el modelo que optimiza el F1-score."
   ]
  },
  {
   "cell_type": "code",
   "execution_count": null,
   "metadata": {},
   "outputs": [],
   "source": [
    "def train_xgboost_grid(X_train, y_train, X_val, y_val):\n",
    "    # Calcular pesos de clase para manejar desbalance de datos\n",
    "    class_weights = compute_class_weight('balanced', classes=np.unique(y_train), y=y_train)\n",
    "    scale_pos_weight = class_weights[1] / class_weights[0] if len(class_weights) > 1 else 1\n",
    "\n",
    "    # Definir modelo base\n",
    "    xgb = XGBClassifier(random_state=42)\n",
    "\n",
    "    # Cuadrícula de hiperparámetros con y sin ajuste de pesos\n",
    "    param_grid = {\n",
    "    'n_estimators': [100, 300],\n",
    "    'learning_rate': [0.01, 0.05],  \n",
    "    'subsample': [0.7, 1.0],  \n",
    "    'colsample_bytree': [0.5, 0.7, 1.0],  # Añadir 0.5 para más regularización\n",
    "    'gamma': [0, 0.1],  \n",
    "    'min_child_weight': [1, 3],  # Añadir 3 como punto intermedio \n",
    "    'reg_alpha': [0.1, 1.0], \n",
    "    'reg_lambda': [0.1, 1.0], \n",
    "    'scale_pos_weight': [1, scale_pos_weight]  \n",
    "}\n",
    "\n",
    "    f1_scorer = make_scorer(f1_score, average='macro')\n",
    "\n",
    "    # Búsqueda con validación cruzada\n",
    "    grid_search = GridSearchCV(\n",
    "        estimator=xgb,\n",
    "        param_grid=param_grid,\n",
    "        scoring=f1_scorer,  # Optimiza F1-macro\n",
    "        cv=5,\n",
    "        n_jobs=-1,\n",
    "        verbose=2\n",
    "    )\n",
    "\n",
    "    # Entrenar el modelo\n",
    "    grid_search.fit(X_train, y_train)\n",
    "\n",
    "    # Imprimir mejores parámetros\n",
    "    print(\"Mejores parámetros:\", grid_search.best_params_)\n",
    "\n",
    "    # Evaluar el mejor modelo en el conjunto de validación\n",
    "    y_pred = grid_search.best_estimator_.predict(X_val)\n",
    "    print(\"Reporte de clasificación:\")\n",
    "    print(classification_report(y_val, y_pred))\n",
    "\n",
    "    return grid_search.best_estimator_,grid_search.best_params_"
   ]
  },
  {
   "cell_type": "code",
   "execution_count": 24,
   "metadata": {},
   "outputs": [
    {
     "data": {
      "text/plain": [
       "<Experiment: artifact_location='file:///c:\\\\Users\\\\mattu\\\\OneDrive\\\\Documentos\\\\GitHub\\\\c2425-R4\\\\mlruns/103891076235541516', creation_time=1742553912710, experiment_id='103891076235541516', last_update_time=1742553912710, lifecycle_stage='active', name='Modelos datos de pelas con XGBoost', tags={}>"
      ]
     },
     "execution_count": 24,
     "metadata": {},
     "output_type": "execute_result"
    }
   ],
   "source": [
    "mlflow.set_experiment(\"Modelos datos de pelas con XGBoost\")"
   ]
  },
  {
   "cell_type": "code",
   "execution_count": null,
   "metadata": {},
   "outputs": [
    {
     "name": "stdout",
     "output_type": "stream",
     "text": [
      "-- Entrenamiento usando ajuste de hiperparámetros con GridSearchCV --\n",
      "Fitting 5 folds for each of 768 candidates, totalling 3840 fits\n",
      "Mejores parámetros: {'colsample_bytree': 1.0, 'gamma': 0, 'learning_rate': 0.05, 'min_child_weight': 1, 'n_estimators': 300, 'reg_alpha': 1.0, 'reg_lambda': 0.1, 'scale_pos_weight': np.float64(1.683284457478006), 'subsample': 0.7}\n",
      "Reporte de clasificación:\n",
      "              precision    recall  f1-score   support\n",
      "\n",
      "       False       0.96      0.97      0.96      1499\n",
      "        True       0.94      0.93      0.93       855\n",
      "\n",
      "    accuracy                           0.95      2354\n",
      "   macro avg       0.95      0.95      0.95      2354\n",
      "weighted avg       0.95      0.95      0.95      2354\n",
      "\n"
     ]
    }
   ],
   "source": [
    "print(\"-- Entrenamiento usando ajuste de hiperparámetros con GridSearchCV --\")\n",
    "best_grid,best_params = train_xgboost_grid(X_train,y_train,X_test,y_test)"
   ]
  },
  {
   "cell_type": "code",
   "execution_count": null,
   "metadata": {},
   "outputs": [],
   "source": [
    "if mlflow.active_run():\n",
    "    mlflow.end_run()\n",
    "\n",
    "# Iniciar un nuevo experimento\n",
    "with mlflow.start_run(run_name=\"con k=25 y victorias/derrotas fuera de las medias, prueba con min_child_weight alto\"):\n",
    "\n",
    "    # Guardar modelo en MLflow\n",
    "    mlflow.xgboost.log_model(best_grid, \"modelo_xgboost\")\n",
    "    mlflow.log_param(\"mejores_parametros\", best_params)\n",
    "    mlflow.log_metric(\"accuracy\", accuracy_score(y_test, y_val_pred))\n",
    "    mlflow.log_metric(\"f1_macro\", f1_val)\n",
    "\n",
    "    print(\"Modelo guardado en MLflow\")"
   ]
  },
  {
   "cell_type": "code",
   "execution_count": 26,
   "metadata": {},
   "outputs": [
    {
     "name": "stdout",
     "output_type": "stream",
     "text": [
      "-- Métricas del modelo con hiperparámetros ajustados --\n",
      "Accuracy: 0.9528462192013594\n",
      "F1-Score: 0.9348\n",
      "AUC-ROC: 0.9911\n",
      "Precisión: 0.9387\n",
      "Sensibilidad: 0.9310\n",
      "Log-loss: 0.11485742138995579\n"
     ]
    }
   ],
   "source": [
    "print(\"-- Métricas del modelo con hiperparámetros ajustados --\")\n",
    "y_val_pred = best_grid.predict(X_test)\n",
    "y_val_prob = best_grid.predict_proba(X_test)[:,1]\n",
    "print(\"Accuracy:\", accuracy_score(y_test, y_val_pred))\n",
    "f1_val = f1_score(y_test, y_val_pred)\n",
    "roc_auc_val = roc_auc_score(y_test, y_val_prob)\n",
    "precision_val = precision_score(y_test, y_val_pred)\n",
    "recall_val = recall_score(y_test, y_val_pred)\n",
    "log_loss_val = log_loss(y_test,y_val_prob)\n",
    "print(f\"F1-Score: {f1_val:.4f}\")\n",
    "print(f\"AUC-ROC: {roc_auc_val:.4f}\")\n",
    "print(f\"Precisión: {precision_val:.4f}\")\n",
    "print(f\"Sensibilidad: {recall_val:.4f}\")\n",
    "print(f\"Log-loss: {log_loss_val}\")"
   ]
  },
  {
   "cell_type": "markdown",
   "metadata": {},
   "source": [
    "Conseguimos una mejora ligera respecto al modelo base."
   ]
  },
  {
   "cell_type": "code",
   "execution_count": 28,
   "metadata": {},
   "outputs": [
    {
     "data": {
      "image/png": "[encoded data removed]",
      "text/plain": [
       "<Figure size 640x480 with 2 Axes>"
      ]
     },
     "metadata": {},
     "output_type": "display_data"
    }
   ],
   "source": [
    "# Calcular la matriz de confusión\n",
    "cm = confusion_matrix(y_test, y_val_pred)\n",
    "\n",
    "# Visualizar la matriz de confusión\n",
    "sns.heatmap(cm, annot=True, fmt='d', cmap='Blues', xticklabels=['Clase 0', 'Clase 1'], yticklabels=['Clase 0', 'Clase 1'])\n",
    "plt.xlabel('Predicción')\n",
    "plt.ylabel('Real')\n",
    "plt.title('Matriz de Confusión')\n",
    "plt.show()"
   ]
  },
  {
   "cell_type": "code",
   "execution_count": 29,
   "metadata": {},
   "outputs": [
    {
     "name": "stdout",
     "output_type": "stream",
     "text": [
      "           Feature  Importance\n",
      "46    SIG_STR_DIFF    0.090582\n",
      "45         KD_DIFF    0.080617\n",
      "41  STR_GROUND_A_x    0.051246\n",
      "43  STR_GROUND_B_x    0.040553\n",
      "2             KD_B    0.036425\n",
      "..             ...         ...\n",
      "40  STR_CLINCH_B_y    0.003142\n",
      "30     STR_LEG_A_y    0.003097\n",
      "3        SIG_STR_A    0.003050\n",
      "56           WOMEN    0.002987\n",
      "32     STR_LEG_B_y    0.002944\n",
      "\n",
      "[77 rows x 2 columns]\n"
     ]
    }
   ],
   "source": [
    "feature_importance = pd.DataFrame({\n",
    "    'Feature': X_train.columns,\n",
    "    'Importance': best_grid.feature_importances_\n",
    "}).sort_values(by='Importance', ascending=False)\n",
    "print(feature_importance)"
   ]
  },
  {
   "cell_type": "code",
   "execution_count": 30,
   "metadata": {},
   "outputs": [
    {
     "data": {
      "image/png": "[encoded data removed]",
      "text/plain": [
       "<Figure size 1000x1000 with 1 Axes>"
      ]
     },
     "metadata": {},
     "output_type": "display_data"
    }
   ],
   "source": [
    "plt.figure(figsize=(10, 10))\n",
    "plt.barh(feature_importance[\"Feature\"], feature_importance[\"Importance\"], color=\"royalblue\")\n",
    "plt.xlabel(\"Permutation Importance\")\n",
    "plt.title(\"Feature Importance\")\n",
    "plt.yticks(fontsize=5)\n",
    "plt.grid(axis=\"x\", linestyle=\"--\", alpha=0.7)\n",
    "plt.show()"
   ]
  },
  {
   "cell_type": "markdown",
   "metadata": {},
   "source": [
    "Observamos que las variables más importantes son diferencias entre los golpes de los luchadores o diferencia de Knockdowns."
   ]
  },
  {
   "cell_type": "code",
   "execution_count": 31,
   "metadata": {},
   "outputs": [],
   "source": [
    "def train_xgboost_random(X_train, y_train, X_val, y_val):\n",
    "    # Calcular pesos de clase para manejar desbalance de datos\n",
    "    class_weights = compute_class_weight('balanced', classes=np.unique(y_train), y=y_train)\n",
    "    scale_pos_weight = class_weights[1] / class_weights[0] if len(class_weights) > 1 else 1\n",
    "\n",
    "    # Definir modelo base\n",
    "    xgb = XGBClassifier(random_state=42)\n",
    "\n",
    "    # Distribución de hiperparámetros para búsqueda aleatoria\n",
    "    param_dist = {\n",
    "        'n_estimators': np.arange(50, 400, 50),\n",
    "        'max_depth': np.arange(3, 30, 3),\n",
    "        'learning_rate': np.linspace(0.01, 0.2, 10),\n",
    "        'subsample': np.linspace(0.5, 1.0, 6),\n",
    "        'colsample_bytree': np.linspace(0.5, 1.0, 6),\n",
    "        'gamma': np.linspace(0, 0.5, 6),\n",
    "        'min_child_weight': np.arange(1, 10, 2),\n",
    "        'scale_pos_weight': [1, scale_pos_weight]\n",
    "    }\n",
    "\n",
    "    # Definir la métrica de optimización como el F1-score macro\n",
    "    f1_scorer = make_scorer(f1_score, average='macro')\n",
    "    \n",
    "    # Búsqueda con validación cruzada\n",
    "    random_search = RandomizedSearchCV(\n",
    "        estimator=xgb,\n",
    "        param_distributions=param_dist,\n",
    "        scoring=f1_scorer,\n",
    "        n_iter=50,\n",
    "        cv=5,\n",
    "        n_jobs=-1,\n",
    "        verbose=2,\n",
    "        random_state=42\n",
    "    )\n",
    "\n",
    "    # Entrenar el modelo\n",
    "    random_search.fit(X_train, y_train)\n",
    "\n",
    "    # Imprimir mejores parámetros\n",
    "    print(\"Mejores parámetros:\", random_search.best_params_)\n",
    "\n",
    "    # Evaluar el mejor modelo en el conjunto de validación\n",
    "    y_pred = random_search.best_estimator_.predict(X_val)\n",
    "    print(\"Reporte de clasificación:\")\n",
    "    print(classification_report(y_val, y_pred))\n",
    "\n",
    "    return random_search.best_estimator_"
   ]
  },
  {
   "cell_type": "code",
   "execution_count": 32,
   "metadata": {},
   "outputs": [
    {
     "name": "stdout",
     "output_type": "stream",
     "text": [
      "-- Entrenamiento usando ajuste de hiperparámetros con RandomizedSeachCV --\n",
      "Fitting 5 folds for each of 50 candidates, totalling 250 fits\n",
      "Mejores parámetros: {'subsample': np.float64(1.0), 'scale_pos_weight': np.float64(1.683284457478006), 'n_estimators': np.int64(300), 'min_child_weight': np.int64(5), 'max_depth': np.int64(27), 'learning_rate': np.float64(0.1366666666666667), 'gamma': np.float64(0.1), 'colsample_bytree': np.float64(1.0)}\n",
      "Reporte de clasificación:\n",
      "              precision    recall  f1-score   support\n",
      "\n",
      "       False       0.96      0.97      0.96      1499\n",
      "        True       0.94      0.93      0.94       855\n",
      "\n",
      "    accuracy                           0.95      2354\n",
      "   macro avg       0.95      0.95      0.95      2354\n",
      "weighted avg       0.95      0.95      0.95      2354\n",
      "\n"
     ]
    }
   ],
   "source": [
    "print(\"-- Entrenamiento usando ajuste de hiperparámetros con RandomizedSeachCV --\")\n",
    "best_random = train_xgboost_random(X_train,y_train,X_test,y_test)"
   ]
  },
  {
   "cell_type": "code",
   "execution_count": 33,
   "metadata": {},
   "outputs": [
    {
     "name": "stdout",
     "output_type": "stream",
     "text": [
      "-- Métricas del modelo con hiperparámetros ajustados --\n",
      "Accuracy: 0.9541206457094308\n",
      "F1-Score: 0.9365\n",
      "AUC-ROC: 0.9905\n",
      "Precisión: 0.9410\n",
      "Sensibilidad: 0.9322\n",
      "Log-loss: 0.12043501679319482\n"
     ]
    }
   ],
   "source": [
    "print(\"-- Métricas del modelo con hiperparámetros ajustados --\")\n",
    "y_val_pred = best_random.predict(X_test)\n",
    "y_val_prob = best_random.predict_proba(X_test)[:,1]\n",
    "print(\"Accuracy:\", accuracy_score(y_test, y_val_pred))\n",
    "f1_val = f1_score(y_test, y_val_pred)\n",
    "roc_auc_val = roc_auc_score(y_test, y_val_prob)\n",
    "precision_val = precision_score(y_test, y_val_pred)\n",
    "recall_val = recall_score(y_test, y_val_pred)\n",
    "log_loss_val = log_loss(y_test,y_val_prob)\n",
    "\n",
    "print(f\"F1-Score: {f1_val:.4f}\")\n",
    "print(f\"AUC-ROC: {roc_auc_val:.4f}\")\n",
    "print(f\"Precisión: {precision_val:.4f}\")\n",
    "print(f\"Sensibilidad: {recall_val:.4f}\")\n",
    "print(f\"Log-loss: {log_loss_val}\")"
   ]
  },
  {
   "cell_type": "code",
   "execution_count": 35,
   "metadata": {},
   "outputs": [
    {
     "data": {
      "image/png": "[encoded data removed]",
      "text/plain": [
       "<Figure size 640x480 with 2 Axes>"
      ]
     },
     "metadata": {},
     "output_type": "display_data"
    }
   ],
   "source": [
    "# Calcular la matriz de confusión\n",
    "cm = confusion_matrix(y_test, y_val_pred)\n",
    "\n",
    "# Visualizar la matriz de confusión\n",
    "sns.heatmap(cm, annot=True, fmt='d', cmap='Blues', xticklabels=['Clase 0', 'Clase 1'], yticklabels=['Clase 0', 'Clase 1'])\n",
    "plt.xlabel('Predicción')\n",
    "plt.ylabel('Real')\n",
    "plt.title('Matriz de Confusión')\n",
    "plt.show()"
   ]
  },
  {
   "cell_type": "code",
   "execution_count": 36,
   "metadata": {},
   "outputs": [
    {
     "name": "stdout",
     "output_type": "stream",
     "text": [
      "           Feature  Importance\n",
      "46    SIG_STR_DIFF    0.142985\n",
      "45         KD_DIFF    0.094085\n",
      "2             KD_B    0.054070\n",
      "50       CTRL_DIFF    0.040576\n",
      "41  STR_GROUND_A_x    0.037354\n",
      "..             ...         ...\n",
      "25    STR_BODY_A_x    0.002210\n",
      "9            REV_A    0.001461\n",
      "10           REV_B    0.000000\n",
      "55     TITLE_FIGHT    0.000000\n",
      "56           WOMEN    0.000000\n",
      "\n",
      "[77 rows x 2 columns]\n"
     ]
    }
   ],
   "source": [
    "feature_importance = pd.DataFrame({\n",
    "    'Feature': X_train.columns,\n",
    "    'Importance': best_random.feature_importances_\n",
    "}).sort_values(by='Importance', ascending=False)\n",
    "print(feature_importance)"
   ]
  },
  {
   "cell_type": "code",
   "execution_count": 37,
   "metadata": {},
   "outputs": [
    {
     "data": {
      "image/png": "[encoded data removed]",
      "text/plain": [
       "<Figure size 1000x1000 with 1 Axes>"
      ]
     },
     "metadata": {},
     "output_type": "display_data"
    }
   ],
   "source": [
    "plt.figure(figsize=(10, 10))\n",
    "plt.barh(feature_importance[\"Feature\"], feature_importance[\"Importance\"], color=\"royalblue\")\n",
    "plt.xlabel(\"Permutation Importance\")\n",
    "plt.title(\"Feature Importance\")\n",
    "plt.yticks(fontsize=5)\n",
    "plt.grid(axis=\"x\", linestyle=\"--\", alpha=0.7)\n",
    "plt.show()"
   ]
  },
  {
   "cell_type": "markdown",
   "metadata": {},
   "source": [
    "Las importancias son las mismas que en el modelo encontrado con el modelo rejilla pero se concentra más importancia en las diferencias."
   ]
  },
  {
   "cell_type": "markdown",
   "metadata": {},
   "source": [
    "#### CONCLUSIONES"
   ]
  },
  {
   "cell_type": "markdown",
   "metadata": {},
   "source": [
    "En este caso RandomizedSearchCV y GridSearchCV llegaron a los mismos resultados, esto significa que la combinación óptima que encuentra la búsqueda en rejilla también se encuentra aleatoriamente. Tras el ajuste de hiperparámetros hemos conseguido mejorar las métricas del modelo base, las cuales ya eran bastante buenas, lo que nos indica que el ajuste de hiperparámetros ha sido correcto."
   ]
  },
  {
   "cell_type": "markdown",
   "metadata": {},
   "source": [
    "Como conclusión podemos decir que el modelo funciona bastante bien consiguiendo realizar una gran tasa de aciertos, dando mucha impoortancia a variables que creamos manualmente como las diferencias en ciertos aspectos de la pelea. Uno de los puntos fuertes de este modelo es capturar relaciones no lineales, esto puede hacer que las métricas sean mejores ya que tiene en cuenta las relaciones entre variables"
   ]
  }
 ],
 "metadata": {
  "kernelspec": {
   "display_name": ".venv",
   "language": "python",
   "name": "python3"
  },
  "language_info": {
   "codemirror_mode": {
    "name": "ipython",
    "version": 3
   },
   "file_extension": ".py",
   "mimetype": "text/x-python",
   "name": "python",
   "nbconvert_exporter": "python",
   "pygments_lexer": "ipython3",
   "version": "3.13.1"
  }
 },
 "nbformat": 4,
 "nbformat_minor": 2
}
