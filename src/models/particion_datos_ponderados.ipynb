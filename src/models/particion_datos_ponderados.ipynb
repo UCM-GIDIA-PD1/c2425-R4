{
 "cells": [
  {
   "cell_type": "code",
<<<<<<< Updated upstream
   "execution_count": 1,
=======
   "execution_count": 114,
>>>>>>> Stashed changes
   "metadata": {},
   "outputs": [],
   "source": [
    "#Autor: Andrés\n",
    "#Tarea: https://github.com/UCM-GIDIA-PD1/c2425-R4/issues/15\n",
    "#Objetivo: crear particiones de datos para entrener modelos (train, validation, test)\n",
    "#Descripción y uso: en primer lugar lee el data frame de peleas_ponderadas de la carpeta data se dividen el conjuntos\n",
    "#de datos en tres subconjuntos y se guardan en parquets. Para usarlo simplemente ejecutar el archivo.\n",
    "#Estado actual: terminado"
   ]
  },
  {
   "cell_type": "code",
<<<<<<< Updated upstream
   "execution_count": 2,
=======
   "execution_count": 115,
>>>>>>> Stashed changes
   "metadata": {},
   "outputs": [],
   "source": [
    "import pandas as pd\n",
    "import os"
   ]
  },
  {
   "cell_type": "code",
<<<<<<< Updated upstream
   "execution_count": 3,
=======
   "execution_count": 116,
>>>>>>> Stashed changes
   "metadata": {},
   "outputs": [],
   "source": [
    "ruta = os.path.join(os.getcwd(), \"..\", \"..\", \"data\", \"processed\", \"peleas_ponderadas.parquet\")\n",
    "df = pd.read_parquet(ruta)"
   ]
  },
  {
   "cell_type": "code",
<<<<<<< Updated upstream
   "execution_count": 4,
=======
   "execution_count": 117,
>>>>>>> Stashed changes
   "metadata": {},
   "outputs": [
    {
     "name": "stdout",
     "output_type": "stream",
     "text": [
      "Distribución de WINNER por año:\n",
      "WINNER  False  True \n",
      "YEAR                \n",
      "2011       22     23\n",
      "2012       61     41\n",
      "2013       84     46\n",
      "2014       99     61\n",
      "2015      110     89\n",
      "2016      149     99\n",
      "2017      127     99\n",
      "2018      112    120\n",
      "2019      128    103\n",
      "2020      135     83\n",
      "2021      137    135\n",
      "2022      165    131\n",
      "2023      149    126\n",
      "2024      158    141\n",
      "2025       24      9\n"
     ]
    }
   ],
   "source": [
    "df[\"DATE\"] = pd.to_datetime(df[\"DATE\"])\n",
    "\n",
    "# Extraer el año de la fecha\n",
    "df[\"YEAR\"] = df[\"DATE\"].dt.year\n",
    "\n",
    "# Contar la cantidad de veces que aparece cada ganador por año\n",
    "winner_distribution = df.groupby(\"YEAR\")[\"WINNER\"].value_counts().unstack()\n",
    "\n",
    "# Mostrar la distribución\n",
    "print(\"Distribución de WINNER por año:\")\n",
    "print(winner_distribution)"
   ]
  },
  {
   "cell_type": "markdown",
   "metadata": {},
   "source": [
    "Desde el 2010 hacia atrás siempre gana A, quizás esto da probelmas en el modelo"
   ]
  },
  {
   "cell_type": "code",
   "execution_count": 119,
   "metadata": {},
   "outputs": [],
   "source": [
    "df = df[df[\"DATE\"] >= \"2010-01-01\"].reset_index(drop=True)\n"
   ]
  },
  {
   "cell_type": "code",
   "execution_count": 120,
   "metadata": {},
   "outputs": [
    {
     "name": "stdout",
     "output_type": "stream",
     "text": [
      "2966\n"
     ]
    }
   ],
   "source": [
    "print(len(df))"
   ]
  },
  {
   "cell_type": "code",
   "execution_count": 121,
   "metadata": {},
   "outputs": [
    {
     "name": "stdout",
     "output_type": "stream",
     "text": [
      "Última fecha en train: 2022-02-05 00:00:00\n",
      "Última fecha en validation: 2023-07-29 00:00:00\n",
      "Última fecha en test: 2025-02-15 00:00:00\n",
      "Train: 2076, Validation: 444, Test: 446\n"
     ]
    }
   ],
   "source": [
    "import pandas as pd\n",
    "\n",
    "# Ordenar por fecha (si no está ordenado ya)\n",
    "df = df.sort_values(by=\"DATE\")\n",
    "\n",
    "# Definir los tamaños de cada subconjunto\n",
    "train_size = 0.7  # 70%\n",
    "val_size = 0.15    # 15%\n",
    "test_size = 0.15   # 15%\n",
    "\n",
    "# Calcular índices de corte\n",
    "n = len(df)\n",
    "train_end = int(n * train_size)\n",
    "val_end = train_end + int(n * val_size)\n",
    "\n",
    "# Dividir el DataFrame\n",
    "df_train = df.iloc[:train_end]\n",
    "df_val = df.iloc[train_end:val_end]\n",
    "df_test = df.iloc[val_end:]\n",
    "\n",
    "# Obtener las fechas de corte\n",
    "train_end_date = df_train[\"DATE\"].max()\n",
    "val_end_date = df_val[\"DATE\"].max()\n",
    "test_end_date = df_test[\"DATE\"].max()\n",
    "\n",
    "print(f\"Última fecha en train: {train_end_date}\")\n",
    "print(f\"Última fecha en validation: {val_end_date}\")\n",
    "print(f\"Última fecha en test: {test_end_date}\")\n",
    "\n",
    "# Mostrar tamaños\n",
    "print(f\"Train: {len(df_train)}, Validation: {len(df_val)}, Test: {len(df_test)}\")\n"
   ]
  },
  {
   "cell_type": "code",
<<<<<<< Updated upstream
   "execution_count": 5,
=======
   "execution_count": 122,
>>>>>>> Stashed changes
   "metadata": {},
   "outputs": [
    {
     "name": "stdout",
     "output_type": "stream",
     "text": [
      "Entrenamiento: 2076 muestras (70%) | Distribución: {False: 0.57, True: 0.43}\n",
      "Validación: 444 muestras (15%) | Distribución: {False: 0.54, True: 0.46}\n",
      "Prueba: 446 muestras (15%) | Distribución: {False: 0.56, True: 0.44}\n"
     ]
    }
   ],
   "source": [
    "# Verificar tamaños y balance\n",
    "def check_distribution(data, name):\n",
    "    total = len(data)\n",
    "    class_dist = data[\"WINNER\"].value_counts(normalize=True).round(2)\n",
    "    print(f\"{name}: {total} muestras ({total/len(df):.0%}) | Distribución: {class_dist.to_dict()}\")\n",
    "\n",
    "check_distribution(df_train, \"Entrenamiento\")\n",
    "check_distribution(df_val, \"Validación\")\n",
    "check_distribution(df_test, \"Prueba\")"
   ]
  },
  {
   "cell_type": "code",
<<<<<<< Updated upstream
   "execution_count": 6,
=======
   "execution_count": 123,
>>>>>>> Stashed changes
   "metadata": {},
   "outputs": [],
   "source": [
    "base_dir = os.path.join(os.getcwd(), \"..\", \"..\", \"data\")\n",
    "ruta_partition = os.path.join(base_dir, \"P2\")\n",
    "\n",
    "os.makedirs(ruta_partition, exist_ok=True)\n",
    "\n",
    "df_train.to_parquet(os.path.join(ruta_partition, \"train.parquet\"), index = False)\n",
    "df_val.to_parquet(os.path.join(ruta_partition, \"validation.parquet\"), index = False)\n",
    "df_test.to_parquet(os.path.join(ruta_partition, \"test.parquet\"), index = False)"
   ]
  },
  {
   "cell_type": "code",
   "execution_count": 124,
   "metadata": {},
   "outputs": [
    {
     "data": {
      "text/html": [
       "<div>\n",
       "<style scoped>\n",
       "    .dataframe tbody tr th:only-of-type {\n",
       "        vertical-align: middle;\n",
       "    }\n",
       "\n",
       "    .dataframe tbody tr th {\n",
       "        vertical-align: top;\n",
       "    }\n",
       "\n",
       "    .dataframe thead th {\n",
       "        text-align: right;\n",
       "    }\n",
       "</style>\n",
       "<table border=\"1\" class=\"dataframe\">\n",
       "  <thead>\n",
       "    <tr style=\"text-align: right;\">\n",
       "      <th></th>\n",
       "      <th>DATE</th>\n",
       "      <th>Peleador_A</th>\n",
       "      <th>Peleador_B</th>\n",
       "      <th>WINNER</th>\n",
       "      <th>KD_A</th>\n",
       "      <th>KD_B</th>\n",
       "      <th>SIG_STR_A</th>\n",
       "      <th>SIG_STR_B</th>\n",
       "      <th>TD_PORC_A</th>\n",
       "      <th>TD_PORC_B</th>\n",
       "      <th>...</th>\n",
       "      <th>Derrotas_Sub_B</th>\n",
       "      <th>Derrotas_Decision_A</th>\n",
       "      <th>Derrotas_Decision_B</th>\n",
       "      <th>KD_DIFF</th>\n",
       "      <th>SIG_STR_DIFF</th>\n",
       "      <th>TD_DIFF</th>\n",
       "      <th>SUB_ATT_DIFF</th>\n",
       "      <th>REV_DIFF</th>\n",
       "      <th>CTRL_DIFF</th>\n",
       "      <th>YEAR</th>\n",
       "    </tr>\n",
       "  </thead>\n",
       "  <tbody>\n",
       "    <tr>\n",
       "      <th>0</th>\n",
       "      <td>2011-01-22</td>\n",
       "      <td>Melvin Guillard</td>\n",
       "      <td>Evan Dunham</td>\n",
       "      <td>False</td>\n",
       "      <td>0.24</td>\n",
       "      <td>0.00</td>\n",
       "      <td>0.4772</td>\n",
       "      <td>0.3612</td>\n",
       "      <td>0.0000</td>\n",
       "      <td>0.4200</td>\n",
       "      <td>...</td>\n",
       "      <td>0.0</td>\n",
       "      <td>0.0</td>\n",
       "      <td>0.36</td>\n",
       "      <td>0.24</td>\n",
       "      <td>0.1160</td>\n",
       "      <td>-0.475248</td>\n",
       "      <td>-3.16</td>\n",
       "      <td>0.80</td>\n",
       "      <td>-185.76</td>\n",
       "      <td>2011</td>\n",
       "    </tr>\n",
       "    <tr>\n",
       "      <th>1</th>\n",
       "      <td>2011-02-26</td>\n",
       "      <td>George Sotiropoulos</td>\n",
       "      <td>Dennis Siver</td>\n",
       "      <td>True</td>\n",
       "      <td>0.24</td>\n",
       "      <td>0.36</td>\n",
       "      <td>0.2548</td>\n",
       "      <td>0.2912</td>\n",
       "      <td>0.4812</td>\n",
       "      <td>0.1600</td>\n",
       "      <td>...</td>\n",
       "      <td>1.0</td>\n",
       "      <td>0.0</td>\n",
       "      <td>2.00</td>\n",
       "      <td>-0.12</td>\n",
       "      <td>-0.0364</td>\n",
       "      <td>0.081182</td>\n",
       "      <td>1.56</td>\n",
       "      <td>0.00</td>\n",
       "      <td>228.72</td>\n",
       "      <td>2011</td>\n",
       "    </tr>\n",
       "    <tr>\n",
       "      <th>2</th>\n",
       "      <td>2011-03-19</td>\n",
       "      <td>Ricardo Almeida</td>\n",
       "      <td>Mike Pyle</td>\n",
       "      <td>True</td>\n",
       "      <td>0.00</td>\n",
       "      <td>0.24</td>\n",
       "      <td>0.5056</td>\n",
       "      <td>0.5132</td>\n",
       "      <td>0.4500</td>\n",
       "      <td>0.1368</td>\n",
       "      <td>...</td>\n",
       "      <td>1.0</td>\n",
       "      <td>1.0</td>\n",
       "      <td>0.00</td>\n",
       "      <td>-0.24</td>\n",
       "      <td>-0.0076</td>\n",
       "      <td>0.255163</td>\n",
       "      <td>-1.08</td>\n",
       "      <td>-0.24</td>\n",
       "      <td>238.92</td>\n",
       "      <td>2011</td>\n",
       "    </tr>\n",
       "    <tr>\n",
       "      <th>3</th>\n",
       "      <td>2011-03-19</td>\n",
       "      <td>Mirko Filipovic</td>\n",
       "      <td>Brendan Schaub</td>\n",
       "      <td>True</td>\n",
       "      <td>0.24</td>\n",
       "      <td>1.00</td>\n",
       "      <td>0.3820</td>\n",
       "      <td>0.5688</td>\n",
       "      <td>0.0000</td>\n",
       "      <td>0.0000</td>\n",
       "      <td>...</td>\n",
       "      <td>0.0</td>\n",
       "      <td>1.0</td>\n",
       "      <td>0.00</td>\n",
       "      <td>-0.76</td>\n",
       "      <td>-0.1868</td>\n",
       "      <td>0.000000</td>\n",
       "      <td>0.88</td>\n",
       "      <td>0.00</td>\n",
       "      <td>143.08</td>\n",
       "      <td>2011</td>\n",
       "    </tr>\n",
       "    <tr>\n",
       "      <th>4</th>\n",
       "      <td>2011-03-19</td>\n",
       "      <td>Dan Miller</td>\n",
       "      <td>Nate Marquardt</td>\n",
       "      <td>True</td>\n",
       "      <td>0.00</td>\n",
       "      <td>0.00</td>\n",
       "      <td>0.3032</td>\n",
       "      <td>0.3912</td>\n",
       "      <td>0.4600</td>\n",
       "      <td>0.2700</td>\n",
       "      <td>...</td>\n",
       "      <td>0.0</td>\n",
       "      <td>3.0</td>\n",
       "      <td>2.36</td>\n",
       "      <td>0.00</td>\n",
       "      <td>-0.0880</td>\n",
       "      <td>0.093856</td>\n",
       "      <td>-0.92</td>\n",
       "      <td>-0.40</td>\n",
       "      <td>188.52</td>\n",
       "      <td>2011</td>\n",
       "    </tr>\n",
       "  </tbody>\n",
       "</table>\n",
       "<p>5 rows × 79 columns</p>\n",
       "</div>"
      ],
      "text/plain": [
       "        DATE           Peleador_A      Peleador_B  WINNER  KD_A  KD_B  \\\n",
       "0 2011-01-22      Melvin Guillard     Evan Dunham   False  0.24  0.00   \n",
       "1 2011-02-26  George Sotiropoulos    Dennis Siver    True  0.24  0.36   \n",
       "2 2011-03-19      Ricardo Almeida       Mike Pyle    True  0.00  0.24   \n",
       "3 2011-03-19      Mirko Filipovic  Brendan Schaub    True  0.24  1.00   \n",
       "4 2011-03-19           Dan Miller  Nate Marquardt    True  0.00  0.00   \n",
       "\n",
       "   SIG_STR_A  SIG_STR_B  TD_PORC_A  TD_PORC_B  ...  Derrotas_Sub_B  \\\n",
       "0     0.4772     0.3612     0.0000     0.4200  ...             0.0   \n",
       "1     0.2548     0.2912     0.4812     0.1600  ...             1.0   \n",
       "2     0.5056     0.5132     0.4500     0.1368  ...             1.0   \n",
       "3     0.3820     0.5688     0.0000     0.0000  ...             0.0   \n",
       "4     0.3032     0.3912     0.4600     0.2700  ...             0.0   \n",
       "\n",
       "   Derrotas_Decision_A  Derrotas_Decision_B  KD_DIFF  SIG_STR_DIFF   TD_DIFF  \\\n",
       "0                  0.0                 0.36     0.24        0.1160 -0.475248   \n",
       "1                  0.0                 2.00    -0.12       -0.0364  0.081182   \n",
       "2                  1.0                 0.00    -0.24       -0.0076  0.255163   \n",
       "3                  1.0                 0.00    -0.76       -0.1868  0.000000   \n",
       "4                  3.0                 2.36     0.00       -0.0880  0.093856   \n",
       "\n",
       "   SUB_ATT_DIFF  REV_DIFF  CTRL_DIFF  YEAR  \n",
       "0         -3.16      0.80    -185.76  2011  \n",
       "1          1.56      0.00     228.72  2011  \n",
       "2         -1.08     -0.24     238.92  2011  \n",
       "3          0.88      0.00     143.08  2011  \n",
       "4         -0.92     -0.40     188.52  2011  \n",
       "\n",
       "[5 rows x 79 columns]"
      ]
     },
     "execution_count": 124,
     "metadata": {},
     "output_type": "execute_result"
    }
   ],
   "source": [
    "df_train.head()"
   ]
  }
 ],
 "metadata": {
  "kernelspec": {
   "display_name": ".venv",
   "language": "python",
   "name": "python3"
  },
  "language_info": {
   "codemirror_mode": {
    "name": "ipython",
    "version": 3
   },
   "file_extension": ".py",
   "mimetype": "text/x-python",
   "name": "python",
   "nbconvert_exporter": "python",
   "pygments_lexer": "ipython3",
   "version": "3.13.1"
  }
 },
 "nbformat": 4,
 "nbformat_minor": 2
}
