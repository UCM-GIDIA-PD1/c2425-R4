{
 "cells": [
  {
   "cell_type": "code",
   "execution_count": 1,
   "metadata": {},
   "outputs": [],
   "source": [
    "#Autor: Andrés\n",
    "#Tarea: https://github.com/UCM-GIDIA-PD1/c2425-R4/issues/15\n",
    "#Objetivo: crear particiones de datos para entrener modelos (train, validation, test)\n",
    "#Descripción y uso: en primer lugar lee el data frame de peleas_ponderadas de la carpeta data se dividen el conjuntos\n",
    "#de datos en tres subconjuntos y se guardan en parquets. Para usarlo simplemente ejecutar el archivo.\n",
    "#Estado actual: terminado"
   ]
  },
  {
   "cell_type": "code",
   "execution_count": 2,
   "metadata": {},
   "outputs": [],
   "source": [
    "import pandas as pd\n",
    "import os"
   ]
  },
  {
   "cell_type": "code",
   "execution_count": 3,
   "metadata": {},
   "outputs": [],
   "source": [
    "ruta = os.path.join(os.getcwd(), \"..\", \"..\", \"data\", \"processed\", \"peleas_ponderadas.parquet\")\n",
    "df = pd.read_parquet(ruta)"
   ]
  },
  {
   "cell_type": "code",
   "execution_count": 4,
   "metadata": {},
   "outputs": [
    {
     "name": "stdout",
     "output_type": "stream",
     "text": [
      "Última fecha en train: 2021-06-26 00:00:00\n",
      "Última fecha en validation: 2023-04-22 00:00:00\n",
      "Última fecha en test: 2025-02-15 00:00:00\n",
      "Train: 2433, Validation: 521, Test: 522\n"
     ]
    }
   ],
   "source": [
    "import pandas as pd\n",
    "\n",
    "# Ordenar por fecha (si no está ordenado ya)\n",
    "df = df.sort_values(by=\"DATE\")\n",
    "\n",
    "# Definir los tamaños de cada subconjunto\n",
    "train_size = 0.7  # 70%\n",
    "val_size = 0.15    # 15%\n",
    "test_size = 0.15   # 15%\n",
    "\n",
    "# Calcular índices de corte\n",
    "n = len(df)\n",
    "train_end = int(n * train_size)\n",
    "val_end = train_end + int(n * val_size)\n",
    "\n",
    "# Dividir el DataFrame\n",
    "df_train = df.iloc[:train_end]\n",
    "df_val = df.iloc[train_end:val_end]\n",
    "df_test = df.iloc[val_end:]\n",
    "\n",
    "# Obtener las fechas de corte\n",
    "train_end_date = df_train[\"DATE\"].max()\n",
    "val_end_date = df_val[\"DATE\"].max()\n",
    "test_end_date = df_test[\"DATE\"].max()\n",
    "\n",
    "print(f\"Última fecha en train: {train_end_date}\")\n",
    "print(f\"Última fecha en validation: {val_end_date}\")\n",
    "print(f\"Última fecha en test: {test_end_date}\")\n",
    "\n",
    "# Mostrar tamaños\n",
    "print(f\"Train: {len(df_train)}, Validation: {len(df_val)}, Test: {len(df_test)}\")\n"
   ]
  },
  {
   "cell_type": "code",
   "execution_count": 5,
   "metadata": {},
   "outputs": [
    {
     "name": "stdout",
     "output_type": "stream",
     "text": [
      "Entrenamiento: 2433 muestras (70%) | Distribución: {False: 0.62, True: 0.38}\n",
      "Validación: 521 muestras (15%) | Distribución: {False: 0.53, True: 0.47}\n",
      "Prueba: 522 muestras (15%) | Distribución: {False: 0.55, True: 0.45}\n"
     ]
    }
   ],
   "source": [
    "# Verificar tamaños y balance\n",
    "def check_distribution(data, name):\n",
    "    total = len(data)\n",
    "    class_dist = data[\"WINNER\"].value_counts(normalize=True).round(2)\n",
    "    print(f\"{name}: {total} muestras ({total/len(df):.0%}) | Distribución: {class_dist.to_dict()}\")\n",
    "\n",
    "check_distribution(df_train, \"Entrenamiento\")\n",
    "check_distribution(df_val, \"Validación\")\n",
    "check_distribution(df_test, \"Prueba\")"
   ]
  },
  {
   "cell_type": "code",
   "execution_count": 6,
   "metadata": {},
   "outputs": [],
   "source": [
    "base_dir = os.path.join(os.getcwd(), \"..\", \"..\", \"data\")\n",
    "ruta_partition = os.path.join(base_dir, \"P2\")\n",
    "\n",
    "os.makedirs(ruta_partition, exist_ok=True)\n",
    "\n",
    "df_train.to_parquet(os.path.join(ruta_partition, \"train.parquet\"), index = False)\n",
    "df_val.to_parquet(os.path.join(ruta_partition, \"validation.parquet\"), index = False)\n",
    "df_test.to_parquet(os.path.join(ruta_partition, \"test.parquet\"), index = False)"
   ]
  }
 ],
 "metadata": {
  "kernelspec": {
   "display_name": "Python 3",
   "language": "python",
   "name": "python3"
  },
  "language_info": {
   "codemirror_mode": {
    "name": "ipython",
    "version": 3
   },
   "file_extension": ".py",
   "mimetype": "text/x-python",
   "name": "python",
   "nbconvert_exporter": "python",
   "pygments_lexer": "ipython3",
   "version": "3.12.8"
  }
 },
 "nbformat": 4,
 "nbformat_minor": 2
}
