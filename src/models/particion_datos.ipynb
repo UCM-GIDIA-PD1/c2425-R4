{
 "cells": [
  {
   "cell_type": "code",
   "execution_count": null,
   "metadata": {},
   "outputs": [],
   "source": [
    "#Autor: Andrés\n",
    "#Tarea:\n",
    "#Objetivo: crear particiones de datos para entrener modelos (train, validation, test)"
   ]
  },
  {
   "cell_type": "code",
   "execution_count": 30,
   "metadata": {},
   "outputs": [],
   "source": [
    "import pandas as pd\n",
    "import os"
   ]
  },
  {
   "cell_type": "code",
   "execution_count": 31,
   "metadata": {},
   "outputs": [],
   "source": [
    "ruta = os.path.join(os.getcwd(), \"..\", \"..\", \"data\", \"processed\", \"peleas_ponderadas.parquet\")\n",
    "df = pd.read_parquet(ruta)"
   ]
  },
  {
   "cell_type": "code",
   "execution_count": 32,
   "metadata": {},
   "outputs": [
    {
     "name": "stdout",
     "output_type": "stream",
     "text": [
      "Última fecha en train: 2021-06-26 00:00:00\n",
      "Última fecha en validation: 2023-04-22 00:00:00\n",
      "Última fecha en test: 2025-02-15 00:00:00\n",
      "Train: 2433, Validation: 521, Test: 522\n"
     ]
    }
   ],
   "source": [
    "import pandas as pd\n",
    "\n",
    "# Ordenar por fecha (si no está ordenado ya)\n",
    "df = df.sort_values(by=\"DATE\")\n",
    "\n",
    "# Definir los tamaños de cada subconjunto\n",
    "train_size = 0.7  # 70%\n",
    "val_size = 0.15    # 15%\n",
    "test_size = 0.15   # 15%\n",
    "\n",
    "# Calcular índices de corte\n",
    "n = len(df)\n",
    "train_end = int(n * train_size)\n",
    "val_end = train_end + int(n * val_size)\n",
    "\n",
    "# Dividir el DataFrame\n",
    "df_train = df.iloc[:train_end]\n",
    "df_val = df.iloc[train_end:val_end]\n",
    "df_test = df.iloc[val_end:]\n",
    "\n",
    "# Obtener las fechas de corte\n",
    "train_end_date = df_train[\"DATE\"].max()\n",
    "val_end_date = df_val[\"DATE\"].max()\n",
    "test_end_date = df_test[\"DATE\"].max()\n",
    "\n",
    "print(f\"Última fecha en train: {train_end_date}\")\n",
    "print(f\"Última fecha en validation: {val_end_date}\")\n",
    "print(f\"Última fecha en test: {test_end_date}\")\n",
    "\n",
    "# Mostrar tamaños\n",
    "print(f\"Train: {len(df_train)}, Validation: {len(df_val)}, Test: {len(df_test)}\")\n"
   ]
  }
 ],
 "metadata": {
  "kernelspec": {
   "display_name": "Python 3",
   "language": "python",
   "name": "python3"
  },
  "language_info": {
   "codemirror_mode": {
    "name": "ipython",
    "version": 3
   },
   "file_extension": ".py",
   "mimetype": "text/x-python",
   "name": "python",
   "nbconvert_exporter": "python",
   "pygments_lexer": "ipython3",
   "version": "3.12.8"
  }
 },
 "nbformat": 4,
 "nbformat_minor": 2
}
