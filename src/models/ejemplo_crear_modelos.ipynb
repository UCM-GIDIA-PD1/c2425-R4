{
 "cells": [
  {
   "cell_type": "code",
   "execution_count": null,
   "id": "c0d1b5db",
   "metadata": {},
   "outputs": [],
   "source": [
    "#NO ESTA ACABADO\n",
    "\n",
    "#Autor: Andrés\n",
    "#Propósito del código: tener un ejemplo como referencia para crear modelos\n",
    "#Descripción y uso: él código es un ejemplo, para usarlo copiar las celdas en tu \n",
    "#notebook y realizar con cambios necesarios"
   ]
  },
  {
   "cell_type": "markdown",
   "id": "4d69e9e9",
   "metadata": {},
   "source": [
    "\n",
    "# Paso 1: Entrenar el modelo\n",
    "Utiliza el conjunto de entrenamiento para entrenar el modelo.\n",
    "\n",
    "Ajusta los hiperparámetros del modelo (si es necesario) utilizando técnicas como Grid Search o Random Search con el conjunto de validación.\n"
   ]
  },
  {
   "cell_type": "code",
   "execution_count": null,
   "id": "91d34dee",
   "metadata": {},
   "outputs": [],
   "source": [
    "\n",
    "from sklearn.linear_model import LogisticRegression\n",
    "\n",
    "# Entrenar el modelo con el conjunto de entrenamiento\n",
    "model = LogisticRegression()\n",
    "model.fit(X_train, y_train)\n"
   ]
  },
  {
   "cell_type": "markdown",
   "id": "9b14f904",
   "metadata": {},
   "source": [
    "\n",
    "# Paso 2: Ajustar hiperparámetros (opcional)\n",
    "Si necesitas ajustar hiperparámetros, usa el conjunto de validación para evaluar el rendimiento del modelo con diferentes configuraciones.\n"
   ]
  },
  {
   "cell_type": "code",
   "execution_count": null,
   "id": "f33e7ec8",
   "metadata": {},
   "outputs": [],
   "source": [
    "\n",
    "from sklearn.model_selection import GridSearchCV\n",
    "\n",
    "# Definir el espacio de búsqueda de hiperparámetros\n",
    "param_grid = {'C': [0.1, 1, 10], 'penalty': ['l1', 'l2']}\n",
    "\n",
    "# Aplicar GridSearchCV con el conjunto de validación\n",
    "grid_search = GridSearchCV(model, param_grid, cv=5, scoring='f1')\n",
    "grid_search.fit(X_val, y_val)\n",
    "\n",
    "# Mejor modelo encontrado\n",
    "best_model = grid_search.best_estimator_\n"
   ]
  },
  {
   "cell_type": "markdown",
   "id": "f6719734",
   "metadata": {},
   "source": [
    "\n",
    "# Paso 3: Evaluar el modelo en el conjunto de validación\n",
    "Evalúa el rendimiento del modelo (entrenado con el conjunto de entrenamiento) en el conjunto de validación.\n",
    "\n",
    "Usa métricas como F1-Score, AUC-ROC, precisión, sensibilidad, etc.\n"
   ]
  },
  {
   "cell_type": "code",
   "execution_count": null,
   "id": "7f852d6b",
   "metadata": {},
   "outputs": [],
   "source": [
    "\n",
    "from sklearn.metrics import f1_score, roc_auc_score, precision_score, recall_score\n",
    "\n",
    "# Predecir en el conjunto de validación\n",
    "y_val_pred = best_model.predict(X_val)\n",
    "y_val_pred_proba = best_model.predict_proba(X_val)[:, 1]  # Probabilidades para AUC-ROC y Log-Loss\n",
    "\n",
    "# Calcular métricas\n",
    "f1 = f1_score(y_val, y_val_pred)\n",
    "roc_auc = roc_auc_score(y_val, y_val_pred_proba)\n",
    "precision = precision_score(y_val, y_val_pred)\n",
    "recall = recall_score(y_val, y_val_pred)\n",
    "\n",
    "print(f\"F1-Score en validación: {f1:.4f}\")\n",
    "print(f\"AUC-ROC en validación: {roc_auc:.4f}\")\n",
    "print(f\"Precisión en validación: {precision:.4f}\")\n",
    "print(f\"Sensibilidad en validación: {recall:.4f}\")\n"
   ]
  },
  {
   "cell_type": "markdown",
   "id": "3f2905fd",
   "metadata": {},
   "source": [
    "\n",
    "# Paso 4: Entrenar el modelo final\n",
    "Una vez ajustados los hiperparámetros, entrena el modelo final con el conjunto de entrenamiento + validación (si es necesario) para aprovechar al máximo los datos disponibles.\n"
   ]
  },
  {
   "cell_type": "code",
   "execution_count": null,
   "id": "7fad8b74",
   "metadata": {},
   "outputs": [],
   "source": [
    "\n",
    "# Combinar entrenamiento y validación\n",
    "X_train_val = np.concatenate((X_train, X_val), axis=0)\n",
    "y_train_val = np.concatenate((y_train, y_val), axis=0)\n",
    "\n",
    "# Entrenar el modelo final\n",
    "final_model = LogisticRegression(C=best_model.C, penalty=best_model.penalty)\n",
    "final_model.fit(X_train_val, y_train_val)\n"
   ]
  },
  {
   "cell_type": "markdown",
   "id": "99938cbb",
   "metadata": {},
   "source": [
    "\n",
    "# Paso 5: Evaluar el modelo en el conjunto de prueba\n",
    "Finalmente, evalúa el modelo en el conjunto de prueba para obtener una estimación realista de su rendimiento en datos no vistos.\n"
   ]
  },
  {
   "cell_type": "code",
   "execution_count": null,
   "id": "d25353f8",
   "metadata": {},
   "outputs": [],
   "source": [
    "\n",
    "# Predecir en el conjunto de prueba\n",
    "y_test_pred = final_model.predict(X_test)\n",
    "y_test_pred_proba = final_model.predict_proba(X_test)[:, 1]  # Probabilidades para AUC-ROC y Log-Loss\n",
    "\n",
    "# Calcular métricas\n",
    "f1_test = f1_score(y_test, y_test_pred)\n",
    "roc_auc_test = roc_auc_score(y_test, y_test_pred_proba)\n",
    "precision_test = precision_score(y_test, y_test_pred)\n",
    "recall_test = recall_score(y_test, y_test_pred)\n",
    "\n",
    "print(f\"F1-Score en prueba: {f1_test:.4f}\")\n",
    "print(f\"AUC-ROC en prueba: {roc_auc_test:.4f}\")\n",
    "print(f\"Precisión en prueba: {precision_test:.4f}\")\n",
    "print(f\"Sensibilidad en prueba: {recall_test:.4f}\")\n"
   ]
  },
  {
   "cell_type": "markdown",
   "id": "47eb98a0",
   "metadata": {},
   "source": [
    "\n",
    "# Paso 6: Matriz de confusión (opcional)\n",
    "Si deseas analizar los errores del modelo en el conjunto de prueba, puedes generar una matriz de confusión.\n"
   ]
  },
  {
   "cell_type": "code",
   "execution_count": null,
   "id": "9cc10283",
   "metadata": {},
   "outputs": [],
   "source": [
    "\n",
    "from sklearn.metrics import confusion_matrix\n",
    "import seaborn as sns\n",
    "import matplotlib.pyplot as plt\n",
    "\n",
    "# Calcular la matriz de confusión\n",
    "cm = confusion_matrix(y_test, y_test_pred)\n",
    "\n",
    "# Visualizar la matriz de confusión\n",
    "sns.heatmap(cm, annot=True, fmt='d', cmap='Blues', xticklabels=['Clase 0', 'Clase 1'], yticklabels=['Clase 0', 'Clase 1'])\n",
    "plt.xlabel('Predicción')\n",
    "plt.ylabel('Real')\n",
    "plt.title('Matriz de Confusión')\n",
    "plt.show()\n"
   ]
  }
 ],
 "metadata": {
  "language_info": {
   "name": "python"
  }
 },
 "nbformat": 4,
 "nbformat_minor": 5
}
