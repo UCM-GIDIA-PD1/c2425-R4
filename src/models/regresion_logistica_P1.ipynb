{
 "cells": [
  {
   "cell_type": "code",
   "execution_count": null,
   "metadata": {},
   "outputs": [],
   "source": [
    "# Autor: Mario\n",
    "# Propósito del código: Realizar un modelo de regresion logistica\n",
    "# Descripción y uso: \n",
    "# Estado actual: En proceso"
   ]
  },
  {
   "cell_type": "markdown",
   "metadata": {},
   "source": [
    "Importo librerias necesarias"
   ]
  },
  {
   "cell_type": "code",
   "execution_count": 29,
   "metadata": {},
   "outputs": [],
   "source": [
    "import os\n",
    "import numpy as np\n",
    "import pandas as pd\n",
    "from sklearn.model_selection import train_test_split\n",
    "from sklearn.preprocessing import StandardScaler\n",
    "from sklearn.linear_model import LogisticRegression\n",
    "from sklearn.metrics import accuracy_score, confusion_matrix, classification_report"
   ]
  },
  {
   "cell_type": "markdown",
   "metadata": {},
   "source": [
    "Lectura de ficheros"
   ]
  },
  {
   "cell_type": "code",
   "execution_count": 26,
   "metadata": {},
   "outputs": [
    {
     "data": {
      "text/html": [
       "<div>\n",
       "<style scoped>\n",
       "    .dataframe tbody tr th:only-of-type {\n",
       "        vertical-align: middle;\n",
       "    }\n",
       "\n",
       "    .dataframe tbody tr th {\n",
       "        vertical-align: top;\n",
       "    }\n",
       "\n",
       "    .dataframe thead th {\n",
       "        text-align: right;\n",
       "    }\n",
       "</style>\n",
       "<table border=\"1\" class=\"dataframe\">\n",
       "  <thead>\n",
       "    <tr style=\"text-align: right;\">\n",
       "      <th></th>\n",
       "      <th>Peleador_A</th>\n",
       "      <th>Peleador_B</th>\n",
       "      <th>DATE</th>\n",
       "      <th>CATEGORY</th>\n",
       "      <th>WINNER</th>\n",
       "      <th>METHOD</th>\n",
       "      <th>TIME</th>\n",
       "      <th>ROUND</th>\n",
       "      <th>KD_A</th>\n",
       "      <th>KD_B</th>\n",
       "      <th>...</th>\n",
       "      <th>Victorias_Sub_A</th>\n",
       "      <th>Victorias_Sub_B</th>\n",
       "      <th>Victorias_Decision_A</th>\n",
       "      <th>Victorias_Decision_B</th>\n",
       "      <th>Derrotas_KO_A</th>\n",
       "      <th>Derrotas_KO_B</th>\n",
       "      <th>Derrotas_Sub_A</th>\n",
       "      <th>Derrotas_Sub_B</th>\n",
       "      <th>Derrotas_Decision_A</th>\n",
       "      <th>Derrotas_Decision_B</th>\n",
       "    </tr>\n",
       "  </thead>\n",
       "  <tbody>\n",
       "    <tr>\n",
       "      <th>0</th>\n",
       "      <td>Laverne Clark</td>\n",
       "      <td>Frank Caracci</td>\n",
       "      <td>1999-01-08</td>\n",
       "      <td>LIGHTWEIGHT</td>\n",
       "      <td>False</td>\n",
       "      <td>KO/TKO</td>\n",
       "      <td>412</td>\n",
       "      <td>1</td>\n",
       "      <td>0</td>\n",
       "      <td>0</td>\n",
       "      <td>...</td>\n",
       "      <td>0</td>\n",
       "      <td>0</td>\n",
       "      <td>0</td>\n",
       "      <td>0</td>\n",
       "      <td>0</td>\n",
       "      <td>1</td>\n",
       "      <td>0</td>\n",
       "      <td>0</td>\n",
       "      <td>0</td>\n",
       "      <td>0</td>\n",
       "    </tr>\n",
       "    <tr>\n",
       "      <th>1</th>\n",
       "      <td>Mikey Burnett</td>\n",
       "      <td>Townsend Saunders</td>\n",
       "      <td>1999-01-08</td>\n",
       "      <td>LIGHTWEIGHT</td>\n",
       "      <td>False</td>\n",
       "      <td>Decision - Unanimous</td>\n",
       "      <td>180</td>\n",
       "      <td>2</td>\n",
       "      <td>1</td>\n",
       "      <td>0</td>\n",
       "      <td>...</td>\n",
       "      <td>0</td>\n",
       "      <td>0</td>\n",
       "      <td>1</td>\n",
       "      <td>0</td>\n",
       "      <td>0</td>\n",
       "      <td>0</td>\n",
       "      <td>0</td>\n",
       "      <td>0</td>\n",
       "      <td>0</td>\n",
       "      <td>1</td>\n",
       "    </tr>\n",
       "    <tr>\n",
       "      <th>2</th>\n",
       "      <td>Pedro Rizzo</td>\n",
       "      <td>Mark Coleman</td>\n",
       "      <td>1999-01-08</td>\n",
       "      <td>HEAVYWEIGHT</td>\n",
       "      <td>False</td>\n",
       "      <td>Decision - Split</td>\n",
       "      <td>180</td>\n",
       "      <td>2</td>\n",
       "      <td>0</td>\n",
       "      <td>0</td>\n",
       "      <td>...</td>\n",
       "      <td>0</td>\n",
       "      <td>0</td>\n",
       "      <td>1</td>\n",
       "      <td>0</td>\n",
       "      <td>0</td>\n",
       "      <td>0</td>\n",
       "      <td>0</td>\n",
       "      <td>0</td>\n",
       "      <td>0</td>\n",
       "      <td>1</td>\n",
       "    </tr>\n",
       "    <tr>\n",
       "      <th>3</th>\n",
       "      <td>Bas Rutten</td>\n",
       "      <td>Tsuyoshi Kohsaka</td>\n",
       "      <td>1999-01-08</td>\n",
       "      <td>HEAVYWEIGHT</td>\n",
       "      <td>False</td>\n",
       "      <td>KO/TKO</td>\n",
       "      <td>135</td>\n",
       "      <td>2</td>\n",
       "      <td>1</td>\n",
       "      <td>0</td>\n",
       "      <td>...</td>\n",
       "      <td>0</td>\n",
       "      <td>0</td>\n",
       "      <td>0</td>\n",
       "      <td>0</td>\n",
       "      <td>0</td>\n",
       "      <td>1</td>\n",
       "      <td>0</td>\n",
       "      <td>0</td>\n",
       "      <td>0</td>\n",
       "      <td>0</td>\n",
       "    </tr>\n",
       "    <tr>\n",
       "      <th>4</th>\n",
       "      <td>Evan Tanner</td>\n",
       "      <td>Darrel Gholar</td>\n",
       "      <td>1999-01-08</td>\n",
       "      <td>MIDDLEWEIGHT</td>\n",
       "      <td>False</td>\n",
       "      <td>Submission</td>\n",
       "      <td>477</td>\n",
       "      <td>1</td>\n",
       "      <td>0</td>\n",
       "      <td>0</td>\n",
       "      <td>...</td>\n",
       "      <td>1</td>\n",
       "      <td>0</td>\n",
       "      <td>0</td>\n",
       "      <td>0</td>\n",
       "      <td>0</td>\n",
       "      <td>0</td>\n",
       "      <td>0</td>\n",
       "      <td>1</td>\n",
       "      <td>0</td>\n",
       "      <td>0</td>\n",
       "    </tr>\n",
       "  </tbody>\n",
       "</table>\n",
       "<p>5 rows × 84 columns</p>\n",
       "</div>"
      ],
      "text/plain": [
       "      Peleador_A         Peleador_B       DATE      CATEGORY  WINNER  \\\n",
       "0  Laverne Clark      Frank Caracci 1999-01-08   LIGHTWEIGHT   False   \n",
       "1  Mikey Burnett  Townsend Saunders 1999-01-08   LIGHTWEIGHT   False   \n",
       "2    Pedro Rizzo       Mark Coleman 1999-01-08   HEAVYWEIGHT   False   \n",
       "3     Bas Rutten   Tsuyoshi Kohsaka 1999-01-08   HEAVYWEIGHT   False   \n",
       "4    Evan Tanner      Darrel Gholar 1999-01-08  MIDDLEWEIGHT   False   \n",
       "\n",
       "                 METHOD  TIME ROUND  KD_A  KD_B  ...  Victorias_Sub_A  \\\n",
       "0                KO/TKO   412     1     0     0  ...                0   \n",
       "1  Decision - Unanimous   180     2     1     0  ...                0   \n",
       "2      Decision - Split   180     2     0     0  ...                0   \n",
       "3                KO/TKO   135     2     1     0  ...                0   \n",
       "4            Submission   477     1     0     0  ...                1   \n",
       "\n",
       "   Victorias_Sub_B  Victorias_Decision_A  Victorias_Decision_B  Derrotas_KO_A  \\\n",
       "0                0                     0                     0              0   \n",
       "1                0                     1                     0              0   \n",
       "2                0                     1                     0              0   \n",
       "3                0                     0                     0              0   \n",
       "4                0                     0                     0              0   \n",
       "\n",
       "   Derrotas_KO_B  Derrotas_Sub_A  Derrotas_Sub_B  Derrotas_Decision_A  \\\n",
       "0              1               0               0                    0   \n",
       "1              0               0               0                    0   \n",
       "2              0               0               0                    0   \n",
       "3              1               0               0                    0   \n",
       "4              0               0               1                    0   \n",
       "\n",
       "   Derrotas_Decision_B  \n",
       "0                    0  \n",
       "1                    1  \n",
       "2                    1  \n",
       "3                    0  \n",
       "4                    0  \n",
       "\n",
       "[5 rows x 84 columns]"
      ]
     },
     "execution_count": 26,
     "metadata": {},
     "output_type": "execute_result"
    }
   ],
   "source": [
    "ruta = os.path.join(os.getcwd(), \"..\", \"..\", \"data\", \"processed\", \"peleas.parquet\")\n",
    "peleas = pd.read_parquet(ruta)\n",
    "peleas.head(5)"
   ]
  },
  {
   "cell_type": "markdown",
   "metadata": {},
   "source": [
    "Elimino columnas innecesarias"
   ]
  },
  {
   "cell_type": "code",
   "execution_count": 28,
   "metadata": {},
   "outputs": [],
   "source": [
    "peleas = peleas.drop(columns=[\"DATE\",\"CATEGORY\",\"METHOD\",\"Peleador_A\",\"Peleador_B\",'TITLE_FIGHT', 'WOMEN'])"
   ]
  },
  {
   "cell_type": "markdown",
   "metadata": {},
   "source": [
    "Separo en train, validation y test"
   ]
  },
  {
   "cell_type": "code",
   "execution_count": 35,
   "metadata": {},
   "outputs": [],
   "source": [
    "peleas_x=peleas.drop(columns='WINNER')\n",
    "peleas_y=peleas['WINNER']"
   ]
  },
  {
   "cell_type": "code",
   "execution_count": null,
   "metadata": {},
   "outputs": [
    {
     "name": "stdout",
     "output_type": "stream",
     "text": [
      "Train: (5490, 76), Validation: (1177, 76), Test: (1177, 76)\n"
     ]
    }
   ],
   "source": [
    "# Dividir en Train (70%) y Temp (30% = Validation + Test)\n",
    "train_x, temp_x, train_y, temp_y = train_test_split(peleas_x, peleas_y, test_size=0.3, random_state=42)\n",
    "\n",
    "# Dividir Temp en Validation (50%) y Test (50%) → 15% cada uno\n",
    "val_x, test_x, val_y, test_y = train_test_split(temp_x, temp_y, test_size=0.5, random_state=42)\n",
    "\n",
    "print(f\"Train: {train_x.shape}, Validation: {val_x.shape}, Test: {test_x.shape}\")"
   ]
  },
  {
   "cell_type": "markdown",
   "metadata": {},
   "source": [
    "Transformaciones"
   ]
  },
  {
   "cell_type": "code",
   "execution_count": 52,
   "metadata": {},
   "outputs": [],
   "source": [
    "scaler = StandardScaler()\n",
    "train_x = scaler.fit_transform(train_x)\n",
    "val_x = scaler.transform(val_x)\n",
    "test_x = scaler.transform(test_x)"
   ]
  },
  {
   "cell_type": "markdown",
   "metadata": {},
   "source": [
    "Modelo"
   ]
  },
  {
   "cell_type": "code",
   "execution_count": 56,
   "metadata": {},
   "outputs": [
    {
     "name": "stdout",
     "output_type": "stream",
     "text": [
      "Precisión en Validación: 0.94\n"
     ]
    }
   ],
   "source": [
    "# Crear modelo de Regresión Logística\n",
    "modelo = LogisticRegression()\n",
    "\n",
    "# Entrenar con los datos de entrenamiento\n",
    "modelo.fit(train_x, train_y)\n",
    "\n",
    "# Validar con el conjunto de validación\n",
    "prediccion = modelo.predict(val_x)\n",
    "val_accuracy = accuracy_score(val_y, prediccion)\n",
    "print(f\"Precisión en Validación: {val_accuracy:.2f}\")"
   ]
  }
 ],
 "metadata": {
  "kernelspec": {
   "display_name": ".venv",
   "language": "python",
   "name": "python3"
  },
  "language_info": {
   "codemirror_mode": {
    "name": "ipython",
    "version": 3
   },
   "file_extension": ".py",
   "mimetype": "text/x-python",
   "name": "python",
   "nbconvert_exporter": "python",
   "pygments_lexer": "ipython3",
   "version": "3.13.1"
  }
 },
 "nbformat": 4,
 "nbformat_minor": 2
}
