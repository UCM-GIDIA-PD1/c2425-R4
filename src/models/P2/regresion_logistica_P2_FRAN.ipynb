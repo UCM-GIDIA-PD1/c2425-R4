{
 "cells": [
  {
   "cell_type": "markdown",
   "metadata": {},
   "source": [
    "- **Tarea del backlog:** https://github.com/UCM-GIDIA-PD1/c2425-R4/issues/26.\n",
    "- **Propósito del código:** Transformaciones y primer modelo regresión logística.  \n",
    "- **Autor(es):** Francisco Pastor.  \n",
    "- **Descripción y uso:** Ejecutar para ver resultado de modelo regresión logística en P2.\n",
    "- **Estado actual:** En revisión.\n"
   ]
  },
  {
   "cell_type": "markdown",
   "metadata": {},
   "source": [
    "# REGRESIÓN LOGÍSTICA"
   ]
  },
  {
   "cell_type": "code",
   "execution_count": 2,
   "metadata": {},
   "outputs": [],
   "source": [
    "import pandas as pd\n",
    "from sklearn.preprocessing import RobustScaler\n",
    "from sklearn.linear_model import LogisticRegression\n",
    "from sklearn.feature_selection import RFECV\n",
    "import matplotlib.pyplot as plt\n",
    "import os\n",
    "from sklearn.model_selection import TimeSeriesSplit\n",
    "from sklearn.pipeline import Pipeline\n",
    "from sklearn.model_selection import GridSearchCV\n",
    "from sklearn.metrics import ConfusionMatrixDisplay"
   ]
  },
  {
   "cell_type": "code",
   "execution_count": 3,
   "metadata": {},
   "outputs": [
    {
     "data": {
      "text/html": [
       "<div>\n",
       "<style scoped>\n",
       "    .dataframe tbody tr th:only-of-type {\n",
       "        vertical-align: middle;\n",
       "    }\n",
       "\n",
       "    .dataframe tbody tr th {\n",
       "        vertical-align: top;\n",
       "    }\n",
       "\n",
       "    .dataframe thead th {\n",
       "        text-align: right;\n",
       "    }\n",
       "</style>\n",
       "<table border=\"1\" class=\"dataframe\">\n",
       "  <thead>\n",
       "    <tr style=\"text-align: right;\">\n",
       "      <th></th>\n",
       "      <th>DATE</th>\n",
       "      <th>Peleador_A</th>\n",
       "      <th>Peleador_B</th>\n",
       "      <th>WINNER</th>\n",
       "      <th>KD_A</th>\n",
       "      <th>KD_B</th>\n",
       "      <th>SIG_STR_A</th>\n",
       "      <th>SIG_STR_B</th>\n",
       "      <th>TD_PORC_A</th>\n",
       "      <th>TD_PORC_B</th>\n",
       "      <th>...</th>\n",
       "      <th>Derrotas_Sub_A</th>\n",
       "      <th>Derrotas_Sub_B</th>\n",
       "      <th>Derrotas_Decision_A</th>\n",
       "      <th>Derrotas_Decision_B</th>\n",
       "      <th>KD_DIFF</th>\n",
       "      <th>SIG_STR_DIFF</th>\n",
       "      <th>TD_DIFF</th>\n",
       "      <th>SUB_ATT_DIFF</th>\n",
       "      <th>REV_DIFF</th>\n",
       "      <th>CTRL_DIFF</th>\n",
       "    </tr>\n",
       "  </thead>\n",
       "  <tbody>\n",
       "    <tr>\n",
       "      <th>0</th>\n",
       "      <td>2000-06-09</td>\n",
       "      <td>Kevin Randleman</td>\n",
       "      <td>Pedro Rizzo</td>\n",
       "      <td>False</td>\n",
       "      <td>0.0</td>\n",
       "      <td>0.8</td>\n",
       "      <td>0.279</td>\n",
       "      <td>0.315</td>\n",
       "      <td>0.770</td>\n",
       "      <td>0.000</td>\n",
       "      <td>...</td>\n",
       "      <td>0.0</td>\n",
       "      <td>0.0</td>\n",
       "      <td>0.8</td>\n",
       "      <td>0.0</td>\n",
       "      <td>-0.8</td>\n",
       "      <td>-0.036</td>\n",
       "      <td>0.615385</td>\n",
       "      <td>1.0</td>\n",
       "      <td>0.0</td>\n",
       "      <td>526.0</td>\n",
       "    </tr>\n",
       "    <tr>\n",
       "      <th>1</th>\n",
       "      <td>2000-09-22</td>\n",
       "      <td>Jeremy Horn</td>\n",
       "      <td>Eugene Jackson</td>\n",
       "      <td>False</td>\n",
       "      <td>0.0</td>\n",
       "      <td>0.5</td>\n",
       "      <td>0.696</td>\n",
       "      <td>0.550</td>\n",
       "      <td>0.084</td>\n",
       "      <td>0.000</td>\n",
       "      <td>...</td>\n",
       "      <td>0.0</td>\n",
       "      <td>0.5</td>\n",
       "      <td>0.0</td>\n",
       "      <td>0.0</td>\n",
       "      <td>-0.5</td>\n",
       "      <td>0.146</td>\n",
       "      <td>0.250000</td>\n",
       "      <td>0.4</td>\n",
       "      <td>0.0</td>\n",
       "      <td>3.3</td>\n",
       "    </tr>\n",
       "    <tr>\n",
       "      <th>2</th>\n",
       "      <td>2001-02-23</td>\n",
       "      <td>Tito Ortiz</td>\n",
       "      <td>Evan Tanner</td>\n",
       "      <td>False</td>\n",
       "      <td>0.3</td>\n",
       "      <td>0.0</td>\n",
       "      <td>0.552</td>\n",
       "      <td>0.741</td>\n",
       "      <td>0.874</td>\n",
       "      <td>1.000</td>\n",
       "      <td>...</td>\n",
       "      <td>0.0</td>\n",
       "      <td>0.0</td>\n",
       "      <td>0.0</td>\n",
       "      <td>0.0</td>\n",
       "      <td>0.3</td>\n",
       "      <td>-0.189</td>\n",
       "      <td>0.178571</td>\n",
       "      <td>-0.1</td>\n",
       "      <td>0.0</td>\n",
       "      <td>458.1</td>\n",
       "    </tr>\n",
       "    <tr>\n",
       "      <th>3</th>\n",
       "      <td>2001-05-04</td>\n",
       "      <td>Chuck Liddell</td>\n",
       "      <td>Kevin Randleman</td>\n",
       "      <td>False</td>\n",
       "      <td>0.0</td>\n",
       "      <td>0.0</td>\n",
       "      <td>0.508</td>\n",
       "      <td>0.532</td>\n",
       "      <td>0.000</td>\n",
       "      <td>0.758</td>\n",
       "      <td>...</td>\n",
       "      <td>1.0</td>\n",
       "      <td>0.0</td>\n",
       "      <td>0.0</td>\n",
       "      <td>1.0</td>\n",
       "      <td>0.0</td>\n",
       "      <td>-0.024</td>\n",
       "      <td>-0.518519</td>\n",
       "      <td>-1.5</td>\n",
       "      <td>0.2</td>\n",
       "      <td>-455.0</td>\n",
       "    </tr>\n",
       "    <tr>\n",
       "      <th>4</th>\n",
       "      <td>2001-06-29</td>\n",
       "      <td>Pat Miletich</td>\n",
       "      <td>Shonie Carter</td>\n",
       "      <td>False</td>\n",
       "      <td>0.0</td>\n",
       "      <td>1.0</td>\n",
       "      <td>0.451</td>\n",
       "      <td>0.521</td>\n",
       "      <td>0.500</td>\n",
       "      <td>0.646</td>\n",
       "      <td>...</td>\n",
       "      <td>0.5</td>\n",
       "      <td>0.0</td>\n",
       "      <td>0.0</td>\n",
       "      <td>0.0</td>\n",
       "      <td>-1.0</td>\n",
       "      <td>-0.070</td>\n",
       "      <td>0.037945</td>\n",
       "      <td>0.8</td>\n",
       "      <td>-1.2</td>\n",
       "      <td>-137.3</td>\n",
       "    </tr>\n",
       "  </tbody>\n",
       "</table>\n",
       "<p>5 rows × 78 columns</p>\n",
       "</div>"
      ],
      "text/plain": [
       "        DATE       Peleador_A       Peleador_B  WINNER  KD_A  KD_B  SIG_STR_A  \\\n",
       "0 2000-06-09  Kevin Randleman      Pedro Rizzo   False   0.0   0.8      0.279   \n",
       "1 2000-09-22      Jeremy Horn   Eugene Jackson   False   0.0   0.5      0.696   \n",
       "2 2001-02-23       Tito Ortiz      Evan Tanner   False   0.3   0.0      0.552   \n",
       "3 2001-05-04    Chuck Liddell  Kevin Randleman   False   0.0   0.0      0.508   \n",
       "4 2001-06-29     Pat Miletich    Shonie Carter   False   0.0   1.0      0.451   \n",
       "\n",
       "   SIG_STR_B  TD_PORC_A  TD_PORC_B  ...  Derrotas_Sub_A  Derrotas_Sub_B  \\\n",
       "0      0.315      0.770      0.000  ...             0.0             0.0   \n",
       "1      0.550      0.084      0.000  ...             0.0             0.5   \n",
       "2      0.741      0.874      1.000  ...             0.0             0.0   \n",
       "3      0.532      0.000      0.758  ...             1.0             0.0   \n",
       "4      0.521      0.500      0.646  ...             0.5             0.0   \n",
       "\n",
       "   Derrotas_Decision_A  Derrotas_Decision_B  KD_DIFF  SIG_STR_DIFF   TD_DIFF  \\\n",
       "0                  0.8                  0.0     -0.8        -0.036  0.615385   \n",
       "1                  0.0                  0.0     -0.5         0.146  0.250000   \n",
       "2                  0.0                  0.0      0.3        -0.189  0.178571   \n",
       "3                  0.0                  1.0      0.0        -0.024 -0.518519   \n",
       "4                  0.0                  0.0     -1.0        -0.070  0.037945   \n",
       "\n",
       "   SUB_ATT_DIFF  REV_DIFF  CTRL_DIFF  \n",
       "0           1.0       0.0      526.0  \n",
       "1           0.4       0.0        3.3  \n",
       "2          -0.1       0.0      458.1  \n",
       "3          -1.5       0.2     -455.0  \n",
       "4           0.8      -1.2     -137.3  \n",
       "\n",
       "[5 rows x 78 columns]"
      ]
     },
     "execution_count": 3,
     "metadata": {},
     "output_type": "execute_result"
    }
   ],
   "source": [
    "#Leo los df divididos en orden cronológico de forma que los resultados sean lo más reales posibles\n",
    "ruta_train =  os.path.join(\"..\",\"..\", \"data\", \"processed\",\"train.parquet\")\n",
    "df_train= pd.read_parquet(ruta_train)\n",
    "df_train.head()"
   ]
  },
  {
   "cell_type": "code",
   "execution_count": 4,
   "metadata": {},
   "outputs": [
    {
     "data": {
      "text/html": [
       "<div>\n",
       "<style scoped>\n",
       "    .dataframe tbody tr th:only-of-type {\n",
       "        vertical-align: middle;\n",
       "    }\n",
       "\n",
       "    .dataframe tbody tr th {\n",
       "        vertical-align: top;\n",
       "    }\n",
       "\n",
       "    .dataframe thead th {\n",
       "        text-align: right;\n",
       "    }\n",
       "</style>\n",
       "<table border=\"1\" class=\"dataframe\">\n",
       "  <thead>\n",
       "    <tr style=\"text-align: right;\">\n",
       "      <th></th>\n",
       "      <th>DATE</th>\n",
       "      <th>Peleador_A</th>\n",
       "      <th>Peleador_B</th>\n",
       "      <th>WINNER</th>\n",
       "      <th>KD_A</th>\n",
       "      <th>KD_B</th>\n",
       "      <th>SIG_STR_A</th>\n",
       "      <th>SIG_STR_B</th>\n",
       "      <th>TD_PORC_A</th>\n",
       "      <th>TD_PORC_B</th>\n",
       "      <th>...</th>\n",
       "      <th>Derrotas_Sub_A</th>\n",
       "      <th>Derrotas_Sub_B</th>\n",
       "      <th>Derrotas_Decision_A</th>\n",
       "      <th>Derrotas_Decision_B</th>\n",
       "      <th>KD_DIFF</th>\n",
       "      <th>SIG_STR_DIFF</th>\n",
       "      <th>TD_DIFF</th>\n",
       "      <th>SUB_ATT_DIFF</th>\n",
       "      <th>REV_DIFF</th>\n",
       "      <th>CTRL_DIFF</th>\n",
       "    </tr>\n",
       "  </thead>\n",
       "  <tbody>\n",
       "    <tr>\n",
       "      <th>0</th>\n",
       "      <td>2023-04-22</td>\n",
       "      <td>Rani Yahya</td>\n",
       "      <td>Montel Jackson</td>\n",
       "      <td>True</td>\n",
       "      <td>0.0</td>\n",
       "      <td>2.1</td>\n",
       "      <td>0.569</td>\n",
       "      <td>0.513</td>\n",
       "      <td>0.415</td>\n",
       "      <td>0.240</td>\n",
       "      <td>...</td>\n",
       "      <td>0.0</td>\n",
       "      <td>0.0</td>\n",
       "      <td>5.0</td>\n",
       "      <td>2.0</td>\n",
       "      <td>-2.1</td>\n",
       "      <td>0.056</td>\n",
       "      <td>0.047222</td>\n",
       "      <td>0.5</td>\n",
       "      <td>0.7</td>\n",
       "      <td>140.0</td>\n",
       "    </tr>\n",
       "    <tr>\n",
       "      <th>1</th>\n",
       "      <td>2023-04-22</td>\n",
       "      <td>Jeremiah Wells</td>\n",
       "      <td>Matthew Semelsberger</td>\n",
       "      <td>False</td>\n",
       "      <td>0.7</td>\n",
       "      <td>1.8</td>\n",
       "      <td>0.529</td>\n",
       "      <td>0.382</td>\n",
       "      <td>0.060</td>\n",
       "      <td>0.800</td>\n",
       "      <td>...</td>\n",
       "      <td>0.0</td>\n",
       "      <td>0.0</td>\n",
       "      <td>0.0</td>\n",
       "      <td>1.8</td>\n",
       "      <td>-1.1</td>\n",
       "      <td>0.147</td>\n",
       "      <td>-0.403226</td>\n",
       "      <td>0.3</td>\n",
       "      <td>0.0</td>\n",
       "      <td>-111.5</td>\n",
       "    </tr>\n",
       "    <tr>\n",
       "      <th>2</th>\n",
       "      <td>2023-04-29</td>\n",
       "      <td>Caio Borralho</td>\n",
       "      <td>Michal Oleksiejczuk</td>\n",
       "      <td>False</td>\n",
       "      <td>0.0</td>\n",
       "      <td>0.6</td>\n",
       "      <td>0.565</td>\n",
       "      <td>0.510</td>\n",
       "      <td>0.690</td>\n",
       "      <td>0.100</td>\n",
       "      <td>...</td>\n",
       "      <td>0.0</td>\n",
       "      <td>2.0</td>\n",
       "      <td>0.0</td>\n",
       "      <td>1.0</td>\n",
       "      <td>-0.6</td>\n",
       "      <td>0.055</td>\n",
       "      <td>0.370656</td>\n",
       "      <td>1.0</td>\n",
       "      <td>1.2</td>\n",
       "      <td>414.4</td>\n",
       "    </tr>\n",
       "    <tr>\n",
       "      <th>3</th>\n",
       "      <td>2023-04-29</td>\n",
       "      <td>Song Yadong</td>\n",
       "      <td>Ricky Simon</td>\n",
       "      <td>False</td>\n",
       "      <td>0.5</td>\n",
       "      <td>0.8</td>\n",
       "      <td>0.379</td>\n",
       "      <td>0.595</td>\n",
       "      <td>0.500</td>\n",
       "      <td>0.407</td>\n",
       "      <td>...</td>\n",
       "      <td>0.0</td>\n",
       "      <td>0.0</td>\n",
       "      <td>1.0</td>\n",
       "      <td>1.0</td>\n",
       "      <td>-0.3</td>\n",
       "      <td>-0.216</td>\n",
       "      <td>0.150000</td>\n",
       "      <td>-0.7</td>\n",
       "      <td>0.0</td>\n",
       "      <td>-244.9</td>\n",
       "    </tr>\n",
       "    <tr>\n",
       "      <th>4</th>\n",
       "      <td>2023-04-29</td>\n",
       "      <td>Rodolfo Vieira</td>\n",
       "      <td>Cody Brundage</td>\n",
       "      <td>False</td>\n",
       "      <td>0.0</td>\n",
       "      <td>0.3</td>\n",
       "      <td>0.528</td>\n",
       "      <td>0.214</td>\n",
       "      <td>0.305</td>\n",
       "      <td>0.700</td>\n",
       "      <td>...</td>\n",
       "      <td>1.0</td>\n",
       "      <td>0.0</td>\n",
       "      <td>0.5</td>\n",
       "      <td>1.0</td>\n",
       "      <td>-0.3</td>\n",
       "      <td>0.314</td>\n",
       "      <td>-0.393102</td>\n",
       "      <td>0.1</td>\n",
       "      <td>0.0</td>\n",
       "      <td>62.6</td>\n",
       "    </tr>\n",
       "  </tbody>\n",
       "</table>\n",
       "<p>5 rows × 78 columns</p>\n",
       "</div>"
      ],
      "text/plain": [
       "        DATE      Peleador_A            Peleador_B  WINNER  KD_A  KD_B  \\\n",
       "0 2023-04-22      Rani Yahya        Montel Jackson    True   0.0   2.1   \n",
       "1 2023-04-22  Jeremiah Wells  Matthew Semelsberger   False   0.7   1.8   \n",
       "2 2023-04-29   Caio Borralho   Michal Oleksiejczuk   False   0.0   0.6   \n",
       "3 2023-04-29     Song Yadong           Ricky Simon   False   0.5   0.8   \n",
       "4 2023-04-29  Rodolfo Vieira         Cody Brundage   False   0.0   0.3   \n",
       "\n",
       "   SIG_STR_A  SIG_STR_B  TD_PORC_A  TD_PORC_B  ...  Derrotas_Sub_A  \\\n",
       "0      0.569      0.513      0.415      0.240  ...             0.0   \n",
       "1      0.529      0.382      0.060      0.800  ...             0.0   \n",
       "2      0.565      0.510      0.690      0.100  ...             0.0   \n",
       "3      0.379      0.595      0.500      0.407  ...             0.0   \n",
       "4      0.528      0.214      0.305      0.700  ...             1.0   \n",
       "\n",
       "   Derrotas_Sub_B  Derrotas_Decision_A  Derrotas_Decision_B  KD_DIFF  \\\n",
       "0             0.0                  5.0                  2.0     -2.1   \n",
       "1             0.0                  0.0                  1.8     -1.1   \n",
       "2             2.0                  0.0                  1.0     -0.6   \n",
       "3             0.0                  1.0                  1.0     -0.3   \n",
       "4             0.0                  0.5                  1.0     -0.3   \n",
       "\n",
       "   SIG_STR_DIFF   TD_DIFF  SUB_ATT_DIFF  REV_DIFF  CTRL_DIFF  \n",
       "0         0.056  0.047222           0.5       0.7      140.0  \n",
       "1         0.147 -0.403226           0.3       0.0     -111.5  \n",
       "2         0.055  0.370656           1.0       1.2      414.4  \n",
       "3        -0.216  0.150000          -0.7       0.0     -244.9  \n",
       "4         0.314 -0.393102           0.1       0.0       62.6  \n",
       "\n",
       "[5 rows x 78 columns]"
      ]
     },
     "execution_count": 4,
     "metadata": {},
     "output_type": "execute_result"
    }
   ],
   "source": [
    "ruta_test =  os.path.join(\"..\",\"..\", \"data\", \"processed\",\"test.parquet\")\n",
    "df_test= pd.read_parquet(ruta_test)\n",
    "df_test.head()"
   ]
  },
  {
   "cell_type": "code",
   "execution_count": 5,
   "metadata": {},
   "outputs": [
    {
     "data": {
      "text/plain": [
       "WINNER\n",
       "False    0.618167\n",
       "True     0.381833\n",
       "Name: proportion, dtype: float64"
      ]
     },
     "execution_count": 5,
     "metadata": {},
     "output_type": "execute_result"
    }
   ],
   "source": [
    "X_train = df_train.drop(columns=[\"DATE\",\"Peleador_A\",\"Peleador_B\",\"WINNER\"])\n",
    "y_train = df_train[\"WINNER\"]\n",
    "y_train.value_counts(normalize=True)"
   ]
  },
  {
   "cell_type": "code",
   "execution_count": 6,
   "metadata": {},
   "outputs": [
    {
     "data": {
      "text/plain": [
       "WINNER\n",
       "False    0.551724\n",
       "True     0.448276\n",
       "Name: proportion, dtype: float64"
      ]
     },
     "execution_count": 6,
     "metadata": {},
     "output_type": "execute_result"
    }
   ],
   "source": [
    "X_test = df_test.drop(columns=[\"DATE\",\"Peleador_A\",\"Peleador_B\",\"WINNER\"])\n",
    "y_test = df_test[\"WINNER\"]\n",
    "y_test.value_counts(normalize=True)"
   ]
  },
  {
   "cell_type": "markdown",
   "metadata": {},
   "source": [
    "En esta celda se define la función aplicarRFECV, que realiza selección automática de variables mediante RFECV (Recursive Feature Elimination con validación cruzada). Se utiliza regresión logística como estimador y TimeSeriesSplit para mantener el balance de clases en los folds. Este proceso elimina iterativamente las variables menos útiles, mejorando la generalización del modelo al quedarse solo con las más relevantes."
   ]
  },
  {
   "cell_type": "code",
   "execution_count": 16,
   "metadata": {},
   "outputs": [],
   "source": [
    "from sklearn.pipeline import Pipeline\n",
    "from sklearn.feature_selection import RFECV\n",
    "from sklearn.linear_model import LogisticRegression\n",
    "from sklearn.preprocessing import RobustScaler\n",
    "from sklearn.model_selection import TimeSeriesSplit\n",
    "import matplotlib.pyplot as plt\n",
    "\n",
    "def aplicarRFECV(X, y):\n",
    "    MIN_FEATURES = 5\n",
    "    METRICA = \"balanced_accuracy\"\n",
    "\n",
    "    # Pipeline con escalado + regresión logística\n",
    "    pipeline = Pipeline([\n",
    "        ('scaler', RobustScaler()),\n",
    "        ('clf', LogisticRegression(max_iter=5000, class_weight=\"balanced\"))\n",
    "    ])\n",
    "\n",
    "    # Validación cruzada temporal\n",
    "    cv = TimeSeriesSplit(n_splits=5)\n",
    "\n",
    "    # RFECV con importancia desde el coef_ del modelo\n",
    "    rfecv = RFECV(\n",
    "        estimator=pipeline,\n",
    "        step=1,\n",
    "        cv=cv,\n",
    "        scoring=METRICA,\n",
    "        min_features_to_select=MIN_FEATURES,\n",
    "        importance_getter=lambda est: est.named_steps[\"clf\"].coef_,\n",
    "        n_jobs=-1\n",
    "    )\n",
    "\n",
    "    # Ajustar\n",
    "    rfecv.fit(X, y)\n",
    "\n",
    "    # Obtener variables seleccionadas\n",
    "    num_optimal_features = rfecv.n_features_\n",
    "    print(\"Número óptimo de variables seleccionadas:\", num_optimal_features)\n",
    "\n",
    "    selected_feature_indices = rfecv.support_\n",
    "    selected_feature_names = [X.columns[i] for i, selected in enumerate(selected_feature_indices) if selected]\n",
    "\n",
    "    # Graficar evolución\n",
    "    n_scores = len(rfecv.cv_results_[\"mean_test_score\"])\n",
    "    plt.figure(figsize=(12, 6))\n",
    "    plt.xlabel(\"Número de variables elegidas\")\n",
    "    plt.ylabel(\"Media balanced accuracy en test\")\n",
    "    plt.errorbar(\n",
    "        range(MIN_FEATURES, n_scores + MIN_FEATURES),\n",
    "        rfecv.cv_results_[\"mean_test_score\"],\n",
    "        yerr=rfecv.cv_results_[\"std_test_score\"],\n",
    "    )\n",
    "    plt.title(\"RFE con validación cruzada\")\n",
    "    plt.grid()\n",
    "    plt.show()\n",
    "\n",
    "    return selected_feature_names"
   ]
  },
  {
   "cell_type": "code",
   "execution_count": 17,
   "metadata": {},
   "outputs": [],
   "source": [
    "variables_descartadas = [v for v in X_train.columns if X_train[v].std() == 0]\n",
    "\n",
    "X_train = X_train.drop(columns=variables_descartadas)\n",
    "X_test = X_test.drop(columns=variables_descartadas)"
   ]
  },
  {
   "cell_type": "code",
   "execution_count": 18,
   "metadata": {},
   "outputs": [
    {
     "name": "stdout",
     "output_type": "stream",
     "text": [
      "--- VARIABLES SELECCIONADAS ---\n",
      "['KD_A', 'KD_B', 'SIG_STR_A', 'SIG_STR_B', 'TD_PORC_A', 'TD_PORC_B', 'SUB_ATT_A', 'SUB_ATT_B', 'REV_A', 'REV_B', 'CTRL_A', 'CTRL_B', 'TOTAL_STR_A_x', 'TOTAL_STR_B_x', 'TOTAL_STR_A_y', 'TOTAL_STR_B_y', 'TD_A_x', 'TD_B_x', 'TD_A_y', 'TD_B_y', 'STR_HEAD_A_x', 'STR_HEAD_B_x', 'STR_HEAD_A_y', 'STR_HEAD_B_y', 'STR_BODY_A_x', 'STR_BODY_B_x', 'STR_BODY_A_y', 'STR_BODY_B_y', 'STR_LEG_A_x', 'STR_LEG_B_x', 'STR_LEG_A_y', 'STR_LEG_B_y', 'STR_DISTANCE_A_x', 'STR_DISTANCE_B_x', 'STR_DISTANCE_A_y', 'STR_DISTANCE_B_y', 'STR_CLINCH_A_x', 'STR_CLINCH_B_x', 'STR_CLINCH_A_y', 'STR_CLINCH_B_y', 'STR_GROUND_A_x', 'STR_GROUND_B_x', 'STR_GROUND_A_y', 'STR_GROUND_B_y', 'STRIKER_A', 'STRIKER_B', 'GRAPPLER_A', 'GRAPPLER_B', 'Record_A', 'Record_B', 'Peleas_A', 'Peleas_B', 'Puntos_A', 'Puntos_B', 'Racha_A', 'Racha_B', 'Victorias_KO_A', 'Victorias_KO_B', 'Victorias_Sub_A', 'Victorias_Sub_B', 'Victorias_Decision_A', 'Victorias_Decision_B', 'Derrotas_KO_A', 'Derrotas_KO_B', 'Derrotas_Sub_A', 'Derrotas_Sub_B', 'Derrotas_Decision_A', 'Derrotas_Decision_B', 'KD_DIFF', 'SIG_STR_DIFF', 'TD_DIFF', 'SUB_ATT_DIFF', 'REV_DIFF', 'CTRL_DIFF']\n"
     ]
    }
   ],
   "source": [
    "print(\"--- VARIABLES SELECCIONADAS ---\")\n",
    "print(X_train.columns.tolist())"
   ]
  },
  {
   "cell_type": "code",
   "execution_count": 19,
   "metadata": {},
   "outputs": [
    {
     "name": "stdout",
     "output_type": "stream",
     "text": [
      "Número óptimo de variables seleccionadas: 6\n"
     ]
    },
    {
     "data": {
      "image/png": "[encoded data removed]",
      "text/plain": [
       "<Figure size 1200x600 with 1 Axes>"
      ]
     },
     "metadata": {},
     "output_type": "display_data"
    }
   ],
   "source": [
    "selected_features = aplicarRFECV(X_train, y_train)\n",
    "\n",
    "# Filtrar columnas seleccionadas\n",
    "X_train = X_train[selected_features]\n",
    "X_test = X_test[selected_features]"
   ]
  },
  {
   "cell_type": "code",
   "execution_count": 20,
   "metadata": {},
   "outputs": [
    {
     "name": "stdout",
     "output_type": "stream",
     "text": [
      "Mejores hiperparámetros: {'clf__C': 100, 'clf__penalty': 'l1', 'clf__solver': 'liblinear'}\n",
      "Mejor F1-score (CV): 0.22189229681412853\n"
     ]
    }
   ],
   "source": [
    "# Crear pipeline: escalado + modelo\n",
    "pipeline = Pipeline([\n",
    "    ('scaler', RobustScaler()),\n",
    "    ('clf', LogisticRegression(max_iter=1000))\n",
    "])\n",
    "\n",
    "# Rejilla de hiperparámetros para el modelo dentro del pipeline\n",
    "param_grid = {\n",
    "    'clf__C': [0.01, 0.1, 1, 10, 100],         # Regularización\n",
    "    'clf__penalty': ['l1', 'l2'],              # Tipo de penalización\n",
    "    'clf__solver': ['liblinear']              # 'liblinear' soporta l1 y l2\n",
    "}\n",
    "\n",
    "# Validación cruzada temporal\n",
    "tscv = TimeSeriesSplit(n_splits=5)\n",
    "\n",
    "# Búsqueda de hiperparámetros\n",
    "grid_search = GridSearchCV(pipeline, param_grid, cv=tscv, scoring='f1', n_jobs=-1)\n",
    "\n",
    "# Entrenamiento\n",
    "grid_search.fit(X_train, y_train)\n",
    "\n",
    "# Resultados\n",
    "print(\"Mejores hiperparámetros:\", grid_search.best_params_)\n",
    "print(\"Mejor F1-score (CV):\", grid_search.best_score_)"
   ]
  },
  {
   "cell_type": "code",
   "execution_count": 21,
   "metadata": {},
   "outputs": [
    {
     "name": "stdout",
     "output_type": "stream",
     "text": [
      "\n",
      "F1-score en test: 0.2484472049689441\n",
      "\n",
      "Reporte de clasificación en test:\n",
      "               precision    recall  f1-score   support\n",
      "\n",
      "       False       0.55      0.83      0.66       288\n",
      "        True       0.45      0.17      0.25       234\n",
      "\n",
      "    accuracy                           0.54       522\n",
      "   macro avg       0.50      0.50      0.46       522\n",
      "weighted avg       0.51      0.54      0.48       522\n",
      "\n",
      "\n",
      "Matriz de confusión:\n",
      " [[240  48]\n",
      " [194  40]]\n"
     ]
    }
   ],
   "source": [
    "from sklearn.metrics import f1_score, classification_report, confusion_matrix\n",
    "\n",
    "# Obtener el mejor modelo\n",
    "mejor_modelo = grid_search.best_estimator_\n",
    "\n",
    "# Predecir en test\n",
    "y_pred_test = mejor_modelo.predict(X_test)\n",
    "\n",
    "# Evaluar rendimiento\n",
    "print(\"\\nF1-score en test:\", f1_score(y_test, y_pred_test))\n",
    "print(\"\\nReporte de clasificación en test:\\n\", classification_report(y_test, y_pred_test))\n",
    "print(\"\\nMatriz de confusión:\\n\", confusion_matrix(y_test, y_pred_test))"
   ]
  },
  {
   "cell_type": "code",
   "execution_count": 22,
   "metadata": {},
   "outputs": [
    {
     "data": {
      "image/png": "[encoded data removed]",
      "text/plain": [
       "<Figure size 640x480 with 2 Axes>"
      ]
     },
     "metadata": {},
     "output_type": "display_data"
    }
   ],
   "source": [
    "ConfusionMatrixDisplay.from_estimator(mejor_modelo, X_test, y_test, cmap='Blues')\n",
    "plt.title(\"Matriz de Confusión - Test\")\n",
    "plt.show()"
   ]
  },
  {
   "cell_type": "code",
   "execution_count": 23,
   "metadata": {},
   "outputs": [
    {
     "data": {
      "image/png": "[encoded data removed]",
      "text/plain": [
       "<Figure size 640x480 with 1 Axes>"
      ]
     },
     "metadata": {},
     "output_type": "display_data"
    }
   ],
   "source": [
    "from sklearn.metrics import roc_curve, auc\n",
    "\n",
    "# Asegurarse de que WINNER tenga solo 2 clases (por ejemplo, 0 y 1)\n",
    "# Probabilidades de clase positiva (1)\n",
    "y_scores = mejor_modelo.predict_proba(X_test)[:, 1]\n",
    "\n",
    "# Curva ROC\n",
    "fpr, tpr, _ = roc_curve(y_test, y_scores)\n",
    "roc_auc = auc(fpr, tpr)\n",
    "\n",
    "# Graficar\n",
    "plt.figure()\n",
    "plt.plot(fpr, tpr, label=f'ROC (AUC = {roc_auc:.2f})')\n",
    "plt.plot([0, 1], [0, 1], 'k--')  # Línea aleatoria\n",
    "plt.xlabel('Tasa de Falsos Positivos (FPR)')\n",
    "plt.ylabel('Tasa de Verdaderos Positivos (TPR)')\n",
    "plt.title('Curva ROC - Test')\n",
    "plt.legend(loc='lower right')\n",
    "plt.grid()\n",
    "plt.show()"
   ]
  },
  {
   "cell_type": "code",
   "execution_count": 24,
   "metadata": {},
   "outputs": [
    {
     "data": {
      "image/png": "[encoded data removed]",
      "text/plain": [
       "<Figure size 640x480 with 1 Axes>"
      ]
     },
     "metadata": {},
     "output_type": "display_data"
    }
   ],
   "source": [
    "from sklearn.metrics import precision_recall_curve\n",
    "\n",
    "precision, recall, _ = precision_recall_curve(y_test, y_scores)\n",
    "\n",
    "plt.figure()\n",
    "plt.plot(recall, precision, label=\"Curva Precision-Recall\")\n",
    "plt.xlabel(\"Recall\")\n",
    "plt.ylabel(\"Precision\")\n",
    "plt.title(\"Curva Precision-Recall - Test\")\n",
    "plt.legend()\n",
    "plt.grid()\n",
    "plt.show()"
   ]
  },
  {
   "cell_type": "code",
   "execution_count": 25,
   "metadata": {},
   "outputs": [
    {
     "name": "stdout",
     "output_type": "stream",
     "text": [
      "Accuracy: 0.5363984674329502\n",
      "Precision: 0.45454545454545453\n",
      "Recall: 0.17094017094017094\n",
      "F1 Score: 0.2484472049689441\n"
     ]
    }
   ],
   "source": [
    "from sklearn.metrics import accuracy_score, precision_score, recall_score, f1_score\n",
    "\n",
    "print(\"Accuracy:\", accuracy_score(y_test, y_pred_test))\n",
    "print(\"Precision:\", precision_score(y_test, y_pred_test))\n",
    "print(\"Recall:\", recall_score(y_test, y_pred_test))\n",
    "print(\"F1 Score:\", f1_score(y_test, y_pred_test))"
   ]
  }
 ],
 "metadata": {
  "kernelspec": {
   "display_name": ".venv",
   "language": "python",
   "name": "python3"
  },
  "language_info": {
   "codemirror_mode": {
    "name": "ipython",
    "version": 3
   },
   "file_extension": ".py",
   "mimetype": "text/x-python",
   "name": "python",
   "nbconvert_exporter": "python",
   "pygments_lexer": "ipython3",
   "version": "3.13.1"
  }
 },
 "nbformat": 4,
 "nbformat_minor": 2
}
