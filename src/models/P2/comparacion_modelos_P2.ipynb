{
 "cells": [
  {
   "cell_type": "markdown",
   "metadata": {},
   "source": [
    "Notebook para comparar los modelos hechos del dataset ponderado (P2)\n",
    "\n",
    "- **Tarea del backlog:** https://github.com/UCM-GIDIA-PD1/c2425-R4/issues/46\n",
    "- **Propósito del código:** Comparaciones de los modelos del dataframe de peleas ponderadas (P2).\n",
    "- **Autor(es):** Carlos Vallejo.  \n",
    "- **Descripción y uso:** El objetivo de este notebook es ver que modelo nos da el resultado más óptimo."
   ]
  },
  {
   "cell_type": "code",
   "execution_count": 32,
   "metadata": {},
   "outputs": [],
   "source": [
    "import os\n",
    "import pandas as pd\n",
    "import numpy as np\n",
    "import pandas as pd\n",
    "from sklearn.tree import DecisionTreeClassifier\n",
    "from sklearn.model_selection import GridSearchCV, RandomizedSearchCV, TimeSeriesSplit, cross_val_score\n",
    "from sklearn.utils.class_weight import compute_class_weight\n",
    "from sklearn.metrics import classification_report, confusion_matrix, accuracy_score,log_loss, f1_score, roc_auc_score, precision_score, recall_score, make_scorer, balanced_accuracy_score\n",
    "import seaborn as sns\n",
    "import matplotlib.pyplot as plt\n",
    "from xgboost import XGBClassifier\n",
    "from sklearn.inspection import permutation_importance\n",
    "import mlflow\n",
    "import optuna\n",
    "from sklearn.preprocessing import StandardScaler, PolynomialFeatures\n",
    "from sklearn.linear_model import LogisticRegression\n",
    "from sklearn.pipeline import make_pipeline\n"
   ]
  },
  {
   "cell_type": "markdown",
   "metadata": {},
   "source": [
    "### Carga y preprocesamiento de los datos\n",
    "\n",
    "Esta fase es global"
   ]
  },
  {
   "cell_type": "code",
   "execution_count": 4,
   "metadata": {},
   "outputs": [
    {
     "data": {
      "text/html": [
       "<div>\n",
       "<style scoped>\n",
       "    .dataframe tbody tr th:only-of-type {\n",
       "        vertical-align: middle;\n",
       "    }\n",
       "\n",
       "    .dataframe tbody tr th {\n",
       "        vertical-align: top;\n",
       "    }\n",
       "\n",
       "    .dataframe thead th {\n",
       "        text-align: right;\n",
       "    }\n",
       "</style>\n",
       "<table border=\"1\" class=\"dataframe\">\n",
       "  <thead>\n",
       "    <tr style=\"text-align: right;\">\n",
       "      <th></th>\n",
       "      <th>DATE</th>\n",
       "      <th>Peleador_A</th>\n",
       "      <th>Peleador_B</th>\n",
       "      <th>WINNER</th>\n",
       "      <th>KD_A</th>\n",
       "      <th>KD_B</th>\n",
       "      <th>SIG_STR_A</th>\n",
       "      <th>SIG_STR_B</th>\n",
       "      <th>TD_PORC_A</th>\n",
       "      <th>TD_PORC_B</th>\n",
       "      <th>...</th>\n",
       "      <th>Puntos_A</th>\n",
       "      <th>Puntos_B</th>\n",
       "      <th>Peleas_A</th>\n",
       "      <th>Peleas_B</th>\n",
       "      <th>KD_DIFF</th>\n",
       "      <th>SIG_STR_DIFF</th>\n",
       "      <th>TD_DIFF</th>\n",
       "      <th>SUB_ATT_DIFF</th>\n",
       "      <th>REV_DIFF</th>\n",
       "      <th>CTRL_DIFF</th>\n",
       "    </tr>\n",
       "  </thead>\n",
       "  <tbody>\n",
       "    <tr>\n",
       "      <th>0</th>\n",
       "      <td>2023-02-04</td>\n",
       "      <td>Derrick Lewis</td>\n",
       "      <td>Serghei Spivac</td>\n",
       "      <td>True</td>\n",
       "      <td>0.40</td>\n",
       "      <td>0.00</td>\n",
       "      <td>0.5864</td>\n",
       "      <td>0.3636</td>\n",
       "      <td>0.1200</td>\n",
       "      <td>0.4500</td>\n",
       "      <td>...</td>\n",
       "      <td>189.612060</td>\n",
       "      <td>8.036330e+01</td>\n",
       "      <td>25</td>\n",
       "      <td>9</td>\n",
       "      <td>0.40</td>\n",
       "      <td>0.2228</td>\n",
       "      <td>-0.307248</td>\n",
       "      <td>-0.36</td>\n",
       "      <td>0.0</td>\n",
       "      <td>-136.44</td>\n",
       "    </tr>\n",
       "    <tr>\n",
       "      <th>1</th>\n",
       "      <td>2023-02-04</td>\n",
       "      <td>Dooho Choi</td>\n",
       "      <td>Kyle Nelson</td>\n",
       "      <td>True</td>\n",
       "      <td>0.36</td>\n",
       "      <td>0.00</td>\n",
       "      <td>0.4824</td>\n",
       "      <td>0.6552</td>\n",
       "      <td>0.0800</td>\n",
       "      <td>0.0000</td>\n",
       "      <td>...</td>\n",
       "      <td>0.000000</td>\n",
       "      <td>0.000000e+00</td>\n",
       "      <td>6</td>\n",
       "      <td>5</td>\n",
       "      <td>0.36</td>\n",
       "      <td>-0.1728</td>\n",
       "      <td>0.133333</td>\n",
       "      <td>0.00</td>\n",
       "      <td>0.0</td>\n",
       "      <td>-61.20</td>\n",
       "    </tr>\n",
       "    <tr>\n",
       "      <th>2</th>\n",
       "      <td>2023-02-04</td>\n",
       "      <td>Marcin Tybura</td>\n",
       "      <td>Blagoy Ivanov</td>\n",
       "      <td>False</td>\n",
       "      <td>0.00</td>\n",
       "      <td>0.00</td>\n",
       "      <td>0.4276</td>\n",
       "      <td>0.5056</td>\n",
       "      <td>0.2000</td>\n",
       "      <td>0.2792</td>\n",
       "      <td>...</td>\n",
       "      <td>139.896213</td>\n",
       "      <td>2.207734e-07</td>\n",
       "      <td>16</td>\n",
       "      <td>6</td>\n",
       "      <td>0.00</td>\n",
       "      <td>-0.0780</td>\n",
       "      <td>-0.188071</td>\n",
       "      <td>-0.40</td>\n",
       "      <td>0.0</td>\n",
       "      <td>-56.72</td>\n",
       "    </tr>\n",
       "    <tr>\n",
       "      <th>3</th>\n",
       "      <td>2023-02-11</td>\n",
       "      <td>Tyson Pedro</td>\n",
       "      <td>Modestas Bukauskas</td>\n",
       "      <td>True</td>\n",
       "      <td>0.60</td>\n",
       "      <td>0.00</td>\n",
       "      <td>0.6544</td>\n",
       "      <td>0.4112</td>\n",
       "      <td>0.0000</td>\n",
       "      <td>0.0000</td>\n",
       "      <td>...</td>\n",
       "      <td>24.394312</td>\n",
       "      <td>0.000000e+00</td>\n",
       "      <td>8</td>\n",
       "      <td>4</td>\n",
       "      <td>0.60</td>\n",
       "      <td>0.2432</td>\n",
       "      <td>0.000000</td>\n",
       "      <td>0.40</td>\n",
       "      <td>0.0</td>\n",
       "      <td>16.88</td>\n",
       "    </tr>\n",
       "    <tr>\n",
       "      <th>4</th>\n",
       "      <td>2023-02-11</td>\n",
       "      <td>Islam Makhachev</td>\n",
       "      <td>Alexander Volkanovski</td>\n",
       "      <td>False</td>\n",
       "      <td>0.36</td>\n",
       "      <td>0.24</td>\n",
       "      <td>0.6300</td>\n",
       "      <td>0.5844</td>\n",
       "      <td>0.7576</td>\n",
       "      <td>0.1200</td>\n",
       "      <td>...</td>\n",
       "      <td>322.872251</td>\n",
       "      <td>5.342818e+02</td>\n",
       "      <td>13</td>\n",
       "      <td>12</td>\n",
       "      <td>0.12</td>\n",
       "      <td>0.0456</td>\n",
       "      <td>0.130692</td>\n",
       "      <td>1.16</td>\n",
       "      <td>-0.8</td>\n",
       "      <td>5.28</td>\n",
       "    </tr>\n",
       "  </tbody>\n",
       "</table>\n",
       "<p>5 rows × 78 columns</p>\n",
       "</div>"
      ],
      "text/plain": [
       "        DATE       Peleador_A             Peleador_B  WINNER  KD_A  KD_B  \\\n",
       "0 2023-02-04    Derrick Lewis         Serghei Spivac    True  0.40  0.00   \n",
       "1 2023-02-04       Dooho Choi            Kyle Nelson    True  0.36  0.00   \n",
       "2 2023-02-04    Marcin Tybura          Blagoy Ivanov   False  0.00  0.00   \n",
       "3 2023-02-11      Tyson Pedro     Modestas Bukauskas    True  0.60  0.00   \n",
       "4 2023-02-11  Islam Makhachev  Alexander Volkanovski   False  0.36  0.24   \n",
       "\n",
       "   SIG_STR_A  SIG_STR_B  TD_PORC_A  TD_PORC_B  ...    Puntos_A      Puntos_B  \\\n",
       "0     0.5864     0.3636     0.1200     0.4500  ...  189.612060  8.036330e+01   \n",
       "1     0.4824     0.6552     0.0800     0.0000  ...    0.000000  0.000000e+00   \n",
       "2     0.4276     0.5056     0.2000     0.2792  ...  139.896213  2.207734e-07   \n",
       "3     0.6544     0.4112     0.0000     0.0000  ...   24.394312  0.000000e+00   \n",
       "4     0.6300     0.5844     0.7576     0.1200  ...  322.872251  5.342818e+02   \n",
       "\n",
       "   Peleas_A  Peleas_B  KD_DIFF  SIG_STR_DIFF   TD_DIFF  SUB_ATT_DIFF  \\\n",
       "0        25         9     0.40        0.2228 -0.307248         -0.36   \n",
       "1         6         5     0.36       -0.1728  0.133333          0.00   \n",
       "2        16         6     0.00       -0.0780 -0.188071         -0.40   \n",
       "3         8         4     0.60        0.2432  0.000000          0.40   \n",
       "4        13        12     0.12        0.0456  0.130692          1.16   \n",
       "\n",
       "   REV_DIFF  CTRL_DIFF  \n",
       "0       0.0    -136.44  \n",
       "1       0.0     -61.20  \n",
       "2       0.0     -56.72  \n",
       "3       0.0      16.88  \n",
       "4      -0.8       5.28  \n",
       "\n",
       "[5 rows x 78 columns]"
      ]
     },
     "execution_count": 4,
     "metadata": {},
     "output_type": "execute_result"
    }
   ],
   "source": [
    "ruta_train =  os.path.join(\"..\",\"..\",\"..\", \"data\", \"P2\",\"train.parquet\")\n",
    "train = pd.read_parquet(ruta_train)\n",
    "\n",
    "ruta_test =  os.path.join(\"..\",\"..\",\"..\", \"data\", \"P2\",\"test.parquet\")\n",
    "test = pd.read_parquet(ruta_test)\n",
    "\n",
    "test.head()"
   ]
  },
  {
   "cell_type": "markdown",
   "metadata": {},
   "source": [
    "## Árbol de decisión"
   ]
  },
  {
   "cell_type": "markdown",
   "metadata": {},
   "source": [
    "Primero seleccionamos las variables a utilizar. En el caso del árbol escogemos todas excepto los nombres de los peleadores y la fecha de la pelea."
   ]
  },
  {
   "cell_type": "code",
   "execution_count": null,
   "metadata": {},
   "outputs": [],
   "source": [
    "columnasQuitar = [\"DATE\",\"Peleador_A\",\"Peleador_B\", \"WINNER\"]\n",
    "\n",
    "X_train_arbol = train.drop(columns=columnasQuitar)\n",
    "y_train_arbol = train['WINNER']\n",
    "X_test_arbol = test.drop(columns=columnasQuitar)\n",
    "y_test_arbol = test['WINNER']"
   ]
  },
  {
   "cell_type": "markdown",
   "metadata": {},
   "source": [
    "Ahora creamos el modelo teniendo en cuenta los hiperparámetros utilizados para crear el modelo más óptimo."
   ]
  },
  {
   "cell_type": "code",
   "execution_count": 16,
   "metadata": {},
   "outputs": [
    {
     "name": "stdout",
     "output_type": "stream",
     "text": [
      "Fitting 5 folds for each of 1 candidates, totalling 5 fits\n"
     ]
    }
   ],
   "source": [
    "class_weights = compute_class_weight('balanced', classes=np.unique(y_train_arbol), y=y_train_arbol)\n",
    "class_weight_dict = {i: class_weights[i] for i in range(len(class_weights))}\n",
    "tscv = TimeSeriesSplit(n_splits=5)\n",
    "\n",
    "# Definir modelo base\n",
    "dt = DecisionTreeClassifier(random_state=42)\n",
    "\n",
    "# Cuadrícula de hiperparámetros\n",
    "param_grid = {\n",
    "    'criterion': ['gini'],  # Función para medir la calidad de la división\n",
    "    'max_depth': [5],  # Profundidad máxima del árbol\n",
    "    'min_samples_split': [2],  # Mínimo de muestras para dividir un nodo\n",
    "    'min_samples_leaf': [1],  # Mínimo de muestras en una hoja\n",
    "    'min_weight_fraction_leaf': [0.10],\n",
    "    'splitter': ['best'],\n",
    "    'class_weight': [None],  # Ajuste de pesos por clase\n",
    "    'max_features': [None]\n",
    "}\n",
    "    \n",
    "f1_scorer = make_scorer(f1_score, average='macro')\n",
    "\n",
    "# Búsqueda de hiperparámetros con validación cruzada\n",
    "grid_search = GridSearchCV(\n",
    "    estimator=dt,\n",
    "    param_grid=param_grid,\n",
    "    scoring= f1_scorer,\n",
    "    cv=tscv,\n",
    "    n_jobs=-1,\n",
    "    verbose=2\n",
    ")\n",
    "\n",
    "# Entrenar el modelo\n",
    "arbol = grid_search.fit(X_train_arbol, y_train_arbol)\n"
   ]
  },
  {
   "cell_type": "markdown",
   "metadata": {},
   "source": [
    "## XGboost"
   ]
  },
  {
   "cell_type": "markdown",
   "metadata": {},
   "source": [
    "Las variables seleccionadas son las mismas que en el árbol de decisión."
   ]
  },
  {
   "cell_type": "code",
   "execution_count": 18,
   "metadata": {},
   "outputs": [],
   "source": [
    "columnasQuitar = [\"DATE\",\"Peleador_A\",\"Peleador_B\", \"WINNER\"]\n",
    "\n",
    "X_train_xgboost = train.drop(columns=columnasQuitar)\n",
    "y_train_xgboost = train['WINNER']\n",
    "X_test_xgboost = test.drop(columns=columnasQuitar)\n",
    "y_test_xgboost = test['WINNER']"
   ]
  },
  {
   "cell_type": "markdown",
   "metadata": {},
   "source": [
    "Creamos el modelo teniendo en cuenta los mejores parámetros obtenidos en el notebook \"XGBoost_pond.ipynb\""
   ]
  },
  {
   "cell_type": "code",
   "execution_count": null,
   "metadata": {},
   "outputs": [],
   "source": [
    "# Parámetros fijos\n",
    "params = {\n",
    "    'n_estimators': 350,\n",
    "    'max_depth': 37,\n",
    "    'learning_rate': 0.014525356301837976,\n",
    "    'subsample': 0.6223758299538741,\n",
    "    'colsample_bytree': 0.5603666759669468,\n",
    "    'gamma': 0.4820740200787993,\n",
    "    'min_child_weight': 31,  \n",
    "    'scale_pos_weight': np.float64(1.2905829596412555),\n",
    "    'reg_alpha': 0.1,\n",
    "    'tree_method': 'exact',\n",
    "    'grow_policy': 'lossguide',\n",
    "    'random_state': 42\n",
    "}\n",
    "\n",
    "tscv = TimeSeriesSplit(n_splits=5)\n",
    "model = XGBClassifier(**params)\n",
    "\n",
    "xgboost = model.fit(X_train_xgboost, y_train_xgboost)\n",
    "\n",
    "    "
   ]
  },
  {
   "cell_type": "markdown",
   "metadata": {},
   "source": [
    "## Regresión logística"
   ]
  },
  {
   "cell_type": "markdown",
   "metadata": {},
   "source": [
    "En regresión logística sí eliminamos variables (para ver el proceso, está en \"regresion_logistica_P2_telmo.ipynb\")."
   ]
  },
  {
   "cell_type": "code",
   "execution_count": 30,
   "metadata": {},
   "outputs": [],
   "source": [
    "columnasQuitar = [\"DATE\",\"Peleador_A\",\"Peleador_B\", \"WINNER\",'TD_B_y', 'GRAPPLER_B', 'STR_CLINCH_A_y', 'GRAPPLER_A', 'STR_HEAD_B_y', 'TD_A_y', 'STR_BODY_B_y', 'STR_HEAD_B_x', 'STR_DISTANCE_A_x', 'STR_HEAD_A_y', 'TOTAL_STR_B_y', 'STR_HEAD_A_x', 'STR_DISTANCE_A_y', 'STR_CLINCH_B_y', 'TOTAL_STR_A_y', 'STR_GROUND_B_y', 'STR_DISTANCE_B_x', 'STR_DISTANCE_B_y', 'TD_A_x', 'STR_GROUND_A_y', 'STR_BODY_A_y']\n",
    "\n",
    "X_train_rl = train.drop(columns=columnasQuitar)\n",
    "y_train_rl = train['WINNER']\n",
    "X_test_rl = test.drop(columns=columnasQuitar)\n",
    "y_test_rl = test['WINNER']"
   ]
  },
  {
   "cell_type": "code",
   "execution_count": 34,
   "metadata": {},
   "outputs": [
    {
     "name": "stderr",
     "output_type": "stream",
     "text": [
      "c:\\Users\\Equipo\\Documents\\GitHub\\c2425-R4\\.venv\\Lib\\site-packages\\sklearn\\linear_model\\_sag.py:348: ConvergenceWarning: The max_iter was reached which means the coef_ did not converge\n",
      "  warnings.warn(\n"
     ]
    }
   ],
   "source": [
    "model = LogisticRegression(\n",
    "    random_state=42,\n",
    "    max_iter=1000,  # Aumentamos las iteraciones para asegurar convergencia\n",
    "    solver='saga',  # 'saga' soporta L1 y L2\n",
    "    C=0.6556635377191836,  # Valor específico para C\n",
    "    penalty='l1'  # Usamos L1 como penalización\n",
    ")\n",
    "\n",
    "# Pipeline sin características polinomiales si no es necesario\n",
    "pipeline = make_pipeline(\n",
    "    model\n",
    ")\n",
    "\n",
    "# Ajustar el modelo con los datos de entrenamiento\n",
    "rl = pipeline.fit(X_train_rl, y_train_rl)\n"
   ]
  }
 ],
 "metadata": {
  "kernelspec": {
   "display_name": ".venv",
   "language": "python",
   "name": "python3"
  },
  "language_info": {
   "codemirror_mode": {
    "name": "ipython",
    "version": 3
   },
   "file_extension": ".py",
   "mimetype": "text/x-python",
   "name": "python",
   "nbconvert_exporter": "python",
   "pygments_lexer": "ipython3",
   "version": "3.13.1"
  }
 },
 "nbformat": 4,
 "nbformat_minor": 2
}
