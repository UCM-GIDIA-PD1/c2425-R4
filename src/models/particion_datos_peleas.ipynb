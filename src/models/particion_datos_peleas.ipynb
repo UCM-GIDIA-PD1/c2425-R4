{
 "cells": [
  {
   "cell_type": "code",
   "execution_count": null,
   "metadata": {},
   "outputs": [],
   "source": [
    "#Autor: Andrés\n",
    "#Tarea: https://github.com/UCM-GIDIA-PD1/c2425-R4/issues/15\n",
    "#Objetivo: crear particiones de datos para entrener modelos (train, validation, test)\n",
    "#Descripción y uso: en primer lugar lee el data frame de peleas de la carpeta data se dividen el conjuntos\n",
    "#de datos en tres subconjuntos y se guardan en parquets. Para usarlo simplemente ejecutar el archivo.\n",
    "#Estado actual: terminado"
   ]
  },
  {
   "cell_type": "code",
   "execution_count": 5,
   "metadata": {},
   "outputs": [],
   "source": [
    "import pandas as pd\n",
    "import os"
   ]
  },
  {
   "cell_type": "code",
   "execution_count": 6,
   "metadata": {},
   "outputs": [],
   "source": [
    "ruta = os.path.join(os.getcwd(), \"..\", \"..\", \"data\", \"processed\", \"peleas.parquet\")\n",
    "df = pd.read_parquet(ruta)"
   ]
  },
  {
   "cell_type": "code",
   "execution_count": 7,
   "metadata": {},
   "outputs": [
    {
     "name": "stdout",
     "output_type": "stream",
     "text": [
      "Train: 5490\n",
      "Validation: 1177\n",
      "Test: 1177\n"
     ]
    }
   ],
   "source": [
    "from sklearn.model_selection import train_test_split\n",
    "\n",
    "# Primero, dividimos en train (70%) y temp (30%)\n",
    "df_train, temp_df = train_test_split(df, test_size=0.3, random_state=42)\n",
    "\n",
    "# Luego, dividimos temp en validation (15%) y test (15%)\n",
    "df_val, df_test = train_test_split(temp_df, test_size=0.5, random_state=42)\n",
    "\n",
    "# Verificamos tamaños\n",
    "print(f'Train: {len(df_train)}')\n",
    "print(f'Validation: {len(df_val)}')\n",
    "print(f'Test: {len(df_test)}')\n"
   ]
  },
  {
   "cell_type": "code",
   "execution_count": 8,
   "metadata": {},
   "outputs": [],
   "source": [
    "base_dir = os.path.join(os.getcwd(), \"..\", \"..\", \"data\")\n",
    "ruta_partition = os.path.join(base_dir, \"P1\")\n",
    "\n",
    "os.makedirs(ruta_partition, exist_ok=True)\n",
    "\n",
    "df_train.to_parquet(os.path.join(ruta_partition, \"train.parquet\"), index = False)\n",
    "df_val.to_parquet(os.path.join(ruta_partition, \"validation.parquet\"), index = False)\n",
    "df_test.to_parquet(os.path.join(ruta_partition, \"test.parquet\"), index = False)"
   ]
  }
 ],
 "metadata": {
  "kernelspec": {
   "display_name": ".venv",
   "language": "python",
   "name": "python3"
  },
  "language_info": {
   "codemirror_mode": {
    "name": "ipython",
    "version": 3
   },
   "file_extension": ".py",
   "mimetype": "text/x-python",
   "name": "python",
   "nbconvert_exporter": "python",
   "pygments_lexer": "ipython3",
   "version": "3.13.1"
  }
 },
 "nbformat": 4,
 "nbformat_minor": 2
}
