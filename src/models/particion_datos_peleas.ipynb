{
 "cells": [
  {
   "cell_type": "code",
   "execution_count": 6,
   "metadata": {},
   "outputs": [],
   "source": [
    "#Autor: Andrés\n",
    "#Tarea: https://github.com/UCM-GIDIA-PD1/c2425-R4/issues/15\n",
    "#Objetivo: crear particiones de datos para entrener modelos (train, validation, test)\n",
    "#Descripción y uso: en primer lugar lee el data frame de peleas de la carpeta data se dividen el conjuntos\n",
    "#de datos en tres subconjuntos y se guardan en parquets. Para usarlo simplemente ejecutar el archivo.\n",
    "#Estado actual: terminado"
   ]
  },
  {
   "cell_type": "code",
   "execution_count": 1,
   "metadata": {},
   "outputs": [],
   "source": [
    "import pandas as pd\n",
    "import os"
   ]
  },
  {
   "cell_type": "code",
   "execution_count": 2,
   "metadata": {},
   "outputs": [],
   "source": [
    "ruta = os.path.join(os.getcwd(), \"..\", \"..\", \"data\", \"processed\", \"peleas.parquet\")\n",
    "df = pd.read_parquet(ruta)"
   ]
  },
  {
   "cell_type": "code",
   "execution_count": 3,
   "metadata": {},
   "outputs": [
    {
     "name": "stdout",
     "output_type": "stream",
     "text": [
      "df_peleas: 7844 muestras (100%) | Distribución: {False: 0.63, True: 0.37}\n"
     ]
    }
   ],
   "source": [
    "# Verificar tamaños y balance\n",
    "def check_distribution(data, name):\n",
    "    total = len(data)\n",
    "    class_dist = data[\"WINNER\"].value_counts(normalize=True).round(2)\n",
    "    print(f\"{name}: {total} muestras ({total/len(df):.0%}) | Distribución: {class_dist.to_dict()}\")\n",
    "    \n",
    "check_distribution(df, \"df_peleas\")"
   ]
  },
  {
   "cell_type": "code",
   "execution_count": 4,
   "metadata": {},
   "outputs": [
    {
     "name": "stdout",
     "output_type": "stream",
     "text": [
      "Train: 5490\n",
      "Test: 2354\n"
     ]
    }
   ],
   "source": [
    "from sklearn.model_selection import train_test_split\n",
    "\n",
    "# Primero, dividimos en train (70%) y test (30%)\n",
    "df_train, df_test = train_test_split(df, test_size=0.3, random_state=42)\n",
    "\n",
    "\n",
    "# Verificamos tamaños\n",
    "print(f'Train: {len(df_train)}')\n",
    "print(f'Test: {len(df_test)}')\n"
   ]
  },
  {
   "cell_type": "code",
   "execution_count": 5,
   "metadata": {},
   "outputs": [],
   "source": [
    "base_dir = os.path.join(os.getcwd(), \"..\", \"..\", \"data\")\n",
    "ruta_partition = os.path.join(base_dir, \"P1\")\n",
    "\n",
    "os.makedirs(ruta_partition, exist_ok=True)\n",
    "\n",
    "df_train.to_parquet(os.path.join(ruta_partition, \"train.parquet\"), index = False)\n",
    "df_test.to_parquet(os.path.join(ruta_partition, \"test.parquet\"), index = False)"
   ]
  }
 ],
 "metadata": {
  "kernelspec": {
   "display_name": "Python 3",
   "language": "python",
   "name": "python3"
  },
  "language_info": {
   "codemirror_mode": {
    "name": "ipython",
    "version": 3
   },
   "file_extension": ".py",
   "mimetype": "text/x-python",
   "name": "python",
   "nbconvert_exporter": "python",
   "pygments_lexer": "ipython3",
   "version": "3.12.8"
  }
 },
 "nbformat": 4,
 "nbformat_minor": 2
}
